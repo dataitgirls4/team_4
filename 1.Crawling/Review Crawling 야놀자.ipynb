{
 "cells": [
  {
   "cell_type": "markdown",
   "metadata": {},
   "source": [
    "## 크롤링에 들어가기 전\n",
    "작업자의 크롬과 동일한 버전의 chromedriver 설치하여, 작업 파일과 동일한 폴더에 넣어주어야 합니다.\n",
    "\n",
    "1) <a href='chrome://settings/help'> 크롬 버전 확인 </a>\n",
    "2) <a href='https://chromedriver.chromium.org/downloads'> chromedriver 설치<a/>"
   ]
  },
  {
   "cell_type": "markdown",
   "metadata": {},
   "source": [
    "## 필요한 라이브러리 import"
   ]
  },
  {
   "cell_type": "code",
   "execution_count": 1,
   "metadata": {},
   "outputs": [],
   "source": [
    "from selenium import webdriver\n",
    "import time\n",
    "import pandas as pd\n",
    "from bs4 import BeautifulSoup\n",
    "import datetime\n",
    "from datetime import timedelta"
   ]
  },
  {
   "cell_type": "markdown",
   "metadata": {},
   "source": [
    "```python\n",
    "# location = input('지역을 입력하세요: ')\n",
    "def yanolja(location):\n",
    "    driver = webdriver.Chrome('./chromedriver')\n",
    "    driver.get('https://www.yanolja.com/hotel')\n",
    "```"
   ]
  },
  {
   "cell_type": "markdown",
   "metadata": {},
   "source": [
    "##  크롤링 함수"
   ]
  },
  {
   "cell_type": "code",
   "execution_count": 11,
   "metadata": {
    "scrolled": true
   },
   "outputs": [],
   "source": [
    "def yanolja_crawl(url):\n",
    "    global df # 전역 변수를 지역 범위에서 적용\n",
    "    driver.get(url)\n",
    "\n",
    "    hotel = driver.find_element_by_css_selector('section.PlaceDetailTitle_titleContainer__3sGdf h1').text\n",
    "    hotel = hotel.replace(\"[★숙박대전] \", \"\")\n",
    "\n",
    "    # 리뷰 페이지 클릭 (Click review page)\n",
    "    driver.find_element_by_css_selector('section.PlaceDetailTitle_titleContainer__3sGdf > a').click()\n",
    "\n",
    "    # 무한 스크롤\n",
    "    import time\n",
    "    time.sleep(1)\n",
    "\n",
    "    SCROLL_PAUSE_TIME = 1.5\n",
    "\n",
    "    # Get scroll height\n",
    "    last_height = driver.execute_script(\"return document.body.scrollHeight\")\n",
    "\n",
    "    while True:\n",
    "        # Scroll down to bottom\n",
    "        driver.execute_script(\"window.scrollTo(0, document.body.scrollHeight);\")\n",
    "\n",
    "        # Wait to load page\n",
    "        time.sleep(SCROLL_PAUSE_TIME)\n",
    "        driver.execute_script(\"window.scrollTo(0, document.body.scrollHeight-50);\")\n",
    "        time.sleep(SCROLL_PAUSE_TIME)\n",
    "\n",
    "        # Calculate new scroll height and compare with last scroll height\n",
    "        new_height = driver.execute_script(\"return document.body.scrollHeight\")\n",
    "\n",
    "        if new_height == last_height:\n",
    "            break\n",
    "\n",
    "        last_height = new_height\n",
    "\n",
    "    # 스크롤 끝나고 페이지 elements 가져오기\n",
    "    raw = driver.page_source # 페이지의 elements 모두 가져오기\n",
    "    html = BeautifulSoup(raw, \"html.parser\")\n",
    "\n",
    "    # 리뷰 텍스트 선택자: div.item-wrap\n",
    "    reviews = html.select(\"div.item-wrap\")\n",
    "\n",
    "    columns = ['hotel', 'star', 'review', 'date']\n",
    "\n",
    "    for r in reviews:\n",
    "        review = r.select_one(\"p\")\n",
    "        date = r.select_one('time')\n",
    "\n",
    "        stars = r.select('.container.score')\n",
    "        for s in stars:\n",
    "            star_count = 5 - len(s.select(\".ico.gray\"))\n",
    "\n",
    "        df = df.append(pd.DataFrame([[hotel, star_count, review.text, date.text]], columns = columns),\n",
    "                       ignore_index=True)\n",
    "    \n",
    "def change_date(x):\n",
    "    now = datetime.datetime.today()\n",
    "    today = now.strftime(\"%Y. %m. %d\")\n",
    "    yesterday = (now - timedelta(days=1)).strftime(\"%Y. %m. %d\")\n",
    "    _2days_ago = (now - timedelta(days = 2)).strftime(\"%Y. %m. %d\")\n",
    "    _3days_ago = (now - timedelta(days = 3)).strftime(\"%Y. %m. %d\")\n",
    "    hour = int(datetime.datetime.today().strftime(\"%H\"))\n",
    "    if \"시간 전\" in x:\n",
    "        x = int(x.replace(\"시간 전\", \"\"))\n",
    "        if hour - x > 0: return today\n",
    "        else: return yesterday\n",
    "    elif \"일 전\" in x:\n",
    "        if \"1\" in x: return yesterday\n",
    "        elif \"2\" in x: return _2days_ago\n",
    "        else: return _3days_ago\n",
    "    else: return x"
   ]
  },
  {
   "cell_type": "markdown",
   "metadata": {},
   "source": [
    "## 데이터 프레임에 크롤링 데이터 담아주기"
   ]
  },
  {
   "cell_type": "code",
   "execution_count": 7,
   "metadata": {},
   "outputs": [],
   "source": [
    "url_list = [# \"https://www.yanolja.com/hotel/3001542\", # 신라스테이 광화문\n",
    "            # \"https://www.yanolja.com/hotel/3009497\", # 나인트리 프리미어 명동2\n",
    "            # \"https://www.yanolja.com/hotel/3008478\", # 롯데 호텔 서울\n",
    "            # \"https://www.yanolja.com/hotel/3000775\" # 그랜드 워커힐 서울\n",
    "            \"https://www.yanolja.com/hotel/3015391\" # 노보텔 용산\n",
    "           ]\n",
    "\n",
    "columns = ['hotel', 'star', 'review', 'date']\n",
    "df = pd.DataFrame(columns = columns) # 데이터프레임 생성"
   ]
  },
  {
   "cell_type": "code",
   "execution_count": 12,
   "metadata": {},
   "outputs": [],
   "source": [
    "driver = webdriver.Chrome('./chromedriver')\n",
    "for url in url_list:\n",
    "    yanolja_crawl(url)\n",
    "\n",
    "# driver.close()"
   ]
  },
  {
   "cell_type": "code",
   "execution_count": 7,
   "metadata": {},
   "outputs": [],
   "source": [
    "df['real_date'] = df['date'].apply(change_date)"
   ]
  },
  {
   "cell_type": "code",
   "execution_count": 8,
   "metadata": {},
   "outputs": [
    {
     "data": {
      "text/html": [
       "<div>\n",
       "<style scoped>\n",
       "    .dataframe tbody tr th:only-of-type {\n",
       "        vertical-align: middle;\n",
       "    }\n",
       "\n",
       "    .dataframe tbody tr th {\n",
       "        vertical-align: top;\n",
       "    }\n",
       "\n",
       "    .dataframe thead th {\n",
       "        text-align: right;\n",
       "    }\n",
       "</style>\n",
       "<table border=\"1\" class=\"dataframe\">\n",
       "  <thead>\n",
       "    <tr style=\"text-align: right;\">\n",
       "      <th></th>\n",
       "      <th>hotel</th>\n",
       "      <th>star</th>\n",
       "      <th>review</th>\n",
       "      <th>date</th>\n",
       "      <th>real_date</th>\n",
       "    </tr>\n",
       "  </thead>\n",
       "  <tbody>\n",
       "    <tr>\n",
       "      <th>0</th>\n",
       "      <td>노보텔 앰배서더 서울 용산</td>\n",
       "      <td>5</td>\n",
       "      <td>역시 시설도 깨끗하고 좋았어요\\n친절했구요</td>\n",
       "      <td>15시간 전</td>\n",
       "      <td>2020. 12. 02</td>\n",
       "    </tr>\n",
       "    <tr>\n",
       "      <th>1</th>\n",
       "      <td>노보텔 앰배서더 서울 용산</td>\n",
       "      <td>4</td>\n",
       "      <td>되게좋앗어요</td>\n",
       "      <td>20시간 전</td>\n",
       "      <td>2020. 12. 01</td>\n",
       "    </tr>\n",
       "    <tr>\n",
       "      <th>2</th>\n",
       "      <td>노보텔 앰배서더 서울 용산</td>\n",
       "      <td>5</td>\n",
       "      <td>방도 깨끗하고 위치도 좋았습니다!</td>\n",
       "      <td>23시간 전</td>\n",
       "      <td>2020. 12. 01</td>\n",
       "    </tr>\n",
       "    <tr>\n",
       "      <th>3</th>\n",
       "      <td>노보텔 앰배서더 서울 용산</td>\n",
       "      <td>4</td>\n",
       "      <td>가성비도 좋고 분위기가 좋아요</td>\n",
       "      <td>1일 전</td>\n",
       "      <td>2020. 12. 01</td>\n",
       "    </tr>\n",
       "    <tr>\n",
       "      <th>4</th>\n",
       "      <td>노보텔 앰배서더 서울 용산</td>\n",
       "      <td>3</td>\n",
       "      <td>안녕하세요</td>\n",
       "      <td>1일 전</td>\n",
       "      <td>2020. 12. 01</td>\n",
       "    </tr>\n",
       "    <tr>\n",
       "      <th>...</th>\n",
       "      <td>...</td>\n",
       "      <td>...</td>\n",
       "      <td>...</td>\n",
       "      <td>...</td>\n",
       "      <td>...</td>\n",
       "    </tr>\n",
       "    <tr>\n",
       "      <th>2238</th>\n",
       "      <td>노보텔 앰배서더 서울 용산</td>\n",
       "      <td>5</td>\n",
       "      <td>좋아요 너무너무</td>\n",
       "      <td>2018. 07. 31</td>\n",
       "      <td>2018. 07. 31</td>\n",
       "    </tr>\n",
       "    <tr>\n",
       "      <th>2239</th>\n",
       "      <td>노보텔 앰배서더 서울 용산</td>\n",
       "      <td>5</td>\n",
       "      <td>체크인이 오래걸려요</td>\n",
       "      <td>2018. 07. 29</td>\n",
       "      <td>2018. 07. 29</td>\n",
       "    </tr>\n",
       "    <tr>\n",
       "      <th>2240</th>\n",
       "      <td>노보텔 앰배서더 서울 용산</td>\n",
       "      <td>5</td>\n",
       "      <td>위치랑 방도 깨끗하고 좋네요</td>\n",
       "      <td>2018. 07. 27</td>\n",
       "      <td>2018. 07. 27</td>\n",
       "    </tr>\n",
       "    <tr>\n",
       "      <th>2241</th>\n",
       "      <td>노보텔 앰배서더 서울 용산</td>\n",
       "      <td>5</td>\n",
       "      <td>깨끗하고 침대 너무 좋아요 다음에 또 이용할거에요</td>\n",
       "      <td>2018. 07. 23</td>\n",
       "      <td>2018. 07. 23</td>\n",
       "    </tr>\n",
       "    <tr>\n",
       "      <th>2242</th>\n",
       "      <td>노보텔 앰배서더 서울 용산</td>\n",
       "      <td>5</td>\n",
       "      <td>위치,서비스,룸컨디션,인테리어\\n다좋았는데 방음에 취약했어요~\\n주말이라 가족단위 ...</td>\n",
       "      <td>2018. 07. 22</td>\n",
       "      <td>2018. 07. 22</td>\n",
       "    </tr>\n",
       "  </tbody>\n",
       "</table>\n",
       "<p>2243 rows × 5 columns</p>\n",
       "</div>"
      ],
      "text/plain": [
       "               hotel star                                             review  \\\n",
       "0     노보텔 앰배서더 서울 용산    5                            역시 시설도 깨끗하고 좋았어요\\n친절했구요   \n",
       "1     노보텔 앰배서더 서울 용산    4                                             되게좋앗어요   \n",
       "2     노보텔 앰배서더 서울 용산    5                                 방도 깨끗하고 위치도 좋았습니다!   \n",
       "3     노보텔 앰배서더 서울 용산    4                                   가성비도 좋고 분위기가 좋아요   \n",
       "4     노보텔 앰배서더 서울 용산    3                                              안녕하세요   \n",
       "...              ...  ...                                                ...   \n",
       "2238  노보텔 앰배서더 서울 용산    5                                           좋아요 너무너무   \n",
       "2239  노보텔 앰배서더 서울 용산    5                                         체크인이 오래걸려요   \n",
       "2240  노보텔 앰배서더 서울 용산    5                                    위치랑 방도 깨끗하고 좋네요   \n",
       "2241  노보텔 앰배서더 서울 용산    5                        깨끗하고 침대 너무 좋아요 다음에 또 이용할거에요   \n",
       "2242  노보텔 앰배서더 서울 용산    5  위치,서비스,룸컨디션,인테리어\\n다좋았는데 방음에 취약했어요~\\n주말이라 가족단위 ...   \n",
       "\n",
       "              date     real_date  \n",
       "0           15시간 전  2020. 12. 02  \n",
       "1           20시간 전  2020. 12. 01  \n",
       "2           23시간 전  2020. 12. 01  \n",
       "3             1일 전  2020. 12. 01  \n",
       "4             1일 전  2020. 12. 01  \n",
       "...            ...           ...  \n",
       "2238  2018. 07. 31  2018. 07. 31  \n",
       "2239  2018. 07. 29  2018. 07. 29  \n",
       "2240  2018. 07. 27  2018. 07. 27  \n",
       "2241  2018. 07. 23  2018. 07. 23  \n",
       "2242  2018. 07. 22  2018. 07. 22  \n",
       "\n",
       "[2243 rows x 5 columns]"
      ]
     },
     "execution_count": 8,
     "metadata": {},
     "output_type": "execute_result"
    }
   ],
   "source": [
    "df"
   ]
  },
  {
   "cell_type": "code",
   "execution_count": 15,
   "metadata": {},
   "outputs": [],
   "source": [
    "df = df.rename(columns={'real_date': 'date'})"
   ]
  },
  {
   "cell_type": "markdown",
   "metadata": {},
   "source": [
    "## 파일 내보내기"
   ]
  },
  {
   "cell_type": "code",
   "execution_count": 16,
   "metadata": {},
   "outputs": [],
   "source": [
    "# df.to_excel(\"야놀자_최종.xlsx\")"
   ]
  },
  {
   "cell_type": "code",
   "execution_count": 13,
   "metadata": {},
   "outputs": [],
   "source": [
    "# df.to_csv(\"야놀자_최종.csv\")"
   ]
  }
 ],
 "metadata": {
  "kernelspec": {
   "display_name": "Python 3",
   "language": "python",
   "name": "python3"
  },
  "language_info": {
   "codemirror_mode": {
    "name": "ipython",
    "version": 3
   },
   "file_extension": ".py",
   "mimetype": "text/x-python",
   "name": "python",
   "nbconvert_exporter": "python",
   "pygments_lexer": "ipython3",
   "version": "3.8.3"
  },
  "toc": {
   "base_numbering": 1,
   "nav_menu": {},
   "number_sections": true,
   "sideBar": true,
   "skip_h1_title": false,
   "title_cell": "Table of Contents",
   "title_sidebar": "Contents",
   "toc_cell": false,
   "toc_position": {},
   "toc_section_display": true,
   "toc_window_display": false
  }
 },
 "nbformat": 4,
 "nbformat_minor": 4
}
