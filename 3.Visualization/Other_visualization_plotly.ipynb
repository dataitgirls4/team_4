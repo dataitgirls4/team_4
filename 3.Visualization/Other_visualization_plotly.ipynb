{
 "cells": [
  {
   "cell_type": "code",
   "execution_count": 1,
   "metadata": {},
   "outputs": [],
   "source": [
    "#패키지로드\n",
    "import pandas as pd\n",
    "import numpy as np\n",
    "import plotly\n",
    "\n",
    "import plotly.io as pio\n",
    "import plotly.express as px\n",
    "import plotly.graph_objects as go\n",
    "import plotly.figure_factory as ff\n",
    "from plotly.subplots import make_subplots\n",
    "from plotly.validators.scatter.marker import SymbolValidator"
   ]
  },
  {
   "cell_type": "markdown",
   "metadata": {},
   "source": [
    "# 데이터 불러오기"
   ]
  },
  {
   "cell_type": "code",
   "execution_count": 2,
   "metadata": {},
   "outputs": [],
   "source": [
    "df = pd.read_excel('df_all_1130_4.xlsx')"
   ]
  },
  {
   "cell_type": "code",
   "execution_count": 3,
   "metadata": {},
   "outputs": [
    {
     "data": {
      "text/html": [
       "<div>\n",
       "<style scoped>\n",
       "    .dataframe tbody tr th:only-of-type {\n",
       "        vertical-align: middle;\n",
       "    }\n",
       "\n",
       "    .dataframe tbody tr th {\n",
       "        vertical-align: top;\n",
       "    }\n",
       "\n",
       "    .dataframe thead th {\n",
       "        text-align: right;\n",
       "    }\n",
       "</style>\n",
       "<table border=\"1\" class=\"dataframe\">\n",
       "  <thead>\n",
       "    <tr style=\"text-align: right;\">\n",
       "      <th></th>\n",
       "      <th>site</th>\n",
       "      <th>hotel</th>\n",
       "      <th>score</th>\n",
       "      <th>review</th>\n",
       "      <th>date</th>\n",
       "      <th>star</th>\n",
       "      <th>length</th>\n",
       "      <th>review_spell_check</th>\n",
       "      <th>helpful</th>\n",
       "      <th>attitude</th>\n",
       "      <th>담당자</th>\n",
       "      <th>위치</th>\n",
       "      <th>시설</th>\n",
       "      <th>인테리어</th>\n",
       "      <th>청결</th>\n",
       "      <th>친절</th>\n",
       "      <th>방음</th>\n",
       "    </tr>\n",
       "  </thead>\n",
       "  <tbody>\n",
       "    <tr>\n",
       "      <th>0</th>\n",
       "      <td>아고다</td>\n",
       "      <td>나인트리 프리미어 명동2</td>\n",
       "      <td>10.0</td>\n",
       "      <td>뷰 좋고 위치 좋고 깨끗하고 최고 입니다</td>\n",
       "      <td>NaN</td>\n",
       "      <td>NaN</td>\n",
       "      <td>22</td>\n",
       "      <td>뷰 좋고 위치 좋고 깨끗하고 최고입니다</td>\n",
       "      <td>1</td>\n",
       "      <td>2</td>\n",
       "      <td>주현</td>\n",
       "      <td>1</td>\n",
       "      <td>0</td>\n",
       "      <td>0</td>\n",
       "      <td>0</td>\n",
       "      <td>0</td>\n",
       "      <td>0</td>\n",
       "    </tr>\n",
       "    <tr>\n",
       "      <th>1</th>\n",
       "      <td>아고다</td>\n",
       "      <td>신라스테이 광화문</td>\n",
       "      <td>10.0</td>\n",
       "      <td>위치 시설 모두 좋아요</td>\n",
       "      <td>NaN</td>\n",
       "      <td>NaN</td>\n",
       "      <td>12</td>\n",
       "      <td>위치 시설 모두 좋아요</td>\n",
       "      <td>0</td>\n",
       "      <td>2</td>\n",
       "      <td>주현</td>\n",
       "      <td>1</td>\n",
       "      <td>1</td>\n",
       "      <td>0</td>\n",
       "      <td>0</td>\n",
       "      <td>0</td>\n",
       "      <td>0</td>\n",
       "    </tr>\n",
       "    <tr>\n",
       "      <th>2</th>\n",
       "      <td>아고다</td>\n",
       "      <td>신라스테이 광화문</td>\n",
       "      <td>2.0</td>\n",
       "      <td>침대에 빨래 먼지로 보이는 먼지가 이불침대 시트 모두에 한가득이었습니다  청소 상태...</td>\n",
       "      <td>NaN</td>\n",
       "      <td>NaN</td>\n",
       "      <td>69</td>\n",
       "      <td>침대에 빨래 먼지로 보이는 먼지가 이불 침대 시트 모두에 한가득이었습니다  청소 상...</td>\n",
       "      <td>1</td>\n",
       "      <td>0</td>\n",
       "      <td>주현</td>\n",
       "      <td>0</td>\n",
       "      <td>0</td>\n",
       "      <td>0</td>\n",
       "      <td>1</td>\n",
       "      <td>0</td>\n",
       "      <td>0</td>\n",
       "    </tr>\n",
       "    <tr>\n",
       "      <th>3</th>\n",
       "      <td>아고다</td>\n",
       "      <td>신라스테이 광화문</td>\n",
       "      <td>8.8</td>\n",
       "      <td>위치 시설 서비스 모두 다 만족합니다</td>\n",
       "      <td>NaN</td>\n",
       "      <td>NaN</td>\n",
       "      <td>20</td>\n",
       "      <td>위치 시설 서비스 모두 다 만족합니다</td>\n",
       "      <td>0</td>\n",
       "      <td>2</td>\n",
       "      <td>주현</td>\n",
       "      <td>1</td>\n",
       "      <td>1</td>\n",
       "      <td>0</td>\n",
       "      <td>0</td>\n",
       "      <td>0</td>\n",
       "      <td>0</td>\n",
       "    </tr>\n",
       "    <tr>\n",
       "      <th>4</th>\n",
       "      <td>아고다</td>\n",
       "      <td>신라스테이 광화문</td>\n",
       "      <td>8.0</td>\n",
       "      <td>주변에 식사장소도 많고 볼 곳도 많아서 좋습니다다만 주말에는 집회가 근처에서 많아 ...</td>\n",
       "      <td>NaN</td>\n",
       "      <td>NaN</td>\n",
       "      <td>57</td>\n",
       "      <td>주변에 식사 장소도 많고 볼 곳도 많아서 좋습니다 다만 주말에는 집회가 근처에서 많...</td>\n",
       "      <td>1</td>\n",
       "      <td>1</td>\n",
       "      <td>주현</td>\n",
       "      <td>1</td>\n",
       "      <td>0</td>\n",
       "      <td>0</td>\n",
       "      <td>0</td>\n",
       "      <td>0</td>\n",
       "      <td>1</td>\n",
       "    </tr>\n",
       "  </tbody>\n",
       "</table>\n",
       "</div>"
      ],
      "text/plain": [
       "  site          hotel  score  \\\n",
       "0  아고다  나인트리 프리미어 명동2   10.0   \n",
       "1  아고다      신라스테이 광화문   10.0   \n",
       "2  아고다      신라스테이 광화문    2.0   \n",
       "3  아고다      신라스테이 광화문    8.8   \n",
       "4  아고다      신라스테이 광화문    8.0   \n",
       "\n",
       "                                              review date  star  length  \\\n",
       "0                             뷰 좋고 위치 좋고 깨끗하고 최고 입니다  NaN   NaN      22   \n",
       "1                                       위치 시설 모두 좋아요  NaN   NaN      12   \n",
       "2  침대에 빨래 먼지로 보이는 먼지가 이불침대 시트 모두에 한가득이었습니다  청소 상태...  NaN   NaN      69   \n",
       "3                               위치 시설 서비스 모두 다 만족합니다  NaN   NaN      20   \n",
       "4  주변에 식사장소도 많고 볼 곳도 많아서 좋습니다다만 주말에는 집회가 근처에서 많아 ...  NaN   NaN      57   \n",
       "\n",
       "                                  review_spell_check  helpful  attitude 담당자  \\\n",
       "0                              뷰 좋고 위치 좋고 깨끗하고 최고입니다        1         2  주현   \n",
       "1                                       위치 시설 모두 좋아요        0         2  주현   \n",
       "2  침대에 빨래 먼지로 보이는 먼지가 이불 침대 시트 모두에 한가득이었습니다  청소 상...        1         0  주현   \n",
       "3                               위치 시설 서비스 모두 다 만족합니다        0         2  주현   \n",
       "4  주변에 식사 장소도 많고 볼 곳도 많아서 좋습니다 다만 주말에는 집회가 근처에서 많...        1         1  주현   \n",
       "\n",
       "   위치  시설  인테리어  청결  친절  방음  \n",
       "0   1   0     0   0   0   0  \n",
       "1   1   1     0   0   0   0  \n",
       "2   0   0     0   1   0   0  \n",
       "3   1   1     0   0   0   0  \n",
       "4   1   0     0   0   0   1  "
      ]
     },
     "execution_count": 3,
     "metadata": {},
     "output_type": "execute_result"
    }
   ],
   "source": [
    "df.head()"
   ]
  },
  {
   "cell_type": "code",
   "execution_count": 4,
   "metadata": {},
   "outputs": [
    {
     "data": {
      "text/plain": [
       "array([10,  2,  9,  8,  6,  4,  7,  3,  5], dtype=int64)"
      ]
     },
     "execution_count": 4,
     "metadata": {},
     "output_type": "execute_result"
    }
   ],
   "source": [
    "df['score_'] = df['score'].map(lambda x: round(x))\n",
    "df['score_'].unique()"
   ]
  },
  {
   "cell_type": "code",
   "execution_count": 5,
   "metadata": {},
   "outputs": [
    {
     "data": {
      "text/plain": [
       "0    1441\n",
       "1     968\n",
       "Name: helpful, dtype: int64"
      ]
     },
     "execution_count": 5,
     "metadata": {},
     "output_type": "execute_result"
    }
   ],
   "source": [
    "df['helpful'].value_counts()"
   ]
  },
  {
   "cell_type": "markdown",
   "metadata": {},
   "source": [
    "# 그 외"
   ]
  },
  {
   "cell_type": "markdown",
   "metadata": {},
   "source": [
    "# 평점 별 긍부정 비율"
   ]
  },
  {
   "cell_type": "code",
   "execution_count": 15,
   "metadata": {},
   "outputs": [
    {
     "data": {
      "text/html": [
       "<div>\n",
       "<style scoped>\n",
       "    .dataframe tbody tr th:only-of-type {\n",
       "        vertical-align: middle;\n",
       "    }\n",
       "\n",
       "    .dataframe tbody tr th {\n",
       "        vertical-align: top;\n",
       "    }\n",
       "\n",
       "    .dataframe thead th {\n",
       "        text-align: right;\n",
       "    }\n",
       "</style>\n",
       "<table border=\"1\" class=\"dataframe\">\n",
       "  <thead>\n",
       "    <tr style=\"text-align: right;\">\n",
       "      <th></th>\n",
       "      <th>score</th>\n",
       "      <th>attitude</th>\n",
       "      <th>res</th>\n",
       "      <th>all</th>\n",
       "      <th>rate</th>\n",
       "    </tr>\n",
       "  </thead>\n",
       "  <tbody>\n",
       "    <tr>\n",
       "      <th>0</th>\n",
       "      <td>2</td>\n",
       "      <td>0</td>\n",
       "      <td>21</td>\n",
       "      <td>27</td>\n",
       "      <td>0.777778</td>\n",
       "    </tr>\n",
       "    <tr>\n",
       "      <th>1</th>\n",
       "      <td>2</td>\n",
       "      <td>1</td>\n",
       "      <td>3</td>\n",
       "      <td>27</td>\n",
       "      <td>0.111111</td>\n",
       "    </tr>\n",
       "    <tr>\n",
       "      <th>2</th>\n",
       "      <td>2</td>\n",
       "      <td>2</td>\n",
       "      <td>3</td>\n",
       "      <td>27</td>\n",
       "      <td>0.111111</td>\n",
       "    </tr>\n",
       "    <tr>\n",
       "      <th>3</th>\n",
       "      <td>3</td>\n",
       "      <td>0</td>\n",
       "      <td>1</td>\n",
       "      <td>1</td>\n",
       "      <td>1.000000</td>\n",
       "    </tr>\n",
       "    <tr>\n",
       "      <th>24</th>\n",
       "      <td>3</td>\n",
       "      <td>1</td>\n",
       "      <td>0</td>\n",
       "      <td>0</td>\n",
       "      <td>0.000000</td>\n",
       "    </tr>\n",
       "  </tbody>\n",
       "</table>\n",
       "</div>"
      ],
      "text/plain": [
       "    score  attitude  res  all      rate\n",
       "0       2         0   21   27  0.777778\n",
       "1       2         1    3   27  0.111111\n",
       "2       2         2    3   27  0.111111\n",
       "3       3         0    1    1  1.000000\n",
       "24      3         1    0    0  0.000000"
      ]
     },
     "execution_count": 15,
     "metadata": {},
     "output_type": "execute_result"
    }
   ],
   "source": [
    "g = df.groupby(['score_','attitude']).count().site.reset_index()\n",
    "g.columns = ['score', 'attitude', 'res']\n",
    "all = g.groupby(['score']).sum().res\n",
    "all = all.reset_index()\n",
    "all.columns = ['score','all']\n",
    "g = g.merge(all)\n",
    "g['rate'] = g['res']/g['all']\n",
    "add = [(3,1,0,0,0),(3,2,0,0,0),(5,2,0,0,0)]\n",
    "add = pd.DataFrame(add, columns = g.columns)\n",
    "g = g.append(add, ignore_index = True)\n",
    "g = g.sort_values([\"score\",\"attitude\"])\n",
    "g.head()"
   ]
  },
  {
   "cell_type": "code",
   "execution_count": 16,
   "metadata": {},
   "outputs": [
    {
     "data": {
      "text/plain": [
       "array([ 2,  3,  4,  5,  6,  7,  8,  9, 10], dtype=int64)"
      ]
     },
     "execution_count": 16,
     "metadata": {},
     "output_type": "execute_result"
    }
   ],
   "source": [
    "g['score'].unique()"
   ]
  },
  {
   "cell_type": "code",
   "execution_count": 17,
   "metadata": {
    "scrolled": true
   },
   "outputs": [
    {
     "data": {
      "application/vnd.plotly.v1+json": {
       "config": {
        "plotlyServerURL": "https://plot.ly"
       },
       "data": [
        {
         "hovertemplate": "평점: %{x}점 <br>비율: %{y}",
         "name": "부정",
         "type": "bar",
         "x": [
          2,
          3,
          4,
          5,
          6,
          7,
          8,
          9,
          10
         ],
         "y": [
          0.7777777777777778,
          1,
          0.7142857142857143,
          0.9090909090909091,
          0.44594594594594594,
          0.375,
          0.09,
          0.05128205128205128,
          0.017371163867979156
         ]
        },
        {
         "hovertemplate": "평점: %{x}점 <br>비율: %{y}",
         "name": "중립",
         "type": "bar",
         "x": [
          2,
          3,
          4,
          5,
          6,
          7,
          8,
          9,
          10
         ],
         "y": [
          0.1111111111111111,
          0,
          0.17857142857142858,
          0.09090909090909091,
          0.3918918918918919,
          0.4583333333333333,
          0.42,
          0.38461538461538464,
          0.13839027214823393
         ]
        },
        {
         "hovertemplate": "평점: %{x}점 <br>비율: %{y}",
         "name": "긍정",
         "type": "bar",
         "x": [
          2,
          3,
          4,
          5,
          6,
          7,
          8,
          9,
          10
         ],
         "y": [
          0.1111111111111111,
          0,
          0.10714285714285714,
          0,
          0.16216216216216217,
          0.16666666666666666,
          0.49,
          0.5641025641025641,
          0.8442385639837869
         ]
        }
       ],
       "layout": {
        "barmode": "relative",
        "hoverlabel": {
         "font": {
          "size": 15
         }
        },
        "template": {
         "data": {
          "bar": [
           {
            "error_x": {
             "color": "rgb(36,36,36)"
            },
            "error_y": {
             "color": "rgb(36,36,36)"
            },
            "marker": {
             "line": {
              "color": "rgb(234,234,242)",
              "width": 0.5
             }
            },
            "type": "bar"
           }
          ],
          "barpolar": [
           {
            "marker": {
             "line": {
              "color": "rgb(234,234,242)",
              "width": 0.5
             }
            },
            "type": "barpolar"
           }
          ],
          "carpet": [
           {
            "aaxis": {
             "endlinecolor": "rgb(36,36,36)",
             "gridcolor": "white",
             "linecolor": "white",
             "minorgridcolor": "white",
             "startlinecolor": "rgb(36,36,36)"
            },
            "baxis": {
             "endlinecolor": "rgb(36,36,36)",
             "gridcolor": "white",
             "linecolor": "white",
             "minorgridcolor": "white",
             "startlinecolor": "rgb(36,36,36)"
            },
            "type": "carpet"
           }
          ],
          "choropleth": [
           {
            "colorbar": {
             "outlinewidth": 0,
             "tickcolor": "rgb(36,36,36)",
             "ticklen": 8,
             "ticks": "outside",
             "tickwidth": 2
            },
            "type": "choropleth"
           }
          ],
          "contour": [
           {
            "colorbar": {
             "outlinewidth": 0,
             "tickcolor": "rgb(36,36,36)",
             "ticklen": 8,
             "ticks": "outside",
             "tickwidth": 2
            },
            "colorscale": [
             [
              0,
              "rgb(2,4,25)"
             ],
             [
              0.06274509803921569,
              "rgb(24,15,41)"
             ],
             [
              0.12549019607843137,
              "rgb(47,23,57)"
             ],
             [
              0.18823529411764706,
              "rgb(71,28,72)"
             ],
             [
              0.25098039215686274,
              "rgb(97,30,82)"
             ],
             [
              0.3137254901960784,
              "rgb(123,30,89)"
             ],
             [
              0.3764705882352941,
              "rgb(150,27,91)"
             ],
             [
              0.4392156862745098,
              "rgb(177,22,88)"
             ],
             [
              0.5019607843137255,
              "rgb(203,26,79)"
             ],
             [
              0.5647058823529412,
              "rgb(223,47,67)"
             ],
             [
              0.6274509803921569,
              "rgb(236,76,61)"
             ],
             [
              0.6901960784313725,
              "rgb(242,107,73)"
             ],
             [
              0.7529411764705882,
              "rgb(244,135,95)"
             ],
             [
              0.8156862745098039,
              "rgb(245,162,122)"
             ],
             [
              0.8784313725490196,
              "rgb(246,188,153)"
             ],
             [
              0.9411764705882353,
              "rgb(247,212,187)"
             ],
             [
              1,
              "rgb(250,234,220)"
             ]
            ],
            "type": "contour"
           }
          ],
          "contourcarpet": [
           {
            "colorbar": {
             "outlinewidth": 0,
             "tickcolor": "rgb(36,36,36)",
             "ticklen": 8,
             "ticks": "outside",
             "tickwidth": 2
            },
            "type": "contourcarpet"
           }
          ],
          "heatmap": [
           {
            "colorbar": {
             "outlinewidth": 0,
             "tickcolor": "rgb(36,36,36)",
             "ticklen": 8,
             "ticks": "outside",
             "tickwidth": 2
            },
            "colorscale": [
             [
              0,
              "rgb(2,4,25)"
             ],
             [
              0.06274509803921569,
              "rgb(24,15,41)"
             ],
             [
              0.12549019607843137,
              "rgb(47,23,57)"
             ],
             [
              0.18823529411764706,
              "rgb(71,28,72)"
             ],
             [
              0.25098039215686274,
              "rgb(97,30,82)"
             ],
             [
              0.3137254901960784,
              "rgb(123,30,89)"
             ],
             [
              0.3764705882352941,
              "rgb(150,27,91)"
             ],
             [
              0.4392156862745098,
              "rgb(177,22,88)"
             ],
             [
              0.5019607843137255,
              "rgb(203,26,79)"
             ],
             [
              0.5647058823529412,
              "rgb(223,47,67)"
             ],
             [
              0.6274509803921569,
              "rgb(236,76,61)"
             ],
             [
              0.6901960784313725,
              "rgb(242,107,73)"
             ],
             [
              0.7529411764705882,
              "rgb(244,135,95)"
             ],
             [
              0.8156862745098039,
              "rgb(245,162,122)"
             ],
             [
              0.8784313725490196,
              "rgb(246,188,153)"
             ],
             [
              0.9411764705882353,
              "rgb(247,212,187)"
             ],
             [
              1,
              "rgb(250,234,220)"
             ]
            ],
            "type": "heatmap"
           }
          ],
          "heatmapgl": [
           {
            "colorbar": {
             "outlinewidth": 0,
             "tickcolor": "rgb(36,36,36)",
             "ticklen": 8,
             "ticks": "outside",
             "tickwidth": 2
            },
            "colorscale": [
             [
              0,
              "rgb(2,4,25)"
             ],
             [
              0.06274509803921569,
              "rgb(24,15,41)"
             ],
             [
              0.12549019607843137,
              "rgb(47,23,57)"
             ],
             [
              0.18823529411764706,
              "rgb(71,28,72)"
             ],
             [
              0.25098039215686274,
              "rgb(97,30,82)"
             ],
             [
              0.3137254901960784,
              "rgb(123,30,89)"
             ],
             [
              0.3764705882352941,
              "rgb(150,27,91)"
             ],
             [
              0.4392156862745098,
              "rgb(177,22,88)"
             ],
             [
              0.5019607843137255,
              "rgb(203,26,79)"
             ],
             [
              0.5647058823529412,
              "rgb(223,47,67)"
             ],
             [
              0.6274509803921569,
              "rgb(236,76,61)"
             ],
             [
              0.6901960784313725,
              "rgb(242,107,73)"
             ],
             [
              0.7529411764705882,
              "rgb(244,135,95)"
             ],
             [
              0.8156862745098039,
              "rgb(245,162,122)"
             ],
             [
              0.8784313725490196,
              "rgb(246,188,153)"
             ],
             [
              0.9411764705882353,
              "rgb(247,212,187)"
             ],
             [
              1,
              "rgb(250,234,220)"
             ]
            ],
            "type": "heatmapgl"
           }
          ],
          "histogram": [
           {
            "marker": {
             "colorbar": {
              "outlinewidth": 0,
              "tickcolor": "rgb(36,36,36)",
              "ticklen": 8,
              "ticks": "outside",
              "tickwidth": 2
             }
            },
            "type": "histogram"
           }
          ],
          "histogram2d": [
           {
            "colorbar": {
             "outlinewidth": 0,
             "tickcolor": "rgb(36,36,36)",
             "ticklen": 8,
             "ticks": "outside",
             "tickwidth": 2
            },
            "colorscale": [
             [
              0,
              "rgb(2,4,25)"
             ],
             [
              0.06274509803921569,
              "rgb(24,15,41)"
             ],
             [
              0.12549019607843137,
              "rgb(47,23,57)"
             ],
             [
              0.18823529411764706,
              "rgb(71,28,72)"
             ],
             [
              0.25098039215686274,
              "rgb(97,30,82)"
             ],
             [
              0.3137254901960784,
              "rgb(123,30,89)"
             ],
             [
              0.3764705882352941,
              "rgb(150,27,91)"
             ],
             [
              0.4392156862745098,
              "rgb(177,22,88)"
             ],
             [
              0.5019607843137255,
              "rgb(203,26,79)"
             ],
             [
              0.5647058823529412,
              "rgb(223,47,67)"
             ],
             [
              0.6274509803921569,
              "rgb(236,76,61)"
             ],
             [
              0.6901960784313725,
              "rgb(242,107,73)"
             ],
             [
              0.7529411764705882,
              "rgb(244,135,95)"
             ],
             [
              0.8156862745098039,
              "rgb(245,162,122)"
             ],
             [
              0.8784313725490196,
              "rgb(246,188,153)"
             ],
             [
              0.9411764705882353,
              "rgb(247,212,187)"
             ],
             [
              1,
              "rgb(250,234,220)"
             ]
            ],
            "type": "histogram2d"
           }
          ],
          "histogram2dcontour": [
           {
            "colorbar": {
             "outlinewidth": 0,
             "tickcolor": "rgb(36,36,36)",
             "ticklen": 8,
             "ticks": "outside",
             "tickwidth": 2
            },
            "colorscale": [
             [
              0,
              "rgb(2,4,25)"
             ],
             [
              0.06274509803921569,
              "rgb(24,15,41)"
             ],
             [
              0.12549019607843137,
              "rgb(47,23,57)"
             ],
             [
              0.18823529411764706,
              "rgb(71,28,72)"
             ],
             [
              0.25098039215686274,
              "rgb(97,30,82)"
             ],
             [
              0.3137254901960784,
              "rgb(123,30,89)"
             ],
             [
              0.3764705882352941,
              "rgb(150,27,91)"
             ],
             [
              0.4392156862745098,
              "rgb(177,22,88)"
             ],
             [
              0.5019607843137255,
              "rgb(203,26,79)"
             ],
             [
              0.5647058823529412,
              "rgb(223,47,67)"
             ],
             [
              0.6274509803921569,
              "rgb(236,76,61)"
             ],
             [
              0.6901960784313725,
              "rgb(242,107,73)"
             ],
             [
              0.7529411764705882,
              "rgb(244,135,95)"
             ],
             [
              0.8156862745098039,
              "rgb(245,162,122)"
             ],
             [
              0.8784313725490196,
              "rgb(246,188,153)"
             ],
             [
              0.9411764705882353,
              "rgb(247,212,187)"
             ],
             [
              1,
              "rgb(250,234,220)"
             ]
            ],
            "type": "histogram2dcontour"
           }
          ],
          "mesh3d": [
           {
            "colorbar": {
             "outlinewidth": 0,
             "tickcolor": "rgb(36,36,36)",
             "ticklen": 8,
             "ticks": "outside",
             "tickwidth": 2
            },
            "type": "mesh3d"
           }
          ],
          "parcoords": [
           {
            "line": {
             "colorbar": {
              "outlinewidth": 0,
              "tickcolor": "rgb(36,36,36)",
              "ticklen": 8,
              "ticks": "outside",
              "tickwidth": 2
             }
            },
            "type": "parcoords"
           }
          ],
          "pie": [
           {
            "automargin": true,
            "type": "pie"
           }
          ],
          "scatter": [
           {
            "marker": {
             "colorbar": {
              "outlinewidth": 0,
              "tickcolor": "rgb(36,36,36)",
              "ticklen": 8,
              "ticks": "outside",
              "tickwidth": 2
             }
            },
            "type": "scatter"
           }
          ],
          "scatter3d": [
           {
            "line": {
             "colorbar": {
              "outlinewidth": 0,
              "tickcolor": "rgb(36,36,36)",
              "ticklen": 8,
              "ticks": "outside",
              "tickwidth": 2
             }
            },
            "marker": {
             "colorbar": {
              "outlinewidth": 0,
              "tickcolor": "rgb(36,36,36)",
              "ticklen": 8,
              "ticks": "outside",
              "tickwidth": 2
             }
            },
            "type": "scatter3d"
           }
          ],
          "scattercarpet": [
           {
            "marker": {
             "colorbar": {
              "outlinewidth": 0,
              "tickcolor": "rgb(36,36,36)",
              "ticklen": 8,
              "ticks": "outside",
              "tickwidth": 2
             }
            },
            "type": "scattercarpet"
           }
          ],
          "scattergeo": [
           {
            "marker": {
             "colorbar": {
              "outlinewidth": 0,
              "tickcolor": "rgb(36,36,36)",
              "ticklen": 8,
              "ticks": "outside",
              "tickwidth": 2
             }
            },
            "type": "scattergeo"
           }
          ],
          "scattergl": [
           {
            "marker": {
             "colorbar": {
              "outlinewidth": 0,
              "tickcolor": "rgb(36,36,36)",
              "ticklen": 8,
              "ticks": "outside",
              "tickwidth": 2
             }
            },
            "type": "scattergl"
           }
          ],
          "scattermapbox": [
           {
            "marker": {
             "colorbar": {
              "outlinewidth": 0,
              "tickcolor": "rgb(36,36,36)",
              "ticklen": 8,
              "ticks": "outside",
              "tickwidth": 2
             }
            },
            "type": "scattermapbox"
           }
          ],
          "scatterpolar": [
           {
            "marker": {
             "colorbar": {
              "outlinewidth": 0,
              "tickcolor": "rgb(36,36,36)",
              "ticklen": 8,
              "ticks": "outside",
              "tickwidth": 2
             }
            },
            "type": "scatterpolar"
           }
          ],
          "scatterpolargl": [
           {
            "marker": {
             "colorbar": {
              "outlinewidth": 0,
              "tickcolor": "rgb(36,36,36)",
              "ticklen": 8,
              "ticks": "outside",
              "tickwidth": 2
             }
            },
            "type": "scatterpolargl"
           }
          ],
          "scatterternary": [
           {
            "marker": {
             "colorbar": {
              "outlinewidth": 0,
              "tickcolor": "rgb(36,36,36)",
              "ticklen": 8,
              "ticks": "outside",
              "tickwidth": 2
             }
            },
            "type": "scatterternary"
           }
          ],
          "surface": [
           {
            "colorbar": {
             "outlinewidth": 0,
             "tickcolor": "rgb(36,36,36)",
             "ticklen": 8,
             "ticks": "outside",
             "tickwidth": 2
            },
            "colorscale": [
             [
              0,
              "rgb(2,4,25)"
             ],
             [
              0.06274509803921569,
              "rgb(24,15,41)"
             ],
             [
              0.12549019607843137,
              "rgb(47,23,57)"
             ],
             [
              0.18823529411764706,
              "rgb(71,28,72)"
             ],
             [
              0.25098039215686274,
              "rgb(97,30,82)"
             ],
             [
              0.3137254901960784,
              "rgb(123,30,89)"
             ],
             [
              0.3764705882352941,
              "rgb(150,27,91)"
             ],
             [
              0.4392156862745098,
              "rgb(177,22,88)"
             ],
             [
              0.5019607843137255,
              "rgb(203,26,79)"
             ],
             [
              0.5647058823529412,
              "rgb(223,47,67)"
             ],
             [
              0.6274509803921569,
              "rgb(236,76,61)"
             ],
             [
              0.6901960784313725,
              "rgb(242,107,73)"
             ],
             [
              0.7529411764705882,
              "rgb(244,135,95)"
             ],
             [
              0.8156862745098039,
              "rgb(245,162,122)"
             ],
             [
              0.8784313725490196,
              "rgb(246,188,153)"
             ],
             [
              0.9411764705882353,
              "rgb(247,212,187)"
             ],
             [
              1,
              "rgb(250,234,220)"
             ]
            ],
            "type": "surface"
           }
          ],
          "table": [
           {
            "cells": {
             "fill": {
              "color": "rgb(231,231,240)"
             },
             "line": {
              "color": "white"
             }
            },
            "header": {
             "fill": {
              "color": "rgb(183,183,191)"
             },
             "line": {
              "color": "white"
             }
            },
            "type": "table"
           }
          ]
         },
         "layout": {
          "annotationdefaults": {
           "arrowcolor": "rgb(67,103,167)"
          },
          "coloraxis": {
           "colorbar": {
            "outlinewidth": 0,
            "tickcolor": "rgb(36,36,36)",
            "ticklen": 8,
            "ticks": "outside",
            "tickwidth": 2
           }
          },
          "colorscale": {
           "sequential": [
            [
             0,
             "rgb(2,4,25)"
            ],
            [
             0.06274509803921569,
             "rgb(24,15,41)"
            ],
            [
             0.12549019607843137,
             "rgb(47,23,57)"
            ],
            [
             0.18823529411764706,
             "rgb(71,28,72)"
            ],
            [
             0.25098039215686274,
             "rgb(97,30,82)"
            ],
            [
             0.3137254901960784,
             "rgb(123,30,89)"
            ],
            [
             0.3764705882352941,
             "rgb(150,27,91)"
            ],
            [
             0.4392156862745098,
             "rgb(177,22,88)"
            ],
            [
             0.5019607843137255,
             "rgb(203,26,79)"
            ],
            [
             0.5647058823529412,
             "rgb(223,47,67)"
            ],
            [
             0.6274509803921569,
             "rgb(236,76,61)"
            ],
            [
             0.6901960784313725,
             "rgb(242,107,73)"
            ],
            [
             0.7529411764705882,
             "rgb(244,135,95)"
            ],
            [
             0.8156862745098039,
             "rgb(245,162,122)"
            ],
            [
             0.8784313725490196,
             "rgb(246,188,153)"
            ],
            [
             0.9411764705882353,
             "rgb(247,212,187)"
            ],
            [
             1,
             "rgb(250,234,220)"
            ]
           ],
           "sequentialminus": [
            [
             0,
             "rgb(2,4,25)"
            ],
            [
             0.06274509803921569,
             "rgb(24,15,41)"
            ],
            [
             0.12549019607843137,
             "rgb(47,23,57)"
            ],
            [
             0.18823529411764706,
             "rgb(71,28,72)"
            ],
            [
             0.25098039215686274,
             "rgb(97,30,82)"
            ],
            [
             0.3137254901960784,
             "rgb(123,30,89)"
            ],
            [
             0.3764705882352941,
             "rgb(150,27,91)"
            ],
            [
             0.4392156862745098,
             "rgb(177,22,88)"
            ],
            [
             0.5019607843137255,
             "rgb(203,26,79)"
            ],
            [
             0.5647058823529412,
             "rgb(223,47,67)"
            ],
            [
             0.6274509803921569,
             "rgb(236,76,61)"
            ],
            [
             0.6901960784313725,
             "rgb(242,107,73)"
            ],
            [
             0.7529411764705882,
             "rgb(244,135,95)"
            ],
            [
             0.8156862745098039,
             "rgb(245,162,122)"
            ],
            [
             0.8784313725490196,
             "rgb(246,188,153)"
            ],
            [
             0.9411764705882353,
             "rgb(247,212,187)"
            ],
            [
             1,
             "rgb(250,234,220)"
            ]
           ]
          },
          "colorway": [
           "rgb(76,114,176)",
           "rgb(221,132,82)",
           "rgb(85,168,104)",
           "rgb(196,78,82)",
           "rgb(129,114,179)",
           "rgb(147,120,96)",
           "rgb(218,139,195)",
           "rgb(140,140,140)",
           "rgb(204,185,116)",
           "rgb(100,181,205)"
          ],
          "font": {
           "color": "rgb(36,36,36)"
          },
          "geo": {
           "bgcolor": "white",
           "lakecolor": "white",
           "landcolor": "rgb(234,234,242)",
           "showlakes": true,
           "showland": true,
           "subunitcolor": "white"
          },
          "hoverlabel": {
           "align": "left"
          },
          "hovermode": "closest",
          "paper_bgcolor": "white",
          "plot_bgcolor": "rgb(234,234,242)",
          "polar": {
           "angularaxis": {
            "gridcolor": "white",
            "linecolor": "white",
            "showgrid": true,
            "ticks": ""
           },
           "bgcolor": "rgb(234,234,242)",
           "radialaxis": {
            "gridcolor": "white",
            "linecolor": "white",
            "showgrid": true,
            "ticks": ""
           }
          },
          "scene": {
           "xaxis": {
            "backgroundcolor": "rgb(234,234,242)",
            "gridcolor": "white",
            "gridwidth": 2,
            "linecolor": "white",
            "showbackground": true,
            "showgrid": true,
            "ticks": "",
            "zerolinecolor": "white"
           },
           "yaxis": {
            "backgroundcolor": "rgb(234,234,242)",
            "gridcolor": "white",
            "gridwidth": 2,
            "linecolor": "white",
            "showbackground": true,
            "showgrid": true,
            "ticks": "",
            "zerolinecolor": "white"
           },
           "zaxis": {
            "backgroundcolor": "rgb(234,234,242)",
            "gridcolor": "white",
            "gridwidth": 2,
            "linecolor": "white",
            "showbackground": true,
            "showgrid": true,
            "ticks": "",
            "zerolinecolor": "white"
           }
          },
          "shapedefaults": {
           "fillcolor": "rgb(67,103,167)",
           "line": {
            "width": 0
           },
           "opacity": 0.5
          },
          "ternary": {
           "aaxis": {
            "gridcolor": "white",
            "linecolor": "white",
            "showgrid": true,
            "ticks": ""
           },
           "baxis": {
            "gridcolor": "white",
            "linecolor": "white",
            "showgrid": true,
            "ticks": ""
           },
           "bgcolor": "rgb(234,234,242)",
           "caxis": {
            "gridcolor": "white",
            "linecolor": "white",
            "showgrid": true,
            "ticks": ""
           }
          },
          "xaxis": {
           "automargin": true,
           "gridcolor": "white",
           "linecolor": "white",
           "showgrid": true,
           "ticks": "",
           "title": {
            "standoff": 15
           },
           "zerolinecolor": "white"
          },
          "yaxis": {
           "automargin": true,
           "gridcolor": "white",
           "linecolor": "white",
           "showgrid": true,
           "ticks": "",
           "title": {
            "standoff": 15
           },
           "zerolinecolor": "white"
          }
         }
        },
        "xaxis": {
         "title": {
          "text": "평점"
         }
        },
        "yaxis": {
         "nticks": 5,
         "tickformat": "%"
        }
       }
      },
      "text/html": [
       "<div>                            <div id=\"07dac1a7-813c-42ca-b3c1-490531b6393b\" class=\"plotly-graph-div\" style=\"height:525px; width:100%;\"></div>            <script type=\"text/javascript\">                require([\"plotly\"], function(Plotly) {                    window.PLOTLYENV=window.PLOTLYENV || {};                                    if (document.getElementById(\"07dac1a7-813c-42ca-b3c1-490531b6393b\")) {                    Plotly.newPlot(                        \"07dac1a7-813c-42ca-b3c1-490531b6393b\",                        [{\"hovertemplate\": \"\\ud3c9\\uc810: %{x}\\uc810 <br>\\ube44\\uc728: %{y}\", \"name\": \"\\ubd80\\uc815\", \"type\": \"bar\", \"x\": [2, 3, 4, 5, 6, 7, 8, 9, 10], \"y\": [0.7777777777777778, 1.0, 0.7142857142857143, 0.9090909090909091, 0.44594594594594594, 0.375, 0.09, 0.05128205128205128, 0.017371163867979156]}, {\"hovertemplate\": \"\\ud3c9\\uc810: %{x}\\uc810 <br>\\ube44\\uc728: %{y}\", \"name\": \"\\uc911\\ub9bd\", \"type\": \"bar\", \"x\": [2, 3, 4, 5, 6, 7, 8, 9, 10], \"y\": [0.1111111111111111, 0.0, 0.17857142857142858, 0.09090909090909091, 0.3918918918918919, 0.4583333333333333, 0.42, 0.38461538461538464, 0.13839027214823393]}, {\"hovertemplate\": \"\\ud3c9\\uc810: %{x}\\uc810 <br>\\ube44\\uc728: %{y}\", \"name\": \"\\uae0d\\uc815\", \"type\": \"bar\", \"x\": [2, 3, 4, 5, 6, 7, 8, 9, 10], \"y\": [0.1111111111111111, 0.0, 0.10714285714285714, 0.0, 0.16216216216216217, 0.16666666666666666, 0.49, 0.5641025641025641, 0.8442385639837869]}],                        {\"barmode\": \"relative\", \"hoverlabel\": {\"font\": {\"size\": 15}}, \"template\": {\"data\": {\"bar\": [{\"error_x\": {\"color\": \"rgb(36,36,36)\"}, \"error_y\": {\"color\": \"rgb(36,36,36)\"}, \"marker\": {\"line\": {\"color\": \"rgb(234,234,242)\", \"width\": 0.5}}, \"type\": \"bar\"}], \"barpolar\": [{\"marker\": {\"line\": {\"color\": \"rgb(234,234,242)\", \"width\": 0.5}}, \"type\": \"barpolar\"}], \"carpet\": [{\"aaxis\": {\"endlinecolor\": \"rgb(36,36,36)\", \"gridcolor\": \"white\", \"linecolor\": \"white\", \"minorgridcolor\": \"white\", \"startlinecolor\": \"rgb(36,36,36)\"}, \"baxis\": {\"endlinecolor\": \"rgb(36,36,36)\", \"gridcolor\": \"white\", \"linecolor\": \"white\", \"minorgridcolor\": \"white\", \"startlinecolor\": \"rgb(36,36,36)\"}, \"type\": \"carpet\"}], \"choropleth\": [{\"colorbar\": {\"outlinewidth\": 0, \"tickcolor\": \"rgb(36,36,36)\", \"ticklen\": 8, \"ticks\": \"outside\", \"tickwidth\": 2}, \"type\": \"choropleth\"}], \"contour\": [{\"colorbar\": {\"outlinewidth\": 0, \"tickcolor\": \"rgb(36,36,36)\", \"ticklen\": 8, \"ticks\": \"outside\", \"tickwidth\": 2}, \"colorscale\": [[0.0, \"rgb(2,4,25)\"], [0.06274509803921569, \"rgb(24,15,41)\"], [0.12549019607843137, \"rgb(47,23,57)\"], [0.18823529411764706, \"rgb(71,28,72)\"], [0.25098039215686274, \"rgb(97,30,82)\"], [0.3137254901960784, \"rgb(123,30,89)\"], [0.3764705882352941, \"rgb(150,27,91)\"], [0.4392156862745098, \"rgb(177,22,88)\"], [0.5019607843137255, \"rgb(203,26,79)\"], [0.5647058823529412, \"rgb(223,47,67)\"], [0.6274509803921569, \"rgb(236,76,61)\"], [0.6901960784313725, \"rgb(242,107,73)\"], [0.7529411764705882, \"rgb(244,135,95)\"], [0.8156862745098039, \"rgb(245,162,122)\"], [0.8784313725490196, \"rgb(246,188,153)\"], [0.9411764705882353, \"rgb(247,212,187)\"], [1.0, \"rgb(250,234,220)\"]], \"type\": \"contour\"}], \"contourcarpet\": [{\"colorbar\": {\"outlinewidth\": 0, \"tickcolor\": \"rgb(36,36,36)\", \"ticklen\": 8, \"ticks\": \"outside\", \"tickwidth\": 2}, \"type\": \"contourcarpet\"}], \"heatmap\": [{\"colorbar\": {\"outlinewidth\": 0, \"tickcolor\": \"rgb(36,36,36)\", \"ticklen\": 8, \"ticks\": \"outside\", \"tickwidth\": 2}, \"colorscale\": [[0.0, \"rgb(2,4,25)\"], [0.06274509803921569, \"rgb(24,15,41)\"], [0.12549019607843137, \"rgb(47,23,57)\"], [0.18823529411764706, \"rgb(71,28,72)\"], [0.25098039215686274, \"rgb(97,30,82)\"], [0.3137254901960784, \"rgb(123,30,89)\"], [0.3764705882352941, \"rgb(150,27,91)\"], [0.4392156862745098, \"rgb(177,22,88)\"], [0.5019607843137255, \"rgb(203,26,79)\"], [0.5647058823529412, \"rgb(223,47,67)\"], [0.6274509803921569, \"rgb(236,76,61)\"], [0.6901960784313725, \"rgb(242,107,73)\"], [0.7529411764705882, \"rgb(244,135,95)\"], [0.8156862745098039, \"rgb(245,162,122)\"], [0.8784313725490196, \"rgb(246,188,153)\"], [0.9411764705882353, \"rgb(247,212,187)\"], [1.0, \"rgb(250,234,220)\"]], \"type\": \"heatmap\"}], \"heatmapgl\": [{\"colorbar\": {\"outlinewidth\": 0, \"tickcolor\": \"rgb(36,36,36)\", \"ticklen\": 8, \"ticks\": \"outside\", \"tickwidth\": 2}, \"colorscale\": [[0.0, \"rgb(2,4,25)\"], [0.06274509803921569, \"rgb(24,15,41)\"], [0.12549019607843137, \"rgb(47,23,57)\"], [0.18823529411764706, \"rgb(71,28,72)\"], [0.25098039215686274, \"rgb(97,30,82)\"], [0.3137254901960784, \"rgb(123,30,89)\"], [0.3764705882352941, \"rgb(150,27,91)\"], [0.4392156862745098, \"rgb(177,22,88)\"], [0.5019607843137255, \"rgb(203,26,79)\"], [0.5647058823529412, \"rgb(223,47,67)\"], [0.6274509803921569, \"rgb(236,76,61)\"], [0.6901960784313725, \"rgb(242,107,73)\"], [0.7529411764705882, \"rgb(244,135,95)\"], [0.8156862745098039, \"rgb(245,162,122)\"], [0.8784313725490196, \"rgb(246,188,153)\"], [0.9411764705882353, \"rgb(247,212,187)\"], [1.0, \"rgb(250,234,220)\"]], \"type\": \"heatmapgl\"}], \"histogram\": [{\"marker\": {\"colorbar\": {\"outlinewidth\": 0, \"tickcolor\": \"rgb(36,36,36)\", \"ticklen\": 8, \"ticks\": \"outside\", \"tickwidth\": 2}}, \"type\": \"histogram\"}], \"histogram2d\": [{\"colorbar\": {\"outlinewidth\": 0, \"tickcolor\": \"rgb(36,36,36)\", \"ticklen\": 8, \"ticks\": \"outside\", \"tickwidth\": 2}, \"colorscale\": [[0.0, \"rgb(2,4,25)\"], [0.06274509803921569, \"rgb(24,15,41)\"], [0.12549019607843137, \"rgb(47,23,57)\"], [0.18823529411764706, \"rgb(71,28,72)\"], [0.25098039215686274, \"rgb(97,30,82)\"], [0.3137254901960784, \"rgb(123,30,89)\"], [0.3764705882352941, \"rgb(150,27,91)\"], [0.4392156862745098, \"rgb(177,22,88)\"], [0.5019607843137255, \"rgb(203,26,79)\"], [0.5647058823529412, \"rgb(223,47,67)\"], [0.6274509803921569, \"rgb(236,76,61)\"], [0.6901960784313725, \"rgb(242,107,73)\"], [0.7529411764705882, \"rgb(244,135,95)\"], [0.8156862745098039, \"rgb(245,162,122)\"], [0.8784313725490196, \"rgb(246,188,153)\"], [0.9411764705882353, \"rgb(247,212,187)\"], [1.0, \"rgb(250,234,220)\"]], \"type\": \"histogram2d\"}], \"histogram2dcontour\": [{\"colorbar\": {\"outlinewidth\": 0, \"tickcolor\": \"rgb(36,36,36)\", \"ticklen\": 8, \"ticks\": \"outside\", \"tickwidth\": 2}, \"colorscale\": [[0.0, \"rgb(2,4,25)\"], [0.06274509803921569, \"rgb(24,15,41)\"], [0.12549019607843137, \"rgb(47,23,57)\"], [0.18823529411764706, \"rgb(71,28,72)\"], [0.25098039215686274, \"rgb(97,30,82)\"], [0.3137254901960784, \"rgb(123,30,89)\"], [0.3764705882352941, \"rgb(150,27,91)\"], [0.4392156862745098, \"rgb(177,22,88)\"], [0.5019607843137255, \"rgb(203,26,79)\"], [0.5647058823529412, \"rgb(223,47,67)\"], [0.6274509803921569, \"rgb(236,76,61)\"], [0.6901960784313725, \"rgb(242,107,73)\"], [0.7529411764705882, \"rgb(244,135,95)\"], [0.8156862745098039, \"rgb(245,162,122)\"], [0.8784313725490196, \"rgb(246,188,153)\"], [0.9411764705882353, \"rgb(247,212,187)\"], [1.0, \"rgb(250,234,220)\"]], \"type\": \"histogram2dcontour\"}], \"mesh3d\": [{\"colorbar\": {\"outlinewidth\": 0, \"tickcolor\": \"rgb(36,36,36)\", \"ticklen\": 8, \"ticks\": \"outside\", \"tickwidth\": 2}, \"type\": \"mesh3d\"}], \"parcoords\": [{\"line\": {\"colorbar\": {\"outlinewidth\": 0, \"tickcolor\": \"rgb(36,36,36)\", \"ticklen\": 8, \"ticks\": \"outside\", \"tickwidth\": 2}}, \"type\": \"parcoords\"}], \"pie\": [{\"automargin\": true, \"type\": \"pie\"}], \"scatter\": [{\"marker\": {\"colorbar\": {\"outlinewidth\": 0, \"tickcolor\": \"rgb(36,36,36)\", \"ticklen\": 8, \"ticks\": \"outside\", \"tickwidth\": 2}}, \"type\": \"scatter\"}], \"scatter3d\": [{\"line\": {\"colorbar\": {\"outlinewidth\": 0, \"tickcolor\": \"rgb(36,36,36)\", \"ticklen\": 8, \"ticks\": \"outside\", \"tickwidth\": 2}}, \"marker\": {\"colorbar\": {\"outlinewidth\": 0, \"tickcolor\": \"rgb(36,36,36)\", \"ticklen\": 8, \"ticks\": \"outside\", \"tickwidth\": 2}}, \"type\": \"scatter3d\"}], \"scattercarpet\": [{\"marker\": {\"colorbar\": {\"outlinewidth\": 0, \"tickcolor\": \"rgb(36,36,36)\", \"ticklen\": 8, \"ticks\": \"outside\", \"tickwidth\": 2}}, \"type\": \"scattercarpet\"}], \"scattergeo\": [{\"marker\": {\"colorbar\": {\"outlinewidth\": 0, \"tickcolor\": \"rgb(36,36,36)\", \"ticklen\": 8, \"ticks\": \"outside\", \"tickwidth\": 2}}, \"type\": \"scattergeo\"}], \"scattergl\": [{\"marker\": {\"colorbar\": {\"outlinewidth\": 0, \"tickcolor\": \"rgb(36,36,36)\", \"ticklen\": 8, \"ticks\": \"outside\", \"tickwidth\": 2}}, \"type\": \"scattergl\"}], \"scattermapbox\": [{\"marker\": {\"colorbar\": {\"outlinewidth\": 0, \"tickcolor\": \"rgb(36,36,36)\", \"ticklen\": 8, \"ticks\": \"outside\", \"tickwidth\": 2}}, \"type\": \"scattermapbox\"}], \"scatterpolar\": [{\"marker\": {\"colorbar\": {\"outlinewidth\": 0, \"tickcolor\": \"rgb(36,36,36)\", \"ticklen\": 8, \"ticks\": \"outside\", \"tickwidth\": 2}}, \"type\": \"scatterpolar\"}], \"scatterpolargl\": [{\"marker\": {\"colorbar\": {\"outlinewidth\": 0, \"tickcolor\": \"rgb(36,36,36)\", \"ticklen\": 8, \"ticks\": \"outside\", \"tickwidth\": 2}}, \"type\": \"scatterpolargl\"}], \"scatterternary\": [{\"marker\": {\"colorbar\": {\"outlinewidth\": 0, \"tickcolor\": \"rgb(36,36,36)\", \"ticklen\": 8, \"ticks\": \"outside\", \"tickwidth\": 2}}, \"type\": \"scatterternary\"}], \"surface\": [{\"colorbar\": {\"outlinewidth\": 0, \"tickcolor\": \"rgb(36,36,36)\", \"ticklen\": 8, \"ticks\": \"outside\", \"tickwidth\": 2}, \"colorscale\": [[0.0, \"rgb(2,4,25)\"], [0.06274509803921569, \"rgb(24,15,41)\"], [0.12549019607843137, \"rgb(47,23,57)\"], [0.18823529411764706, \"rgb(71,28,72)\"], [0.25098039215686274, \"rgb(97,30,82)\"], [0.3137254901960784, \"rgb(123,30,89)\"], [0.3764705882352941, \"rgb(150,27,91)\"], [0.4392156862745098, \"rgb(177,22,88)\"], [0.5019607843137255, \"rgb(203,26,79)\"], [0.5647058823529412, \"rgb(223,47,67)\"], [0.6274509803921569, \"rgb(236,76,61)\"], [0.6901960784313725, \"rgb(242,107,73)\"], [0.7529411764705882, \"rgb(244,135,95)\"], [0.8156862745098039, \"rgb(245,162,122)\"], [0.8784313725490196, \"rgb(246,188,153)\"], [0.9411764705882353, \"rgb(247,212,187)\"], [1.0, \"rgb(250,234,220)\"]], \"type\": \"surface\"}], \"table\": [{\"cells\": {\"fill\": {\"color\": \"rgb(231,231,240)\"}, \"line\": {\"color\": \"white\"}}, \"header\": {\"fill\": {\"color\": \"rgb(183,183,191)\"}, \"line\": {\"color\": \"white\"}}, \"type\": \"table\"}]}, \"layout\": {\"annotationdefaults\": {\"arrowcolor\": \"rgb(67,103,167)\"}, \"coloraxis\": {\"colorbar\": {\"outlinewidth\": 0, \"tickcolor\": \"rgb(36,36,36)\", \"ticklen\": 8, \"ticks\": \"outside\", \"tickwidth\": 2}}, \"colorscale\": {\"sequential\": [[0.0, \"rgb(2,4,25)\"], [0.06274509803921569, \"rgb(24,15,41)\"], [0.12549019607843137, \"rgb(47,23,57)\"], [0.18823529411764706, \"rgb(71,28,72)\"], [0.25098039215686274, \"rgb(97,30,82)\"], [0.3137254901960784, \"rgb(123,30,89)\"], [0.3764705882352941, \"rgb(150,27,91)\"], [0.4392156862745098, \"rgb(177,22,88)\"], [0.5019607843137255, \"rgb(203,26,79)\"], [0.5647058823529412, \"rgb(223,47,67)\"], [0.6274509803921569, \"rgb(236,76,61)\"], [0.6901960784313725, \"rgb(242,107,73)\"], [0.7529411764705882, \"rgb(244,135,95)\"], [0.8156862745098039, \"rgb(245,162,122)\"], [0.8784313725490196, \"rgb(246,188,153)\"], [0.9411764705882353, \"rgb(247,212,187)\"], [1.0, \"rgb(250,234,220)\"]], \"sequentialminus\": [[0.0, \"rgb(2,4,25)\"], [0.06274509803921569, \"rgb(24,15,41)\"], [0.12549019607843137, \"rgb(47,23,57)\"], [0.18823529411764706, \"rgb(71,28,72)\"], [0.25098039215686274, \"rgb(97,30,82)\"], [0.3137254901960784, \"rgb(123,30,89)\"], [0.3764705882352941, \"rgb(150,27,91)\"], [0.4392156862745098, \"rgb(177,22,88)\"], [0.5019607843137255, \"rgb(203,26,79)\"], [0.5647058823529412, \"rgb(223,47,67)\"], [0.6274509803921569, \"rgb(236,76,61)\"], [0.6901960784313725, \"rgb(242,107,73)\"], [0.7529411764705882, \"rgb(244,135,95)\"], [0.8156862745098039, \"rgb(245,162,122)\"], [0.8784313725490196, \"rgb(246,188,153)\"], [0.9411764705882353, \"rgb(247,212,187)\"], [1.0, \"rgb(250,234,220)\"]]}, \"colorway\": [\"rgb(76,114,176)\", \"rgb(221,132,82)\", \"rgb(85,168,104)\", \"rgb(196,78,82)\", \"rgb(129,114,179)\", \"rgb(147,120,96)\", \"rgb(218,139,195)\", \"rgb(140,140,140)\", \"rgb(204,185,116)\", \"rgb(100,181,205)\"], \"font\": {\"color\": \"rgb(36,36,36)\"}, \"geo\": {\"bgcolor\": \"white\", \"lakecolor\": \"white\", \"landcolor\": \"rgb(234,234,242)\", \"showlakes\": true, \"showland\": true, \"subunitcolor\": \"white\"}, \"hoverlabel\": {\"align\": \"left\"}, \"hovermode\": \"closest\", \"paper_bgcolor\": \"white\", \"plot_bgcolor\": \"rgb(234,234,242)\", \"polar\": {\"angularaxis\": {\"gridcolor\": \"white\", \"linecolor\": \"white\", \"showgrid\": true, \"ticks\": \"\"}, \"bgcolor\": \"rgb(234,234,242)\", \"radialaxis\": {\"gridcolor\": \"white\", \"linecolor\": \"white\", \"showgrid\": true, \"ticks\": \"\"}}, \"scene\": {\"xaxis\": {\"backgroundcolor\": \"rgb(234,234,242)\", \"gridcolor\": \"white\", \"gridwidth\": 2, \"linecolor\": \"white\", \"showbackground\": true, \"showgrid\": true, \"ticks\": \"\", \"zerolinecolor\": \"white\"}, \"yaxis\": {\"backgroundcolor\": \"rgb(234,234,242)\", \"gridcolor\": \"white\", \"gridwidth\": 2, \"linecolor\": \"white\", \"showbackground\": true, \"showgrid\": true, \"ticks\": \"\", \"zerolinecolor\": \"white\"}, \"zaxis\": {\"backgroundcolor\": \"rgb(234,234,242)\", \"gridcolor\": \"white\", \"gridwidth\": 2, \"linecolor\": \"white\", \"showbackground\": true, \"showgrid\": true, \"ticks\": \"\", \"zerolinecolor\": \"white\"}}, \"shapedefaults\": {\"fillcolor\": \"rgb(67,103,167)\", \"line\": {\"width\": 0}, \"opacity\": 0.5}, \"ternary\": {\"aaxis\": {\"gridcolor\": \"white\", \"linecolor\": \"white\", \"showgrid\": true, \"ticks\": \"\"}, \"baxis\": {\"gridcolor\": \"white\", \"linecolor\": \"white\", \"showgrid\": true, \"ticks\": \"\"}, \"bgcolor\": \"rgb(234,234,242)\", \"caxis\": {\"gridcolor\": \"white\", \"linecolor\": \"white\", \"showgrid\": true, \"ticks\": \"\"}}, \"xaxis\": {\"automargin\": true, \"gridcolor\": \"white\", \"linecolor\": \"white\", \"showgrid\": true, \"ticks\": \"\", \"title\": {\"standoff\": 15}, \"zerolinecolor\": \"white\"}, \"yaxis\": {\"automargin\": true, \"gridcolor\": \"white\", \"linecolor\": \"white\", \"showgrid\": true, \"ticks\": \"\", \"title\": {\"standoff\": 15}, \"zerolinecolor\": \"white\"}}}, \"xaxis\": {\"title\": {\"text\": \"\\ud3c9\\uc810\"}}, \"yaxis\": {\"nticks\": 5, \"tickformat\": \"%\"}},                        {\"responsive\": true}                    ).then(function(){\n",
       "                            \n",
       "var gd = document.getElementById('07dac1a7-813c-42ca-b3c1-490531b6393b');\n",
       "var x = new MutationObserver(function (mutations, observer) {{\n",
       "        var display = window.getComputedStyle(gd).display;\n",
       "        if (!display || display === 'none') {{\n",
       "            console.log([gd, 'removed!']);\n",
       "            Plotly.purge(gd);\n",
       "            observer.disconnect();\n",
       "        }}\n",
       "}});\n",
       "\n",
       "// Listen for the removal of the full notebook cells\n",
       "var notebookContainer = gd.closest('#notebook-container');\n",
       "if (notebookContainer) {{\n",
       "    x.observe(notebookContainer, {childList: true});\n",
       "}}\n",
       "\n",
       "// Listen for the clearing of the current output cell\n",
       "var outputEl = gd.closest('.output');\n",
       "if (outputEl) {{\n",
       "    x.observe(outputEl, {childList: true});\n",
       "}}\n",
       "\n",
       "                        })                };                });            </script>        </div>"
      ]
     },
     "metadata": {},
     "output_type": "display_data"
    }
   ],
   "source": [
    "x = g['score'].unique()\n",
    "y0 = g[g['attitude']==0]\n",
    "y1 = g[g['attitude'] ==1]\n",
    "y2 = g[g['attitude'] ==2]\n",
    "fig = go.Figure()\n",
    "\n",
    "fig.add_trace(go.Bar(x=x, y = y0.rate, name = \"부정\"))\n",
    "fig.add_trace(go.Bar(x=x, y = y1.rate, name = \"중립\"))\n",
    "fig.add_trace(go.Bar(x=x, y = y2.rate, name = \"긍정\"))\n",
    "\n",
    "fig.update_traces(hovertemplate = '평점: %{x}점 <br>비율: %{y}')\n",
    "#fig.update_layout(xaxis_type = 'category')\n",
    "#fig.update_yaxes(tickvals = [0, 20, 40, 60, 80, 100])\n",
    "fig.update_yaxes(nticks = 5)\n",
    "fig.update_xaxes(title = \"평점\")\n",
    "fig.update_layout(yaxis_tickformat = '%',\n",
    "                  barmode = 'relative',\n",
    "                 hoverlabel = dict(font_size = 15),\n",
    "                 template = 'seaborn') #stack으로 만들어짐\n",
    "\n",
    "\n",
    "fig.write_html(\"평점 별 긍부정 비율.html\")\n",
    "fig.show()"
   ]
  },
  {
   "cell_type": "markdown",
   "metadata": {},
   "source": [
    "## 평점 별 긍부정 리뷰 개수"
   ]
  },
  {
   "cell_type": "code",
   "execution_count": 18,
   "metadata": {},
   "outputs": [
    {
     "data": {
      "application/vnd.plotly.v1+json": {
       "config": {
        "plotlyServerURL": "https://plot.ly"
       },
       "data": [
        {
         "hovertemplate": "평점: %{x} <br>개수 : %{y}",
         "name": "부정",
         "type": "bar",
         "x": [
          2,
          3,
          4,
          5,
          6,
          7,
          8,
          9,
          10
         ],
         "y": [
          21,
          1,
          20,
          10,
          33,
          9,
          36,
          6,
          30
         ]
        },
        {
         "hovertemplate": "평점: %{x} <br>개수 : %{y}",
         "name": "중립",
         "type": "bar",
         "x": [
          2,
          3,
          4,
          5,
          6,
          7,
          8,
          9,
          10
         ],
         "y": [
          3,
          0,
          5,
          1,
          29,
          11,
          168,
          45,
          239
         ]
        },
        {
         "hovertemplate": "평점: %{x} <br>개수 : %{y}",
         "name": "긍정",
         "type": "bar",
         "x": [
          2,
          3,
          4,
          5,
          6,
          7,
          8,
          9,
          10
         ],
         "y": [
          3,
          0,
          3,
          0,
          12,
          4,
          196,
          66,
          1458
         ]
        }
       ],
       "layout": {
        "barmode": "relative",
        "hoverlabel": {
         "font": {
          "size": 15
         }
        },
        "template": {
         "data": {
          "bar": [
           {
            "error_x": {
             "color": "#2a3f5f"
            },
            "error_y": {
             "color": "#2a3f5f"
            },
            "marker": {
             "line": {
              "color": "white",
              "width": 0.5
             }
            },
            "type": "bar"
           }
          ],
          "barpolar": [
           {
            "marker": {
             "line": {
              "color": "white",
              "width": 0.5
             }
            },
            "type": "barpolar"
           }
          ],
          "carpet": [
           {
            "aaxis": {
             "endlinecolor": "#2a3f5f",
             "gridcolor": "#C8D4E3",
             "linecolor": "#C8D4E3",
             "minorgridcolor": "#C8D4E3",
             "startlinecolor": "#2a3f5f"
            },
            "baxis": {
             "endlinecolor": "#2a3f5f",
             "gridcolor": "#C8D4E3",
             "linecolor": "#C8D4E3",
             "minorgridcolor": "#C8D4E3",
             "startlinecolor": "#2a3f5f"
            },
            "type": "carpet"
           }
          ],
          "choropleth": [
           {
            "colorbar": {
             "outlinewidth": 0,
             "ticks": ""
            },
            "type": "choropleth"
           }
          ],
          "contour": [
           {
            "colorbar": {
             "outlinewidth": 0,
             "ticks": ""
            },
            "colorscale": [
             [
              0,
              "#0d0887"
             ],
             [
              0.1111111111111111,
              "#46039f"
             ],
             [
              0.2222222222222222,
              "#7201a8"
             ],
             [
              0.3333333333333333,
              "#9c179e"
             ],
             [
              0.4444444444444444,
              "#bd3786"
             ],
             [
              0.5555555555555556,
              "#d8576b"
             ],
             [
              0.6666666666666666,
              "#ed7953"
             ],
             [
              0.7777777777777778,
              "#fb9f3a"
             ],
             [
              0.8888888888888888,
              "#fdca26"
             ],
             [
              1,
              "#f0f921"
             ]
            ],
            "type": "contour"
           }
          ],
          "contourcarpet": [
           {
            "colorbar": {
             "outlinewidth": 0,
             "ticks": ""
            },
            "type": "contourcarpet"
           }
          ],
          "heatmap": [
           {
            "colorbar": {
             "outlinewidth": 0,
             "ticks": ""
            },
            "colorscale": [
             [
              0,
              "#0d0887"
             ],
             [
              0.1111111111111111,
              "#46039f"
             ],
             [
              0.2222222222222222,
              "#7201a8"
             ],
             [
              0.3333333333333333,
              "#9c179e"
             ],
             [
              0.4444444444444444,
              "#bd3786"
             ],
             [
              0.5555555555555556,
              "#d8576b"
             ],
             [
              0.6666666666666666,
              "#ed7953"
             ],
             [
              0.7777777777777778,
              "#fb9f3a"
             ],
             [
              0.8888888888888888,
              "#fdca26"
             ],
             [
              1,
              "#f0f921"
             ]
            ],
            "type": "heatmap"
           }
          ],
          "heatmapgl": [
           {
            "colorbar": {
             "outlinewidth": 0,
             "ticks": ""
            },
            "colorscale": [
             [
              0,
              "#0d0887"
             ],
             [
              0.1111111111111111,
              "#46039f"
             ],
             [
              0.2222222222222222,
              "#7201a8"
             ],
             [
              0.3333333333333333,
              "#9c179e"
             ],
             [
              0.4444444444444444,
              "#bd3786"
             ],
             [
              0.5555555555555556,
              "#d8576b"
             ],
             [
              0.6666666666666666,
              "#ed7953"
             ],
             [
              0.7777777777777778,
              "#fb9f3a"
             ],
             [
              0.8888888888888888,
              "#fdca26"
             ],
             [
              1,
              "#f0f921"
             ]
            ],
            "type": "heatmapgl"
           }
          ],
          "histogram": [
           {
            "marker": {
             "colorbar": {
              "outlinewidth": 0,
              "ticks": ""
             }
            },
            "type": "histogram"
           }
          ],
          "histogram2d": [
           {
            "colorbar": {
             "outlinewidth": 0,
             "ticks": ""
            },
            "colorscale": [
             [
              0,
              "#0d0887"
             ],
             [
              0.1111111111111111,
              "#46039f"
             ],
             [
              0.2222222222222222,
              "#7201a8"
             ],
             [
              0.3333333333333333,
              "#9c179e"
             ],
             [
              0.4444444444444444,
              "#bd3786"
             ],
             [
              0.5555555555555556,
              "#d8576b"
             ],
             [
              0.6666666666666666,
              "#ed7953"
             ],
             [
              0.7777777777777778,
              "#fb9f3a"
             ],
             [
              0.8888888888888888,
              "#fdca26"
             ],
             [
              1,
              "#f0f921"
             ]
            ],
            "type": "histogram2d"
           }
          ],
          "histogram2dcontour": [
           {
            "colorbar": {
             "outlinewidth": 0,
             "ticks": ""
            },
            "colorscale": [
             [
              0,
              "#0d0887"
             ],
             [
              0.1111111111111111,
              "#46039f"
             ],
             [
              0.2222222222222222,
              "#7201a8"
             ],
             [
              0.3333333333333333,
              "#9c179e"
             ],
             [
              0.4444444444444444,
              "#bd3786"
             ],
             [
              0.5555555555555556,
              "#d8576b"
             ],
             [
              0.6666666666666666,
              "#ed7953"
             ],
             [
              0.7777777777777778,
              "#fb9f3a"
             ],
             [
              0.8888888888888888,
              "#fdca26"
             ],
             [
              1,
              "#f0f921"
             ]
            ],
            "type": "histogram2dcontour"
           }
          ],
          "mesh3d": [
           {
            "colorbar": {
             "outlinewidth": 0,
             "ticks": ""
            },
            "type": "mesh3d"
           }
          ],
          "parcoords": [
           {
            "line": {
             "colorbar": {
              "outlinewidth": 0,
              "ticks": ""
             }
            },
            "type": "parcoords"
           }
          ],
          "pie": [
           {
            "automargin": true,
            "type": "pie"
           }
          ],
          "scatter": [
           {
            "marker": {
             "colorbar": {
              "outlinewidth": 0,
              "ticks": ""
             }
            },
            "type": "scatter"
           }
          ],
          "scatter3d": [
           {
            "line": {
             "colorbar": {
              "outlinewidth": 0,
              "ticks": ""
             }
            },
            "marker": {
             "colorbar": {
              "outlinewidth": 0,
              "ticks": ""
             }
            },
            "type": "scatter3d"
           }
          ],
          "scattercarpet": [
           {
            "marker": {
             "colorbar": {
              "outlinewidth": 0,
              "ticks": ""
             }
            },
            "type": "scattercarpet"
           }
          ],
          "scattergeo": [
           {
            "marker": {
             "colorbar": {
              "outlinewidth": 0,
              "ticks": ""
             }
            },
            "type": "scattergeo"
           }
          ],
          "scattergl": [
           {
            "marker": {
             "colorbar": {
              "outlinewidth": 0,
              "ticks": ""
             }
            },
            "type": "scattergl"
           }
          ],
          "scattermapbox": [
           {
            "marker": {
             "colorbar": {
              "outlinewidth": 0,
              "ticks": ""
             }
            },
            "type": "scattermapbox"
           }
          ],
          "scatterpolar": [
           {
            "marker": {
             "colorbar": {
              "outlinewidth": 0,
              "ticks": ""
             }
            },
            "type": "scatterpolar"
           }
          ],
          "scatterpolargl": [
           {
            "marker": {
             "colorbar": {
              "outlinewidth": 0,
              "ticks": ""
             }
            },
            "type": "scatterpolargl"
           }
          ],
          "scatterternary": [
           {
            "marker": {
             "colorbar": {
              "outlinewidth": 0,
              "ticks": ""
             }
            },
            "type": "scatterternary"
           }
          ],
          "surface": [
           {
            "colorbar": {
             "outlinewidth": 0,
             "ticks": ""
            },
            "colorscale": [
             [
              0,
              "#0d0887"
             ],
             [
              0.1111111111111111,
              "#46039f"
             ],
             [
              0.2222222222222222,
              "#7201a8"
             ],
             [
              0.3333333333333333,
              "#9c179e"
             ],
             [
              0.4444444444444444,
              "#bd3786"
             ],
             [
              0.5555555555555556,
              "#d8576b"
             ],
             [
              0.6666666666666666,
              "#ed7953"
             ],
             [
              0.7777777777777778,
              "#fb9f3a"
             ],
             [
              0.8888888888888888,
              "#fdca26"
             ],
             [
              1,
              "#f0f921"
             ]
            ],
            "type": "surface"
           }
          ],
          "table": [
           {
            "cells": {
             "fill": {
              "color": "#EBF0F8"
             },
             "line": {
              "color": "white"
             }
            },
            "header": {
             "fill": {
              "color": "#C8D4E3"
             },
             "line": {
              "color": "white"
             }
            },
            "type": "table"
           }
          ]
         },
         "layout": {
          "annotationdefaults": {
           "arrowcolor": "#2a3f5f",
           "arrowhead": 0,
           "arrowwidth": 1
          },
          "coloraxis": {
           "colorbar": {
            "outlinewidth": 0,
            "ticks": ""
           }
          },
          "colorscale": {
           "diverging": [
            [
             0,
             "#8e0152"
            ],
            [
             0.1,
             "#c51b7d"
            ],
            [
             0.2,
             "#de77ae"
            ],
            [
             0.3,
             "#f1b6da"
            ],
            [
             0.4,
             "#fde0ef"
            ],
            [
             0.5,
             "#f7f7f7"
            ],
            [
             0.6,
             "#e6f5d0"
            ],
            [
             0.7,
             "#b8e186"
            ],
            [
             0.8,
             "#7fbc41"
            ],
            [
             0.9,
             "#4d9221"
            ],
            [
             1,
             "#276419"
            ]
           ],
           "sequential": [
            [
             0,
             "#0d0887"
            ],
            [
             0.1111111111111111,
             "#46039f"
            ],
            [
             0.2222222222222222,
             "#7201a8"
            ],
            [
             0.3333333333333333,
             "#9c179e"
            ],
            [
             0.4444444444444444,
             "#bd3786"
            ],
            [
             0.5555555555555556,
             "#d8576b"
            ],
            [
             0.6666666666666666,
             "#ed7953"
            ],
            [
             0.7777777777777778,
             "#fb9f3a"
            ],
            [
             0.8888888888888888,
             "#fdca26"
            ],
            [
             1,
             "#f0f921"
            ]
           ],
           "sequentialminus": [
            [
             0,
             "#0d0887"
            ],
            [
             0.1111111111111111,
             "#46039f"
            ],
            [
             0.2222222222222222,
             "#7201a8"
            ],
            [
             0.3333333333333333,
             "#9c179e"
            ],
            [
             0.4444444444444444,
             "#bd3786"
            ],
            [
             0.5555555555555556,
             "#d8576b"
            ],
            [
             0.6666666666666666,
             "#ed7953"
            ],
            [
             0.7777777777777778,
             "#fb9f3a"
            ],
            [
             0.8888888888888888,
             "#fdca26"
            ],
            [
             1,
             "#f0f921"
            ]
           ]
          },
          "colorway": [
           "#636efa",
           "#EF553B",
           "#00cc96",
           "#ab63fa",
           "#FFA15A",
           "#19d3f3",
           "#FF6692",
           "#B6E880",
           "#FF97FF",
           "#FECB52"
          ],
          "font": {
           "color": "#2a3f5f"
          },
          "geo": {
           "bgcolor": "white",
           "lakecolor": "white",
           "landcolor": "white",
           "showlakes": true,
           "showland": true,
           "subunitcolor": "#C8D4E3"
          },
          "hoverlabel": {
           "align": "left"
          },
          "hovermode": "closest",
          "mapbox": {
           "style": "light"
          },
          "paper_bgcolor": "white",
          "plot_bgcolor": "white",
          "polar": {
           "angularaxis": {
            "gridcolor": "#EBF0F8",
            "linecolor": "#EBF0F8",
            "ticks": ""
           },
           "bgcolor": "white",
           "radialaxis": {
            "gridcolor": "#EBF0F8",
            "linecolor": "#EBF0F8",
            "ticks": ""
           }
          },
          "scene": {
           "xaxis": {
            "backgroundcolor": "white",
            "gridcolor": "#DFE8F3",
            "gridwidth": 2,
            "linecolor": "#EBF0F8",
            "showbackground": true,
            "ticks": "",
            "zerolinecolor": "#EBF0F8"
           },
           "yaxis": {
            "backgroundcolor": "white",
            "gridcolor": "#DFE8F3",
            "gridwidth": 2,
            "linecolor": "#EBF0F8",
            "showbackground": true,
            "ticks": "",
            "zerolinecolor": "#EBF0F8"
           },
           "zaxis": {
            "backgroundcolor": "white",
            "gridcolor": "#DFE8F3",
            "gridwidth": 2,
            "linecolor": "#EBF0F8",
            "showbackground": true,
            "ticks": "",
            "zerolinecolor": "#EBF0F8"
           }
          },
          "shapedefaults": {
           "line": {
            "color": "#2a3f5f"
           }
          },
          "ternary": {
           "aaxis": {
            "gridcolor": "#DFE8F3",
            "linecolor": "#A2B1C6",
            "ticks": ""
           },
           "baxis": {
            "gridcolor": "#DFE8F3",
            "linecolor": "#A2B1C6",
            "ticks": ""
           },
           "bgcolor": "white",
           "caxis": {
            "gridcolor": "#DFE8F3",
            "linecolor": "#A2B1C6",
            "ticks": ""
           }
          },
          "title": {
           "x": 0.05
          },
          "xaxis": {
           "automargin": true,
           "gridcolor": "#EBF0F8",
           "linecolor": "#EBF0F8",
           "ticks": "",
           "title": {
            "standoff": 15
           },
           "zerolinecolor": "#EBF0F8",
           "zerolinewidth": 2
          },
          "yaxis": {
           "automargin": true,
           "gridcolor": "#EBF0F8",
           "linecolor": "#EBF0F8",
           "ticks": "",
           "title": {
            "standoff": 15
           },
           "zerolinecolor": "#EBF0F8",
           "zerolinewidth": 2
          }
         }
        },
        "yaxis": {
         "nticks": 5
        }
       }
      },
      "text/html": [
       "<div>                            <div id=\"9b906d95-4ce3-4b85-a7f9-6af0b8f89127\" class=\"plotly-graph-div\" style=\"height:525px; width:100%;\"></div>            <script type=\"text/javascript\">                require([\"plotly\"], function(Plotly) {                    window.PLOTLYENV=window.PLOTLYENV || {};                                    if (document.getElementById(\"9b906d95-4ce3-4b85-a7f9-6af0b8f89127\")) {                    Plotly.newPlot(                        \"9b906d95-4ce3-4b85-a7f9-6af0b8f89127\",                        [{\"hovertemplate\": \"\\ud3c9\\uc810: %{x} <br>\\uac1c\\uc218 : %{y}\", \"name\": \"\\ubd80\\uc815\", \"type\": \"bar\", \"x\": [2, 3, 4, 5, 6, 7, 8, 9, 10], \"y\": [21, 1, 20, 10, 33, 9, 36, 6, 30]}, {\"hovertemplate\": \"\\ud3c9\\uc810: %{x} <br>\\uac1c\\uc218 : %{y}\", \"name\": \"\\uc911\\ub9bd\", \"type\": \"bar\", \"x\": [2, 3, 4, 5, 6, 7, 8, 9, 10], \"y\": [3, 0, 5, 1, 29, 11, 168, 45, 239]}, {\"hovertemplate\": \"\\ud3c9\\uc810: %{x} <br>\\uac1c\\uc218 : %{y}\", \"name\": \"\\uae0d\\uc815\", \"type\": \"bar\", \"x\": [2, 3, 4, 5, 6, 7, 8, 9, 10], \"y\": [3, 0, 3, 0, 12, 4, 196, 66, 1458]}],                        {\"barmode\": \"relative\", \"hoverlabel\": {\"font\": {\"size\": 15}}, \"template\": {\"data\": {\"bar\": [{\"error_x\": {\"color\": \"#2a3f5f\"}, \"error_y\": {\"color\": \"#2a3f5f\"}, \"marker\": {\"line\": {\"color\": \"white\", \"width\": 0.5}}, \"type\": \"bar\"}], \"barpolar\": [{\"marker\": {\"line\": {\"color\": \"white\", \"width\": 0.5}}, \"type\": \"barpolar\"}], \"carpet\": [{\"aaxis\": {\"endlinecolor\": \"#2a3f5f\", \"gridcolor\": \"#C8D4E3\", \"linecolor\": \"#C8D4E3\", \"minorgridcolor\": \"#C8D4E3\", \"startlinecolor\": \"#2a3f5f\"}, \"baxis\": {\"endlinecolor\": \"#2a3f5f\", \"gridcolor\": \"#C8D4E3\", \"linecolor\": \"#C8D4E3\", \"minorgridcolor\": \"#C8D4E3\", \"startlinecolor\": \"#2a3f5f\"}, \"type\": \"carpet\"}], \"choropleth\": [{\"colorbar\": {\"outlinewidth\": 0, \"ticks\": \"\"}, \"type\": \"choropleth\"}], \"contour\": [{\"colorbar\": {\"outlinewidth\": 0, \"ticks\": \"\"}, \"colorscale\": [[0.0, \"#0d0887\"], [0.1111111111111111, \"#46039f\"], [0.2222222222222222, \"#7201a8\"], [0.3333333333333333, \"#9c179e\"], [0.4444444444444444, \"#bd3786\"], [0.5555555555555556, \"#d8576b\"], [0.6666666666666666, \"#ed7953\"], [0.7777777777777778, \"#fb9f3a\"], [0.8888888888888888, \"#fdca26\"], [1.0, \"#f0f921\"]], \"type\": \"contour\"}], \"contourcarpet\": [{\"colorbar\": {\"outlinewidth\": 0, \"ticks\": \"\"}, \"type\": \"contourcarpet\"}], \"heatmap\": [{\"colorbar\": {\"outlinewidth\": 0, \"ticks\": \"\"}, \"colorscale\": [[0.0, \"#0d0887\"], [0.1111111111111111, \"#46039f\"], [0.2222222222222222, \"#7201a8\"], [0.3333333333333333, \"#9c179e\"], [0.4444444444444444, \"#bd3786\"], [0.5555555555555556, \"#d8576b\"], [0.6666666666666666, \"#ed7953\"], [0.7777777777777778, \"#fb9f3a\"], [0.8888888888888888, \"#fdca26\"], [1.0, \"#f0f921\"]], \"type\": \"heatmap\"}], \"heatmapgl\": [{\"colorbar\": {\"outlinewidth\": 0, \"ticks\": \"\"}, \"colorscale\": [[0.0, \"#0d0887\"], [0.1111111111111111, \"#46039f\"], [0.2222222222222222, \"#7201a8\"], [0.3333333333333333, \"#9c179e\"], [0.4444444444444444, \"#bd3786\"], [0.5555555555555556, \"#d8576b\"], [0.6666666666666666, \"#ed7953\"], [0.7777777777777778, \"#fb9f3a\"], [0.8888888888888888, \"#fdca26\"], [1.0, \"#f0f921\"]], \"type\": \"heatmapgl\"}], \"histogram\": [{\"marker\": {\"colorbar\": {\"outlinewidth\": 0, \"ticks\": \"\"}}, \"type\": \"histogram\"}], \"histogram2d\": [{\"colorbar\": {\"outlinewidth\": 0, \"ticks\": \"\"}, \"colorscale\": [[0.0, \"#0d0887\"], [0.1111111111111111, \"#46039f\"], [0.2222222222222222, \"#7201a8\"], [0.3333333333333333, \"#9c179e\"], [0.4444444444444444, \"#bd3786\"], [0.5555555555555556, \"#d8576b\"], [0.6666666666666666, \"#ed7953\"], [0.7777777777777778, \"#fb9f3a\"], [0.8888888888888888, \"#fdca26\"], [1.0, \"#f0f921\"]], \"type\": \"histogram2d\"}], \"histogram2dcontour\": [{\"colorbar\": {\"outlinewidth\": 0, \"ticks\": \"\"}, \"colorscale\": [[0.0, \"#0d0887\"], [0.1111111111111111, \"#46039f\"], [0.2222222222222222, \"#7201a8\"], [0.3333333333333333, \"#9c179e\"], [0.4444444444444444, \"#bd3786\"], [0.5555555555555556, \"#d8576b\"], [0.6666666666666666, \"#ed7953\"], [0.7777777777777778, \"#fb9f3a\"], [0.8888888888888888, \"#fdca26\"], [1.0, \"#f0f921\"]], \"type\": \"histogram2dcontour\"}], \"mesh3d\": [{\"colorbar\": {\"outlinewidth\": 0, \"ticks\": \"\"}, \"type\": \"mesh3d\"}], \"parcoords\": [{\"line\": {\"colorbar\": {\"outlinewidth\": 0, \"ticks\": \"\"}}, \"type\": \"parcoords\"}], \"pie\": [{\"automargin\": true, \"type\": \"pie\"}], \"scatter\": [{\"marker\": {\"colorbar\": {\"outlinewidth\": 0, \"ticks\": \"\"}}, \"type\": \"scatter\"}], \"scatter3d\": [{\"line\": {\"colorbar\": {\"outlinewidth\": 0, \"ticks\": \"\"}}, \"marker\": {\"colorbar\": {\"outlinewidth\": 0, \"ticks\": \"\"}}, \"type\": \"scatter3d\"}], \"scattercarpet\": [{\"marker\": {\"colorbar\": {\"outlinewidth\": 0, \"ticks\": \"\"}}, \"type\": \"scattercarpet\"}], \"scattergeo\": [{\"marker\": {\"colorbar\": {\"outlinewidth\": 0, \"ticks\": \"\"}}, \"type\": \"scattergeo\"}], \"scattergl\": [{\"marker\": {\"colorbar\": {\"outlinewidth\": 0, \"ticks\": \"\"}}, \"type\": \"scattergl\"}], \"scattermapbox\": [{\"marker\": {\"colorbar\": {\"outlinewidth\": 0, \"ticks\": \"\"}}, \"type\": \"scattermapbox\"}], \"scatterpolar\": [{\"marker\": {\"colorbar\": {\"outlinewidth\": 0, \"ticks\": \"\"}}, \"type\": \"scatterpolar\"}], \"scatterpolargl\": [{\"marker\": {\"colorbar\": {\"outlinewidth\": 0, \"ticks\": \"\"}}, \"type\": \"scatterpolargl\"}], \"scatterternary\": [{\"marker\": {\"colorbar\": {\"outlinewidth\": 0, \"ticks\": \"\"}}, \"type\": \"scatterternary\"}], \"surface\": [{\"colorbar\": {\"outlinewidth\": 0, \"ticks\": \"\"}, \"colorscale\": [[0.0, \"#0d0887\"], [0.1111111111111111, \"#46039f\"], [0.2222222222222222, \"#7201a8\"], [0.3333333333333333, \"#9c179e\"], [0.4444444444444444, \"#bd3786\"], [0.5555555555555556, \"#d8576b\"], [0.6666666666666666, \"#ed7953\"], [0.7777777777777778, \"#fb9f3a\"], [0.8888888888888888, \"#fdca26\"], [1.0, \"#f0f921\"]], \"type\": \"surface\"}], \"table\": [{\"cells\": {\"fill\": {\"color\": \"#EBF0F8\"}, \"line\": {\"color\": \"white\"}}, \"header\": {\"fill\": {\"color\": \"#C8D4E3\"}, \"line\": {\"color\": \"white\"}}, \"type\": \"table\"}]}, \"layout\": {\"annotationdefaults\": {\"arrowcolor\": \"#2a3f5f\", \"arrowhead\": 0, \"arrowwidth\": 1}, \"coloraxis\": {\"colorbar\": {\"outlinewidth\": 0, \"ticks\": \"\"}}, \"colorscale\": {\"diverging\": [[0, \"#8e0152\"], [0.1, \"#c51b7d\"], [0.2, \"#de77ae\"], [0.3, \"#f1b6da\"], [0.4, \"#fde0ef\"], [0.5, \"#f7f7f7\"], [0.6, \"#e6f5d0\"], [0.7, \"#b8e186\"], [0.8, \"#7fbc41\"], [0.9, \"#4d9221\"], [1, \"#276419\"]], \"sequential\": [[0.0, \"#0d0887\"], [0.1111111111111111, \"#46039f\"], [0.2222222222222222, \"#7201a8\"], [0.3333333333333333, \"#9c179e\"], [0.4444444444444444, \"#bd3786\"], [0.5555555555555556, \"#d8576b\"], [0.6666666666666666, \"#ed7953\"], [0.7777777777777778, \"#fb9f3a\"], [0.8888888888888888, \"#fdca26\"], [1.0, \"#f0f921\"]], \"sequentialminus\": [[0.0, \"#0d0887\"], [0.1111111111111111, \"#46039f\"], [0.2222222222222222, \"#7201a8\"], [0.3333333333333333, \"#9c179e\"], [0.4444444444444444, \"#bd3786\"], [0.5555555555555556, \"#d8576b\"], [0.6666666666666666, \"#ed7953\"], [0.7777777777777778, \"#fb9f3a\"], [0.8888888888888888, \"#fdca26\"], [1.0, \"#f0f921\"]]}, \"colorway\": [\"#636efa\", \"#EF553B\", \"#00cc96\", \"#ab63fa\", \"#FFA15A\", \"#19d3f3\", \"#FF6692\", \"#B6E880\", \"#FF97FF\", \"#FECB52\"], \"font\": {\"color\": \"#2a3f5f\"}, \"geo\": {\"bgcolor\": \"white\", \"lakecolor\": \"white\", \"landcolor\": \"white\", \"showlakes\": true, \"showland\": true, \"subunitcolor\": \"#C8D4E3\"}, \"hoverlabel\": {\"align\": \"left\"}, \"hovermode\": \"closest\", \"mapbox\": {\"style\": \"light\"}, \"paper_bgcolor\": \"white\", \"plot_bgcolor\": \"white\", \"polar\": {\"angularaxis\": {\"gridcolor\": \"#EBF0F8\", \"linecolor\": \"#EBF0F8\", \"ticks\": \"\"}, \"bgcolor\": \"white\", \"radialaxis\": {\"gridcolor\": \"#EBF0F8\", \"linecolor\": \"#EBF0F8\", \"ticks\": \"\"}}, \"scene\": {\"xaxis\": {\"backgroundcolor\": \"white\", \"gridcolor\": \"#DFE8F3\", \"gridwidth\": 2, \"linecolor\": \"#EBF0F8\", \"showbackground\": true, \"ticks\": \"\", \"zerolinecolor\": \"#EBF0F8\"}, \"yaxis\": {\"backgroundcolor\": \"white\", \"gridcolor\": \"#DFE8F3\", \"gridwidth\": 2, \"linecolor\": \"#EBF0F8\", \"showbackground\": true, \"ticks\": \"\", \"zerolinecolor\": \"#EBF0F8\"}, \"zaxis\": {\"backgroundcolor\": \"white\", \"gridcolor\": \"#DFE8F3\", \"gridwidth\": 2, \"linecolor\": \"#EBF0F8\", \"showbackground\": true, \"ticks\": \"\", \"zerolinecolor\": \"#EBF0F8\"}}, \"shapedefaults\": {\"line\": {\"color\": \"#2a3f5f\"}}, \"ternary\": {\"aaxis\": {\"gridcolor\": \"#DFE8F3\", \"linecolor\": \"#A2B1C6\", \"ticks\": \"\"}, \"baxis\": {\"gridcolor\": \"#DFE8F3\", \"linecolor\": \"#A2B1C6\", \"ticks\": \"\"}, \"bgcolor\": \"white\", \"caxis\": {\"gridcolor\": \"#DFE8F3\", \"linecolor\": \"#A2B1C6\", \"ticks\": \"\"}}, \"title\": {\"x\": 0.05}, \"xaxis\": {\"automargin\": true, \"gridcolor\": \"#EBF0F8\", \"linecolor\": \"#EBF0F8\", \"ticks\": \"\", \"title\": {\"standoff\": 15}, \"zerolinecolor\": \"#EBF0F8\", \"zerolinewidth\": 2}, \"yaxis\": {\"automargin\": true, \"gridcolor\": \"#EBF0F8\", \"linecolor\": \"#EBF0F8\", \"ticks\": \"\", \"title\": {\"standoff\": 15}, \"zerolinecolor\": \"#EBF0F8\", \"zerolinewidth\": 2}}}, \"yaxis\": {\"nticks\": 5}},                        {\"responsive\": true}                    ).then(function(){\n",
       "                            \n",
       "var gd = document.getElementById('9b906d95-4ce3-4b85-a7f9-6af0b8f89127');\n",
       "var x = new MutationObserver(function (mutations, observer) {{\n",
       "        var display = window.getComputedStyle(gd).display;\n",
       "        if (!display || display === 'none') {{\n",
       "            console.log([gd, 'removed!']);\n",
       "            Plotly.purge(gd);\n",
       "            observer.disconnect();\n",
       "        }}\n",
       "}});\n",
       "\n",
       "// Listen for the removal of the full notebook cells\n",
       "var notebookContainer = gd.closest('#notebook-container');\n",
       "if (notebookContainer) {{\n",
       "    x.observe(notebookContainer, {childList: true});\n",
       "}}\n",
       "\n",
       "// Listen for the clearing of the current output cell\n",
       "var outputEl = gd.closest('.output');\n",
       "if (outputEl) {{\n",
       "    x.observe(outputEl, {childList: true});\n",
       "}}\n",
       "\n",
       "                        })                };                });            </script>        </div>"
      ]
     },
     "metadata": {},
     "output_type": "display_data"
    }
   ],
   "source": [
    "x = g['score'].unique()\n",
    "y0 = g[g['attitude']==0]\n",
    "y1 = g[g['attitude'] ==1]\n",
    "y2 = g[g['attitude'] ==2]\n",
    "fig = go.Figure()\n",
    "\n",
    "fig.add_trace(go.Bar(x=x, y = y0.res, name = \"부정\"))\n",
    "fig.add_trace(go.Bar(x=x, y = y1.res, name = \"중립\"))\n",
    "fig.add_trace(go.Bar(x=x, y = y2.res, name = \"긍정\"))\n",
    "\n",
    "fig.update_traces(hovertemplate = '평점: %{x} <br>개수 : %{y}')\n",
    "#fig.update_layout(xaxis_type = 'category')\n",
    "fig.update_yaxes(nticks = 5)\n",
    "fig.update_layout(\n",
    "                  barmode = 'relative',\n",
    "                 hoverlabel = dict(font_size = 15),\n",
    "                template = 'plotly_white') #stack으로 만들어짐\n",
    "\n",
    "\n",
    "fig.write_html(\"평점 별 긍부정.html\")\n",
    "fig.show()"
   ]
  },
  {
   "cell_type": "markdown",
   "metadata": {},
   "source": [
    "부정적인 리뷰를 써도, 별점은 높게 줌.\n",
    "별점만으로 긍/부정을 파악할 수 없음.\n",
    "리뷰 내용을 봐야 호텔의 진짜 상태를 파악할 수 있는 것 "
   ]
  },
  {
   "cell_type": "markdown",
   "metadata": {},
   "source": [
    "## atttitude 별 성실 불성실 비율 "
   ]
  },
  {
   "cell_type": "code",
   "execution_count": 19,
   "metadata": {},
   "outputs": [
    {
     "data": {
      "text/html": [
       "<div>\n",
       "<style scoped>\n",
       "    .dataframe tbody tr th:only-of-type {\n",
       "        vertical-align: middle;\n",
       "    }\n",
       "\n",
       "    .dataframe tbody tr th {\n",
       "        vertical-align: top;\n",
       "    }\n",
       "\n",
       "    .dataframe thead th {\n",
       "        text-align: right;\n",
       "    }\n",
       "</style>\n",
       "<table border=\"1\" class=\"dataframe\">\n",
       "  <thead>\n",
       "    <tr style=\"text-align: right;\">\n",
       "      <th></th>\n",
       "      <th>attitude</th>\n",
       "      <th>helpful</th>\n",
       "      <th>res</th>\n",
       "      <th>all</th>\n",
       "      <th>rate</th>\n",
       "    </tr>\n",
       "  </thead>\n",
       "  <tbody>\n",
       "    <tr>\n",
       "      <th>0</th>\n",
       "      <td>0</td>\n",
       "      <td>0</td>\n",
       "      <td>37</td>\n",
       "      <td>166</td>\n",
       "      <td>0.222892</td>\n",
       "    </tr>\n",
       "    <tr>\n",
       "      <th>1</th>\n",
       "      <td>0</td>\n",
       "      <td>1</td>\n",
       "      <td>129</td>\n",
       "      <td>166</td>\n",
       "      <td>0.777108</td>\n",
       "    </tr>\n",
       "    <tr>\n",
       "      <th>2</th>\n",
       "      <td>1</td>\n",
       "      <td>0</td>\n",
       "      <td>147</td>\n",
       "      <td>501</td>\n",
       "      <td>0.293413</td>\n",
       "    </tr>\n",
       "    <tr>\n",
       "      <th>3</th>\n",
       "      <td>1</td>\n",
       "      <td>1</td>\n",
       "      <td>354</td>\n",
       "      <td>501</td>\n",
       "      <td>0.706587</td>\n",
       "    </tr>\n",
       "    <tr>\n",
       "      <th>4</th>\n",
       "      <td>2</td>\n",
       "      <td>0</td>\n",
       "      <td>1257</td>\n",
       "      <td>1742</td>\n",
       "      <td>0.721584</td>\n",
       "    </tr>\n",
       "    <tr>\n",
       "      <th>5</th>\n",
       "      <td>2</td>\n",
       "      <td>1</td>\n",
       "      <td>485</td>\n",
       "      <td>1742</td>\n",
       "      <td>0.278416</td>\n",
       "    </tr>\n",
       "  </tbody>\n",
       "</table>\n",
       "</div>"
      ],
      "text/plain": [
       "   attitude  helpful   res   all      rate\n",
       "0         0        0    37   166  0.222892\n",
       "1         0        1   129   166  0.777108\n",
       "2         1        0   147   501  0.293413\n",
       "3         1        1   354   501  0.706587\n",
       "4         2        0  1257  1742  0.721584\n",
       "5         2        1   485  1742  0.278416"
      ]
     },
     "execution_count": 19,
     "metadata": {},
     "output_type": "execute_result"
    }
   ],
   "source": [
    "g = df.groupby(['attitude','helpful']).count().site.reset_index()\n",
    "g.columns = ['attitude', 'helpful', 'res']\n",
    "all = g.groupby(['attitude']).sum().res\n",
    "all = all.reset_index()\n",
    "all.columns = ['attitude','all']\n",
    "g = g.merge(all)\n",
    "g['rate'] = g['res']/g['all']\n",
    "\n",
    "g = g.sort_values([\"attitude\",\"helpful\"])\n",
    "g"
   ]
  },
  {
   "cell_type": "code",
   "execution_count": 20,
   "metadata": {},
   "outputs": [
    {
     "data": {
      "application/vnd.plotly.v1+json": {
       "config": {
        "plotlyServerURL": "https://plot.ly"
       },
       "data": [
        {
         "hovertemplate": "attitude: %{x} <br>비율 : %{y}",
         "marker": {
          "color": "royalblue"
         },
         "name": "불성실",
         "type": "bar",
         "x": [
          "부정",
          "중립",
          "긍정"
         ],
         "y": [
          0.22289156626506024,
          0.2934131736526946,
          0.7215843857634903
         ]
        },
        {
         "hovertemplate": "attitude: %{x} <br>비율 : %{y}",
         "marker": {
          "color": "skyblue"
         },
         "name": "성실",
         "type": "bar",
         "x": [
          "부정",
          "중립",
          "긍정"
         ],
         "y": [
          0.7771084337349398,
          0.7065868263473054,
          0.27841561423650973
         ]
        }
       ],
       "layout": {
        "barmode": "relative",
        "hoverlabel": {
         "font": {
          "size": 18
         }
        },
        "template": {
         "data": {
          "pie": [
           {
            "automargin": true,
            "type": "pie"
           }
          ],
          "scatter": [
           {
            "line": {
             "width": 3
            },
            "marker": {
             "size": 9
            },
            "type": "scatter"
           }
          ],
          "scatter3d": [
           {
            "line": {
             "width": 3
            },
            "marker": {
             "size": 9
            },
            "type": "scatter3d"
           }
          ],
          "scattergeo": [
           {
            "line": {
             "width": 3
            },
            "marker": {
             "size": 9
            },
            "type": "scattergeo"
           }
          ],
          "scattergl": [
           {
            "line": {
             "width": 3
            },
            "marker": {
             "size": 9
            },
            "type": "scattergl"
           }
          ],
          "scatterpolar": [
           {
            "line": {
             "width": 3
            },
            "marker": {
             "size": 9
            },
            "type": "scatterpolar"
           }
          ],
          "scatterpolargl": [
           {
            "line": {
             "width": 3
            },
            "marker": {
             "size": 9
            },
            "type": "scatterpolargl"
           }
          ],
          "scatterternary": [
           {
            "line": {
             "width": 3
            },
            "marker": {
             "size": 9
            },
            "type": "scatterternary"
           }
          ],
          "table": [
           {
            "cells": {
             "height": 30
            },
            "header": {
             "height": 36
            },
            "type": "table"
           }
          ]
         },
         "layout": {
          "font": {
           "size": 18
          },
          "xaxis": {
           "title": {
            "standoff": 15
           }
          },
          "yaxis": {
           "title": {
            "standoff": 15
           }
          }
         }
        },
        "xaxis": {
         "title": {
          "font": {
           "color": "#60606e",
           "family": "Gothic",
           "size": 18
          }
         },
         "type": "category"
        },
        "yaxis": {
         "nticks": 5,
         "tickformat": "%"
        }
       }
      },
      "text/html": [
       "<div>                            <div id=\"9420fe15-43e0-4b57-917c-721007edc0fd\" class=\"plotly-graph-div\" style=\"height:525px; width:100%;\"></div>            <script type=\"text/javascript\">                require([\"plotly\"], function(Plotly) {                    window.PLOTLYENV=window.PLOTLYENV || {};                                    if (document.getElementById(\"9420fe15-43e0-4b57-917c-721007edc0fd\")) {                    Plotly.newPlot(                        \"9420fe15-43e0-4b57-917c-721007edc0fd\",                        [{\"hovertemplate\": \"attitude: %{x} <br>\\ube44\\uc728 : %{y}\", \"marker\": {\"color\": \"royalblue\"}, \"name\": \"\\ubd88\\uc131\\uc2e4\", \"type\": \"bar\", \"x\": [\"\\ubd80\\uc815\", \"\\uc911\\ub9bd\", \"\\uae0d\\uc815\"], \"y\": [0.22289156626506024, 0.2934131736526946, 0.7215843857634903]}, {\"hovertemplate\": \"attitude: %{x} <br>\\ube44\\uc728 : %{y}\", \"marker\": {\"color\": \"skyblue\"}, \"name\": \"\\uc131\\uc2e4\", \"type\": \"bar\", \"x\": [\"\\ubd80\\uc815\", \"\\uc911\\ub9bd\", \"\\uae0d\\uc815\"], \"y\": [0.7771084337349398, 0.7065868263473054, 0.27841561423650973]}],                        {\"barmode\": \"relative\", \"hoverlabel\": {\"font\": {\"size\": 18}}, \"template\": {\"data\": {\"pie\": [{\"automargin\": true, \"type\": \"pie\"}], \"scatter\": [{\"line\": {\"width\": 3}, \"marker\": {\"size\": 9}, \"type\": \"scatter\"}], \"scatter3d\": [{\"line\": {\"width\": 3}, \"marker\": {\"size\": 9}, \"type\": \"scatter3d\"}], \"scattergeo\": [{\"line\": {\"width\": 3}, \"marker\": {\"size\": 9}, \"type\": \"scattergeo\"}], \"scattergl\": [{\"line\": {\"width\": 3}, \"marker\": {\"size\": 9}, \"type\": \"scattergl\"}], \"scatterpolar\": [{\"line\": {\"width\": 3}, \"marker\": {\"size\": 9}, \"type\": \"scatterpolar\"}], \"scatterpolargl\": [{\"line\": {\"width\": 3}, \"marker\": {\"size\": 9}, \"type\": \"scatterpolargl\"}], \"scatterternary\": [{\"line\": {\"width\": 3}, \"marker\": {\"size\": 9}, \"type\": \"scatterternary\"}], \"table\": [{\"cells\": {\"height\": 30}, \"header\": {\"height\": 36}, \"type\": \"table\"}]}, \"layout\": {\"font\": {\"size\": 18}, \"xaxis\": {\"title\": {\"standoff\": 15}}, \"yaxis\": {\"title\": {\"standoff\": 15}}}}, \"xaxis\": {\"title\": {\"font\": {\"color\": \"#60606e\", \"family\": \"Gothic\", \"size\": 18}}, \"type\": \"category\"}, \"yaxis\": {\"nticks\": 5, \"tickformat\": \"%\"}},                        {\"responsive\": true}                    ).then(function(){\n",
       "                            \n",
       "var gd = document.getElementById('9420fe15-43e0-4b57-917c-721007edc0fd');\n",
       "var x = new MutationObserver(function (mutations, observer) {{\n",
       "        var display = window.getComputedStyle(gd).display;\n",
       "        if (!display || display === 'none') {{\n",
       "            console.log([gd, 'removed!']);\n",
       "            Plotly.purge(gd);\n",
       "            observer.disconnect();\n",
       "        }}\n",
       "}});\n",
       "\n",
       "// Listen for the removal of the full notebook cells\n",
       "var notebookContainer = gd.closest('#notebook-container');\n",
       "if (notebookContainer) {{\n",
       "    x.observe(notebookContainer, {childList: true});\n",
       "}}\n",
       "\n",
       "// Listen for the clearing of the current output cell\n",
       "var outputEl = gd.closest('.output');\n",
       "if (outputEl) {{\n",
       "    x.observe(outputEl, {childList: true});\n",
       "}}\n",
       "\n",
       "                        })                };                });            </script>        </div>"
      ]
     },
     "metadata": {},
     "output_type": "display_data"
    }
   ],
   "source": [
    "#x = g['attitude'].unique()\n",
    "layout_font = {'font':dict(size=18,color='#60606e',family='Franklin Gothic' )}\n",
    "x = ['부정','중립','긍정']\n",
    "y0 = g[g['helpful']==0]\n",
    "y1 = g[g['helpful'] ==1]\n",
    "fig = go.Figure()\n",
    "\n",
    "fig.add_trace(go.Bar(x=x, y = y0.rate, name = \"불성실\", marker_color = 'royalblue'))\n",
    "fig.add_trace(go.Bar(x=x, y = y1.rate, name = \"성실\",marker_color = 'skyblue'))\n",
    "\n",
    "fig.update_traces(hovertemplate = 'attitude: %{x} <br>비율 : %{y}')\n",
    "#fig.update_layout(xaxis_type = 'category')\n",
    "fig.update_yaxes(nticks = 5)\n",
    "fig.update_layout(yaxis_tickformat = '%',\n",
    "                  barmode = 'relative',\n",
    "                 hoverlabel = dict(font_size = 18),\n",
    "                 template = 'presentation') #stack으로 만들어짐\n",
    "fig.update_xaxes(title_font = dict(size = 18, family = 'Gothic',color='#60606e' ))\n",
    "\n",
    "fig.update_layout(xaxis_type = 'category')\n",
    "#fig.update_xaxes(tickvals = '부정','중립','긍정'})\n",
    "fig.write_html(\"atttitude별 성실 불성실 비율.html\")\n",
    "fig.show()"
   ]
  },
  {
   "cell_type": "markdown",
   "metadata": {},
   "source": [
    "## attitude 별 성실 불성실 리뷰 개수"
   ]
  },
  {
   "cell_type": "code",
   "execution_count": 21,
   "metadata": {},
   "outputs": [],
   "source": [
    "g = df.groupby(['score_','helpful']).count().site.reset_index()\n",
    "add = [(3,0,0)]\n",
    "add = pd.DataFrame(add, columns = g.columns)\n",
    "g = g.append(add, ignore_index = True)\n",
    "g = g.sort_values([\"score_\",\"helpful\"])"
   ]
  },
  {
   "cell_type": "code",
   "execution_count": 22,
   "metadata": {},
   "outputs": [
    {
     "data": {
      "text/html": [
       "<div>\n",
       "<style scoped>\n",
       "    .dataframe tbody tr th:only-of-type {\n",
       "        vertical-align: middle;\n",
       "    }\n",
       "\n",
       "    .dataframe tbody tr th {\n",
       "        vertical-align: top;\n",
       "    }\n",
       "\n",
       "    .dataframe thead th {\n",
       "        text-align: right;\n",
       "    }\n",
       "</style>\n",
       "<table border=\"1\" class=\"dataframe\">\n",
       "  <thead>\n",
       "    <tr style=\"text-align: right;\">\n",
       "      <th></th>\n",
       "      <th>score_</th>\n",
       "      <th>helpful</th>\n",
       "      <th>site</th>\n",
       "    </tr>\n",
       "  </thead>\n",
       "  <tbody>\n",
       "    <tr>\n",
       "      <th>0</th>\n",
       "      <td>2</td>\n",
       "      <td>불성실</td>\n",
       "      <td>10</td>\n",
       "    </tr>\n",
       "    <tr>\n",
       "      <th>1</th>\n",
       "      <td>2</td>\n",
       "      <td>성실</td>\n",
       "      <td>17</td>\n",
       "    </tr>\n",
       "    <tr>\n",
       "      <th>17</th>\n",
       "      <td>3</td>\n",
       "      <td>불성실</td>\n",
       "      <td>0</td>\n",
       "    </tr>\n",
       "    <tr>\n",
       "      <th>2</th>\n",
       "      <td>3</td>\n",
       "      <td>성실</td>\n",
       "      <td>1</td>\n",
       "    </tr>\n",
       "    <tr>\n",
       "      <th>3</th>\n",
       "      <td>4</td>\n",
       "      <td>불성실</td>\n",
       "      <td>8</td>\n",
       "    </tr>\n",
       "  </tbody>\n",
       "</table>\n",
       "</div>"
      ],
      "text/plain": [
       "    score_ helpful  site\n",
       "0        2     불성실    10\n",
       "1        2      성실    17\n",
       "17       3     불성실     0\n",
       "2        3      성실     1\n",
       "3        4     불성실     8"
      ]
     },
     "execution_count": 22,
     "metadata": {},
     "output_type": "execute_result"
    }
   ],
   "source": [
    "helpful_dict = {0: '불성실',\n",
    "               1:'성실'}\n",
    "g['helpful'] = g['helpful'].map(helpful_dict)\n",
    "g.head()"
   ]
  },
  {
   "cell_type": "code",
   "execution_count": 23,
   "metadata": {},
   "outputs": [
    {
     "data": {
      "application/vnd.plotly.v1+json": {
       "config": {
        "plotlyServerURL": "https://plot.ly"
       },
       "data": [
        {
         "alignmentgroup": "True",
         "hovertemplate": "helpful=불성실<br>score_=%{x}<br>site=%{y}<extra></extra>",
         "legendgroup": "불성실",
         "marker": {
          "color": "#636efa"
         },
         "name": "불성실",
         "offsetgroup": "불성실",
         "orientation": "v",
         "showlegend": true,
         "textposition": "auto",
         "type": "bar",
         "x": [
          2,
          3,
          4,
          5,
          6,
          7,
          8,
          9,
          10
         ],
         "xaxis": "x",
         "y": [
          10,
          0,
          8,
          2,
          25,
          5,
          185,
          32,
          1174
         ],
         "yaxis": "y"
        },
        {
         "alignmentgroup": "True",
         "hovertemplate": "helpful=성실<br>score_=%{x}<br>site=%{y}<extra></extra>",
         "legendgroup": "성실",
         "marker": {
          "color": "#EF553B"
         },
         "name": "성실",
         "offsetgroup": "성실",
         "orientation": "v",
         "showlegend": true,
         "textposition": "auto",
         "type": "bar",
         "x": [
          2,
          3,
          4,
          5,
          6,
          7,
          8,
          9,
          10
         ],
         "xaxis": "x",
         "y": [
          17,
          1,
          20,
          9,
          49,
          19,
          215,
          85,
          553
         ],
         "yaxis": "y"
        }
       ],
       "layout": {
        "barmode": "group",
        "height": 400,
        "legend": {
         "title": {
          "text": "helpful"
         },
         "tracegroupgap": 0
        },
        "margin": {
         "t": 60
        },
        "template": {
         "data": {
          "bar": [
           {
            "error_x": {
             "color": "#2a3f5f"
            },
            "error_y": {
             "color": "#2a3f5f"
            },
            "marker": {
             "line": {
              "color": "#E5ECF6",
              "width": 0.5
             }
            },
            "type": "bar"
           }
          ],
          "barpolar": [
           {
            "marker": {
             "line": {
              "color": "#E5ECF6",
              "width": 0.5
             }
            },
            "type": "barpolar"
           }
          ],
          "carpet": [
           {
            "aaxis": {
             "endlinecolor": "#2a3f5f",
             "gridcolor": "white",
             "linecolor": "white",
             "minorgridcolor": "white",
             "startlinecolor": "#2a3f5f"
            },
            "baxis": {
             "endlinecolor": "#2a3f5f",
             "gridcolor": "white",
             "linecolor": "white",
             "minorgridcolor": "white",
             "startlinecolor": "#2a3f5f"
            },
            "type": "carpet"
           }
          ],
          "choropleth": [
           {
            "colorbar": {
             "outlinewidth": 0,
             "ticks": ""
            },
            "type": "choropleth"
           }
          ],
          "contour": [
           {
            "colorbar": {
             "outlinewidth": 0,
             "ticks": ""
            },
            "colorscale": [
             [
              0,
              "#0d0887"
             ],
             [
              0.1111111111111111,
              "#46039f"
             ],
             [
              0.2222222222222222,
              "#7201a8"
             ],
             [
              0.3333333333333333,
              "#9c179e"
             ],
             [
              0.4444444444444444,
              "#bd3786"
             ],
             [
              0.5555555555555556,
              "#d8576b"
             ],
             [
              0.6666666666666666,
              "#ed7953"
             ],
             [
              0.7777777777777778,
              "#fb9f3a"
             ],
             [
              0.8888888888888888,
              "#fdca26"
             ],
             [
              1,
              "#f0f921"
             ]
            ],
            "type": "contour"
           }
          ],
          "contourcarpet": [
           {
            "colorbar": {
             "outlinewidth": 0,
             "ticks": ""
            },
            "type": "contourcarpet"
           }
          ],
          "heatmap": [
           {
            "colorbar": {
             "outlinewidth": 0,
             "ticks": ""
            },
            "colorscale": [
             [
              0,
              "#0d0887"
             ],
             [
              0.1111111111111111,
              "#46039f"
             ],
             [
              0.2222222222222222,
              "#7201a8"
             ],
             [
              0.3333333333333333,
              "#9c179e"
             ],
             [
              0.4444444444444444,
              "#bd3786"
             ],
             [
              0.5555555555555556,
              "#d8576b"
             ],
             [
              0.6666666666666666,
              "#ed7953"
             ],
             [
              0.7777777777777778,
              "#fb9f3a"
             ],
             [
              0.8888888888888888,
              "#fdca26"
             ],
             [
              1,
              "#f0f921"
             ]
            ],
            "type": "heatmap"
           }
          ],
          "heatmapgl": [
           {
            "colorbar": {
             "outlinewidth": 0,
             "ticks": ""
            },
            "colorscale": [
             [
              0,
              "#0d0887"
             ],
             [
              0.1111111111111111,
              "#46039f"
             ],
             [
              0.2222222222222222,
              "#7201a8"
             ],
             [
              0.3333333333333333,
              "#9c179e"
             ],
             [
              0.4444444444444444,
              "#bd3786"
             ],
             [
              0.5555555555555556,
              "#d8576b"
             ],
             [
              0.6666666666666666,
              "#ed7953"
             ],
             [
              0.7777777777777778,
              "#fb9f3a"
             ],
             [
              0.8888888888888888,
              "#fdca26"
             ],
             [
              1,
              "#f0f921"
             ]
            ],
            "type": "heatmapgl"
           }
          ],
          "histogram": [
           {
            "marker": {
             "colorbar": {
              "outlinewidth": 0,
              "ticks": ""
             }
            },
            "type": "histogram"
           }
          ],
          "histogram2d": [
           {
            "colorbar": {
             "outlinewidth": 0,
             "ticks": ""
            },
            "colorscale": [
             [
              0,
              "#0d0887"
             ],
             [
              0.1111111111111111,
              "#46039f"
             ],
             [
              0.2222222222222222,
              "#7201a8"
             ],
             [
              0.3333333333333333,
              "#9c179e"
             ],
             [
              0.4444444444444444,
              "#bd3786"
             ],
             [
              0.5555555555555556,
              "#d8576b"
             ],
             [
              0.6666666666666666,
              "#ed7953"
             ],
             [
              0.7777777777777778,
              "#fb9f3a"
             ],
             [
              0.8888888888888888,
              "#fdca26"
             ],
             [
              1,
              "#f0f921"
             ]
            ],
            "type": "histogram2d"
           }
          ],
          "histogram2dcontour": [
           {
            "colorbar": {
             "outlinewidth": 0,
             "ticks": ""
            },
            "colorscale": [
             [
              0,
              "#0d0887"
             ],
             [
              0.1111111111111111,
              "#46039f"
             ],
             [
              0.2222222222222222,
              "#7201a8"
             ],
             [
              0.3333333333333333,
              "#9c179e"
             ],
             [
              0.4444444444444444,
              "#bd3786"
             ],
             [
              0.5555555555555556,
              "#d8576b"
             ],
             [
              0.6666666666666666,
              "#ed7953"
             ],
             [
              0.7777777777777778,
              "#fb9f3a"
             ],
             [
              0.8888888888888888,
              "#fdca26"
             ],
             [
              1,
              "#f0f921"
             ]
            ],
            "type": "histogram2dcontour"
           }
          ],
          "mesh3d": [
           {
            "colorbar": {
             "outlinewidth": 0,
             "ticks": ""
            },
            "type": "mesh3d"
           }
          ],
          "parcoords": [
           {
            "line": {
             "colorbar": {
              "outlinewidth": 0,
              "ticks": ""
             }
            },
            "type": "parcoords"
           }
          ],
          "pie": [
           {
            "automargin": true,
            "type": "pie"
           }
          ],
          "scatter": [
           {
            "marker": {
             "colorbar": {
              "outlinewidth": 0,
              "ticks": ""
             }
            },
            "type": "scatter"
           }
          ],
          "scatter3d": [
           {
            "line": {
             "colorbar": {
              "outlinewidth": 0,
              "ticks": ""
             }
            },
            "marker": {
             "colorbar": {
              "outlinewidth": 0,
              "ticks": ""
             }
            },
            "type": "scatter3d"
           }
          ],
          "scattercarpet": [
           {
            "marker": {
             "colorbar": {
              "outlinewidth": 0,
              "ticks": ""
             }
            },
            "type": "scattercarpet"
           }
          ],
          "scattergeo": [
           {
            "marker": {
             "colorbar": {
              "outlinewidth": 0,
              "ticks": ""
             }
            },
            "type": "scattergeo"
           }
          ],
          "scattergl": [
           {
            "marker": {
             "colorbar": {
              "outlinewidth": 0,
              "ticks": ""
             }
            },
            "type": "scattergl"
           }
          ],
          "scattermapbox": [
           {
            "marker": {
             "colorbar": {
              "outlinewidth": 0,
              "ticks": ""
             }
            },
            "type": "scattermapbox"
           }
          ],
          "scatterpolar": [
           {
            "marker": {
             "colorbar": {
              "outlinewidth": 0,
              "ticks": ""
             }
            },
            "type": "scatterpolar"
           }
          ],
          "scatterpolargl": [
           {
            "marker": {
             "colorbar": {
              "outlinewidth": 0,
              "ticks": ""
             }
            },
            "type": "scatterpolargl"
           }
          ],
          "scatterternary": [
           {
            "marker": {
             "colorbar": {
              "outlinewidth": 0,
              "ticks": ""
             }
            },
            "type": "scatterternary"
           }
          ],
          "surface": [
           {
            "colorbar": {
             "outlinewidth": 0,
             "ticks": ""
            },
            "colorscale": [
             [
              0,
              "#0d0887"
             ],
             [
              0.1111111111111111,
              "#46039f"
             ],
             [
              0.2222222222222222,
              "#7201a8"
             ],
             [
              0.3333333333333333,
              "#9c179e"
             ],
             [
              0.4444444444444444,
              "#bd3786"
             ],
             [
              0.5555555555555556,
              "#d8576b"
             ],
             [
              0.6666666666666666,
              "#ed7953"
             ],
             [
              0.7777777777777778,
              "#fb9f3a"
             ],
             [
              0.8888888888888888,
              "#fdca26"
             ],
             [
              1,
              "#f0f921"
             ]
            ],
            "type": "surface"
           }
          ],
          "table": [
           {
            "cells": {
             "fill": {
              "color": "#EBF0F8"
             },
             "line": {
              "color": "white"
             }
            },
            "header": {
             "fill": {
              "color": "#C8D4E3"
             },
             "line": {
              "color": "white"
             }
            },
            "type": "table"
           }
          ]
         },
         "layout": {
          "annotationdefaults": {
           "arrowcolor": "#2a3f5f",
           "arrowhead": 0,
           "arrowwidth": 1
          },
          "coloraxis": {
           "colorbar": {
            "outlinewidth": 0,
            "ticks": ""
           }
          },
          "colorscale": {
           "diverging": [
            [
             0,
             "#8e0152"
            ],
            [
             0.1,
             "#c51b7d"
            ],
            [
             0.2,
             "#de77ae"
            ],
            [
             0.3,
             "#f1b6da"
            ],
            [
             0.4,
             "#fde0ef"
            ],
            [
             0.5,
             "#f7f7f7"
            ],
            [
             0.6,
             "#e6f5d0"
            ],
            [
             0.7,
             "#b8e186"
            ],
            [
             0.8,
             "#7fbc41"
            ],
            [
             0.9,
             "#4d9221"
            ],
            [
             1,
             "#276419"
            ]
           ],
           "sequential": [
            [
             0,
             "#0d0887"
            ],
            [
             0.1111111111111111,
             "#46039f"
            ],
            [
             0.2222222222222222,
             "#7201a8"
            ],
            [
             0.3333333333333333,
             "#9c179e"
            ],
            [
             0.4444444444444444,
             "#bd3786"
            ],
            [
             0.5555555555555556,
             "#d8576b"
            ],
            [
             0.6666666666666666,
             "#ed7953"
            ],
            [
             0.7777777777777778,
             "#fb9f3a"
            ],
            [
             0.8888888888888888,
             "#fdca26"
            ],
            [
             1,
             "#f0f921"
            ]
           ],
           "sequentialminus": [
            [
             0,
             "#0d0887"
            ],
            [
             0.1111111111111111,
             "#46039f"
            ],
            [
             0.2222222222222222,
             "#7201a8"
            ],
            [
             0.3333333333333333,
             "#9c179e"
            ],
            [
             0.4444444444444444,
             "#bd3786"
            ],
            [
             0.5555555555555556,
             "#d8576b"
            ],
            [
             0.6666666666666666,
             "#ed7953"
            ],
            [
             0.7777777777777778,
             "#fb9f3a"
            ],
            [
             0.8888888888888888,
             "#fdca26"
            ],
            [
             1,
             "#f0f921"
            ]
           ]
          },
          "colorway": [
           "#636efa",
           "#EF553B",
           "#00cc96",
           "#ab63fa",
           "#FFA15A",
           "#19d3f3",
           "#FF6692",
           "#B6E880",
           "#FF97FF",
           "#FECB52"
          ],
          "font": {
           "color": "#2a3f5f"
          },
          "geo": {
           "bgcolor": "white",
           "lakecolor": "white",
           "landcolor": "#E5ECF6",
           "showlakes": true,
           "showland": true,
           "subunitcolor": "white"
          },
          "hoverlabel": {
           "align": "left"
          },
          "hovermode": "closest",
          "mapbox": {
           "style": "light"
          },
          "paper_bgcolor": "white",
          "plot_bgcolor": "#E5ECF6",
          "polar": {
           "angularaxis": {
            "gridcolor": "white",
            "linecolor": "white",
            "ticks": ""
           },
           "bgcolor": "#E5ECF6",
           "radialaxis": {
            "gridcolor": "white",
            "linecolor": "white",
            "ticks": ""
           }
          },
          "scene": {
           "xaxis": {
            "backgroundcolor": "#E5ECF6",
            "gridcolor": "white",
            "gridwidth": 2,
            "linecolor": "white",
            "showbackground": true,
            "ticks": "",
            "zerolinecolor": "white"
           },
           "yaxis": {
            "backgroundcolor": "#E5ECF6",
            "gridcolor": "white",
            "gridwidth": 2,
            "linecolor": "white",
            "showbackground": true,
            "ticks": "",
            "zerolinecolor": "white"
           },
           "zaxis": {
            "backgroundcolor": "#E5ECF6",
            "gridcolor": "white",
            "gridwidth": 2,
            "linecolor": "white",
            "showbackground": true,
            "ticks": "",
            "zerolinecolor": "white"
           }
          },
          "shapedefaults": {
           "line": {
            "color": "#2a3f5f"
           }
          },
          "ternary": {
           "aaxis": {
            "gridcolor": "white",
            "linecolor": "white",
            "ticks": ""
           },
           "baxis": {
            "gridcolor": "white",
            "linecolor": "white",
            "ticks": ""
           },
           "bgcolor": "#E5ECF6",
           "caxis": {
            "gridcolor": "white",
            "linecolor": "white",
            "ticks": ""
           }
          },
          "title": {
           "x": 0.05
          },
          "xaxis": {
           "automargin": true,
           "gridcolor": "white",
           "linecolor": "white",
           "ticks": "",
           "title": {
            "standoff": 15
           },
           "zerolinecolor": "white",
           "zerolinewidth": 2
          },
          "yaxis": {
           "automargin": true,
           "gridcolor": "white",
           "linecolor": "white",
           "ticks": "",
           "title": {
            "standoff": 15
           },
           "zerolinecolor": "white",
           "zerolinewidth": 2
          }
         }
        },
        "xaxis": {
         "anchor": "y",
         "domain": [
          0,
          1
         ],
         "title": {
          "text": "score_"
         },
         "type": "category"
        },
        "yaxis": {
         "anchor": "x",
         "domain": [
          0,
          1
         ],
         "title": {
          "text": "site"
         }
        }
       }
      },
      "text/html": [
       "<div>                            <div id=\"44e5b2f6-1f60-4448-be3e-4db26fa899ec\" class=\"plotly-graph-div\" style=\"height:400px; width:100%;\"></div>            <script type=\"text/javascript\">                require([\"plotly\"], function(Plotly) {                    window.PLOTLYENV=window.PLOTLYENV || {};                                    if (document.getElementById(\"44e5b2f6-1f60-4448-be3e-4db26fa899ec\")) {                    Plotly.newPlot(                        \"44e5b2f6-1f60-4448-be3e-4db26fa899ec\",                        [{\"alignmentgroup\": \"True\", \"hovertemplate\": \"helpful=\\ubd88\\uc131\\uc2e4<br>score_=%{x}<br>site=%{y}<extra></extra>\", \"legendgroup\": \"\\ubd88\\uc131\\uc2e4\", \"marker\": {\"color\": \"#636efa\"}, \"name\": \"\\ubd88\\uc131\\uc2e4\", \"offsetgroup\": \"\\ubd88\\uc131\\uc2e4\", \"orientation\": \"v\", \"showlegend\": true, \"textposition\": \"auto\", \"type\": \"bar\", \"x\": [2, 3, 4, 5, 6, 7, 8, 9, 10], \"xaxis\": \"x\", \"y\": [10, 0, 8, 2, 25, 5, 185, 32, 1174], \"yaxis\": \"y\"}, {\"alignmentgroup\": \"True\", \"hovertemplate\": \"helpful=\\uc131\\uc2e4<br>score_=%{x}<br>site=%{y}<extra></extra>\", \"legendgroup\": \"\\uc131\\uc2e4\", \"marker\": {\"color\": \"#EF553B\"}, \"name\": \"\\uc131\\uc2e4\", \"offsetgroup\": \"\\uc131\\uc2e4\", \"orientation\": \"v\", \"showlegend\": true, \"textposition\": \"auto\", \"type\": \"bar\", \"x\": [2, 3, 4, 5, 6, 7, 8, 9, 10], \"xaxis\": \"x\", \"y\": [17, 1, 20, 9, 49, 19, 215, 85, 553], \"yaxis\": \"y\"}],                        {\"barmode\": \"group\", \"height\": 400, \"legend\": {\"title\": {\"text\": \"helpful\"}, \"tracegroupgap\": 0}, \"margin\": {\"t\": 60}, \"template\": {\"data\": {\"bar\": [{\"error_x\": {\"color\": \"#2a3f5f\"}, \"error_y\": {\"color\": \"#2a3f5f\"}, \"marker\": {\"line\": {\"color\": \"#E5ECF6\", \"width\": 0.5}}, \"type\": \"bar\"}], \"barpolar\": [{\"marker\": {\"line\": {\"color\": \"#E5ECF6\", \"width\": 0.5}}, \"type\": \"barpolar\"}], \"carpet\": [{\"aaxis\": {\"endlinecolor\": \"#2a3f5f\", \"gridcolor\": \"white\", \"linecolor\": \"white\", \"minorgridcolor\": \"white\", \"startlinecolor\": \"#2a3f5f\"}, \"baxis\": {\"endlinecolor\": \"#2a3f5f\", \"gridcolor\": \"white\", \"linecolor\": \"white\", \"minorgridcolor\": \"white\", \"startlinecolor\": \"#2a3f5f\"}, \"type\": \"carpet\"}], \"choropleth\": [{\"colorbar\": {\"outlinewidth\": 0, \"ticks\": \"\"}, \"type\": \"choropleth\"}], \"contour\": [{\"colorbar\": {\"outlinewidth\": 0, \"ticks\": \"\"}, \"colorscale\": [[0.0, \"#0d0887\"], [0.1111111111111111, \"#46039f\"], [0.2222222222222222, \"#7201a8\"], [0.3333333333333333, \"#9c179e\"], [0.4444444444444444, \"#bd3786\"], [0.5555555555555556, \"#d8576b\"], [0.6666666666666666, \"#ed7953\"], [0.7777777777777778, \"#fb9f3a\"], [0.8888888888888888, \"#fdca26\"], [1.0, \"#f0f921\"]], \"type\": \"contour\"}], \"contourcarpet\": [{\"colorbar\": {\"outlinewidth\": 0, \"ticks\": \"\"}, \"type\": \"contourcarpet\"}], \"heatmap\": [{\"colorbar\": {\"outlinewidth\": 0, \"ticks\": \"\"}, \"colorscale\": [[0.0, \"#0d0887\"], [0.1111111111111111, \"#46039f\"], [0.2222222222222222, \"#7201a8\"], [0.3333333333333333, \"#9c179e\"], [0.4444444444444444, \"#bd3786\"], [0.5555555555555556, \"#d8576b\"], [0.6666666666666666, \"#ed7953\"], [0.7777777777777778, \"#fb9f3a\"], [0.8888888888888888, \"#fdca26\"], [1.0, \"#f0f921\"]], \"type\": \"heatmap\"}], \"heatmapgl\": [{\"colorbar\": {\"outlinewidth\": 0, \"ticks\": \"\"}, \"colorscale\": [[0.0, \"#0d0887\"], [0.1111111111111111, \"#46039f\"], [0.2222222222222222, \"#7201a8\"], [0.3333333333333333, \"#9c179e\"], [0.4444444444444444, \"#bd3786\"], [0.5555555555555556, \"#d8576b\"], [0.6666666666666666, \"#ed7953\"], [0.7777777777777778, \"#fb9f3a\"], [0.8888888888888888, \"#fdca26\"], [1.0, \"#f0f921\"]], \"type\": \"heatmapgl\"}], \"histogram\": [{\"marker\": {\"colorbar\": {\"outlinewidth\": 0, \"ticks\": \"\"}}, \"type\": \"histogram\"}], \"histogram2d\": [{\"colorbar\": {\"outlinewidth\": 0, \"ticks\": \"\"}, \"colorscale\": [[0.0, \"#0d0887\"], [0.1111111111111111, \"#46039f\"], [0.2222222222222222, \"#7201a8\"], [0.3333333333333333, \"#9c179e\"], [0.4444444444444444, \"#bd3786\"], [0.5555555555555556, \"#d8576b\"], [0.6666666666666666, \"#ed7953\"], [0.7777777777777778, \"#fb9f3a\"], [0.8888888888888888, \"#fdca26\"], [1.0, \"#f0f921\"]], \"type\": \"histogram2d\"}], \"histogram2dcontour\": [{\"colorbar\": {\"outlinewidth\": 0, \"ticks\": \"\"}, \"colorscale\": [[0.0, \"#0d0887\"], [0.1111111111111111, \"#46039f\"], [0.2222222222222222, \"#7201a8\"], [0.3333333333333333, \"#9c179e\"], [0.4444444444444444, \"#bd3786\"], [0.5555555555555556, \"#d8576b\"], [0.6666666666666666, \"#ed7953\"], [0.7777777777777778, \"#fb9f3a\"], [0.8888888888888888, \"#fdca26\"], [1.0, \"#f0f921\"]], \"type\": \"histogram2dcontour\"}], \"mesh3d\": [{\"colorbar\": {\"outlinewidth\": 0, \"ticks\": \"\"}, \"type\": \"mesh3d\"}], \"parcoords\": [{\"line\": {\"colorbar\": {\"outlinewidth\": 0, \"ticks\": \"\"}}, \"type\": \"parcoords\"}], \"pie\": [{\"automargin\": true, \"type\": \"pie\"}], \"scatter\": [{\"marker\": {\"colorbar\": {\"outlinewidth\": 0, \"ticks\": \"\"}}, \"type\": \"scatter\"}], \"scatter3d\": [{\"line\": {\"colorbar\": {\"outlinewidth\": 0, \"ticks\": \"\"}}, \"marker\": {\"colorbar\": {\"outlinewidth\": 0, \"ticks\": \"\"}}, \"type\": \"scatter3d\"}], \"scattercarpet\": [{\"marker\": {\"colorbar\": {\"outlinewidth\": 0, \"ticks\": \"\"}}, \"type\": \"scattercarpet\"}], \"scattergeo\": [{\"marker\": {\"colorbar\": {\"outlinewidth\": 0, \"ticks\": \"\"}}, \"type\": \"scattergeo\"}], \"scattergl\": [{\"marker\": {\"colorbar\": {\"outlinewidth\": 0, \"ticks\": \"\"}}, \"type\": \"scattergl\"}], \"scattermapbox\": [{\"marker\": {\"colorbar\": {\"outlinewidth\": 0, \"ticks\": \"\"}}, \"type\": \"scattermapbox\"}], \"scatterpolar\": [{\"marker\": {\"colorbar\": {\"outlinewidth\": 0, \"ticks\": \"\"}}, \"type\": \"scatterpolar\"}], \"scatterpolargl\": [{\"marker\": {\"colorbar\": {\"outlinewidth\": 0, \"ticks\": \"\"}}, \"type\": \"scatterpolargl\"}], \"scatterternary\": [{\"marker\": {\"colorbar\": {\"outlinewidth\": 0, \"ticks\": \"\"}}, \"type\": \"scatterternary\"}], \"surface\": [{\"colorbar\": {\"outlinewidth\": 0, \"ticks\": \"\"}, \"colorscale\": [[0.0, \"#0d0887\"], [0.1111111111111111, \"#46039f\"], [0.2222222222222222, \"#7201a8\"], [0.3333333333333333, \"#9c179e\"], [0.4444444444444444, \"#bd3786\"], [0.5555555555555556, \"#d8576b\"], [0.6666666666666666, \"#ed7953\"], [0.7777777777777778, \"#fb9f3a\"], [0.8888888888888888, \"#fdca26\"], [1.0, \"#f0f921\"]], \"type\": \"surface\"}], \"table\": [{\"cells\": {\"fill\": {\"color\": \"#EBF0F8\"}, \"line\": {\"color\": \"white\"}}, \"header\": {\"fill\": {\"color\": \"#C8D4E3\"}, \"line\": {\"color\": \"white\"}}, \"type\": \"table\"}]}, \"layout\": {\"annotationdefaults\": {\"arrowcolor\": \"#2a3f5f\", \"arrowhead\": 0, \"arrowwidth\": 1}, \"coloraxis\": {\"colorbar\": {\"outlinewidth\": 0, \"ticks\": \"\"}}, \"colorscale\": {\"diverging\": [[0, \"#8e0152\"], [0.1, \"#c51b7d\"], [0.2, \"#de77ae\"], [0.3, \"#f1b6da\"], [0.4, \"#fde0ef\"], [0.5, \"#f7f7f7\"], [0.6, \"#e6f5d0\"], [0.7, \"#b8e186\"], [0.8, \"#7fbc41\"], [0.9, \"#4d9221\"], [1, \"#276419\"]], \"sequential\": [[0.0, \"#0d0887\"], [0.1111111111111111, \"#46039f\"], [0.2222222222222222, \"#7201a8\"], [0.3333333333333333, \"#9c179e\"], [0.4444444444444444, \"#bd3786\"], [0.5555555555555556, \"#d8576b\"], [0.6666666666666666, \"#ed7953\"], [0.7777777777777778, \"#fb9f3a\"], [0.8888888888888888, \"#fdca26\"], [1.0, \"#f0f921\"]], \"sequentialminus\": [[0.0, \"#0d0887\"], [0.1111111111111111, \"#46039f\"], [0.2222222222222222, \"#7201a8\"], [0.3333333333333333, \"#9c179e\"], [0.4444444444444444, \"#bd3786\"], [0.5555555555555556, \"#d8576b\"], [0.6666666666666666, \"#ed7953\"], [0.7777777777777778, \"#fb9f3a\"], [0.8888888888888888, \"#fdca26\"], [1.0, \"#f0f921\"]]}, \"colorway\": [\"#636efa\", \"#EF553B\", \"#00cc96\", \"#ab63fa\", \"#FFA15A\", \"#19d3f3\", \"#FF6692\", \"#B6E880\", \"#FF97FF\", \"#FECB52\"], \"font\": {\"color\": \"#2a3f5f\"}, \"geo\": {\"bgcolor\": \"white\", \"lakecolor\": \"white\", \"landcolor\": \"#E5ECF6\", \"showlakes\": true, \"showland\": true, \"subunitcolor\": \"white\"}, \"hoverlabel\": {\"align\": \"left\"}, \"hovermode\": \"closest\", \"mapbox\": {\"style\": \"light\"}, \"paper_bgcolor\": \"white\", \"plot_bgcolor\": \"#E5ECF6\", \"polar\": {\"angularaxis\": {\"gridcolor\": \"white\", \"linecolor\": \"white\", \"ticks\": \"\"}, \"bgcolor\": \"#E5ECF6\", \"radialaxis\": {\"gridcolor\": \"white\", \"linecolor\": \"white\", \"ticks\": \"\"}}, \"scene\": {\"xaxis\": {\"backgroundcolor\": \"#E5ECF6\", \"gridcolor\": \"white\", \"gridwidth\": 2, \"linecolor\": \"white\", \"showbackground\": true, \"ticks\": \"\", \"zerolinecolor\": \"white\"}, \"yaxis\": {\"backgroundcolor\": \"#E5ECF6\", \"gridcolor\": \"white\", \"gridwidth\": 2, \"linecolor\": \"white\", \"showbackground\": true, \"ticks\": \"\", \"zerolinecolor\": \"white\"}, \"zaxis\": {\"backgroundcolor\": \"#E5ECF6\", \"gridcolor\": \"white\", \"gridwidth\": 2, \"linecolor\": \"white\", \"showbackground\": true, \"ticks\": \"\", \"zerolinecolor\": \"white\"}}, \"shapedefaults\": {\"line\": {\"color\": \"#2a3f5f\"}}, \"ternary\": {\"aaxis\": {\"gridcolor\": \"white\", \"linecolor\": \"white\", \"ticks\": \"\"}, \"baxis\": {\"gridcolor\": \"white\", \"linecolor\": \"white\", \"ticks\": \"\"}, \"bgcolor\": \"#E5ECF6\", \"caxis\": {\"gridcolor\": \"white\", \"linecolor\": \"white\", \"ticks\": \"\"}}, \"title\": {\"x\": 0.05}, \"xaxis\": {\"automargin\": true, \"gridcolor\": \"white\", \"linecolor\": \"white\", \"ticks\": \"\", \"title\": {\"standoff\": 15}, \"zerolinecolor\": \"white\", \"zerolinewidth\": 2}, \"yaxis\": {\"automargin\": true, \"gridcolor\": \"white\", \"linecolor\": \"white\", \"ticks\": \"\", \"title\": {\"standoff\": 15}, \"zerolinecolor\": \"white\", \"zerolinewidth\": 2}}}, \"xaxis\": {\"anchor\": \"y\", \"domain\": [0.0, 1.0], \"title\": {\"text\": \"score_\"}, \"type\": \"category\"}, \"yaxis\": {\"anchor\": \"x\", \"domain\": [0.0, 1.0], \"title\": {\"text\": \"site\"}}},                        {\"responsive\": true}                    ).then(function(){\n",
       "                            \n",
       "var gd = document.getElementById('44e5b2f6-1f60-4448-be3e-4db26fa899ec');\n",
       "var x = new MutationObserver(function (mutations, observer) {{\n",
       "        var display = window.getComputedStyle(gd).display;\n",
       "        if (!display || display === 'none') {{\n",
       "            console.log([gd, 'removed!']);\n",
       "            Plotly.purge(gd);\n",
       "            observer.disconnect();\n",
       "        }}\n",
       "}});\n",
       "\n",
       "// Listen for the removal of the full notebook cells\n",
       "var notebookContainer = gd.closest('#notebook-container');\n",
       "if (notebookContainer) {{\n",
       "    x.observe(notebookContainer, {childList: true});\n",
       "}}\n",
       "\n",
       "// Listen for the clearing of the current output cell\n",
       "var outputEl = gd.closest('.output');\n",
       "if (outputEl) {{\n",
       "    x.observe(outputEl, {childList: true});\n",
       "}}\n",
       "\n",
       "                        })                };                });            </script>        </div>"
      ]
     },
     "metadata": {},
     "output_type": "display_data"
    }
   ],
   "source": [
    "fig = px.bar(g, x = 'score_', y = 'site',\n",
    "            color = 'helpful', barmode = 'group',\n",
    "            height = 400)\n",
    "fig.update_layout(xaxis_type = 'category')\n",
    "fig.show()"
   ]
  },
  {
   "cell_type": "markdown",
   "metadata": {},
   "source": [
    "# 카테고리 시각화"
   ]
  },
  {
   "cell_type": "code",
   "execution_count": 24,
   "metadata": {},
   "outputs": [
    {
     "data": {
      "text/html": [
       "<div>\n",
       "<style scoped>\n",
       "    .dataframe tbody tr th:only-of-type {\n",
       "        vertical-align: middle;\n",
       "    }\n",
       "\n",
       "    .dataframe tbody tr th {\n",
       "        vertical-align: top;\n",
       "    }\n",
       "\n",
       "    .dataframe thead th {\n",
       "        text-align: right;\n",
       "    }\n",
       "</style>\n",
       "<table border=\"1\" class=\"dataframe\">\n",
       "  <thead>\n",
       "    <tr style=\"text-align: right;\">\n",
       "      <th></th>\n",
       "      <th>site</th>\n",
       "      <th>hotel</th>\n",
       "      <th>score</th>\n",
       "      <th>review</th>\n",
       "      <th>date</th>\n",
       "      <th>star</th>\n",
       "      <th>length</th>\n",
       "      <th>review_spell_check</th>\n",
       "      <th>helpful</th>\n",
       "      <th>attitude</th>\n",
       "      <th>담당자</th>\n",
       "      <th>위치</th>\n",
       "      <th>시설</th>\n",
       "      <th>인테리어</th>\n",
       "      <th>청결</th>\n",
       "      <th>친절</th>\n",
       "      <th>방음</th>\n",
       "    </tr>\n",
       "  </thead>\n",
       "  <tbody>\n",
       "    <tr>\n",
       "      <th>0</th>\n",
       "      <td>아고다</td>\n",
       "      <td>나인트리 프리미어 명동2</td>\n",
       "      <td>10.0</td>\n",
       "      <td>뷰 좋고 위치 좋고 깨끗하고 최고 입니다</td>\n",
       "      <td>NaN</td>\n",
       "      <td>NaN</td>\n",
       "      <td>22</td>\n",
       "      <td>뷰 좋고 위치 좋고 깨끗하고 최고입니다</td>\n",
       "      <td>1</td>\n",
       "      <td>2</td>\n",
       "      <td>주현</td>\n",
       "      <td>1</td>\n",
       "      <td>0</td>\n",
       "      <td>0</td>\n",
       "      <td>0</td>\n",
       "      <td>0</td>\n",
       "      <td>0</td>\n",
       "    </tr>\n",
       "    <tr>\n",
       "      <th>1</th>\n",
       "      <td>아고다</td>\n",
       "      <td>신라스테이 광화문</td>\n",
       "      <td>10.0</td>\n",
       "      <td>위치 시설 모두 좋아요</td>\n",
       "      <td>NaN</td>\n",
       "      <td>NaN</td>\n",
       "      <td>12</td>\n",
       "      <td>위치 시설 모두 좋아요</td>\n",
       "      <td>0</td>\n",
       "      <td>2</td>\n",
       "      <td>주현</td>\n",
       "      <td>1</td>\n",
       "      <td>1</td>\n",
       "      <td>0</td>\n",
       "      <td>0</td>\n",
       "      <td>0</td>\n",
       "      <td>0</td>\n",
       "    </tr>\n",
       "    <tr>\n",
       "      <th>2</th>\n",
       "      <td>아고다</td>\n",
       "      <td>신라스테이 광화문</td>\n",
       "      <td>2.0</td>\n",
       "      <td>침대에 빨래 먼지로 보이는 먼지가 이불침대 시트 모두에 한가득이었습니다  청소 상태...</td>\n",
       "      <td>NaN</td>\n",
       "      <td>NaN</td>\n",
       "      <td>69</td>\n",
       "      <td>침대에 빨래 먼지로 보이는 먼지가 이불 침대 시트 모두에 한가득이었습니다  청소 상...</td>\n",
       "      <td>1</td>\n",
       "      <td>0</td>\n",
       "      <td>주현</td>\n",
       "      <td>0</td>\n",
       "      <td>0</td>\n",
       "      <td>0</td>\n",
       "      <td>1</td>\n",
       "      <td>0</td>\n",
       "      <td>0</td>\n",
       "    </tr>\n",
       "  </tbody>\n",
       "</table>\n",
       "</div>"
      ],
      "text/plain": [
       "  site          hotel  score  \\\n",
       "0  아고다  나인트리 프리미어 명동2   10.0   \n",
       "1  아고다      신라스테이 광화문   10.0   \n",
       "2  아고다      신라스테이 광화문    2.0   \n",
       "\n",
       "                                              review date  star  length  \\\n",
       "0                             뷰 좋고 위치 좋고 깨끗하고 최고 입니다  NaN   NaN      22   \n",
       "1                                       위치 시설 모두 좋아요  NaN   NaN      12   \n",
       "2  침대에 빨래 먼지로 보이는 먼지가 이불침대 시트 모두에 한가득이었습니다  청소 상태...  NaN   NaN      69   \n",
       "\n",
       "                                  review_spell_check  helpful  attitude 담당자  \\\n",
       "0                              뷰 좋고 위치 좋고 깨끗하고 최고입니다        1         2  주현   \n",
       "1                                       위치 시설 모두 좋아요        0         2  주현   \n",
       "2  침대에 빨래 먼지로 보이는 먼지가 이불 침대 시트 모두에 한가득이었습니다  청소 상...        1         0  주현   \n",
       "\n",
       "   위치  시설  인테리어  청결  친절  방음  \n",
       "0   1   0     0   0   0   0  \n",
       "1   1   1     0   0   0   0  \n",
       "2   0   0     0   1   0   0  "
      ]
     },
     "execution_count": 24,
     "metadata": {},
     "output_type": "execute_result"
    }
   ],
   "source": [
    "df = pd.read_excel(\"df_all_1130_4.xlsx\")\n",
    "df.head(3)"
   ]
  },
  {
   "cell_type": "code",
   "execution_count": 25,
   "metadata": {},
   "outputs": [
    {
     "data": {
      "text/plain": [
       "Index(['위치', '시설', '인테리어', '청결', '친절', '방음'], dtype='object')"
      ]
     },
     "execution_count": 25,
     "metadata": {},
     "output_type": "execute_result"
    }
   ],
   "source": [
    "len(df.columns)\n",
    "df.columns[-6:]"
   ]
  },
  {
   "cell_type": "markdown",
   "metadata": {},
   "source": [
    "## 카테고리 별 리뷰수"
   ]
  },
  {
   "cell_type": "code",
   "execution_count": 26,
   "metadata": {},
   "outputs": [],
   "source": [
    "data = pd.DataFrame([])\n",
    "for k in list(df.columns[-6:]):\n",
    "    df_ = df.groupby([k]).count().hotel\n",
    "    df_ = df_.reset_index()\n",
    "    df_ = pd.melt(df_, id_vars = ['hotel'])\n",
    "    df_ = df_[df_.value == 1]\n",
    "    data = data.append(df_)"
   ]
  },
  {
   "cell_type": "code",
   "execution_count": 27,
   "metadata": {},
   "outputs": [
    {
     "data": {
      "application/vnd.plotly.v1+json": {
       "config": {
        "plotlyServerURL": "https://plot.ly"
       },
       "data": [
        {
         "alignmentgroup": "True",
         "hovertemplate": "Category: %{x} <br>리뷰수: %{y}",
         "legendgroup": "",
         "marker": {
          "color": "#636efa"
         },
         "name": "",
         "offsetgroup": "",
         "orientation": "v",
         "showlegend": false,
         "textposition": "auto",
         "type": "bar",
         "x": [
          "위치",
          "시설",
          "인테리어",
          "청결",
          "친절",
          "방음"
         ],
         "xaxis": "x",
         "y": [
          570,
          376,
          167,
          776,
          415,
          120
         ],
         "yaxis": "y"
        }
       ],
       "layout": {
        "barmode": "group",
        "height": 400,
        "legend": {
         "tracegroupgap": 0
        },
        "margin": {
         "t": 60
        },
        "template": {
         "data": {
          "bar": [
           {
            "error_x": {
             "color": "#2a3f5f"
            },
            "error_y": {
             "color": "#2a3f5f"
            },
            "marker": {
             "line": {
              "color": "#E5ECF6",
              "width": 0.5
             }
            },
            "type": "bar"
           }
          ],
          "barpolar": [
           {
            "marker": {
             "line": {
              "color": "#E5ECF6",
              "width": 0.5
             }
            },
            "type": "barpolar"
           }
          ],
          "carpet": [
           {
            "aaxis": {
             "endlinecolor": "#2a3f5f",
             "gridcolor": "white",
             "linecolor": "white",
             "minorgridcolor": "white",
             "startlinecolor": "#2a3f5f"
            },
            "baxis": {
             "endlinecolor": "#2a3f5f",
             "gridcolor": "white",
             "linecolor": "white",
             "minorgridcolor": "white",
             "startlinecolor": "#2a3f5f"
            },
            "type": "carpet"
           }
          ],
          "choropleth": [
           {
            "colorbar": {
             "outlinewidth": 0,
             "ticks": ""
            },
            "type": "choropleth"
           }
          ],
          "contour": [
           {
            "colorbar": {
             "outlinewidth": 0,
             "ticks": ""
            },
            "colorscale": [
             [
              0,
              "#0d0887"
             ],
             [
              0.1111111111111111,
              "#46039f"
             ],
             [
              0.2222222222222222,
              "#7201a8"
             ],
             [
              0.3333333333333333,
              "#9c179e"
             ],
             [
              0.4444444444444444,
              "#bd3786"
             ],
             [
              0.5555555555555556,
              "#d8576b"
             ],
             [
              0.6666666666666666,
              "#ed7953"
             ],
             [
              0.7777777777777778,
              "#fb9f3a"
             ],
             [
              0.8888888888888888,
              "#fdca26"
             ],
             [
              1,
              "#f0f921"
             ]
            ],
            "type": "contour"
           }
          ],
          "contourcarpet": [
           {
            "colorbar": {
             "outlinewidth": 0,
             "ticks": ""
            },
            "type": "contourcarpet"
           }
          ],
          "heatmap": [
           {
            "colorbar": {
             "outlinewidth": 0,
             "ticks": ""
            },
            "colorscale": [
             [
              0,
              "#0d0887"
             ],
             [
              0.1111111111111111,
              "#46039f"
             ],
             [
              0.2222222222222222,
              "#7201a8"
             ],
             [
              0.3333333333333333,
              "#9c179e"
             ],
             [
              0.4444444444444444,
              "#bd3786"
             ],
             [
              0.5555555555555556,
              "#d8576b"
             ],
             [
              0.6666666666666666,
              "#ed7953"
             ],
             [
              0.7777777777777778,
              "#fb9f3a"
             ],
             [
              0.8888888888888888,
              "#fdca26"
             ],
             [
              1,
              "#f0f921"
             ]
            ],
            "type": "heatmap"
           }
          ],
          "heatmapgl": [
           {
            "colorbar": {
             "outlinewidth": 0,
             "ticks": ""
            },
            "colorscale": [
             [
              0,
              "#0d0887"
             ],
             [
              0.1111111111111111,
              "#46039f"
             ],
             [
              0.2222222222222222,
              "#7201a8"
             ],
             [
              0.3333333333333333,
              "#9c179e"
             ],
             [
              0.4444444444444444,
              "#bd3786"
             ],
             [
              0.5555555555555556,
              "#d8576b"
             ],
             [
              0.6666666666666666,
              "#ed7953"
             ],
             [
              0.7777777777777778,
              "#fb9f3a"
             ],
             [
              0.8888888888888888,
              "#fdca26"
             ],
             [
              1,
              "#f0f921"
             ]
            ],
            "type": "heatmapgl"
           }
          ],
          "histogram": [
           {
            "marker": {
             "colorbar": {
              "outlinewidth": 0,
              "ticks": ""
             }
            },
            "type": "histogram"
           }
          ],
          "histogram2d": [
           {
            "colorbar": {
             "outlinewidth": 0,
             "ticks": ""
            },
            "colorscale": [
             [
              0,
              "#0d0887"
             ],
             [
              0.1111111111111111,
              "#46039f"
             ],
             [
              0.2222222222222222,
              "#7201a8"
             ],
             [
              0.3333333333333333,
              "#9c179e"
             ],
             [
              0.4444444444444444,
              "#bd3786"
             ],
             [
              0.5555555555555556,
              "#d8576b"
             ],
             [
              0.6666666666666666,
              "#ed7953"
             ],
             [
              0.7777777777777778,
              "#fb9f3a"
             ],
             [
              0.8888888888888888,
              "#fdca26"
             ],
             [
              1,
              "#f0f921"
             ]
            ],
            "type": "histogram2d"
           }
          ],
          "histogram2dcontour": [
           {
            "colorbar": {
             "outlinewidth": 0,
             "ticks": ""
            },
            "colorscale": [
             [
              0,
              "#0d0887"
             ],
             [
              0.1111111111111111,
              "#46039f"
             ],
             [
              0.2222222222222222,
              "#7201a8"
             ],
             [
              0.3333333333333333,
              "#9c179e"
             ],
             [
              0.4444444444444444,
              "#bd3786"
             ],
             [
              0.5555555555555556,
              "#d8576b"
             ],
             [
              0.6666666666666666,
              "#ed7953"
             ],
             [
              0.7777777777777778,
              "#fb9f3a"
             ],
             [
              0.8888888888888888,
              "#fdca26"
             ],
             [
              1,
              "#f0f921"
             ]
            ],
            "type": "histogram2dcontour"
           }
          ],
          "mesh3d": [
           {
            "colorbar": {
             "outlinewidth": 0,
             "ticks": ""
            },
            "type": "mesh3d"
           }
          ],
          "parcoords": [
           {
            "line": {
             "colorbar": {
              "outlinewidth": 0,
              "ticks": ""
             }
            },
            "type": "parcoords"
           }
          ],
          "pie": [
           {
            "automargin": true,
            "type": "pie"
           }
          ],
          "scatter": [
           {
            "marker": {
             "colorbar": {
              "outlinewidth": 0,
              "ticks": ""
             }
            },
            "type": "scatter"
           }
          ],
          "scatter3d": [
           {
            "line": {
             "colorbar": {
              "outlinewidth": 0,
              "ticks": ""
             }
            },
            "marker": {
             "colorbar": {
              "outlinewidth": 0,
              "ticks": ""
             }
            },
            "type": "scatter3d"
           }
          ],
          "scattercarpet": [
           {
            "marker": {
             "colorbar": {
              "outlinewidth": 0,
              "ticks": ""
             }
            },
            "type": "scattercarpet"
           }
          ],
          "scattergeo": [
           {
            "marker": {
             "colorbar": {
              "outlinewidth": 0,
              "ticks": ""
             }
            },
            "type": "scattergeo"
           }
          ],
          "scattergl": [
           {
            "marker": {
             "colorbar": {
              "outlinewidth": 0,
              "ticks": ""
             }
            },
            "type": "scattergl"
           }
          ],
          "scattermapbox": [
           {
            "marker": {
             "colorbar": {
              "outlinewidth": 0,
              "ticks": ""
             }
            },
            "type": "scattermapbox"
           }
          ],
          "scatterpolar": [
           {
            "marker": {
             "colorbar": {
              "outlinewidth": 0,
              "ticks": ""
             }
            },
            "type": "scatterpolar"
           }
          ],
          "scatterpolargl": [
           {
            "marker": {
             "colorbar": {
              "outlinewidth": 0,
              "ticks": ""
             }
            },
            "type": "scatterpolargl"
           }
          ],
          "scatterternary": [
           {
            "marker": {
             "colorbar": {
              "outlinewidth": 0,
              "ticks": ""
             }
            },
            "type": "scatterternary"
           }
          ],
          "surface": [
           {
            "colorbar": {
             "outlinewidth": 0,
             "ticks": ""
            },
            "colorscale": [
             [
              0,
              "#0d0887"
             ],
             [
              0.1111111111111111,
              "#46039f"
             ],
             [
              0.2222222222222222,
              "#7201a8"
             ],
             [
              0.3333333333333333,
              "#9c179e"
             ],
             [
              0.4444444444444444,
              "#bd3786"
             ],
             [
              0.5555555555555556,
              "#d8576b"
             ],
             [
              0.6666666666666666,
              "#ed7953"
             ],
             [
              0.7777777777777778,
              "#fb9f3a"
             ],
             [
              0.8888888888888888,
              "#fdca26"
             ],
             [
              1,
              "#f0f921"
             ]
            ],
            "type": "surface"
           }
          ],
          "table": [
           {
            "cells": {
             "fill": {
              "color": "#EBF0F8"
             },
             "line": {
              "color": "white"
             }
            },
            "header": {
             "fill": {
              "color": "#C8D4E3"
             },
             "line": {
              "color": "white"
             }
            },
            "type": "table"
           }
          ]
         },
         "layout": {
          "annotationdefaults": {
           "arrowcolor": "#2a3f5f",
           "arrowhead": 0,
           "arrowwidth": 1
          },
          "coloraxis": {
           "colorbar": {
            "outlinewidth": 0,
            "ticks": ""
           }
          },
          "colorscale": {
           "diverging": [
            [
             0,
             "#8e0152"
            ],
            [
             0.1,
             "#c51b7d"
            ],
            [
             0.2,
             "#de77ae"
            ],
            [
             0.3,
             "#f1b6da"
            ],
            [
             0.4,
             "#fde0ef"
            ],
            [
             0.5,
             "#f7f7f7"
            ],
            [
             0.6,
             "#e6f5d0"
            ],
            [
             0.7,
             "#b8e186"
            ],
            [
             0.8,
             "#7fbc41"
            ],
            [
             0.9,
             "#4d9221"
            ],
            [
             1,
             "#276419"
            ]
           ],
           "sequential": [
            [
             0,
             "#0d0887"
            ],
            [
             0.1111111111111111,
             "#46039f"
            ],
            [
             0.2222222222222222,
             "#7201a8"
            ],
            [
             0.3333333333333333,
             "#9c179e"
            ],
            [
             0.4444444444444444,
             "#bd3786"
            ],
            [
             0.5555555555555556,
             "#d8576b"
            ],
            [
             0.6666666666666666,
             "#ed7953"
            ],
            [
             0.7777777777777778,
             "#fb9f3a"
            ],
            [
             0.8888888888888888,
             "#fdca26"
            ],
            [
             1,
             "#f0f921"
            ]
           ],
           "sequentialminus": [
            [
             0,
             "#0d0887"
            ],
            [
             0.1111111111111111,
             "#46039f"
            ],
            [
             0.2222222222222222,
             "#7201a8"
            ],
            [
             0.3333333333333333,
             "#9c179e"
            ],
            [
             0.4444444444444444,
             "#bd3786"
            ],
            [
             0.5555555555555556,
             "#d8576b"
            ],
            [
             0.6666666666666666,
             "#ed7953"
            ],
            [
             0.7777777777777778,
             "#fb9f3a"
            ],
            [
             0.8888888888888888,
             "#fdca26"
            ],
            [
             1,
             "#f0f921"
            ]
           ]
          },
          "colorway": [
           "#636efa",
           "#EF553B",
           "#00cc96",
           "#ab63fa",
           "#FFA15A",
           "#19d3f3",
           "#FF6692",
           "#B6E880",
           "#FF97FF",
           "#FECB52"
          ],
          "font": {
           "color": "#2a3f5f"
          },
          "geo": {
           "bgcolor": "white",
           "lakecolor": "white",
           "landcolor": "#E5ECF6",
           "showlakes": true,
           "showland": true,
           "subunitcolor": "white"
          },
          "hoverlabel": {
           "align": "left"
          },
          "hovermode": "closest",
          "mapbox": {
           "style": "light"
          },
          "paper_bgcolor": "white",
          "plot_bgcolor": "#E5ECF6",
          "polar": {
           "angularaxis": {
            "gridcolor": "white",
            "linecolor": "white",
            "ticks": ""
           },
           "bgcolor": "#E5ECF6",
           "radialaxis": {
            "gridcolor": "white",
            "linecolor": "white",
            "ticks": ""
           }
          },
          "scene": {
           "xaxis": {
            "backgroundcolor": "#E5ECF6",
            "gridcolor": "white",
            "gridwidth": 2,
            "linecolor": "white",
            "showbackground": true,
            "ticks": "",
            "zerolinecolor": "white"
           },
           "yaxis": {
            "backgroundcolor": "#E5ECF6",
            "gridcolor": "white",
            "gridwidth": 2,
            "linecolor": "white",
            "showbackground": true,
            "ticks": "",
            "zerolinecolor": "white"
           },
           "zaxis": {
            "backgroundcolor": "#E5ECF6",
            "gridcolor": "white",
            "gridwidth": 2,
            "linecolor": "white",
            "showbackground": true,
            "ticks": "",
            "zerolinecolor": "white"
           }
          },
          "shapedefaults": {
           "line": {
            "color": "#2a3f5f"
           }
          },
          "ternary": {
           "aaxis": {
            "gridcolor": "white",
            "linecolor": "white",
            "ticks": ""
           },
           "baxis": {
            "gridcolor": "white",
            "linecolor": "white",
            "ticks": ""
           },
           "bgcolor": "#E5ECF6",
           "caxis": {
            "gridcolor": "white",
            "linecolor": "white",
            "ticks": ""
           }
          },
          "title": {
           "x": 0.05
          },
          "xaxis": {
           "automargin": true,
           "gridcolor": "white",
           "linecolor": "white",
           "ticks": "",
           "title": {
            "standoff": 15
           },
           "zerolinecolor": "white",
           "zerolinewidth": 2
          },
          "yaxis": {
           "automargin": true,
           "gridcolor": "white",
           "linecolor": "white",
           "ticks": "",
           "title": {
            "standoff": 15
           },
           "zerolinecolor": "white",
           "zerolinewidth": 2
          }
         }
        },
        "title": {
         "text": "Category별 리뷰수"
        },
        "xaxis": {
         "anchor": "y",
         "categoryorder": "total descending",
         "domain": [
          0,
          1
         ],
         "title": {
          "text": "리뷰수"
         },
         "type": "category"
        },
        "yaxis": {
         "anchor": "x",
         "domain": [
          0,
          1
         ],
         "title": {
          "text": "Category"
         }
        }
       }
      },
      "text/html": [
       "<div>                            <div id=\"589ef69f-7f72-44b0-ac1b-2202a3e40dc3\" class=\"plotly-graph-div\" style=\"height:400px; width:100%;\"></div>            <script type=\"text/javascript\">                require([\"plotly\"], function(Plotly) {                    window.PLOTLYENV=window.PLOTLYENV || {};                                    if (document.getElementById(\"589ef69f-7f72-44b0-ac1b-2202a3e40dc3\")) {                    Plotly.newPlot(                        \"589ef69f-7f72-44b0-ac1b-2202a3e40dc3\",                        [{\"alignmentgroup\": \"True\", \"hovertemplate\": \"Category: %{x} <br>\\ub9ac\\ubdf0\\uc218: %{y}\", \"legendgroup\": \"\", \"marker\": {\"color\": \"#636efa\"}, \"name\": \"\", \"offsetgroup\": \"\", \"orientation\": \"v\", \"showlegend\": false, \"textposition\": \"auto\", \"type\": \"bar\", \"x\": [\"\\uc704\\uce58\", \"\\uc2dc\\uc124\", \"\\uc778\\ud14c\\ub9ac\\uc5b4\", \"\\uccad\\uacb0\", \"\\uce5c\\uc808\", \"\\ubc29\\uc74c\"], \"xaxis\": \"x\", \"y\": [570, 376, 167, 776, 415, 120], \"yaxis\": \"y\"}],                        {\"barmode\": \"group\", \"height\": 400, \"legend\": {\"tracegroupgap\": 0}, \"margin\": {\"t\": 60}, \"template\": {\"data\": {\"bar\": [{\"error_x\": {\"color\": \"#2a3f5f\"}, \"error_y\": {\"color\": \"#2a3f5f\"}, \"marker\": {\"line\": {\"color\": \"#E5ECF6\", \"width\": 0.5}}, \"type\": \"bar\"}], \"barpolar\": [{\"marker\": {\"line\": {\"color\": \"#E5ECF6\", \"width\": 0.5}}, \"type\": \"barpolar\"}], \"carpet\": [{\"aaxis\": {\"endlinecolor\": \"#2a3f5f\", \"gridcolor\": \"white\", \"linecolor\": \"white\", \"minorgridcolor\": \"white\", \"startlinecolor\": \"#2a3f5f\"}, \"baxis\": {\"endlinecolor\": \"#2a3f5f\", \"gridcolor\": \"white\", \"linecolor\": \"white\", \"minorgridcolor\": \"white\", \"startlinecolor\": \"#2a3f5f\"}, \"type\": \"carpet\"}], \"choropleth\": [{\"colorbar\": {\"outlinewidth\": 0, \"ticks\": \"\"}, \"type\": \"choropleth\"}], \"contour\": [{\"colorbar\": {\"outlinewidth\": 0, \"ticks\": \"\"}, \"colorscale\": [[0.0, \"#0d0887\"], [0.1111111111111111, \"#46039f\"], [0.2222222222222222, \"#7201a8\"], [0.3333333333333333, \"#9c179e\"], [0.4444444444444444, \"#bd3786\"], [0.5555555555555556, \"#d8576b\"], [0.6666666666666666, \"#ed7953\"], [0.7777777777777778, \"#fb9f3a\"], [0.8888888888888888, \"#fdca26\"], [1.0, \"#f0f921\"]], \"type\": \"contour\"}], \"contourcarpet\": [{\"colorbar\": {\"outlinewidth\": 0, \"ticks\": \"\"}, \"type\": \"contourcarpet\"}], \"heatmap\": [{\"colorbar\": {\"outlinewidth\": 0, \"ticks\": \"\"}, \"colorscale\": [[0.0, \"#0d0887\"], [0.1111111111111111, \"#46039f\"], [0.2222222222222222, \"#7201a8\"], [0.3333333333333333, \"#9c179e\"], [0.4444444444444444, \"#bd3786\"], [0.5555555555555556, \"#d8576b\"], [0.6666666666666666, \"#ed7953\"], [0.7777777777777778, \"#fb9f3a\"], [0.8888888888888888, \"#fdca26\"], [1.0, \"#f0f921\"]], \"type\": \"heatmap\"}], \"heatmapgl\": [{\"colorbar\": {\"outlinewidth\": 0, \"ticks\": \"\"}, \"colorscale\": [[0.0, \"#0d0887\"], [0.1111111111111111, \"#46039f\"], [0.2222222222222222, \"#7201a8\"], [0.3333333333333333, \"#9c179e\"], [0.4444444444444444, \"#bd3786\"], [0.5555555555555556, \"#d8576b\"], [0.6666666666666666, \"#ed7953\"], [0.7777777777777778, \"#fb9f3a\"], [0.8888888888888888, \"#fdca26\"], [1.0, \"#f0f921\"]], \"type\": \"heatmapgl\"}], \"histogram\": [{\"marker\": {\"colorbar\": {\"outlinewidth\": 0, \"ticks\": \"\"}}, \"type\": \"histogram\"}], \"histogram2d\": [{\"colorbar\": {\"outlinewidth\": 0, \"ticks\": \"\"}, \"colorscale\": [[0.0, \"#0d0887\"], [0.1111111111111111, \"#46039f\"], [0.2222222222222222, \"#7201a8\"], [0.3333333333333333, \"#9c179e\"], [0.4444444444444444, \"#bd3786\"], [0.5555555555555556, \"#d8576b\"], [0.6666666666666666, \"#ed7953\"], [0.7777777777777778, \"#fb9f3a\"], [0.8888888888888888, \"#fdca26\"], [1.0, \"#f0f921\"]], \"type\": \"histogram2d\"}], \"histogram2dcontour\": [{\"colorbar\": {\"outlinewidth\": 0, \"ticks\": \"\"}, \"colorscale\": [[0.0, \"#0d0887\"], [0.1111111111111111, \"#46039f\"], [0.2222222222222222, \"#7201a8\"], [0.3333333333333333, \"#9c179e\"], [0.4444444444444444, \"#bd3786\"], [0.5555555555555556, \"#d8576b\"], [0.6666666666666666, \"#ed7953\"], [0.7777777777777778, \"#fb9f3a\"], [0.8888888888888888, \"#fdca26\"], [1.0, \"#f0f921\"]], \"type\": \"histogram2dcontour\"}], \"mesh3d\": [{\"colorbar\": {\"outlinewidth\": 0, \"ticks\": \"\"}, \"type\": \"mesh3d\"}], \"parcoords\": [{\"line\": {\"colorbar\": {\"outlinewidth\": 0, \"ticks\": \"\"}}, \"type\": \"parcoords\"}], \"pie\": [{\"automargin\": true, \"type\": \"pie\"}], \"scatter\": [{\"marker\": {\"colorbar\": {\"outlinewidth\": 0, \"ticks\": \"\"}}, \"type\": \"scatter\"}], \"scatter3d\": [{\"line\": {\"colorbar\": {\"outlinewidth\": 0, \"ticks\": \"\"}}, \"marker\": {\"colorbar\": {\"outlinewidth\": 0, \"ticks\": \"\"}}, \"type\": \"scatter3d\"}], \"scattercarpet\": [{\"marker\": {\"colorbar\": {\"outlinewidth\": 0, \"ticks\": \"\"}}, \"type\": \"scattercarpet\"}], \"scattergeo\": [{\"marker\": {\"colorbar\": {\"outlinewidth\": 0, \"ticks\": \"\"}}, \"type\": \"scattergeo\"}], \"scattergl\": [{\"marker\": {\"colorbar\": {\"outlinewidth\": 0, \"ticks\": \"\"}}, \"type\": \"scattergl\"}], \"scattermapbox\": [{\"marker\": {\"colorbar\": {\"outlinewidth\": 0, \"ticks\": \"\"}}, \"type\": \"scattermapbox\"}], \"scatterpolar\": [{\"marker\": {\"colorbar\": {\"outlinewidth\": 0, \"ticks\": \"\"}}, \"type\": \"scatterpolar\"}], \"scatterpolargl\": [{\"marker\": {\"colorbar\": {\"outlinewidth\": 0, \"ticks\": \"\"}}, \"type\": \"scatterpolargl\"}], \"scatterternary\": [{\"marker\": {\"colorbar\": {\"outlinewidth\": 0, \"ticks\": \"\"}}, \"type\": \"scatterternary\"}], \"surface\": [{\"colorbar\": {\"outlinewidth\": 0, \"ticks\": \"\"}, \"colorscale\": [[0.0, \"#0d0887\"], [0.1111111111111111, \"#46039f\"], [0.2222222222222222, \"#7201a8\"], [0.3333333333333333, \"#9c179e\"], [0.4444444444444444, \"#bd3786\"], [0.5555555555555556, \"#d8576b\"], [0.6666666666666666, \"#ed7953\"], [0.7777777777777778, \"#fb9f3a\"], [0.8888888888888888, \"#fdca26\"], [1.0, \"#f0f921\"]], \"type\": \"surface\"}], \"table\": [{\"cells\": {\"fill\": {\"color\": \"#EBF0F8\"}, \"line\": {\"color\": \"white\"}}, \"header\": {\"fill\": {\"color\": \"#C8D4E3\"}, \"line\": {\"color\": \"white\"}}, \"type\": \"table\"}]}, \"layout\": {\"annotationdefaults\": {\"arrowcolor\": \"#2a3f5f\", \"arrowhead\": 0, \"arrowwidth\": 1}, \"coloraxis\": {\"colorbar\": {\"outlinewidth\": 0, \"ticks\": \"\"}}, \"colorscale\": {\"diverging\": [[0, \"#8e0152\"], [0.1, \"#c51b7d\"], [0.2, \"#de77ae\"], [0.3, \"#f1b6da\"], [0.4, \"#fde0ef\"], [0.5, \"#f7f7f7\"], [0.6, \"#e6f5d0\"], [0.7, \"#b8e186\"], [0.8, \"#7fbc41\"], [0.9, \"#4d9221\"], [1, \"#276419\"]], \"sequential\": [[0.0, \"#0d0887\"], [0.1111111111111111, \"#46039f\"], [0.2222222222222222, \"#7201a8\"], [0.3333333333333333, \"#9c179e\"], [0.4444444444444444, \"#bd3786\"], [0.5555555555555556, \"#d8576b\"], [0.6666666666666666, \"#ed7953\"], [0.7777777777777778, \"#fb9f3a\"], [0.8888888888888888, \"#fdca26\"], [1.0, \"#f0f921\"]], \"sequentialminus\": [[0.0, \"#0d0887\"], [0.1111111111111111, \"#46039f\"], [0.2222222222222222, \"#7201a8\"], [0.3333333333333333, \"#9c179e\"], [0.4444444444444444, \"#bd3786\"], [0.5555555555555556, \"#d8576b\"], [0.6666666666666666, \"#ed7953\"], [0.7777777777777778, \"#fb9f3a\"], [0.8888888888888888, \"#fdca26\"], [1.0, \"#f0f921\"]]}, \"colorway\": [\"#636efa\", \"#EF553B\", \"#00cc96\", \"#ab63fa\", \"#FFA15A\", \"#19d3f3\", \"#FF6692\", \"#B6E880\", \"#FF97FF\", \"#FECB52\"], \"font\": {\"color\": \"#2a3f5f\"}, \"geo\": {\"bgcolor\": \"white\", \"lakecolor\": \"white\", \"landcolor\": \"#E5ECF6\", \"showlakes\": true, \"showland\": true, \"subunitcolor\": \"white\"}, \"hoverlabel\": {\"align\": \"left\"}, \"hovermode\": \"closest\", \"mapbox\": {\"style\": \"light\"}, \"paper_bgcolor\": \"white\", \"plot_bgcolor\": \"#E5ECF6\", \"polar\": {\"angularaxis\": {\"gridcolor\": \"white\", \"linecolor\": \"white\", \"ticks\": \"\"}, \"bgcolor\": \"#E5ECF6\", \"radialaxis\": {\"gridcolor\": \"white\", \"linecolor\": \"white\", \"ticks\": \"\"}}, \"scene\": {\"xaxis\": {\"backgroundcolor\": \"#E5ECF6\", \"gridcolor\": \"white\", \"gridwidth\": 2, \"linecolor\": \"white\", \"showbackground\": true, \"ticks\": \"\", \"zerolinecolor\": \"white\"}, \"yaxis\": {\"backgroundcolor\": \"#E5ECF6\", \"gridcolor\": \"white\", \"gridwidth\": 2, \"linecolor\": \"white\", \"showbackground\": true, \"ticks\": \"\", \"zerolinecolor\": \"white\"}, \"zaxis\": {\"backgroundcolor\": \"#E5ECF6\", \"gridcolor\": \"white\", \"gridwidth\": 2, \"linecolor\": \"white\", \"showbackground\": true, \"ticks\": \"\", \"zerolinecolor\": \"white\"}}, \"shapedefaults\": {\"line\": {\"color\": \"#2a3f5f\"}}, \"ternary\": {\"aaxis\": {\"gridcolor\": \"white\", \"linecolor\": \"white\", \"ticks\": \"\"}, \"baxis\": {\"gridcolor\": \"white\", \"linecolor\": \"white\", \"ticks\": \"\"}, \"bgcolor\": \"#E5ECF6\", \"caxis\": {\"gridcolor\": \"white\", \"linecolor\": \"white\", \"ticks\": \"\"}}, \"title\": {\"x\": 0.05}, \"xaxis\": {\"automargin\": true, \"gridcolor\": \"white\", \"linecolor\": \"white\", \"ticks\": \"\", \"title\": {\"standoff\": 15}, \"zerolinecolor\": \"white\", \"zerolinewidth\": 2}, \"yaxis\": {\"automargin\": true, \"gridcolor\": \"white\", \"linecolor\": \"white\", \"ticks\": \"\", \"title\": {\"standoff\": 15}, \"zerolinecolor\": \"white\", \"zerolinewidth\": 2}}}, \"title\": {\"text\": \"Category\\ubcc4 \\ub9ac\\ubdf0\\uc218\"}, \"xaxis\": {\"anchor\": \"y\", \"categoryorder\": \"total descending\", \"domain\": [0.0, 1.0], \"title\": {\"text\": \"\\ub9ac\\ubdf0\\uc218\"}, \"type\": \"category\"}, \"yaxis\": {\"anchor\": \"x\", \"domain\": [0.0, 1.0], \"title\": {\"text\": \"Category\"}}},                        {\"responsive\": true}                    ).then(function(){\n",
       "                            \n",
       "var gd = document.getElementById('589ef69f-7f72-44b0-ac1b-2202a3e40dc3');\n",
       "var x = new MutationObserver(function (mutations, observer) {{\n",
       "        var display = window.getComputedStyle(gd).display;\n",
       "        if (!display || display === 'none') {{\n",
       "            console.log([gd, 'removed!']);\n",
       "            Plotly.purge(gd);\n",
       "            observer.disconnect();\n",
       "        }}\n",
       "}});\n",
       "\n",
       "// Listen for the removal of the full notebook cells\n",
       "var notebookContainer = gd.closest('#notebook-container');\n",
       "if (notebookContainer) {{\n",
       "    x.observe(notebookContainer, {childList: true});\n",
       "}}\n",
       "\n",
       "// Listen for the clearing of the current output cell\n",
       "var outputEl = gd.closest('.output');\n",
       "if (outputEl) {{\n",
       "    x.observe(outputEl, {childList: true});\n",
       "}}\n",
       "\n",
       "                        })                };                });            </script>        </div>"
      ]
     },
     "metadata": {},
     "output_type": "display_data"
    }
   ],
   "source": [
    "fig = px.bar(data, x = 'variable', y = 'hotel',\n",
    "            barmode = 'group',\n",
    "            height = 400)\n",
    "fig.update_layout(xaxis_type = 'category', title = \"Category별 리뷰수\",\n",
    "                                   xaxis = { 'categoryorder': 'total descending'})\n",
    "\n",
    "fig.update_traces(hovertemplate = 'Category: %{x} <br>리뷰수: %{y}')\n",
    "fig.update_xaxes(title_text = '리뷰수')\n",
    "fig.update_yaxes(title_text = 'Category')\n",
    "fig.show()\n"
   ]
  },
  {
   "cell_type": "markdown",
   "metadata": {},
   "source": [
    "## 카테고리 별 긍/부정 "
   ]
  },
  {
   "cell_type": "code",
   "execution_count": 28,
   "metadata": {},
   "outputs": [],
   "source": [
    "data = pd.DataFrame([])\n",
    "for k in list(df.columns[-7:]):\n",
    "    df_ = df[df[k] == 1]\n",
    "    df_ = df_.groupby([\"attitude\"]).count().hotel\n",
    "    df_ = df_.reset_index()\n",
    "    df_.columns = [\"attitude\",k]\n",
    "    df_ = pd.melt(df_, id_vars = ['attitude'])\n",
    "    data = data.append(df_)"
   ]
  },
  {
   "cell_type": "code",
   "execution_count": 29,
   "metadata": {},
   "outputs": [
    {
     "data": {
      "text/html": [
       "<div>\n",
       "<style scoped>\n",
       "    .dataframe tbody tr th:only-of-type {\n",
       "        vertical-align: middle;\n",
       "    }\n",
       "\n",
       "    .dataframe tbody tr th {\n",
       "        vertical-align: top;\n",
       "    }\n",
       "\n",
       "    .dataframe thead th {\n",
       "        text-align: right;\n",
       "    }\n",
       "</style>\n",
       "<table border=\"1\" class=\"dataframe\">\n",
       "  <thead>\n",
       "    <tr style=\"text-align: right;\">\n",
       "      <th></th>\n",
       "      <th>attitude</th>\n",
       "      <th>variable</th>\n",
       "      <th>value</th>\n",
       "    </tr>\n",
       "  </thead>\n",
       "  <tbody>\n",
       "    <tr>\n",
       "      <th>0</th>\n",
       "      <td>부정</td>\n",
       "      <td>위치</td>\n",
       "      <td>13</td>\n",
       "    </tr>\n",
       "    <tr>\n",
       "      <th>1</th>\n",
       "      <td>중립</td>\n",
       "      <td>위치</td>\n",
       "      <td>158</td>\n",
       "    </tr>\n",
       "    <tr>\n",
       "      <th>2</th>\n",
       "      <td>긍정</td>\n",
       "      <td>위치</td>\n",
       "      <td>399</td>\n",
       "    </tr>\n",
       "    <tr>\n",
       "      <th>0</th>\n",
       "      <td>부정</td>\n",
       "      <td>시설</td>\n",
       "      <td>31</td>\n",
       "    </tr>\n",
       "    <tr>\n",
       "      <th>1</th>\n",
       "      <td>중립</td>\n",
       "      <td>시설</td>\n",
       "      <td>122</td>\n",
       "    </tr>\n",
       "  </tbody>\n",
       "</table>\n",
       "</div>"
      ],
      "text/plain": [
       "  attitude variable  value\n",
       "0       부정       위치     13\n",
       "1       중립       위치    158\n",
       "2       긍정       위치    399\n",
       "0       부정       시설     31\n",
       "1       중립       시설    122"
      ]
     },
     "execution_count": 29,
     "metadata": {},
     "output_type": "execute_result"
    }
   ],
   "source": [
    "value_dict = {0: '부정',\n",
    "               1:'중립',\n",
    "             2: '긍정'}\n",
    "data['attitude'] = data['attitude'].map(value_dict)\n",
    "data.head()"
   ]
  },
  {
   "cell_type": "code",
   "execution_count": 30,
   "metadata": {},
   "outputs": [
    {
     "data": {
      "text/html": [
       "<div>\n",
       "<style scoped>\n",
       "    .dataframe tbody tr th:only-of-type {\n",
       "        vertical-align: middle;\n",
       "    }\n",
       "\n",
       "    .dataframe tbody tr th {\n",
       "        vertical-align: top;\n",
       "    }\n",
       "\n",
       "    .dataframe thead th {\n",
       "        text-align: right;\n",
       "    }\n",
       "</style>\n",
       "<table border=\"1\" class=\"dataframe\">\n",
       "  <thead>\n",
       "    <tr style=\"text-align: right;\">\n",
       "      <th></th>\n",
       "      <th>attitude</th>\n",
       "      <th>variable</th>\n",
       "      <th>value</th>\n",
       "      <th>all</th>\n",
       "      <th>rate</th>\n",
       "    </tr>\n",
       "  </thead>\n",
       "  <tbody>\n",
       "    <tr>\n",
       "      <th>0</th>\n",
       "      <td>부정</td>\n",
       "      <td>위치</td>\n",
       "      <td>13</td>\n",
       "      <td>570</td>\n",
       "      <td>0.022807</td>\n",
       "    </tr>\n",
       "    <tr>\n",
       "      <th>1</th>\n",
       "      <td>중립</td>\n",
       "      <td>위치</td>\n",
       "      <td>158</td>\n",
       "      <td>570</td>\n",
       "      <td>0.277193</td>\n",
       "    </tr>\n",
       "    <tr>\n",
       "      <th>2</th>\n",
       "      <td>긍정</td>\n",
       "      <td>위치</td>\n",
       "      <td>399</td>\n",
       "      <td>570</td>\n",
       "      <td>0.700000</td>\n",
       "    </tr>\n",
       "    <tr>\n",
       "      <th>3</th>\n",
       "      <td>부정</td>\n",
       "      <td>시설</td>\n",
       "      <td>31</td>\n",
       "      <td>376</td>\n",
       "      <td>0.082447</td>\n",
       "    </tr>\n",
       "    <tr>\n",
       "      <th>4</th>\n",
       "      <td>중립</td>\n",
       "      <td>시설</td>\n",
       "      <td>122</td>\n",
       "      <td>376</td>\n",
       "      <td>0.324468</td>\n",
       "    </tr>\n",
       "  </tbody>\n",
       "</table>\n",
       "</div>"
      ],
      "text/plain": [
       "  attitude variable  value  all      rate\n",
       "0       부정       위치     13  570  0.022807\n",
       "1       중립       위치    158  570  0.277193\n",
       "2       긍정       위치    399  570  0.700000\n",
       "3       부정       시설     31  376  0.082447\n",
       "4       중립       시설    122  376  0.324468"
      ]
     },
     "execution_count": 30,
     "metadata": {},
     "output_type": "execute_result"
    }
   ],
   "source": [
    "data2 = data.groupby([\"variable\"]).sum().value\n",
    "data2 = data2.reset_index()\n",
    "data2.columns = [\"variable\",\"all\"]\n",
    "data = data.merge(data2, how = \"left\")\n",
    "data[\"rate\"] = data[\"value\"]/data[\"all\"]\n",
    "data.head()"
   ]
  },
  {
   "cell_type": "markdown",
   "metadata": {},
   "source": [
    "## 카테고리 별 attitude에 따른 리뷰 수"
   ]
  },
  {
   "cell_type": "code",
   "execution_count": 31,
   "metadata": {},
   "outputs": [
    {
     "data": {
      "application/vnd.plotly.v1+json": {
       "config": {
        "plotlyServerURL": "https://plot.ly"
       },
       "data": [
        {
         "alignmentgroup": "True",
         "hovertemplate": "Category: %{x} <br>리뷰수: %{y}",
         "legendgroup": "부정",
         "marker": {
          "color": "#636efa"
         },
         "name": "부정",
         "offsetgroup": "부정",
         "orientation": "v",
         "showlegend": true,
         "textposition": "auto",
         "type": "bar",
         "x": [
          "위치",
          "시설",
          "인테리어",
          "청결",
          "친절",
          "방음"
         ],
         "xaxis": "x",
         "y": [
          13,
          31,
          9,
          58,
          36,
          21
         ],
         "yaxis": "y"
        },
        {
         "alignmentgroup": "True",
         "hovertemplate": "Category: %{x} <br>리뷰수: %{y}",
         "legendgroup": "중립",
         "marker": {
          "color": "#EF553B"
         },
         "name": "중립",
         "offsetgroup": "중립",
         "orientation": "v",
         "showlegend": true,
         "textposition": "auto",
         "type": "bar",
         "x": [
          "위치",
          "시설",
          "인테리어",
          "청결",
          "친절",
          "방음"
         ],
         "xaxis": "x",
         "y": [
          158,
          122,
          75,
          181,
          89,
          62
         ],
         "yaxis": "y"
        },
        {
         "alignmentgroup": "True",
         "hovertemplate": "Category: %{x} <br>리뷰수: %{y}",
         "legendgroup": "긍정",
         "marker": {
          "color": "#00cc96"
         },
         "name": "긍정",
         "offsetgroup": "긍정",
         "orientation": "v",
         "showlegend": true,
         "textposition": "auto",
         "type": "bar",
         "x": [
          "위치",
          "시설",
          "인테리어",
          "청결",
          "친절",
          "방음"
         ],
         "xaxis": "x",
         "y": [
          399,
          223,
          83,
          537,
          290,
          37
         ],
         "yaxis": "y"
        }
       ],
       "layout": {
        "barmode": "group",
        "height": 400,
        "legend": {
         "title": {
          "text": "attitude"
         },
         "tracegroupgap": 0
        },
        "margin": {
         "t": 60
        },
        "template": {
         "data": {
          "bar": [
           {
            "error_x": {
             "color": "rgb(51,51,51)"
            },
            "error_y": {
             "color": "rgb(51,51,51)"
            },
            "marker": {
             "line": {
              "color": "rgb(237,237,237)",
              "width": 0.5
             }
            },
            "type": "bar"
           }
          ],
          "barpolar": [
           {
            "marker": {
             "line": {
              "color": "rgb(237,237,237)",
              "width": 0.5
             }
            },
            "type": "barpolar"
           }
          ],
          "carpet": [
           {
            "aaxis": {
             "endlinecolor": "rgb(51,51,51)",
             "gridcolor": "white",
             "linecolor": "white",
             "minorgridcolor": "white",
             "startlinecolor": "rgb(51,51,51)"
            },
            "baxis": {
             "endlinecolor": "rgb(51,51,51)",
             "gridcolor": "white",
             "linecolor": "white",
             "minorgridcolor": "white",
             "startlinecolor": "rgb(51,51,51)"
            },
            "type": "carpet"
           }
          ],
          "choropleth": [
           {
            "colorbar": {
             "outlinewidth": 0,
             "tickcolor": "rgb(237,237,237)",
             "ticklen": 6,
             "ticks": "inside"
            },
            "type": "choropleth"
           }
          ],
          "contour": [
           {
            "colorbar": {
             "outlinewidth": 0,
             "tickcolor": "rgb(237,237,237)",
             "ticklen": 6,
             "ticks": "inside"
            },
            "colorscale": [
             [
              0,
              "rgb(20,44,66)"
             ],
             [
              1,
              "rgb(90,179,244)"
             ]
            ],
            "type": "contour"
           }
          ],
          "contourcarpet": [
           {
            "colorbar": {
             "outlinewidth": 0,
             "tickcolor": "rgb(237,237,237)",
             "ticklen": 6,
             "ticks": "inside"
            },
            "type": "contourcarpet"
           }
          ],
          "heatmap": [
           {
            "colorbar": {
             "outlinewidth": 0,
             "tickcolor": "rgb(237,237,237)",
             "ticklen": 6,
             "ticks": "inside"
            },
            "colorscale": [
             [
              0,
              "rgb(20,44,66)"
             ],
             [
              1,
              "rgb(90,179,244)"
             ]
            ],
            "type": "heatmap"
           }
          ],
          "heatmapgl": [
           {
            "colorbar": {
             "outlinewidth": 0,
             "tickcolor": "rgb(237,237,237)",
             "ticklen": 6,
             "ticks": "inside"
            },
            "colorscale": [
             [
              0,
              "rgb(20,44,66)"
             ],
             [
              1,
              "rgb(90,179,244)"
             ]
            ],
            "type": "heatmapgl"
           }
          ],
          "histogram": [
           {
            "marker": {
             "colorbar": {
              "outlinewidth": 0,
              "tickcolor": "rgb(237,237,237)",
              "ticklen": 6,
              "ticks": "inside"
             }
            },
            "type": "histogram"
           }
          ],
          "histogram2d": [
           {
            "colorbar": {
             "outlinewidth": 0,
             "tickcolor": "rgb(237,237,237)",
             "ticklen": 6,
             "ticks": "inside"
            },
            "colorscale": [
             [
              0,
              "rgb(20,44,66)"
             ],
             [
              1,
              "rgb(90,179,244)"
             ]
            ],
            "type": "histogram2d"
           }
          ],
          "histogram2dcontour": [
           {
            "colorbar": {
             "outlinewidth": 0,
             "tickcolor": "rgb(237,237,237)",
             "ticklen": 6,
             "ticks": "inside"
            },
            "colorscale": [
             [
              0,
              "rgb(20,44,66)"
             ],
             [
              1,
              "rgb(90,179,244)"
             ]
            ],
            "type": "histogram2dcontour"
           }
          ],
          "mesh3d": [
           {
            "colorbar": {
             "outlinewidth": 0,
             "tickcolor": "rgb(237,237,237)",
             "ticklen": 6,
             "ticks": "inside"
            },
            "type": "mesh3d"
           }
          ],
          "parcoords": [
           {
            "line": {
             "colorbar": {
              "outlinewidth": 0,
              "tickcolor": "rgb(237,237,237)",
              "ticklen": 6,
              "ticks": "inside"
             }
            },
            "type": "parcoords"
           }
          ],
          "pie": [
           {
            "automargin": true,
            "type": "pie"
           }
          ],
          "scatter": [
           {
            "marker": {
             "colorbar": {
              "outlinewidth": 0,
              "tickcolor": "rgb(237,237,237)",
              "ticklen": 6,
              "ticks": "inside"
             }
            },
            "type": "scatter"
           }
          ],
          "scatter3d": [
           {
            "line": {
             "colorbar": {
              "outlinewidth": 0,
              "tickcolor": "rgb(237,237,237)",
              "ticklen": 6,
              "ticks": "inside"
             }
            },
            "marker": {
             "colorbar": {
              "outlinewidth": 0,
              "tickcolor": "rgb(237,237,237)",
              "ticklen": 6,
              "ticks": "inside"
             }
            },
            "type": "scatter3d"
           }
          ],
          "scattercarpet": [
           {
            "marker": {
             "colorbar": {
              "outlinewidth": 0,
              "tickcolor": "rgb(237,237,237)",
              "ticklen": 6,
              "ticks": "inside"
             }
            },
            "type": "scattercarpet"
           }
          ],
          "scattergeo": [
           {
            "marker": {
             "colorbar": {
              "outlinewidth": 0,
              "tickcolor": "rgb(237,237,237)",
              "ticklen": 6,
              "ticks": "inside"
             }
            },
            "type": "scattergeo"
           }
          ],
          "scattergl": [
           {
            "marker": {
             "colorbar": {
              "outlinewidth": 0,
              "tickcolor": "rgb(237,237,237)",
              "ticklen": 6,
              "ticks": "inside"
             }
            },
            "type": "scattergl"
           }
          ],
          "scattermapbox": [
           {
            "marker": {
             "colorbar": {
              "outlinewidth": 0,
              "tickcolor": "rgb(237,237,237)",
              "ticklen": 6,
              "ticks": "inside"
             }
            },
            "type": "scattermapbox"
           }
          ],
          "scatterpolar": [
           {
            "marker": {
             "colorbar": {
              "outlinewidth": 0,
              "tickcolor": "rgb(237,237,237)",
              "ticklen": 6,
              "ticks": "inside"
             }
            },
            "type": "scatterpolar"
           }
          ],
          "scatterpolargl": [
           {
            "marker": {
             "colorbar": {
              "outlinewidth": 0,
              "tickcolor": "rgb(237,237,237)",
              "ticklen": 6,
              "ticks": "inside"
             }
            },
            "type": "scatterpolargl"
           }
          ],
          "scatterternary": [
           {
            "marker": {
             "colorbar": {
              "outlinewidth": 0,
              "tickcolor": "rgb(237,237,237)",
              "ticklen": 6,
              "ticks": "inside"
             }
            },
            "type": "scatterternary"
           }
          ],
          "surface": [
           {
            "colorbar": {
             "outlinewidth": 0,
             "tickcolor": "rgb(237,237,237)",
             "ticklen": 6,
             "ticks": "inside"
            },
            "colorscale": [
             [
              0,
              "rgb(20,44,66)"
             ],
             [
              1,
              "rgb(90,179,244)"
             ]
            ],
            "type": "surface"
           }
          ],
          "table": [
           {
            "cells": {
             "fill": {
              "color": "rgb(237,237,237)"
             },
             "line": {
              "color": "white"
             }
            },
            "header": {
             "fill": {
              "color": "rgb(217,217,217)"
             },
             "line": {
              "color": "white"
             }
            },
            "type": "table"
           }
          ]
         },
         "layout": {
          "annotationdefaults": {
           "arrowhead": 0,
           "arrowwidth": 1
          },
          "coloraxis": {
           "colorbar": {
            "outlinewidth": 0,
            "tickcolor": "rgb(237,237,237)",
            "ticklen": 6,
            "ticks": "inside"
           }
          },
          "colorscale": {
           "sequential": [
            [
             0,
             "rgb(20,44,66)"
            ],
            [
             1,
             "rgb(90,179,244)"
            ]
           ],
           "sequentialminus": [
            [
             0,
             "rgb(20,44,66)"
            ],
            [
             1,
             "rgb(90,179,244)"
            ]
           ]
          },
          "colorway": [
           "#F8766D",
           "#A3A500",
           "#00BF7D",
           "#00B0F6",
           "#E76BF3"
          ],
          "font": {
           "color": "rgb(51,51,51)"
          },
          "geo": {
           "bgcolor": "white",
           "lakecolor": "white",
           "landcolor": "rgb(237,237,237)",
           "showlakes": true,
           "showland": true,
           "subunitcolor": "white"
          },
          "hoverlabel": {
           "align": "left"
          },
          "hovermode": "closest",
          "paper_bgcolor": "white",
          "plot_bgcolor": "rgb(237,237,237)",
          "polar": {
           "angularaxis": {
            "gridcolor": "white",
            "linecolor": "white",
            "showgrid": true,
            "tickcolor": "rgb(51,51,51)",
            "ticks": "outside"
           },
           "bgcolor": "rgb(237,237,237)",
           "radialaxis": {
            "gridcolor": "white",
            "linecolor": "white",
            "showgrid": true,
            "tickcolor": "rgb(51,51,51)",
            "ticks": "outside"
           }
          },
          "scene": {
           "xaxis": {
            "backgroundcolor": "rgb(237,237,237)",
            "gridcolor": "white",
            "gridwidth": 2,
            "linecolor": "white",
            "showbackground": true,
            "showgrid": true,
            "tickcolor": "rgb(51,51,51)",
            "ticks": "outside",
            "zerolinecolor": "white"
           },
           "yaxis": {
            "backgroundcolor": "rgb(237,237,237)",
            "gridcolor": "white",
            "gridwidth": 2,
            "linecolor": "white",
            "showbackground": true,
            "showgrid": true,
            "tickcolor": "rgb(51,51,51)",
            "ticks": "outside",
            "zerolinecolor": "white"
           },
           "zaxis": {
            "backgroundcolor": "rgb(237,237,237)",
            "gridcolor": "white",
            "gridwidth": 2,
            "linecolor": "white",
            "showbackground": true,
            "showgrid": true,
            "tickcolor": "rgb(51,51,51)",
            "ticks": "outside",
            "zerolinecolor": "white"
           }
          },
          "shapedefaults": {
           "fillcolor": "black",
           "line": {
            "width": 0
           },
           "opacity": 0.3
          },
          "ternary": {
           "aaxis": {
            "gridcolor": "white",
            "linecolor": "white",
            "showgrid": true,
            "tickcolor": "rgb(51,51,51)",
            "ticks": "outside"
           },
           "baxis": {
            "gridcolor": "white",
            "linecolor": "white",
            "showgrid": true,
            "tickcolor": "rgb(51,51,51)",
            "ticks": "outside"
           },
           "bgcolor": "rgb(237,237,237)",
           "caxis": {
            "gridcolor": "white",
            "linecolor": "white",
            "showgrid": true,
            "tickcolor": "rgb(51,51,51)",
            "ticks": "outside"
           }
          },
          "xaxis": {
           "automargin": true,
           "gridcolor": "white",
           "linecolor": "white",
           "showgrid": true,
           "tickcolor": "rgb(51,51,51)",
           "ticks": "outside",
           "title": {
            "standoff": 15
           },
           "zerolinecolor": "white"
          },
          "yaxis": {
           "automargin": true,
           "gridcolor": "white",
           "linecolor": "white",
           "showgrid": true,
           "tickcolor": "rgb(51,51,51)",
           "ticks": "outside",
           "title": {
            "standoff": 15
           },
           "zerolinecolor": "white"
          }
         }
        },
        "xaxis": {
         "anchor": "y",
         "domain": [
          0,
          1
         ],
         "title": {
          "text": "리뷰수"
         },
         "type": "category"
        },
        "yaxis": {
         "anchor": "x",
         "domain": [
          0,
          1
         ],
         "title": {
          "text": "Category"
         }
        }
       }
      },
      "text/html": [
       "<div>                            <div id=\"275386bb-28a5-4e54-b8f1-1c2621f49db0\" class=\"plotly-graph-div\" style=\"height:400px; width:100%;\"></div>            <script type=\"text/javascript\">                require([\"plotly\"], function(Plotly) {                    window.PLOTLYENV=window.PLOTLYENV || {};                                    if (document.getElementById(\"275386bb-28a5-4e54-b8f1-1c2621f49db0\")) {                    Plotly.newPlot(                        \"275386bb-28a5-4e54-b8f1-1c2621f49db0\",                        [{\"alignmentgroup\": \"True\", \"hovertemplate\": \"Category: %{x} <br>\\ub9ac\\ubdf0\\uc218: %{y}\", \"legendgroup\": \"\\ubd80\\uc815\", \"marker\": {\"color\": \"#636efa\"}, \"name\": \"\\ubd80\\uc815\", \"offsetgroup\": \"\\ubd80\\uc815\", \"orientation\": \"v\", \"showlegend\": true, \"textposition\": \"auto\", \"type\": \"bar\", \"x\": [\"\\uc704\\uce58\", \"\\uc2dc\\uc124\", \"\\uc778\\ud14c\\ub9ac\\uc5b4\", \"\\uccad\\uacb0\", \"\\uce5c\\uc808\", \"\\ubc29\\uc74c\"], \"xaxis\": \"x\", \"y\": [13, 31, 9, 58, 36, 21], \"yaxis\": \"y\"}, {\"alignmentgroup\": \"True\", \"hovertemplate\": \"Category: %{x} <br>\\ub9ac\\ubdf0\\uc218: %{y}\", \"legendgroup\": \"\\uc911\\ub9bd\", \"marker\": {\"color\": \"#EF553B\"}, \"name\": \"\\uc911\\ub9bd\", \"offsetgroup\": \"\\uc911\\ub9bd\", \"orientation\": \"v\", \"showlegend\": true, \"textposition\": \"auto\", \"type\": \"bar\", \"x\": [\"\\uc704\\uce58\", \"\\uc2dc\\uc124\", \"\\uc778\\ud14c\\ub9ac\\uc5b4\", \"\\uccad\\uacb0\", \"\\uce5c\\uc808\", \"\\ubc29\\uc74c\"], \"xaxis\": \"x\", \"y\": [158, 122, 75, 181, 89, 62], \"yaxis\": \"y\"}, {\"alignmentgroup\": \"True\", \"hovertemplate\": \"Category: %{x} <br>\\ub9ac\\ubdf0\\uc218: %{y}\", \"legendgroup\": \"\\uae0d\\uc815\", \"marker\": {\"color\": \"#00cc96\"}, \"name\": \"\\uae0d\\uc815\", \"offsetgroup\": \"\\uae0d\\uc815\", \"orientation\": \"v\", \"showlegend\": true, \"textposition\": \"auto\", \"type\": \"bar\", \"x\": [\"\\uc704\\uce58\", \"\\uc2dc\\uc124\", \"\\uc778\\ud14c\\ub9ac\\uc5b4\", \"\\uccad\\uacb0\", \"\\uce5c\\uc808\", \"\\ubc29\\uc74c\"], \"xaxis\": \"x\", \"y\": [399, 223, 83, 537, 290, 37], \"yaxis\": \"y\"}],                        {\"barmode\": \"group\", \"height\": 400, \"legend\": {\"title\": {\"text\": \"attitude\"}, \"tracegroupgap\": 0}, \"margin\": {\"t\": 60}, \"template\": {\"data\": {\"bar\": [{\"error_x\": {\"color\": \"rgb(51,51,51)\"}, \"error_y\": {\"color\": \"rgb(51,51,51)\"}, \"marker\": {\"line\": {\"color\": \"rgb(237,237,237)\", \"width\": 0.5}}, \"type\": \"bar\"}], \"barpolar\": [{\"marker\": {\"line\": {\"color\": \"rgb(237,237,237)\", \"width\": 0.5}}, \"type\": \"barpolar\"}], \"carpet\": [{\"aaxis\": {\"endlinecolor\": \"rgb(51,51,51)\", \"gridcolor\": \"white\", \"linecolor\": \"white\", \"minorgridcolor\": \"white\", \"startlinecolor\": \"rgb(51,51,51)\"}, \"baxis\": {\"endlinecolor\": \"rgb(51,51,51)\", \"gridcolor\": \"white\", \"linecolor\": \"white\", \"minorgridcolor\": \"white\", \"startlinecolor\": \"rgb(51,51,51)\"}, \"type\": \"carpet\"}], \"choropleth\": [{\"colorbar\": {\"outlinewidth\": 0, \"tickcolor\": \"rgb(237,237,237)\", \"ticklen\": 6, \"ticks\": \"inside\"}, \"type\": \"choropleth\"}], \"contour\": [{\"colorbar\": {\"outlinewidth\": 0, \"tickcolor\": \"rgb(237,237,237)\", \"ticklen\": 6, \"ticks\": \"inside\"}, \"colorscale\": [[0, \"rgb(20,44,66)\"], [1, \"rgb(90,179,244)\"]], \"type\": \"contour\"}], \"contourcarpet\": [{\"colorbar\": {\"outlinewidth\": 0, \"tickcolor\": \"rgb(237,237,237)\", \"ticklen\": 6, \"ticks\": \"inside\"}, \"type\": \"contourcarpet\"}], \"heatmap\": [{\"colorbar\": {\"outlinewidth\": 0, \"tickcolor\": \"rgb(237,237,237)\", \"ticklen\": 6, \"ticks\": \"inside\"}, \"colorscale\": [[0, \"rgb(20,44,66)\"], [1, \"rgb(90,179,244)\"]], \"type\": \"heatmap\"}], \"heatmapgl\": [{\"colorbar\": {\"outlinewidth\": 0, \"tickcolor\": \"rgb(237,237,237)\", \"ticklen\": 6, \"ticks\": \"inside\"}, \"colorscale\": [[0, \"rgb(20,44,66)\"], [1, \"rgb(90,179,244)\"]], \"type\": \"heatmapgl\"}], \"histogram\": [{\"marker\": {\"colorbar\": {\"outlinewidth\": 0, \"tickcolor\": \"rgb(237,237,237)\", \"ticklen\": 6, \"ticks\": \"inside\"}}, \"type\": \"histogram\"}], \"histogram2d\": [{\"colorbar\": {\"outlinewidth\": 0, \"tickcolor\": \"rgb(237,237,237)\", \"ticklen\": 6, \"ticks\": \"inside\"}, \"colorscale\": [[0, \"rgb(20,44,66)\"], [1, \"rgb(90,179,244)\"]], \"type\": \"histogram2d\"}], \"histogram2dcontour\": [{\"colorbar\": {\"outlinewidth\": 0, \"tickcolor\": \"rgb(237,237,237)\", \"ticklen\": 6, \"ticks\": \"inside\"}, \"colorscale\": [[0, \"rgb(20,44,66)\"], [1, \"rgb(90,179,244)\"]], \"type\": \"histogram2dcontour\"}], \"mesh3d\": [{\"colorbar\": {\"outlinewidth\": 0, \"tickcolor\": \"rgb(237,237,237)\", \"ticklen\": 6, \"ticks\": \"inside\"}, \"type\": \"mesh3d\"}], \"parcoords\": [{\"line\": {\"colorbar\": {\"outlinewidth\": 0, \"tickcolor\": \"rgb(237,237,237)\", \"ticklen\": 6, \"ticks\": \"inside\"}}, \"type\": \"parcoords\"}], \"pie\": [{\"automargin\": true, \"type\": \"pie\"}], \"scatter\": [{\"marker\": {\"colorbar\": {\"outlinewidth\": 0, \"tickcolor\": \"rgb(237,237,237)\", \"ticklen\": 6, \"ticks\": \"inside\"}}, \"type\": \"scatter\"}], \"scatter3d\": [{\"line\": {\"colorbar\": {\"outlinewidth\": 0, \"tickcolor\": \"rgb(237,237,237)\", \"ticklen\": 6, \"ticks\": \"inside\"}}, \"marker\": {\"colorbar\": {\"outlinewidth\": 0, \"tickcolor\": \"rgb(237,237,237)\", \"ticklen\": 6, \"ticks\": \"inside\"}}, \"type\": \"scatter3d\"}], \"scattercarpet\": [{\"marker\": {\"colorbar\": {\"outlinewidth\": 0, \"tickcolor\": \"rgb(237,237,237)\", \"ticklen\": 6, \"ticks\": \"inside\"}}, \"type\": \"scattercarpet\"}], \"scattergeo\": [{\"marker\": {\"colorbar\": {\"outlinewidth\": 0, \"tickcolor\": \"rgb(237,237,237)\", \"ticklen\": 6, \"ticks\": \"inside\"}}, \"type\": \"scattergeo\"}], \"scattergl\": [{\"marker\": {\"colorbar\": {\"outlinewidth\": 0, \"tickcolor\": \"rgb(237,237,237)\", \"ticklen\": 6, \"ticks\": \"inside\"}}, \"type\": \"scattergl\"}], \"scattermapbox\": [{\"marker\": {\"colorbar\": {\"outlinewidth\": 0, \"tickcolor\": \"rgb(237,237,237)\", \"ticklen\": 6, \"ticks\": \"inside\"}}, \"type\": \"scattermapbox\"}], \"scatterpolar\": [{\"marker\": {\"colorbar\": {\"outlinewidth\": 0, \"tickcolor\": \"rgb(237,237,237)\", \"ticklen\": 6, \"ticks\": \"inside\"}}, \"type\": \"scatterpolar\"}], \"scatterpolargl\": [{\"marker\": {\"colorbar\": {\"outlinewidth\": 0, \"tickcolor\": \"rgb(237,237,237)\", \"ticklen\": 6, \"ticks\": \"inside\"}}, \"type\": \"scatterpolargl\"}], \"scatterternary\": [{\"marker\": {\"colorbar\": {\"outlinewidth\": 0, \"tickcolor\": \"rgb(237,237,237)\", \"ticklen\": 6, \"ticks\": \"inside\"}}, \"type\": \"scatterternary\"}], \"surface\": [{\"colorbar\": {\"outlinewidth\": 0, \"tickcolor\": \"rgb(237,237,237)\", \"ticklen\": 6, \"ticks\": \"inside\"}, \"colorscale\": [[0, \"rgb(20,44,66)\"], [1, \"rgb(90,179,244)\"]], \"type\": \"surface\"}], \"table\": [{\"cells\": {\"fill\": {\"color\": \"rgb(237,237,237)\"}, \"line\": {\"color\": \"white\"}}, \"header\": {\"fill\": {\"color\": \"rgb(217,217,217)\"}, \"line\": {\"color\": \"white\"}}, \"type\": \"table\"}]}, \"layout\": {\"annotationdefaults\": {\"arrowhead\": 0, \"arrowwidth\": 1}, \"coloraxis\": {\"colorbar\": {\"outlinewidth\": 0, \"tickcolor\": \"rgb(237,237,237)\", \"ticklen\": 6, \"ticks\": \"inside\"}}, \"colorscale\": {\"sequential\": [[0, \"rgb(20,44,66)\"], [1, \"rgb(90,179,244)\"]], \"sequentialminus\": [[0, \"rgb(20,44,66)\"], [1, \"rgb(90,179,244)\"]]}, \"colorway\": [\"#F8766D\", \"#A3A500\", \"#00BF7D\", \"#00B0F6\", \"#E76BF3\"], \"font\": {\"color\": \"rgb(51,51,51)\"}, \"geo\": {\"bgcolor\": \"white\", \"lakecolor\": \"white\", \"landcolor\": \"rgb(237,237,237)\", \"showlakes\": true, \"showland\": true, \"subunitcolor\": \"white\"}, \"hoverlabel\": {\"align\": \"left\"}, \"hovermode\": \"closest\", \"paper_bgcolor\": \"white\", \"plot_bgcolor\": \"rgb(237,237,237)\", \"polar\": {\"angularaxis\": {\"gridcolor\": \"white\", \"linecolor\": \"white\", \"showgrid\": true, \"tickcolor\": \"rgb(51,51,51)\", \"ticks\": \"outside\"}, \"bgcolor\": \"rgb(237,237,237)\", \"radialaxis\": {\"gridcolor\": \"white\", \"linecolor\": \"white\", \"showgrid\": true, \"tickcolor\": \"rgb(51,51,51)\", \"ticks\": \"outside\"}}, \"scene\": {\"xaxis\": {\"backgroundcolor\": \"rgb(237,237,237)\", \"gridcolor\": \"white\", \"gridwidth\": 2, \"linecolor\": \"white\", \"showbackground\": true, \"showgrid\": true, \"tickcolor\": \"rgb(51,51,51)\", \"ticks\": \"outside\", \"zerolinecolor\": \"white\"}, \"yaxis\": {\"backgroundcolor\": \"rgb(237,237,237)\", \"gridcolor\": \"white\", \"gridwidth\": 2, \"linecolor\": \"white\", \"showbackground\": true, \"showgrid\": true, \"tickcolor\": \"rgb(51,51,51)\", \"ticks\": \"outside\", \"zerolinecolor\": \"white\"}, \"zaxis\": {\"backgroundcolor\": \"rgb(237,237,237)\", \"gridcolor\": \"white\", \"gridwidth\": 2, \"linecolor\": \"white\", \"showbackground\": true, \"showgrid\": true, \"tickcolor\": \"rgb(51,51,51)\", \"ticks\": \"outside\", \"zerolinecolor\": \"white\"}}, \"shapedefaults\": {\"fillcolor\": \"black\", \"line\": {\"width\": 0}, \"opacity\": 0.3}, \"ternary\": {\"aaxis\": {\"gridcolor\": \"white\", \"linecolor\": \"white\", \"showgrid\": true, \"tickcolor\": \"rgb(51,51,51)\", \"ticks\": \"outside\"}, \"baxis\": {\"gridcolor\": \"white\", \"linecolor\": \"white\", \"showgrid\": true, \"tickcolor\": \"rgb(51,51,51)\", \"ticks\": \"outside\"}, \"bgcolor\": \"rgb(237,237,237)\", \"caxis\": {\"gridcolor\": \"white\", \"linecolor\": \"white\", \"showgrid\": true, \"tickcolor\": \"rgb(51,51,51)\", \"ticks\": \"outside\"}}, \"xaxis\": {\"automargin\": true, \"gridcolor\": \"white\", \"linecolor\": \"white\", \"showgrid\": true, \"tickcolor\": \"rgb(51,51,51)\", \"ticks\": \"outside\", \"title\": {\"standoff\": 15}, \"zerolinecolor\": \"white\"}, \"yaxis\": {\"automargin\": true, \"gridcolor\": \"white\", \"linecolor\": \"white\", \"showgrid\": true, \"tickcolor\": \"rgb(51,51,51)\", \"ticks\": \"outside\", \"title\": {\"standoff\": 15}, \"zerolinecolor\": \"white\"}}}, \"xaxis\": {\"anchor\": \"y\", \"domain\": [0.0, 1.0], \"title\": {\"text\": \"\\ub9ac\\ubdf0\\uc218\"}, \"type\": \"category\"}, \"yaxis\": {\"anchor\": \"x\", \"domain\": [0.0, 1.0], \"title\": {\"text\": \"Category\"}}},                        {\"responsive\": true}                    ).then(function(){\n",
       "                            \n",
       "var gd = document.getElementById('275386bb-28a5-4e54-b8f1-1c2621f49db0');\n",
       "var x = new MutationObserver(function (mutations, observer) {{\n",
       "        var display = window.getComputedStyle(gd).display;\n",
       "        if (!display || display === 'none') {{\n",
       "            console.log([gd, 'removed!']);\n",
       "            Plotly.purge(gd);\n",
       "            observer.disconnect();\n",
       "        }}\n",
       "}});\n",
       "\n",
       "// Listen for the removal of the full notebook cells\n",
       "var notebookContainer = gd.closest('#notebook-container');\n",
       "if (notebookContainer) {{\n",
       "    x.observe(notebookContainer, {childList: true});\n",
       "}}\n",
       "\n",
       "// Listen for the clearing of the current output cell\n",
       "var outputEl = gd.closest('.output');\n",
       "if (outputEl) {{\n",
       "    x.observe(outputEl, {childList: true});\n",
       "}}\n",
       "\n",
       "                        })                };                });            </script>        </div>"
      ]
     },
     "metadata": {},
     "output_type": "display_data"
    }
   ],
   "source": [
    "fig = px.bar(data, x = 'variable', y = 'value',\n",
    "            color = 'attitude', barmode = 'group',\n",
    "            height = 400)\n",
    "fig.update_traces(hovertemplate = 'Category: %{x} <br>리뷰수: %{y}')\n",
    "fig.update_xaxes(title_text = '리뷰수')\n",
    "fig.update_yaxes(title_text = 'Category')\n",
    "fig.update_layout(xaxis_type = 'category', template = 'ggplot2')\n",
    "fig.show()"
   ]
  },
  {
   "cell_type": "markdown",
   "metadata": {},
   "source": [
    "## 카테고리 별 attitude 비율"
   ]
  },
  {
   "cell_type": "code",
   "execution_count": 32,
   "metadata": {},
   "outputs": [
    {
     "data": {
      "application/vnd.plotly.v1+json": {
       "config": {
        "plotlyServerURL": "https://plot.ly"
       },
       "data": [
        {
         "hovertemplate": "카테고리: %{x} <br>비율: %{y}",
         "name": "부정",
         "type": "bar",
         "x": [
          "위치",
          "시설",
          "인테리어",
          "청결",
          "친절",
          "방음"
         ],
         "y": [
          0.02280701754385965,
          0.08244680851063829,
          0.05389221556886228,
          0.07474226804123711,
          0.08674698795180723,
          0.175
         ]
        },
        {
         "hovertemplate": "카테고리: %{x} <br>비율: %{y}",
         "name": "중립",
         "type": "bar",
         "x": [
          "위치",
          "시설",
          "인테리어",
          "청결",
          "친절",
          "방음"
         ],
         "y": [
          0.2771929824561403,
          0.324468085106383,
          0.4491017964071856,
          0.23324742268041238,
          0.21445783132530122,
          0.5166666666666667
         ]
        },
        {
         "hovertemplate": "카테고리: %{x} <br>비율: %{y}",
         "name": "긍정",
         "type": "bar",
         "x": [
          "위치",
          "시설",
          "인테리어",
          "청결",
          "친절",
          "방음"
         ],
         "y": [
          0.7,
          0.5930851063829787,
          0.49700598802395207,
          0.6920103092783505,
          0.6987951807228916,
          0.30833333333333335
         ]
        }
       ],
       "layout": {
        "barmode": "relative",
        "hoverlabel": {
         "font": {
          "size": 15
         }
        },
        "template": {
         "data": {
          "bar": [
           {
            "error_x": {
             "color": "rgb(36,36,36)"
            },
            "error_y": {
             "color": "rgb(36,36,36)"
            },
            "marker": {
             "line": {
              "color": "rgb(234,234,242)",
              "width": 0.5
             }
            },
            "type": "bar"
           }
          ],
          "barpolar": [
           {
            "marker": {
             "line": {
              "color": "rgb(234,234,242)",
              "width": 0.5
             }
            },
            "type": "barpolar"
           }
          ],
          "carpet": [
           {
            "aaxis": {
             "endlinecolor": "rgb(36,36,36)",
             "gridcolor": "white",
             "linecolor": "white",
             "minorgridcolor": "white",
             "startlinecolor": "rgb(36,36,36)"
            },
            "baxis": {
             "endlinecolor": "rgb(36,36,36)",
             "gridcolor": "white",
             "linecolor": "white",
             "minorgridcolor": "white",
             "startlinecolor": "rgb(36,36,36)"
            },
            "type": "carpet"
           }
          ],
          "choropleth": [
           {
            "colorbar": {
             "outlinewidth": 0,
             "tickcolor": "rgb(36,36,36)",
             "ticklen": 8,
             "ticks": "outside",
             "tickwidth": 2
            },
            "type": "choropleth"
           }
          ],
          "contour": [
           {
            "colorbar": {
             "outlinewidth": 0,
             "tickcolor": "rgb(36,36,36)",
             "ticklen": 8,
             "ticks": "outside",
             "tickwidth": 2
            },
            "colorscale": [
             [
              0,
              "rgb(2,4,25)"
             ],
             [
              0.06274509803921569,
              "rgb(24,15,41)"
             ],
             [
              0.12549019607843137,
              "rgb(47,23,57)"
             ],
             [
              0.18823529411764706,
              "rgb(71,28,72)"
             ],
             [
              0.25098039215686274,
              "rgb(97,30,82)"
             ],
             [
              0.3137254901960784,
              "rgb(123,30,89)"
             ],
             [
              0.3764705882352941,
              "rgb(150,27,91)"
             ],
             [
              0.4392156862745098,
              "rgb(177,22,88)"
             ],
             [
              0.5019607843137255,
              "rgb(203,26,79)"
             ],
             [
              0.5647058823529412,
              "rgb(223,47,67)"
             ],
             [
              0.6274509803921569,
              "rgb(236,76,61)"
             ],
             [
              0.6901960784313725,
              "rgb(242,107,73)"
             ],
             [
              0.7529411764705882,
              "rgb(244,135,95)"
             ],
             [
              0.8156862745098039,
              "rgb(245,162,122)"
             ],
             [
              0.8784313725490196,
              "rgb(246,188,153)"
             ],
             [
              0.9411764705882353,
              "rgb(247,212,187)"
             ],
             [
              1,
              "rgb(250,234,220)"
             ]
            ],
            "type": "contour"
           }
          ],
          "contourcarpet": [
           {
            "colorbar": {
             "outlinewidth": 0,
             "tickcolor": "rgb(36,36,36)",
             "ticklen": 8,
             "ticks": "outside",
             "tickwidth": 2
            },
            "type": "contourcarpet"
           }
          ],
          "heatmap": [
           {
            "colorbar": {
             "outlinewidth": 0,
             "tickcolor": "rgb(36,36,36)",
             "ticklen": 8,
             "ticks": "outside",
             "tickwidth": 2
            },
            "colorscale": [
             [
              0,
              "rgb(2,4,25)"
             ],
             [
              0.06274509803921569,
              "rgb(24,15,41)"
             ],
             [
              0.12549019607843137,
              "rgb(47,23,57)"
             ],
             [
              0.18823529411764706,
              "rgb(71,28,72)"
             ],
             [
              0.25098039215686274,
              "rgb(97,30,82)"
             ],
             [
              0.3137254901960784,
              "rgb(123,30,89)"
             ],
             [
              0.3764705882352941,
              "rgb(150,27,91)"
             ],
             [
              0.4392156862745098,
              "rgb(177,22,88)"
             ],
             [
              0.5019607843137255,
              "rgb(203,26,79)"
             ],
             [
              0.5647058823529412,
              "rgb(223,47,67)"
             ],
             [
              0.6274509803921569,
              "rgb(236,76,61)"
             ],
             [
              0.6901960784313725,
              "rgb(242,107,73)"
             ],
             [
              0.7529411764705882,
              "rgb(244,135,95)"
             ],
             [
              0.8156862745098039,
              "rgb(245,162,122)"
             ],
             [
              0.8784313725490196,
              "rgb(246,188,153)"
             ],
             [
              0.9411764705882353,
              "rgb(247,212,187)"
             ],
             [
              1,
              "rgb(250,234,220)"
             ]
            ],
            "type": "heatmap"
           }
          ],
          "heatmapgl": [
           {
            "colorbar": {
             "outlinewidth": 0,
             "tickcolor": "rgb(36,36,36)",
             "ticklen": 8,
             "ticks": "outside",
             "tickwidth": 2
            },
            "colorscale": [
             [
              0,
              "rgb(2,4,25)"
             ],
             [
              0.06274509803921569,
              "rgb(24,15,41)"
             ],
             [
              0.12549019607843137,
              "rgb(47,23,57)"
             ],
             [
              0.18823529411764706,
              "rgb(71,28,72)"
             ],
             [
              0.25098039215686274,
              "rgb(97,30,82)"
             ],
             [
              0.3137254901960784,
              "rgb(123,30,89)"
             ],
             [
              0.3764705882352941,
              "rgb(150,27,91)"
             ],
             [
              0.4392156862745098,
              "rgb(177,22,88)"
             ],
             [
              0.5019607843137255,
              "rgb(203,26,79)"
             ],
             [
              0.5647058823529412,
              "rgb(223,47,67)"
             ],
             [
              0.6274509803921569,
              "rgb(236,76,61)"
             ],
             [
              0.6901960784313725,
              "rgb(242,107,73)"
             ],
             [
              0.7529411764705882,
              "rgb(244,135,95)"
             ],
             [
              0.8156862745098039,
              "rgb(245,162,122)"
             ],
             [
              0.8784313725490196,
              "rgb(246,188,153)"
             ],
             [
              0.9411764705882353,
              "rgb(247,212,187)"
             ],
             [
              1,
              "rgb(250,234,220)"
             ]
            ],
            "type": "heatmapgl"
           }
          ],
          "histogram": [
           {
            "marker": {
             "colorbar": {
              "outlinewidth": 0,
              "tickcolor": "rgb(36,36,36)",
              "ticklen": 8,
              "ticks": "outside",
              "tickwidth": 2
             }
            },
            "type": "histogram"
           }
          ],
          "histogram2d": [
           {
            "colorbar": {
             "outlinewidth": 0,
             "tickcolor": "rgb(36,36,36)",
             "ticklen": 8,
             "ticks": "outside",
             "tickwidth": 2
            },
            "colorscale": [
             [
              0,
              "rgb(2,4,25)"
             ],
             [
              0.06274509803921569,
              "rgb(24,15,41)"
             ],
             [
              0.12549019607843137,
              "rgb(47,23,57)"
             ],
             [
              0.18823529411764706,
              "rgb(71,28,72)"
             ],
             [
              0.25098039215686274,
              "rgb(97,30,82)"
             ],
             [
              0.3137254901960784,
              "rgb(123,30,89)"
             ],
             [
              0.3764705882352941,
              "rgb(150,27,91)"
             ],
             [
              0.4392156862745098,
              "rgb(177,22,88)"
             ],
             [
              0.5019607843137255,
              "rgb(203,26,79)"
             ],
             [
              0.5647058823529412,
              "rgb(223,47,67)"
             ],
             [
              0.6274509803921569,
              "rgb(236,76,61)"
             ],
             [
              0.6901960784313725,
              "rgb(242,107,73)"
             ],
             [
              0.7529411764705882,
              "rgb(244,135,95)"
             ],
             [
              0.8156862745098039,
              "rgb(245,162,122)"
             ],
             [
              0.8784313725490196,
              "rgb(246,188,153)"
             ],
             [
              0.9411764705882353,
              "rgb(247,212,187)"
             ],
             [
              1,
              "rgb(250,234,220)"
             ]
            ],
            "type": "histogram2d"
           }
          ],
          "histogram2dcontour": [
           {
            "colorbar": {
             "outlinewidth": 0,
             "tickcolor": "rgb(36,36,36)",
             "ticklen": 8,
             "ticks": "outside",
             "tickwidth": 2
            },
            "colorscale": [
             [
              0,
              "rgb(2,4,25)"
             ],
             [
              0.06274509803921569,
              "rgb(24,15,41)"
             ],
             [
              0.12549019607843137,
              "rgb(47,23,57)"
             ],
             [
              0.18823529411764706,
              "rgb(71,28,72)"
             ],
             [
              0.25098039215686274,
              "rgb(97,30,82)"
             ],
             [
              0.3137254901960784,
              "rgb(123,30,89)"
             ],
             [
              0.3764705882352941,
              "rgb(150,27,91)"
             ],
             [
              0.4392156862745098,
              "rgb(177,22,88)"
             ],
             [
              0.5019607843137255,
              "rgb(203,26,79)"
             ],
             [
              0.5647058823529412,
              "rgb(223,47,67)"
             ],
             [
              0.6274509803921569,
              "rgb(236,76,61)"
             ],
             [
              0.6901960784313725,
              "rgb(242,107,73)"
             ],
             [
              0.7529411764705882,
              "rgb(244,135,95)"
             ],
             [
              0.8156862745098039,
              "rgb(245,162,122)"
             ],
             [
              0.8784313725490196,
              "rgb(246,188,153)"
             ],
             [
              0.9411764705882353,
              "rgb(247,212,187)"
             ],
             [
              1,
              "rgb(250,234,220)"
             ]
            ],
            "type": "histogram2dcontour"
           }
          ],
          "mesh3d": [
           {
            "colorbar": {
             "outlinewidth": 0,
             "tickcolor": "rgb(36,36,36)",
             "ticklen": 8,
             "ticks": "outside",
             "tickwidth": 2
            },
            "type": "mesh3d"
           }
          ],
          "parcoords": [
           {
            "line": {
             "colorbar": {
              "outlinewidth": 0,
              "tickcolor": "rgb(36,36,36)",
              "ticklen": 8,
              "ticks": "outside",
              "tickwidth": 2
             }
            },
            "type": "parcoords"
           }
          ],
          "pie": [
           {
            "automargin": true,
            "type": "pie"
           }
          ],
          "scatter": [
           {
            "marker": {
             "colorbar": {
              "outlinewidth": 0,
              "tickcolor": "rgb(36,36,36)",
              "ticklen": 8,
              "ticks": "outside",
              "tickwidth": 2
             }
            },
            "type": "scatter"
           }
          ],
          "scatter3d": [
           {
            "line": {
             "colorbar": {
              "outlinewidth": 0,
              "tickcolor": "rgb(36,36,36)",
              "ticklen": 8,
              "ticks": "outside",
              "tickwidth": 2
             }
            },
            "marker": {
             "colorbar": {
              "outlinewidth": 0,
              "tickcolor": "rgb(36,36,36)",
              "ticklen": 8,
              "ticks": "outside",
              "tickwidth": 2
             }
            },
            "type": "scatter3d"
           }
          ],
          "scattercarpet": [
           {
            "marker": {
             "colorbar": {
              "outlinewidth": 0,
              "tickcolor": "rgb(36,36,36)",
              "ticklen": 8,
              "ticks": "outside",
              "tickwidth": 2
             }
            },
            "type": "scattercarpet"
           }
          ],
          "scattergeo": [
           {
            "marker": {
             "colorbar": {
              "outlinewidth": 0,
              "tickcolor": "rgb(36,36,36)",
              "ticklen": 8,
              "ticks": "outside",
              "tickwidth": 2
             }
            },
            "type": "scattergeo"
           }
          ],
          "scattergl": [
           {
            "marker": {
             "colorbar": {
              "outlinewidth": 0,
              "tickcolor": "rgb(36,36,36)",
              "ticklen": 8,
              "ticks": "outside",
              "tickwidth": 2
             }
            },
            "type": "scattergl"
           }
          ],
          "scattermapbox": [
           {
            "marker": {
             "colorbar": {
              "outlinewidth": 0,
              "tickcolor": "rgb(36,36,36)",
              "ticklen": 8,
              "ticks": "outside",
              "tickwidth": 2
             }
            },
            "type": "scattermapbox"
           }
          ],
          "scatterpolar": [
           {
            "marker": {
             "colorbar": {
              "outlinewidth": 0,
              "tickcolor": "rgb(36,36,36)",
              "ticklen": 8,
              "ticks": "outside",
              "tickwidth": 2
             }
            },
            "type": "scatterpolar"
           }
          ],
          "scatterpolargl": [
           {
            "marker": {
             "colorbar": {
              "outlinewidth": 0,
              "tickcolor": "rgb(36,36,36)",
              "ticklen": 8,
              "ticks": "outside",
              "tickwidth": 2
             }
            },
            "type": "scatterpolargl"
           }
          ],
          "scatterternary": [
           {
            "marker": {
             "colorbar": {
              "outlinewidth": 0,
              "tickcolor": "rgb(36,36,36)",
              "ticklen": 8,
              "ticks": "outside",
              "tickwidth": 2
             }
            },
            "type": "scatterternary"
           }
          ],
          "surface": [
           {
            "colorbar": {
             "outlinewidth": 0,
             "tickcolor": "rgb(36,36,36)",
             "ticklen": 8,
             "ticks": "outside",
             "tickwidth": 2
            },
            "colorscale": [
             [
              0,
              "rgb(2,4,25)"
             ],
             [
              0.06274509803921569,
              "rgb(24,15,41)"
             ],
             [
              0.12549019607843137,
              "rgb(47,23,57)"
             ],
             [
              0.18823529411764706,
              "rgb(71,28,72)"
             ],
             [
              0.25098039215686274,
              "rgb(97,30,82)"
             ],
             [
              0.3137254901960784,
              "rgb(123,30,89)"
             ],
             [
              0.3764705882352941,
              "rgb(150,27,91)"
             ],
             [
              0.4392156862745098,
              "rgb(177,22,88)"
             ],
             [
              0.5019607843137255,
              "rgb(203,26,79)"
             ],
             [
              0.5647058823529412,
              "rgb(223,47,67)"
             ],
             [
              0.6274509803921569,
              "rgb(236,76,61)"
             ],
             [
              0.6901960784313725,
              "rgb(242,107,73)"
             ],
             [
              0.7529411764705882,
              "rgb(244,135,95)"
             ],
             [
              0.8156862745098039,
              "rgb(245,162,122)"
             ],
             [
              0.8784313725490196,
              "rgb(246,188,153)"
             ],
             [
              0.9411764705882353,
              "rgb(247,212,187)"
             ],
             [
              1,
              "rgb(250,234,220)"
             ]
            ],
            "type": "surface"
           }
          ],
          "table": [
           {
            "cells": {
             "fill": {
              "color": "rgb(231,231,240)"
             },
             "line": {
              "color": "white"
             }
            },
            "header": {
             "fill": {
              "color": "rgb(183,183,191)"
             },
             "line": {
              "color": "white"
             }
            },
            "type": "table"
           }
          ]
         },
         "layout": {
          "annotationdefaults": {
           "arrowcolor": "rgb(67,103,167)"
          },
          "coloraxis": {
           "colorbar": {
            "outlinewidth": 0,
            "tickcolor": "rgb(36,36,36)",
            "ticklen": 8,
            "ticks": "outside",
            "tickwidth": 2
           }
          },
          "colorscale": {
           "sequential": [
            [
             0,
             "rgb(2,4,25)"
            ],
            [
             0.06274509803921569,
             "rgb(24,15,41)"
            ],
            [
             0.12549019607843137,
             "rgb(47,23,57)"
            ],
            [
             0.18823529411764706,
             "rgb(71,28,72)"
            ],
            [
             0.25098039215686274,
             "rgb(97,30,82)"
            ],
            [
             0.3137254901960784,
             "rgb(123,30,89)"
            ],
            [
             0.3764705882352941,
             "rgb(150,27,91)"
            ],
            [
             0.4392156862745098,
             "rgb(177,22,88)"
            ],
            [
             0.5019607843137255,
             "rgb(203,26,79)"
            ],
            [
             0.5647058823529412,
             "rgb(223,47,67)"
            ],
            [
             0.6274509803921569,
             "rgb(236,76,61)"
            ],
            [
             0.6901960784313725,
             "rgb(242,107,73)"
            ],
            [
             0.7529411764705882,
             "rgb(244,135,95)"
            ],
            [
             0.8156862745098039,
             "rgb(245,162,122)"
            ],
            [
             0.8784313725490196,
             "rgb(246,188,153)"
            ],
            [
             0.9411764705882353,
             "rgb(247,212,187)"
            ],
            [
             1,
             "rgb(250,234,220)"
            ]
           ],
           "sequentialminus": [
            [
             0,
             "rgb(2,4,25)"
            ],
            [
             0.06274509803921569,
             "rgb(24,15,41)"
            ],
            [
             0.12549019607843137,
             "rgb(47,23,57)"
            ],
            [
             0.18823529411764706,
             "rgb(71,28,72)"
            ],
            [
             0.25098039215686274,
             "rgb(97,30,82)"
            ],
            [
             0.3137254901960784,
             "rgb(123,30,89)"
            ],
            [
             0.3764705882352941,
             "rgb(150,27,91)"
            ],
            [
             0.4392156862745098,
             "rgb(177,22,88)"
            ],
            [
             0.5019607843137255,
             "rgb(203,26,79)"
            ],
            [
             0.5647058823529412,
             "rgb(223,47,67)"
            ],
            [
             0.6274509803921569,
             "rgb(236,76,61)"
            ],
            [
             0.6901960784313725,
             "rgb(242,107,73)"
            ],
            [
             0.7529411764705882,
             "rgb(244,135,95)"
            ],
            [
             0.8156862745098039,
             "rgb(245,162,122)"
            ],
            [
             0.8784313725490196,
             "rgb(246,188,153)"
            ],
            [
             0.9411764705882353,
             "rgb(247,212,187)"
            ],
            [
             1,
             "rgb(250,234,220)"
            ]
           ]
          },
          "colorway": [
           "rgb(76,114,176)",
           "rgb(221,132,82)",
           "rgb(85,168,104)",
           "rgb(196,78,82)",
           "rgb(129,114,179)",
           "rgb(147,120,96)",
           "rgb(218,139,195)",
           "rgb(140,140,140)",
           "rgb(204,185,116)",
           "rgb(100,181,205)"
          ],
          "font": {
           "color": "rgb(36,36,36)"
          },
          "geo": {
           "bgcolor": "white",
           "lakecolor": "white",
           "landcolor": "rgb(234,234,242)",
           "showlakes": true,
           "showland": true,
           "subunitcolor": "white"
          },
          "hoverlabel": {
           "align": "left"
          },
          "hovermode": "closest",
          "paper_bgcolor": "white",
          "plot_bgcolor": "rgb(234,234,242)",
          "polar": {
           "angularaxis": {
            "gridcolor": "white",
            "linecolor": "white",
            "showgrid": true,
            "ticks": ""
           },
           "bgcolor": "rgb(234,234,242)",
           "radialaxis": {
            "gridcolor": "white",
            "linecolor": "white",
            "showgrid": true,
            "ticks": ""
           }
          },
          "scene": {
           "xaxis": {
            "backgroundcolor": "rgb(234,234,242)",
            "gridcolor": "white",
            "gridwidth": 2,
            "linecolor": "white",
            "showbackground": true,
            "showgrid": true,
            "ticks": "",
            "zerolinecolor": "white"
           },
           "yaxis": {
            "backgroundcolor": "rgb(234,234,242)",
            "gridcolor": "white",
            "gridwidth": 2,
            "linecolor": "white",
            "showbackground": true,
            "showgrid": true,
            "ticks": "",
            "zerolinecolor": "white"
           },
           "zaxis": {
            "backgroundcolor": "rgb(234,234,242)",
            "gridcolor": "white",
            "gridwidth": 2,
            "linecolor": "white",
            "showbackground": true,
            "showgrid": true,
            "ticks": "",
            "zerolinecolor": "white"
           }
          },
          "shapedefaults": {
           "fillcolor": "rgb(67,103,167)",
           "line": {
            "width": 0
           },
           "opacity": 0.5
          },
          "ternary": {
           "aaxis": {
            "gridcolor": "white",
            "linecolor": "white",
            "showgrid": true,
            "ticks": ""
           },
           "baxis": {
            "gridcolor": "white",
            "linecolor": "white",
            "showgrid": true,
            "ticks": ""
           },
           "bgcolor": "rgb(234,234,242)",
           "caxis": {
            "gridcolor": "white",
            "linecolor": "white",
            "showgrid": true,
            "ticks": ""
           }
          },
          "xaxis": {
           "automargin": true,
           "gridcolor": "white",
           "linecolor": "white",
           "showgrid": true,
           "ticks": "",
           "title": {
            "standoff": 15
           },
           "zerolinecolor": "white"
          },
          "yaxis": {
           "automargin": true,
           "gridcolor": "white",
           "linecolor": "white",
           "showgrid": true,
           "ticks": "",
           "title": {
            "standoff": 15
           },
           "zerolinecolor": "white"
          }
         }
        },
        "xaxis": {
         "title": {
          "text": "Category"
         }
        },
        "yaxis": {
         "nticks": 5,
         "tickformat": "%"
        }
       }
      },
      "text/html": [
       "<div>                            <div id=\"05fb109c-b3d6-4d56-a66e-6a42b3d92875\" class=\"plotly-graph-div\" style=\"height:525px; width:100%;\"></div>            <script type=\"text/javascript\">                require([\"plotly\"], function(Plotly) {                    window.PLOTLYENV=window.PLOTLYENV || {};                                    if (document.getElementById(\"05fb109c-b3d6-4d56-a66e-6a42b3d92875\")) {                    Plotly.newPlot(                        \"05fb109c-b3d6-4d56-a66e-6a42b3d92875\",                        [{\"hovertemplate\": \"\\uce74\\ud14c\\uace0\\ub9ac: %{x} <br>\\ube44\\uc728: %{y}\", \"name\": \"\\ubd80\\uc815\", \"type\": \"bar\", \"x\": [\"\\uc704\\uce58\", \"\\uc2dc\\uc124\", \"\\uc778\\ud14c\\ub9ac\\uc5b4\", \"\\uccad\\uacb0\", \"\\uce5c\\uc808\", \"\\ubc29\\uc74c\"], \"y\": [0.02280701754385965, 0.08244680851063829, 0.05389221556886228, 0.07474226804123711, 0.08674698795180723, 0.175]}, {\"hovertemplate\": \"\\uce74\\ud14c\\uace0\\ub9ac: %{x} <br>\\ube44\\uc728: %{y}\", \"name\": \"\\uc911\\ub9bd\", \"type\": \"bar\", \"x\": [\"\\uc704\\uce58\", \"\\uc2dc\\uc124\", \"\\uc778\\ud14c\\ub9ac\\uc5b4\", \"\\uccad\\uacb0\", \"\\uce5c\\uc808\", \"\\ubc29\\uc74c\"], \"y\": [0.2771929824561403, 0.324468085106383, 0.4491017964071856, 0.23324742268041238, 0.21445783132530122, 0.5166666666666667]}, {\"hovertemplate\": \"\\uce74\\ud14c\\uace0\\ub9ac: %{x} <br>\\ube44\\uc728: %{y}\", \"name\": \"\\uae0d\\uc815\", \"type\": \"bar\", \"x\": [\"\\uc704\\uce58\", \"\\uc2dc\\uc124\", \"\\uc778\\ud14c\\ub9ac\\uc5b4\", \"\\uccad\\uacb0\", \"\\uce5c\\uc808\", \"\\ubc29\\uc74c\"], \"y\": [0.7, 0.5930851063829787, 0.49700598802395207, 0.6920103092783505, 0.6987951807228916, 0.30833333333333335]}],                        {\"barmode\": \"relative\", \"hoverlabel\": {\"font\": {\"size\": 15}}, \"template\": {\"data\": {\"bar\": [{\"error_x\": {\"color\": \"rgb(36,36,36)\"}, \"error_y\": {\"color\": \"rgb(36,36,36)\"}, \"marker\": {\"line\": {\"color\": \"rgb(234,234,242)\", \"width\": 0.5}}, \"type\": \"bar\"}], \"barpolar\": [{\"marker\": {\"line\": {\"color\": \"rgb(234,234,242)\", \"width\": 0.5}}, \"type\": \"barpolar\"}], \"carpet\": [{\"aaxis\": {\"endlinecolor\": \"rgb(36,36,36)\", \"gridcolor\": \"white\", \"linecolor\": \"white\", \"minorgridcolor\": \"white\", \"startlinecolor\": \"rgb(36,36,36)\"}, \"baxis\": {\"endlinecolor\": \"rgb(36,36,36)\", \"gridcolor\": \"white\", \"linecolor\": \"white\", \"minorgridcolor\": \"white\", \"startlinecolor\": \"rgb(36,36,36)\"}, \"type\": \"carpet\"}], \"choropleth\": [{\"colorbar\": {\"outlinewidth\": 0, \"tickcolor\": \"rgb(36,36,36)\", \"ticklen\": 8, \"ticks\": \"outside\", \"tickwidth\": 2}, \"type\": \"choropleth\"}], \"contour\": [{\"colorbar\": {\"outlinewidth\": 0, \"tickcolor\": \"rgb(36,36,36)\", \"ticklen\": 8, \"ticks\": \"outside\", \"tickwidth\": 2}, \"colorscale\": [[0.0, \"rgb(2,4,25)\"], [0.06274509803921569, \"rgb(24,15,41)\"], [0.12549019607843137, \"rgb(47,23,57)\"], [0.18823529411764706, \"rgb(71,28,72)\"], [0.25098039215686274, \"rgb(97,30,82)\"], [0.3137254901960784, \"rgb(123,30,89)\"], [0.3764705882352941, \"rgb(150,27,91)\"], [0.4392156862745098, \"rgb(177,22,88)\"], [0.5019607843137255, \"rgb(203,26,79)\"], [0.5647058823529412, \"rgb(223,47,67)\"], [0.6274509803921569, \"rgb(236,76,61)\"], [0.6901960784313725, \"rgb(242,107,73)\"], [0.7529411764705882, \"rgb(244,135,95)\"], [0.8156862745098039, \"rgb(245,162,122)\"], [0.8784313725490196, \"rgb(246,188,153)\"], [0.9411764705882353, \"rgb(247,212,187)\"], [1.0, \"rgb(250,234,220)\"]], \"type\": \"contour\"}], \"contourcarpet\": [{\"colorbar\": {\"outlinewidth\": 0, \"tickcolor\": \"rgb(36,36,36)\", \"ticklen\": 8, \"ticks\": \"outside\", \"tickwidth\": 2}, \"type\": \"contourcarpet\"}], \"heatmap\": [{\"colorbar\": {\"outlinewidth\": 0, \"tickcolor\": \"rgb(36,36,36)\", \"ticklen\": 8, \"ticks\": \"outside\", \"tickwidth\": 2}, \"colorscale\": [[0.0, \"rgb(2,4,25)\"], [0.06274509803921569, \"rgb(24,15,41)\"], [0.12549019607843137, \"rgb(47,23,57)\"], [0.18823529411764706, \"rgb(71,28,72)\"], [0.25098039215686274, \"rgb(97,30,82)\"], [0.3137254901960784, \"rgb(123,30,89)\"], [0.3764705882352941, \"rgb(150,27,91)\"], [0.4392156862745098, \"rgb(177,22,88)\"], [0.5019607843137255, \"rgb(203,26,79)\"], [0.5647058823529412, \"rgb(223,47,67)\"], [0.6274509803921569, \"rgb(236,76,61)\"], [0.6901960784313725, \"rgb(242,107,73)\"], [0.7529411764705882, \"rgb(244,135,95)\"], [0.8156862745098039, \"rgb(245,162,122)\"], [0.8784313725490196, \"rgb(246,188,153)\"], [0.9411764705882353, \"rgb(247,212,187)\"], [1.0, \"rgb(250,234,220)\"]], \"type\": \"heatmap\"}], \"heatmapgl\": [{\"colorbar\": {\"outlinewidth\": 0, \"tickcolor\": \"rgb(36,36,36)\", \"ticklen\": 8, \"ticks\": \"outside\", \"tickwidth\": 2}, \"colorscale\": [[0.0, \"rgb(2,4,25)\"], [0.06274509803921569, \"rgb(24,15,41)\"], [0.12549019607843137, \"rgb(47,23,57)\"], [0.18823529411764706, \"rgb(71,28,72)\"], [0.25098039215686274, \"rgb(97,30,82)\"], [0.3137254901960784, \"rgb(123,30,89)\"], [0.3764705882352941, \"rgb(150,27,91)\"], [0.4392156862745098, \"rgb(177,22,88)\"], [0.5019607843137255, \"rgb(203,26,79)\"], [0.5647058823529412, \"rgb(223,47,67)\"], [0.6274509803921569, \"rgb(236,76,61)\"], [0.6901960784313725, \"rgb(242,107,73)\"], [0.7529411764705882, \"rgb(244,135,95)\"], [0.8156862745098039, \"rgb(245,162,122)\"], [0.8784313725490196, \"rgb(246,188,153)\"], [0.9411764705882353, \"rgb(247,212,187)\"], [1.0, \"rgb(250,234,220)\"]], \"type\": \"heatmapgl\"}], \"histogram\": [{\"marker\": {\"colorbar\": {\"outlinewidth\": 0, \"tickcolor\": \"rgb(36,36,36)\", \"ticklen\": 8, \"ticks\": \"outside\", \"tickwidth\": 2}}, \"type\": \"histogram\"}], \"histogram2d\": [{\"colorbar\": {\"outlinewidth\": 0, \"tickcolor\": \"rgb(36,36,36)\", \"ticklen\": 8, \"ticks\": \"outside\", \"tickwidth\": 2}, \"colorscale\": [[0.0, \"rgb(2,4,25)\"], [0.06274509803921569, \"rgb(24,15,41)\"], [0.12549019607843137, \"rgb(47,23,57)\"], [0.18823529411764706, \"rgb(71,28,72)\"], [0.25098039215686274, \"rgb(97,30,82)\"], [0.3137254901960784, \"rgb(123,30,89)\"], [0.3764705882352941, \"rgb(150,27,91)\"], [0.4392156862745098, \"rgb(177,22,88)\"], [0.5019607843137255, \"rgb(203,26,79)\"], [0.5647058823529412, \"rgb(223,47,67)\"], [0.6274509803921569, \"rgb(236,76,61)\"], [0.6901960784313725, \"rgb(242,107,73)\"], [0.7529411764705882, \"rgb(244,135,95)\"], [0.8156862745098039, \"rgb(245,162,122)\"], [0.8784313725490196, \"rgb(246,188,153)\"], [0.9411764705882353, \"rgb(247,212,187)\"], [1.0, \"rgb(250,234,220)\"]], \"type\": \"histogram2d\"}], \"histogram2dcontour\": [{\"colorbar\": {\"outlinewidth\": 0, \"tickcolor\": \"rgb(36,36,36)\", \"ticklen\": 8, \"ticks\": \"outside\", \"tickwidth\": 2}, \"colorscale\": [[0.0, \"rgb(2,4,25)\"], [0.06274509803921569, \"rgb(24,15,41)\"], [0.12549019607843137, \"rgb(47,23,57)\"], [0.18823529411764706, \"rgb(71,28,72)\"], [0.25098039215686274, \"rgb(97,30,82)\"], [0.3137254901960784, \"rgb(123,30,89)\"], [0.3764705882352941, \"rgb(150,27,91)\"], [0.4392156862745098, \"rgb(177,22,88)\"], [0.5019607843137255, \"rgb(203,26,79)\"], [0.5647058823529412, \"rgb(223,47,67)\"], [0.6274509803921569, \"rgb(236,76,61)\"], [0.6901960784313725, \"rgb(242,107,73)\"], [0.7529411764705882, \"rgb(244,135,95)\"], [0.8156862745098039, \"rgb(245,162,122)\"], [0.8784313725490196, \"rgb(246,188,153)\"], [0.9411764705882353, \"rgb(247,212,187)\"], [1.0, \"rgb(250,234,220)\"]], \"type\": \"histogram2dcontour\"}], \"mesh3d\": [{\"colorbar\": {\"outlinewidth\": 0, \"tickcolor\": \"rgb(36,36,36)\", \"ticklen\": 8, \"ticks\": \"outside\", \"tickwidth\": 2}, \"type\": \"mesh3d\"}], \"parcoords\": [{\"line\": {\"colorbar\": {\"outlinewidth\": 0, \"tickcolor\": \"rgb(36,36,36)\", \"ticklen\": 8, \"ticks\": \"outside\", \"tickwidth\": 2}}, \"type\": \"parcoords\"}], \"pie\": [{\"automargin\": true, \"type\": \"pie\"}], \"scatter\": [{\"marker\": {\"colorbar\": {\"outlinewidth\": 0, \"tickcolor\": \"rgb(36,36,36)\", \"ticklen\": 8, \"ticks\": \"outside\", \"tickwidth\": 2}}, \"type\": \"scatter\"}], \"scatter3d\": [{\"line\": {\"colorbar\": {\"outlinewidth\": 0, \"tickcolor\": \"rgb(36,36,36)\", \"ticklen\": 8, \"ticks\": \"outside\", \"tickwidth\": 2}}, \"marker\": {\"colorbar\": {\"outlinewidth\": 0, \"tickcolor\": \"rgb(36,36,36)\", \"ticklen\": 8, \"ticks\": \"outside\", \"tickwidth\": 2}}, \"type\": \"scatter3d\"}], \"scattercarpet\": [{\"marker\": {\"colorbar\": {\"outlinewidth\": 0, \"tickcolor\": \"rgb(36,36,36)\", \"ticklen\": 8, \"ticks\": \"outside\", \"tickwidth\": 2}}, \"type\": \"scattercarpet\"}], \"scattergeo\": [{\"marker\": {\"colorbar\": {\"outlinewidth\": 0, \"tickcolor\": \"rgb(36,36,36)\", \"ticklen\": 8, \"ticks\": \"outside\", \"tickwidth\": 2}}, \"type\": \"scattergeo\"}], \"scattergl\": [{\"marker\": {\"colorbar\": {\"outlinewidth\": 0, \"tickcolor\": \"rgb(36,36,36)\", \"ticklen\": 8, \"ticks\": \"outside\", \"tickwidth\": 2}}, \"type\": \"scattergl\"}], \"scattermapbox\": [{\"marker\": {\"colorbar\": {\"outlinewidth\": 0, \"tickcolor\": \"rgb(36,36,36)\", \"ticklen\": 8, \"ticks\": \"outside\", \"tickwidth\": 2}}, \"type\": \"scattermapbox\"}], \"scatterpolar\": [{\"marker\": {\"colorbar\": {\"outlinewidth\": 0, \"tickcolor\": \"rgb(36,36,36)\", \"ticklen\": 8, \"ticks\": \"outside\", \"tickwidth\": 2}}, \"type\": \"scatterpolar\"}], \"scatterpolargl\": [{\"marker\": {\"colorbar\": {\"outlinewidth\": 0, \"tickcolor\": \"rgb(36,36,36)\", \"ticklen\": 8, \"ticks\": \"outside\", \"tickwidth\": 2}}, \"type\": \"scatterpolargl\"}], \"scatterternary\": [{\"marker\": {\"colorbar\": {\"outlinewidth\": 0, \"tickcolor\": \"rgb(36,36,36)\", \"ticklen\": 8, \"ticks\": \"outside\", \"tickwidth\": 2}}, \"type\": \"scatterternary\"}], \"surface\": [{\"colorbar\": {\"outlinewidth\": 0, \"tickcolor\": \"rgb(36,36,36)\", \"ticklen\": 8, \"ticks\": \"outside\", \"tickwidth\": 2}, \"colorscale\": [[0.0, \"rgb(2,4,25)\"], [0.06274509803921569, \"rgb(24,15,41)\"], [0.12549019607843137, \"rgb(47,23,57)\"], [0.18823529411764706, \"rgb(71,28,72)\"], [0.25098039215686274, \"rgb(97,30,82)\"], [0.3137254901960784, \"rgb(123,30,89)\"], [0.3764705882352941, \"rgb(150,27,91)\"], [0.4392156862745098, \"rgb(177,22,88)\"], [0.5019607843137255, \"rgb(203,26,79)\"], [0.5647058823529412, \"rgb(223,47,67)\"], [0.6274509803921569, \"rgb(236,76,61)\"], [0.6901960784313725, \"rgb(242,107,73)\"], [0.7529411764705882, \"rgb(244,135,95)\"], [0.8156862745098039, \"rgb(245,162,122)\"], [0.8784313725490196, \"rgb(246,188,153)\"], [0.9411764705882353, \"rgb(247,212,187)\"], [1.0, \"rgb(250,234,220)\"]], \"type\": \"surface\"}], \"table\": [{\"cells\": {\"fill\": {\"color\": \"rgb(231,231,240)\"}, \"line\": {\"color\": \"white\"}}, \"header\": {\"fill\": {\"color\": \"rgb(183,183,191)\"}, \"line\": {\"color\": \"white\"}}, \"type\": \"table\"}]}, \"layout\": {\"annotationdefaults\": {\"arrowcolor\": \"rgb(67,103,167)\"}, \"coloraxis\": {\"colorbar\": {\"outlinewidth\": 0, \"tickcolor\": \"rgb(36,36,36)\", \"ticklen\": 8, \"ticks\": \"outside\", \"tickwidth\": 2}}, \"colorscale\": {\"sequential\": [[0.0, \"rgb(2,4,25)\"], [0.06274509803921569, \"rgb(24,15,41)\"], [0.12549019607843137, \"rgb(47,23,57)\"], [0.18823529411764706, \"rgb(71,28,72)\"], [0.25098039215686274, \"rgb(97,30,82)\"], [0.3137254901960784, \"rgb(123,30,89)\"], [0.3764705882352941, \"rgb(150,27,91)\"], [0.4392156862745098, \"rgb(177,22,88)\"], [0.5019607843137255, \"rgb(203,26,79)\"], [0.5647058823529412, \"rgb(223,47,67)\"], [0.6274509803921569, \"rgb(236,76,61)\"], [0.6901960784313725, \"rgb(242,107,73)\"], [0.7529411764705882, \"rgb(244,135,95)\"], [0.8156862745098039, \"rgb(245,162,122)\"], [0.8784313725490196, \"rgb(246,188,153)\"], [0.9411764705882353, \"rgb(247,212,187)\"], [1.0, \"rgb(250,234,220)\"]], \"sequentialminus\": [[0.0, \"rgb(2,4,25)\"], [0.06274509803921569, \"rgb(24,15,41)\"], [0.12549019607843137, \"rgb(47,23,57)\"], [0.18823529411764706, \"rgb(71,28,72)\"], [0.25098039215686274, \"rgb(97,30,82)\"], [0.3137254901960784, \"rgb(123,30,89)\"], [0.3764705882352941, \"rgb(150,27,91)\"], [0.4392156862745098, \"rgb(177,22,88)\"], [0.5019607843137255, \"rgb(203,26,79)\"], [0.5647058823529412, \"rgb(223,47,67)\"], [0.6274509803921569, \"rgb(236,76,61)\"], [0.6901960784313725, \"rgb(242,107,73)\"], [0.7529411764705882, \"rgb(244,135,95)\"], [0.8156862745098039, \"rgb(245,162,122)\"], [0.8784313725490196, \"rgb(246,188,153)\"], [0.9411764705882353, \"rgb(247,212,187)\"], [1.0, \"rgb(250,234,220)\"]]}, \"colorway\": [\"rgb(76,114,176)\", \"rgb(221,132,82)\", \"rgb(85,168,104)\", \"rgb(196,78,82)\", \"rgb(129,114,179)\", \"rgb(147,120,96)\", \"rgb(218,139,195)\", \"rgb(140,140,140)\", \"rgb(204,185,116)\", \"rgb(100,181,205)\"], \"font\": {\"color\": \"rgb(36,36,36)\"}, \"geo\": {\"bgcolor\": \"white\", \"lakecolor\": \"white\", \"landcolor\": \"rgb(234,234,242)\", \"showlakes\": true, \"showland\": true, \"subunitcolor\": \"white\"}, \"hoverlabel\": {\"align\": \"left\"}, \"hovermode\": \"closest\", \"paper_bgcolor\": \"white\", \"plot_bgcolor\": \"rgb(234,234,242)\", \"polar\": {\"angularaxis\": {\"gridcolor\": \"white\", \"linecolor\": \"white\", \"showgrid\": true, \"ticks\": \"\"}, \"bgcolor\": \"rgb(234,234,242)\", \"radialaxis\": {\"gridcolor\": \"white\", \"linecolor\": \"white\", \"showgrid\": true, \"ticks\": \"\"}}, \"scene\": {\"xaxis\": {\"backgroundcolor\": \"rgb(234,234,242)\", \"gridcolor\": \"white\", \"gridwidth\": 2, \"linecolor\": \"white\", \"showbackground\": true, \"showgrid\": true, \"ticks\": \"\", \"zerolinecolor\": \"white\"}, \"yaxis\": {\"backgroundcolor\": \"rgb(234,234,242)\", \"gridcolor\": \"white\", \"gridwidth\": 2, \"linecolor\": \"white\", \"showbackground\": true, \"showgrid\": true, \"ticks\": \"\", \"zerolinecolor\": \"white\"}, \"zaxis\": {\"backgroundcolor\": \"rgb(234,234,242)\", \"gridcolor\": \"white\", \"gridwidth\": 2, \"linecolor\": \"white\", \"showbackground\": true, \"showgrid\": true, \"ticks\": \"\", \"zerolinecolor\": \"white\"}}, \"shapedefaults\": {\"fillcolor\": \"rgb(67,103,167)\", \"line\": {\"width\": 0}, \"opacity\": 0.5}, \"ternary\": {\"aaxis\": {\"gridcolor\": \"white\", \"linecolor\": \"white\", \"showgrid\": true, \"ticks\": \"\"}, \"baxis\": {\"gridcolor\": \"white\", \"linecolor\": \"white\", \"showgrid\": true, \"ticks\": \"\"}, \"bgcolor\": \"rgb(234,234,242)\", \"caxis\": {\"gridcolor\": \"white\", \"linecolor\": \"white\", \"showgrid\": true, \"ticks\": \"\"}}, \"xaxis\": {\"automargin\": true, \"gridcolor\": \"white\", \"linecolor\": \"white\", \"showgrid\": true, \"ticks\": \"\", \"title\": {\"standoff\": 15}, \"zerolinecolor\": \"white\"}, \"yaxis\": {\"automargin\": true, \"gridcolor\": \"white\", \"linecolor\": \"white\", \"showgrid\": true, \"ticks\": \"\", \"title\": {\"standoff\": 15}, \"zerolinecolor\": \"white\"}}}, \"xaxis\": {\"title\": {\"text\": \"Category\"}}, \"yaxis\": {\"nticks\": 5, \"tickformat\": \"%\"}},                        {\"responsive\": true}                    ).then(function(){\n",
       "                            \n",
       "var gd = document.getElementById('05fb109c-b3d6-4d56-a66e-6a42b3d92875');\n",
       "var x = new MutationObserver(function (mutations, observer) {{\n",
       "        var display = window.getComputedStyle(gd).display;\n",
       "        if (!display || display === 'none') {{\n",
       "            console.log([gd, 'removed!']);\n",
       "            Plotly.purge(gd);\n",
       "            observer.disconnect();\n",
       "        }}\n",
       "}});\n",
       "\n",
       "// Listen for the removal of the full notebook cells\n",
       "var notebookContainer = gd.closest('#notebook-container');\n",
       "if (notebookContainer) {{\n",
       "    x.observe(notebookContainer, {childList: true});\n",
       "}}\n",
       "\n",
       "// Listen for the clearing of the current output cell\n",
       "var outputEl = gd.closest('.output');\n",
       "if (outputEl) {{\n",
       "    x.observe(outputEl, {childList: true});\n",
       "}}\n",
       "\n",
       "                        })                };                });            </script>        </div>"
      ]
     },
     "metadata": {},
     "output_type": "display_data"
    }
   ],
   "source": [
    "x = data['variable'].unique()\n",
    "y0 = data[data['attitude']==\"부정\"]\n",
    "y1 = data[data['attitude'] ==\"중립\"]\n",
    "y2 = data[data['attitude'] ==\"긍정\"]\n",
    "fig = go.Figure()\n",
    "\n",
    "fig.add_trace(go.Bar(x=x, y = y0.rate, name = \"부정\"))\n",
    "fig.add_trace(go.Bar(x=x, y = y1.rate, name = \"중립\"))\n",
    "fig.add_trace(go.Bar(x=x, y = y2.rate, name = \"긍정\"))\n",
    "\n",
    "fig.update_traces(hovertemplate = '카테고리: %{x} <br>비율: %{y}')\n",
    "#fig.update_layout(xaxis_type = 'category')\n",
    "#fig.update_yaxes(tickvals = [0, 20, 40, 60, 80, 100])\n",
    "fig.update_yaxes(nticks = 5)\n",
    "fig.update_xaxes(title = \"Category\")\n",
    "fig.update_layout(yaxis_tickformat = '%',\n",
    "                  barmode = 'relative',\n",
    "                 hoverlabel = dict(font_size = 15),\n",
    "                 template = 'seaborn') #stack으로 만들어짐\n",
    "\n",
    "\n",
    "fig.write_html(\"카테고리 별 긍부정 비율.html\")\n",
    "fig.show()"
   ]
  },
  {
   "cell_type": "markdown",
   "metadata": {},
   "source": [
    "## 카테고리 별 도움되는 리뷰 / 도움되지 않는 리뷰"
   ]
  },
  {
   "cell_type": "code",
   "execution_count": 33,
   "metadata": {},
   "outputs": [],
   "source": [
    "data = pd.DataFrame([])\n",
    "for k in list(df.columns[-6:]):\n",
    "    df_ = df[df[k] == 1]\n",
    "    df_ = df_.groupby([\"helpful\"]).count().hotel\n",
    "    df_ = df_.reset_index()\n",
    "    df_.columns = [\"helpful\",k]\n",
    "    df_ = pd.melt(df_, id_vars = ['helpful'])\n",
    "    data = data.append(df_)"
   ]
  },
  {
   "cell_type": "code",
   "execution_count": 34,
   "metadata": {},
   "outputs": [],
   "source": [
    "helpful_dict = {0: '불성실',\n",
    "               1:'성실'}\n",
    "data['helpful'] = data['helpful'].map(helpful_dict)\n"
   ]
  },
  {
   "cell_type": "code",
   "execution_count": 35,
   "metadata": {},
   "outputs": [
    {
     "data": {
      "application/vnd.plotly.v1+json": {
       "config": {
        "plotlyServerURL": "https://plot.ly"
       },
       "data": [
        {
         "alignmentgroup": "True",
         "hovertemplate": "Category: %{x} <br>리뷰수: %{y}",
         "legendgroup": "불성실",
         "marker": {
          "color": "#636efa"
         },
         "name": "불성실",
         "offsetgroup": "불성실",
         "orientation": "v",
         "showlegend": true,
         "textposition": "auto",
         "type": "bar",
         "x": [
          "위치",
          "시설",
          "인테리어",
          "청결",
          "친절",
          "방음"
         ],
         "xaxis": "x",
         "y": [
          172,
          98,
          29,
          351,
          148,
          26
         ],
         "yaxis": "y"
        },
        {
         "alignmentgroup": "True",
         "hovertemplate": "Category: %{x} <br>리뷰수: %{y}",
         "legendgroup": "성실",
         "marker": {
          "color": "#EF553B"
         },
         "name": "성실",
         "offsetgroup": "성실",
         "orientation": "v",
         "showlegend": true,
         "textposition": "auto",
         "type": "bar",
         "x": [
          "위치",
          "시설",
          "인테리어",
          "청결",
          "친절",
          "방음"
         ],
         "xaxis": "x",
         "y": [
          398,
          278,
          138,
          425,
          267,
          94
         ],
         "yaxis": "y"
        }
       ],
       "layout": {
        "barmode": "group",
        "height": 400,
        "legend": {
         "title": {
          "text": "helpful"
         },
         "tracegroupgap": 0
        },
        "margin": {
         "t": 60
        },
        "template": {
         "data": {
          "bar": [
           {
            "error_x": {
             "color": "rgb(51,51,51)"
            },
            "error_y": {
             "color": "rgb(51,51,51)"
            },
            "marker": {
             "line": {
              "color": "rgb(237,237,237)",
              "width": 0.5
             }
            },
            "type": "bar"
           }
          ],
          "barpolar": [
           {
            "marker": {
             "line": {
              "color": "rgb(237,237,237)",
              "width": 0.5
             }
            },
            "type": "barpolar"
           }
          ],
          "carpet": [
           {
            "aaxis": {
             "endlinecolor": "rgb(51,51,51)",
             "gridcolor": "white",
             "linecolor": "white",
             "minorgridcolor": "white",
             "startlinecolor": "rgb(51,51,51)"
            },
            "baxis": {
             "endlinecolor": "rgb(51,51,51)",
             "gridcolor": "white",
             "linecolor": "white",
             "minorgridcolor": "white",
             "startlinecolor": "rgb(51,51,51)"
            },
            "type": "carpet"
           }
          ],
          "choropleth": [
           {
            "colorbar": {
             "outlinewidth": 0,
             "tickcolor": "rgb(237,237,237)",
             "ticklen": 6,
             "ticks": "inside"
            },
            "type": "choropleth"
           }
          ],
          "contour": [
           {
            "colorbar": {
             "outlinewidth": 0,
             "tickcolor": "rgb(237,237,237)",
             "ticklen": 6,
             "ticks": "inside"
            },
            "colorscale": [
             [
              0,
              "rgb(20,44,66)"
             ],
             [
              1,
              "rgb(90,179,244)"
             ]
            ],
            "type": "contour"
           }
          ],
          "contourcarpet": [
           {
            "colorbar": {
             "outlinewidth": 0,
             "tickcolor": "rgb(237,237,237)",
             "ticklen": 6,
             "ticks": "inside"
            },
            "type": "contourcarpet"
           }
          ],
          "heatmap": [
           {
            "colorbar": {
             "outlinewidth": 0,
             "tickcolor": "rgb(237,237,237)",
             "ticklen": 6,
             "ticks": "inside"
            },
            "colorscale": [
             [
              0,
              "rgb(20,44,66)"
             ],
             [
              1,
              "rgb(90,179,244)"
             ]
            ],
            "type": "heatmap"
           }
          ],
          "heatmapgl": [
           {
            "colorbar": {
             "outlinewidth": 0,
             "tickcolor": "rgb(237,237,237)",
             "ticklen": 6,
             "ticks": "inside"
            },
            "colorscale": [
             [
              0,
              "rgb(20,44,66)"
             ],
             [
              1,
              "rgb(90,179,244)"
             ]
            ],
            "type": "heatmapgl"
           }
          ],
          "histogram": [
           {
            "marker": {
             "colorbar": {
              "outlinewidth": 0,
              "tickcolor": "rgb(237,237,237)",
              "ticklen": 6,
              "ticks": "inside"
             }
            },
            "type": "histogram"
           }
          ],
          "histogram2d": [
           {
            "colorbar": {
             "outlinewidth": 0,
             "tickcolor": "rgb(237,237,237)",
             "ticklen": 6,
             "ticks": "inside"
            },
            "colorscale": [
             [
              0,
              "rgb(20,44,66)"
             ],
             [
              1,
              "rgb(90,179,244)"
             ]
            ],
            "type": "histogram2d"
           }
          ],
          "histogram2dcontour": [
           {
            "colorbar": {
             "outlinewidth": 0,
             "tickcolor": "rgb(237,237,237)",
             "ticklen": 6,
             "ticks": "inside"
            },
            "colorscale": [
             [
              0,
              "rgb(20,44,66)"
             ],
             [
              1,
              "rgb(90,179,244)"
             ]
            ],
            "type": "histogram2dcontour"
           }
          ],
          "mesh3d": [
           {
            "colorbar": {
             "outlinewidth": 0,
             "tickcolor": "rgb(237,237,237)",
             "ticklen": 6,
             "ticks": "inside"
            },
            "type": "mesh3d"
           }
          ],
          "parcoords": [
           {
            "line": {
             "colorbar": {
              "outlinewidth": 0,
              "tickcolor": "rgb(237,237,237)",
              "ticklen": 6,
              "ticks": "inside"
             }
            },
            "type": "parcoords"
           }
          ],
          "pie": [
           {
            "automargin": true,
            "type": "pie"
           }
          ],
          "scatter": [
           {
            "marker": {
             "colorbar": {
              "outlinewidth": 0,
              "tickcolor": "rgb(237,237,237)",
              "ticklen": 6,
              "ticks": "inside"
             }
            },
            "type": "scatter"
           }
          ],
          "scatter3d": [
           {
            "line": {
             "colorbar": {
              "outlinewidth": 0,
              "tickcolor": "rgb(237,237,237)",
              "ticklen": 6,
              "ticks": "inside"
             }
            },
            "marker": {
             "colorbar": {
              "outlinewidth": 0,
              "tickcolor": "rgb(237,237,237)",
              "ticklen": 6,
              "ticks": "inside"
             }
            },
            "type": "scatter3d"
           }
          ],
          "scattercarpet": [
           {
            "marker": {
             "colorbar": {
              "outlinewidth": 0,
              "tickcolor": "rgb(237,237,237)",
              "ticklen": 6,
              "ticks": "inside"
             }
            },
            "type": "scattercarpet"
           }
          ],
          "scattergeo": [
           {
            "marker": {
             "colorbar": {
              "outlinewidth": 0,
              "tickcolor": "rgb(237,237,237)",
              "ticklen": 6,
              "ticks": "inside"
             }
            },
            "type": "scattergeo"
           }
          ],
          "scattergl": [
           {
            "marker": {
             "colorbar": {
              "outlinewidth": 0,
              "tickcolor": "rgb(237,237,237)",
              "ticklen": 6,
              "ticks": "inside"
             }
            },
            "type": "scattergl"
           }
          ],
          "scattermapbox": [
           {
            "marker": {
             "colorbar": {
              "outlinewidth": 0,
              "tickcolor": "rgb(237,237,237)",
              "ticklen": 6,
              "ticks": "inside"
             }
            },
            "type": "scattermapbox"
           }
          ],
          "scatterpolar": [
           {
            "marker": {
             "colorbar": {
              "outlinewidth": 0,
              "tickcolor": "rgb(237,237,237)",
              "ticklen": 6,
              "ticks": "inside"
             }
            },
            "type": "scatterpolar"
           }
          ],
          "scatterpolargl": [
           {
            "marker": {
             "colorbar": {
              "outlinewidth": 0,
              "tickcolor": "rgb(237,237,237)",
              "ticklen": 6,
              "ticks": "inside"
             }
            },
            "type": "scatterpolargl"
           }
          ],
          "scatterternary": [
           {
            "marker": {
             "colorbar": {
              "outlinewidth": 0,
              "tickcolor": "rgb(237,237,237)",
              "ticklen": 6,
              "ticks": "inside"
             }
            },
            "type": "scatterternary"
           }
          ],
          "surface": [
           {
            "colorbar": {
             "outlinewidth": 0,
             "tickcolor": "rgb(237,237,237)",
             "ticklen": 6,
             "ticks": "inside"
            },
            "colorscale": [
             [
              0,
              "rgb(20,44,66)"
             ],
             [
              1,
              "rgb(90,179,244)"
             ]
            ],
            "type": "surface"
           }
          ],
          "table": [
           {
            "cells": {
             "fill": {
              "color": "rgb(237,237,237)"
             },
             "line": {
              "color": "white"
             }
            },
            "header": {
             "fill": {
              "color": "rgb(217,217,217)"
             },
             "line": {
              "color": "white"
             }
            },
            "type": "table"
           }
          ]
         },
         "layout": {
          "annotationdefaults": {
           "arrowhead": 0,
           "arrowwidth": 1
          },
          "coloraxis": {
           "colorbar": {
            "outlinewidth": 0,
            "tickcolor": "rgb(237,237,237)",
            "ticklen": 6,
            "ticks": "inside"
           }
          },
          "colorscale": {
           "sequential": [
            [
             0,
             "rgb(20,44,66)"
            ],
            [
             1,
             "rgb(90,179,244)"
            ]
           ],
           "sequentialminus": [
            [
             0,
             "rgb(20,44,66)"
            ],
            [
             1,
             "rgb(90,179,244)"
            ]
           ]
          },
          "colorway": [
           "#F8766D",
           "#A3A500",
           "#00BF7D",
           "#00B0F6",
           "#E76BF3"
          ],
          "font": {
           "color": "rgb(51,51,51)"
          },
          "geo": {
           "bgcolor": "white",
           "lakecolor": "white",
           "landcolor": "rgb(237,237,237)",
           "showlakes": true,
           "showland": true,
           "subunitcolor": "white"
          },
          "hoverlabel": {
           "align": "left"
          },
          "hovermode": "closest",
          "paper_bgcolor": "white",
          "plot_bgcolor": "rgb(237,237,237)",
          "polar": {
           "angularaxis": {
            "gridcolor": "white",
            "linecolor": "white",
            "showgrid": true,
            "tickcolor": "rgb(51,51,51)",
            "ticks": "outside"
           },
           "bgcolor": "rgb(237,237,237)",
           "radialaxis": {
            "gridcolor": "white",
            "linecolor": "white",
            "showgrid": true,
            "tickcolor": "rgb(51,51,51)",
            "ticks": "outside"
           }
          },
          "scene": {
           "xaxis": {
            "backgroundcolor": "rgb(237,237,237)",
            "gridcolor": "white",
            "gridwidth": 2,
            "linecolor": "white",
            "showbackground": true,
            "showgrid": true,
            "tickcolor": "rgb(51,51,51)",
            "ticks": "outside",
            "zerolinecolor": "white"
           },
           "yaxis": {
            "backgroundcolor": "rgb(237,237,237)",
            "gridcolor": "white",
            "gridwidth": 2,
            "linecolor": "white",
            "showbackground": true,
            "showgrid": true,
            "tickcolor": "rgb(51,51,51)",
            "ticks": "outside",
            "zerolinecolor": "white"
           },
           "zaxis": {
            "backgroundcolor": "rgb(237,237,237)",
            "gridcolor": "white",
            "gridwidth": 2,
            "linecolor": "white",
            "showbackground": true,
            "showgrid": true,
            "tickcolor": "rgb(51,51,51)",
            "ticks": "outside",
            "zerolinecolor": "white"
           }
          },
          "shapedefaults": {
           "fillcolor": "black",
           "line": {
            "width": 0
           },
           "opacity": 0.3
          },
          "ternary": {
           "aaxis": {
            "gridcolor": "white",
            "linecolor": "white",
            "showgrid": true,
            "tickcolor": "rgb(51,51,51)",
            "ticks": "outside"
           },
           "baxis": {
            "gridcolor": "white",
            "linecolor": "white",
            "showgrid": true,
            "tickcolor": "rgb(51,51,51)",
            "ticks": "outside"
           },
           "bgcolor": "rgb(237,237,237)",
           "caxis": {
            "gridcolor": "white",
            "linecolor": "white",
            "showgrid": true,
            "tickcolor": "rgb(51,51,51)",
            "ticks": "outside"
           }
          },
          "xaxis": {
           "automargin": true,
           "gridcolor": "white",
           "linecolor": "white",
           "showgrid": true,
           "tickcolor": "rgb(51,51,51)",
           "ticks": "outside",
           "title": {
            "standoff": 15
           },
           "zerolinecolor": "white"
          },
          "yaxis": {
           "automargin": true,
           "gridcolor": "white",
           "linecolor": "white",
           "showgrid": true,
           "tickcolor": "rgb(51,51,51)",
           "ticks": "outside",
           "title": {
            "standoff": 15
           },
           "zerolinecolor": "white"
          }
         }
        },
        "title": {
         "text": "Category별 성실·불성실 리뷰수"
        },
        "xaxis": {
         "anchor": "y",
         "domain": [
          0,
          1
         ],
         "title": {
          "text": "Category"
         },
         "type": "category"
        },
        "yaxis": {
         "anchor": "x",
         "domain": [
          0,
          1
         ],
         "title": {
          "text": "리뷰수"
         }
        }
       }
      },
      "text/html": [
       "<div>                            <div id=\"9c1c6219-f383-498f-a842-4846f2c8a2f7\" class=\"plotly-graph-div\" style=\"height:400px; width:100%;\"></div>            <script type=\"text/javascript\">                require([\"plotly\"], function(Plotly) {                    window.PLOTLYENV=window.PLOTLYENV || {};                                    if (document.getElementById(\"9c1c6219-f383-498f-a842-4846f2c8a2f7\")) {                    Plotly.newPlot(                        \"9c1c6219-f383-498f-a842-4846f2c8a2f7\",                        [{\"alignmentgroup\": \"True\", \"hovertemplate\": \"Category: %{x} <br>\\ub9ac\\ubdf0\\uc218: %{y}\", \"legendgroup\": \"\\ubd88\\uc131\\uc2e4\", \"marker\": {\"color\": \"#636efa\"}, \"name\": \"\\ubd88\\uc131\\uc2e4\", \"offsetgroup\": \"\\ubd88\\uc131\\uc2e4\", \"orientation\": \"v\", \"showlegend\": true, \"textposition\": \"auto\", \"type\": \"bar\", \"x\": [\"\\uc704\\uce58\", \"\\uc2dc\\uc124\", \"\\uc778\\ud14c\\ub9ac\\uc5b4\", \"\\uccad\\uacb0\", \"\\uce5c\\uc808\", \"\\ubc29\\uc74c\"], \"xaxis\": \"x\", \"y\": [172, 98, 29, 351, 148, 26], \"yaxis\": \"y\"}, {\"alignmentgroup\": \"True\", \"hovertemplate\": \"Category: %{x} <br>\\ub9ac\\ubdf0\\uc218: %{y}\", \"legendgroup\": \"\\uc131\\uc2e4\", \"marker\": {\"color\": \"#EF553B\"}, \"name\": \"\\uc131\\uc2e4\", \"offsetgroup\": \"\\uc131\\uc2e4\", \"orientation\": \"v\", \"showlegend\": true, \"textposition\": \"auto\", \"type\": \"bar\", \"x\": [\"\\uc704\\uce58\", \"\\uc2dc\\uc124\", \"\\uc778\\ud14c\\ub9ac\\uc5b4\", \"\\uccad\\uacb0\", \"\\uce5c\\uc808\", \"\\ubc29\\uc74c\"], \"xaxis\": \"x\", \"y\": [398, 278, 138, 425, 267, 94], \"yaxis\": \"y\"}],                        {\"barmode\": \"group\", \"height\": 400, \"legend\": {\"title\": {\"text\": \"helpful\"}, \"tracegroupgap\": 0}, \"margin\": {\"t\": 60}, \"template\": {\"data\": {\"bar\": [{\"error_x\": {\"color\": \"rgb(51,51,51)\"}, \"error_y\": {\"color\": \"rgb(51,51,51)\"}, \"marker\": {\"line\": {\"color\": \"rgb(237,237,237)\", \"width\": 0.5}}, \"type\": \"bar\"}], \"barpolar\": [{\"marker\": {\"line\": {\"color\": \"rgb(237,237,237)\", \"width\": 0.5}}, \"type\": \"barpolar\"}], \"carpet\": [{\"aaxis\": {\"endlinecolor\": \"rgb(51,51,51)\", \"gridcolor\": \"white\", \"linecolor\": \"white\", \"minorgridcolor\": \"white\", \"startlinecolor\": \"rgb(51,51,51)\"}, \"baxis\": {\"endlinecolor\": \"rgb(51,51,51)\", \"gridcolor\": \"white\", \"linecolor\": \"white\", \"minorgridcolor\": \"white\", \"startlinecolor\": \"rgb(51,51,51)\"}, \"type\": \"carpet\"}], \"choropleth\": [{\"colorbar\": {\"outlinewidth\": 0, \"tickcolor\": \"rgb(237,237,237)\", \"ticklen\": 6, \"ticks\": \"inside\"}, \"type\": \"choropleth\"}], \"contour\": [{\"colorbar\": {\"outlinewidth\": 0, \"tickcolor\": \"rgb(237,237,237)\", \"ticklen\": 6, \"ticks\": \"inside\"}, \"colorscale\": [[0, \"rgb(20,44,66)\"], [1, \"rgb(90,179,244)\"]], \"type\": \"contour\"}], \"contourcarpet\": [{\"colorbar\": {\"outlinewidth\": 0, \"tickcolor\": \"rgb(237,237,237)\", \"ticklen\": 6, \"ticks\": \"inside\"}, \"type\": \"contourcarpet\"}], \"heatmap\": [{\"colorbar\": {\"outlinewidth\": 0, \"tickcolor\": \"rgb(237,237,237)\", \"ticklen\": 6, \"ticks\": \"inside\"}, \"colorscale\": [[0, \"rgb(20,44,66)\"], [1, \"rgb(90,179,244)\"]], \"type\": \"heatmap\"}], \"heatmapgl\": [{\"colorbar\": {\"outlinewidth\": 0, \"tickcolor\": \"rgb(237,237,237)\", \"ticklen\": 6, \"ticks\": \"inside\"}, \"colorscale\": [[0, \"rgb(20,44,66)\"], [1, \"rgb(90,179,244)\"]], \"type\": \"heatmapgl\"}], \"histogram\": [{\"marker\": {\"colorbar\": {\"outlinewidth\": 0, \"tickcolor\": \"rgb(237,237,237)\", \"ticklen\": 6, \"ticks\": \"inside\"}}, \"type\": \"histogram\"}], \"histogram2d\": [{\"colorbar\": {\"outlinewidth\": 0, \"tickcolor\": \"rgb(237,237,237)\", \"ticklen\": 6, \"ticks\": \"inside\"}, \"colorscale\": [[0, \"rgb(20,44,66)\"], [1, \"rgb(90,179,244)\"]], \"type\": \"histogram2d\"}], \"histogram2dcontour\": [{\"colorbar\": {\"outlinewidth\": 0, \"tickcolor\": \"rgb(237,237,237)\", \"ticklen\": 6, \"ticks\": \"inside\"}, \"colorscale\": [[0, \"rgb(20,44,66)\"], [1, \"rgb(90,179,244)\"]], \"type\": \"histogram2dcontour\"}], \"mesh3d\": [{\"colorbar\": {\"outlinewidth\": 0, \"tickcolor\": \"rgb(237,237,237)\", \"ticklen\": 6, \"ticks\": \"inside\"}, \"type\": \"mesh3d\"}], \"parcoords\": [{\"line\": {\"colorbar\": {\"outlinewidth\": 0, \"tickcolor\": \"rgb(237,237,237)\", \"ticklen\": 6, \"ticks\": \"inside\"}}, \"type\": \"parcoords\"}], \"pie\": [{\"automargin\": true, \"type\": \"pie\"}], \"scatter\": [{\"marker\": {\"colorbar\": {\"outlinewidth\": 0, \"tickcolor\": \"rgb(237,237,237)\", \"ticklen\": 6, \"ticks\": \"inside\"}}, \"type\": \"scatter\"}], \"scatter3d\": [{\"line\": {\"colorbar\": {\"outlinewidth\": 0, \"tickcolor\": \"rgb(237,237,237)\", \"ticklen\": 6, \"ticks\": \"inside\"}}, \"marker\": {\"colorbar\": {\"outlinewidth\": 0, \"tickcolor\": \"rgb(237,237,237)\", \"ticklen\": 6, \"ticks\": \"inside\"}}, \"type\": \"scatter3d\"}], \"scattercarpet\": [{\"marker\": {\"colorbar\": {\"outlinewidth\": 0, \"tickcolor\": \"rgb(237,237,237)\", \"ticklen\": 6, \"ticks\": \"inside\"}}, \"type\": \"scattercarpet\"}], \"scattergeo\": [{\"marker\": {\"colorbar\": {\"outlinewidth\": 0, \"tickcolor\": \"rgb(237,237,237)\", \"ticklen\": 6, \"ticks\": \"inside\"}}, \"type\": \"scattergeo\"}], \"scattergl\": [{\"marker\": {\"colorbar\": {\"outlinewidth\": 0, \"tickcolor\": \"rgb(237,237,237)\", \"ticklen\": 6, \"ticks\": \"inside\"}}, \"type\": \"scattergl\"}], \"scattermapbox\": [{\"marker\": {\"colorbar\": {\"outlinewidth\": 0, \"tickcolor\": \"rgb(237,237,237)\", \"ticklen\": 6, \"ticks\": \"inside\"}}, \"type\": \"scattermapbox\"}], \"scatterpolar\": [{\"marker\": {\"colorbar\": {\"outlinewidth\": 0, \"tickcolor\": \"rgb(237,237,237)\", \"ticklen\": 6, \"ticks\": \"inside\"}}, \"type\": \"scatterpolar\"}], \"scatterpolargl\": [{\"marker\": {\"colorbar\": {\"outlinewidth\": 0, \"tickcolor\": \"rgb(237,237,237)\", \"ticklen\": 6, \"ticks\": \"inside\"}}, \"type\": \"scatterpolargl\"}], \"scatterternary\": [{\"marker\": {\"colorbar\": {\"outlinewidth\": 0, \"tickcolor\": \"rgb(237,237,237)\", \"ticklen\": 6, \"ticks\": \"inside\"}}, \"type\": \"scatterternary\"}], \"surface\": [{\"colorbar\": {\"outlinewidth\": 0, \"tickcolor\": \"rgb(237,237,237)\", \"ticklen\": 6, \"ticks\": \"inside\"}, \"colorscale\": [[0, \"rgb(20,44,66)\"], [1, \"rgb(90,179,244)\"]], \"type\": \"surface\"}], \"table\": [{\"cells\": {\"fill\": {\"color\": \"rgb(237,237,237)\"}, \"line\": {\"color\": \"white\"}}, \"header\": {\"fill\": {\"color\": \"rgb(217,217,217)\"}, \"line\": {\"color\": \"white\"}}, \"type\": \"table\"}]}, \"layout\": {\"annotationdefaults\": {\"arrowhead\": 0, \"arrowwidth\": 1}, \"coloraxis\": {\"colorbar\": {\"outlinewidth\": 0, \"tickcolor\": \"rgb(237,237,237)\", \"ticklen\": 6, \"ticks\": \"inside\"}}, \"colorscale\": {\"sequential\": [[0, \"rgb(20,44,66)\"], [1, \"rgb(90,179,244)\"]], \"sequentialminus\": [[0, \"rgb(20,44,66)\"], [1, \"rgb(90,179,244)\"]]}, \"colorway\": [\"#F8766D\", \"#A3A500\", \"#00BF7D\", \"#00B0F6\", \"#E76BF3\"], \"font\": {\"color\": \"rgb(51,51,51)\"}, \"geo\": {\"bgcolor\": \"white\", \"lakecolor\": \"white\", \"landcolor\": \"rgb(237,237,237)\", \"showlakes\": true, \"showland\": true, \"subunitcolor\": \"white\"}, \"hoverlabel\": {\"align\": \"left\"}, \"hovermode\": \"closest\", \"paper_bgcolor\": \"white\", \"plot_bgcolor\": \"rgb(237,237,237)\", \"polar\": {\"angularaxis\": {\"gridcolor\": \"white\", \"linecolor\": \"white\", \"showgrid\": true, \"tickcolor\": \"rgb(51,51,51)\", \"ticks\": \"outside\"}, \"bgcolor\": \"rgb(237,237,237)\", \"radialaxis\": {\"gridcolor\": \"white\", \"linecolor\": \"white\", \"showgrid\": true, \"tickcolor\": \"rgb(51,51,51)\", \"ticks\": \"outside\"}}, \"scene\": {\"xaxis\": {\"backgroundcolor\": \"rgb(237,237,237)\", \"gridcolor\": \"white\", \"gridwidth\": 2, \"linecolor\": \"white\", \"showbackground\": true, \"showgrid\": true, \"tickcolor\": \"rgb(51,51,51)\", \"ticks\": \"outside\", \"zerolinecolor\": \"white\"}, \"yaxis\": {\"backgroundcolor\": \"rgb(237,237,237)\", \"gridcolor\": \"white\", \"gridwidth\": 2, \"linecolor\": \"white\", \"showbackground\": true, \"showgrid\": true, \"tickcolor\": \"rgb(51,51,51)\", \"ticks\": \"outside\", \"zerolinecolor\": \"white\"}, \"zaxis\": {\"backgroundcolor\": \"rgb(237,237,237)\", \"gridcolor\": \"white\", \"gridwidth\": 2, \"linecolor\": \"white\", \"showbackground\": true, \"showgrid\": true, \"tickcolor\": \"rgb(51,51,51)\", \"ticks\": \"outside\", \"zerolinecolor\": \"white\"}}, \"shapedefaults\": {\"fillcolor\": \"black\", \"line\": {\"width\": 0}, \"opacity\": 0.3}, \"ternary\": {\"aaxis\": {\"gridcolor\": \"white\", \"linecolor\": \"white\", \"showgrid\": true, \"tickcolor\": \"rgb(51,51,51)\", \"ticks\": \"outside\"}, \"baxis\": {\"gridcolor\": \"white\", \"linecolor\": \"white\", \"showgrid\": true, \"tickcolor\": \"rgb(51,51,51)\", \"ticks\": \"outside\"}, \"bgcolor\": \"rgb(237,237,237)\", \"caxis\": {\"gridcolor\": \"white\", \"linecolor\": \"white\", \"showgrid\": true, \"tickcolor\": \"rgb(51,51,51)\", \"ticks\": \"outside\"}}, \"xaxis\": {\"automargin\": true, \"gridcolor\": \"white\", \"linecolor\": \"white\", \"showgrid\": true, \"tickcolor\": \"rgb(51,51,51)\", \"ticks\": \"outside\", \"title\": {\"standoff\": 15}, \"zerolinecolor\": \"white\"}, \"yaxis\": {\"automargin\": true, \"gridcolor\": \"white\", \"linecolor\": \"white\", \"showgrid\": true, \"tickcolor\": \"rgb(51,51,51)\", \"ticks\": \"outside\", \"title\": {\"standoff\": 15}, \"zerolinecolor\": \"white\"}}}, \"title\": {\"text\": \"Category\\ubcc4 \\uc131\\uc2e4\\u00b7\\ubd88\\uc131\\uc2e4 \\ub9ac\\ubdf0\\uc218\"}, \"xaxis\": {\"anchor\": \"y\", \"domain\": [0.0, 1.0], \"title\": {\"text\": \"Category\"}, \"type\": \"category\"}, \"yaxis\": {\"anchor\": \"x\", \"domain\": [0.0, 1.0], \"title\": {\"text\": \"\\ub9ac\\ubdf0\\uc218\"}}},                        {\"responsive\": true}                    ).then(function(){\n",
       "                            \n",
       "var gd = document.getElementById('9c1c6219-f383-498f-a842-4846f2c8a2f7');\n",
       "var x = new MutationObserver(function (mutations, observer) {{\n",
       "        var display = window.getComputedStyle(gd).display;\n",
       "        if (!display || display === 'none') {{\n",
       "            console.log([gd, 'removed!']);\n",
       "            Plotly.purge(gd);\n",
       "            observer.disconnect();\n",
       "        }}\n",
       "}});\n",
       "\n",
       "// Listen for the removal of the full notebook cells\n",
       "var notebookContainer = gd.closest('#notebook-container');\n",
       "if (notebookContainer) {{\n",
       "    x.observe(notebookContainer, {childList: true});\n",
       "}}\n",
       "\n",
       "// Listen for the clearing of the current output cell\n",
       "var outputEl = gd.closest('.output');\n",
       "if (outputEl) {{\n",
       "    x.observe(outputEl, {childList: true});\n",
       "}}\n",
       "\n",
       "                        })                };                });            </script>        </div>"
      ]
     },
     "metadata": {},
     "output_type": "display_data"
    }
   ],
   "source": [
    "colors = ['cyon','indigo']\n",
    "fig = px.bar(data, x = 'variable', y = 'value',\n",
    "            color = 'helpful', barmode = 'group',\n",
    "            height = 400)\n",
    "fig.update_traces(hovertemplate = 'Category: %{x} <br>리뷰수: %{y}')\n",
    "fig.update_xaxes(title_text = 'Category')\n",
    "fig.update_yaxes(title_text = '리뷰수')\n",
    "fig.update_layout(xaxis_type = 'category', template = 'ggplot2', title = \"Category별 성실·불성실 리뷰수\")\n",
    "fig.show()"
   ]
  },
  {
   "cell_type": "markdown",
   "metadata": {},
   "source": [
    "# Logistic regression 결과 반영 : Scatter "
   ]
  },
  {
   "cell_type": "code",
   "execution_count": 36,
   "metadata": {},
   "outputs": [
    {
     "data": {
      "text/html": [
       "<div>\n",
       "<style scoped>\n",
       "    .dataframe tbody tr th:only-of-type {\n",
       "        vertical-align: middle;\n",
       "    }\n",
       "\n",
       "    .dataframe tbody tr th {\n",
       "        vertical-align: top;\n",
       "    }\n",
       "\n",
       "    .dataframe thead th {\n",
       "        text-align: right;\n",
       "    }\n",
       "</style>\n",
       "<table border=\"1\" class=\"dataframe\">\n",
       "  <thead>\n",
       "    <tr style=\"text-align: right;\">\n",
       "      <th></th>\n",
       "      <th>예측</th>\n",
       "      <th>실제</th>\n",
       "      <th>site</th>\n",
       "      <th>hotel</th>\n",
       "      <th>score</th>\n",
       "      <th>review</th>\n",
       "      <th>date</th>\n",
       "      <th>star</th>\n",
       "      <th>length</th>\n",
       "      <th>review_spell_check</th>\n",
       "      <th>helpful</th>\n",
       "      <th>attitude</th>\n",
       "      <th>위치</th>\n",
       "      <th>시설</th>\n",
       "      <th>인테리어</th>\n",
       "      <th>청결</th>\n",
       "      <th>친절</th>\n",
       "      <th>방음</th>\n",
       "    </tr>\n",
       "  </thead>\n",
       "  <tbody>\n",
       "    <tr>\n",
       "      <th>0</th>\n",
       "      <td>0.77</td>\n",
       "      <td>1</td>\n",
       "      <td>야놀자</td>\n",
       "      <td>신라스테이 광화문</td>\n",
       "      <td>10.0</td>\n",
       "      <td>위치적으로 접근하기 좋았고 청결도와 직원 서비스가 깔끔해서 다시 가도 좋겠다 생각했습니다</td>\n",
       "      <td>2020. 04. 01</td>\n",
       "      <td>5.0</td>\n",
       "      <td>49</td>\n",
       "      <td>위치적으로 접근하기 좋았고 청결 도와 직원 서비스가 깔끔해서 다시 가도 좋겠다 생각...</td>\n",
       "      <td>1</td>\n",
       "      <td>2</td>\n",
       "      <td>1</td>\n",
       "      <td>0</td>\n",
       "      <td>0</td>\n",
       "      <td>1</td>\n",
       "      <td>1</td>\n",
       "      <td>0</td>\n",
       "    </tr>\n",
       "  </tbody>\n",
       "</table>\n",
       "</div>"
      ],
      "text/plain": [
       "     예측  실제 site      hotel  score  \\\n",
       "0  0.77   1  야놀자  신라스테이 광화문   10.0   \n",
       "\n",
       "                                              review          date  star  \\\n",
       "0  위치적으로 접근하기 좋았고 청결도와 직원 서비스가 깔끔해서 다시 가도 좋겠다 생각했습니다  2020. 04. 01   5.0   \n",
       "\n",
       "   length                                 review_spell_check  helpful  \\\n",
       "0      49  위치적으로 접근하기 좋았고 청결 도와 직원 서비스가 깔끔해서 다시 가도 좋겠다 생각...        1   \n",
       "\n",
       "   attitude  위치  시설  인테리어  청결  친절  방음  \n",
       "0         2   1   0     0   1   1   0  "
      ]
     },
     "execution_count": 36,
     "metadata": {},
     "output_type": "execute_result"
    }
   ],
   "source": [
    "scat = pd.read_excel('scatterplot.xlsx')\n",
    "scat.head(1)"
   ]
  },
  {
   "cell_type": "code",
   "execution_count": 37,
   "metadata": {},
   "outputs": [],
   "source": [
    "score_dict = {0:'도움X', 1:'도움O'}\n",
    "scat[\"실제\"] = scat[\"실제\"].map(score_dict)"
   ]
  },
  {
   "cell_type": "code",
   "execution_count": 38,
   "metadata": {},
   "outputs": [
    {
     "data": {
      "text/html": [
       "<div>\n",
       "<style scoped>\n",
       "    .dataframe tbody tr th:only-of-type {\n",
       "        vertical-align: middle;\n",
       "    }\n",
       "\n",
       "    .dataframe tbody tr th {\n",
       "        vertical-align: top;\n",
       "    }\n",
       "\n",
       "    .dataframe thead th {\n",
       "        text-align: right;\n",
       "    }\n",
       "</style>\n",
       "<table border=\"1\" class=\"dataframe\">\n",
       "  <thead>\n",
       "    <tr style=\"text-align: right;\">\n",
       "      <th></th>\n",
       "      <th>예측</th>\n",
       "      <th>실제</th>\n",
       "      <th>site</th>\n",
       "      <th>hotel</th>\n",
       "      <th>score</th>\n",
       "      <th>review</th>\n",
       "      <th>date</th>\n",
       "      <th>star</th>\n",
       "      <th>length</th>\n",
       "      <th>review_spell_check</th>\n",
       "      <th>helpful</th>\n",
       "      <th>attitude</th>\n",
       "      <th>위치</th>\n",
       "      <th>시설</th>\n",
       "      <th>인테리어</th>\n",
       "      <th>청결</th>\n",
       "      <th>친절</th>\n",
       "      <th>방음</th>\n",
       "    </tr>\n",
       "  </thead>\n",
       "  <tbody>\n",
       "    <tr>\n",
       "      <th>0</th>\n",
       "      <td>0.77</td>\n",
       "      <td>도움O</td>\n",
       "      <td>야놀자</td>\n",
       "      <td>신라스테이 광화문</td>\n",
       "      <td>10.0</td>\n",
       "      <td>위치적으로 접근하기 좋았고 청결도와 직원 서비스가 깔끔해서 다시 가도 좋겠다 생각했습니다</td>\n",
       "      <td>2020. 04. 01</td>\n",
       "      <td>5.0</td>\n",
       "      <td>49</td>\n",
       "      <td>위치적으로 접근하기 좋았고 청결 도와 직원 서비스가 깔끔해서 다시 가도 좋겠다 생각...</td>\n",
       "      <td>1</td>\n",
       "      <td>긍정</td>\n",
       "      <td>1</td>\n",
       "      <td>0</td>\n",
       "      <td>0</td>\n",
       "      <td>1</td>\n",
       "      <td>1</td>\n",
       "      <td>0</td>\n",
       "    </tr>\n",
       "    <tr>\n",
       "      <th>1</th>\n",
       "      <td>0.09</td>\n",
       "      <td>도움X</td>\n",
       "      <td>야놀자</td>\n",
       "      <td>신라스테이 광화문</td>\n",
       "      <td>10.0</td>\n",
       "      <td>좋습니다 역시 호텔임</td>\n",
       "      <td>2020. 10. 05</td>\n",
       "      <td>5.0</td>\n",
       "      <td>11</td>\n",
       "      <td>좋습니다 역시 호텔임</td>\n",
       "      <td>0</td>\n",
       "      <td>긍정</td>\n",
       "      <td>0</td>\n",
       "      <td>0</td>\n",
       "      <td>0</td>\n",
       "      <td>0</td>\n",
       "      <td>0</td>\n",
       "      <td>0</td>\n",
       "    </tr>\n",
       "    <tr>\n",
       "      <th>2</th>\n",
       "      <td>0.48</td>\n",
       "      <td>도움O</td>\n",
       "      <td>야놀자</td>\n",
       "      <td>롯데 호텔 서울</td>\n",
       "      <td>8.0</td>\n",
       "      <td>정말 좋았습니다 다만 지금 공사기간입니다 나머지는 더할나위 없었네요</td>\n",
       "      <td>2018. 08. 04</td>\n",
       "      <td>4.0</td>\n",
       "      <td>37</td>\n",
       "      <td>정말 좋았습니다 다만 지금 공사기간입니다 나머지는 더할 나위 없었네요</td>\n",
       "      <td>1</td>\n",
       "      <td>중립</td>\n",
       "      <td>0</td>\n",
       "      <td>0</td>\n",
       "      <td>0</td>\n",
       "      <td>0</td>\n",
       "      <td>0</td>\n",
       "      <td>0</td>\n",
       "    </tr>\n",
       "    <tr>\n",
       "      <th>3</th>\n",
       "      <td>0.56</td>\n",
       "      <td>도움X</td>\n",
       "      <td>야놀자</td>\n",
       "      <td>신라스테이 광화문</td>\n",
       "      <td>8.0</td>\n",
       "      <td>깨끗하고 편의시설도 주변에 많고 친절하고 좋았어요 다음이 또 이용하겠습니다</td>\n",
       "      <td>2018-08-24 00:00:00</td>\n",
       "      <td>4.0</td>\n",
       "      <td>41</td>\n",
       "      <td>깨끗하고 편의시설도 주변에 많고 친절하고 좋았어요 다음이 또 이용하겠습니다</td>\n",
       "      <td>0</td>\n",
       "      <td>긍정</td>\n",
       "      <td>0</td>\n",
       "      <td>1</td>\n",
       "      <td>0</td>\n",
       "      <td>1</td>\n",
       "      <td>1</td>\n",
       "      <td>0</td>\n",
       "    </tr>\n",
       "    <tr>\n",
       "      <th>4</th>\n",
       "      <td>0.99</td>\n",
       "      <td>도움O</td>\n",
       "      <td>야놀자</td>\n",
       "      <td>그랜드 워커힐 서울</td>\n",
       "      <td>8.0</td>\n",
       "      <td>말로만 듣던 5성급 모든시설과 서비스 등 최고 청결도나 방음 좋다 뷰는 리버뷰이긴 ...</td>\n",
       "      <td>2019. 09. 23</td>\n",
       "      <td>4.0</td>\n",
       "      <td>226</td>\n",
       "      <td>말로만 듣던 5성급 모든 시설과 서비스 등 최고 청결도 나 방음 좋다 뷰는 리버뷰이...</td>\n",
       "      <td>1</td>\n",
       "      <td>부정</td>\n",
       "      <td>0</td>\n",
       "      <td>1</td>\n",
       "      <td>0</td>\n",
       "      <td>1</td>\n",
       "      <td>0</td>\n",
       "      <td>1</td>\n",
       "    </tr>\n",
       "  </tbody>\n",
       "</table>\n",
       "</div>"
      ],
      "text/plain": [
       "     예측   실제 site       hotel  score  \\\n",
       "0  0.77  도움O  야놀자   신라스테이 광화문   10.0   \n",
       "1  0.09  도움X  야놀자   신라스테이 광화문   10.0   \n",
       "2  0.48  도움O  야놀자    롯데 호텔 서울    8.0   \n",
       "3  0.56  도움X  야놀자   신라스테이 광화문    8.0   \n",
       "4  0.99  도움O  야놀자  그랜드 워커힐 서울    8.0   \n",
       "\n",
       "                                              review                 date  \\\n",
       "0  위치적으로 접근하기 좋았고 청결도와 직원 서비스가 깔끔해서 다시 가도 좋겠다 생각했습니다         2020. 04. 01   \n",
       "1                                        좋습니다 역시 호텔임         2020. 10. 05   \n",
       "2              정말 좋았습니다 다만 지금 공사기간입니다 나머지는 더할나위 없었네요         2018. 08. 04   \n",
       "3          깨끗하고 편의시설도 주변에 많고 친절하고 좋았어요 다음이 또 이용하겠습니다  2018-08-24 00:00:00   \n",
       "4  말로만 듣던 5성급 모든시설과 서비스 등 최고 청결도나 방음 좋다 뷰는 리버뷰이긴 ...         2019. 09. 23   \n",
       "\n",
       "   star  length                                 review_spell_check  helpful  \\\n",
       "0   5.0      49  위치적으로 접근하기 좋았고 청결 도와 직원 서비스가 깔끔해서 다시 가도 좋겠다 생각...        1   \n",
       "1   5.0      11                                        좋습니다 역시 호텔임        0   \n",
       "2   4.0      37             정말 좋았습니다 다만 지금 공사기간입니다 나머지는 더할 나위 없었네요        1   \n",
       "3   4.0      41          깨끗하고 편의시설도 주변에 많고 친절하고 좋았어요 다음이 또 이용하겠습니다        0   \n",
       "4   4.0     226  말로만 듣던 5성급 모든 시설과 서비스 등 최고 청결도 나 방음 좋다 뷰는 리버뷰이...        1   \n",
       "\n",
       "  attitude  위치  시설  인테리어  청결  친절  방음  \n",
       "0       긍정   1   0     0   1   1   0  \n",
       "1       긍정   0   0     0   0   0   0  \n",
       "2       중립   0   0     0   0   0   0  \n",
       "3       긍정   0   1     0   1   1   0  \n",
       "4       부정   0   1     0   1   0   1  "
      ]
     },
     "execution_count": 38,
     "metadata": {},
     "output_type": "execute_result"
    }
   ],
   "source": [
    "attitude_dict = {0:'부정', 1:'중립', 2:'긍정'}\n",
    "scat[\"attitude\"] = scat[\"attitude\"].map(attitude_dict)\n",
    "scat.head()"
   ]
  },
  {
   "cell_type": "markdown",
   "metadata": {},
   "source": [
    "## 예측값과 길이 분포"
   ]
  },
  {
   "cell_type": "code",
   "execution_count": 39,
   "metadata": {},
   "outputs": [],
   "source": [
    "scat[\"score_up\"] = scat[\"score\"].map(lambda x : x*100)"
   ]
  },
  {
   "cell_type": "code",
   "execution_count": 40,
   "metadata": {},
   "outputs": [
    {
     "data": {
      "application/vnd.plotly.v1+json": {
       "config": {
        "plotlyServerURL": "https://plot.ly"
       },
       "data": [
        {
         "hovertemplate": "실제=도움O<br>예측=%{x}<br>length=%{marker.size}<extra></extra>",
         "legendgroup": "도움O",
         "marker": {
          "color": "#636efa",
          "size": [
           49,
           37,
           226,
           71,
           56,
           125,
           48,
           100,
           28,
           98,
           23,
           20,
           78,
           55,
           166,
           70,
           38,
           105,
           18,
           73,
           252,
           70,
           79,
           53,
           62,
           64,
           191,
           125,
           83,
           177,
           197,
           83,
           171,
           19,
           21,
           38,
           18,
           30,
           103,
           142,
           71,
           13,
           104,
           71,
           150,
           87,
           153,
           89,
           156,
           32,
           106,
           42,
           37,
           28,
           28,
           27,
           52,
           77,
           31,
           157,
           181,
           86,
           30,
           30,
           23,
           68,
           35,
           114,
           114,
           102,
           144,
           103,
           18,
           198,
           19,
           33,
           344,
           66,
           35,
           34,
           19,
           116,
           44,
           153,
           88,
           66,
           205,
           285,
           39,
           193,
           137,
           50,
           103,
           190,
           56,
           120,
           31,
           62,
           114,
           42,
           99,
           21,
           228,
           63,
           85,
           22,
           30,
           92,
           61,
           136,
           22,
           214,
           173,
           77,
           137,
           71,
           177,
           22,
           37,
           79,
           117,
           155,
           59,
           26,
           35,
           47,
           22,
           20,
           86,
           41,
           93,
           30,
           36,
           24,
           23,
           84,
           34,
           36,
           117,
           94,
           36,
           20,
           127,
           64,
           110,
           17,
           99,
           143,
           143,
           74,
           110,
           137,
           73,
           293,
           13,
           39,
           204,
           24,
           51,
           28,
           38,
           27,
           36,
           59,
           28,
           23,
           20,
           112,
           84,
           37,
           162,
           46,
           86,
           24,
           206,
           54,
           46,
           104,
           50,
           125,
           62,
           202,
           29,
           157,
           77,
           124,
           68,
           143,
           64,
           18,
           49,
           74,
           103,
           174,
           196,
           231,
           113
          ],
          "sizemode": "area",
          "sizeref": 0.86,
          "symbol": "circle"
         },
         "mode": "markers",
         "name": "도움O",
         "orientation": "v",
         "showlegend": true,
         "type": "scatter",
         "x": [
          0.77,
          0.48,
          0.99,
          0.84,
          0.81,
          0.85,
          0.73,
          0.4,
          0.59,
          0.92,
          0.49,
          0.3,
          0.77,
          0.65,
          0.97,
          0.97,
          0.72,
          0.95,
          0.31,
          0.76,
          1,
          0.88,
          0.83,
          0.81,
          0.9,
          0.43,
          0.84,
          0.92,
          0.89,
          0.91,
          0.99,
          0.8,
          0.86,
          0.33,
          0.32,
          0.73,
          0.31,
          0.5,
          0.93,
          0.88,
          0.9,
          0.17,
          0.96,
          0.94,
          0.98,
          0.7,
          0.89,
          0.96,
          0.99,
          0.47,
          0.98,
          0.64,
          0.7,
          0.51,
          0.67,
          0.4,
          0.67,
          0.79,
          0.44,
          0.98,
          0.96,
          0.97,
          0.61,
          0.55,
          0.19,
          0.96,
          0.63,
          0.8,
          0.81,
          0.94,
          0.98,
          0.86,
          0.39,
          0.96,
          0.29,
          0.7,
          0.93,
          0.79,
          0.53,
          0.63,
          0.32,
          0.96,
          0.7,
          0.98,
          0.88,
          0.87,
          0.99,
          0.88,
          0.56,
          0.89,
          0.95,
          0.8,
          0.93,
          0.97,
          0.85,
          0.97,
          0.6,
          0.48,
          0.93,
          0.88,
          0.83,
          0.37,
          0.97,
          0.79,
          0.82,
          0.29,
          0.47,
          0.67,
          0.59,
          0.95,
          0.37,
          0.69,
          0.99,
          0.92,
          0.78,
          0.71,
          0.99,
          0.3,
          0.49,
          0.95,
          0.92,
          0.99,
          0.68,
          0.4,
          0.64,
          0.79,
          0.38,
          0.47,
          0.85,
          0.79,
          0.97,
          0.41,
          0.41,
          0.5,
          0.49,
          0.91,
          0.58,
          0.72,
          0.98,
          0.89,
          0.61,
          0.31,
          0.81,
          0.89,
          0.9,
          0.27,
          0.94,
          0.99,
          0.81,
          0.94,
          0.93,
          0.92,
          0.91,
          0.97,
          0.1,
          0.84,
          0.88,
          0.47,
          0.61,
          0.38,
          0.58,
          0.58,
          0.46,
          0.69,
          0.25,
          0.56,
          0.55,
          1,
          0.73,
          0.25,
          0.98,
          0.73,
          0.85,
          0.32,
          0.99,
          0.73,
          0.77,
          0.96,
          0.5,
          0.99,
          0.71,
          0.98,
          0.64,
          0.98,
          0.79,
          0.95,
          0.8,
          0.95,
          0.34,
          0.41,
          0.89,
          0.65,
          0.86,
          0.98,
          0.99,
          0.99,
          0.95
         ],
         "xaxis": "x",
         "y": [
          49,
          37,
          226,
          71,
          56,
          125,
          48,
          100,
          28,
          98,
          23,
          20,
          78,
          55,
          166,
          70,
          38,
          105,
          18,
          73,
          252,
          70,
          79,
          53,
          62,
          64,
          191,
          125,
          83,
          177,
          197,
          83,
          171,
          19,
          21,
          38,
          18,
          30,
          103,
          142,
          71,
          13,
          104,
          71,
          150,
          87,
          153,
          89,
          156,
          32,
          106,
          42,
          37,
          28,
          28,
          27,
          52,
          77,
          31,
          157,
          181,
          86,
          30,
          30,
          23,
          68,
          35,
          114,
          114,
          102,
          144,
          103,
          18,
          198,
          19,
          33,
          344,
          66,
          35,
          34,
          19,
          116,
          44,
          153,
          88,
          66,
          205,
          285,
          39,
          193,
          137,
          50,
          103,
          190,
          56,
          120,
          31,
          62,
          114,
          42,
          99,
          21,
          228,
          63,
          85,
          22,
          30,
          92,
          61,
          136,
          22,
          214,
          173,
          77,
          137,
          71,
          177,
          22,
          37,
          79,
          117,
          155,
          59,
          26,
          35,
          47,
          22,
          20,
          86,
          41,
          93,
          30,
          36,
          24,
          23,
          84,
          34,
          36,
          117,
          94,
          36,
          20,
          127,
          64,
          110,
          17,
          99,
          143,
          143,
          74,
          110,
          137,
          73,
          293,
          13,
          39,
          204,
          24,
          51,
          28,
          38,
          27,
          36,
          59,
          28,
          23,
          20,
          112,
          84,
          37,
          162,
          46,
          86,
          24,
          206,
          54,
          46,
          104,
          50,
          125,
          62,
          202,
          29,
          157,
          77,
          124,
          68,
          143,
          64,
          18,
          49,
          74,
          103,
          174,
          196,
          231,
          113
         ],
         "yaxis": "y"
        },
        {
         "hovertemplate": "실제=도움X<br>예측=%{x}<br>length=%{marker.size}<extra></extra>",
         "legendgroup": "도움X",
         "marker": {
          "color": "#EF553B",
          "size": [
           11,
           41,
           11,
           10,
           18,
           5,
           5,
           5,
           44,
           7,
           6,
           16,
           104,
           5,
           5,
           3,
           3,
           7,
           12,
           14,
           8,
           5,
           8,
           13,
           13,
           14,
           92,
           6,
           17,
           10,
           39,
           4,
           11,
           17,
           14,
           35,
           23,
           5,
           16,
           6,
           8,
           10,
           12,
           14,
           23,
           15,
           28,
           34,
           9,
           16,
           6,
           13,
           22,
           61,
           24,
           5,
           8,
           14,
           9,
           13,
           8,
           20,
           44,
           5,
           11,
           16,
           15,
           15,
           5,
           11,
           12,
           20,
           7,
           10,
           9,
           10,
           36,
           5,
           8,
           5,
           17,
           38,
           7,
           9,
           5,
           7,
           9,
           6,
           123,
           23,
           5,
           5,
           5,
           6,
           29,
           10,
           8,
           15,
           48,
           13,
           9,
           6,
           57,
           5,
           12,
           11,
           9,
           8,
           8,
           5,
           5,
           10,
           43,
           14,
           5,
           8,
           6,
           25,
           16,
           16,
           7,
           9,
           8,
           25,
           10,
           9,
           14,
           10,
           24,
           35,
           10,
           6,
           10,
           5,
           5,
           25,
           11,
           24,
           6,
           6,
           12,
           14,
           12,
           25,
           38,
           11,
           14,
           5,
           21,
           12,
           11,
           30,
           18,
           104,
           23,
           6,
           13,
           10,
           5,
           139,
           4,
           19,
           6,
           66,
           6,
           7,
           6,
           8,
           4,
           12,
           6,
           12,
           32,
           41,
           5,
           79,
           5,
           5,
           5,
           24,
           25,
           8,
           8,
           28,
           6,
           10,
           7,
           8,
           10,
           29,
           22,
           5,
           24,
           14,
           43,
           5,
           4,
           3,
           11,
           12,
           5,
           21,
           9,
           10,
           3,
           33,
           6,
           10,
           162,
           63,
           31,
           7,
           17,
           16,
           5,
           12,
           21,
           6,
           8,
           24,
           13,
           16,
           35,
           11,
           20,
           8,
           39,
           6,
           14,
           2,
           16,
           10,
           5,
           28,
           5,
           9,
           13,
           63,
           47,
           43,
           28,
           38,
           30,
           5,
           23,
           26,
           3,
           11,
           16,
           13,
           15,
           27,
           7,
           5,
           10,
           10,
           17,
           10,
           24,
           22,
           8,
           3,
           9,
           24,
           43,
           29,
           5,
           7,
           18,
           8,
           30,
           11,
           5,
           57,
           6,
           38,
           11,
           5,
           5,
           11,
           97,
           11,
           35,
           11,
           8
          ],
          "sizemode": "area",
          "sizeref": 0.86,
          "symbol": "circle"
         },
         "mode": "markers",
         "name": "도움X",
         "orientation": "v",
         "showlegend": true,
         "type": "scatter",
         "x": [
          0.09,
          0.56,
          0.06,
          0.06,
          0.19,
          0.02,
          0.02,
          0.01,
          0.62,
          0.04,
          0.03,
          0.15,
          0.75,
          0.02,
          0.02,
          0.01,
          0.01,
          0.07,
          0.13,
          0.11,
          0.07,
          0.02,
          0.03,
          0.08,
          0.08,
          0.13,
          0.89,
          0.02,
          0.17,
          0.07,
          0.61,
          0.01,
          0.06,
          0.23,
          0.11,
          0.29,
          0.18,
          0.01,
          0.17,
          0.02,
          0.04,
          0.06,
          0.2,
          0.11,
          0.14,
          0.15,
          0.28,
          0.51,
          0.06,
          0.17,
          0.03,
          0.17,
          0.27,
          0.51,
          0.4,
          0.02,
          0.04,
          0.13,
          0.06,
          0.09,
          0.05,
          0.26,
          0.57,
          0.02,
          0.16,
          0.13,
          0.11,
          0.11,
          0,
          0.08,
          0.09,
          0.27,
          0.05,
          0.07,
          0.06,
          0.07,
          0.62,
          0.02,
          0.08,
          0.02,
          0.18,
          0.6,
          0.04,
          0.06,
          0.02,
          0.03,
          0.04,
          0.03,
          0.97,
          0.3,
          0.02,
          0.02,
          0.02,
          0.03,
          0.23,
          0.06,
          0.05,
          0.14,
          0.41,
          0.09,
          0.04,
          0.03,
          0.43,
          0.02,
          0.06,
          0.04,
          0.06,
          0.05,
          0.05,
          0.02,
          0.02,
          0.04,
          0.54,
          0.36,
          0.02,
          0.04,
          0.03,
          0.26,
          0.2,
          0.15,
          0.03,
          0.05,
          0.04,
          0.36,
          0.1,
          0.04,
          0.11,
          0.05,
          0.4,
          0.59,
          0.05,
          0.03,
          0.05,
          0.01,
          0.01,
          0.39,
          0.09,
          0.33,
          0.03,
          0.03,
          0.08,
          0.14,
          0.09,
          0.55,
          0.69,
          0.06,
          0.24,
          0.02,
          0.19,
          0.08,
          0.07,
          0.53,
          0.17,
          0.48,
          0.33,
          0.02,
          0.13,
          0.07,
          0.02,
          0.3,
          0.01,
          0.16,
          0.03,
          0.73,
          0.03,
          0.03,
          0.03,
          0.03,
          0.01,
          0.1,
          0.03,
          0.07,
          0.28,
          0.79,
          0.02,
          0.8,
          0.02,
          0.02,
          0.02,
          0.22,
          0.34,
          0.05,
          0.05,
          0.48,
          0.07,
          0.07,
          0.04,
          0.03,
          0.09,
          0.37,
          0.32,
          0.02,
          0.36,
          0.23,
          0.43,
          0.02,
          0.01,
          0.01,
          0.08,
          0.08,
          0.02,
          0.3,
          0.04,
          0.07,
          0.01,
          0.32,
          0.03,
          0.06,
          0.82,
          0.71,
          0.5,
          0.04,
          0.13,
          0.22,
          0.02,
          0.11,
          0.32,
          0.03,
          0.04,
          0.42,
          0.13,
          0.31,
          0.39,
          0.08,
          0.14,
          0.04,
          0.59,
          0.03,
          0.12,
          0,
          0.2,
          0.06,
          0.02,
          0.23,
          0.01,
          0.06,
          0.06,
          0.58,
          0.41,
          0.47,
          0.23,
          0.8,
          0.3,
          0.02,
          0.19,
          0.33,
          0.01,
          0.06,
          0.32,
          0.1,
          0.14,
          0.36,
          0.03,
          0.02,
          0.05,
          0.07,
          0.13,
          0.07,
          0.47,
          0.22,
          0.05,
          0.01,
          0.03,
          0.15,
          0.45,
          0.16,
          0.02,
          0.04,
          0.26,
          0.04,
          0.33,
          0.18,
          0.02,
          0.67,
          0.03,
          0.31,
          0.08,
          0.02,
          0.02,
          0.08,
          0.88,
          0.06,
          0.51,
          0.16,
          0.04
         ],
         "xaxis": "x",
         "y": [
          11,
          41,
          11,
          10,
          18,
          5,
          5,
          5,
          44,
          7,
          6,
          16,
          104,
          5,
          5,
          3,
          3,
          7,
          12,
          14,
          8,
          5,
          8,
          13,
          13,
          14,
          92,
          6,
          17,
          10,
          39,
          4,
          11,
          17,
          14,
          35,
          23,
          5,
          16,
          6,
          8,
          10,
          12,
          14,
          23,
          15,
          28,
          34,
          9,
          16,
          6,
          13,
          22,
          61,
          24,
          5,
          8,
          14,
          9,
          13,
          8,
          20,
          44,
          5,
          11,
          16,
          15,
          15,
          5,
          11,
          12,
          20,
          7,
          10,
          9,
          10,
          36,
          5,
          8,
          5,
          17,
          38,
          7,
          9,
          5,
          7,
          9,
          6,
          123,
          23,
          5,
          5,
          5,
          6,
          29,
          10,
          8,
          15,
          48,
          13,
          9,
          6,
          57,
          5,
          12,
          11,
          9,
          8,
          8,
          5,
          5,
          10,
          43,
          14,
          5,
          8,
          6,
          25,
          16,
          16,
          7,
          9,
          8,
          25,
          10,
          9,
          14,
          10,
          24,
          35,
          10,
          6,
          10,
          5,
          5,
          25,
          11,
          24,
          6,
          6,
          12,
          14,
          12,
          25,
          38,
          11,
          14,
          5,
          21,
          12,
          11,
          30,
          18,
          104,
          23,
          6,
          13,
          10,
          5,
          139,
          4,
          19,
          6,
          66,
          6,
          7,
          6,
          8,
          4,
          12,
          6,
          12,
          32,
          41,
          5,
          79,
          5,
          5,
          5,
          24,
          25,
          8,
          8,
          28,
          6,
          10,
          7,
          8,
          10,
          29,
          22,
          5,
          24,
          14,
          43,
          5,
          4,
          3,
          11,
          12,
          5,
          21,
          9,
          10,
          3,
          33,
          6,
          10,
          162,
          63,
          31,
          7,
          17,
          16,
          5,
          12,
          21,
          6,
          8,
          24,
          13,
          16,
          35,
          11,
          20,
          8,
          39,
          6,
          14,
          2,
          16,
          10,
          5,
          28,
          5,
          9,
          13,
          63,
          47,
          43,
          28,
          38,
          30,
          5,
          23,
          26,
          3,
          11,
          16,
          13,
          15,
          27,
          7,
          5,
          10,
          10,
          17,
          10,
          24,
          22,
          8,
          3,
          9,
          24,
          43,
          29,
          5,
          7,
          18,
          8,
          30,
          11,
          5,
          57,
          6,
          38,
          11,
          5,
          5,
          11,
          97,
          11,
          35,
          11,
          8
         ],
         "yaxis": "y"
        }
       ],
       "layout": {
        "legend": {
         "itemsizing": "constant",
         "title": {
          "text": "실제"
         },
         "tracegroupgap": 0
        },
        "margin": {
         "t": 60
        },
        "template": {
         "data": {
          "bar": [
           {
            "error_x": {
             "color": "#2a3f5f"
            },
            "error_y": {
             "color": "#2a3f5f"
            },
            "marker": {
             "line": {
              "color": "#E5ECF6",
              "width": 0.5
             }
            },
            "type": "bar"
           }
          ],
          "barpolar": [
           {
            "marker": {
             "line": {
              "color": "#E5ECF6",
              "width": 0.5
             }
            },
            "type": "barpolar"
           }
          ],
          "carpet": [
           {
            "aaxis": {
             "endlinecolor": "#2a3f5f",
             "gridcolor": "white",
             "linecolor": "white",
             "minorgridcolor": "white",
             "startlinecolor": "#2a3f5f"
            },
            "baxis": {
             "endlinecolor": "#2a3f5f",
             "gridcolor": "white",
             "linecolor": "white",
             "minorgridcolor": "white",
             "startlinecolor": "#2a3f5f"
            },
            "type": "carpet"
           }
          ],
          "choropleth": [
           {
            "colorbar": {
             "outlinewidth": 0,
             "ticks": ""
            },
            "type": "choropleth"
           }
          ],
          "contour": [
           {
            "colorbar": {
             "outlinewidth": 0,
             "ticks": ""
            },
            "colorscale": [
             [
              0,
              "#0d0887"
             ],
             [
              0.1111111111111111,
              "#46039f"
             ],
             [
              0.2222222222222222,
              "#7201a8"
             ],
             [
              0.3333333333333333,
              "#9c179e"
             ],
             [
              0.4444444444444444,
              "#bd3786"
             ],
             [
              0.5555555555555556,
              "#d8576b"
             ],
             [
              0.6666666666666666,
              "#ed7953"
             ],
             [
              0.7777777777777778,
              "#fb9f3a"
             ],
             [
              0.8888888888888888,
              "#fdca26"
             ],
             [
              1,
              "#f0f921"
             ]
            ],
            "type": "contour"
           }
          ],
          "contourcarpet": [
           {
            "colorbar": {
             "outlinewidth": 0,
             "ticks": ""
            },
            "type": "contourcarpet"
           }
          ],
          "heatmap": [
           {
            "colorbar": {
             "outlinewidth": 0,
             "ticks": ""
            },
            "colorscale": [
             [
              0,
              "#0d0887"
             ],
             [
              0.1111111111111111,
              "#46039f"
             ],
             [
              0.2222222222222222,
              "#7201a8"
             ],
             [
              0.3333333333333333,
              "#9c179e"
             ],
             [
              0.4444444444444444,
              "#bd3786"
             ],
             [
              0.5555555555555556,
              "#d8576b"
             ],
             [
              0.6666666666666666,
              "#ed7953"
             ],
             [
              0.7777777777777778,
              "#fb9f3a"
             ],
             [
              0.8888888888888888,
              "#fdca26"
             ],
             [
              1,
              "#f0f921"
             ]
            ],
            "type": "heatmap"
           }
          ],
          "heatmapgl": [
           {
            "colorbar": {
             "outlinewidth": 0,
             "ticks": ""
            },
            "colorscale": [
             [
              0,
              "#0d0887"
             ],
             [
              0.1111111111111111,
              "#46039f"
             ],
             [
              0.2222222222222222,
              "#7201a8"
             ],
             [
              0.3333333333333333,
              "#9c179e"
             ],
             [
              0.4444444444444444,
              "#bd3786"
             ],
             [
              0.5555555555555556,
              "#d8576b"
             ],
             [
              0.6666666666666666,
              "#ed7953"
             ],
             [
              0.7777777777777778,
              "#fb9f3a"
             ],
             [
              0.8888888888888888,
              "#fdca26"
             ],
             [
              1,
              "#f0f921"
             ]
            ],
            "type": "heatmapgl"
           }
          ],
          "histogram": [
           {
            "marker": {
             "colorbar": {
              "outlinewidth": 0,
              "ticks": ""
             }
            },
            "type": "histogram"
           }
          ],
          "histogram2d": [
           {
            "colorbar": {
             "outlinewidth": 0,
             "ticks": ""
            },
            "colorscale": [
             [
              0,
              "#0d0887"
             ],
             [
              0.1111111111111111,
              "#46039f"
             ],
             [
              0.2222222222222222,
              "#7201a8"
             ],
             [
              0.3333333333333333,
              "#9c179e"
             ],
             [
              0.4444444444444444,
              "#bd3786"
             ],
             [
              0.5555555555555556,
              "#d8576b"
             ],
             [
              0.6666666666666666,
              "#ed7953"
             ],
             [
              0.7777777777777778,
              "#fb9f3a"
             ],
             [
              0.8888888888888888,
              "#fdca26"
             ],
             [
              1,
              "#f0f921"
             ]
            ],
            "type": "histogram2d"
           }
          ],
          "histogram2dcontour": [
           {
            "colorbar": {
             "outlinewidth": 0,
             "ticks": ""
            },
            "colorscale": [
             [
              0,
              "#0d0887"
             ],
             [
              0.1111111111111111,
              "#46039f"
             ],
             [
              0.2222222222222222,
              "#7201a8"
             ],
             [
              0.3333333333333333,
              "#9c179e"
             ],
             [
              0.4444444444444444,
              "#bd3786"
             ],
             [
              0.5555555555555556,
              "#d8576b"
             ],
             [
              0.6666666666666666,
              "#ed7953"
             ],
             [
              0.7777777777777778,
              "#fb9f3a"
             ],
             [
              0.8888888888888888,
              "#fdca26"
             ],
             [
              1,
              "#f0f921"
             ]
            ],
            "type": "histogram2dcontour"
           }
          ],
          "mesh3d": [
           {
            "colorbar": {
             "outlinewidth": 0,
             "ticks": ""
            },
            "type": "mesh3d"
           }
          ],
          "parcoords": [
           {
            "line": {
             "colorbar": {
              "outlinewidth": 0,
              "ticks": ""
             }
            },
            "type": "parcoords"
           }
          ],
          "pie": [
           {
            "automargin": true,
            "type": "pie"
           }
          ],
          "scatter": [
           {
            "marker": {
             "colorbar": {
              "outlinewidth": 0,
              "ticks": ""
             }
            },
            "type": "scatter"
           }
          ],
          "scatter3d": [
           {
            "line": {
             "colorbar": {
              "outlinewidth": 0,
              "ticks": ""
             }
            },
            "marker": {
             "colorbar": {
              "outlinewidth": 0,
              "ticks": ""
             }
            },
            "type": "scatter3d"
           }
          ],
          "scattercarpet": [
           {
            "marker": {
             "colorbar": {
              "outlinewidth": 0,
              "ticks": ""
             }
            },
            "type": "scattercarpet"
           }
          ],
          "scattergeo": [
           {
            "marker": {
             "colorbar": {
              "outlinewidth": 0,
              "ticks": ""
             }
            },
            "type": "scattergeo"
           }
          ],
          "scattergl": [
           {
            "marker": {
             "colorbar": {
              "outlinewidth": 0,
              "ticks": ""
             }
            },
            "type": "scattergl"
           }
          ],
          "scattermapbox": [
           {
            "marker": {
             "colorbar": {
              "outlinewidth": 0,
              "ticks": ""
             }
            },
            "type": "scattermapbox"
           }
          ],
          "scatterpolar": [
           {
            "marker": {
             "colorbar": {
              "outlinewidth": 0,
              "ticks": ""
             }
            },
            "type": "scatterpolar"
           }
          ],
          "scatterpolargl": [
           {
            "marker": {
             "colorbar": {
              "outlinewidth": 0,
              "ticks": ""
             }
            },
            "type": "scatterpolargl"
           }
          ],
          "scatterternary": [
           {
            "marker": {
             "colorbar": {
              "outlinewidth": 0,
              "ticks": ""
             }
            },
            "type": "scatterternary"
           }
          ],
          "surface": [
           {
            "colorbar": {
             "outlinewidth": 0,
             "ticks": ""
            },
            "colorscale": [
             [
              0,
              "#0d0887"
             ],
             [
              0.1111111111111111,
              "#46039f"
             ],
             [
              0.2222222222222222,
              "#7201a8"
             ],
             [
              0.3333333333333333,
              "#9c179e"
             ],
             [
              0.4444444444444444,
              "#bd3786"
             ],
             [
              0.5555555555555556,
              "#d8576b"
             ],
             [
              0.6666666666666666,
              "#ed7953"
             ],
             [
              0.7777777777777778,
              "#fb9f3a"
             ],
             [
              0.8888888888888888,
              "#fdca26"
             ],
             [
              1,
              "#f0f921"
             ]
            ],
            "type": "surface"
           }
          ],
          "table": [
           {
            "cells": {
             "fill": {
              "color": "#EBF0F8"
             },
             "line": {
              "color": "white"
             }
            },
            "header": {
             "fill": {
              "color": "#C8D4E3"
             },
             "line": {
              "color": "white"
             }
            },
            "type": "table"
           }
          ]
         },
         "layout": {
          "annotationdefaults": {
           "arrowcolor": "#2a3f5f",
           "arrowhead": 0,
           "arrowwidth": 1
          },
          "coloraxis": {
           "colorbar": {
            "outlinewidth": 0,
            "ticks": ""
           }
          },
          "colorscale": {
           "diverging": [
            [
             0,
             "#8e0152"
            ],
            [
             0.1,
             "#c51b7d"
            ],
            [
             0.2,
             "#de77ae"
            ],
            [
             0.3,
             "#f1b6da"
            ],
            [
             0.4,
             "#fde0ef"
            ],
            [
             0.5,
             "#f7f7f7"
            ],
            [
             0.6,
             "#e6f5d0"
            ],
            [
             0.7,
             "#b8e186"
            ],
            [
             0.8,
             "#7fbc41"
            ],
            [
             0.9,
             "#4d9221"
            ],
            [
             1,
             "#276419"
            ]
           ],
           "sequential": [
            [
             0,
             "#0d0887"
            ],
            [
             0.1111111111111111,
             "#46039f"
            ],
            [
             0.2222222222222222,
             "#7201a8"
            ],
            [
             0.3333333333333333,
             "#9c179e"
            ],
            [
             0.4444444444444444,
             "#bd3786"
            ],
            [
             0.5555555555555556,
             "#d8576b"
            ],
            [
             0.6666666666666666,
             "#ed7953"
            ],
            [
             0.7777777777777778,
             "#fb9f3a"
            ],
            [
             0.8888888888888888,
             "#fdca26"
            ],
            [
             1,
             "#f0f921"
            ]
           ],
           "sequentialminus": [
            [
             0,
             "#0d0887"
            ],
            [
             0.1111111111111111,
             "#46039f"
            ],
            [
             0.2222222222222222,
             "#7201a8"
            ],
            [
             0.3333333333333333,
             "#9c179e"
            ],
            [
             0.4444444444444444,
             "#bd3786"
            ],
            [
             0.5555555555555556,
             "#d8576b"
            ],
            [
             0.6666666666666666,
             "#ed7953"
            ],
            [
             0.7777777777777778,
             "#fb9f3a"
            ],
            [
             0.8888888888888888,
             "#fdca26"
            ],
            [
             1,
             "#f0f921"
            ]
           ]
          },
          "colorway": [
           "#636efa",
           "#EF553B",
           "#00cc96",
           "#ab63fa",
           "#FFA15A",
           "#19d3f3",
           "#FF6692",
           "#B6E880",
           "#FF97FF",
           "#FECB52"
          ],
          "font": {
           "color": "#2a3f5f"
          },
          "geo": {
           "bgcolor": "white",
           "lakecolor": "white",
           "landcolor": "#E5ECF6",
           "showlakes": true,
           "showland": true,
           "subunitcolor": "white"
          },
          "hoverlabel": {
           "align": "left"
          },
          "hovermode": "closest",
          "mapbox": {
           "style": "light"
          },
          "paper_bgcolor": "white",
          "plot_bgcolor": "#E5ECF6",
          "polar": {
           "angularaxis": {
            "gridcolor": "white",
            "linecolor": "white",
            "ticks": ""
           },
           "bgcolor": "#E5ECF6",
           "radialaxis": {
            "gridcolor": "white",
            "linecolor": "white",
            "ticks": ""
           }
          },
          "scene": {
           "xaxis": {
            "backgroundcolor": "#E5ECF6",
            "gridcolor": "white",
            "gridwidth": 2,
            "linecolor": "white",
            "showbackground": true,
            "ticks": "",
            "zerolinecolor": "white"
           },
           "yaxis": {
            "backgroundcolor": "#E5ECF6",
            "gridcolor": "white",
            "gridwidth": 2,
            "linecolor": "white",
            "showbackground": true,
            "ticks": "",
            "zerolinecolor": "white"
           },
           "zaxis": {
            "backgroundcolor": "#E5ECF6",
            "gridcolor": "white",
            "gridwidth": 2,
            "linecolor": "white",
            "showbackground": true,
            "ticks": "",
            "zerolinecolor": "white"
           }
          },
          "shapedefaults": {
           "line": {
            "color": "#2a3f5f"
           }
          },
          "ternary": {
           "aaxis": {
            "gridcolor": "white",
            "linecolor": "white",
            "ticks": ""
           },
           "baxis": {
            "gridcolor": "white",
            "linecolor": "white",
            "ticks": ""
           },
           "bgcolor": "#E5ECF6",
           "caxis": {
            "gridcolor": "white",
            "linecolor": "white",
            "ticks": ""
           }
          },
          "title": {
           "x": 0.05
          },
          "xaxis": {
           "automargin": true,
           "gridcolor": "white",
           "linecolor": "white",
           "ticks": "",
           "title": {
            "standoff": 15
           },
           "zerolinecolor": "white",
           "zerolinewidth": 2
          },
          "yaxis": {
           "automargin": true,
           "gridcolor": "white",
           "linecolor": "white",
           "ticks": "",
           "title": {
            "standoff": 15
           },
           "zerolinecolor": "white",
           "zerolinewidth": 2
          }
         }
        },
        "xaxis": {
         "anchor": "y",
         "domain": [
          0,
          1
         ],
         "title": {
          "text": "예측"
         }
        },
        "yaxis": {
         "anchor": "x",
         "domain": [
          0,
          1
         ],
         "title": {
          "text": "length"
         }
        }
       }
      },
      "text/html": [
       "<div>                            <div id=\"187297f7-f722-417b-99c8-82ccfaf3189a\" class=\"plotly-graph-div\" style=\"height:525px; width:100%;\"></div>            <script type=\"text/javascript\">                require([\"plotly\"], function(Plotly) {                    window.PLOTLYENV=window.PLOTLYENV || {};                                    if (document.getElementById(\"187297f7-f722-417b-99c8-82ccfaf3189a\")) {                    Plotly.newPlot(                        \"187297f7-f722-417b-99c8-82ccfaf3189a\",                        [{\"hovertemplate\": \"\\uc2e4\\uc81c=\\ub3c4\\uc6c0O<br>\\uc608\\uce21=%{x}<br>length=%{marker.size}<extra></extra>\", \"legendgroup\": \"\\ub3c4\\uc6c0O\", \"marker\": {\"color\": \"#636efa\", \"size\": [49, 37, 226, 71, 56, 125, 48, 100, 28, 98, 23, 20, 78, 55, 166, 70, 38, 105, 18, 73, 252, 70, 79, 53, 62, 64, 191, 125, 83, 177, 197, 83, 171, 19, 21, 38, 18, 30, 103, 142, 71, 13, 104, 71, 150, 87, 153, 89, 156, 32, 106, 42, 37, 28, 28, 27, 52, 77, 31, 157, 181, 86, 30, 30, 23, 68, 35, 114, 114, 102, 144, 103, 18, 198, 19, 33, 344, 66, 35, 34, 19, 116, 44, 153, 88, 66, 205, 285, 39, 193, 137, 50, 103, 190, 56, 120, 31, 62, 114, 42, 99, 21, 228, 63, 85, 22, 30, 92, 61, 136, 22, 214, 173, 77, 137, 71, 177, 22, 37, 79, 117, 155, 59, 26, 35, 47, 22, 20, 86, 41, 93, 30, 36, 24, 23, 84, 34, 36, 117, 94, 36, 20, 127, 64, 110, 17, 99, 143, 143, 74, 110, 137, 73, 293, 13, 39, 204, 24, 51, 28, 38, 27, 36, 59, 28, 23, 20, 112, 84, 37, 162, 46, 86, 24, 206, 54, 46, 104, 50, 125, 62, 202, 29, 157, 77, 124, 68, 143, 64, 18, 49, 74, 103, 174, 196, 231, 113], \"sizemode\": \"area\", \"sizeref\": 0.86, \"symbol\": \"circle\"}, \"mode\": \"markers\", \"name\": \"\\ub3c4\\uc6c0O\", \"orientation\": \"v\", \"showlegend\": true, \"type\": \"scatter\", \"x\": [0.77, 0.48, 0.99, 0.84, 0.81, 0.85, 0.73, 0.4, 0.59, 0.92, 0.49, 0.3, 0.77, 0.65, 0.97, 0.97, 0.72, 0.95, 0.31, 0.76, 1.0, 0.88, 0.83, 0.81, 0.9, 0.43, 0.84, 0.92, 0.89, 0.91, 0.99, 0.8, 0.86, 0.33, 0.32, 0.73, 0.31, 0.5, 0.93, 0.88, 0.9, 0.17, 0.96, 0.94, 0.98, 0.7, 0.89, 0.96, 0.99, 0.47, 0.98, 0.64, 0.7, 0.51, 0.67, 0.4, 0.67, 0.79, 0.44, 0.98, 0.96, 0.97, 0.61, 0.55, 0.19, 0.96, 0.63, 0.8, 0.81, 0.94, 0.98, 0.86, 0.39, 0.96, 0.29, 0.7, 0.93, 0.79, 0.53, 0.63, 0.32, 0.96, 0.7, 0.98, 0.88, 0.87, 0.99, 0.88, 0.56, 0.89, 0.95, 0.8, 0.93, 0.97, 0.85, 0.97, 0.6, 0.48, 0.93, 0.88, 0.83, 0.37, 0.97, 0.79, 0.82, 0.29, 0.47, 0.67, 0.59, 0.95, 0.37, 0.69, 0.99, 0.92, 0.78, 0.71, 0.99, 0.3, 0.49, 0.95, 0.92, 0.99, 0.68, 0.4, 0.64, 0.79, 0.38, 0.47, 0.85, 0.79, 0.97, 0.41, 0.41, 0.5, 0.49, 0.91, 0.58, 0.72, 0.98, 0.89, 0.61, 0.31, 0.81, 0.89, 0.9, 0.27, 0.94, 0.99, 0.81, 0.94, 0.93, 0.92, 0.91, 0.97, 0.1, 0.84, 0.88, 0.47, 0.61, 0.38, 0.58, 0.58, 0.46, 0.69, 0.25, 0.56, 0.55, 1.0, 0.73, 0.25, 0.98, 0.73, 0.85, 0.32, 0.99, 0.73, 0.77, 0.96, 0.5, 0.99, 0.71, 0.98, 0.64, 0.98, 0.79, 0.95, 0.8, 0.95, 0.34, 0.41, 0.89, 0.65, 0.86, 0.98, 0.99, 0.99, 0.95], \"xaxis\": \"x\", \"y\": [49, 37, 226, 71, 56, 125, 48, 100, 28, 98, 23, 20, 78, 55, 166, 70, 38, 105, 18, 73, 252, 70, 79, 53, 62, 64, 191, 125, 83, 177, 197, 83, 171, 19, 21, 38, 18, 30, 103, 142, 71, 13, 104, 71, 150, 87, 153, 89, 156, 32, 106, 42, 37, 28, 28, 27, 52, 77, 31, 157, 181, 86, 30, 30, 23, 68, 35, 114, 114, 102, 144, 103, 18, 198, 19, 33, 344, 66, 35, 34, 19, 116, 44, 153, 88, 66, 205, 285, 39, 193, 137, 50, 103, 190, 56, 120, 31, 62, 114, 42, 99, 21, 228, 63, 85, 22, 30, 92, 61, 136, 22, 214, 173, 77, 137, 71, 177, 22, 37, 79, 117, 155, 59, 26, 35, 47, 22, 20, 86, 41, 93, 30, 36, 24, 23, 84, 34, 36, 117, 94, 36, 20, 127, 64, 110, 17, 99, 143, 143, 74, 110, 137, 73, 293, 13, 39, 204, 24, 51, 28, 38, 27, 36, 59, 28, 23, 20, 112, 84, 37, 162, 46, 86, 24, 206, 54, 46, 104, 50, 125, 62, 202, 29, 157, 77, 124, 68, 143, 64, 18, 49, 74, 103, 174, 196, 231, 113], \"yaxis\": \"y\"}, {\"hovertemplate\": \"\\uc2e4\\uc81c=\\ub3c4\\uc6c0X<br>\\uc608\\uce21=%{x}<br>length=%{marker.size}<extra></extra>\", \"legendgroup\": \"\\ub3c4\\uc6c0X\", \"marker\": {\"color\": \"#EF553B\", \"size\": [11, 41, 11, 10, 18, 5, 5, 5, 44, 7, 6, 16, 104, 5, 5, 3, 3, 7, 12, 14, 8, 5, 8, 13, 13, 14, 92, 6, 17, 10, 39, 4, 11, 17, 14, 35, 23, 5, 16, 6, 8, 10, 12, 14, 23, 15, 28, 34, 9, 16, 6, 13, 22, 61, 24, 5, 8, 14, 9, 13, 8, 20, 44, 5, 11, 16, 15, 15, 5, 11, 12, 20, 7, 10, 9, 10, 36, 5, 8, 5, 17, 38, 7, 9, 5, 7, 9, 6, 123, 23, 5, 5, 5, 6, 29, 10, 8, 15, 48, 13, 9, 6, 57, 5, 12, 11, 9, 8, 8, 5, 5, 10, 43, 14, 5, 8, 6, 25, 16, 16, 7, 9, 8, 25, 10, 9, 14, 10, 24, 35, 10, 6, 10, 5, 5, 25, 11, 24, 6, 6, 12, 14, 12, 25, 38, 11, 14, 5, 21, 12, 11, 30, 18, 104, 23, 6, 13, 10, 5, 139, 4, 19, 6, 66, 6, 7, 6, 8, 4, 12, 6, 12, 32, 41, 5, 79, 5, 5, 5, 24, 25, 8, 8, 28, 6, 10, 7, 8, 10, 29, 22, 5, 24, 14, 43, 5, 4, 3, 11, 12, 5, 21, 9, 10, 3, 33, 6, 10, 162, 63, 31, 7, 17, 16, 5, 12, 21, 6, 8, 24, 13, 16, 35, 11, 20, 8, 39, 6, 14, 2, 16, 10, 5, 28, 5, 9, 13, 63, 47, 43, 28, 38, 30, 5, 23, 26, 3, 11, 16, 13, 15, 27, 7, 5, 10, 10, 17, 10, 24, 22, 8, 3, 9, 24, 43, 29, 5, 7, 18, 8, 30, 11, 5, 57, 6, 38, 11, 5, 5, 11, 97, 11, 35, 11, 8], \"sizemode\": \"area\", \"sizeref\": 0.86, \"symbol\": \"circle\"}, \"mode\": \"markers\", \"name\": \"\\ub3c4\\uc6c0X\", \"orientation\": \"v\", \"showlegend\": true, \"type\": \"scatter\", \"x\": [0.09, 0.56, 0.06, 0.06, 0.19, 0.02, 0.02, 0.01, 0.62, 0.04, 0.03, 0.15, 0.75, 0.02, 0.02, 0.01, 0.01, 0.07, 0.13, 0.11, 0.07, 0.02, 0.03, 0.08, 0.08, 0.13, 0.89, 0.02, 0.17, 0.07, 0.61, 0.01, 0.06, 0.23, 0.11, 0.29, 0.18, 0.01, 0.17, 0.02, 0.04, 0.06, 0.2, 0.11, 0.14, 0.15, 0.28, 0.51, 0.06, 0.17, 0.03, 0.17, 0.27, 0.51, 0.4, 0.02, 0.04, 0.13, 0.06, 0.09, 0.05, 0.26, 0.57, 0.02, 0.16, 0.13, 0.11, 0.11, 0.0, 0.08, 0.09, 0.27, 0.05, 0.07, 0.06, 0.07, 0.62, 0.02, 0.08, 0.02, 0.18, 0.6, 0.04, 0.06, 0.02, 0.03, 0.04, 0.03, 0.97, 0.3, 0.02, 0.02, 0.02, 0.03, 0.23, 0.06, 0.05, 0.14, 0.41, 0.09, 0.04, 0.03, 0.43, 0.02, 0.06, 0.04, 0.06, 0.05, 0.05, 0.02, 0.02, 0.04, 0.54, 0.36, 0.02, 0.04, 0.03, 0.26, 0.2, 0.15, 0.03, 0.05, 0.04, 0.36, 0.1, 0.04, 0.11, 0.05, 0.4, 0.59, 0.05, 0.03, 0.05, 0.01, 0.01, 0.39, 0.09, 0.33, 0.03, 0.03, 0.08, 0.14, 0.09, 0.55, 0.69, 0.06, 0.24, 0.02, 0.19, 0.08, 0.07, 0.53, 0.17, 0.48, 0.33, 0.02, 0.13, 0.07, 0.02, 0.3, 0.01, 0.16, 0.03, 0.73, 0.03, 0.03, 0.03, 0.03, 0.01, 0.1, 0.03, 0.07, 0.28, 0.79, 0.02, 0.8, 0.02, 0.02, 0.02, 0.22, 0.34, 0.05, 0.05, 0.48, 0.07, 0.07, 0.04, 0.03, 0.09, 0.37, 0.32, 0.02, 0.36, 0.23, 0.43, 0.02, 0.01, 0.01, 0.08, 0.08, 0.02, 0.3, 0.04, 0.07, 0.01, 0.32, 0.03, 0.06, 0.82, 0.71, 0.5, 0.04, 0.13, 0.22, 0.02, 0.11, 0.32, 0.03, 0.04, 0.42, 0.13, 0.31, 0.39, 0.08, 0.14, 0.04, 0.59, 0.03, 0.12, 0.0, 0.2, 0.06, 0.02, 0.23, 0.01, 0.06, 0.06, 0.58, 0.41, 0.47, 0.23, 0.8, 0.3, 0.02, 0.19, 0.33, 0.01, 0.06, 0.32, 0.1, 0.14, 0.36, 0.03, 0.02, 0.05, 0.07, 0.13, 0.07, 0.47, 0.22, 0.05, 0.01, 0.03, 0.15, 0.45, 0.16, 0.02, 0.04, 0.26, 0.04, 0.33, 0.18, 0.02, 0.67, 0.03, 0.31, 0.08, 0.02, 0.02, 0.08, 0.88, 0.06, 0.51, 0.16, 0.04], \"xaxis\": \"x\", \"y\": [11, 41, 11, 10, 18, 5, 5, 5, 44, 7, 6, 16, 104, 5, 5, 3, 3, 7, 12, 14, 8, 5, 8, 13, 13, 14, 92, 6, 17, 10, 39, 4, 11, 17, 14, 35, 23, 5, 16, 6, 8, 10, 12, 14, 23, 15, 28, 34, 9, 16, 6, 13, 22, 61, 24, 5, 8, 14, 9, 13, 8, 20, 44, 5, 11, 16, 15, 15, 5, 11, 12, 20, 7, 10, 9, 10, 36, 5, 8, 5, 17, 38, 7, 9, 5, 7, 9, 6, 123, 23, 5, 5, 5, 6, 29, 10, 8, 15, 48, 13, 9, 6, 57, 5, 12, 11, 9, 8, 8, 5, 5, 10, 43, 14, 5, 8, 6, 25, 16, 16, 7, 9, 8, 25, 10, 9, 14, 10, 24, 35, 10, 6, 10, 5, 5, 25, 11, 24, 6, 6, 12, 14, 12, 25, 38, 11, 14, 5, 21, 12, 11, 30, 18, 104, 23, 6, 13, 10, 5, 139, 4, 19, 6, 66, 6, 7, 6, 8, 4, 12, 6, 12, 32, 41, 5, 79, 5, 5, 5, 24, 25, 8, 8, 28, 6, 10, 7, 8, 10, 29, 22, 5, 24, 14, 43, 5, 4, 3, 11, 12, 5, 21, 9, 10, 3, 33, 6, 10, 162, 63, 31, 7, 17, 16, 5, 12, 21, 6, 8, 24, 13, 16, 35, 11, 20, 8, 39, 6, 14, 2, 16, 10, 5, 28, 5, 9, 13, 63, 47, 43, 28, 38, 30, 5, 23, 26, 3, 11, 16, 13, 15, 27, 7, 5, 10, 10, 17, 10, 24, 22, 8, 3, 9, 24, 43, 29, 5, 7, 18, 8, 30, 11, 5, 57, 6, 38, 11, 5, 5, 11, 97, 11, 35, 11, 8], \"yaxis\": \"y\"}],                        {\"legend\": {\"itemsizing\": \"constant\", \"title\": {\"text\": \"\\uc2e4\\uc81c\"}, \"tracegroupgap\": 0}, \"margin\": {\"t\": 60}, \"template\": {\"data\": {\"bar\": [{\"error_x\": {\"color\": \"#2a3f5f\"}, \"error_y\": {\"color\": \"#2a3f5f\"}, \"marker\": {\"line\": {\"color\": \"#E5ECF6\", \"width\": 0.5}}, \"type\": \"bar\"}], \"barpolar\": [{\"marker\": {\"line\": {\"color\": \"#E5ECF6\", \"width\": 0.5}}, \"type\": \"barpolar\"}], \"carpet\": [{\"aaxis\": {\"endlinecolor\": \"#2a3f5f\", \"gridcolor\": \"white\", \"linecolor\": \"white\", \"minorgridcolor\": \"white\", \"startlinecolor\": \"#2a3f5f\"}, \"baxis\": {\"endlinecolor\": \"#2a3f5f\", \"gridcolor\": \"white\", \"linecolor\": \"white\", \"minorgridcolor\": \"white\", \"startlinecolor\": \"#2a3f5f\"}, \"type\": \"carpet\"}], \"choropleth\": [{\"colorbar\": {\"outlinewidth\": 0, \"ticks\": \"\"}, \"type\": \"choropleth\"}], \"contour\": [{\"colorbar\": {\"outlinewidth\": 0, \"ticks\": \"\"}, \"colorscale\": [[0.0, \"#0d0887\"], [0.1111111111111111, \"#46039f\"], [0.2222222222222222, \"#7201a8\"], [0.3333333333333333, \"#9c179e\"], [0.4444444444444444, \"#bd3786\"], [0.5555555555555556, \"#d8576b\"], [0.6666666666666666, \"#ed7953\"], [0.7777777777777778, \"#fb9f3a\"], [0.8888888888888888, \"#fdca26\"], [1.0, \"#f0f921\"]], \"type\": \"contour\"}], \"contourcarpet\": [{\"colorbar\": {\"outlinewidth\": 0, \"ticks\": \"\"}, \"type\": \"contourcarpet\"}], \"heatmap\": [{\"colorbar\": {\"outlinewidth\": 0, \"ticks\": \"\"}, \"colorscale\": [[0.0, \"#0d0887\"], [0.1111111111111111, \"#46039f\"], [0.2222222222222222, \"#7201a8\"], [0.3333333333333333, \"#9c179e\"], [0.4444444444444444, \"#bd3786\"], [0.5555555555555556, \"#d8576b\"], [0.6666666666666666, \"#ed7953\"], [0.7777777777777778, \"#fb9f3a\"], [0.8888888888888888, \"#fdca26\"], [1.0, \"#f0f921\"]], \"type\": \"heatmap\"}], \"heatmapgl\": [{\"colorbar\": {\"outlinewidth\": 0, \"ticks\": \"\"}, \"colorscale\": [[0.0, \"#0d0887\"], [0.1111111111111111, \"#46039f\"], [0.2222222222222222, \"#7201a8\"], [0.3333333333333333, \"#9c179e\"], [0.4444444444444444, \"#bd3786\"], [0.5555555555555556, \"#d8576b\"], [0.6666666666666666, \"#ed7953\"], [0.7777777777777778, \"#fb9f3a\"], [0.8888888888888888, \"#fdca26\"], [1.0, \"#f0f921\"]], \"type\": \"heatmapgl\"}], \"histogram\": [{\"marker\": {\"colorbar\": {\"outlinewidth\": 0, \"ticks\": \"\"}}, \"type\": \"histogram\"}], \"histogram2d\": [{\"colorbar\": {\"outlinewidth\": 0, \"ticks\": \"\"}, \"colorscale\": [[0.0, \"#0d0887\"], [0.1111111111111111, \"#46039f\"], [0.2222222222222222, \"#7201a8\"], [0.3333333333333333, \"#9c179e\"], [0.4444444444444444, \"#bd3786\"], [0.5555555555555556, \"#d8576b\"], [0.6666666666666666, \"#ed7953\"], [0.7777777777777778, \"#fb9f3a\"], [0.8888888888888888, \"#fdca26\"], [1.0, \"#f0f921\"]], \"type\": \"histogram2d\"}], \"histogram2dcontour\": [{\"colorbar\": {\"outlinewidth\": 0, \"ticks\": \"\"}, \"colorscale\": [[0.0, \"#0d0887\"], [0.1111111111111111, \"#46039f\"], [0.2222222222222222, \"#7201a8\"], [0.3333333333333333, \"#9c179e\"], [0.4444444444444444, \"#bd3786\"], [0.5555555555555556, \"#d8576b\"], [0.6666666666666666, \"#ed7953\"], [0.7777777777777778, \"#fb9f3a\"], [0.8888888888888888, \"#fdca26\"], [1.0, \"#f0f921\"]], \"type\": \"histogram2dcontour\"}], \"mesh3d\": [{\"colorbar\": {\"outlinewidth\": 0, \"ticks\": \"\"}, \"type\": \"mesh3d\"}], \"parcoords\": [{\"line\": {\"colorbar\": {\"outlinewidth\": 0, \"ticks\": \"\"}}, \"type\": \"parcoords\"}], \"pie\": [{\"automargin\": true, \"type\": \"pie\"}], \"scatter\": [{\"marker\": {\"colorbar\": {\"outlinewidth\": 0, \"ticks\": \"\"}}, \"type\": \"scatter\"}], \"scatter3d\": [{\"line\": {\"colorbar\": {\"outlinewidth\": 0, \"ticks\": \"\"}}, \"marker\": {\"colorbar\": {\"outlinewidth\": 0, \"ticks\": \"\"}}, \"type\": \"scatter3d\"}], \"scattercarpet\": [{\"marker\": {\"colorbar\": {\"outlinewidth\": 0, \"ticks\": \"\"}}, \"type\": \"scattercarpet\"}], \"scattergeo\": [{\"marker\": {\"colorbar\": {\"outlinewidth\": 0, \"ticks\": \"\"}}, \"type\": \"scattergeo\"}], \"scattergl\": [{\"marker\": {\"colorbar\": {\"outlinewidth\": 0, \"ticks\": \"\"}}, \"type\": \"scattergl\"}], \"scattermapbox\": [{\"marker\": {\"colorbar\": {\"outlinewidth\": 0, \"ticks\": \"\"}}, \"type\": \"scattermapbox\"}], \"scatterpolar\": [{\"marker\": {\"colorbar\": {\"outlinewidth\": 0, \"ticks\": \"\"}}, \"type\": \"scatterpolar\"}], \"scatterpolargl\": [{\"marker\": {\"colorbar\": {\"outlinewidth\": 0, \"ticks\": \"\"}}, \"type\": \"scatterpolargl\"}], \"scatterternary\": [{\"marker\": {\"colorbar\": {\"outlinewidth\": 0, \"ticks\": \"\"}}, \"type\": \"scatterternary\"}], \"surface\": [{\"colorbar\": {\"outlinewidth\": 0, \"ticks\": \"\"}, \"colorscale\": [[0.0, \"#0d0887\"], [0.1111111111111111, \"#46039f\"], [0.2222222222222222, \"#7201a8\"], [0.3333333333333333, \"#9c179e\"], [0.4444444444444444, \"#bd3786\"], [0.5555555555555556, \"#d8576b\"], [0.6666666666666666, \"#ed7953\"], [0.7777777777777778, \"#fb9f3a\"], [0.8888888888888888, \"#fdca26\"], [1.0, \"#f0f921\"]], \"type\": \"surface\"}], \"table\": [{\"cells\": {\"fill\": {\"color\": \"#EBF0F8\"}, \"line\": {\"color\": \"white\"}}, \"header\": {\"fill\": {\"color\": \"#C8D4E3\"}, \"line\": {\"color\": \"white\"}}, \"type\": \"table\"}]}, \"layout\": {\"annotationdefaults\": {\"arrowcolor\": \"#2a3f5f\", \"arrowhead\": 0, \"arrowwidth\": 1}, \"coloraxis\": {\"colorbar\": {\"outlinewidth\": 0, \"ticks\": \"\"}}, \"colorscale\": {\"diverging\": [[0, \"#8e0152\"], [0.1, \"#c51b7d\"], [0.2, \"#de77ae\"], [0.3, \"#f1b6da\"], [0.4, \"#fde0ef\"], [0.5, \"#f7f7f7\"], [0.6, \"#e6f5d0\"], [0.7, \"#b8e186\"], [0.8, \"#7fbc41\"], [0.9, \"#4d9221\"], [1, \"#276419\"]], \"sequential\": [[0.0, \"#0d0887\"], [0.1111111111111111, \"#46039f\"], [0.2222222222222222, \"#7201a8\"], [0.3333333333333333, \"#9c179e\"], [0.4444444444444444, \"#bd3786\"], [0.5555555555555556, \"#d8576b\"], [0.6666666666666666, \"#ed7953\"], [0.7777777777777778, \"#fb9f3a\"], [0.8888888888888888, \"#fdca26\"], [1.0, \"#f0f921\"]], \"sequentialminus\": [[0.0, \"#0d0887\"], [0.1111111111111111, \"#46039f\"], [0.2222222222222222, \"#7201a8\"], [0.3333333333333333, \"#9c179e\"], [0.4444444444444444, \"#bd3786\"], [0.5555555555555556, \"#d8576b\"], [0.6666666666666666, \"#ed7953\"], [0.7777777777777778, \"#fb9f3a\"], [0.8888888888888888, \"#fdca26\"], [1.0, \"#f0f921\"]]}, \"colorway\": [\"#636efa\", \"#EF553B\", \"#00cc96\", \"#ab63fa\", \"#FFA15A\", \"#19d3f3\", \"#FF6692\", \"#B6E880\", \"#FF97FF\", \"#FECB52\"], \"font\": {\"color\": \"#2a3f5f\"}, \"geo\": {\"bgcolor\": \"white\", \"lakecolor\": \"white\", \"landcolor\": \"#E5ECF6\", \"showlakes\": true, \"showland\": true, \"subunitcolor\": \"white\"}, \"hoverlabel\": {\"align\": \"left\"}, \"hovermode\": \"closest\", \"mapbox\": {\"style\": \"light\"}, \"paper_bgcolor\": \"white\", \"plot_bgcolor\": \"#E5ECF6\", \"polar\": {\"angularaxis\": {\"gridcolor\": \"white\", \"linecolor\": \"white\", \"ticks\": \"\"}, \"bgcolor\": \"#E5ECF6\", \"radialaxis\": {\"gridcolor\": \"white\", \"linecolor\": \"white\", \"ticks\": \"\"}}, \"scene\": {\"xaxis\": {\"backgroundcolor\": \"#E5ECF6\", \"gridcolor\": \"white\", \"gridwidth\": 2, \"linecolor\": \"white\", \"showbackground\": true, \"ticks\": \"\", \"zerolinecolor\": \"white\"}, \"yaxis\": {\"backgroundcolor\": \"#E5ECF6\", \"gridcolor\": \"white\", \"gridwidth\": 2, \"linecolor\": \"white\", \"showbackground\": true, \"ticks\": \"\", \"zerolinecolor\": \"white\"}, \"zaxis\": {\"backgroundcolor\": \"#E5ECF6\", \"gridcolor\": \"white\", \"gridwidth\": 2, \"linecolor\": \"white\", \"showbackground\": true, \"ticks\": \"\", \"zerolinecolor\": \"white\"}}, \"shapedefaults\": {\"line\": {\"color\": \"#2a3f5f\"}}, \"ternary\": {\"aaxis\": {\"gridcolor\": \"white\", \"linecolor\": \"white\", \"ticks\": \"\"}, \"baxis\": {\"gridcolor\": \"white\", \"linecolor\": \"white\", \"ticks\": \"\"}, \"bgcolor\": \"#E5ECF6\", \"caxis\": {\"gridcolor\": \"white\", \"linecolor\": \"white\", \"ticks\": \"\"}}, \"title\": {\"x\": 0.05}, \"xaxis\": {\"automargin\": true, \"gridcolor\": \"white\", \"linecolor\": \"white\", \"ticks\": \"\", \"title\": {\"standoff\": 15}, \"zerolinecolor\": \"white\", \"zerolinewidth\": 2}, \"yaxis\": {\"automargin\": true, \"gridcolor\": \"white\", \"linecolor\": \"white\", \"ticks\": \"\", \"title\": {\"standoff\": 15}, \"zerolinecolor\": \"white\", \"zerolinewidth\": 2}}}, \"xaxis\": {\"anchor\": \"y\", \"domain\": [0.0, 1.0], \"title\": {\"text\": \"\\uc608\\uce21\"}}, \"yaxis\": {\"anchor\": \"x\", \"domain\": [0.0, 1.0], \"title\": {\"text\": \"length\"}}},                        {\"responsive\": true}                    ).then(function(){\n",
       "                            \n",
       "var gd = document.getElementById('187297f7-f722-417b-99c8-82ccfaf3189a');\n",
       "var x = new MutationObserver(function (mutations, observer) {{\n",
       "        var display = window.getComputedStyle(gd).display;\n",
       "        if (!display || display === 'none') {{\n",
       "            console.log([gd, 'removed!']);\n",
       "            Plotly.purge(gd);\n",
       "            observer.disconnect();\n",
       "        }}\n",
       "}});\n",
       "\n",
       "// Listen for the removal of the full notebook cells\n",
       "var notebookContainer = gd.closest('#notebook-container');\n",
       "if (notebookContainer) {{\n",
       "    x.observe(notebookContainer, {childList: true});\n",
       "}}\n",
       "\n",
       "// Listen for the clearing of the current output cell\n",
       "var outputEl = gd.closest('.output');\n",
       "if (outputEl) {{\n",
       "    x.observe(outputEl, {childList: true});\n",
       "}}\n",
       "\n",
       "                        })                };                });            </script>        </div>"
      ]
     },
     "metadata": {},
     "output_type": "display_data"
    }
   ],
   "source": [
    "#실제값으로 색 구분\n",
    "fig = px.scatter(scat, x = '예측', y = 'length',color = '실제', size = \"length\")\n",
    "fig.show()"
   ]
  },
  {
   "cell_type": "code",
   "execution_count": 41,
   "metadata": {},
   "outputs": [
    {
     "data": {
      "application/vnd.plotly.v1+json": {
       "config": {
        "plotlyServerURL": "https://plot.ly"
       },
       "data": [
        {
         "hovertemplate": "예측=%{x}<br>length=%{marker.size}<br>score=%{marker.color}<extra></extra>",
         "legendgroup": "",
         "marker": {
          "color": [
           10,
           10,
           8,
           8,
           8,
           10,
           10,
           8,
           10,
           10,
           10,
           10,
           5.2,
           8,
           8.8,
           10,
           9.6,
           10,
           9.6,
           10,
           8,
           10,
           10,
           7.6,
           10,
           10,
           10,
           8,
           10,
           10,
           10,
           10,
           10,
           10,
           9.6,
           10,
           9.6,
           8,
           10,
           10,
           10,
           10,
           10,
           10,
           10,
           2,
           8,
           8.8,
           3.6,
           10,
           10,
           8,
           8.4,
           10,
           10,
           10,
           10,
           10,
           8.8,
           10,
           10,
           10,
           10,
           10,
           10,
           10,
           8.4,
           5.6,
           8,
           10,
           10,
           4,
           10,
           8,
           4.8,
           10,
           8,
           10,
           10,
           10,
           10,
           9.2,
           10,
           10,
           10,
           10,
           10,
           10,
           10,
           10,
           10,
           10,
           10,
           10,
           6.4,
           10,
           10,
           10,
           10,
           10,
           10,
           10,
           8,
           8,
           10,
           10,
           8.8,
           10,
           10,
           10,
           10,
           7.2,
           4.4,
           10,
           10,
           10,
           10,
           10,
           10,
           10,
           10,
           8.8,
           8,
           8,
           10,
           10,
           10,
           10,
           10,
           8,
           10,
           10,
           10,
           10,
           10,
           8,
           10,
           10,
           9.2,
           7.2,
           10,
           10,
           10,
           10,
           10,
           10,
           10,
           10,
           9.2,
           10,
           8.4,
           10,
           10,
           9.6,
           10,
           10,
           8.8,
           10,
           8,
           10,
           7.2,
           10,
           10,
           8,
           8,
           10,
           10,
           10,
           10,
           10,
           10,
           9.2,
           10,
           10,
           8,
           7.6,
           10,
           10,
           10,
           8,
           8.4,
           8.8,
           6.4,
           6.8,
           6.4,
           10,
           9.6,
           10,
           9.6,
           10,
           10,
           8,
           10,
           8,
           10,
           10,
           6,
           9.6,
           10,
           7.2,
           10,
           8,
           10,
           10,
           10,
           10,
           4,
           10,
           10,
           10,
           10,
           10,
           10,
           10,
           8,
           8,
           10,
           8.8,
           10,
           10,
           10,
           8,
           10,
           10,
           8,
           10,
           7.6,
           10,
           9.2,
           8,
           10,
           10,
           8,
           10,
           10,
           10,
           10,
           10,
           8.4,
           10,
           10,
           10,
           10,
           10,
           10,
           10,
           8,
           10,
           10,
           10,
           10,
           10,
           10,
           7.2,
           10,
           10,
           10,
           10,
           9.6,
           10,
           10,
           8,
           10,
           10,
           10,
           10,
           10,
           6,
           8,
           10,
           10,
           10,
           8,
           7.2,
           10,
           10,
           10,
           9.6,
           10,
           10,
           10,
           10,
           10,
           10,
           10,
           10,
           10,
           9.6,
           10,
           10,
           10,
           10,
           8,
           10,
           10,
           10,
           8.8,
           10,
           10,
           4,
           10,
           7.6,
           10,
           10,
           8,
           4.4,
           10,
           10,
           10,
           9.2,
           10,
           10,
           10,
           8,
           10,
           7.2,
           10,
           10,
           8,
           10,
           10,
           10,
           8,
           8,
           10,
           9.2,
           8,
           8,
           10,
           10,
           10,
           10,
           10,
           10,
           8,
           10,
           8,
           9.2,
           10,
           10,
           8,
           10,
           10,
           6,
           8.4,
           10,
           10,
           10,
           10,
           10,
           10,
           10,
           10,
           10,
           10,
           10,
           9.2,
           8,
           10,
           10,
           10,
           9.6,
           10,
           10,
           8,
           8,
           7.6,
           10,
           9.6,
           8,
           10,
           8,
           10,
           10,
           10,
           8,
           10,
           10,
           2,
           9.6,
           10,
           10,
           8,
           10,
           10,
           6,
           10,
           10,
           10,
           10,
           10,
           9.2,
           10,
           10,
           8.4,
           9.2,
           10,
           10,
           9.6,
           8,
           10,
           10,
           8,
           6,
           10,
           10,
           10,
           10,
           10,
           10,
           8.4,
           4,
           10,
           10,
           8.4,
           10,
           10,
           10,
           6.8,
           10,
           10,
           9.2,
           10,
           10,
           10,
           10,
           8,
           10,
           8.4,
           10,
           10,
           8,
           10,
           10,
           8.8,
           10,
           8,
           9.6,
           8.4,
           10,
           10,
           10,
           10,
           2,
           9.2,
           10,
           10,
           10,
           8,
           9.2,
           10,
           10,
           10,
           10,
           10,
           8,
           9.2,
           10,
           10,
           9.6,
           10,
           8.4,
           10,
           10,
           10,
           10,
           9.6,
           10,
           10,
           10,
           8,
           10,
           10,
           10,
           9.2,
           10,
           10,
           10,
           8.8,
           10,
           2,
           8
          ],
          "coloraxis": "coloraxis",
          "size": [
           49,
           11,
           37,
           41,
           226,
           11,
           10,
           18,
           71,
           5,
           5,
           56,
           125,
           5,
           48,
           100,
           44,
           28,
           98,
           7,
           23,
           20,
           6,
           78,
           16,
           104,
           5,
           5,
           3,
           3,
           7,
           12,
           55,
           14,
           166,
           70,
           38,
           105,
           8,
           18,
           73,
           5,
           8,
           13,
           13,
           14,
           92,
           252,
           70,
           6,
           79,
           53,
           62,
           17,
           10,
           39,
           4,
           11,
           17,
           14,
           35,
           23,
           5,
           16,
           6,
           64,
           191,
           125,
           8,
           10,
           83,
           177,
           12,
           14,
           197,
           83,
           171,
           23,
           19,
           21,
           38,
           15,
           18,
           30,
           28,
           34,
           9,
           16,
           6,
           13,
           22,
           61,
           24,
           5,
           103,
           8,
           14,
           9,
           13,
           142,
           8,
           20,
           71,
           44,
           5,
           13,
           104,
           11,
           16,
           15,
           15,
           71,
           150,
           87,
           5,
           11,
           12,
           153,
           20,
           7,
           10,
           89,
           9,
           156,
           10,
           36,
           5,
           32,
           8,
           5,
           17,
           38,
           106,
           7,
           9,
           5,
           42,
           7,
           37,
           28,
           9,
           6,
           123,
           23,
           5,
           28,
           5,
           27,
           52,
           5,
           77,
           31,
           6,
           29,
           10,
           8,
           157,
           15,
           48,
           13,
           181,
           86,
           9,
           6,
           57,
           5,
           12,
           11,
           9,
           8,
           30,
           30,
           23,
           8,
           68,
           35,
           5,
           5,
           10,
           114,
           114,
           102,
           144,
           43,
           103,
           18,
           198,
           19,
           33,
           344,
           66,
           14,
           5,
           35,
           8,
           6,
           25,
           34,
           19,
           116,
           44,
           153,
           16,
           88,
           66,
           16,
           205,
           7,
           9,
           8,
           25,
           10,
           285,
           39,
           9,
           14,
           10,
           24,
           35,
           10,
           6,
           193,
           10,
           5,
           137,
           50,
           103,
           190,
           56,
           5,
           25,
           120,
           11,
           31,
           24,
           6,
           62,
           6,
           114,
           12,
           42,
           99,
           21,
           14,
           228,
           12,
           25,
           38,
           11,
           14,
           5,
           21,
           63,
           85,
           12,
           11,
           30,
           22,
           30,
           18,
           104,
           23,
           92,
           61,
           6,
           13,
           10,
           136,
           5,
           139,
           4,
           19,
           6,
           66,
           22,
           6,
           214,
           173,
           7,
           77,
           6,
           8,
           4,
           137,
           71,
           12,
           6,
           177,
           12,
           32,
           22,
           41,
           5,
           79,
           37,
           5,
           79,
           5,
           5,
           117,
           24,
           155,
           59,
           26,
           25,
           35,
           8,
           8,
           28,
           47,
           6,
           10,
           7,
           22,
           8,
           20,
           10,
           29,
           22,
           86,
           5,
           24,
           14,
           43,
           5,
           41,
           4,
           93,
           3,
           11,
           12,
           30,
           5,
           21,
           9,
           10,
           3,
           33,
           6,
           36,
           24,
           23,
           10,
           84,
           162,
           34,
           63,
           36,
           31,
           7,
           17,
           16,
           5,
           117,
           12,
           94,
           36,
           20,
           127,
           21,
           6,
           64,
           8,
           24,
           110,
           17,
           13,
           16,
           35,
           99,
           11,
           20,
           143,
           8,
           39,
           143,
           6,
           14,
           2,
           74,
           16,
           110,
           137,
           73,
           10,
           293,
           5,
           28,
           13,
           39,
           5,
           204,
           9,
           24,
           51,
           28,
           38,
           27,
           36,
           59,
           13,
           28,
           63,
           47,
           23,
           20,
           43,
           28,
           38,
           30,
           112,
           5,
           84,
           23,
           37,
           162,
           46,
           26,
           86,
           24,
           3,
           206,
           54,
           11,
           16,
           13,
           15,
           27,
           46,
           104,
           7,
           5,
           50,
           10,
           125,
           62,
           10,
           17,
           202,
           10,
           24,
           22,
           8,
           3,
           29,
           9,
           24,
           43,
           157,
           77,
           29,
           124,
           68,
           5,
           7,
           18,
           143,
           8,
           64,
           30,
           18,
           49,
           11,
           5,
           57,
           6,
           74,
           38,
           11,
           5,
           5,
           103,
           11,
           97,
           174,
           196,
           11,
           231,
           35,
           11,
           8,
           113
          ],
          "sizemode": "area",
          "sizeref": 0.86,
          "symbol": "circle"
         },
         "mode": "markers",
         "name": "",
         "orientation": "v",
         "showlegend": false,
         "type": "scatter",
         "x": [
          0.77,
          0.09,
          0.48,
          0.56,
          0.99,
          0.06,
          0.06,
          0.19,
          0.84,
          0.02,
          0.02,
          0.81,
          0.85,
          0.01,
          0.73,
          0.4,
          0.62,
          0.59,
          0.92,
          0.04,
          0.49,
          0.3,
          0.03,
          0.77,
          0.15,
          0.75,
          0.02,
          0.02,
          0.01,
          0.01,
          0.07,
          0.13,
          0.65,
          0.11,
          0.97,
          0.97,
          0.72,
          0.95,
          0.07,
          0.31,
          0.76,
          0.02,
          0.03,
          0.08,
          0.08,
          0.13,
          0.89,
          1,
          0.88,
          0.02,
          0.83,
          0.81,
          0.9,
          0.17,
          0.07,
          0.61,
          0.01,
          0.06,
          0.23,
          0.11,
          0.29,
          0.18,
          0.01,
          0.17,
          0.02,
          0.43,
          0.84,
          0.92,
          0.04,
          0.06,
          0.89,
          0.91,
          0.2,
          0.11,
          0.99,
          0.8,
          0.86,
          0.14,
          0.33,
          0.32,
          0.73,
          0.15,
          0.31,
          0.5,
          0.28,
          0.51,
          0.06,
          0.17,
          0.03,
          0.17,
          0.27,
          0.51,
          0.4,
          0.02,
          0.93,
          0.04,
          0.13,
          0.06,
          0.09,
          0.88,
          0.05,
          0.26,
          0.9,
          0.57,
          0.02,
          0.17,
          0.96,
          0.16,
          0.13,
          0.11,
          0.11,
          0.94,
          0.98,
          0.7,
          0,
          0.08,
          0.09,
          0.89,
          0.27,
          0.05,
          0.07,
          0.96,
          0.06,
          0.99,
          0.07,
          0.62,
          0.02,
          0.47,
          0.08,
          0.02,
          0.18,
          0.6,
          0.98,
          0.04,
          0.06,
          0.02,
          0.64,
          0.03,
          0.7,
          0.51,
          0.04,
          0.03,
          0.97,
          0.3,
          0.02,
          0.67,
          0.02,
          0.4,
          0.67,
          0.02,
          0.79,
          0.44,
          0.03,
          0.23,
          0.06,
          0.05,
          0.98,
          0.14,
          0.41,
          0.09,
          0.96,
          0.97,
          0.04,
          0.03,
          0.43,
          0.02,
          0.06,
          0.04,
          0.06,
          0.05,
          0.61,
          0.55,
          0.19,
          0.05,
          0.96,
          0.63,
          0.02,
          0.02,
          0.04,
          0.8,
          0.81,
          0.94,
          0.98,
          0.54,
          0.86,
          0.39,
          0.96,
          0.29,
          0.7,
          0.93,
          0.79,
          0.36,
          0.02,
          0.53,
          0.04,
          0.03,
          0.26,
          0.63,
          0.32,
          0.96,
          0.7,
          0.98,
          0.2,
          0.88,
          0.87,
          0.15,
          0.99,
          0.03,
          0.05,
          0.04,
          0.36,
          0.1,
          0.88,
          0.56,
          0.04,
          0.11,
          0.05,
          0.4,
          0.59,
          0.05,
          0.03,
          0.89,
          0.05,
          0.01,
          0.95,
          0.8,
          0.93,
          0.97,
          0.85,
          0.01,
          0.39,
          0.97,
          0.09,
          0.6,
          0.33,
          0.03,
          0.48,
          0.03,
          0.93,
          0.08,
          0.88,
          0.83,
          0.37,
          0.14,
          0.97,
          0.09,
          0.55,
          0.69,
          0.06,
          0.24,
          0.02,
          0.19,
          0.79,
          0.82,
          0.08,
          0.07,
          0.53,
          0.29,
          0.47,
          0.17,
          0.48,
          0.33,
          0.67,
          0.59,
          0.02,
          0.13,
          0.07,
          0.95,
          0.02,
          0.3,
          0.01,
          0.16,
          0.03,
          0.73,
          0.37,
          0.03,
          0.69,
          0.99,
          0.03,
          0.92,
          0.03,
          0.03,
          0.01,
          0.78,
          0.71,
          0.1,
          0.03,
          0.99,
          0.07,
          0.28,
          0.3,
          0.79,
          0.02,
          0.8,
          0.49,
          0.02,
          0.95,
          0.02,
          0.02,
          0.92,
          0.22,
          0.99,
          0.68,
          0.4,
          0.34,
          0.64,
          0.05,
          0.05,
          0.48,
          0.79,
          0.07,
          0.07,
          0.04,
          0.38,
          0.03,
          0.47,
          0.09,
          0.37,
          0.32,
          0.85,
          0.02,
          0.36,
          0.23,
          0.43,
          0.02,
          0.79,
          0.01,
          0.97,
          0.01,
          0.08,
          0.08,
          0.41,
          0.02,
          0.3,
          0.04,
          0.07,
          0.01,
          0.32,
          0.03,
          0.41,
          0.5,
          0.49,
          0.06,
          0.91,
          0.82,
          0.58,
          0.71,
          0.72,
          0.5,
          0.04,
          0.13,
          0.22,
          0.02,
          0.98,
          0.11,
          0.89,
          0.61,
          0.31,
          0.81,
          0.32,
          0.03,
          0.89,
          0.04,
          0.42,
          0.9,
          0.27,
          0.13,
          0.31,
          0.39,
          0.94,
          0.08,
          0.14,
          0.99,
          0.04,
          0.59,
          0.81,
          0.03,
          0.12,
          0,
          0.94,
          0.2,
          0.93,
          0.92,
          0.91,
          0.06,
          0.97,
          0.02,
          0.23,
          0.1,
          0.84,
          0.01,
          0.88,
          0.06,
          0.47,
          0.61,
          0.38,
          0.58,
          0.58,
          0.46,
          0.69,
          0.06,
          0.25,
          0.58,
          0.41,
          0.56,
          0.55,
          0.47,
          0.23,
          0.8,
          0.3,
          1,
          0.02,
          0.73,
          0.19,
          0.25,
          0.98,
          0.73,
          0.33,
          0.85,
          0.32,
          0.01,
          0.99,
          0.73,
          0.06,
          0.32,
          0.1,
          0.14,
          0.36,
          0.77,
          0.96,
          0.03,
          0.02,
          0.5,
          0.05,
          0.99,
          0.71,
          0.07,
          0.13,
          0.98,
          0.07,
          0.47,
          0.22,
          0.05,
          0.01,
          0.64,
          0.03,
          0.15,
          0.45,
          0.98,
          0.79,
          0.16,
          0.95,
          0.8,
          0.02,
          0.04,
          0.26,
          0.95,
          0.04,
          0.34,
          0.33,
          0.41,
          0.89,
          0.18,
          0.02,
          0.67,
          0.03,
          0.65,
          0.31,
          0.08,
          0.02,
          0.02,
          0.86,
          0.08,
          0.88,
          0.98,
          0.99,
          0.06,
          0.99,
          0.51,
          0.16,
          0.04,
          0.95
         ],
         "xaxis": "x",
         "y": [
          49,
          11,
          37,
          41,
          226,
          11,
          10,
          18,
          71,
          5,
          5,
          56,
          125,
          5,
          48,
          100,
          44,
          28,
          98,
          7,
          23,
          20,
          6,
          78,
          16,
          104,
          5,
          5,
          3,
          3,
          7,
          12,
          55,
          14,
          166,
          70,
          38,
          105,
          8,
          18,
          73,
          5,
          8,
          13,
          13,
          14,
          92,
          252,
          70,
          6,
          79,
          53,
          62,
          17,
          10,
          39,
          4,
          11,
          17,
          14,
          35,
          23,
          5,
          16,
          6,
          64,
          191,
          125,
          8,
          10,
          83,
          177,
          12,
          14,
          197,
          83,
          171,
          23,
          19,
          21,
          38,
          15,
          18,
          30,
          28,
          34,
          9,
          16,
          6,
          13,
          22,
          61,
          24,
          5,
          103,
          8,
          14,
          9,
          13,
          142,
          8,
          20,
          71,
          44,
          5,
          13,
          104,
          11,
          16,
          15,
          15,
          71,
          150,
          87,
          5,
          11,
          12,
          153,
          20,
          7,
          10,
          89,
          9,
          156,
          10,
          36,
          5,
          32,
          8,
          5,
          17,
          38,
          106,
          7,
          9,
          5,
          42,
          7,
          37,
          28,
          9,
          6,
          123,
          23,
          5,
          28,
          5,
          27,
          52,
          5,
          77,
          31,
          6,
          29,
          10,
          8,
          157,
          15,
          48,
          13,
          181,
          86,
          9,
          6,
          57,
          5,
          12,
          11,
          9,
          8,
          30,
          30,
          23,
          8,
          68,
          35,
          5,
          5,
          10,
          114,
          114,
          102,
          144,
          43,
          103,
          18,
          198,
          19,
          33,
          344,
          66,
          14,
          5,
          35,
          8,
          6,
          25,
          34,
          19,
          116,
          44,
          153,
          16,
          88,
          66,
          16,
          205,
          7,
          9,
          8,
          25,
          10,
          285,
          39,
          9,
          14,
          10,
          24,
          35,
          10,
          6,
          193,
          10,
          5,
          137,
          50,
          103,
          190,
          56,
          5,
          25,
          120,
          11,
          31,
          24,
          6,
          62,
          6,
          114,
          12,
          42,
          99,
          21,
          14,
          228,
          12,
          25,
          38,
          11,
          14,
          5,
          21,
          63,
          85,
          12,
          11,
          30,
          22,
          30,
          18,
          104,
          23,
          92,
          61,
          6,
          13,
          10,
          136,
          5,
          139,
          4,
          19,
          6,
          66,
          22,
          6,
          214,
          173,
          7,
          77,
          6,
          8,
          4,
          137,
          71,
          12,
          6,
          177,
          12,
          32,
          22,
          41,
          5,
          79,
          37,
          5,
          79,
          5,
          5,
          117,
          24,
          155,
          59,
          26,
          25,
          35,
          8,
          8,
          28,
          47,
          6,
          10,
          7,
          22,
          8,
          20,
          10,
          29,
          22,
          86,
          5,
          24,
          14,
          43,
          5,
          41,
          4,
          93,
          3,
          11,
          12,
          30,
          5,
          21,
          9,
          10,
          3,
          33,
          6,
          36,
          24,
          23,
          10,
          84,
          162,
          34,
          63,
          36,
          31,
          7,
          17,
          16,
          5,
          117,
          12,
          94,
          36,
          20,
          127,
          21,
          6,
          64,
          8,
          24,
          110,
          17,
          13,
          16,
          35,
          99,
          11,
          20,
          143,
          8,
          39,
          143,
          6,
          14,
          2,
          74,
          16,
          110,
          137,
          73,
          10,
          293,
          5,
          28,
          13,
          39,
          5,
          204,
          9,
          24,
          51,
          28,
          38,
          27,
          36,
          59,
          13,
          28,
          63,
          47,
          23,
          20,
          43,
          28,
          38,
          30,
          112,
          5,
          84,
          23,
          37,
          162,
          46,
          26,
          86,
          24,
          3,
          206,
          54,
          11,
          16,
          13,
          15,
          27,
          46,
          104,
          7,
          5,
          50,
          10,
          125,
          62,
          10,
          17,
          202,
          10,
          24,
          22,
          8,
          3,
          29,
          9,
          24,
          43,
          157,
          77,
          29,
          124,
          68,
          5,
          7,
          18,
          143,
          8,
          64,
          30,
          18,
          49,
          11,
          5,
          57,
          6,
          74,
          38,
          11,
          5,
          5,
          103,
          11,
          97,
          174,
          196,
          11,
          231,
          35,
          11,
          8,
          113
         ],
         "yaxis": "y"
        }
       ],
       "layout": {
        "coloraxis": {
         "colorbar": {
          "title": {
           "text": "score"
          }
         },
         "colorscale": [
          [
           0,
           "#0d0887"
          ],
          [
           0.1111111111111111,
           "#46039f"
          ],
          [
           0.2222222222222222,
           "#7201a8"
          ],
          [
           0.3333333333333333,
           "#9c179e"
          ],
          [
           0.4444444444444444,
           "#bd3786"
          ],
          [
           0.5555555555555556,
           "#d8576b"
          ],
          [
           0.6666666666666666,
           "#ed7953"
          ],
          [
           0.7777777777777778,
           "#fb9f3a"
          ],
          [
           0.8888888888888888,
           "#fdca26"
          ],
          [
           1,
           "#f0f921"
          ]
         ]
        },
        "legend": {
         "itemsizing": "constant",
         "tracegroupgap": 0
        },
        "margin": {
         "t": 60
        },
        "template": {
         "data": {
          "bar": [
           {
            "error_x": {
             "color": "#2a3f5f"
            },
            "error_y": {
             "color": "#2a3f5f"
            },
            "marker": {
             "line": {
              "color": "#E5ECF6",
              "width": 0.5
             }
            },
            "type": "bar"
           }
          ],
          "barpolar": [
           {
            "marker": {
             "line": {
              "color": "#E5ECF6",
              "width": 0.5
             }
            },
            "type": "barpolar"
           }
          ],
          "carpet": [
           {
            "aaxis": {
             "endlinecolor": "#2a3f5f",
             "gridcolor": "white",
             "linecolor": "white",
             "minorgridcolor": "white",
             "startlinecolor": "#2a3f5f"
            },
            "baxis": {
             "endlinecolor": "#2a3f5f",
             "gridcolor": "white",
             "linecolor": "white",
             "minorgridcolor": "white",
             "startlinecolor": "#2a3f5f"
            },
            "type": "carpet"
           }
          ],
          "choropleth": [
           {
            "colorbar": {
             "outlinewidth": 0,
             "ticks": ""
            },
            "type": "choropleth"
           }
          ],
          "contour": [
           {
            "colorbar": {
             "outlinewidth": 0,
             "ticks": ""
            },
            "colorscale": [
             [
              0,
              "#0d0887"
             ],
             [
              0.1111111111111111,
              "#46039f"
             ],
             [
              0.2222222222222222,
              "#7201a8"
             ],
             [
              0.3333333333333333,
              "#9c179e"
             ],
             [
              0.4444444444444444,
              "#bd3786"
             ],
             [
              0.5555555555555556,
              "#d8576b"
             ],
             [
              0.6666666666666666,
              "#ed7953"
             ],
             [
              0.7777777777777778,
              "#fb9f3a"
             ],
             [
              0.8888888888888888,
              "#fdca26"
             ],
             [
              1,
              "#f0f921"
             ]
            ],
            "type": "contour"
           }
          ],
          "contourcarpet": [
           {
            "colorbar": {
             "outlinewidth": 0,
             "ticks": ""
            },
            "type": "contourcarpet"
           }
          ],
          "heatmap": [
           {
            "colorbar": {
             "outlinewidth": 0,
             "ticks": ""
            },
            "colorscale": [
             [
              0,
              "#0d0887"
             ],
             [
              0.1111111111111111,
              "#46039f"
             ],
             [
              0.2222222222222222,
              "#7201a8"
             ],
             [
              0.3333333333333333,
              "#9c179e"
             ],
             [
              0.4444444444444444,
              "#bd3786"
             ],
             [
              0.5555555555555556,
              "#d8576b"
             ],
             [
              0.6666666666666666,
              "#ed7953"
             ],
             [
              0.7777777777777778,
              "#fb9f3a"
             ],
             [
              0.8888888888888888,
              "#fdca26"
             ],
             [
              1,
              "#f0f921"
             ]
            ],
            "type": "heatmap"
           }
          ],
          "heatmapgl": [
           {
            "colorbar": {
             "outlinewidth": 0,
             "ticks": ""
            },
            "colorscale": [
             [
              0,
              "#0d0887"
             ],
             [
              0.1111111111111111,
              "#46039f"
             ],
             [
              0.2222222222222222,
              "#7201a8"
             ],
             [
              0.3333333333333333,
              "#9c179e"
             ],
             [
              0.4444444444444444,
              "#bd3786"
             ],
             [
              0.5555555555555556,
              "#d8576b"
             ],
             [
              0.6666666666666666,
              "#ed7953"
             ],
             [
              0.7777777777777778,
              "#fb9f3a"
             ],
             [
              0.8888888888888888,
              "#fdca26"
             ],
             [
              1,
              "#f0f921"
             ]
            ],
            "type": "heatmapgl"
           }
          ],
          "histogram": [
           {
            "marker": {
             "colorbar": {
              "outlinewidth": 0,
              "ticks": ""
             }
            },
            "type": "histogram"
           }
          ],
          "histogram2d": [
           {
            "colorbar": {
             "outlinewidth": 0,
             "ticks": ""
            },
            "colorscale": [
             [
              0,
              "#0d0887"
             ],
             [
              0.1111111111111111,
              "#46039f"
             ],
             [
              0.2222222222222222,
              "#7201a8"
             ],
             [
              0.3333333333333333,
              "#9c179e"
             ],
             [
              0.4444444444444444,
              "#bd3786"
             ],
             [
              0.5555555555555556,
              "#d8576b"
             ],
             [
              0.6666666666666666,
              "#ed7953"
             ],
             [
              0.7777777777777778,
              "#fb9f3a"
             ],
             [
              0.8888888888888888,
              "#fdca26"
             ],
             [
              1,
              "#f0f921"
             ]
            ],
            "type": "histogram2d"
           }
          ],
          "histogram2dcontour": [
           {
            "colorbar": {
             "outlinewidth": 0,
             "ticks": ""
            },
            "colorscale": [
             [
              0,
              "#0d0887"
             ],
             [
              0.1111111111111111,
              "#46039f"
             ],
             [
              0.2222222222222222,
              "#7201a8"
             ],
             [
              0.3333333333333333,
              "#9c179e"
             ],
             [
              0.4444444444444444,
              "#bd3786"
             ],
             [
              0.5555555555555556,
              "#d8576b"
             ],
             [
              0.6666666666666666,
              "#ed7953"
             ],
             [
              0.7777777777777778,
              "#fb9f3a"
             ],
             [
              0.8888888888888888,
              "#fdca26"
             ],
             [
              1,
              "#f0f921"
             ]
            ],
            "type": "histogram2dcontour"
           }
          ],
          "mesh3d": [
           {
            "colorbar": {
             "outlinewidth": 0,
             "ticks": ""
            },
            "type": "mesh3d"
           }
          ],
          "parcoords": [
           {
            "line": {
             "colorbar": {
              "outlinewidth": 0,
              "ticks": ""
             }
            },
            "type": "parcoords"
           }
          ],
          "pie": [
           {
            "automargin": true,
            "type": "pie"
           }
          ],
          "scatter": [
           {
            "marker": {
             "colorbar": {
              "outlinewidth": 0,
              "ticks": ""
             }
            },
            "type": "scatter"
           }
          ],
          "scatter3d": [
           {
            "line": {
             "colorbar": {
              "outlinewidth": 0,
              "ticks": ""
             }
            },
            "marker": {
             "colorbar": {
              "outlinewidth": 0,
              "ticks": ""
             }
            },
            "type": "scatter3d"
           }
          ],
          "scattercarpet": [
           {
            "marker": {
             "colorbar": {
              "outlinewidth": 0,
              "ticks": ""
             }
            },
            "type": "scattercarpet"
           }
          ],
          "scattergeo": [
           {
            "marker": {
             "colorbar": {
              "outlinewidth": 0,
              "ticks": ""
             }
            },
            "type": "scattergeo"
           }
          ],
          "scattergl": [
           {
            "marker": {
             "colorbar": {
              "outlinewidth": 0,
              "ticks": ""
             }
            },
            "type": "scattergl"
           }
          ],
          "scattermapbox": [
           {
            "marker": {
             "colorbar": {
              "outlinewidth": 0,
              "ticks": ""
             }
            },
            "type": "scattermapbox"
           }
          ],
          "scatterpolar": [
           {
            "marker": {
             "colorbar": {
              "outlinewidth": 0,
              "ticks": ""
             }
            },
            "type": "scatterpolar"
           }
          ],
          "scatterpolargl": [
           {
            "marker": {
             "colorbar": {
              "outlinewidth": 0,
              "ticks": ""
             }
            },
            "type": "scatterpolargl"
           }
          ],
          "scatterternary": [
           {
            "marker": {
             "colorbar": {
              "outlinewidth": 0,
              "ticks": ""
             }
            },
            "type": "scatterternary"
           }
          ],
          "surface": [
           {
            "colorbar": {
             "outlinewidth": 0,
             "ticks": ""
            },
            "colorscale": [
             [
              0,
              "#0d0887"
             ],
             [
              0.1111111111111111,
              "#46039f"
             ],
             [
              0.2222222222222222,
              "#7201a8"
             ],
             [
              0.3333333333333333,
              "#9c179e"
             ],
             [
              0.4444444444444444,
              "#bd3786"
             ],
             [
              0.5555555555555556,
              "#d8576b"
             ],
             [
              0.6666666666666666,
              "#ed7953"
             ],
             [
              0.7777777777777778,
              "#fb9f3a"
             ],
             [
              0.8888888888888888,
              "#fdca26"
             ],
             [
              1,
              "#f0f921"
             ]
            ],
            "type": "surface"
           }
          ],
          "table": [
           {
            "cells": {
             "fill": {
              "color": "#EBF0F8"
             },
             "line": {
              "color": "white"
             }
            },
            "header": {
             "fill": {
              "color": "#C8D4E3"
             },
             "line": {
              "color": "white"
             }
            },
            "type": "table"
           }
          ]
         },
         "layout": {
          "annotationdefaults": {
           "arrowcolor": "#2a3f5f",
           "arrowhead": 0,
           "arrowwidth": 1
          },
          "coloraxis": {
           "colorbar": {
            "outlinewidth": 0,
            "ticks": ""
           }
          },
          "colorscale": {
           "diverging": [
            [
             0,
             "#8e0152"
            ],
            [
             0.1,
             "#c51b7d"
            ],
            [
             0.2,
             "#de77ae"
            ],
            [
             0.3,
             "#f1b6da"
            ],
            [
             0.4,
             "#fde0ef"
            ],
            [
             0.5,
             "#f7f7f7"
            ],
            [
             0.6,
             "#e6f5d0"
            ],
            [
             0.7,
             "#b8e186"
            ],
            [
             0.8,
             "#7fbc41"
            ],
            [
             0.9,
             "#4d9221"
            ],
            [
             1,
             "#276419"
            ]
           ],
           "sequential": [
            [
             0,
             "#0d0887"
            ],
            [
             0.1111111111111111,
             "#46039f"
            ],
            [
             0.2222222222222222,
             "#7201a8"
            ],
            [
             0.3333333333333333,
             "#9c179e"
            ],
            [
             0.4444444444444444,
             "#bd3786"
            ],
            [
             0.5555555555555556,
             "#d8576b"
            ],
            [
             0.6666666666666666,
             "#ed7953"
            ],
            [
             0.7777777777777778,
             "#fb9f3a"
            ],
            [
             0.8888888888888888,
             "#fdca26"
            ],
            [
             1,
             "#f0f921"
            ]
           ],
           "sequentialminus": [
            [
             0,
             "#0d0887"
            ],
            [
             0.1111111111111111,
             "#46039f"
            ],
            [
             0.2222222222222222,
             "#7201a8"
            ],
            [
             0.3333333333333333,
             "#9c179e"
            ],
            [
             0.4444444444444444,
             "#bd3786"
            ],
            [
             0.5555555555555556,
             "#d8576b"
            ],
            [
             0.6666666666666666,
             "#ed7953"
            ],
            [
             0.7777777777777778,
             "#fb9f3a"
            ],
            [
             0.8888888888888888,
             "#fdca26"
            ],
            [
             1,
             "#f0f921"
            ]
           ]
          },
          "colorway": [
           "#636efa",
           "#EF553B",
           "#00cc96",
           "#ab63fa",
           "#FFA15A",
           "#19d3f3",
           "#FF6692",
           "#B6E880",
           "#FF97FF",
           "#FECB52"
          ],
          "font": {
           "color": "#2a3f5f"
          },
          "geo": {
           "bgcolor": "white",
           "lakecolor": "white",
           "landcolor": "#E5ECF6",
           "showlakes": true,
           "showland": true,
           "subunitcolor": "white"
          },
          "hoverlabel": {
           "align": "left"
          },
          "hovermode": "closest",
          "mapbox": {
           "style": "light"
          },
          "paper_bgcolor": "white",
          "plot_bgcolor": "#E5ECF6",
          "polar": {
           "angularaxis": {
            "gridcolor": "white",
            "linecolor": "white",
            "ticks": ""
           },
           "bgcolor": "#E5ECF6",
           "radialaxis": {
            "gridcolor": "white",
            "linecolor": "white",
            "ticks": ""
           }
          },
          "scene": {
           "xaxis": {
            "backgroundcolor": "#E5ECF6",
            "gridcolor": "white",
            "gridwidth": 2,
            "linecolor": "white",
            "showbackground": true,
            "ticks": "",
            "zerolinecolor": "white"
           },
           "yaxis": {
            "backgroundcolor": "#E5ECF6",
            "gridcolor": "white",
            "gridwidth": 2,
            "linecolor": "white",
            "showbackground": true,
            "ticks": "",
            "zerolinecolor": "white"
           },
           "zaxis": {
            "backgroundcolor": "#E5ECF6",
            "gridcolor": "white",
            "gridwidth": 2,
            "linecolor": "white",
            "showbackground": true,
            "ticks": "",
            "zerolinecolor": "white"
           }
          },
          "shapedefaults": {
           "line": {
            "color": "#2a3f5f"
           }
          },
          "ternary": {
           "aaxis": {
            "gridcolor": "white",
            "linecolor": "white",
            "ticks": ""
           },
           "baxis": {
            "gridcolor": "white",
            "linecolor": "white",
            "ticks": ""
           },
           "bgcolor": "#E5ECF6",
           "caxis": {
            "gridcolor": "white",
            "linecolor": "white",
            "ticks": ""
           }
          },
          "title": {
           "x": 0.05
          },
          "xaxis": {
           "automargin": true,
           "gridcolor": "white",
           "linecolor": "white",
           "ticks": "",
           "title": {
            "standoff": 15
           },
           "zerolinecolor": "white",
           "zerolinewidth": 2
          },
          "yaxis": {
           "automargin": true,
           "gridcolor": "white",
           "linecolor": "white",
           "ticks": "",
           "title": {
            "standoff": 15
           },
           "zerolinecolor": "white",
           "zerolinewidth": 2
          }
         }
        },
        "xaxis": {
         "anchor": "y",
         "domain": [
          0,
          1
         ],
         "title": {
          "text": "예측"
         }
        },
        "yaxis": {
         "anchor": "x",
         "domain": [
          0,
          1
         ],
         "title": {
          "text": "length"
         }
        }
       }
      },
      "text/html": [
       "<div>                            <div id=\"b544064f-8223-40e6-90e5-a1fc44a1ce7f\" class=\"plotly-graph-div\" style=\"height:525px; width:100%;\"></div>            <script type=\"text/javascript\">                require([\"plotly\"], function(Plotly) {                    window.PLOTLYENV=window.PLOTLYENV || {};                                    if (document.getElementById(\"b544064f-8223-40e6-90e5-a1fc44a1ce7f\")) {                    Plotly.newPlot(                        \"b544064f-8223-40e6-90e5-a1fc44a1ce7f\",                        [{\"hovertemplate\": \"\\uc608\\uce21=%{x}<br>length=%{marker.size}<br>score=%{marker.color}<extra></extra>\", \"legendgroup\": \"\", \"marker\": {\"color\": [10.0, 10.0, 8.0, 8.0, 8.0, 10.0, 10.0, 8.0, 10.0, 10.0, 10.0, 10.0, 5.2, 8.0, 8.8, 10.0, 9.6, 10.0, 9.6, 10.0, 8.0, 10.0, 10.0, 7.6, 10.0, 10.0, 10.0, 8.0, 10.0, 10.0, 10.0, 10.0, 10.0, 10.0, 9.6, 10.0, 9.6, 8.0, 10.0, 10.0, 10.0, 10.0, 10.0, 10.0, 10.0, 2.0, 8.0, 8.8, 3.6, 10.0, 10.0, 8.0, 8.4, 10.0, 10.0, 10.0, 10.0, 10.0, 8.8, 10.0, 10.0, 10.0, 10.0, 10.0, 10.0, 10.0, 8.4, 5.6, 8.0, 10.0, 10.0, 4.0, 10.0, 8.0, 4.8, 10.0, 8.0, 10.0, 10.0, 10.0, 10.0, 9.2, 10.0, 10.0, 10.0, 10.0, 10.0, 10.0, 10.0, 10.0, 10.0, 10.0, 10.0, 10.0, 6.4, 10.0, 10.0, 10.0, 10.0, 10.0, 10.0, 10.0, 8.0, 8.0, 10.0, 10.0, 8.8, 10.0, 10.0, 10.0, 10.0, 7.2, 4.4, 10.0, 10.0, 10.0, 10.0, 10.0, 10.0, 10.0, 10.0, 8.8, 8.0, 8.0, 10.0, 10.0, 10.0, 10.0, 10.0, 8.0, 10.0, 10.0, 10.0, 10.0, 10.0, 8.0, 10.0, 10.0, 9.2, 7.2, 10.0, 10.0, 10.0, 10.0, 10.0, 10.0, 10.0, 10.0, 9.2, 10.0, 8.4, 10.0, 10.0, 9.6, 10.0, 10.0, 8.8, 10.0, 8.0, 10.0, 7.2, 10.0, 10.0, 8.0, 8.0, 10.0, 10.0, 10.0, 10.0, 10.0, 10.0, 9.2, 10.0, 10.0, 8.0, 7.6, 10.0, 10.0, 10.0, 8.0, 8.4, 8.8, 6.4, 6.8, 6.4, 10.0, 9.6, 10.0, 9.6, 10.0, 10.0, 8.0, 10.0, 8.0, 10.0, 10.0, 6.0, 9.6, 10.0, 7.2, 10.0, 8.0, 10.0, 10.0, 10.0, 10.0, 4.0, 10.0, 10.0, 10.0, 10.0, 10.0, 10.0, 10.0, 8.0, 8.0, 10.0, 8.8, 10.0, 10.0, 10.0, 8.0, 10.0, 10.0, 8.0, 10.0, 7.6, 10.0, 9.2, 8.0, 10.0, 10.0, 8.0, 10.0, 10.0, 10.0, 10.0, 10.0, 8.4, 10.0, 10.0, 10.0, 10.0, 10.0, 10.0, 10.0, 8.0, 10.0, 10.0, 10.0, 10.0, 10.0, 10.0, 7.2, 10.0, 10.0, 10.0, 10.0, 9.6, 10.0, 10.0, 8.0, 10.0, 10.0, 10.0, 10.0, 10.0, 6.0, 8.0, 10.0, 10.0, 10.0, 8.0, 7.2, 10.0, 10.0, 10.0, 9.6, 10.0, 10.0, 10.0, 10.0, 10.0, 10.0, 10.0, 10.0, 10.0, 9.6, 10.0, 10.0, 10.0, 10.0, 8.0, 10.0, 10.0, 10.0, 8.8, 10.0, 10.0, 4.0, 10.0, 7.6, 10.0, 10.0, 8.0, 4.4, 10.0, 10.0, 10.0, 9.2, 10.0, 10.0, 10.0, 8.0, 10.0, 7.2, 10.0, 10.0, 8.0, 10.0, 10.0, 10.0, 8.0, 8.0, 10.0, 9.2, 8.0, 8.0, 10.0, 10.0, 10.0, 10.0, 10.0, 10.0, 8.0, 10.0, 8.0, 9.2, 10.0, 10.0, 8.0, 10.0, 10.0, 6.0, 8.4, 10.0, 10.0, 10.0, 10.0, 10.0, 10.0, 10.0, 10.0, 10.0, 10.0, 10.0, 9.2, 8.0, 10.0, 10.0, 10.0, 9.6, 10.0, 10.0, 8.0, 8.0, 7.6, 10.0, 9.6, 8.0, 10.0, 8.0, 10.0, 10.0, 10.0, 8.0, 10.0, 10.0, 2.0, 9.6, 10.0, 10.0, 8.0, 10.0, 10.0, 6.0, 10.0, 10.0, 10.0, 10.0, 10.0, 9.2, 10.0, 10.0, 8.4, 9.2, 10.0, 10.0, 9.6, 8.0, 10.0, 10.0, 8.0, 6.0, 10.0, 10.0, 10.0, 10.0, 10.0, 10.0, 8.4, 4.0, 10.0, 10.0, 8.4, 10.0, 10.0, 10.0, 6.8, 10.0, 10.0, 9.2, 10.0, 10.0, 10.0, 10.0, 8.0, 10.0, 8.4, 10.0, 10.0, 8.0, 10.0, 10.0, 8.8, 10.0, 8.0, 9.6, 8.4, 10.0, 10.0, 10.0, 10.0, 2.0, 9.2, 10.0, 10.0, 10.0, 8.0, 9.2, 10.0, 10.0, 10.0, 10.0, 10.0, 8.0, 9.2, 10.0, 10.0, 9.6, 10.0, 8.4, 10.0, 10.0, 10.0, 10.0, 9.6, 10.0, 10.0, 10.0, 8.0, 10.0, 10.0, 10.0, 9.2, 10.0, 10.0, 10.0, 8.8, 10.0, 2.0, 8.0], \"coloraxis\": \"coloraxis\", \"size\": [49, 11, 37, 41, 226, 11, 10, 18, 71, 5, 5, 56, 125, 5, 48, 100, 44, 28, 98, 7, 23, 20, 6, 78, 16, 104, 5, 5, 3, 3, 7, 12, 55, 14, 166, 70, 38, 105, 8, 18, 73, 5, 8, 13, 13, 14, 92, 252, 70, 6, 79, 53, 62, 17, 10, 39, 4, 11, 17, 14, 35, 23, 5, 16, 6, 64, 191, 125, 8, 10, 83, 177, 12, 14, 197, 83, 171, 23, 19, 21, 38, 15, 18, 30, 28, 34, 9, 16, 6, 13, 22, 61, 24, 5, 103, 8, 14, 9, 13, 142, 8, 20, 71, 44, 5, 13, 104, 11, 16, 15, 15, 71, 150, 87, 5, 11, 12, 153, 20, 7, 10, 89, 9, 156, 10, 36, 5, 32, 8, 5, 17, 38, 106, 7, 9, 5, 42, 7, 37, 28, 9, 6, 123, 23, 5, 28, 5, 27, 52, 5, 77, 31, 6, 29, 10, 8, 157, 15, 48, 13, 181, 86, 9, 6, 57, 5, 12, 11, 9, 8, 30, 30, 23, 8, 68, 35, 5, 5, 10, 114, 114, 102, 144, 43, 103, 18, 198, 19, 33, 344, 66, 14, 5, 35, 8, 6, 25, 34, 19, 116, 44, 153, 16, 88, 66, 16, 205, 7, 9, 8, 25, 10, 285, 39, 9, 14, 10, 24, 35, 10, 6, 193, 10, 5, 137, 50, 103, 190, 56, 5, 25, 120, 11, 31, 24, 6, 62, 6, 114, 12, 42, 99, 21, 14, 228, 12, 25, 38, 11, 14, 5, 21, 63, 85, 12, 11, 30, 22, 30, 18, 104, 23, 92, 61, 6, 13, 10, 136, 5, 139, 4, 19, 6, 66, 22, 6, 214, 173, 7, 77, 6, 8, 4, 137, 71, 12, 6, 177, 12, 32, 22, 41, 5, 79, 37, 5, 79, 5, 5, 117, 24, 155, 59, 26, 25, 35, 8, 8, 28, 47, 6, 10, 7, 22, 8, 20, 10, 29, 22, 86, 5, 24, 14, 43, 5, 41, 4, 93, 3, 11, 12, 30, 5, 21, 9, 10, 3, 33, 6, 36, 24, 23, 10, 84, 162, 34, 63, 36, 31, 7, 17, 16, 5, 117, 12, 94, 36, 20, 127, 21, 6, 64, 8, 24, 110, 17, 13, 16, 35, 99, 11, 20, 143, 8, 39, 143, 6, 14, 2, 74, 16, 110, 137, 73, 10, 293, 5, 28, 13, 39, 5, 204, 9, 24, 51, 28, 38, 27, 36, 59, 13, 28, 63, 47, 23, 20, 43, 28, 38, 30, 112, 5, 84, 23, 37, 162, 46, 26, 86, 24, 3, 206, 54, 11, 16, 13, 15, 27, 46, 104, 7, 5, 50, 10, 125, 62, 10, 17, 202, 10, 24, 22, 8, 3, 29, 9, 24, 43, 157, 77, 29, 124, 68, 5, 7, 18, 143, 8, 64, 30, 18, 49, 11, 5, 57, 6, 74, 38, 11, 5, 5, 103, 11, 97, 174, 196, 11, 231, 35, 11, 8, 113], \"sizemode\": \"area\", \"sizeref\": 0.86, \"symbol\": \"circle\"}, \"mode\": \"markers\", \"name\": \"\", \"orientation\": \"v\", \"showlegend\": false, \"type\": \"scatter\", \"x\": [0.77, 0.09, 0.48, 0.56, 0.99, 0.06, 0.06, 0.19, 0.84, 0.02, 0.02, 0.81, 0.85, 0.01, 0.73, 0.4, 0.62, 0.59, 0.92, 0.04, 0.49, 0.3, 0.03, 0.77, 0.15, 0.75, 0.02, 0.02, 0.01, 0.01, 0.07, 0.13, 0.65, 0.11, 0.97, 0.97, 0.72, 0.95, 0.07, 0.31, 0.76, 0.02, 0.03, 0.08, 0.08, 0.13, 0.89, 1.0, 0.88, 0.02, 0.83, 0.81, 0.9, 0.17, 0.07, 0.61, 0.01, 0.06, 0.23, 0.11, 0.29, 0.18, 0.01, 0.17, 0.02, 0.43, 0.84, 0.92, 0.04, 0.06, 0.89, 0.91, 0.2, 0.11, 0.99, 0.8, 0.86, 0.14, 0.33, 0.32, 0.73, 0.15, 0.31, 0.5, 0.28, 0.51, 0.06, 0.17, 0.03, 0.17, 0.27, 0.51, 0.4, 0.02, 0.93, 0.04, 0.13, 0.06, 0.09, 0.88, 0.05, 0.26, 0.9, 0.57, 0.02, 0.17, 0.96, 0.16, 0.13, 0.11, 0.11, 0.94, 0.98, 0.7, 0.0, 0.08, 0.09, 0.89, 0.27, 0.05, 0.07, 0.96, 0.06, 0.99, 0.07, 0.62, 0.02, 0.47, 0.08, 0.02, 0.18, 0.6, 0.98, 0.04, 0.06, 0.02, 0.64, 0.03, 0.7, 0.51, 0.04, 0.03, 0.97, 0.3, 0.02, 0.67, 0.02, 0.4, 0.67, 0.02, 0.79, 0.44, 0.03, 0.23, 0.06, 0.05, 0.98, 0.14, 0.41, 0.09, 0.96, 0.97, 0.04, 0.03, 0.43, 0.02, 0.06, 0.04, 0.06, 0.05, 0.61, 0.55, 0.19, 0.05, 0.96, 0.63, 0.02, 0.02, 0.04, 0.8, 0.81, 0.94, 0.98, 0.54, 0.86, 0.39, 0.96, 0.29, 0.7, 0.93, 0.79, 0.36, 0.02, 0.53, 0.04, 0.03, 0.26, 0.63, 0.32, 0.96, 0.7, 0.98, 0.2, 0.88, 0.87, 0.15, 0.99, 0.03, 0.05, 0.04, 0.36, 0.1, 0.88, 0.56, 0.04, 0.11, 0.05, 0.4, 0.59, 0.05, 0.03, 0.89, 0.05, 0.01, 0.95, 0.8, 0.93, 0.97, 0.85, 0.01, 0.39, 0.97, 0.09, 0.6, 0.33, 0.03, 0.48, 0.03, 0.93, 0.08, 0.88, 0.83, 0.37, 0.14, 0.97, 0.09, 0.55, 0.69, 0.06, 0.24, 0.02, 0.19, 0.79, 0.82, 0.08, 0.07, 0.53, 0.29, 0.47, 0.17, 0.48, 0.33, 0.67, 0.59, 0.02, 0.13, 0.07, 0.95, 0.02, 0.3, 0.01, 0.16, 0.03, 0.73, 0.37, 0.03, 0.69, 0.99, 0.03, 0.92, 0.03, 0.03, 0.01, 0.78, 0.71, 0.1, 0.03, 0.99, 0.07, 0.28, 0.3, 0.79, 0.02, 0.8, 0.49, 0.02, 0.95, 0.02, 0.02, 0.92, 0.22, 0.99, 0.68, 0.4, 0.34, 0.64, 0.05, 0.05, 0.48, 0.79, 0.07, 0.07, 0.04, 0.38, 0.03, 0.47, 0.09, 0.37, 0.32, 0.85, 0.02, 0.36, 0.23, 0.43, 0.02, 0.79, 0.01, 0.97, 0.01, 0.08, 0.08, 0.41, 0.02, 0.3, 0.04, 0.07, 0.01, 0.32, 0.03, 0.41, 0.5, 0.49, 0.06, 0.91, 0.82, 0.58, 0.71, 0.72, 0.5, 0.04, 0.13, 0.22, 0.02, 0.98, 0.11, 0.89, 0.61, 0.31, 0.81, 0.32, 0.03, 0.89, 0.04, 0.42, 0.9, 0.27, 0.13, 0.31, 0.39, 0.94, 0.08, 0.14, 0.99, 0.04, 0.59, 0.81, 0.03, 0.12, 0.0, 0.94, 0.2, 0.93, 0.92, 0.91, 0.06, 0.97, 0.02, 0.23, 0.1, 0.84, 0.01, 0.88, 0.06, 0.47, 0.61, 0.38, 0.58, 0.58, 0.46, 0.69, 0.06, 0.25, 0.58, 0.41, 0.56, 0.55, 0.47, 0.23, 0.8, 0.3, 1.0, 0.02, 0.73, 0.19, 0.25, 0.98, 0.73, 0.33, 0.85, 0.32, 0.01, 0.99, 0.73, 0.06, 0.32, 0.1, 0.14, 0.36, 0.77, 0.96, 0.03, 0.02, 0.5, 0.05, 0.99, 0.71, 0.07, 0.13, 0.98, 0.07, 0.47, 0.22, 0.05, 0.01, 0.64, 0.03, 0.15, 0.45, 0.98, 0.79, 0.16, 0.95, 0.8, 0.02, 0.04, 0.26, 0.95, 0.04, 0.34, 0.33, 0.41, 0.89, 0.18, 0.02, 0.67, 0.03, 0.65, 0.31, 0.08, 0.02, 0.02, 0.86, 0.08, 0.88, 0.98, 0.99, 0.06, 0.99, 0.51, 0.16, 0.04, 0.95], \"xaxis\": \"x\", \"y\": [49, 11, 37, 41, 226, 11, 10, 18, 71, 5, 5, 56, 125, 5, 48, 100, 44, 28, 98, 7, 23, 20, 6, 78, 16, 104, 5, 5, 3, 3, 7, 12, 55, 14, 166, 70, 38, 105, 8, 18, 73, 5, 8, 13, 13, 14, 92, 252, 70, 6, 79, 53, 62, 17, 10, 39, 4, 11, 17, 14, 35, 23, 5, 16, 6, 64, 191, 125, 8, 10, 83, 177, 12, 14, 197, 83, 171, 23, 19, 21, 38, 15, 18, 30, 28, 34, 9, 16, 6, 13, 22, 61, 24, 5, 103, 8, 14, 9, 13, 142, 8, 20, 71, 44, 5, 13, 104, 11, 16, 15, 15, 71, 150, 87, 5, 11, 12, 153, 20, 7, 10, 89, 9, 156, 10, 36, 5, 32, 8, 5, 17, 38, 106, 7, 9, 5, 42, 7, 37, 28, 9, 6, 123, 23, 5, 28, 5, 27, 52, 5, 77, 31, 6, 29, 10, 8, 157, 15, 48, 13, 181, 86, 9, 6, 57, 5, 12, 11, 9, 8, 30, 30, 23, 8, 68, 35, 5, 5, 10, 114, 114, 102, 144, 43, 103, 18, 198, 19, 33, 344, 66, 14, 5, 35, 8, 6, 25, 34, 19, 116, 44, 153, 16, 88, 66, 16, 205, 7, 9, 8, 25, 10, 285, 39, 9, 14, 10, 24, 35, 10, 6, 193, 10, 5, 137, 50, 103, 190, 56, 5, 25, 120, 11, 31, 24, 6, 62, 6, 114, 12, 42, 99, 21, 14, 228, 12, 25, 38, 11, 14, 5, 21, 63, 85, 12, 11, 30, 22, 30, 18, 104, 23, 92, 61, 6, 13, 10, 136, 5, 139, 4, 19, 6, 66, 22, 6, 214, 173, 7, 77, 6, 8, 4, 137, 71, 12, 6, 177, 12, 32, 22, 41, 5, 79, 37, 5, 79, 5, 5, 117, 24, 155, 59, 26, 25, 35, 8, 8, 28, 47, 6, 10, 7, 22, 8, 20, 10, 29, 22, 86, 5, 24, 14, 43, 5, 41, 4, 93, 3, 11, 12, 30, 5, 21, 9, 10, 3, 33, 6, 36, 24, 23, 10, 84, 162, 34, 63, 36, 31, 7, 17, 16, 5, 117, 12, 94, 36, 20, 127, 21, 6, 64, 8, 24, 110, 17, 13, 16, 35, 99, 11, 20, 143, 8, 39, 143, 6, 14, 2, 74, 16, 110, 137, 73, 10, 293, 5, 28, 13, 39, 5, 204, 9, 24, 51, 28, 38, 27, 36, 59, 13, 28, 63, 47, 23, 20, 43, 28, 38, 30, 112, 5, 84, 23, 37, 162, 46, 26, 86, 24, 3, 206, 54, 11, 16, 13, 15, 27, 46, 104, 7, 5, 50, 10, 125, 62, 10, 17, 202, 10, 24, 22, 8, 3, 29, 9, 24, 43, 157, 77, 29, 124, 68, 5, 7, 18, 143, 8, 64, 30, 18, 49, 11, 5, 57, 6, 74, 38, 11, 5, 5, 103, 11, 97, 174, 196, 11, 231, 35, 11, 8, 113], \"yaxis\": \"y\"}],                        {\"coloraxis\": {\"colorbar\": {\"title\": {\"text\": \"score\"}}, \"colorscale\": [[0.0, \"#0d0887\"], [0.1111111111111111, \"#46039f\"], [0.2222222222222222, \"#7201a8\"], [0.3333333333333333, \"#9c179e\"], [0.4444444444444444, \"#bd3786\"], [0.5555555555555556, \"#d8576b\"], [0.6666666666666666, \"#ed7953\"], [0.7777777777777778, \"#fb9f3a\"], [0.8888888888888888, \"#fdca26\"], [1.0, \"#f0f921\"]]}, \"legend\": {\"itemsizing\": \"constant\", \"tracegroupgap\": 0}, \"margin\": {\"t\": 60}, \"template\": {\"data\": {\"bar\": [{\"error_x\": {\"color\": \"#2a3f5f\"}, \"error_y\": {\"color\": \"#2a3f5f\"}, \"marker\": {\"line\": {\"color\": \"#E5ECF6\", \"width\": 0.5}}, \"type\": \"bar\"}], \"barpolar\": [{\"marker\": {\"line\": {\"color\": \"#E5ECF6\", \"width\": 0.5}}, \"type\": \"barpolar\"}], \"carpet\": [{\"aaxis\": {\"endlinecolor\": \"#2a3f5f\", \"gridcolor\": \"white\", \"linecolor\": \"white\", \"minorgridcolor\": \"white\", \"startlinecolor\": \"#2a3f5f\"}, \"baxis\": {\"endlinecolor\": \"#2a3f5f\", \"gridcolor\": \"white\", \"linecolor\": \"white\", \"minorgridcolor\": \"white\", \"startlinecolor\": \"#2a3f5f\"}, \"type\": \"carpet\"}], \"choropleth\": [{\"colorbar\": {\"outlinewidth\": 0, \"ticks\": \"\"}, \"type\": \"choropleth\"}], \"contour\": [{\"colorbar\": {\"outlinewidth\": 0, \"ticks\": \"\"}, \"colorscale\": [[0.0, \"#0d0887\"], [0.1111111111111111, \"#46039f\"], [0.2222222222222222, \"#7201a8\"], [0.3333333333333333, \"#9c179e\"], [0.4444444444444444, \"#bd3786\"], [0.5555555555555556, \"#d8576b\"], [0.6666666666666666, \"#ed7953\"], [0.7777777777777778, \"#fb9f3a\"], [0.8888888888888888, \"#fdca26\"], [1.0, \"#f0f921\"]], \"type\": \"contour\"}], \"contourcarpet\": [{\"colorbar\": {\"outlinewidth\": 0, \"ticks\": \"\"}, \"type\": \"contourcarpet\"}], \"heatmap\": [{\"colorbar\": {\"outlinewidth\": 0, \"ticks\": \"\"}, \"colorscale\": [[0.0, \"#0d0887\"], [0.1111111111111111, \"#46039f\"], [0.2222222222222222, \"#7201a8\"], [0.3333333333333333, \"#9c179e\"], [0.4444444444444444, \"#bd3786\"], [0.5555555555555556, \"#d8576b\"], [0.6666666666666666, \"#ed7953\"], [0.7777777777777778, \"#fb9f3a\"], [0.8888888888888888, \"#fdca26\"], [1.0, \"#f0f921\"]], \"type\": \"heatmap\"}], \"heatmapgl\": [{\"colorbar\": {\"outlinewidth\": 0, \"ticks\": \"\"}, \"colorscale\": [[0.0, \"#0d0887\"], [0.1111111111111111, \"#46039f\"], [0.2222222222222222, \"#7201a8\"], [0.3333333333333333, \"#9c179e\"], [0.4444444444444444, \"#bd3786\"], [0.5555555555555556, \"#d8576b\"], [0.6666666666666666, \"#ed7953\"], [0.7777777777777778, \"#fb9f3a\"], [0.8888888888888888, \"#fdca26\"], [1.0, \"#f0f921\"]], \"type\": \"heatmapgl\"}], \"histogram\": [{\"marker\": {\"colorbar\": {\"outlinewidth\": 0, \"ticks\": \"\"}}, \"type\": \"histogram\"}], \"histogram2d\": [{\"colorbar\": {\"outlinewidth\": 0, \"ticks\": \"\"}, \"colorscale\": [[0.0, \"#0d0887\"], [0.1111111111111111, \"#46039f\"], [0.2222222222222222, \"#7201a8\"], [0.3333333333333333, \"#9c179e\"], [0.4444444444444444, \"#bd3786\"], [0.5555555555555556, \"#d8576b\"], [0.6666666666666666, \"#ed7953\"], [0.7777777777777778, \"#fb9f3a\"], [0.8888888888888888, \"#fdca26\"], [1.0, \"#f0f921\"]], \"type\": \"histogram2d\"}], \"histogram2dcontour\": [{\"colorbar\": {\"outlinewidth\": 0, \"ticks\": \"\"}, \"colorscale\": [[0.0, \"#0d0887\"], [0.1111111111111111, \"#46039f\"], [0.2222222222222222, \"#7201a8\"], [0.3333333333333333, \"#9c179e\"], [0.4444444444444444, \"#bd3786\"], [0.5555555555555556, \"#d8576b\"], [0.6666666666666666, \"#ed7953\"], [0.7777777777777778, \"#fb9f3a\"], [0.8888888888888888, \"#fdca26\"], [1.0, \"#f0f921\"]], \"type\": \"histogram2dcontour\"}], \"mesh3d\": [{\"colorbar\": {\"outlinewidth\": 0, \"ticks\": \"\"}, \"type\": \"mesh3d\"}], \"parcoords\": [{\"line\": {\"colorbar\": {\"outlinewidth\": 0, \"ticks\": \"\"}}, \"type\": \"parcoords\"}], \"pie\": [{\"automargin\": true, \"type\": \"pie\"}], \"scatter\": [{\"marker\": {\"colorbar\": {\"outlinewidth\": 0, \"ticks\": \"\"}}, \"type\": \"scatter\"}], \"scatter3d\": [{\"line\": {\"colorbar\": {\"outlinewidth\": 0, \"ticks\": \"\"}}, \"marker\": {\"colorbar\": {\"outlinewidth\": 0, \"ticks\": \"\"}}, \"type\": \"scatter3d\"}], \"scattercarpet\": [{\"marker\": {\"colorbar\": {\"outlinewidth\": 0, \"ticks\": \"\"}}, \"type\": \"scattercarpet\"}], \"scattergeo\": [{\"marker\": {\"colorbar\": {\"outlinewidth\": 0, \"ticks\": \"\"}}, \"type\": \"scattergeo\"}], \"scattergl\": [{\"marker\": {\"colorbar\": {\"outlinewidth\": 0, \"ticks\": \"\"}}, \"type\": \"scattergl\"}], \"scattermapbox\": [{\"marker\": {\"colorbar\": {\"outlinewidth\": 0, \"ticks\": \"\"}}, \"type\": \"scattermapbox\"}], \"scatterpolar\": [{\"marker\": {\"colorbar\": {\"outlinewidth\": 0, \"ticks\": \"\"}}, \"type\": \"scatterpolar\"}], \"scatterpolargl\": [{\"marker\": {\"colorbar\": {\"outlinewidth\": 0, \"ticks\": \"\"}}, \"type\": \"scatterpolargl\"}], \"scatterternary\": [{\"marker\": {\"colorbar\": {\"outlinewidth\": 0, \"ticks\": \"\"}}, \"type\": \"scatterternary\"}], \"surface\": [{\"colorbar\": {\"outlinewidth\": 0, \"ticks\": \"\"}, \"colorscale\": [[0.0, \"#0d0887\"], [0.1111111111111111, \"#46039f\"], [0.2222222222222222, \"#7201a8\"], [0.3333333333333333, \"#9c179e\"], [0.4444444444444444, \"#bd3786\"], [0.5555555555555556, \"#d8576b\"], [0.6666666666666666, \"#ed7953\"], [0.7777777777777778, \"#fb9f3a\"], [0.8888888888888888, \"#fdca26\"], [1.0, \"#f0f921\"]], \"type\": \"surface\"}], \"table\": [{\"cells\": {\"fill\": {\"color\": \"#EBF0F8\"}, \"line\": {\"color\": \"white\"}}, \"header\": {\"fill\": {\"color\": \"#C8D4E3\"}, \"line\": {\"color\": \"white\"}}, \"type\": \"table\"}]}, \"layout\": {\"annotationdefaults\": {\"arrowcolor\": \"#2a3f5f\", \"arrowhead\": 0, \"arrowwidth\": 1}, \"coloraxis\": {\"colorbar\": {\"outlinewidth\": 0, \"ticks\": \"\"}}, \"colorscale\": {\"diverging\": [[0, \"#8e0152\"], [0.1, \"#c51b7d\"], [0.2, \"#de77ae\"], [0.3, \"#f1b6da\"], [0.4, \"#fde0ef\"], [0.5, \"#f7f7f7\"], [0.6, \"#e6f5d0\"], [0.7, \"#b8e186\"], [0.8, \"#7fbc41\"], [0.9, \"#4d9221\"], [1, \"#276419\"]], \"sequential\": [[0.0, \"#0d0887\"], [0.1111111111111111, \"#46039f\"], [0.2222222222222222, \"#7201a8\"], [0.3333333333333333, \"#9c179e\"], [0.4444444444444444, \"#bd3786\"], [0.5555555555555556, \"#d8576b\"], [0.6666666666666666, \"#ed7953\"], [0.7777777777777778, \"#fb9f3a\"], [0.8888888888888888, \"#fdca26\"], [1.0, \"#f0f921\"]], \"sequentialminus\": [[0.0, \"#0d0887\"], [0.1111111111111111, \"#46039f\"], [0.2222222222222222, \"#7201a8\"], [0.3333333333333333, \"#9c179e\"], [0.4444444444444444, \"#bd3786\"], [0.5555555555555556, \"#d8576b\"], [0.6666666666666666, \"#ed7953\"], [0.7777777777777778, \"#fb9f3a\"], [0.8888888888888888, \"#fdca26\"], [1.0, \"#f0f921\"]]}, \"colorway\": [\"#636efa\", \"#EF553B\", \"#00cc96\", \"#ab63fa\", \"#FFA15A\", \"#19d3f3\", \"#FF6692\", \"#B6E880\", \"#FF97FF\", \"#FECB52\"], \"font\": {\"color\": \"#2a3f5f\"}, \"geo\": {\"bgcolor\": \"white\", \"lakecolor\": \"white\", \"landcolor\": \"#E5ECF6\", \"showlakes\": true, \"showland\": true, \"subunitcolor\": \"white\"}, \"hoverlabel\": {\"align\": \"left\"}, \"hovermode\": \"closest\", \"mapbox\": {\"style\": \"light\"}, \"paper_bgcolor\": \"white\", \"plot_bgcolor\": \"#E5ECF6\", \"polar\": {\"angularaxis\": {\"gridcolor\": \"white\", \"linecolor\": \"white\", \"ticks\": \"\"}, \"bgcolor\": \"#E5ECF6\", \"radialaxis\": {\"gridcolor\": \"white\", \"linecolor\": \"white\", \"ticks\": \"\"}}, \"scene\": {\"xaxis\": {\"backgroundcolor\": \"#E5ECF6\", \"gridcolor\": \"white\", \"gridwidth\": 2, \"linecolor\": \"white\", \"showbackground\": true, \"ticks\": \"\", \"zerolinecolor\": \"white\"}, \"yaxis\": {\"backgroundcolor\": \"#E5ECF6\", \"gridcolor\": \"white\", \"gridwidth\": 2, \"linecolor\": \"white\", \"showbackground\": true, \"ticks\": \"\", \"zerolinecolor\": \"white\"}, \"zaxis\": {\"backgroundcolor\": \"#E5ECF6\", \"gridcolor\": \"white\", \"gridwidth\": 2, \"linecolor\": \"white\", \"showbackground\": true, \"ticks\": \"\", \"zerolinecolor\": \"white\"}}, \"shapedefaults\": {\"line\": {\"color\": \"#2a3f5f\"}}, \"ternary\": {\"aaxis\": {\"gridcolor\": \"white\", \"linecolor\": \"white\", \"ticks\": \"\"}, \"baxis\": {\"gridcolor\": \"white\", \"linecolor\": \"white\", \"ticks\": \"\"}, \"bgcolor\": \"#E5ECF6\", \"caxis\": {\"gridcolor\": \"white\", \"linecolor\": \"white\", \"ticks\": \"\"}}, \"title\": {\"x\": 0.05}, \"xaxis\": {\"automargin\": true, \"gridcolor\": \"white\", \"linecolor\": \"white\", \"ticks\": \"\", \"title\": {\"standoff\": 15}, \"zerolinecolor\": \"white\", \"zerolinewidth\": 2}, \"yaxis\": {\"automargin\": true, \"gridcolor\": \"white\", \"linecolor\": \"white\", \"ticks\": \"\", \"title\": {\"standoff\": 15}, \"zerolinecolor\": \"white\", \"zerolinewidth\": 2}}}, \"xaxis\": {\"anchor\": \"y\", \"domain\": [0.0, 1.0], \"title\": {\"text\": \"\\uc608\\uce21\"}}, \"yaxis\": {\"anchor\": \"x\", \"domain\": [0.0, 1.0], \"title\": {\"text\": \"length\"}}},                        {\"responsive\": true}                    ).then(function(){\n",
       "                            \n",
       "var gd = document.getElementById('b544064f-8223-40e6-90e5-a1fc44a1ce7f');\n",
       "var x = new MutationObserver(function (mutations, observer) {{\n",
       "        var display = window.getComputedStyle(gd).display;\n",
       "        if (!display || display === 'none') {{\n",
       "            console.log([gd, 'removed!']);\n",
       "            Plotly.purge(gd);\n",
       "            observer.disconnect();\n",
       "        }}\n",
       "}});\n",
       "\n",
       "// Listen for the removal of the full notebook cells\n",
       "var notebookContainer = gd.closest('#notebook-container');\n",
       "if (notebookContainer) {{\n",
       "    x.observe(notebookContainer, {childList: true});\n",
       "}}\n",
       "\n",
       "// Listen for the clearing of the current output cell\n",
       "var outputEl = gd.closest('.output');\n",
       "if (outputEl) {{\n",
       "    x.observe(outputEl, {childList: true});\n",
       "}}\n",
       "\n",
       "                        })                };                });            </script>        </div>"
      ]
     },
     "metadata": {},
     "output_type": "display_data"
    }
   ],
   "source": [
    "#길이로 색 구분\n",
    "fig = px.scatter(scat, x = '예측', y = 'length',color = 'score', size = 'length')\n",
    "fig.show()"
   ]
  },
  {
   "cell_type": "code",
   "execution_count": 42,
   "metadata": {
    "scrolled": true
   },
   "outputs": [
    {
     "data": {
      "application/vnd.plotly.v1+json": {
       "config": {
        "plotlyServerURL": "https://plot.ly"
       },
       "data": [
        {
         "hovertemplate": "예측: %{x}% <br>리뷰길이: %{y}",
         "legendgroup": "도움O",
         "marker": {
          "color": "#636efa",
          "symbol": "circle"
         },
         "mode": "markers",
         "name": "도움O",
         "orientation": "v",
         "showlegend": true,
         "type": "scatter",
         "x": [
          0.77,
          0.48,
          0.99,
          0.84,
          0.81,
          0.85,
          0.73,
          0.4,
          0.59,
          0.92,
          0.49,
          0.3,
          0.77,
          0.65,
          0.97,
          0.97,
          0.72,
          0.95,
          0.31,
          0.76,
          1,
          0.88,
          0.83,
          0.81,
          0.9,
          0.43,
          0.84,
          0.92,
          0.89,
          0.91,
          0.99,
          0.8,
          0.86,
          0.33,
          0.32,
          0.73,
          0.31,
          0.5,
          0.93,
          0.88,
          0.9,
          0.17,
          0.96,
          0.94,
          0.98,
          0.7,
          0.89,
          0.96,
          0.99,
          0.47,
          0.98,
          0.64,
          0.7,
          0.51,
          0.67,
          0.4,
          0.67,
          0.79,
          0.44,
          0.98,
          0.96,
          0.97,
          0.61,
          0.55,
          0.19,
          0.96,
          0.63,
          0.8,
          0.81,
          0.94,
          0.98,
          0.86,
          0.39,
          0.96,
          0.29,
          0.7,
          0.93,
          0.79,
          0.53,
          0.63,
          0.32,
          0.96,
          0.7,
          0.98,
          0.88,
          0.87,
          0.99,
          0.88,
          0.56,
          0.89,
          0.95,
          0.8,
          0.93,
          0.97,
          0.85,
          0.97,
          0.6,
          0.48,
          0.93,
          0.88,
          0.83,
          0.37,
          0.97,
          0.79,
          0.82,
          0.29,
          0.47,
          0.67,
          0.59,
          0.95,
          0.37,
          0.69,
          0.99,
          0.92,
          0.78,
          0.71,
          0.99,
          0.3,
          0.49,
          0.95,
          0.92,
          0.99,
          0.68,
          0.4,
          0.64,
          0.79,
          0.38,
          0.47,
          0.85,
          0.79,
          0.97,
          0.41,
          0.41,
          0.5,
          0.49,
          0.91,
          0.58,
          0.72,
          0.98,
          0.89,
          0.61,
          0.31,
          0.81,
          0.89,
          0.9,
          0.27,
          0.94,
          0.99,
          0.81,
          0.94,
          0.93,
          0.92,
          0.91,
          0.97,
          0.1,
          0.84,
          0.88,
          0.47,
          0.61,
          0.38,
          0.58,
          0.58,
          0.46,
          0.69,
          0.25,
          0.56,
          0.55,
          1,
          0.73,
          0.25,
          0.98,
          0.73,
          0.85,
          0.32,
          0.99,
          0.73,
          0.77,
          0.96,
          0.5,
          0.99,
          0.71,
          0.98,
          0.64,
          0.98,
          0.79,
          0.95,
          0.8,
          0.95,
          0.34,
          0.41,
          0.89,
          0.65,
          0.86,
          0.98,
          0.99,
          0.99,
          0.95
         ],
         "xaxis": "x",
         "y": [
          49,
          37,
          226,
          71,
          56,
          125,
          48,
          100,
          28,
          98,
          23,
          20,
          78,
          55,
          166,
          70,
          38,
          105,
          18,
          73,
          252,
          70,
          79,
          53,
          62,
          64,
          191,
          125,
          83,
          177,
          197,
          83,
          171,
          19,
          21,
          38,
          18,
          30,
          103,
          142,
          71,
          13,
          104,
          71,
          150,
          87,
          153,
          89,
          156,
          32,
          106,
          42,
          37,
          28,
          28,
          27,
          52,
          77,
          31,
          157,
          181,
          86,
          30,
          30,
          23,
          68,
          35,
          114,
          114,
          102,
          144,
          103,
          18,
          198,
          19,
          33,
          344,
          66,
          35,
          34,
          19,
          116,
          44,
          153,
          88,
          66,
          205,
          285,
          39,
          193,
          137,
          50,
          103,
          190,
          56,
          120,
          31,
          62,
          114,
          42,
          99,
          21,
          228,
          63,
          85,
          22,
          30,
          92,
          61,
          136,
          22,
          214,
          173,
          77,
          137,
          71,
          177,
          22,
          37,
          79,
          117,
          155,
          59,
          26,
          35,
          47,
          22,
          20,
          86,
          41,
          93,
          30,
          36,
          24,
          23,
          84,
          34,
          36,
          117,
          94,
          36,
          20,
          127,
          64,
          110,
          17,
          99,
          143,
          143,
          74,
          110,
          137,
          73,
          293,
          13,
          39,
          204,
          24,
          51,
          28,
          38,
          27,
          36,
          59,
          28,
          23,
          20,
          112,
          84,
          37,
          162,
          46,
          86,
          24,
          206,
          54,
          46,
          104,
          50,
          125,
          62,
          202,
          29,
          157,
          77,
          124,
          68,
          143,
          64,
          18,
          49,
          74,
          103,
          174,
          196,
          231,
          113
         ],
         "yaxis": "y"
        },
        {
         "hovertemplate": "예측: %{x}% <br>리뷰길이: %{y}",
         "legendgroup": "도움X",
         "marker": {
          "color": "#EF553B",
          "symbol": "circle"
         },
         "mode": "markers",
         "name": "도움X",
         "orientation": "v",
         "showlegend": true,
         "type": "scatter",
         "x": [
          0.09,
          0.56,
          0.06,
          0.06,
          0.19,
          0.02,
          0.02,
          0.01,
          0.62,
          0.04,
          0.03,
          0.15,
          0.75,
          0.02,
          0.02,
          0.01,
          0.01,
          0.07,
          0.13,
          0.11,
          0.07,
          0.02,
          0.03,
          0.08,
          0.08,
          0.13,
          0.89,
          0.02,
          0.17,
          0.07,
          0.61,
          0.01,
          0.06,
          0.23,
          0.11,
          0.29,
          0.18,
          0.01,
          0.17,
          0.02,
          0.04,
          0.06,
          0.2,
          0.11,
          0.14,
          0.15,
          0.28,
          0.51,
          0.06,
          0.17,
          0.03,
          0.17,
          0.27,
          0.51,
          0.4,
          0.02,
          0.04,
          0.13,
          0.06,
          0.09,
          0.05,
          0.26,
          0.57,
          0.02,
          0.16,
          0.13,
          0.11,
          0.11,
          0,
          0.08,
          0.09,
          0.27,
          0.05,
          0.07,
          0.06,
          0.07,
          0.62,
          0.02,
          0.08,
          0.02,
          0.18,
          0.6,
          0.04,
          0.06,
          0.02,
          0.03,
          0.04,
          0.03,
          0.97,
          0.3,
          0.02,
          0.02,
          0.02,
          0.03,
          0.23,
          0.06,
          0.05,
          0.14,
          0.41,
          0.09,
          0.04,
          0.03,
          0.43,
          0.02,
          0.06,
          0.04,
          0.06,
          0.05,
          0.05,
          0.02,
          0.02,
          0.04,
          0.54,
          0.36,
          0.02,
          0.04,
          0.03,
          0.26,
          0.2,
          0.15,
          0.03,
          0.05,
          0.04,
          0.36,
          0.1,
          0.04,
          0.11,
          0.05,
          0.4,
          0.59,
          0.05,
          0.03,
          0.05,
          0.01,
          0.01,
          0.39,
          0.09,
          0.33,
          0.03,
          0.03,
          0.08,
          0.14,
          0.09,
          0.55,
          0.69,
          0.06,
          0.24,
          0.02,
          0.19,
          0.08,
          0.07,
          0.53,
          0.17,
          0.48,
          0.33,
          0.02,
          0.13,
          0.07,
          0.02,
          0.3,
          0.01,
          0.16,
          0.03,
          0.73,
          0.03,
          0.03,
          0.03,
          0.03,
          0.01,
          0.1,
          0.03,
          0.07,
          0.28,
          0.79,
          0.02,
          0.8,
          0.02,
          0.02,
          0.02,
          0.22,
          0.34,
          0.05,
          0.05,
          0.48,
          0.07,
          0.07,
          0.04,
          0.03,
          0.09,
          0.37,
          0.32,
          0.02,
          0.36,
          0.23,
          0.43,
          0.02,
          0.01,
          0.01,
          0.08,
          0.08,
          0.02,
          0.3,
          0.04,
          0.07,
          0.01,
          0.32,
          0.03,
          0.06,
          0.82,
          0.71,
          0.5,
          0.04,
          0.13,
          0.22,
          0.02,
          0.11,
          0.32,
          0.03,
          0.04,
          0.42,
          0.13,
          0.31,
          0.39,
          0.08,
          0.14,
          0.04,
          0.59,
          0.03,
          0.12,
          0,
          0.2,
          0.06,
          0.02,
          0.23,
          0.01,
          0.06,
          0.06,
          0.58,
          0.41,
          0.47,
          0.23,
          0.8,
          0.3,
          0.02,
          0.19,
          0.33,
          0.01,
          0.06,
          0.32,
          0.1,
          0.14,
          0.36,
          0.03,
          0.02,
          0.05,
          0.07,
          0.13,
          0.07,
          0.47,
          0.22,
          0.05,
          0.01,
          0.03,
          0.15,
          0.45,
          0.16,
          0.02,
          0.04,
          0.26,
          0.04,
          0.33,
          0.18,
          0.02,
          0.67,
          0.03,
          0.31,
          0.08,
          0.02,
          0.02,
          0.08,
          0.88,
          0.06,
          0.51,
          0.16,
          0.04
         ],
         "xaxis": "x",
         "y": [
          11,
          41,
          11,
          10,
          18,
          5,
          5,
          5,
          44,
          7,
          6,
          16,
          104,
          5,
          5,
          3,
          3,
          7,
          12,
          14,
          8,
          5,
          8,
          13,
          13,
          14,
          92,
          6,
          17,
          10,
          39,
          4,
          11,
          17,
          14,
          35,
          23,
          5,
          16,
          6,
          8,
          10,
          12,
          14,
          23,
          15,
          28,
          34,
          9,
          16,
          6,
          13,
          22,
          61,
          24,
          5,
          8,
          14,
          9,
          13,
          8,
          20,
          44,
          5,
          11,
          16,
          15,
          15,
          5,
          11,
          12,
          20,
          7,
          10,
          9,
          10,
          36,
          5,
          8,
          5,
          17,
          38,
          7,
          9,
          5,
          7,
          9,
          6,
          123,
          23,
          5,
          5,
          5,
          6,
          29,
          10,
          8,
          15,
          48,
          13,
          9,
          6,
          57,
          5,
          12,
          11,
          9,
          8,
          8,
          5,
          5,
          10,
          43,
          14,
          5,
          8,
          6,
          25,
          16,
          16,
          7,
          9,
          8,
          25,
          10,
          9,
          14,
          10,
          24,
          35,
          10,
          6,
          10,
          5,
          5,
          25,
          11,
          24,
          6,
          6,
          12,
          14,
          12,
          25,
          38,
          11,
          14,
          5,
          21,
          12,
          11,
          30,
          18,
          104,
          23,
          6,
          13,
          10,
          5,
          139,
          4,
          19,
          6,
          66,
          6,
          7,
          6,
          8,
          4,
          12,
          6,
          12,
          32,
          41,
          5,
          79,
          5,
          5,
          5,
          24,
          25,
          8,
          8,
          28,
          6,
          10,
          7,
          8,
          10,
          29,
          22,
          5,
          24,
          14,
          43,
          5,
          4,
          3,
          11,
          12,
          5,
          21,
          9,
          10,
          3,
          33,
          6,
          10,
          162,
          63,
          31,
          7,
          17,
          16,
          5,
          12,
          21,
          6,
          8,
          24,
          13,
          16,
          35,
          11,
          20,
          8,
          39,
          6,
          14,
          2,
          16,
          10,
          5,
          28,
          5,
          9,
          13,
          63,
          47,
          43,
          28,
          38,
          30,
          5,
          23,
          26,
          3,
          11,
          16,
          13,
          15,
          27,
          7,
          5,
          10,
          10,
          17,
          10,
          24,
          22,
          8,
          3,
          9,
          24,
          43,
          29,
          5,
          7,
          18,
          8,
          30,
          11,
          5,
          57,
          6,
          38,
          11,
          5,
          5,
          11,
          97,
          11,
          35,
          11,
          8
         ],
         "yaxis": "y"
        }
       ],
       "layout": {
        "legend": {
         "title": {
          "text": "실제"
         },
         "tracegroupgap": 0
        },
        "margin": {
         "t": 60
        },
        "template": {
         "data": {
          "bar": [
           {
            "error_x": {
             "color": "#2a3f5f"
            },
            "error_y": {
             "color": "#2a3f5f"
            },
            "marker": {
             "line": {
              "color": "#E5ECF6",
              "width": 0.5
             }
            },
            "type": "bar"
           }
          ],
          "barpolar": [
           {
            "marker": {
             "line": {
              "color": "#E5ECF6",
              "width": 0.5
             }
            },
            "type": "barpolar"
           }
          ],
          "carpet": [
           {
            "aaxis": {
             "endlinecolor": "#2a3f5f",
             "gridcolor": "white",
             "linecolor": "white",
             "minorgridcolor": "white",
             "startlinecolor": "#2a3f5f"
            },
            "baxis": {
             "endlinecolor": "#2a3f5f",
             "gridcolor": "white",
             "linecolor": "white",
             "minorgridcolor": "white",
             "startlinecolor": "#2a3f5f"
            },
            "type": "carpet"
           }
          ],
          "choropleth": [
           {
            "colorbar": {
             "outlinewidth": 0,
             "ticks": ""
            },
            "type": "choropleth"
           }
          ],
          "contour": [
           {
            "colorbar": {
             "outlinewidth": 0,
             "ticks": ""
            },
            "colorscale": [
             [
              0,
              "#0d0887"
             ],
             [
              0.1111111111111111,
              "#46039f"
             ],
             [
              0.2222222222222222,
              "#7201a8"
             ],
             [
              0.3333333333333333,
              "#9c179e"
             ],
             [
              0.4444444444444444,
              "#bd3786"
             ],
             [
              0.5555555555555556,
              "#d8576b"
             ],
             [
              0.6666666666666666,
              "#ed7953"
             ],
             [
              0.7777777777777778,
              "#fb9f3a"
             ],
             [
              0.8888888888888888,
              "#fdca26"
             ],
             [
              1,
              "#f0f921"
             ]
            ],
            "type": "contour"
           }
          ],
          "contourcarpet": [
           {
            "colorbar": {
             "outlinewidth": 0,
             "ticks": ""
            },
            "type": "contourcarpet"
           }
          ],
          "heatmap": [
           {
            "colorbar": {
             "outlinewidth": 0,
             "ticks": ""
            },
            "colorscale": [
             [
              0,
              "#0d0887"
             ],
             [
              0.1111111111111111,
              "#46039f"
             ],
             [
              0.2222222222222222,
              "#7201a8"
             ],
             [
              0.3333333333333333,
              "#9c179e"
             ],
             [
              0.4444444444444444,
              "#bd3786"
             ],
             [
              0.5555555555555556,
              "#d8576b"
             ],
             [
              0.6666666666666666,
              "#ed7953"
             ],
             [
              0.7777777777777778,
              "#fb9f3a"
             ],
             [
              0.8888888888888888,
              "#fdca26"
             ],
             [
              1,
              "#f0f921"
             ]
            ],
            "type": "heatmap"
           }
          ],
          "heatmapgl": [
           {
            "colorbar": {
             "outlinewidth": 0,
             "ticks": ""
            },
            "colorscale": [
             [
              0,
              "#0d0887"
             ],
             [
              0.1111111111111111,
              "#46039f"
             ],
             [
              0.2222222222222222,
              "#7201a8"
             ],
             [
              0.3333333333333333,
              "#9c179e"
             ],
             [
              0.4444444444444444,
              "#bd3786"
             ],
             [
              0.5555555555555556,
              "#d8576b"
             ],
             [
              0.6666666666666666,
              "#ed7953"
             ],
             [
              0.7777777777777778,
              "#fb9f3a"
             ],
             [
              0.8888888888888888,
              "#fdca26"
             ],
             [
              1,
              "#f0f921"
             ]
            ],
            "type": "heatmapgl"
           }
          ],
          "histogram": [
           {
            "marker": {
             "colorbar": {
              "outlinewidth": 0,
              "ticks": ""
             }
            },
            "type": "histogram"
           }
          ],
          "histogram2d": [
           {
            "colorbar": {
             "outlinewidth": 0,
             "ticks": ""
            },
            "colorscale": [
             [
              0,
              "#0d0887"
             ],
             [
              0.1111111111111111,
              "#46039f"
             ],
             [
              0.2222222222222222,
              "#7201a8"
             ],
             [
              0.3333333333333333,
              "#9c179e"
             ],
             [
              0.4444444444444444,
              "#bd3786"
             ],
             [
              0.5555555555555556,
              "#d8576b"
             ],
             [
              0.6666666666666666,
              "#ed7953"
             ],
             [
              0.7777777777777778,
              "#fb9f3a"
             ],
             [
              0.8888888888888888,
              "#fdca26"
             ],
             [
              1,
              "#f0f921"
             ]
            ],
            "type": "histogram2d"
           }
          ],
          "histogram2dcontour": [
           {
            "colorbar": {
             "outlinewidth": 0,
             "ticks": ""
            },
            "colorscale": [
             [
              0,
              "#0d0887"
             ],
             [
              0.1111111111111111,
              "#46039f"
             ],
             [
              0.2222222222222222,
              "#7201a8"
             ],
             [
              0.3333333333333333,
              "#9c179e"
             ],
             [
              0.4444444444444444,
              "#bd3786"
             ],
             [
              0.5555555555555556,
              "#d8576b"
             ],
             [
              0.6666666666666666,
              "#ed7953"
             ],
             [
              0.7777777777777778,
              "#fb9f3a"
             ],
             [
              0.8888888888888888,
              "#fdca26"
             ],
             [
              1,
              "#f0f921"
             ]
            ],
            "type": "histogram2dcontour"
           }
          ],
          "mesh3d": [
           {
            "colorbar": {
             "outlinewidth": 0,
             "ticks": ""
            },
            "type": "mesh3d"
           }
          ],
          "parcoords": [
           {
            "line": {
             "colorbar": {
              "outlinewidth": 0,
              "ticks": ""
             }
            },
            "type": "parcoords"
           }
          ],
          "pie": [
           {
            "automargin": true,
            "type": "pie"
           }
          ],
          "scatter": [
           {
            "marker": {
             "colorbar": {
              "outlinewidth": 0,
              "ticks": ""
             }
            },
            "type": "scatter"
           }
          ],
          "scatter3d": [
           {
            "line": {
             "colorbar": {
              "outlinewidth": 0,
              "ticks": ""
             }
            },
            "marker": {
             "colorbar": {
              "outlinewidth": 0,
              "ticks": ""
             }
            },
            "type": "scatter3d"
           }
          ],
          "scattercarpet": [
           {
            "marker": {
             "colorbar": {
              "outlinewidth": 0,
              "ticks": ""
             }
            },
            "type": "scattercarpet"
           }
          ],
          "scattergeo": [
           {
            "marker": {
             "colorbar": {
              "outlinewidth": 0,
              "ticks": ""
             }
            },
            "type": "scattergeo"
           }
          ],
          "scattergl": [
           {
            "marker": {
             "colorbar": {
              "outlinewidth": 0,
              "ticks": ""
             }
            },
            "type": "scattergl"
           }
          ],
          "scattermapbox": [
           {
            "marker": {
             "colorbar": {
              "outlinewidth": 0,
              "ticks": ""
             }
            },
            "type": "scattermapbox"
           }
          ],
          "scatterpolar": [
           {
            "marker": {
             "colorbar": {
              "outlinewidth": 0,
              "ticks": ""
             }
            },
            "type": "scatterpolar"
           }
          ],
          "scatterpolargl": [
           {
            "marker": {
             "colorbar": {
              "outlinewidth": 0,
              "ticks": ""
             }
            },
            "type": "scatterpolargl"
           }
          ],
          "scatterternary": [
           {
            "marker": {
             "colorbar": {
              "outlinewidth": 0,
              "ticks": ""
             }
            },
            "type": "scatterternary"
           }
          ],
          "surface": [
           {
            "colorbar": {
             "outlinewidth": 0,
             "ticks": ""
            },
            "colorscale": [
             [
              0,
              "#0d0887"
             ],
             [
              0.1111111111111111,
              "#46039f"
             ],
             [
              0.2222222222222222,
              "#7201a8"
             ],
             [
              0.3333333333333333,
              "#9c179e"
             ],
             [
              0.4444444444444444,
              "#bd3786"
             ],
             [
              0.5555555555555556,
              "#d8576b"
             ],
             [
              0.6666666666666666,
              "#ed7953"
             ],
             [
              0.7777777777777778,
              "#fb9f3a"
             ],
             [
              0.8888888888888888,
              "#fdca26"
             ],
             [
              1,
              "#f0f921"
             ]
            ],
            "type": "surface"
           }
          ],
          "table": [
           {
            "cells": {
             "fill": {
              "color": "#EBF0F8"
             },
             "line": {
              "color": "white"
             }
            },
            "header": {
             "fill": {
              "color": "#C8D4E3"
             },
             "line": {
              "color": "white"
             }
            },
            "type": "table"
           }
          ]
         },
         "layout": {
          "annotationdefaults": {
           "arrowcolor": "#2a3f5f",
           "arrowhead": 0,
           "arrowwidth": 1
          },
          "coloraxis": {
           "colorbar": {
            "outlinewidth": 0,
            "ticks": ""
           }
          },
          "colorscale": {
           "diverging": [
            [
             0,
             "#8e0152"
            ],
            [
             0.1,
             "#c51b7d"
            ],
            [
             0.2,
             "#de77ae"
            ],
            [
             0.3,
             "#f1b6da"
            ],
            [
             0.4,
             "#fde0ef"
            ],
            [
             0.5,
             "#f7f7f7"
            ],
            [
             0.6,
             "#e6f5d0"
            ],
            [
             0.7,
             "#b8e186"
            ],
            [
             0.8,
             "#7fbc41"
            ],
            [
             0.9,
             "#4d9221"
            ],
            [
             1,
             "#276419"
            ]
           ],
           "sequential": [
            [
             0,
             "#0d0887"
            ],
            [
             0.1111111111111111,
             "#46039f"
            ],
            [
             0.2222222222222222,
             "#7201a8"
            ],
            [
             0.3333333333333333,
             "#9c179e"
            ],
            [
             0.4444444444444444,
             "#bd3786"
            ],
            [
             0.5555555555555556,
             "#d8576b"
            ],
            [
             0.6666666666666666,
             "#ed7953"
            ],
            [
             0.7777777777777778,
             "#fb9f3a"
            ],
            [
             0.8888888888888888,
             "#fdca26"
            ],
            [
             1,
             "#f0f921"
            ]
           ],
           "sequentialminus": [
            [
             0,
             "#0d0887"
            ],
            [
             0.1111111111111111,
             "#46039f"
            ],
            [
             0.2222222222222222,
             "#7201a8"
            ],
            [
             0.3333333333333333,
             "#9c179e"
            ],
            [
             0.4444444444444444,
             "#bd3786"
            ],
            [
             0.5555555555555556,
             "#d8576b"
            ],
            [
             0.6666666666666666,
             "#ed7953"
            ],
            [
             0.7777777777777778,
             "#fb9f3a"
            ],
            [
             0.8888888888888888,
             "#fdca26"
            ],
            [
             1,
             "#f0f921"
            ]
           ]
          },
          "colorway": [
           "#636efa",
           "#EF553B",
           "#00cc96",
           "#ab63fa",
           "#FFA15A",
           "#19d3f3",
           "#FF6692",
           "#B6E880",
           "#FF97FF",
           "#FECB52"
          ],
          "font": {
           "color": "#2a3f5f"
          },
          "geo": {
           "bgcolor": "white",
           "lakecolor": "white",
           "landcolor": "#E5ECF6",
           "showlakes": true,
           "showland": true,
           "subunitcolor": "white"
          },
          "hoverlabel": {
           "align": "left"
          },
          "hovermode": "closest",
          "mapbox": {
           "style": "light"
          },
          "paper_bgcolor": "white",
          "plot_bgcolor": "#E5ECF6",
          "polar": {
           "angularaxis": {
            "gridcolor": "white",
            "linecolor": "white",
            "ticks": ""
           },
           "bgcolor": "#E5ECF6",
           "radialaxis": {
            "gridcolor": "white",
            "linecolor": "white",
            "ticks": ""
           }
          },
          "scene": {
           "xaxis": {
            "backgroundcolor": "#E5ECF6",
            "gridcolor": "white",
            "gridwidth": 2,
            "linecolor": "white",
            "showbackground": true,
            "ticks": "",
            "zerolinecolor": "white"
           },
           "yaxis": {
            "backgroundcolor": "#E5ECF6",
            "gridcolor": "white",
            "gridwidth": 2,
            "linecolor": "white",
            "showbackground": true,
            "ticks": "",
            "zerolinecolor": "white"
           },
           "zaxis": {
            "backgroundcolor": "#E5ECF6",
            "gridcolor": "white",
            "gridwidth": 2,
            "linecolor": "white",
            "showbackground": true,
            "ticks": "",
            "zerolinecolor": "white"
           }
          },
          "shapedefaults": {
           "line": {
            "color": "#2a3f5f"
           }
          },
          "ternary": {
           "aaxis": {
            "gridcolor": "white",
            "linecolor": "white",
            "ticks": ""
           },
           "baxis": {
            "gridcolor": "white",
            "linecolor": "white",
            "ticks": ""
           },
           "bgcolor": "#E5ECF6",
           "caxis": {
            "gridcolor": "white",
            "linecolor": "white",
            "ticks": ""
           }
          },
          "title": {
           "x": 0.05
          },
          "xaxis": {
           "automargin": true,
           "gridcolor": "white",
           "linecolor": "white",
           "ticks": "",
           "title": {
            "standoff": 15
           },
           "zerolinecolor": "white",
           "zerolinewidth": 2
          },
          "yaxis": {
           "automargin": true,
           "gridcolor": "white",
           "linecolor": "white",
           "ticks": "",
           "title": {
            "standoff": 15
           },
           "zerolinecolor": "white",
           "zerolinewidth": 2
          }
         }
        },
        "xaxis": {
         "anchor": "y",
         "domain": [
          0,
          1
         ],
         "tickangle": 60,
         "title": {
          "font": {
           "size": 20
          },
          "standoff": 20,
          "text": "예측"
         }
        },
        "yaxis": {
         "anchor": "x",
         "domain": [
          0,
          1
         ],
         "title": {
          "font": {
           "size": 20
          },
          "standoff": 20,
          "text": "Length"
         }
        }
       }
      },
      "text/html": [
       "<div>                            <div id=\"4e5748cd-90b9-4730-bdf3-75ee897f2bec\" class=\"plotly-graph-div\" style=\"height:525px; width:100%;\"></div>            <script type=\"text/javascript\">                require([\"plotly\"], function(Plotly) {                    window.PLOTLYENV=window.PLOTLYENV || {};                                    if (document.getElementById(\"4e5748cd-90b9-4730-bdf3-75ee897f2bec\")) {                    Plotly.newPlot(                        \"4e5748cd-90b9-4730-bdf3-75ee897f2bec\",                        [{\"hovertemplate\": \"\\uc608\\uce21: %{x}% <br>\\ub9ac\\ubdf0\\uae38\\uc774: %{y}\", \"legendgroup\": \"\\ub3c4\\uc6c0O\", \"marker\": {\"color\": \"#636efa\", \"symbol\": \"circle\"}, \"mode\": \"markers\", \"name\": \"\\ub3c4\\uc6c0O\", \"orientation\": \"v\", \"showlegend\": true, \"type\": \"scatter\", \"x\": [0.77, 0.48, 0.99, 0.84, 0.81, 0.85, 0.73, 0.4, 0.59, 0.92, 0.49, 0.3, 0.77, 0.65, 0.97, 0.97, 0.72, 0.95, 0.31, 0.76, 1.0, 0.88, 0.83, 0.81, 0.9, 0.43, 0.84, 0.92, 0.89, 0.91, 0.99, 0.8, 0.86, 0.33, 0.32, 0.73, 0.31, 0.5, 0.93, 0.88, 0.9, 0.17, 0.96, 0.94, 0.98, 0.7, 0.89, 0.96, 0.99, 0.47, 0.98, 0.64, 0.7, 0.51, 0.67, 0.4, 0.67, 0.79, 0.44, 0.98, 0.96, 0.97, 0.61, 0.55, 0.19, 0.96, 0.63, 0.8, 0.81, 0.94, 0.98, 0.86, 0.39, 0.96, 0.29, 0.7, 0.93, 0.79, 0.53, 0.63, 0.32, 0.96, 0.7, 0.98, 0.88, 0.87, 0.99, 0.88, 0.56, 0.89, 0.95, 0.8, 0.93, 0.97, 0.85, 0.97, 0.6, 0.48, 0.93, 0.88, 0.83, 0.37, 0.97, 0.79, 0.82, 0.29, 0.47, 0.67, 0.59, 0.95, 0.37, 0.69, 0.99, 0.92, 0.78, 0.71, 0.99, 0.3, 0.49, 0.95, 0.92, 0.99, 0.68, 0.4, 0.64, 0.79, 0.38, 0.47, 0.85, 0.79, 0.97, 0.41, 0.41, 0.5, 0.49, 0.91, 0.58, 0.72, 0.98, 0.89, 0.61, 0.31, 0.81, 0.89, 0.9, 0.27, 0.94, 0.99, 0.81, 0.94, 0.93, 0.92, 0.91, 0.97, 0.1, 0.84, 0.88, 0.47, 0.61, 0.38, 0.58, 0.58, 0.46, 0.69, 0.25, 0.56, 0.55, 1.0, 0.73, 0.25, 0.98, 0.73, 0.85, 0.32, 0.99, 0.73, 0.77, 0.96, 0.5, 0.99, 0.71, 0.98, 0.64, 0.98, 0.79, 0.95, 0.8, 0.95, 0.34, 0.41, 0.89, 0.65, 0.86, 0.98, 0.99, 0.99, 0.95], \"xaxis\": \"x\", \"y\": [49, 37, 226, 71, 56, 125, 48, 100, 28, 98, 23, 20, 78, 55, 166, 70, 38, 105, 18, 73, 252, 70, 79, 53, 62, 64, 191, 125, 83, 177, 197, 83, 171, 19, 21, 38, 18, 30, 103, 142, 71, 13, 104, 71, 150, 87, 153, 89, 156, 32, 106, 42, 37, 28, 28, 27, 52, 77, 31, 157, 181, 86, 30, 30, 23, 68, 35, 114, 114, 102, 144, 103, 18, 198, 19, 33, 344, 66, 35, 34, 19, 116, 44, 153, 88, 66, 205, 285, 39, 193, 137, 50, 103, 190, 56, 120, 31, 62, 114, 42, 99, 21, 228, 63, 85, 22, 30, 92, 61, 136, 22, 214, 173, 77, 137, 71, 177, 22, 37, 79, 117, 155, 59, 26, 35, 47, 22, 20, 86, 41, 93, 30, 36, 24, 23, 84, 34, 36, 117, 94, 36, 20, 127, 64, 110, 17, 99, 143, 143, 74, 110, 137, 73, 293, 13, 39, 204, 24, 51, 28, 38, 27, 36, 59, 28, 23, 20, 112, 84, 37, 162, 46, 86, 24, 206, 54, 46, 104, 50, 125, 62, 202, 29, 157, 77, 124, 68, 143, 64, 18, 49, 74, 103, 174, 196, 231, 113], \"yaxis\": \"y\"}, {\"hovertemplate\": \"\\uc608\\uce21: %{x}% <br>\\ub9ac\\ubdf0\\uae38\\uc774: %{y}\", \"legendgroup\": \"\\ub3c4\\uc6c0X\", \"marker\": {\"color\": \"#EF553B\", \"symbol\": \"circle\"}, \"mode\": \"markers\", \"name\": \"\\ub3c4\\uc6c0X\", \"orientation\": \"v\", \"showlegend\": true, \"type\": \"scatter\", \"x\": [0.09, 0.56, 0.06, 0.06, 0.19, 0.02, 0.02, 0.01, 0.62, 0.04, 0.03, 0.15, 0.75, 0.02, 0.02, 0.01, 0.01, 0.07, 0.13, 0.11, 0.07, 0.02, 0.03, 0.08, 0.08, 0.13, 0.89, 0.02, 0.17, 0.07, 0.61, 0.01, 0.06, 0.23, 0.11, 0.29, 0.18, 0.01, 0.17, 0.02, 0.04, 0.06, 0.2, 0.11, 0.14, 0.15, 0.28, 0.51, 0.06, 0.17, 0.03, 0.17, 0.27, 0.51, 0.4, 0.02, 0.04, 0.13, 0.06, 0.09, 0.05, 0.26, 0.57, 0.02, 0.16, 0.13, 0.11, 0.11, 0.0, 0.08, 0.09, 0.27, 0.05, 0.07, 0.06, 0.07, 0.62, 0.02, 0.08, 0.02, 0.18, 0.6, 0.04, 0.06, 0.02, 0.03, 0.04, 0.03, 0.97, 0.3, 0.02, 0.02, 0.02, 0.03, 0.23, 0.06, 0.05, 0.14, 0.41, 0.09, 0.04, 0.03, 0.43, 0.02, 0.06, 0.04, 0.06, 0.05, 0.05, 0.02, 0.02, 0.04, 0.54, 0.36, 0.02, 0.04, 0.03, 0.26, 0.2, 0.15, 0.03, 0.05, 0.04, 0.36, 0.1, 0.04, 0.11, 0.05, 0.4, 0.59, 0.05, 0.03, 0.05, 0.01, 0.01, 0.39, 0.09, 0.33, 0.03, 0.03, 0.08, 0.14, 0.09, 0.55, 0.69, 0.06, 0.24, 0.02, 0.19, 0.08, 0.07, 0.53, 0.17, 0.48, 0.33, 0.02, 0.13, 0.07, 0.02, 0.3, 0.01, 0.16, 0.03, 0.73, 0.03, 0.03, 0.03, 0.03, 0.01, 0.1, 0.03, 0.07, 0.28, 0.79, 0.02, 0.8, 0.02, 0.02, 0.02, 0.22, 0.34, 0.05, 0.05, 0.48, 0.07, 0.07, 0.04, 0.03, 0.09, 0.37, 0.32, 0.02, 0.36, 0.23, 0.43, 0.02, 0.01, 0.01, 0.08, 0.08, 0.02, 0.3, 0.04, 0.07, 0.01, 0.32, 0.03, 0.06, 0.82, 0.71, 0.5, 0.04, 0.13, 0.22, 0.02, 0.11, 0.32, 0.03, 0.04, 0.42, 0.13, 0.31, 0.39, 0.08, 0.14, 0.04, 0.59, 0.03, 0.12, 0.0, 0.2, 0.06, 0.02, 0.23, 0.01, 0.06, 0.06, 0.58, 0.41, 0.47, 0.23, 0.8, 0.3, 0.02, 0.19, 0.33, 0.01, 0.06, 0.32, 0.1, 0.14, 0.36, 0.03, 0.02, 0.05, 0.07, 0.13, 0.07, 0.47, 0.22, 0.05, 0.01, 0.03, 0.15, 0.45, 0.16, 0.02, 0.04, 0.26, 0.04, 0.33, 0.18, 0.02, 0.67, 0.03, 0.31, 0.08, 0.02, 0.02, 0.08, 0.88, 0.06, 0.51, 0.16, 0.04], \"xaxis\": \"x\", \"y\": [11, 41, 11, 10, 18, 5, 5, 5, 44, 7, 6, 16, 104, 5, 5, 3, 3, 7, 12, 14, 8, 5, 8, 13, 13, 14, 92, 6, 17, 10, 39, 4, 11, 17, 14, 35, 23, 5, 16, 6, 8, 10, 12, 14, 23, 15, 28, 34, 9, 16, 6, 13, 22, 61, 24, 5, 8, 14, 9, 13, 8, 20, 44, 5, 11, 16, 15, 15, 5, 11, 12, 20, 7, 10, 9, 10, 36, 5, 8, 5, 17, 38, 7, 9, 5, 7, 9, 6, 123, 23, 5, 5, 5, 6, 29, 10, 8, 15, 48, 13, 9, 6, 57, 5, 12, 11, 9, 8, 8, 5, 5, 10, 43, 14, 5, 8, 6, 25, 16, 16, 7, 9, 8, 25, 10, 9, 14, 10, 24, 35, 10, 6, 10, 5, 5, 25, 11, 24, 6, 6, 12, 14, 12, 25, 38, 11, 14, 5, 21, 12, 11, 30, 18, 104, 23, 6, 13, 10, 5, 139, 4, 19, 6, 66, 6, 7, 6, 8, 4, 12, 6, 12, 32, 41, 5, 79, 5, 5, 5, 24, 25, 8, 8, 28, 6, 10, 7, 8, 10, 29, 22, 5, 24, 14, 43, 5, 4, 3, 11, 12, 5, 21, 9, 10, 3, 33, 6, 10, 162, 63, 31, 7, 17, 16, 5, 12, 21, 6, 8, 24, 13, 16, 35, 11, 20, 8, 39, 6, 14, 2, 16, 10, 5, 28, 5, 9, 13, 63, 47, 43, 28, 38, 30, 5, 23, 26, 3, 11, 16, 13, 15, 27, 7, 5, 10, 10, 17, 10, 24, 22, 8, 3, 9, 24, 43, 29, 5, 7, 18, 8, 30, 11, 5, 57, 6, 38, 11, 5, 5, 11, 97, 11, 35, 11, 8], \"yaxis\": \"y\"}],                        {\"legend\": {\"title\": {\"text\": \"\\uc2e4\\uc81c\"}, \"tracegroupgap\": 0}, \"margin\": {\"t\": 60}, \"template\": {\"data\": {\"bar\": [{\"error_x\": {\"color\": \"#2a3f5f\"}, \"error_y\": {\"color\": \"#2a3f5f\"}, \"marker\": {\"line\": {\"color\": \"#E5ECF6\", \"width\": 0.5}}, \"type\": \"bar\"}], \"barpolar\": [{\"marker\": {\"line\": {\"color\": \"#E5ECF6\", \"width\": 0.5}}, \"type\": \"barpolar\"}], \"carpet\": [{\"aaxis\": {\"endlinecolor\": \"#2a3f5f\", \"gridcolor\": \"white\", \"linecolor\": \"white\", \"minorgridcolor\": \"white\", \"startlinecolor\": \"#2a3f5f\"}, \"baxis\": {\"endlinecolor\": \"#2a3f5f\", \"gridcolor\": \"white\", \"linecolor\": \"white\", \"minorgridcolor\": \"white\", \"startlinecolor\": \"#2a3f5f\"}, \"type\": \"carpet\"}], \"choropleth\": [{\"colorbar\": {\"outlinewidth\": 0, \"ticks\": \"\"}, \"type\": \"choropleth\"}], \"contour\": [{\"colorbar\": {\"outlinewidth\": 0, \"ticks\": \"\"}, \"colorscale\": [[0.0, \"#0d0887\"], [0.1111111111111111, \"#46039f\"], [0.2222222222222222, \"#7201a8\"], [0.3333333333333333, \"#9c179e\"], [0.4444444444444444, \"#bd3786\"], [0.5555555555555556, \"#d8576b\"], [0.6666666666666666, \"#ed7953\"], [0.7777777777777778, \"#fb9f3a\"], [0.8888888888888888, \"#fdca26\"], [1.0, \"#f0f921\"]], \"type\": \"contour\"}], \"contourcarpet\": [{\"colorbar\": {\"outlinewidth\": 0, \"ticks\": \"\"}, \"type\": \"contourcarpet\"}], \"heatmap\": [{\"colorbar\": {\"outlinewidth\": 0, \"ticks\": \"\"}, \"colorscale\": [[0.0, \"#0d0887\"], [0.1111111111111111, \"#46039f\"], [0.2222222222222222, \"#7201a8\"], [0.3333333333333333, \"#9c179e\"], [0.4444444444444444, \"#bd3786\"], [0.5555555555555556, \"#d8576b\"], [0.6666666666666666, \"#ed7953\"], [0.7777777777777778, \"#fb9f3a\"], [0.8888888888888888, \"#fdca26\"], [1.0, \"#f0f921\"]], \"type\": \"heatmap\"}], \"heatmapgl\": [{\"colorbar\": {\"outlinewidth\": 0, \"ticks\": \"\"}, \"colorscale\": [[0.0, \"#0d0887\"], [0.1111111111111111, \"#46039f\"], [0.2222222222222222, \"#7201a8\"], [0.3333333333333333, \"#9c179e\"], [0.4444444444444444, \"#bd3786\"], [0.5555555555555556, \"#d8576b\"], [0.6666666666666666, \"#ed7953\"], [0.7777777777777778, \"#fb9f3a\"], [0.8888888888888888, \"#fdca26\"], [1.0, \"#f0f921\"]], \"type\": \"heatmapgl\"}], \"histogram\": [{\"marker\": {\"colorbar\": {\"outlinewidth\": 0, \"ticks\": \"\"}}, \"type\": \"histogram\"}], \"histogram2d\": [{\"colorbar\": {\"outlinewidth\": 0, \"ticks\": \"\"}, \"colorscale\": [[0.0, \"#0d0887\"], [0.1111111111111111, \"#46039f\"], [0.2222222222222222, \"#7201a8\"], [0.3333333333333333, \"#9c179e\"], [0.4444444444444444, \"#bd3786\"], [0.5555555555555556, \"#d8576b\"], [0.6666666666666666, \"#ed7953\"], [0.7777777777777778, \"#fb9f3a\"], [0.8888888888888888, \"#fdca26\"], [1.0, \"#f0f921\"]], \"type\": \"histogram2d\"}], \"histogram2dcontour\": [{\"colorbar\": {\"outlinewidth\": 0, \"ticks\": \"\"}, \"colorscale\": [[0.0, \"#0d0887\"], [0.1111111111111111, \"#46039f\"], [0.2222222222222222, \"#7201a8\"], [0.3333333333333333, \"#9c179e\"], [0.4444444444444444, \"#bd3786\"], [0.5555555555555556, \"#d8576b\"], [0.6666666666666666, \"#ed7953\"], [0.7777777777777778, \"#fb9f3a\"], [0.8888888888888888, \"#fdca26\"], [1.0, \"#f0f921\"]], \"type\": \"histogram2dcontour\"}], \"mesh3d\": [{\"colorbar\": {\"outlinewidth\": 0, \"ticks\": \"\"}, \"type\": \"mesh3d\"}], \"parcoords\": [{\"line\": {\"colorbar\": {\"outlinewidth\": 0, \"ticks\": \"\"}}, \"type\": \"parcoords\"}], \"pie\": [{\"automargin\": true, \"type\": \"pie\"}], \"scatter\": [{\"marker\": {\"colorbar\": {\"outlinewidth\": 0, \"ticks\": \"\"}}, \"type\": \"scatter\"}], \"scatter3d\": [{\"line\": {\"colorbar\": {\"outlinewidth\": 0, \"ticks\": \"\"}}, \"marker\": {\"colorbar\": {\"outlinewidth\": 0, \"ticks\": \"\"}}, \"type\": \"scatter3d\"}], \"scattercarpet\": [{\"marker\": {\"colorbar\": {\"outlinewidth\": 0, \"ticks\": \"\"}}, \"type\": \"scattercarpet\"}], \"scattergeo\": [{\"marker\": {\"colorbar\": {\"outlinewidth\": 0, \"ticks\": \"\"}}, \"type\": \"scattergeo\"}], \"scattergl\": [{\"marker\": {\"colorbar\": {\"outlinewidth\": 0, \"ticks\": \"\"}}, \"type\": \"scattergl\"}], \"scattermapbox\": [{\"marker\": {\"colorbar\": {\"outlinewidth\": 0, \"ticks\": \"\"}}, \"type\": \"scattermapbox\"}], \"scatterpolar\": [{\"marker\": {\"colorbar\": {\"outlinewidth\": 0, \"ticks\": \"\"}}, \"type\": \"scatterpolar\"}], \"scatterpolargl\": [{\"marker\": {\"colorbar\": {\"outlinewidth\": 0, \"ticks\": \"\"}}, \"type\": \"scatterpolargl\"}], \"scatterternary\": [{\"marker\": {\"colorbar\": {\"outlinewidth\": 0, \"ticks\": \"\"}}, \"type\": \"scatterternary\"}], \"surface\": [{\"colorbar\": {\"outlinewidth\": 0, \"ticks\": \"\"}, \"colorscale\": [[0.0, \"#0d0887\"], [0.1111111111111111, \"#46039f\"], [0.2222222222222222, \"#7201a8\"], [0.3333333333333333, \"#9c179e\"], [0.4444444444444444, \"#bd3786\"], [0.5555555555555556, \"#d8576b\"], [0.6666666666666666, \"#ed7953\"], [0.7777777777777778, \"#fb9f3a\"], [0.8888888888888888, \"#fdca26\"], [1.0, \"#f0f921\"]], \"type\": \"surface\"}], \"table\": [{\"cells\": {\"fill\": {\"color\": \"#EBF0F8\"}, \"line\": {\"color\": \"white\"}}, \"header\": {\"fill\": {\"color\": \"#C8D4E3\"}, \"line\": {\"color\": \"white\"}}, \"type\": \"table\"}]}, \"layout\": {\"annotationdefaults\": {\"arrowcolor\": \"#2a3f5f\", \"arrowhead\": 0, \"arrowwidth\": 1}, \"coloraxis\": {\"colorbar\": {\"outlinewidth\": 0, \"ticks\": \"\"}}, \"colorscale\": {\"diverging\": [[0, \"#8e0152\"], [0.1, \"#c51b7d\"], [0.2, \"#de77ae\"], [0.3, \"#f1b6da\"], [0.4, \"#fde0ef\"], [0.5, \"#f7f7f7\"], [0.6, \"#e6f5d0\"], [0.7, \"#b8e186\"], [0.8, \"#7fbc41\"], [0.9, \"#4d9221\"], [1, \"#276419\"]], \"sequential\": [[0.0, \"#0d0887\"], [0.1111111111111111, \"#46039f\"], [0.2222222222222222, \"#7201a8\"], [0.3333333333333333, \"#9c179e\"], [0.4444444444444444, \"#bd3786\"], [0.5555555555555556, \"#d8576b\"], [0.6666666666666666, \"#ed7953\"], [0.7777777777777778, \"#fb9f3a\"], [0.8888888888888888, \"#fdca26\"], [1.0, \"#f0f921\"]], \"sequentialminus\": [[0.0, \"#0d0887\"], [0.1111111111111111, \"#46039f\"], [0.2222222222222222, \"#7201a8\"], [0.3333333333333333, \"#9c179e\"], [0.4444444444444444, \"#bd3786\"], [0.5555555555555556, \"#d8576b\"], [0.6666666666666666, \"#ed7953\"], [0.7777777777777778, \"#fb9f3a\"], [0.8888888888888888, \"#fdca26\"], [1.0, \"#f0f921\"]]}, \"colorway\": [\"#636efa\", \"#EF553B\", \"#00cc96\", \"#ab63fa\", \"#FFA15A\", \"#19d3f3\", \"#FF6692\", \"#B6E880\", \"#FF97FF\", \"#FECB52\"], \"font\": {\"color\": \"#2a3f5f\"}, \"geo\": {\"bgcolor\": \"white\", \"lakecolor\": \"white\", \"landcolor\": \"#E5ECF6\", \"showlakes\": true, \"showland\": true, \"subunitcolor\": \"white\"}, \"hoverlabel\": {\"align\": \"left\"}, \"hovermode\": \"closest\", \"mapbox\": {\"style\": \"light\"}, \"paper_bgcolor\": \"white\", \"plot_bgcolor\": \"#E5ECF6\", \"polar\": {\"angularaxis\": {\"gridcolor\": \"white\", \"linecolor\": \"white\", \"ticks\": \"\"}, \"bgcolor\": \"#E5ECF6\", \"radialaxis\": {\"gridcolor\": \"white\", \"linecolor\": \"white\", \"ticks\": \"\"}}, \"scene\": {\"xaxis\": {\"backgroundcolor\": \"#E5ECF6\", \"gridcolor\": \"white\", \"gridwidth\": 2, \"linecolor\": \"white\", \"showbackground\": true, \"ticks\": \"\", \"zerolinecolor\": \"white\"}, \"yaxis\": {\"backgroundcolor\": \"#E5ECF6\", \"gridcolor\": \"white\", \"gridwidth\": 2, \"linecolor\": \"white\", \"showbackground\": true, \"ticks\": \"\", \"zerolinecolor\": \"white\"}, \"zaxis\": {\"backgroundcolor\": \"#E5ECF6\", \"gridcolor\": \"white\", \"gridwidth\": 2, \"linecolor\": \"white\", \"showbackground\": true, \"ticks\": \"\", \"zerolinecolor\": \"white\"}}, \"shapedefaults\": {\"line\": {\"color\": \"#2a3f5f\"}}, \"ternary\": {\"aaxis\": {\"gridcolor\": \"white\", \"linecolor\": \"white\", \"ticks\": \"\"}, \"baxis\": {\"gridcolor\": \"white\", \"linecolor\": \"white\", \"ticks\": \"\"}, \"bgcolor\": \"#E5ECF6\", \"caxis\": {\"gridcolor\": \"white\", \"linecolor\": \"white\", \"ticks\": \"\"}}, \"title\": {\"x\": 0.05}, \"xaxis\": {\"automargin\": true, \"gridcolor\": \"white\", \"linecolor\": \"white\", \"ticks\": \"\", \"title\": {\"standoff\": 15}, \"zerolinecolor\": \"white\", \"zerolinewidth\": 2}, \"yaxis\": {\"automargin\": true, \"gridcolor\": \"white\", \"linecolor\": \"white\", \"ticks\": \"\", \"title\": {\"standoff\": 15}, \"zerolinecolor\": \"white\", \"zerolinewidth\": 2}}}, \"xaxis\": {\"anchor\": \"y\", \"domain\": [0.0, 1.0], \"tickangle\": 60, \"title\": {\"font\": {\"size\": 20}, \"standoff\": 20, \"text\": \"\\uc608\\uce21\"}}, \"yaxis\": {\"anchor\": \"x\", \"domain\": [0.0, 1.0], \"title\": {\"font\": {\"size\": 20}, \"standoff\": 20, \"text\": \"Length\"}}},                        {\"responsive\": true}                    ).then(function(){\n",
       "                            \n",
       "var gd = document.getElementById('4e5748cd-90b9-4730-bdf3-75ee897f2bec');\n",
       "var x = new MutationObserver(function (mutations, observer) {{\n",
       "        var display = window.getComputedStyle(gd).display;\n",
       "        if (!display || display === 'none') {{\n",
       "            console.log([gd, 'removed!']);\n",
       "            Plotly.purge(gd);\n",
       "            observer.disconnect();\n",
       "        }}\n",
       "}});\n",
       "\n",
       "// Listen for the removal of the full notebook cells\n",
       "var notebookContainer = gd.closest('#notebook-container');\n",
       "if (notebookContainer) {{\n",
       "    x.observe(notebookContainer, {childList: true});\n",
       "}}\n",
       "\n",
       "// Listen for the clearing of the current output cell\n",
       "var outputEl = gd.closest('.output');\n",
       "if (outputEl) {{\n",
       "    x.observe(outputEl, {childList: true});\n",
       "}}\n",
       "\n",
       "                        })                };                });            </script>        </div>"
      ]
     },
     "metadata": {},
     "output_type": "display_data"
    }
   ],
   "source": [
    "fig = px.scatter(scat, x = '예측', y = 'length',color = '실제')\n",
    "fig.update_traces(hovertemplate = '예측: %{x}% <br>리뷰길이: %{y}')\n",
    "fig.update_xaxes(title = \"확률\")\n",
    "#fig.update_layout(title = \"\")\n",
    "fig.update_layout(\n",
    "    xaxis = dict(\n",
    "        tickangle = 60,\n",
    "        title_text = '예측',\n",
    "        title_font = {'size':20},\n",
    "        title_standoff = 20),\n",
    "    yaxis = dict(\n",
    "        title_text = 'Length',\n",
    "        title_font = {'size':20},\n",
    "        title_standoff = 20)\n",
    "    )\n",
    "fig.write_html(\"예측실제길이.html\")\n",
    "fig.show()"
   ]
  },
  {
   "cell_type": "markdown",
   "metadata": {},
   "source": [
    "## 예측값과 길이 분포, 도움 여부로 구분"
   ]
  },
  {
   "cell_type": "code",
   "execution_count": 43,
   "metadata": {},
   "outputs": [
    {
     "data": {
      "application/vnd.plotly.v1+json": {
       "config": {
        "plotlyServerURL": "https://plot.ly"
       },
       "data": [
        {
         "hovertemplate": "helpful=1<br>예측=%{x}<br>length=%{y}<br>score=%{marker.color}<extra></extra>",
         "legendgroup": "",
         "marker": {
          "color": [
           10,
           8,
           8,
           10,
           10,
           5.2,
           8.8,
           10,
           10,
           9.6,
           8,
           10,
           7.6,
           10,
           9.6,
           10,
           9.6,
           8,
           10,
           10,
           8.8,
           3.6,
           10,
           8,
           8.4,
           10,
           8.4,
           5.6,
           10,
           4,
           4.8,
           10,
           8,
           10,
           10,
           10,
           10,
           10,
           6.4,
           10,
           8,
           10,
           8.8,
           7.2,
           4.4,
           10,
           10,
           8.8,
           8,
           10,
           10,
           10,
           9.2,
           7.2,
           10,
           10,
           9.2,
           8.4,
           10,
           8.8,
           7.2,
           10,
           10,
           9.2,
           10,
           8,
           7.6,
           8,
           8.4,
           8.8,
           6.4,
           6.4,
           10,
           9.6,
           10,
           9.6,
           10,
           10,
           8,
           9.6,
           10,
           7.2,
           10,
           8,
           10,
           10,
           4,
           10,
           10,
           8,
           8,
           10,
           7.6,
           10,
           9.2,
           10,
           10,
           10,
           8.4,
           10,
           10,
           10,
           10,
           10,
           7.2,
           10,
           9.6,
           10,
           10,
           6,
           10,
           10,
           9.6,
           10,
           10,
           10,
           9.6,
           10,
           10,
           8.8,
           4,
           7.6,
           10,
           10,
           4.4,
           9.2,
           8,
           7.2,
           10,
           9.2,
           8,
           10,
           10,
           8,
           10,
           6,
           10,
           10,
           10,
           10,
           9.2,
           8,
           10,
           9.6,
           8,
           8,
           8,
           10,
           8,
           9.6,
           10,
           8,
           10,
           6,
           10,
           10,
           9.2,
           10,
           8.4,
           9.2,
           10,
           10,
           9.6,
           8,
           10,
           10,
           10,
           8.4,
           10,
           8.4,
           10,
           10,
           6.8,
           10,
           9.2,
           10,
           8.4,
           10,
           10,
           8.8,
           10,
           8.4,
           9.2,
           8,
           9.2,
           10,
           10,
           9.2,
           10,
           10,
           8.4,
           9.6,
           10,
           9.2,
           10,
           10,
           8
          ],
          "coloraxis": "coloraxis",
          "symbol": "circle"
         },
         "mode": "markers",
         "name": "",
         "orientation": "v",
         "showlegend": false,
         "type": "scatter",
         "x": [
          0.77,
          0.48,
          0.99,
          0.84,
          0.81,
          0.85,
          0.73,
          0.4,
          0.59,
          0.92,
          0.49,
          0.3,
          0.77,
          0.65,
          0.97,
          0.97,
          0.72,
          0.95,
          0.31,
          0.76,
          1,
          0.88,
          0.83,
          0.81,
          0.9,
          0.43,
          0.84,
          0.92,
          0.89,
          0.91,
          0.99,
          0.8,
          0.86,
          0.33,
          0.32,
          0.73,
          0.31,
          0.5,
          0.93,
          0.88,
          0.9,
          0.17,
          0.96,
          0.94,
          0.98,
          0.7,
          0.89,
          0.96,
          0.99,
          0.47,
          0.98,
          0.64,
          0.7,
          0.51,
          0.67,
          0.4,
          0.67,
          0.79,
          0.44,
          0.98,
          0.96,
          0.97,
          0.61,
          0.55,
          0.19,
          0.96,
          0.63,
          0.8,
          0.81,
          0.94,
          0.98,
          0.86,
          0.39,
          0.96,
          0.29,
          0.7,
          0.93,
          0.79,
          0.53,
          0.63,
          0.32,
          0.96,
          0.7,
          0.98,
          0.88,
          0.87,
          0.99,
          0.88,
          0.56,
          0.89,
          0.95,
          0.8,
          0.93,
          0.97,
          0.85,
          0.97,
          0.6,
          0.48,
          0.93,
          0.88,
          0.83,
          0.37,
          0.97,
          0.79,
          0.82,
          0.29,
          0.47,
          0.67,
          0.59,
          0.95,
          0.37,
          0.69,
          0.99,
          0.92,
          0.78,
          0.71,
          0.99,
          0.3,
          0.49,
          0.95,
          0.92,
          0.99,
          0.68,
          0.4,
          0.64,
          0.79,
          0.38,
          0.47,
          0.85,
          0.79,
          0.97,
          0.41,
          0.41,
          0.5,
          0.49,
          0.91,
          0.58,
          0.72,
          0.98,
          0.89,
          0.61,
          0.31,
          0.81,
          0.89,
          0.9,
          0.27,
          0.94,
          0.99,
          0.81,
          0.94,
          0.93,
          0.92,
          0.91,
          0.97,
          0.1,
          0.84,
          0.88,
          0.47,
          0.61,
          0.38,
          0.58,
          0.58,
          0.46,
          0.69,
          0.25,
          0.56,
          0.55,
          1,
          0.73,
          0.25,
          0.98,
          0.73,
          0.85,
          0.32,
          0.99,
          0.73,
          0.77,
          0.96,
          0.5,
          0.99,
          0.71,
          0.98,
          0.64,
          0.98,
          0.79,
          0.95,
          0.8,
          0.95,
          0.34,
          0.41,
          0.89,
          0.65,
          0.86,
          0.98,
          0.99,
          0.99,
          0.95
         ],
         "xaxis": "x2",
         "y": [
          49,
          37,
          226,
          71,
          56,
          125,
          48,
          100,
          28,
          98,
          23,
          20,
          78,
          55,
          166,
          70,
          38,
          105,
          18,
          73,
          252,
          70,
          79,
          53,
          62,
          64,
          191,
          125,
          83,
          177,
          197,
          83,
          171,
          19,
          21,
          38,
          18,
          30,
          103,
          142,
          71,
          13,
          104,
          71,
          150,
          87,
          153,
          89,
          156,
          32,
          106,
          42,
          37,
          28,
          28,
          27,
          52,
          77,
          31,
          157,
          181,
          86,
          30,
          30,
          23,
          68,
          35,
          114,
          114,
          102,
          144,
          103,
          18,
          198,
          19,
          33,
          344,
          66,
          35,
          34,
          19,
          116,
          44,
          153,
          88,
          66,
          205,
          285,
          39,
          193,
          137,
          50,
          103,
          190,
          56,
          120,
          31,
          62,
          114,
          42,
          99,
          21,
          228,
          63,
          85,
          22,
          30,
          92,
          61,
          136,
          22,
          214,
          173,
          77,
          137,
          71,
          177,
          22,
          37,
          79,
          117,
          155,
          59,
          26,
          35,
          47,
          22,
          20,
          86,
          41,
          93,
          30,
          36,
          24,
          23,
          84,
          34,
          36,
          117,
          94,
          36,
          20,
          127,
          64,
          110,
          17,
          99,
          143,
          143,
          74,
          110,
          137,
          73,
          293,
          13,
          39,
          204,
          24,
          51,
          28,
          38,
          27,
          36,
          59,
          28,
          23,
          20,
          112,
          84,
          37,
          162,
          46,
          86,
          24,
          206,
          54,
          46,
          104,
          50,
          125,
          62,
          202,
          29,
          157,
          77,
          124,
          68,
          143,
          64,
          18,
          49,
          74,
          103,
          174,
          196,
          231,
          113
         ],
         "yaxis": "y2"
        },
        {
         "hovertemplate": "helpful=0<br>예측=%{x}<br>length=%{y}<br>score=%{marker.color}<extra></extra>",
         "legendgroup": "",
         "marker": {
          "color": [
           10,
           8,
           10,
           10,
           8,
           10,
           10,
           8,
           9.6,
           10,
           10,
           10,
           10,
           10,
           8,
           10,
           10,
           10,
           10,
           10,
           10,
           10,
           10,
           10,
           10,
           2,
           8,
           10,
           10,
           10,
           10,
           10,
           10,
           8.8,
           10,
           10,
           10,
           10,
           10,
           10,
           8,
           10,
           10,
           8,
           10,
           9.2,
           10,
           10,
           10,
           10,
           10,
           10,
           10,
           10,
           10,
           10,
           10,
           10,
           10,
           10,
           10,
           10,
           8,
           10,
           10,
           10,
           10,
           10,
           10,
           10,
           10,
           10,
           10,
           10,
           8,
           10,
           10,
           10,
           10,
           8,
           10,
           10,
           10,
           10,
           8,
           10,
           10,
           10,
           10,
           10,
           10,
           10,
           10,
           10,
           9.6,
           10,
           10,
           10,
           8,
           10,
           10,
           8,
           8,
           10,
           10,
           10,
           10,
           10,
           10,
           10,
           10,
           10,
           6.8,
           8,
           10,
           10,
           10,
           6,
           10,
           10,
           10,
           10,
           10,
           10,
           10,
           8,
           8,
           10,
           8.8,
           10,
           10,
           10,
           10,
           10,
           8,
           10,
           8,
           10,
           10,
           10,
           10,
           10,
           10,
           8,
           10,
           10,
           10,
           10,
           10,
           10,
           10,
           10,
           10,
           10,
           8,
           10,
           10,
           10,
           8,
           10,
           10,
           10,
           8,
           7.2,
           10,
           10,
           10,
           10,
           10,
           10,
           10,
           10,
           10,
           10,
           8,
           10,
           10,
           10,
           10,
           10,
           8,
           10,
           10,
           10,
           10,
           10,
           10,
           10,
           10,
           10,
           8,
           10,
           10,
           8,
           8,
           10,
           8,
           10,
           10,
           10,
           10,
           10,
           8,
           10,
           8,
           9.2,
           10,
           10,
           8.4,
           10,
           10,
           10,
           10,
           10,
           10,
           10,
           10,
           10,
           10,
           10,
           7.6,
           10,
           9.6,
           10,
           8,
           10,
           10,
           10,
           10,
           2,
           10,
           10,
           10,
           10,
           10,
           10,
           10,
           8,
           6,
           10,
           10,
           10,
           10,
           4,
           10,
           10,
           10,
           10,
           10,
           10,
           8,
           10,
           10,
           8,
           10,
           8,
           9.6,
           10,
           10,
           10,
           10,
           2,
           10,
           10,
           10,
           10,
           10,
           10,
           8,
           10,
           9.6,
           10,
           10,
           10,
           10,
           10,
           10,
           10,
           8,
           10,
           10,
           10,
           8.8,
           10,
           2
          ],
          "coloraxis": "coloraxis",
          "symbol": "circle"
         },
         "mode": "markers",
         "name": "",
         "orientation": "v",
         "showlegend": false,
         "type": "scatter",
         "x": [
          0.09,
          0.56,
          0.06,
          0.06,
          0.19,
          0.02,
          0.02,
          0.01,
          0.62,
          0.04,
          0.03,
          0.15,
          0.75,
          0.02,
          0.02,
          0.01,
          0.01,
          0.07,
          0.13,
          0.11,
          0.07,
          0.02,
          0.03,
          0.08,
          0.08,
          0.13,
          0.89,
          0.02,
          0.17,
          0.07,
          0.61,
          0.01,
          0.06,
          0.23,
          0.11,
          0.29,
          0.18,
          0.01,
          0.17,
          0.02,
          0.04,
          0.06,
          0.2,
          0.11,
          0.14,
          0.15,
          0.28,
          0.51,
          0.06,
          0.17,
          0.03,
          0.17,
          0.27,
          0.51,
          0.4,
          0.02,
          0.04,
          0.13,
          0.06,
          0.09,
          0.05,
          0.26,
          0.57,
          0.02,
          0.16,
          0.13,
          0.11,
          0.11,
          0,
          0.08,
          0.09,
          0.27,
          0.05,
          0.07,
          0.06,
          0.07,
          0.62,
          0.02,
          0.08,
          0.02,
          0.18,
          0.6,
          0.04,
          0.06,
          0.02,
          0.03,
          0.04,
          0.03,
          0.97,
          0.3,
          0.02,
          0.02,
          0.02,
          0.03,
          0.23,
          0.06,
          0.05,
          0.14,
          0.41,
          0.09,
          0.04,
          0.03,
          0.43,
          0.02,
          0.06,
          0.04,
          0.06,
          0.05,
          0.05,
          0.02,
          0.02,
          0.04,
          0.54,
          0.36,
          0.02,
          0.04,
          0.03,
          0.26,
          0.2,
          0.15,
          0.03,
          0.05,
          0.04,
          0.36,
          0.1,
          0.04,
          0.11,
          0.05,
          0.4,
          0.59,
          0.05,
          0.03,
          0.05,
          0.01,
          0.01,
          0.39,
          0.09,
          0.33,
          0.03,
          0.03,
          0.08,
          0.14,
          0.09,
          0.55,
          0.69,
          0.06,
          0.24,
          0.02,
          0.19,
          0.08,
          0.07,
          0.53,
          0.17,
          0.48,
          0.33,
          0.02,
          0.13,
          0.07,
          0.02,
          0.3,
          0.01,
          0.16,
          0.03,
          0.73,
          0.03,
          0.03,
          0.03,
          0.03,
          0.01,
          0.1,
          0.03,
          0.07,
          0.28,
          0.79,
          0.02,
          0.8,
          0.02,
          0.02,
          0.02,
          0.22,
          0.34,
          0.05,
          0.05,
          0.48,
          0.07,
          0.07,
          0.04,
          0.03,
          0.09,
          0.37,
          0.32,
          0.02,
          0.36,
          0.23,
          0.43,
          0.02,
          0.01,
          0.01,
          0.08,
          0.08,
          0.02,
          0.3,
          0.04,
          0.07,
          0.01,
          0.32,
          0.03,
          0.06,
          0.82,
          0.71,
          0.5,
          0.04,
          0.13,
          0.22,
          0.02,
          0.11,
          0.32,
          0.03,
          0.04,
          0.42,
          0.13,
          0.31,
          0.39,
          0.08,
          0.14,
          0.04,
          0.59,
          0.03,
          0.12,
          0,
          0.2,
          0.06,
          0.02,
          0.23,
          0.01,
          0.06,
          0.06,
          0.58,
          0.41,
          0.47,
          0.23,
          0.8,
          0.3,
          0.02,
          0.19,
          0.33,
          0.01,
          0.06,
          0.32,
          0.1,
          0.14,
          0.36,
          0.03,
          0.02,
          0.05,
          0.07,
          0.13,
          0.07,
          0.47,
          0.22,
          0.05,
          0.01,
          0.03,
          0.15,
          0.45,
          0.16,
          0.02,
          0.04,
          0.26,
          0.04,
          0.33,
          0.18,
          0.02,
          0.67,
          0.03,
          0.31,
          0.08,
          0.02,
          0.02,
          0.08,
          0.88,
          0.06,
          0.51,
          0.16,
          0.04
         ],
         "xaxis": "x",
         "y": [
          11,
          41,
          11,
          10,
          18,
          5,
          5,
          5,
          44,
          7,
          6,
          16,
          104,
          5,
          5,
          3,
          3,
          7,
          12,
          14,
          8,
          5,
          8,
          13,
          13,
          14,
          92,
          6,
          17,
          10,
          39,
          4,
          11,
          17,
          14,
          35,
          23,
          5,
          16,
          6,
          8,
          10,
          12,
          14,
          23,
          15,
          28,
          34,
          9,
          16,
          6,
          13,
          22,
          61,
          24,
          5,
          8,
          14,
          9,
          13,
          8,
          20,
          44,
          5,
          11,
          16,
          15,
          15,
          5,
          11,
          12,
          20,
          7,
          10,
          9,
          10,
          36,
          5,
          8,
          5,
          17,
          38,
          7,
          9,
          5,
          7,
          9,
          6,
          123,
          23,
          5,
          5,
          5,
          6,
          29,
          10,
          8,
          15,
          48,
          13,
          9,
          6,
          57,
          5,
          12,
          11,
          9,
          8,
          8,
          5,
          5,
          10,
          43,
          14,
          5,
          8,
          6,
          25,
          16,
          16,
          7,
          9,
          8,
          25,
          10,
          9,
          14,
          10,
          24,
          35,
          10,
          6,
          10,
          5,
          5,
          25,
          11,
          24,
          6,
          6,
          12,
          14,
          12,
          25,
          38,
          11,
          14,
          5,
          21,
          12,
          11,
          30,
          18,
          104,
          23,
          6,
          13,
          10,
          5,
          139,
          4,
          19,
          6,
          66,
          6,
          7,
          6,
          8,
          4,
          12,
          6,
          12,
          32,
          41,
          5,
          79,
          5,
          5,
          5,
          24,
          25,
          8,
          8,
          28,
          6,
          10,
          7,
          8,
          10,
          29,
          22,
          5,
          24,
          14,
          43,
          5,
          4,
          3,
          11,
          12,
          5,
          21,
          9,
          10,
          3,
          33,
          6,
          10,
          162,
          63,
          31,
          7,
          17,
          16,
          5,
          12,
          21,
          6,
          8,
          24,
          13,
          16,
          35,
          11,
          20,
          8,
          39,
          6,
          14,
          2,
          16,
          10,
          5,
          28,
          5,
          9,
          13,
          63,
          47,
          43,
          28,
          38,
          30,
          5,
          23,
          26,
          3,
          11,
          16,
          13,
          15,
          27,
          7,
          5,
          10,
          10,
          17,
          10,
          24,
          22,
          8,
          3,
          9,
          24,
          43,
          29,
          5,
          7,
          18,
          8,
          30,
          11,
          5,
          57,
          6,
          38,
          11,
          5,
          5,
          11,
          97,
          11,
          35,
          11,
          8
         ],
         "yaxis": "y"
        }
       ],
       "layout": {
        "annotations": [
         {
          "font": {},
          "showarrow": false,
          "text": "helpful=0",
          "textangle": 90,
          "x": 0.98,
          "xanchor": "left",
          "xref": "paper",
          "y": 0.2425,
          "yanchor": "middle",
          "yref": "paper"
         },
         {
          "font": {},
          "showarrow": false,
          "text": "helpful=1",
          "textangle": 90,
          "x": 0.98,
          "xanchor": "left",
          "xref": "paper",
          "y": 0.7575000000000001,
          "yanchor": "middle",
          "yref": "paper"
         }
        ],
        "coloraxis": {
         "colorbar": {
          "title": {
           "text": "score"
          }
         },
         "colorscale": [
          [
           0,
           "#0d0887"
          ],
          [
           0.1111111111111111,
           "#46039f"
          ],
          [
           0.2222222222222222,
           "#7201a8"
          ],
          [
           0.3333333333333333,
           "#9c179e"
          ],
          [
           0.4444444444444444,
           "#bd3786"
          ],
          [
           0.5555555555555556,
           "#d8576b"
          ],
          [
           0.6666666666666666,
           "#ed7953"
          ],
          [
           0.7777777777777778,
           "#fb9f3a"
          ],
          [
           0.8888888888888888,
           "#fdca26"
          ],
          [
           1,
           "#f0f921"
          ]
         ]
        },
        "legend": {
         "tracegroupgap": 0
        },
        "margin": {
         "t": 60
        },
        "template": {
         "data": {
          "bar": [
           {
            "error_x": {
             "color": "#2a3f5f"
            },
            "error_y": {
             "color": "#2a3f5f"
            },
            "marker": {
             "line": {
              "color": "#E5ECF6",
              "width": 0.5
             }
            },
            "type": "bar"
           }
          ],
          "barpolar": [
           {
            "marker": {
             "line": {
              "color": "#E5ECF6",
              "width": 0.5
             }
            },
            "type": "barpolar"
           }
          ],
          "carpet": [
           {
            "aaxis": {
             "endlinecolor": "#2a3f5f",
             "gridcolor": "white",
             "linecolor": "white",
             "minorgridcolor": "white",
             "startlinecolor": "#2a3f5f"
            },
            "baxis": {
             "endlinecolor": "#2a3f5f",
             "gridcolor": "white",
             "linecolor": "white",
             "minorgridcolor": "white",
             "startlinecolor": "#2a3f5f"
            },
            "type": "carpet"
           }
          ],
          "choropleth": [
           {
            "colorbar": {
             "outlinewidth": 0,
             "ticks": ""
            },
            "type": "choropleth"
           }
          ],
          "contour": [
           {
            "colorbar": {
             "outlinewidth": 0,
             "ticks": ""
            },
            "colorscale": [
             [
              0,
              "#0d0887"
             ],
             [
              0.1111111111111111,
              "#46039f"
             ],
             [
              0.2222222222222222,
              "#7201a8"
             ],
             [
              0.3333333333333333,
              "#9c179e"
             ],
             [
              0.4444444444444444,
              "#bd3786"
             ],
             [
              0.5555555555555556,
              "#d8576b"
             ],
             [
              0.6666666666666666,
              "#ed7953"
             ],
             [
              0.7777777777777778,
              "#fb9f3a"
             ],
             [
              0.8888888888888888,
              "#fdca26"
             ],
             [
              1,
              "#f0f921"
             ]
            ],
            "type": "contour"
           }
          ],
          "contourcarpet": [
           {
            "colorbar": {
             "outlinewidth": 0,
             "ticks": ""
            },
            "type": "contourcarpet"
           }
          ],
          "heatmap": [
           {
            "colorbar": {
             "outlinewidth": 0,
             "ticks": ""
            },
            "colorscale": [
             [
              0,
              "#0d0887"
             ],
             [
              0.1111111111111111,
              "#46039f"
             ],
             [
              0.2222222222222222,
              "#7201a8"
             ],
             [
              0.3333333333333333,
              "#9c179e"
             ],
             [
              0.4444444444444444,
              "#bd3786"
             ],
             [
              0.5555555555555556,
              "#d8576b"
             ],
             [
              0.6666666666666666,
              "#ed7953"
             ],
             [
              0.7777777777777778,
              "#fb9f3a"
             ],
             [
              0.8888888888888888,
              "#fdca26"
             ],
             [
              1,
              "#f0f921"
             ]
            ],
            "type": "heatmap"
           }
          ],
          "heatmapgl": [
           {
            "colorbar": {
             "outlinewidth": 0,
             "ticks": ""
            },
            "colorscale": [
             [
              0,
              "#0d0887"
             ],
             [
              0.1111111111111111,
              "#46039f"
             ],
             [
              0.2222222222222222,
              "#7201a8"
             ],
             [
              0.3333333333333333,
              "#9c179e"
             ],
             [
              0.4444444444444444,
              "#bd3786"
             ],
             [
              0.5555555555555556,
              "#d8576b"
             ],
             [
              0.6666666666666666,
              "#ed7953"
             ],
             [
              0.7777777777777778,
              "#fb9f3a"
             ],
             [
              0.8888888888888888,
              "#fdca26"
             ],
             [
              1,
              "#f0f921"
             ]
            ],
            "type": "heatmapgl"
           }
          ],
          "histogram": [
           {
            "marker": {
             "colorbar": {
              "outlinewidth": 0,
              "ticks": ""
             }
            },
            "type": "histogram"
           }
          ],
          "histogram2d": [
           {
            "colorbar": {
             "outlinewidth": 0,
             "ticks": ""
            },
            "colorscale": [
             [
              0,
              "#0d0887"
             ],
             [
              0.1111111111111111,
              "#46039f"
             ],
             [
              0.2222222222222222,
              "#7201a8"
             ],
             [
              0.3333333333333333,
              "#9c179e"
             ],
             [
              0.4444444444444444,
              "#bd3786"
             ],
             [
              0.5555555555555556,
              "#d8576b"
             ],
             [
              0.6666666666666666,
              "#ed7953"
             ],
             [
              0.7777777777777778,
              "#fb9f3a"
             ],
             [
              0.8888888888888888,
              "#fdca26"
             ],
             [
              1,
              "#f0f921"
             ]
            ],
            "type": "histogram2d"
           }
          ],
          "histogram2dcontour": [
           {
            "colorbar": {
             "outlinewidth": 0,
             "ticks": ""
            },
            "colorscale": [
             [
              0,
              "#0d0887"
             ],
             [
              0.1111111111111111,
              "#46039f"
             ],
             [
              0.2222222222222222,
              "#7201a8"
             ],
             [
              0.3333333333333333,
              "#9c179e"
             ],
             [
              0.4444444444444444,
              "#bd3786"
             ],
             [
              0.5555555555555556,
              "#d8576b"
             ],
             [
              0.6666666666666666,
              "#ed7953"
             ],
             [
              0.7777777777777778,
              "#fb9f3a"
             ],
             [
              0.8888888888888888,
              "#fdca26"
             ],
             [
              1,
              "#f0f921"
             ]
            ],
            "type": "histogram2dcontour"
           }
          ],
          "mesh3d": [
           {
            "colorbar": {
             "outlinewidth": 0,
             "ticks": ""
            },
            "type": "mesh3d"
           }
          ],
          "parcoords": [
           {
            "line": {
             "colorbar": {
              "outlinewidth": 0,
              "ticks": ""
             }
            },
            "type": "parcoords"
           }
          ],
          "pie": [
           {
            "automargin": true,
            "type": "pie"
           }
          ],
          "scatter": [
           {
            "marker": {
             "colorbar": {
              "outlinewidth": 0,
              "ticks": ""
             }
            },
            "type": "scatter"
           }
          ],
          "scatter3d": [
           {
            "line": {
             "colorbar": {
              "outlinewidth": 0,
              "ticks": ""
             }
            },
            "marker": {
             "colorbar": {
              "outlinewidth": 0,
              "ticks": ""
             }
            },
            "type": "scatter3d"
           }
          ],
          "scattercarpet": [
           {
            "marker": {
             "colorbar": {
              "outlinewidth": 0,
              "ticks": ""
             }
            },
            "type": "scattercarpet"
           }
          ],
          "scattergeo": [
           {
            "marker": {
             "colorbar": {
              "outlinewidth": 0,
              "ticks": ""
             }
            },
            "type": "scattergeo"
           }
          ],
          "scattergl": [
           {
            "marker": {
             "colorbar": {
              "outlinewidth": 0,
              "ticks": ""
             }
            },
            "type": "scattergl"
           }
          ],
          "scattermapbox": [
           {
            "marker": {
             "colorbar": {
              "outlinewidth": 0,
              "ticks": ""
             }
            },
            "type": "scattermapbox"
           }
          ],
          "scatterpolar": [
           {
            "marker": {
             "colorbar": {
              "outlinewidth": 0,
              "ticks": ""
             }
            },
            "type": "scatterpolar"
           }
          ],
          "scatterpolargl": [
           {
            "marker": {
             "colorbar": {
              "outlinewidth": 0,
              "ticks": ""
             }
            },
            "type": "scatterpolargl"
           }
          ],
          "scatterternary": [
           {
            "marker": {
             "colorbar": {
              "outlinewidth": 0,
              "ticks": ""
             }
            },
            "type": "scatterternary"
           }
          ],
          "surface": [
           {
            "colorbar": {
             "outlinewidth": 0,
             "ticks": ""
            },
            "colorscale": [
             [
              0,
              "#0d0887"
             ],
             [
              0.1111111111111111,
              "#46039f"
             ],
             [
              0.2222222222222222,
              "#7201a8"
             ],
             [
              0.3333333333333333,
              "#9c179e"
             ],
             [
              0.4444444444444444,
              "#bd3786"
             ],
             [
              0.5555555555555556,
              "#d8576b"
             ],
             [
              0.6666666666666666,
              "#ed7953"
             ],
             [
              0.7777777777777778,
              "#fb9f3a"
             ],
             [
              0.8888888888888888,
              "#fdca26"
             ],
             [
              1,
              "#f0f921"
             ]
            ],
            "type": "surface"
           }
          ],
          "table": [
           {
            "cells": {
             "fill": {
              "color": "#EBF0F8"
             },
             "line": {
              "color": "white"
             }
            },
            "header": {
             "fill": {
              "color": "#C8D4E3"
             },
             "line": {
              "color": "white"
             }
            },
            "type": "table"
           }
          ]
         },
         "layout": {
          "annotationdefaults": {
           "arrowcolor": "#2a3f5f",
           "arrowhead": 0,
           "arrowwidth": 1
          },
          "coloraxis": {
           "colorbar": {
            "outlinewidth": 0,
            "ticks": ""
           }
          },
          "colorscale": {
           "diverging": [
            [
             0,
             "#8e0152"
            ],
            [
             0.1,
             "#c51b7d"
            ],
            [
             0.2,
             "#de77ae"
            ],
            [
             0.3,
             "#f1b6da"
            ],
            [
             0.4,
             "#fde0ef"
            ],
            [
             0.5,
             "#f7f7f7"
            ],
            [
             0.6,
             "#e6f5d0"
            ],
            [
             0.7,
             "#b8e186"
            ],
            [
             0.8,
             "#7fbc41"
            ],
            [
             0.9,
             "#4d9221"
            ],
            [
             1,
             "#276419"
            ]
           ],
           "sequential": [
            [
             0,
             "#0d0887"
            ],
            [
             0.1111111111111111,
             "#46039f"
            ],
            [
             0.2222222222222222,
             "#7201a8"
            ],
            [
             0.3333333333333333,
             "#9c179e"
            ],
            [
             0.4444444444444444,
             "#bd3786"
            ],
            [
             0.5555555555555556,
             "#d8576b"
            ],
            [
             0.6666666666666666,
             "#ed7953"
            ],
            [
             0.7777777777777778,
             "#fb9f3a"
            ],
            [
             0.8888888888888888,
             "#fdca26"
            ],
            [
             1,
             "#f0f921"
            ]
           ],
           "sequentialminus": [
            [
             0,
             "#0d0887"
            ],
            [
             0.1111111111111111,
             "#46039f"
            ],
            [
             0.2222222222222222,
             "#7201a8"
            ],
            [
             0.3333333333333333,
             "#9c179e"
            ],
            [
             0.4444444444444444,
             "#bd3786"
            ],
            [
             0.5555555555555556,
             "#d8576b"
            ],
            [
             0.6666666666666666,
             "#ed7953"
            ],
            [
             0.7777777777777778,
             "#fb9f3a"
            ],
            [
             0.8888888888888888,
             "#fdca26"
            ],
            [
             1,
             "#f0f921"
            ]
           ]
          },
          "colorway": [
           "#636efa",
           "#EF553B",
           "#00cc96",
           "#ab63fa",
           "#FFA15A",
           "#19d3f3",
           "#FF6692",
           "#B6E880",
           "#FF97FF",
           "#FECB52"
          ],
          "font": {
           "color": "#2a3f5f"
          },
          "geo": {
           "bgcolor": "white",
           "lakecolor": "white",
           "landcolor": "#E5ECF6",
           "showlakes": true,
           "showland": true,
           "subunitcolor": "white"
          },
          "hoverlabel": {
           "align": "left"
          },
          "hovermode": "closest",
          "mapbox": {
           "style": "light"
          },
          "paper_bgcolor": "white",
          "plot_bgcolor": "#E5ECF6",
          "polar": {
           "angularaxis": {
            "gridcolor": "white",
            "linecolor": "white",
            "ticks": ""
           },
           "bgcolor": "#E5ECF6",
           "radialaxis": {
            "gridcolor": "white",
            "linecolor": "white",
            "ticks": ""
           }
          },
          "scene": {
           "xaxis": {
            "backgroundcolor": "#E5ECF6",
            "gridcolor": "white",
            "gridwidth": 2,
            "linecolor": "white",
            "showbackground": true,
            "ticks": "",
            "zerolinecolor": "white"
           },
           "yaxis": {
            "backgroundcolor": "#E5ECF6",
            "gridcolor": "white",
            "gridwidth": 2,
            "linecolor": "white",
            "showbackground": true,
            "ticks": "",
            "zerolinecolor": "white"
           },
           "zaxis": {
            "backgroundcolor": "#E5ECF6",
            "gridcolor": "white",
            "gridwidth": 2,
            "linecolor": "white",
            "showbackground": true,
            "ticks": "",
            "zerolinecolor": "white"
           }
          },
          "shapedefaults": {
           "line": {
            "color": "#2a3f5f"
           }
          },
          "ternary": {
           "aaxis": {
            "gridcolor": "white",
            "linecolor": "white",
            "ticks": ""
           },
           "baxis": {
            "gridcolor": "white",
            "linecolor": "white",
            "ticks": ""
           },
           "bgcolor": "#E5ECF6",
           "caxis": {
            "gridcolor": "white",
            "linecolor": "white",
            "ticks": ""
           }
          },
          "title": {
           "x": 0.05
          },
          "xaxis": {
           "automargin": true,
           "gridcolor": "white",
           "linecolor": "white",
           "ticks": "",
           "title": {
            "standoff": 15
           },
           "zerolinecolor": "white",
           "zerolinewidth": 2
          },
          "yaxis": {
           "automargin": true,
           "gridcolor": "white",
           "linecolor": "white",
           "ticks": "",
           "title": {
            "standoff": 15
           },
           "zerolinecolor": "white",
           "zerolinewidth": 2
          }
         }
        },
        "xaxis": {
         "anchor": "y",
         "domain": [
          0,
          0.98
         ],
         "title": {
          "text": "예측"
         }
        },
        "xaxis2": {
         "anchor": "y2",
         "domain": [
          0,
          0.98
         ],
         "matches": "x",
         "showticklabels": false
        },
        "yaxis": {
         "anchor": "x",
         "domain": [
          0,
          0.485
         ],
         "title": {
          "text": "length"
         }
        },
        "yaxis2": {
         "anchor": "x2",
         "domain": [
          0.515,
          1
         ],
         "matches": "y",
         "title": {
          "text": "length"
         }
        }
       }
      },
      "text/html": [
       "<div>                            <div id=\"44827050-87e8-4434-963a-6beb168fb32c\" class=\"plotly-graph-div\" style=\"height:525px; width:100%;\"></div>            <script type=\"text/javascript\">                require([\"plotly\"], function(Plotly) {                    window.PLOTLYENV=window.PLOTLYENV || {};                                    if (document.getElementById(\"44827050-87e8-4434-963a-6beb168fb32c\")) {                    Plotly.newPlot(                        \"44827050-87e8-4434-963a-6beb168fb32c\",                        [{\"hovertemplate\": \"helpful=1<br>\\uc608\\uce21=%{x}<br>length=%{y}<br>score=%{marker.color}<extra></extra>\", \"legendgroup\": \"\", \"marker\": {\"color\": [10.0, 8.0, 8.0, 10.0, 10.0, 5.2, 8.8, 10.0, 10.0, 9.6, 8.0, 10.0, 7.6, 10.0, 9.6, 10.0, 9.6, 8.0, 10.0, 10.0, 8.8, 3.6, 10.0, 8.0, 8.4, 10.0, 8.4, 5.6, 10.0, 4.0, 4.8, 10.0, 8.0, 10.0, 10.0, 10.0, 10.0, 10.0, 6.4, 10.0, 8.0, 10.0, 8.8, 7.2, 4.4, 10.0, 10.0, 8.8, 8.0, 10.0, 10.0, 10.0, 9.2, 7.2, 10.0, 10.0, 9.2, 8.4, 10.0, 8.8, 7.2, 10.0, 10.0, 9.2, 10.0, 8.0, 7.6, 8.0, 8.4, 8.8, 6.4, 6.4, 10.0, 9.6, 10.0, 9.6, 10.0, 10.0, 8.0, 9.6, 10.0, 7.2, 10.0, 8.0, 10.0, 10.0, 4.0, 10.0, 10.0, 8.0, 8.0, 10.0, 7.6, 10.0, 9.2, 10.0, 10.0, 10.0, 8.4, 10.0, 10.0, 10.0, 10.0, 10.0, 7.2, 10.0, 9.6, 10.0, 10.0, 6.0, 10.0, 10.0, 9.6, 10.0, 10.0, 10.0, 9.6, 10.0, 10.0, 8.8, 4.0, 7.6, 10.0, 10.0, 4.4, 9.2, 8.0, 7.2, 10.0, 9.2, 8.0, 10.0, 10.0, 8.0, 10.0, 6.0, 10.0, 10.0, 10.0, 10.0, 9.2, 8.0, 10.0, 9.6, 8.0, 8.0, 8.0, 10.0, 8.0, 9.6, 10.0, 8.0, 10.0, 6.0, 10.0, 10.0, 9.2, 10.0, 8.4, 9.2, 10.0, 10.0, 9.6, 8.0, 10.0, 10.0, 10.0, 8.4, 10.0, 8.4, 10.0, 10.0, 6.8, 10.0, 9.2, 10.0, 8.4, 10.0, 10.0, 8.8, 10.0, 8.4, 9.2, 8.0, 9.2, 10.0, 10.0, 9.2, 10.0, 10.0, 8.4, 9.6, 10.0, 9.2, 10.0, 10.0, 8.0], \"coloraxis\": \"coloraxis\", \"symbol\": \"circle\"}, \"mode\": \"markers\", \"name\": \"\", \"orientation\": \"v\", \"showlegend\": false, \"type\": \"scatter\", \"x\": [0.77, 0.48, 0.99, 0.84, 0.81, 0.85, 0.73, 0.4, 0.59, 0.92, 0.49, 0.3, 0.77, 0.65, 0.97, 0.97, 0.72, 0.95, 0.31, 0.76, 1.0, 0.88, 0.83, 0.81, 0.9, 0.43, 0.84, 0.92, 0.89, 0.91, 0.99, 0.8, 0.86, 0.33, 0.32, 0.73, 0.31, 0.5, 0.93, 0.88, 0.9, 0.17, 0.96, 0.94, 0.98, 0.7, 0.89, 0.96, 0.99, 0.47, 0.98, 0.64, 0.7, 0.51, 0.67, 0.4, 0.67, 0.79, 0.44, 0.98, 0.96, 0.97, 0.61, 0.55, 0.19, 0.96, 0.63, 0.8, 0.81, 0.94, 0.98, 0.86, 0.39, 0.96, 0.29, 0.7, 0.93, 0.79, 0.53, 0.63, 0.32, 0.96, 0.7, 0.98, 0.88, 0.87, 0.99, 0.88, 0.56, 0.89, 0.95, 0.8, 0.93, 0.97, 0.85, 0.97, 0.6, 0.48, 0.93, 0.88, 0.83, 0.37, 0.97, 0.79, 0.82, 0.29, 0.47, 0.67, 0.59, 0.95, 0.37, 0.69, 0.99, 0.92, 0.78, 0.71, 0.99, 0.3, 0.49, 0.95, 0.92, 0.99, 0.68, 0.4, 0.64, 0.79, 0.38, 0.47, 0.85, 0.79, 0.97, 0.41, 0.41, 0.5, 0.49, 0.91, 0.58, 0.72, 0.98, 0.89, 0.61, 0.31, 0.81, 0.89, 0.9, 0.27, 0.94, 0.99, 0.81, 0.94, 0.93, 0.92, 0.91, 0.97, 0.1, 0.84, 0.88, 0.47, 0.61, 0.38, 0.58, 0.58, 0.46, 0.69, 0.25, 0.56, 0.55, 1.0, 0.73, 0.25, 0.98, 0.73, 0.85, 0.32, 0.99, 0.73, 0.77, 0.96, 0.5, 0.99, 0.71, 0.98, 0.64, 0.98, 0.79, 0.95, 0.8, 0.95, 0.34, 0.41, 0.89, 0.65, 0.86, 0.98, 0.99, 0.99, 0.95], \"xaxis\": \"x2\", \"y\": [49, 37, 226, 71, 56, 125, 48, 100, 28, 98, 23, 20, 78, 55, 166, 70, 38, 105, 18, 73, 252, 70, 79, 53, 62, 64, 191, 125, 83, 177, 197, 83, 171, 19, 21, 38, 18, 30, 103, 142, 71, 13, 104, 71, 150, 87, 153, 89, 156, 32, 106, 42, 37, 28, 28, 27, 52, 77, 31, 157, 181, 86, 30, 30, 23, 68, 35, 114, 114, 102, 144, 103, 18, 198, 19, 33, 344, 66, 35, 34, 19, 116, 44, 153, 88, 66, 205, 285, 39, 193, 137, 50, 103, 190, 56, 120, 31, 62, 114, 42, 99, 21, 228, 63, 85, 22, 30, 92, 61, 136, 22, 214, 173, 77, 137, 71, 177, 22, 37, 79, 117, 155, 59, 26, 35, 47, 22, 20, 86, 41, 93, 30, 36, 24, 23, 84, 34, 36, 117, 94, 36, 20, 127, 64, 110, 17, 99, 143, 143, 74, 110, 137, 73, 293, 13, 39, 204, 24, 51, 28, 38, 27, 36, 59, 28, 23, 20, 112, 84, 37, 162, 46, 86, 24, 206, 54, 46, 104, 50, 125, 62, 202, 29, 157, 77, 124, 68, 143, 64, 18, 49, 74, 103, 174, 196, 231, 113], \"yaxis\": \"y2\"}, {\"hovertemplate\": \"helpful=0<br>\\uc608\\uce21=%{x}<br>length=%{y}<br>score=%{marker.color}<extra></extra>\", \"legendgroup\": \"\", \"marker\": {\"color\": [10.0, 8.0, 10.0, 10.0, 8.0, 10.0, 10.0, 8.0, 9.6, 10.0, 10.0, 10.0, 10.0, 10.0, 8.0, 10.0, 10.0, 10.0, 10.0, 10.0, 10.0, 10.0, 10.0, 10.0, 10.0, 2.0, 8.0, 10.0, 10.0, 10.0, 10.0, 10.0, 10.0, 8.8, 10.0, 10.0, 10.0, 10.0, 10.0, 10.0, 8.0, 10.0, 10.0, 8.0, 10.0, 9.2, 10.0, 10.0, 10.0, 10.0, 10.0, 10.0, 10.0, 10.0, 10.0, 10.0, 10.0, 10.0, 10.0, 10.0, 10.0, 10.0, 8.0, 10.0, 10.0, 10.0, 10.0, 10.0, 10.0, 10.0, 10.0, 10.0, 10.0, 10.0, 8.0, 10.0, 10.0, 10.0, 10.0, 8.0, 10.0, 10.0, 10.0, 10.0, 8.0, 10.0, 10.0, 10.0, 10.0, 10.0, 10.0, 10.0, 10.0, 10.0, 9.6, 10.0, 10.0, 10.0, 8.0, 10.0, 10.0, 8.0, 8.0, 10.0, 10.0, 10.0, 10.0, 10.0, 10.0, 10.0, 10.0, 10.0, 6.8, 8.0, 10.0, 10.0, 10.0, 6.0, 10.0, 10.0, 10.0, 10.0, 10.0, 10.0, 10.0, 8.0, 8.0, 10.0, 8.8, 10.0, 10.0, 10.0, 10.0, 10.0, 8.0, 10.0, 8.0, 10.0, 10.0, 10.0, 10.0, 10.0, 10.0, 8.0, 10.0, 10.0, 10.0, 10.0, 10.0, 10.0, 10.0, 10.0, 10.0, 10.0, 8.0, 10.0, 10.0, 10.0, 8.0, 10.0, 10.0, 10.0, 8.0, 7.2, 10.0, 10.0, 10.0, 10.0, 10.0, 10.0, 10.0, 10.0, 10.0, 10.0, 8.0, 10.0, 10.0, 10.0, 10.0, 10.0, 8.0, 10.0, 10.0, 10.0, 10.0, 10.0, 10.0, 10.0, 10.0, 10.0, 8.0, 10.0, 10.0, 8.0, 8.0, 10.0, 8.0, 10.0, 10.0, 10.0, 10.0, 10.0, 8.0, 10.0, 8.0, 9.2, 10.0, 10.0, 8.4, 10.0, 10.0, 10.0, 10.0, 10.0, 10.0, 10.0, 10.0, 10.0, 10.0, 10.0, 7.6, 10.0, 9.6, 10.0, 8.0, 10.0, 10.0, 10.0, 10.0, 2.0, 10.0, 10.0, 10.0, 10.0, 10.0, 10.0, 10.0, 8.0, 6.0, 10.0, 10.0, 10.0, 10.0, 4.0, 10.0, 10.0, 10.0, 10.0, 10.0, 10.0, 8.0, 10.0, 10.0, 8.0, 10.0, 8.0, 9.6, 10.0, 10.0, 10.0, 10.0, 2.0, 10.0, 10.0, 10.0, 10.0, 10.0, 10.0, 8.0, 10.0, 9.6, 10.0, 10.0, 10.0, 10.0, 10.0, 10.0, 10.0, 8.0, 10.0, 10.0, 10.0, 8.8, 10.0, 2.0], \"coloraxis\": \"coloraxis\", \"symbol\": \"circle\"}, \"mode\": \"markers\", \"name\": \"\", \"orientation\": \"v\", \"showlegend\": false, \"type\": \"scatter\", \"x\": [0.09, 0.56, 0.06, 0.06, 0.19, 0.02, 0.02, 0.01, 0.62, 0.04, 0.03, 0.15, 0.75, 0.02, 0.02, 0.01, 0.01, 0.07, 0.13, 0.11, 0.07, 0.02, 0.03, 0.08, 0.08, 0.13, 0.89, 0.02, 0.17, 0.07, 0.61, 0.01, 0.06, 0.23, 0.11, 0.29, 0.18, 0.01, 0.17, 0.02, 0.04, 0.06, 0.2, 0.11, 0.14, 0.15, 0.28, 0.51, 0.06, 0.17, 0.03, 0.17, 0.27, 0.51, 0.4, 0.02, 0.04, 0.13, 0.06, 0.09, 0.05, 0.26, 0.57, 0.02, 0.16, 0.13, 0.11, 0.11, 0.0, 0.08, 0.09, 0.27, 0.05, 0.07, 0.06, 0.07, 0.62, 0.02, 0.08, 0.02, 0.18, 0.6, 0.04, 0.06, 0.02, 0.03, 0.04, 0.03, 0.97, 0.3, 0.02, 0.02, 0.02, 0.03, 0.23, 0.06, 0.05, 0.14, 0.41, 0.09, 0.04, 0.03, 0.43, 0.02, 0.06, 0.04, 0.06, 0.05, 0.05, 0.02, 0.02, 0.04, 0.54, 0.36, 0.02, 0.04, 0.03, 0.26, 0.2, 0.15, 0.03, 0.05, 0.04, 0.36, 0.1, 0.04, 0.11, 0.05, 0.4, 0.59, 0.05, 0.03, 0.05, 0.01, 0.01, 0.39, 0.09, 0.33, 0.03, 0.03, 0.08, 0.14, 0.09, 0.55, 0.69, 0.06, 0.24, 0.02, 0.19, 0.08, 0.07, 0.53, 0.17, 0.48, 0.33, 0.02, 0.13, 0.07, 0.02, 0.3, 0.01, 0.16, 0.03, 0.73, 0.03, 0.03, 0.03, 0.03, 0.01, 0.1, 0.03, 0.07, 0.28, 0.79, 0.02, 0.8, 0.02, 0.02, 0.02, 0.22, 0.34, 0.05, 0.05, 0.48, 0.07, 0.07, 0.04, 0.03, 0.09, 0.37, 0.32, 0.02, 0.36, 0.23, 0.43, 0.02, 0.01, 0.01, 0.08, 0.08, 0.02, 0.3, 0.04, 0.07, 0.01, 0.32, 0.03, 0.06, 0.82, 0.71, 0.5, 0.04, 0.13, 0.22, 0.02, 0.11, 0.32, 0.03, 0.04, 0.42, 0.13, 0.31, 0.39, 0.08, 0.14, 0.04, 0.59, 0.03, 0.12, 0.0, 0.2, 0.06, 0.02, 0.23, 0.01, 0.06, 0.06, 0.58, 0.41, 0.47, 0.23, 0.8, 0.3, 0.02, 0.19, 0.33, 0.01, 0.06, 0.32, 0.1, 0.14, 0.36, 0.03, 0.02, 0.05, 0.07, 0.13, 0.07, 0.47, 0.22, 0.05, 0.01, 0.03, 0.15, 0.45, 0.16, 0.02, 0.04, 0.26, 0.04, 0.33, 0.18, 0.02, 0.67, 0.03, 0.31, 0.08, 0.02, 0.02, 0.08, 0.88, 0.06, 0.51, 0.16, 0.04], \"xaxis\": \"x\", \"y\": [11, 41, 11, 10, 18, 5, 5, 5, 44, 7, 6, 16, 104, 5, 5, 3, 3, 7, 12, 14, 8, 5, 8, 13, 13, 14, 92, 6, 17, 10, 39, 4, 11, 17, 14, 35, 23, 5, 16, 6, 8, 10, 12, 14, 23, 15, 28, 34, 9, 16, 6, 13, 22, 61, 24, 5, 8, 14, 9, 13, 8, 20, 44, 5, 11, 16, 15, 15, 5, 11, 12, 20, 7, 10, 9, 10, 36, 5, 8, 5, 17, 38, 7, 9, 5, 7, 9, 6, 123, 23, 5, 5, 5, 6, 29, 10, 8, 15, 48, 13, 9, 6, 57, 5, 12, 11, 9, 8, 8, 5, 5, 10, 43, 14, 5, 8, 6, 25, 16, 16, 7, 9, 8, 25, 10, 9, 14, 10, 24, 35, 10, 6, 10, 5, 5, 25, 11, 24, 6, 6, 12, 14, 12, 25, 38, 11, 14, 5, 21, 12, 11, 30, 18, 104, 23, 6, 13, 10, 5, 139, 4, 19, 6, 66, 6, 7, 6, 8, 4, 12, 6, 12, 32, 41, 5, 79, 5, 5, 5, 24, 25, 8, 8, 28, 6, 10, 7, 8, 10, 29, 22, 5, 24, 14, 43, 5, 4, 3, 11, 12, 5, 21, 9, 10, 3, 33, 6, 10, 162, 63, 31, 7, 17, 16, 5, 12, 21, 6, 8, 24, 13, 16, 35, 11, 20, 8, 39, 6, 14, 2, 16, 10, 5, 28, 5, 9, 13, 63, 47, 43, 28, 38, 30, 5, 23, 26, 3, 11, 16, 13, 15, 27, 7, 5, 10, 10, 17, 10, 24, 22, 8, 3, 9, 24, 43, 29, 5, 7, 18, 8, 30, 11, 5, 57, 6, 38, 11, 5, 5, 11, 97, 11, 35, 11, 8], \"yaxis\": \"y\"}],                        {\"annotations\": [{\"font\": {}, \"showarrow\": false, \"text\": \"helpful=0\", \"textangle\": 90, \"x\": 0.98, \"xanchor\": \"left\", \"xref\": \"paper\", \"y\": 0.2425, \"yanchor\": \"middle\", \"yref\": \"paper\"}, {\"font\": {}, \"showarrow\": false, \"text\": \"helpful=1\", \"textangle\": 90, \"x\": 0.98, \"xanchor\": \"left\", \"xref\": \"paper\", \"y\": 0.7575000000000001, \"yanchor\": \"middle\", \"yref\": \"paper\"}], \"coloraxis\": {\"colorbar\": {\"title\": {\"text\": \"score\"}}, \"colorscale\": [[0.0, \"#0d0887\"], [0.1111111111111111, \"#46039f\"], [0.2222222222222222, \"#7201a8\"], [0.3333333333333333, \"#9c179e\"], [0.4444444444444444, \"#bd3786\"], [0.5555555555555556, \"#d8576b\"], [0.6666666666666666, \"#ed7953\"], [0.7777777777777778, \"#fb9f3a\"], [0.8888888888888888, \"#fdca26\"], [1.0, \"#f0f921\"]]}, \"legend\": {\"tracegroupgap\": 0}, \"margin\": {\"t\": 60}, \"template\": {\"data\": {\"bar\": [{\"error_x\": {\"color\": \"#2a3f5f\"}, \"error_y\": {\"color\": \"#2a3f5f\"}, \"marker\": {\"line\": {\"color\": \"#E5ECF6\", \"width\": 0.5}}, \"type\": \"bar\"}], \"barpolar\": [{\"marker\": {\"line\": {\"color\": \"#E5ECF6\", \"width\": 0.5}}, \"type\": \"barpolar\"}], \"carpet\": [{\"aaxis\": {\"endlinecolor\": \"#2a3f5f\", \"gridcolor\": \"white\", \"linecolor\": \"white\", \"minorgridcolor\": \"white\", \"startlinecolor\": \"#2a3f5f\"}, \"baxis\": {\"endlinecolor\": \"#2a3f5f\", \"gridcolor\": \"white\", \"linecolor\": \"white\", \"minorgridcolor\": \"white\", \"startlinecolor\": \"#2a3f5f\"}, \"type\": \"carpet\"}], \"choropleth\": [{\"colorbar\": {\"outlinewidth\": 0, \"ticks\": \"\"}, \"type\": \"choropleth\"}], \"contour\": [{\"colorbar\": {\"outlinewidth\": 0, \"ticks\": \"\"}, \"colorscale\": [[0.0, \"#0d0887\"], [0.1111111111111111, \"#46039f\"], [0.2222222222222222, \"#7201a8\"], [0.3333333333333333, \"#9c179e\"], [0.4444444444444444, \"#bd3786\"], [0.5555555555555556, \"#d8576b\"], [0.6666666666666666, \"#ed7953\"], [0.7777777777777778, \"#fb9f3a\"], [0.8888888888888888, \"#fdca26\"], [1.0, \"#f0f921\"]], \"type\": \"contour\"}], \"contourcarpet\": [{\"colorbar\": {\"outlinewidth\": 0, \"ticks\": \"\"}, \"type\": \"contourcarpet\"}], \"heatmap\": [{\"colorbar\": {\"outlinewidth\": 0, \"ticks\": \"\"}, \"colorscale\": [[0.0, \"#0d0887\"], [0.1111111111111111, \"#46039f\"], [0.2222222222222222, \"#7201a8\"], [0.3333333333333333, \"#9c179e\"], [0.4444444444444444, \"#bd3786\"], [0.5555555555555556, \"#d8576b\"], [0.6666666666666666, \"#ed7953\"], [0.7777777777777778, \"#fb9f3a\"], [0.8888888888888888, \"#fdca26\"], [1.0, \"#f0f921\"]], \"type\": \"heatmap\"}], \"heatmapgl\": [{\"colorbar\": {\"outlinewidth\": 0, \"ticks\": \"\"}, \"colorscale\": [[0.0, \"#0d0887\"], [0.1111111111111111, \"#46039f\"], [0.2222222222222222, \"#7201a8\"], [0.3333333333333333, \"#9c179e\"], [0.4444444444444444, \"#bd3786\"], [0.5555555555555556, \"#d8576b\"], [0.6666666666666666, \"#ed7953\"], [0.7777777777777778, \"#fb9f3a\"], [0.8888888888888888, \"#fdca26\"], [1.0, \"#f0f921\"]], \"type\": \"heatmapgl\"}], \"histogram\": [{\"marker\": {\"colorbar\": {\"outlinewidth\": 0, \"ticks\": \"\"}}, \"type\": \"histogram\"}], \"histogram2d\": [{\"colorbar\": {\"outlinewidth\": 0, \"ticks\": \"\"}, \"colorscale\": [[0.0, \"#0d0887\"], [0.1111111111111111, \"#46039f\"], [0.2222222222222222, \"#7201a8\"], [0.3333333333333333, \"#9c179e\"], [0.4444444444444444, \"#bd3786\"], [0.5555555555555556, \"#d8576b\"], [0.6666666666666666, \"#ed7953\"], [0.7777777777777778, \"#fb9f3a\"], [0.8888888888888888, \"#fdca26\"], [1.0, \"#f0f921\"]], \"type\": \"histogram2d\"}], \"histogram2dcontour\": [{\"colorbar\": {\"outlinewidth\": 0, \"ticks\": \"\"}, \"colorscale\": [[0.0, \"#0d0887\"], [0.1111111111111111, \"#46039f\"], [0.2222222222222222, \"#7201a8\"], [0.3333333333333333, \"#9c179e\"], [0.4444444444444444, \"#bd3786\"], [0.5555555555555556, \"#d8576b\"], [0.6666666666666666, \"#ed7953\"], [0.7777777777777778, \"#fb9f3a\"], [0.8888888888888888, \"#fdca26\"], [1.0, \"#f0f921\"]], \"type\": \"histogram2dcontour\"}], \"mesh3d\": [{\"colorbar\": {\"outlinewidth\": 0, \"ticks\": \"\"}, \"type\": \"mesh3d\"}], \"parcoords\": [{\"line\": {\"colorbar\": {\"outlinewidth\": 0, \"ticks\": \"\"}}, \"type\": \"parcoords\"}], \"pie\": [{\"automargin\": true, \"type\": \"pie\"}], \"scatter\": [{\"marker\": {\"colorbar\": {\"outlinewidth\": 0, \"ticks\": \"\"}}, \"type\": \"scatter\"}], \"scatter3d\": [{\"line\": {\"colorbar\": {\"outlinewidth\": 0, \"ticks\": \"\"}}, \"marker\": {\"colorbar\": {\"outlinewidth\": 0, \"ticks\": \"\"}}, \"type\": \"scatter3d\"}], \"scattercarpet\": [{\"marker\": {\"colorbar\": {\"outlinewidth\": 0, \"ticks\": \"\"}}, \"type\": \"scattercarpet\"}], \"scattergeo\": [{\"marker\": {\"colorbar\": {\"outlinewidth\": 0, \"ticks\": \"\"}}, \"type\": \"scattergeo\"}], \"scattergl\": [{\"marker\": {\"colorbar\": {\"outlinewidth\": 0, \"ticks\": \"\"}}, \"type\": \"scattergl\"}], \"scattermapbox\": [{\"marker\": {\"colorbar\": {\"outlinewidth\": 0, \"ticks\": \"\"}}, \"type\": \"scattermapbox\"}], \"scatterpolar\": [{\"marker\": {\"colorbar\": {\"outlinewidth\": 0, \"ticks\": \"\"}}, \"type\": \"scatterpolar\"}], \"scatterpolargl\": [{\"marker\": {\"colorbar\": {\"outlinewidth\": 0, \"ticks\": \"\"}}, \"type\": \"scatterpolargl\"}], \"scatterternary\": [{\"marker\": {\"colorbar\": {\"outlinewidth\": 0, \"ticks\": \"\"}}, \"type\": \"scatterternary\"}], \"surface\": [{\"colorbar\": {\"outlinewidth\": 0, \"ticks\": \"\"}, \"colorscale\": [[0.0, \"#0d0887\"], [0.1111111111111111, \"#46039f\"], [0.2222222222222222, \"#7201a8\"], [0.3333333333333333, \"#9c179e\"], [0.4444444444444444, \"#bd3786\"], [0.5555555555555556, \"#d8576b\"], [0.6666666666666666, \"#ed7953\"], [0.7777777777777778, \"#fb9f3a\"], [0.8888888888888888, \"#fdca26\"], [1.0, \"#f0f921\"]], \"type\": \"surface\"}], \"table\": [{\"cells\": {\"fill\": {\"color\": \"#EBF0F8\"}, \"line\": {\"color\": \"white\"}}, \"header\": {\"fill\": {\"color\": \"#C8D4E3\"}, \"line\": {\"color\": \"white\"}}, \"type\": \"table\"}]}, \"layout\": {\"annotationdefaults\": {\"arrowcolor\": \"#2a3f5f\", \"arrowhead\": 0, \"arrowwidth\": 1}, \"coloraxis\": {\"colorbar\": {\"outlinewidth\": 0, \"ticks\": \"\"}}, \"colorscale\": {\"diverging\": [[0, \"#8e0152\"], [0.1, \"#c51b7d\"], [0.2, \"#de77ae\"], [0.3, \"#f1b6da\"], [0.4, \"#fde0ef\"], [0.5, \"#f7f7f7\"], [0.6, \"#e6f5d0\"], [0.7, \"#b8e186\"], [0.8, \"#7fbc41\"], [0.9, \"#4d9221\"], [1, \"#276419\"]], \"sequential\": [[0.0, \"#0d0887\"], [0.1111111111111111, \"#46039f\"], [0.2222222222222222, \"#7201a8\"], [0.3333333333333333, \"#9c179e\"], [0.4444444444444444, \"#bd3786\"], [0.5555555555555556, \"#d8576b\"], [0.6666666666666666, \"#ed7953\"], [0.7777777777777778, \"#fb9f3a\"], [0.8888888888888888, \"#fdca26\"], [1.0, \"#f0f921\"]], \"sequentialminus\": [[0.0, \"#0d0887\"], [0.1111111111111111, \"#46039f\"], [0.2222222222222222, \"#7201a8\"], [0.3333333333333333, \"#9c179e\"], [0.4444444444444444, \"#bd3786\"], [0.5555555555555556, \"#d8576b\"], [0.6666666666666666, \"#ed7953\"], [0.7777777777777778, \"#fb9f3a\"], [0.8888888888888888, \"#fdca26\"], [1.0, \"#f0f921\"]]}, \"colorway\": [\"#636efa\", \"#EF553B\", \"#00cc96\", \"#ab63fa\", \"#FFA15A\", \"#19d3f3\", \"#FF6692\", \"#B6E880\", \"#FF97FF\", \"#FECB52\"], \"font\": {\"color\": \"#2a3f5f\"}, \"geo\": {\"bgcolor\": \"white\", \"lakecolor\": \"white\", \"landcolor\": \"#E5ECF6\", \"showlakes\": true, \"showland\": true, \"subunitcolor\": \"white\"}, \"hoverlabel\": {\"align\": \"left\"}, \"hovermode\": \"closest\", \"mapbox\": {\"style\": \"light\"}, \"paper_bgcolor\": \"white\", \"plot_bgcolor\": \"#E5ECF6\", \"polar\": {\"angularaxis\": {\"gridcolor\": \"white\", \"linecolor\": \"white\", \"ticks\": \"\"}, \"bgcolor\": \"#E5ECF6\", \"radialaxis\": {\"gridcolor\": \"white\", \"linecolor\": \"white\", \"ticks\": \"\"}}, \"scene\": {\"xaxis\": {\"backgroundcolor\": \"#E5ECF6\", \"gridcolor\": \"white\", \"gridwidth\": 2, \"linecolor\": \"white\", \"showbackground\": true, \"ticks\": \"\", \"zerolinecolor\": \"white\"}, \"yaxis\": {\"backgroundcolor\": \"#E5ECF6\", \"gridcolor\": \"white\", \"gridwidth\": 2, \"linecolor\": \"white\", \"showbackground\": true, \"ticks\": \"\", \"zerolinecolor\": \"white\"}, \"zaxis\": {\"backgroundcolor\": \"#E5ECF6\", \"gridcolor\": \"white\", \"gridwidth\": 2, \"linecolor\": \"white\", \"showbackground\": true, \"ticks\": \"\", \"zerolinecolor\": \"white\"}}, \"shapedefaults\": {\"line\": {\"color\": \"#2a3f5f\"}}, \"ternary\": {\"aaxis\": {\"gridcolor\": \"white\", \"linecolor\": \"white\", \"ticks\": \"\"}, \"baxis\": {\"gridcolor\": \"white\", \"linecolor\": \"white\", \"ticks\": \"\"}, \"bgcolor\": \"#E5ECF6\", \"caxis\": {\"gridcolor\": \"white\", \"linecolor\": \"white\", \"ticks\": \"\"}}, \"title\": {\"x\": 0.05}, \"xaxis\": {\"automargin\": true, \"gridcolor\": \"white\", \"linecolor\": \"white\", \"ticks\": \"\", \"title\": {\"standoff\": 15}, \"zerolinecolor\": \"white\", \"zerolinewidth\": 2}, \"yaxis\": {\"automargin\": true, \"gridcolor\": \"white\", \"linecolor\": \"white\", \"ticks\": \"\", \"title\": {\"standoff\": 15}, \"zerolinecolor\": \"white\", \"zerolinewidth\": 2}}}, \"xaxis\": {\"anchor\": \"y\", \"domain\": [0.0, 0.98], \"title\": {\"text\": \"\\uc608\\uce21\"}}, \"xaxis2\": {\"anchor\": \"y2\", \"domain\": [0.0, 0.98], \"matches\": \"x\", \"showticklabels\": false}, \"yaxis\": {\"anchor\": \"x\", \"domain\": [0.0, 0.485], \"title\": {\"text\": \"length\"}}, \"yaxis2\": {\"anchor\": \"x2\", \"domain\": [0.515, 1.0], \"matches\": \"y\", \"title\": {\"text\": \"length\"}}},                        {\"responsive\": true}                    ).then(function(){\n",
       "                            \n",
       "var gd = document.getElementById('44827050-87e8-4434-963a-6beb168fb32c');\n",
       "var x = new MutationObserver(function (mutations, observer) {{\n",
       "        var display = window.getComputedStyle(gd).display;\n",
       "        if (!display || display === 'none') {{\n",
       "            console.log([gd, 'removed!']);\n",
       "            Plotly.purge(gd);\n",
       "            observer.disconnect();\n",
       "        }}\n",
       "}});\n",
       "\n",
       "// Listen for the removal of the full notebook cells\n",
       "var notebookContainer = gd.closest('#notebook-container');\n",
       "if (notebookContainer) {{\n",
       "    x.observe(notebookContainer, {childList: true});\n",
       "}}\n",
       "\n",
       "// Listen for the clearing of the current output cell\n",
       "var outputEl = gd.closest('.output');\n",
       "if (outputEl) {{\n",
       "    x.observe(outputEl, {childList: true});\n",
       "}}\n",
       "\n",
       "                        })                };                });            </script>        </div>"
      ]
     },
     "metadata": {},
     "output_type": "display_data"
    }
   ],
   "source": [
    "fig = px.scatter(scat, x= '예측', y = 'length', color = 'score',\n",
    "                  facet_row = 'helpful')\n",
    "fig.show()\n",
    "#facet_row 는 속성값에 따라 분리해서 scatter plot을 그림\n",
    "#길이에 따라 색 구분"
   ]
  },
  {
   "cell_type": "code",
   "execution_count": 44,
   "metadata": {},
   "outputs": [
    {
     "data": {
      "application/vnd.plotly.v1+json": {
       "config": {
        "plotlyServerURL": "https://plot.ly"
       },
       "data": [
        {
         "hovertemplate": "실제=도움O<br>helpful=1<br>예측=%{x}<br>length=%{y}<extra></extra>",
         "legendgroup": "도움O",
         "marker": {
          "color": "#636efa",
          "symbol": "circle"
         },
         "mode": "markers",
         "name": "도움O",
         "orientation": "v",
         "showlegend": true,
         "type": "scatter",
         "x": [
          0.77,
          0.48,
          0.99,
          0.84,
          0.81,
          0.85,
          0.73,
          0.4,
          0.59,
          0.92,
          0.49,
          0.3,
          0.77,
          0.65,
          0.97,
          0.97,
          0.72,
          0.95,
          0.31,
          0.76,
          1,
          0.88,
          0.83,
          0.81,
          0.9,
          0.43,
          0.84,
          0.92,
          0.89,
          0.91,
          0.99,
          0.8,
          0.86,
          0.33,
          0.32,
          0.73,
          0.31,
          0.5,
          0.93,
          0.88,
          0.9,
          0.17,
          0.96,
          0.94,
          0.98,
          0.7,
          0.89,
          0.96,
          0.99,
          0.47,
          0.98,
          0.64,
          0.7,
          0.51,
          0.67,
          0.4,
          0.67,
          0.79,
          0.44,
          0.98,
          0.96,
          0.97,
          0.61,
          0.55,
          0.19,
          0.96,
          0.63,
          0.8,
          0.81,
          0.94,
          0.98,
          0.86,
          0.39,
          0.96,
          0.29,
          0.7,
          0.93,
          0.79,
          0.53,
          0.63,
          0.32,
          0.96,
          0.7,
          0.98,
          0.88,
          0.87,
          0.99,
          0.88,
          0.56,
          0.89,
          0.95,
          0.8,
          0.93,
          0.97,
          0.85,
          0.97,
          0.6,
          0.48,
          0.93,
          0.88,
          0.83,
          0.37,
          0.97,
          0.79,
          0.82,
          0.29,
          0.47,
          0.67,
          0.59,
          0.95,
          0.37,
          0.69,
          0.99,
          0.92,
          0.78,
          0.71,
          0.99,
          0.3,
          0.49,
          0.95,
          0.92,
          0.99,
          0.68,
          0.4,
          0.64,
          0.79,
          0.38,
          0.47,
          0.85,
          0.79,
          0.97,
          0.41,
          0.41,
          0.5,
          0.49,
          0.91,
          0.58,
          0.72,
          0.98,
          0.89,
          0.61,
          0.31,
          0.81,
          0.89,
          0.9,
          0.27,
          0.94,
          0.99,
          0.81,
          0.94,
          0.93,
          0.92,
          0.91,
          0.97,
          0.1,
          0.84,
          0.88,
          0.47,
          0.61,
          0.38,
          0.58,
          0.58,
          0.46,
          0.69,
          0.25,
          0.56,
          0.55,
          1,
          0.73,
          0.25,
          0.98,
          0.73,
          0.85,
          0.32,
          0.99,
          0.73,
          0.77,
          0.96,
          0.5,
          0.99,
          0.71,
          0.98,
          0.64,
          0.98,
          0.79,
          0.95,
          0.8,
          0.95,
          0.34,
          0.41,
          0.89,
          0.65,
          0.86,
          0.98,
          0.99,
          0.99,
          0.95
         ],
         "xaxis": "x2",
         "y": [
          49,
          37,
          226,
          71,
          56,
          125,
          48,
          100,
          28,
          98,
          23,
          20,
          78,
          55,
          166,
          70,
          38,
          105,
          18,
          73,
          252,
          70,
          79,
          53,
          62,
          64,
          191,
          125,
          83,
          177,
          197,
          83,
          171,
          19,
          21,
          38,
          18,
          30,
          103,
          142,
          71,
          13,
          104,
          71,
          150,
          87,
          153,
          89,
          156,
          32,
          106,
          42,
          37,
          28,
          28,
          27,
          52,
          77,
          31,
          157,
          181,
          86,
          30,
          30,
          23,
          68,
          35,
          114,
          114,
          102,
          144,
          103,
          18,
          198,
          19,
          33,
          344,
          66,
          35,
          34,
          19,
          116,
          44,
          153,
          88,
          66,
          205,
          285,
          39,
          193,
          137,
          50,
          103,
          190,
          56,
          120,
          31,
          62,
          114,
          42,
          99,
          21,
          228,
          63,
          85,
          22,
          30,
          92,
          61,
          136,
          22,
          214,
          173,
          77,
          137,
          71,
          177,
          22,
          37,
          79,
          117,
          155,
          59,
          26,
          35,
          47,
          22,
          20,
          86,
          41,
          93,
          30,
          36,
          24,
          23,
          84,
          34,
          36,
          117,
          94,
          36,
          20,
          127,
          64,
          110,
          17,
          99,
          143,
          143,
          74,
          110,
          137,
          73,
          293,
          13,
          39,
          204,
          24,
          51,
          28,
          38,
          27,
          36,
          59,
          28,
          23,
          20,
          112,
          84,
          37,
          162,
          46,
          86,
          24,
          206,
          54,
          46,
          104,
          50,
          125,
          62,
          202,
          29,
          157,
          77,
          124,
          68,
          143,
          64,
          18,
          49,
          74,
          103,
          174,
          196,
          231,
          113
         ],
         "yaxis": "y2"
        },
        {
         "hovertemplate": "실제=도움X<br>helpful=0<br>예측=%{x}<br>length=%{y}<extra></extra>",
         "legendgroup": "도움X",
         "marker": {
          "color": "#EF553B",
          "symbol": "circle"
         },
         "mode": "markers",
         "name": "도움X",
         "orientation": "v",
         "showlegend": true,
         "type": "scatter",
         "x": [
          0.09,
          0.56,
          0.06,
          0.06,
          0.19,
          0.02,
          0.02,
          0.01,
          0.62,
          0.04,
          0.03,
          0.15,
          0.75,
          0.02,
          0.02,
          0.01,
          0.01,
          0.07,
          0.13,
          0.11,
          0.07,
          0.02,
          0.03,
          0.08,
          0.08,
          0.13,
          0.89,
          0.02,
          0.17,
          0.07,
          0.61,
          0.01,
          0.06,
          0.23,
          0.11,
          0.29,
          0.18,
          0.01,
          0.17,
          0.02,
          0.04,
          0.06,
          0.2,
          0.11,
          0.14,
          0.15,
          0.28,
          0.51,
          0.06,
          0.17,
          0.03,
          0.17,
          0.27,
          0.51,
          0.4,
          0.02,
          0.04,
          0.13,
          0.06,
          0.09,
          0.05,
          0.26,
          0.57,
          0.02,
          0.16,
          0.13,
          0.11,
          0.11,
          0,
          0.08,
          0.09,
          0.27,
          0.05,
          0.07,
          0.06,
          0.07,
          0.62,
          0.02,
          0.08,
          0.02,
          0.18,
          0.6,
          0.04,
          0.06,
          0.02,
          0.03,
          0.04,
          0.03,
          0.97,
          0.3,
          0.02,
          0.02,
          0.02,
          0.03,
          0.23,
          0.06,
          0.05,
          0.14,
          0.41,
          0.09,
          0.04,
          0.03,
          0.43,
          0.02,
          0.06,
          0.04,
          0.06,
          0.05,
          0.05,
          0.02,
          0.02,
          0.04,
          0.54,
          0.36,
          0.02,
          0.04,
          0.03,
          0.26,
          0.2,
          0.15,
          0.03,
          0.05,
          0.04,
          0.36,
          0.1,
          0.04,
          0.11,
          0.05,
          0.4,
          0.59,
          0.05,
          0.03,
          0.05,
          0.01,
          0.01,
          0.39,
          0.09,
          0.33,
          0.03,
          0.03,
          0.08,
          0.14,
          0.09,
          0.55,
          0.69,
          0.06,
          0.24,
          0.02,
          0.19,
          0.08,
          0.07,
          0.53,
          0.17,
          0.48,
          0.33,
          0.02,
          0.13,
          0.07,
          0.02,
          0.3,
          0.01,
          0.16,
          0.03,
          0.73,
          0.03,
          0.03,
          0.03,
          0.03,
          0.01,
          0.1,
          0.03,
          0.07,
          0.28,
          0.79,
          0.02,
          0.8,
          0.02,
          0.02,
          0.02,
          0.22,
          0.34,
          0.05,
          0.05,
          0.48,
          0.07,
          0.07,
          0.04,
          0.03,
          0.09,
          0.37,
          0.32,
          0.02,
          0.36,
          0.23,
          0.43,
          0.02,
          0.01,
          0.01,
          0.08,
          0.08,
          0.02,
          0.3,
          0.04,
          0.07,
          0.01,
          0.32,
          0.03,
          0.06,
          0.82,
          0.71,
          0.5,
          0.04,
          0.13,
          0.22,
          0.02,
          0.11,
          0.32,
          0.03,
          0.04,
          0.42,
          0.13,
          0.31,
          0.39,
          0.08,
          0.14,
          0.04,
          0.59,
          0.03,
          0.12,
          0,
          0.2,
          0.06,
          0.02,
          0.23,
          0.01,
          0.06,
          0.06,
          0.58,
          0.41,
          0.47,
          0.23,
          0.8,
          0.3,
          0.02,
          0.19,
          0.33,
          0.01,
          0.06,
          0.32,
          0.1,
          0.14,
          0.36,
          0.03,
          0.02,
          0.05,
          0.07,
          0.13,
          0.07,
          0.47,
          0.22,
          0.05,
          0.01,
          0.03,
          0.15,
          0.45,
          0.16,
          0.02,
          0.04,
          0.26,
          0.04,
          0.33,
          0.18,
          0.02,
          0.67,
          0.03,
          0.31,
          0.08,
          0.02,
          0.02,
          0.08,
          0.88,
          0.06,
          0.51,
          0.16,
          0.04
         ],
         "xaxis": "x",
         "y": [
          11,
          41,
          11,
          10,
          18,
          5,
          5,
          5,
          44,
          7,
          6,
          16,
          104,
          5,
          5,
          3,
          3,
          7,
          12,
          14,
          8,
          5,
          8,
          13,
          13,
          14,
          92,
          6,
          17,
          10,
          39,
          4,
          11,
          17,
          14,
          35,
          23,
          5,
          16,
          6,
          8,
          10,
          12,
          14,
          23,
          15,
          28,
          34,
          9,
          16,
          6,
          13,
          22,
          61,
          24,
          5,
          8,
          14,
          9,
          13,
          8,
          20,
          44,
          5,
          11,
          16,
          15,
          15,
          5,
          11,
          12,
          20,
          7,
          10,
          9,
          10,
          36,
          5,
          8,
          5,
          17,
          38,
          7,
          9,
          5,
          7,
          9,
          6,
          123,
          23,
          5,
          5,
          5,
          6,
          29,
          10,
          8,
          15,
          48,
          13,
          9,
          6,
          57,
          5,
          12,
          11,
          9,
          8,
          8,
          5,
          5,
          10,
          43,
          14,
          5,
          8,
          6,
          25,
          16,
          16,
          7,
          9,
          8,
          25,
          10,
          9,
          14,
          10,
          24,
          35,
          10,
          6,
          10,
          5,
          5,
          25,
          11,
          24,
          6,
          6,
          12,
          14,
          12,
          25,
          38,
          11,
          14,
          5,
          21,
          12,
          11,
          30,
          18,
          104,
          23,
          6,
          13,
          10,
          5,
          139,
          4,
          19,
          6,
          66,
          6,
          7,
          6,
          8,
          4,
          12,
          6,
          12,
          32,
          41,
          5,
          79,
          5,
          5,
          5,
          24,
          25,
          8,
          8,
          28,
          6,
          10,
          7,
          8,
          10,
          29,
          22,
          5,
          24,
          14,
          43,
          5,
          4,
          3,
          11,
          12,
          5,
          21,
          9,
          10,
          3,
          33,
          6,
          10,
          162,
          63,
          31,
          7,
          17,
          16,
          5,
          12,
          21,
          6,
          8,
          24,
          13,
          16,
          35,
          11,
          20,
          8,
          39,
          6,
          14,
          2,
          16,
          10,
          5,
          28,
          5,
          9,
          13,
          63,
          47,
          43,
          28,
          38,
          30,
          5,
          23,
          26,
          3,
          11,
          16,
          13,
          15,
          27,
          7,
          5,
          10,
          10,
          17,
          10,
          24,
          22,
          8,
          3,
          9,
          24,
          43,
          29,
          5,
          7,
          18,
          8,
          30,
          11,
          5,
          57,
          6,
          38,
          11,
          5,
          5,
          11,
          97,
          11,
          35,
          11,
          8
         ],
         "yaxis": "y"
        }
       ],
       "layout": {
        "annotations": [
         {
          "font": {},
          "showarrow": false,
          "text": "helpful=0",
          "textangle": 90,
          "x": 0.98,
          "xanchor": "left",
          "xref": "paper",
          "y": 0.2425,
          "yanchor": "middle",
          "yref": "paper"
         },
         {
          "font": {},
          "showarrow": false,
          "text": "helpful=1",
          "textangle": 90,
          "x": 0.98,
          "xanchor": "left",
          "xref": "paper",
          "y": 0.7575000000000001,
          "yanchor": "middle",
          "yref": "paper"
         }
        ],
        "legend": {
         "title": {
          "text": "실제"
         },
         "tracegroupgap": 0
        },
        "margin": {
         "t": 60
        },
        "template": {
         "data": {
          "bar": [
           {
            "error_x": {
             "color": "#2a3f5f"
            },
            "error_y": {
             "color": "#2a3f5f"
            },
            "marker": {
             "line": {
              "color": "#E5ECF6",
              "width": 0.5
             }
            },
            "type": "bar"
           }
          ],
          "barpolar": [
           {
            "marker": {
             "line": {
              "color": "#E5ECF6",
              "width": 0.5
             }
            },
            "type": "barpolar"
           }
          ],
          "carpet": [
           {
            "aaxis": {
             "endlinecolor": "#2a3f5f",
             "gridcolor": "white",
             "linecolor": "white",
             "minorgridcolor": "white",
             "startlinecolor": "#2a3f5f"
            },
            "baxis": {
             "endlinecolor": "#2a3f5f",
             "gridcolor": "white",
             "linecolor": "white",
             "minorgridcolor": "white",
             "startlinecolor": "#2a3f5f"
            },
            "type": "carpet"
           }
          ],
          "choropleth": [
           {
            "colorbar": {
             "outlinewidth": 0,
             "ticks": ""
            },
            "type": "choropleth"
           }
          ],
          "contour": [
           {
            "colorbar": {
             "outlinewidth": 0,
             "ticks": ""
            },
            "colorscale": [
             [
              0,
              "#0d0887"
             ],
             [
              0.1111111111111111,
              "#46039f"
             ],
             [
              0.2222222222222222,
              "#7201a8"
             ],
             [
              0.3333333333333333,
              "#9c179e"
             ],
             [
              0.4444444444444444,
              "#bd3786"
             ],
             [
              0.5555555555555556,
              "#d8576b"
             ],
             [
              0.6666666666666666,
              "#ed7953"
             ],
             [
              0.7777777777777778,
              "#fb9f3a"
             ],
             [
              0.8888888888888888,
              "#fdca26"
             ],
             [
              1,
              "#f0f921"
             ]
            ],
            "type": "contour"
           }
          ],
          "contourcarpet": [
           {
            "colorbar": {
             "outlinewidth": 0,
             "ticks": ""
            },
            "type": "contourcarpet"
           }
          ],
          "heatmap": [
           {
            "colorbar": {
             "outlinewidth": 0,
             "ticks": ""
            },
            "colorscale": [
             [
              0,
              "#0d0887"
             ],
             [
              0.1111111111111111,
              "#46039f"
             ],
             [
              0.2222222222222222,
              "#7201a8"
             ],
             [
              0.3333333333333333,
              "#9c179e"
             ],
             [
              0.4444444444444444,
              "#bd3786"
             ],
             [
              0.5555555555555556,
              "#d8576b"
             ],
             [
              0.6666666666666666,
              "#ed7953"
             ],
             [
              0.7777777777777778,
              "#fb9f3a"
             ],
             [
              0.8888888888888888,
              "#fdca26"
             ],
             [
              1,
              "#f0f921"
             ]
            ],
            "type": "heatmap"
           }
          ],
          "heatmapgl": [
           {
            "colorbar": {
             "outlinewidth": 0,
             "ticks": ""
            },
            "colorscale": [
             [
              0,
              "#0d0887"
             ],
             [
              0.1111111111111111,
              "#46039f"
             ],
             [
              0.2222222222222222,
              "#7201a8"
             ],
             [
              0.3333333333333333,
              "#9c179e"
             ],
             [
              0.4444444444444444,
              "#bd3786"
             ],
             [
              0.5555555555555556,
              "#d8576b"
             ],
             [
              0.6666666666666666,
              "#ed7953"
             ],
             [
              0.7777777777777778,
              "#fb9f3a"
             ],
             [
              0.8888888888888888,
              "#fdca26"
             ],
             [
              1,
              "#f0f921"
             ]
            ],
            "type": "heatmapgl"
           }
          ],
          "histogram": [
           {
            "marker": {
             "colorbar": {
              "outlinewidth": 0,
              "ticks": ""
             }
            },
            "type": "histogram"
           }
          ],
          "histogram2d": [
           {
            "colorbar": {
             "outlinewidth": 0,
             "ticks": ""
            },
            "colorscale": [
             [
              0,
              "#0d0887"
             ],
             [
              0.1111111111111111,
              "#46039f"
             ],
             [
              0.2222222222222222,
              "#7201a8"
             ],
             [
              0.3333333333333333,
              "#9c179e"
             ],
             [
              0.4444444444444444,
              "#bd3786"
             ],
             [
              0.5555555555555556,
              "#d8576b"
             ],
             [
              0.6666666666666666,
              "#ed7953"
             ],
             [
              0.7777777777777778,
              "#fb9f3a"
             ],
             [
              0.8888888888888888,
              "#fdca26"
             ],
             [
              1,
              "#f0f921"
             ]
            ],
            "type": "histogram2d"
           }
          ],
          "histogram2dcontour": [
           {
            "colorbar": {
             "outlinewidth": 0,
             "ticks": ""
            },
            "colorscale": [
             [
              0,
              "#0d0887"
             ],
             [
              0.1111111111111111,
              "#46039f"
             ],
             [
              0.2222222222222222,
              "#7201a8"
             ],
             [
              0.3333333333333333,
              "#9c179e"
             ],
             [
              0.4444444444444444,
              "#bd3786"
             ],
             [
              0.5555555555555556,
              "#d8576b"
             ],
             [
              0.6666666666666666,
              "#ed7953"
             ],
             [
              0.7777777777777778,
              "#fb9f3a"
             ],
             [
              0.8888888888888888,
              "#fdca26"
             ],
             [
              1,
              "#f0f921"
             ]
            ],
            "type": "histogram2dcontour"
           }
          ],
          "mesh3d": [
           {
            "colorbar": {
             "outlinewidth": 0,
             "ticks": ""
            },
            "type": "mesh3d"
           }
          ],
          "parcoords": [
           {
            "line": {
             "colorbar": {
              "outlinewidth": 0,
              "ticks": ""
             }
            },
            "type": "parcoords"
           }
          ],
          "pie": [
           {
            "automargin": true,
            "type": "pie"
           }
          ],
          "scatter": [
           {
            "marker": {
             "colorbar": {
              "outlinewidth": 0,
              "ticks": ""
             }
            },
            "type": "scatter"
           }
          ],
          "scatter3d": [
           {
            "line": {
             "colorbar": {
              "outlinewidth": 0,
              "ticks": ""
             }
            },
            "marker": {
             "colorbar": {
              "outlinewidth": 0,
              "ticks": ""
             }
            },
            "type": "scatter3d"
           }
          ],
          "scattercarpet": [
           {
            "marker": {
             "colorbar": {
              "outlinewidth": 0,
              "ticks": ""
             }
            },
            "type": "scattercarpet"
           }
          ],
          "scattergeo": [
           {
            "marker": {
             "colorbar": {
              "outlinewidth": 0,
              "ticks": ""
             }
            },
            "type": "scattergeo"
           }
          ],
          "scattergl": [
           {
            "marker": {
             "colorbar": {
              "outlinewidth": 0,
              "ticks": ""
             }
            },
            "type": "scattergl"
           }
          ],
          "scattermapbox": [
           {
            "marker": {
             "colorbar": {
              "outlinewidth": 0,
              "ticks": ""
             }
            },
            "type": "scattermapbox"
           }
          ],
          "scatterpolar": [
           {
            "marker": {
             "colorbar": {
              "outlinewidth": 0,
              "ticks": ""
             }
            },
            "type": "scatterpolar"
           }
          ],
          "scatterpolargl": [
           {
            "marker": {
             "colorbar": {
              "outlinewidth": 0,
              "ticks": ""
             }
            },
            "type": "scatterpolargl"
           }
          ],
          "scatterternary": [
           {
            "marker": {
             "colorbar": {
              "outlinewidth": 0,
              "ticks": ""
             }
            },
            "type": "scatterternary"
           }
          ],
          "surface": [
           {
            "colorbar": {
             "outlinewidth": 0,
             "ticks": ""
            },
            "colorscale": [
             [
              0,
              "#0d0887"
             ],
             [
              0.1111111111111111,
              "#46039f"
             ],
             [
              0.2222222222222222,
              "#7201a8"
             ],
             [
              0.3333333333333333,
              "#9c179e"
             ],
             [
              0.4444444444444444,
              "#bd3786"
             ],
             [
              0.5555555555555556,
              "#d8576b"
             ],
             [
              0.6666666666666666,
              "#ed7953"
             ],
             [
              0.7777777777777778,
              "#fb9f3a"
             ],
             [
              0.8888888888888888,
              "#fdca26"
             ],
             [
              1,
              "#f0f921"
             ]
            ],
            "type": "surface"
           }
          ],
          "table": [
           {
            "cells": {
             "fill": {
              "color": "#EBF0F8"
             },
             "line": {
              "color": "white"
             }
            },
            "header": {
             "fill": {
              "color": "#C8D4E3"
             },
             "line": {
              "color": "white"
             }
            },
            "type": "table"
           }
          ]
         },
         "layout": {
          "annotationdefaults": {
           "arrowcolor": "#2a3f5f",
           "arrowhead": 0,
           "arrowwidth": 1
          },
          "coloraxis": {
           "colorbar": {
            "outlinewidth": 0,
            "ticks": ""
           }
          },
          "colorscale": {
           "diverging": [
            [
             0,
             "#8e0152"
            ],
            [
             0.1,
             "#c51b7d"
            ],
            [
             0.2,
             "#de77ae"
            ],
            [
             0.3,
             "#f1b6da"
            ],
            [
             0.4,
             "#fde0ef"
            ],
            [
             0.5,
             "#f7f7f7"
            ],
            [
             0.6,
             "#e6f5d0"
            ],
            [
             0.7,
             "#b8e186"
            ],
            [
             0.8,
             "#7fbc41"
            ],
            [
             0.9,
             "#4d9221"
            ],
            [
             1,
             "#276419"
            ]
           ],
           "sequential": [
            [
             0,
             "#0d0887"
            ],
            [
             0.1111111111111111,
             "#46039f"
            ],
            [
             0.2222222222222222,
             "#7201a8"
            ],
            [
             0.3333333333333333,
             "#9c179e"
            ],
            [
             0.4444444444444444,
             "#bd3786"
            ],
            [
             0.5555555555555556,
             "#d8576b"
            ],
            [
             0.6666666666666666,
             "#ed7953"
            ],
            [
             0.7777777777777778,
             "#fb9f3a"
            ],
            [
             0.8888888888888888,
             "#fdca26"
            ],
            [
             1,
             "#f0f921"
            ]
           ],
           "sequentialminus": [
            [
             0,
             "#0d0887"
            ],
            [
             0.1111111111111111,
             "#46039f"
            ],
            [
             0.2222222222222222,
             "#7201a8"
            ],
            [
             0.3333333333333333,
             "#9c179e"
            ],
            [
             0.4444444444444444,
             "#bd3786"
            ],
            [
             0.5555555555555556,
             "#d8576b"
            ],
            [
             0.6666666666666666,
             "#ed7953"
            ],
            [
             0.7777777777777778,
             "#fb9f3a"
            ],
            [
             0.8888888888888888,
             "#fdca26"
            ],
            [
             1,
             "#f0f921"
            ]
           ]
          },
          "colorway": [
           "#636efa",
           "#EF553B",
           "#00cc96",
           "#ab63fa",
           "#FFA15A",
           "#19d3f3",
           "#FF6692",
           "#B6E880",
           "#FF97FF",
           "#FECB52"
          ],
          "font": {
           "color": "#2a3f5f"
          },
          "geo": {
           "bgcolor": "white",
           "lakecolor": "white",
           "landcolor": "#E5ECF6",
           "showlakes": true,
           "showland": true,
           "subunitcolor": "white"
          },
          "hoverlabel": {
           "align": "left"
          },
          "hovermode": "closest",
          "mapbox": {
           "style": "light"
          },
          "paper_bgcolor": "white",
          "plot_bgcolor": "#E5ECF6",
          "polar": {
           "angularaxis": {
            "gridcolor": "white",
            "linecolor": "white",
            "ticks": ""
           },
           "bgcolor": "#E5ECF6",
           "radialaxis": {
            "gridcolor": "white",
            "linecolor": "white",
            "ticks": ""
           }
          },
          "scene": {
           "xaxis": {
            "backgroundcolor": "#E5ECF6",
            "gridcolor": "white",
            "gridwidth": 2,
            "linecolor": "white",
            "showbackground": true,
            "ticks": "",
            "zerolinecolor": "white"
           },
           "yaxis": {
            "backgroundcolor": "#E5ECF6",
            "gridcolor": "white",
            "gridwidth": 2,
            "linecolor": "white",
            "showbackground": true,
            "ticks": "",
            "zerolinecolor": "white"
           },
           "zaxis": {
            "backgroundcolor": "#E5ECF6",
            "gridcolor": "white",
            "gridwidth": 2,
            "linecolor": "white",
            "showbackground": true,
            "ticks": "",
            "zerolinecolor": "white"
           }
          },
          "shapedefaults": {
           "line": {
            "color": "#2a3f5f"
           }
          },
          "ternary": {
           "aaxis": {
            "gridcolor": "white",
            "linecolor": "white",
            "ticks": ""
           },
           "baxis": {
            "gridcolor": "white",
            "linecolor": "white",
            "ticks": ""
           },
           "bgcolor": "#E5ECF6",
           "caxis": {
            "gridcolor": "white",
            "linecolor": "white",
            "ticks": ""
           }
          },
          "title": {
           "x": 0.05
          },
          "xaxis": {
           "automargin": true,
           "gridcolor": "white",
           "linecolor": "white",
           "ticks": "",
           "title": {
            "standoff": 15
           },
           "zerolinecolor": "white",
           "zerolinewidth": 2
          },
          "yaxis": {
           "automargin": true,
           "gridcolor": "white",
           "linecolor": "white",
           "ticks": "",
           "title": {
            "standoff": 15
           },
           "zerolinecolor": "white",
           "zerolinewidth": 2
          }
         }
        },
        "xaxis": {
         "anchor": "y",
         "domain": [
          0,
          0.98
         ],
         "title": {
          "text": "예측"
         }
        },
        "xaxis2": {
         "anchor": "y2",
         "domain": [
          0,
          0.98
         ],
         "matches": "x",
         "showticklabels": false
        },
        "yaxis": {
         "anchor": "x",
         "domain": [
          0,
          0.485
         ],
         "title": {
          "text": "length"
         }
        },
        "yaxis2": {
         "anchor": "x2",
         "domain": [
          0.515,
          1
         ],
         "matches": "y",
         "title": {
          "text": "length"
         }
        }
       }
      },
      "text/html": [
       "<div>                            <div id=\"70d3114b-be43-4765-ac96-a23d02519ca1\" class=\"plotly-graph-div\" style=\"height:525px; width:100%;\"></div>            <script type=\"text/javascript\">                require([\"plotly\"], function(Plotly) {                    window.PLOTLYENV=window.PLOTLYENV || {};                                    if (document.getElementById(\"70d3114b-be43-4765-ac96-a23d02519ca1\")) {                    Plotly.newPlot(                        \"70d3114b-be43-4765-ac96-a23d02519ca1\",                        [{\"hovertemplate\": \"\\uc2e4\\uc81c=\\ub3c4\\uc6c0O<br>helpful=1<br>\\uc608\\uce21=%{x}<br>length=%{y}<extra></extra>\", \"legendgroup\": \"\\ub3c4\\uc6c0O\", \"marker\": {\"color\": \"#636efa\", \"symbol\": \"circle\"}, \"mode\": \"markers\", \"name\": \"\\ub3c4\\uc6c0O\", \"orientation\": \"v\", \"showlegend\": true, \"type\": \"scatter\", \"x\": [0.77, 0.48, 0.99, 0.84, 0.81, 0.85, 0.73, 0.4, 0.59, 0.92, 0.49, 0.3, 0.77, 0.65, 0.97, 0.97, 0.72, 0.95, 0.31, 0.76, 1.0, 0.88, 0.83, 0.81, 0.9, 0.43, 0.84, 0.92, 0.89, 0.91, 0.99, 0.8, 0.86, 0.33, 0.32, 0.73, 0.31, 0.5, 0.93, 0.88, 0.9, 0.17, 0.96, 0.94, 0.98, 0.7, 0.89, 0.96, 0.99, 0.47, 0.98, 0.64, 0.7, 0.51, 0.67, 0.4, 0.67, 0.79, 0.44, 0.98, 0.96, 0.97, 0.61, 0.55, 0.19, 0.96, 0.63, 0.8, 0.81, 0.94, 0.98, 0.86, 0.39, 0.96, 0.29, 0.7, 0.93, 0.79, 0.53, 0.63, 0.32, 0.96, 0.7, 0.98, 0.88, 0.87, 0.99, 0.88, 0.56, 0.89, 0.95, 0.8, 0.93, 0.97, 0.85, 0.97, 0.6, 0.48, 0.93, 0.88, 0.83, 0.37, 0.97, 0.79, 0.82, 0.29, 0.47, 0.67, 0.59, 0.95, 0.37, 0.69, 0.99, 0.92, 0.78, 0.71, 0.99, 0.3, 0.49, 0.95, 0.92, 0.99, 0.68, 0.4, 0.64, 0.79, 0.38, 0.47, 0.85, 0.79, 0.97, 0.41, 0.41, 0.5, 0.49, 0.91, 0.58, 0.72, 0.98, 0.89, 0.61, 0.31, 0.81, 0.89, 0.9, 0.27, 0.94, 0.99, 0.81, 0.94, 0.93, 0.92, 0.91, 0.97, 0.1, 0.84, 0.88, 0.47, 0.61, 0.38, 0.58, 0.58, 0.46, 0.69, 0.25, 0.56, 0.55, 1.0, 0.73, 0.25, 0.98, 0.73, 0.85, 0.32, 0.99, 0.73, 0.77, 0.96, 0.5, 0.99, 0.71, 0.98, 0.64, 0.98, 0.79, 0.95, 0.8, 0.95, 0.34, 0.41, 0.89, 0.65, 0.86, 0.98, 0.99, 0.99, 0.95], \"xaxis\": \"x2\", \"y\": [49, 37, 226, 71, 56, 125, 48, 100, 28, 98, 23, 20, 78, 55, 166, 70, 38, 105, 18, 73, 252, 70, 79, 53, 62, 64, 191, 125, 83, 177, 197, 83, 171, 19, 21, 38, 18, 30, 103, 142, 71, 13, 104, 71, 150, 87, 153, 89, 156, 32, 106, 42, 37, 28, 28, 27, 52, 77, 31, 157, 181, 86, 30, 30, 23, 68, 35, 114, 114, 102, 144, 103, 18, 198, 19, 33, 344, 66, 35, 34, 19, 116, 44, 153, 88, 66, 205, 285, 39, 193, 137, 50, 103, 190, 56, 120, 31, 62, 114, 42, 99, 21, 228, 63, 85, 22, 30, 92, 61, 136, 22, 214, 173, 77, 137, 71, 177, 22, 37, 79, 117, 155, 59, 26, 35, 47, 22, 20, 86, 41, 93, 30, 36, 24, 23, 84, 34, 36, 117, 94, 36, 20, 127, 64, 110, 17, 99, 143, 143, 74, 110, 137, 73, 293, 13, 39, 204, 24, 51, 28, 38, 27, 36, 59, 28, 23, 20, 112, 84, 37, 162, 46, 86, 24, 206, 54, 46, 104, 50, 125, 62, 202, 29, 157, 77, 124, 68, 143, 64, 18, 49, 74, 103, 174, 196, 231, 113], \"yaxis\": \"y2\"}, {\"hovertemplate\": \"\\uc2e4\\uc81c=\\ub3c4\\uc6c0X<br>helpful=0<br>\\uc608\\uce21=%{x}<br>length=%{y}<extra></extra>\", \"legendgroup\": \"\\ub3c4\\uc6c0X\", \"marker\": {\"color\": \"#EF553B\", \"symbol\": \"circle\"}, \"mode\": \"markers\", \"name\": \"\\ub3c4\\uc6c0X\", \"orientation\": \"v\", \"showlegend\": true, \"type\": \"scatter\", \"x\": [0.09, 0.56, 0.06, 0.06, 0.19, 0.02, 0.02, 0.01, 0.62, 0.04, 0.03, 0.15, 0.75, 0.02, 0.02, 0.01, 0.01, 0.07, 0.13, 0.11, 0.07, 0.02, 0.03, 0.08, 0.08, 0.13, 0.89, 0.02, 0.17, 0.07, 0.61, 0.01, 0.06, 0.23, 0.11, 0.29, 0.18, 0.01, 0.17, 0.02, 0.04, 0.06, 0.2, 0.11, 0.14, 0.15, 0.28, 0.51, 0.06, 0.17, 0.03, 0.17, 0.27, 0.51, 0.4, 0.02, 0.04, 0.13, 0.06, 0.09, 0.05, 0.26, 0.57, 0.02, 0.16, 0.13, 0.11, 0.11, 0.0, 0.08, 0.09, 0.27, 0.05, 0.07, 0.06, 0.07, 0.62, 0.02, 0.08, 0.02, 0.18, 0.6, 0.04, 0.06, 0.02, 0.03, 0.04, 0.03, 0.97, 0.3, 0.02, 0.02, 0.02, 0.03, 0.23, 0.06, 0.05, 0.14, 0.41, 0.09, 0.04, 0.03, 0.43, 0.02, 0.06, 0.04, 0.06, 0.05, 0.05, 0.02, 0.02, 0.04, 0.54, 0.36, 0.02, 0.04, 0.03, 0.26, 0.2, 0.15, 0.03, 0.05, 0.04, 0.36, 0.1, 0.04, 0.11, 0.05, 0.4, 0.59, 0.05, 0.03, 0.05, 0.01, 0.01, 0.39, 0.09, 0.33, 0.03, 0.03, 0.08, 0.14, 0.09, 0.55, 0.69, 0.06, 0.24, 0.02, 0.19, 0.08, 0.07, 0.53, 0.17, 0.48, 0.33, 0.02, 0.13, 0.07, 0.02, 0.3, 0.01, 0.16, 0.03, 0.73, 0.03, 0.03, 0.03, 0.03, 0.01, 0.1, 0.03, 0.07, 0.28, 0.79, 0.02, 0.8, 0.02, 0.02, 0.02, 0.22, 0.34, 0.05, 0.05, 0.48, 0.07, 0.07, 0.04, 0.03, 0.09, 0.37, 0.32, 0.02, 0.36, 0.23, 0.43, 0.02, 0.01, 0.01, 0.08, 0.08, 0.02, 0.3, 0.04, 0.07, 0.01, 0.32, 0.03, 0.06, 0.82, 0.71, 0.5, 0.04, 0.13, 0.22, 0.02, 0.11, 0.32, 0.03, 0.04, 0.42, 0.13, 0.31, 0.39, 0.08, 0.14, 0.04, 0.59, 0.03, 0.12, 0.0, 0.2, 0.06, 0.02, 0.23, 0.01, 0.06, 0.06, 0.58, 0.41, 0.47, 0.23, 0.8, 0.3, 0.02, 0.19, 0.33, 0.01, 0.06, 0.32, 0.1, 0.14, 0.36, 0.03, 0.02, 0.05, 0.07, 0.13, 0.07, 0.47, 0.22, 0.05, 0.01, 0.03, 0.15, 0.45, 0.16, 0.02, 0.04, 0.26, 0.04, 0.33, 0.18, 0.02, 0.67, 0.03, 0.31, 0.08, 0.02, 0.02, 0.08, 0.88, 0.06, 0.51, 0.16, 0.04], \"xaxis\": \"x\", \"y\": [11, 41, 11, 10, 18, 5, 5, 5, 44, 7, 6, 16, 104, 5, 5, 3, 3, 7, 12, 14, 8, 5, 8, 13, 13, 14, 92, 6, 17, 10, 39, 4, 11, 17, 14, 35, 23, 5, 16, 6, 8, 10, 12, 14, 23, 15, 28, 34, 9, 16, 6, 13, 22, 61, 24, 5, 8, 14, 9, 13, 8, 20, 44, 5, 11, 16, 15, 15, 5, 11, 12, 20, 7, 10, 9, 10, 36, 5, 8, 5, 17, 38, 7, 9, 5, 7, 9, 6, 123, 23, 5, 5, 5, 6, 29, 10, 8, 15, 48, 13, 9, 6, 57, 5, 12, 11, 9, 8, 8, 5, 5, 10, 43, 14, 5, 8, 6, 25, 16, 16, 7, 9, 8, 25, 10, 9, 14, 10, 24, 35, 10, 6, 10, 5, 5, 25, 11, 24, 6, 6, 12, 14, 12, 25, 38, 11, 14, 5, 21, 12, 11, 30, 18, 104, 23, 6, 13, 10, 5, 139, 4, 19, 6, 66, 6, 7, 6, 8, 4, 12, 6, 12, 32, 41, 5, 79, 5, 5, 5, 24, 25, 8, 8, 28, 6, 10, 7, 8, 10, 29, 22, 5, 24, 14, 43, 5, 4, 3, 11, 12, 5, 21, 9, 10, 3, 33, 6, 10, 162, 63, 31, 7, 17, 16, 5, 12, 21, 6, 8, 24, 13, 16, 35, 11, 20, 8, 39, 6, 14, 2, 16, 10, 5, 28, 5, 9, 13, 63, 47, 43, 28, 38, 30, 5, 23, 26, 3, 11, 16, 13, 15, 27, 7, 5, 10, 10, 17, 10, 24, 22, 8, 3, 9, 24, 43, 29, 5, 7, 18, 8, 30, 11, 5, 57, 6, 38, 11, 5, 5, 11, 97, 11, 35, 11, 8], \"yaxis\": \"y\"}],                        {\"annotations\": [{\"font\": {}, \"showarrow\": false, \"text\": \"helpful=0\", \"textangle\": 90, \"x\": 0.98, \"xanchor\": \"left\", \"xref\": \"paper\", \"y\": 0.2425, \"yanchor\": \"middle\", \"yref\": \"paper\"}, {\"font\": {}, \"showarrow\": false, \"text\": \"helpful=1\", \"textangle\": 90, \"x\": 0.98, \"xanchor\": \"left\", \"xref\": \"paper\", \"y\": 0.7575000000000001, \"yanchor\": \"middle\", \"yref\": \"paper\"}], \"legend\": {\"title\": {\"text\": \"\\uc2e4\\uc81c\"}, \"tracegroupgap\": 0}, \"margin\": {\"t\": 60}, \"template\": {\"data\": {\"bar\": [{\"error_x\": {\"color\": \"#2a3f5f\"}, \"error_y\": {\"color\": \"#2a3f5f\"}, \"marker\": {\"line\": {\"color\": \"#E5ECF6\", \"width\": 0.5}}, \"type\": \"bar\"}], \"barpolar\": [{\"marker\": {\"line\": {\"color\": \"#E5ECF6\", \"width\": 0.5}}, \"type\": \"barpolar\"}], \"carpet\": [{\"aaxis\": {\"endlinecolor\": \"#2a3f5f\", \"gridcolor\": \"white\", \"linecolor\": \"white\", \"minorgridcolor\": \"white\", \"startlinecolor\": \"#2a3f5f\"}, \"baxis\": {\"endlinecolor\": \"#2a3f5f\", \"gridcolor\": \"white\", \"linecolor\": \"white\", \"minorgridcolor\": \"white\", \"startlinecolor\": \"#2a3f5f\"}, \"type\": \"carpet\"}], \"choropleth\": [{\"colorbar\": {\"outlinewidth\": 0, \"ticks\": \"\"}, \"type\": \"choropleth\"}], \"contour\": [{\"colorbar\": {\"outlinewidth\": 0, \"ticks\": \"\"}, \"colorscale\": [[0.0, \"#0d0887\"], [0.1111111111111111, \"#46039f\"], [0.2222222222222222, \"#7201a8\"], [0.3333333333333333, \"#9c179e\"], [0.4444444444444444, \"#bd3786\"], [0.5555555555555556, \"#d8576b\"], [0.6666666666666666, \"#ed7953\"], [0.7777777777777778, \"#fb9f3a\"], [0.8888888888888888, \"#fdca26\"], [1.0, \"#f0f921\"]], \"type\": \"contour\"}], \"contourcarpet\": [{\"colorbar\": {\"outlinewidth\": 0, \"ticks\": \"\"}, \"type\": \"contourcarpet\"}], \"heatmap\": [{\"colorbar\": {\"outlinewidth\": 0, \"ticks\": \"\"}, \"colorscale\": [[0.0, \"#0d0887\"], [0.1111111111111111, \"#46039f\"], [0.2222222222222222, \"#7201a8\"], [0.3333333333333333, \"#9c179e\"], [0.4444444444444444, \"#bd3786\"], [0.5555555555555556, \"#d8576b\"], [0.6666666666666666, \"#ed7953\"], [0.7777777777777778, \"#fb9f3a\"], [0.8888888888888888, \"#fdca26\"], [1.0, \"#f0f921\"]], \"type\": \"heatmap\"}], \"heatmapgl\": [{\"colorbar\": {\"outlinewidth\": 0, \"ticks\": \"\"}, \"colorscale\": [[0.0, \"#0d0887\"], [0.1111111111111111, \"#46039f\"], [0.2222222222222222, \"#7201a8\"], [0.3333333333333333, \"#9c179e\"], [0.4444444444444444, \"#bd3786\"], [0.5555555555555556, \"#d8576b\"], [0.6666666666666666, \"#ed7953\"], [0.7777777777777778, \"#fb9f3a\"], [0.8888888888888888, \"#fdca26\"], [1.0, \"#f0f921\"]], \"type\": \"heatmapgl\"}], \"histogram\": [{\"marker\": {\"colorbar\": {\"outlinewidth\": 0, \"ticks\": \"\"}}, \"type\": \"histogram\"}], \"histogram2d\": [{\"colorbar\": {\"outlinewidth\": 0, \"ticks\": \"\"}, \"colorscale\": [[0.0, \"#0d0887\"], [0.1111111111111111, \"#46039f\"], [0.2222222222222222, \"#7201a8\"], [0.3333333333333333, \"#9c179e\"], [0.4444444444444444, \"#bd3786\"], [0.5555555555555556, \"#d8576b\"], [0.6666666666666666, \"#ed7953\"], [0.7777777777777778, \"#fb9f3a\"], [0.8888888888888888, \"#fdca26\"], [1.0, \"#f0f921\"]], \"type\": \"histogram2d\"}], \"histogram2dcontour\": [{\"colorbar\": {\"outlinewidth\": 0, \"ticks\": \"\"}, \"colorscale\": [[0.0, \"#0d0887\"], [0.1111111111111111, \"#46039f\"], [0.2222222222222222, \"#7201a8\"], [0.3333333333333333, \"#9c179e\"], [0.4444444444444444, \"#bd3786\"], [0.5555555555555556, \"#d8576b\"], [0.6666666666666666, \"#ed7953\"], [0.7777777777777778, \"#fb9f3a\"], [0.8888888888888888, \"#fdca26\"], [1.0, \"#f0f921\"]], \"type\": \"histogram2dcontour\"}], \"mesh3d\": [{\"colorbar\": {\"outlinewidth\": 0, \"ticks\": \"\"}, \"type\": \"mesh3d\"}], \"parcoords\": [{\"line\": {\"colorbar\": {\"outlinewidth\": 0, \"ticks\": \"\"}}, \"type\": \"parcoords\"}], \"pie\": [{\"automargin\": true, \"type\": \"pie\"}], \"scatter\": [{\"marker\": {\"colorbar\": {\"outlinewidth\": 0, \"ticks\": \"\"}}, \"type\": \"scatter\"}], \"scatter3d\": [{\"line\": {\"colorbar\": {\"outlinewidth\": 0, \"ticks\": \"\"}}, \"marker\": {\"colorbar\": {\"outlinewidth\": 0, \"ticks\": \"\"}}, \"type\": \"scatter3d\"}], \"scattercarpet\": [{\"marker\": {\"colorbar\": {\"outlinewidth\": 0, \"ticks\": \"\"}}, \"type\": \"scattercarpet\"}], \"scattergeo\": [{\"marker\": {\"colorbar\": {\"outlinewidth\": 0, \"ticks\": \"\"}}, \"type\": \"scattergeo\"}], \"scattergl\": [{\"marker\": {\"colorbar\": {\"outlinewidth\": 0, \"ticks\": \"\"}}, \"type\": \"scattergl\"}], \"scattermapbox\": [{\"marker\": {\"colorbar\": {\"outlinewidth\": 0, \"ticks\": \"\"}}, \"type\": \"scattermapbox\"}], \"scatterpolar\": [{\"marker\": {\"colorbar\": {\"outlinewidth\": 0, \"ticks\": \"\"}}, \"type\": \"scatterpolar\"}], \"scatterpolargl\": [{\"marker\": {\"colorbar\": {\"outlinewidth\": 0, \"ticks\": \"\"}}, \"type\": \"scatterpolargl\"}], \"scatterternary\": [{\"marker\": {\"colorbar\": {\"outlinewidth\": 0, \"ticks\": \"\"}}, \"type\": \"scatterternary\"}], \"surface\": [{\"colorbar\": {\"outlinewidth\": 0, \"ticks\": \"\"}, \"colorscale\": [[0.0, \"#0d0887\"], [0.1111111111111111, \"#46039f\"], [0.2222222222222222, \"#7201a8\"], [0.3333333333333333, \"#9c179e\"], [0.4444444444444444, \"#bd3786\"], [0.5555555555555556, \"#d8576b\"], [0.6666666666666666, \"#ed7953\"], [0.7777777777777778, \"#fb9f3a\"], [0.8888888888888888, \"#fdca26\"], [1.0, \"#f0f921\"]], \"type\": \"surface\"}], \"table\": [{\"cells\": {\"fill\": {\"color\": \"#EBF0F8\"}, \"line\": {\"color\": \"white\"}}, \"header\": {\"fill\": {\"color\": \"#C8D4E3\"}, \"line\": {\"color\": \"white\"}}, \"type\": \"table\"}]}, \"layout\": {\"annotationdefaults\": {\"arrowcolor\": \"#2a3f5f\", \"arrowhead\": 0, \"arrowwidth\": 1}, \"coloraxis\": {\"colorbar\": {\"outlinewidth\": 0, \"ticks\": \"\"}}, \"colorscale\": {\"diverging\": [[0, \"#8e0152\"], [0.1, \"#c51b7d\"], [0.2, \"#de77ae\"], [0.3, \"#f1b6da\"], [0.4, \"#fde0ef\"], [0.5, \"#f7f7f7\"], [0.6, \"#e6f5d0\"], [0.7, \"#b8e186\"], [0.8, \"#7fbc41\"], [0.9, \"#4d9221\"], [1, \"#276419\"]], \"sequential\": [[0.0, \"#0d0887\"], [0.1111111111111111, \"#46039f\"], [0.2222222222222222, \"#7201a8\"], [0.3333333333333333, \"#9c179e\"], [0.4444444444444444, \"#bd3786\"], [0.5555555555555556, \"#d8576b\"], [0.6666666666666666, \"#ed7953\"], [0.7777777777777778, \"#fb9f3a\"], [0.8888888888888888, \"#fdca26\"], [1.0, \"#f0f921\"]], \"sequentialminus\": [[0.0, \"#0d0887\"], [0.1111111111111111, \"#46039f\"], [0.2222222222222222, \"#7201a8\"], [0.3333333333333333, \"#9c179e\"], [0.4444444444444444, \"#bd3786\"], [0.5555555555555556, \"#d8576b\"], [0.6666666666666666, \"#ed7953\"], [0.7777777777777778, \"#fb9f3a\"], [0.8888888888888888, \"#fdca26\"], [1.0, \"#f0f921\"]]}, \"colorway\": [\"#636efa\", \"#EF553B\", \"#00cc96\", \"#ab63fa\", \"#FFA15A\", \"#19d3f3\", \"#FF6692\", \"#B6E880\", \"#FF97FF\", \"#FECB52\"], \"font\": {\"color\": \"#2a3f5f\"}, \"geo\": {\"bgcolor\": \"white\", \"lakecolor\": \"white\", \"landcolor\": \"#E5ECF6\", \"showlakes\": true, \"showland\": true, \"subunitcolor\": \"white\"}, \"hoverlabel\": {\"align\": \"left\"}, \"hovermode\": \"closest\", \"mapbox\": {\"style\": \"light\"}, \"paper_bgcolor\": \"white\", \"plot_bgcolor\": \"#E5ECF6\", \"polar\": {\"angularaxis\": {\"gridcolor\": \"white\", \"linecolor\": \"white\", \"ticks\": \"\"}, \"bgcolor\": \"#E5ECF6\", \"radialaxis\": {\"gridcolor\": \"white\", \"linecolor\": \"white\", \"ticks\": \"\"}}, \"scene\": {\"xaxis\": {\"backgroundcolor\": \"#E5ECF6\", \"gridcolor\": \"white\", \"gridwidth\": 2, \"linecolor\": \"white\", \"showbackground\": true, \"ticks\": \"\", \"zerolinecolor\": \"white\"}, \"yaxis\": {\"backgroundcolor\": \"#E5ECF6\", \"gridcolor\": \"white\", \"gridwidth\": 2, \"linecolor\": \"white\", \"showbackground\": true, \"ticks\": \"\", \"zerolinecolor\": \"white\"}, \"zaxis\": {\"backgroundcolor\": \"#E5ECF6\", \"gridcolor\": \"white\", \"gridwidth\": 2, \"linecolor\": \"white\", \"showbackground\": true, \"ticks\": \"\", \"zerolinecolor\": \"white\"}}, \"shapedefaults\": {\"line\": {\"color\": \"#2a3f5f\"}}, \"ternary\": {\"aaxis\": {\"gridcolor\": \"white\", \"linecolor\": \"white\", \"ticks\": \"\"}, \"baxis\": {\"gridcolor\": \"white\", \"linecolor\": \"white\", \"ticks\": \"\"}, \"bgcolor\": \"#E5ECF6\", \"caxis\": {\"gridcolor\": \"white\", \"linecolor\": \"white\", \"ticks\": \"\"}}, \"title\": {\"x\": 0.05}, \"xaxis\": {\"automargin\": true, \"gridcolor\": \"white\", \"linecolor\": \"white\", \"ticks\": \"\", \"title\": {\"standoff\": 15}, \"zerolinecolor\": \"white\", \"zerolinewidth\": 2}, \"yaxis\": {\"automargin\": true, \"gridcolor\": \"white\", \"linecolor\": \"white\", \"ticks\": \"\", \"title\": {\"standoff\": 15}, \"zerolinecolor\": \"white\", \"zerolinewidth\": 2}}}, \"xaxis\": {\"anchor\": \"y\", \"domain\": [0.0, 0.98], \"title\": {\"text\": \"\\uc608\\uce21\"}}, \"xaxis2\": {\"anchor\": \"y2\", \"domain\": [0.0, 0.98], \"matches\": \"x\", \"showticklabels\": false}, \"yaxis\": {\"anchor\": \"x\", \"domain\": [0.0, 0.485], \"title\": {\"text\": \"length\"}}, \"yaxis2\": {\"anchor\": \"x2\", \"domain\": [0.515, 1.0], \"matches\": \"y\", \"title\": {\"text\": \"length\"}}},                        {\"responsive\": true}                    ).then(function(){\n",
       "                            \n",
       "var gd = document.getElementById('70d3114b-be43-4765-ac96-a23d02519ca1');\n",
       "var x = new MutationObserver(function (mutations, observer) {{\n",
       "        var display = window.getComputedStyle(gd).display;\n",
       "        if (!display || display === 'none') {{\n",
       "            console.log([gd, 'removed!']);\n",
       "            Plotly.purge(gd);\n",
       "            observer.disconnect();\n",
       "        }}\n",
       "}});\n",
       "\n",
       "// Listen for the removal of the full notebook cells\n",
       "var notebookContainer = gd.closest('#notebook-container');\n",
       "if (notebookContainer) {{\n",
       "    x.observe(notebookContainer, {childList: true});\n",
       "}}\n",
       "\n",
       "// Listen for the clearing of the current output cell\n",
       "var outputEl = gd.closest('.output');\n",
       "if (outputEl) {{\n",
       "    x.observe(outputEl, {childList: true});\n",
       "}}\n",
       "\n",
       "                        })                };                });            </script>        </div>"
      ]
     },
     "metadata": {},
     "output_type": "display_data"
    }
   ],
   "source": [
    "fig = px.scatter(scat, x= '예측', y = 'length',\n",
    "                  facet_row = 'helpful', color = \"실제\")\n",
    "fig.show()\n",
    "#실제값으로 색 구분"
   ]
  },
  {
   "cell_type": "markdown",
   "metadata": {},
   "source": [
    "## 예측값, 길이 분포 : 감정 구분"
   ]
  },
  {
   "cell_type": "code",
   "execution_count": 45,
   "metadata": {
    "scrolled": true
   },
   "outputs": [
    {
     "data": {
      "application/vnd.plotly.v1+json": {
       "config": {
        "plotlyServerURL": "https://plot.ly"
       },
       "data": [
        {
         "hovertemplate": "attitude=긍정<br>예측=%{x}<br>length=%{y}<extra></extra>",
         "legendgroup": "긍정",
         "marker": {
          "color": "#636efa",
          "symbol": "circle"
         },
         "mode": "markers",
         "name": "긍정",
         "orientation": "v",
         "showlegend": true,
         "type": "scatter",
         "x": [
          0.77,
          0.09,
          0.56,
          0.06,
          0.06,
          0.84,
          0.02,
          0.02,
          0.01,
          0.4,
          0.62,
          0.59,
          0.92,
          0.04,
          0.03,
          0.77,
          0.15,
          0.02,
          0.01,
          0.13,
          0.65,
          0.11,
          0.72,
          0.07,
          0.31,
          0.76,
          0.02,
          0.03,
          0.08,
          0.08,
          0.13,
          0.89,
          0.02,
          0.83,
          0.9,
          0.17,
          0.07,
          0.61,
          0.01,
          0.06,
          0.23,
          0.11,
          0.29,
          0.18,
          0.01,
          0.02,
          0.43,
          0.84,
          0.04,
          0.06,
          0.89,
          0.2,
          0.11,
          0.8,
          0.14,
          0.33,
          0.32,
          0.73,
          0.15,
          0.31,
          0.5,
          0.28,
          0.51,
          0.06,
          0.17,
          0.03,
          0.17,
          0.27,
          0.51,
          0.4,
          0.04,
          0.13,
          0.06,
          0.09,
          0.05,
          0.26,
          0.57,
          0.02,
          0.17,
          0.96,
          0.16,
          0.13,
          0.11,
          0.11,
          0.7,
          0,
          0.08,
          0.09,
          0.89,
          0.27,
          0.07,
          0.96,
          0.06,
          0.07,
          0.62,
          0.02,
          0.47,
          0.08,
          0.02,
          0.18,
          0.6,
          0.04,
          0.06,
          0.02,
          0.64,
          0.03,
          0.51,
          0.04,
          0.3,
          0.02,
          0.67,
          0.02,
          0.67,
          0.02,
          0.44,
          0.03,
          0.23,
          0.06,
          0.05,
          0.14,
          0.09,
          0.97,
          0.04,
          0.03,
          0.43,
          0.06,
          0.04,
          0.06,
          0.05,
          0.61,
          0.55,
          0.05,
          0.02,
          0.02,
          0.04,
          0.81,
          0.96,
          0.29,
          0.93,
          0.79,
          0.53,
          0.04,
          0.03,
          0.7,
          0.2,
          0.15,
          0.03,
          0.05,
          0.04,
          0.36,
          0.1,
          0.88,
          0.56,
          0.04,
          0.11,
          0.05,
          0.4,
          0.59,
          0.05,
          0.03,
          0.05,
          0.01,
          0.97,
          0.85,
          0.01,
          0.39,
          0.09,
          0.33,
          0.03,
          0.48,
          0.03,
          0.08,
          0.88,
          0.83,
          0.37,
          0.14,
          0.97,
          0.09,
          0.69,
          0.06,
          0.02,
          0.19,
          0.79,
          0.08,
          0.07,
          0.53,
          0.29,
          0.17,
          0.48,
          0.59,
          0.02,
          0.13,
          0.07,
          0.02,
          0.3,
          0.01,
          0.16,
          0.37,
          0.03,
          0.69,
          0.99,
          0.03,
          0.03,
          0.03,
          0.01,
          0.78,
          0.1,
          0.03,
          0.99,
          0.07,
          0.28,
          0.3,
          0.02,
          0.8,
          0.02,
          0.95,
          0.02,
          0.02,
          0.22,
          0.68,
          0.4,
          0.05,
          0.05,
          0.48,
          0.79,
          0.07,
          0.07,
          0.04,
          0.38,
          0.03,
          0.09,
          0.37,
          0.85,
          0.02,
          0.36,
          0.23,
          0.43,
          0.02,
          0.01,
          0.01,
          0.08,
          0.08,
          0.41,
          0.02,
          0.3,
          0.04,
          0.07,
          0.01,
          0.32,
          0.03,
          0.41,
          0.5,
          0.49,
          0.06,
          0.71,
          0.72,
          0.5,
          0.04,
          0.13,
          0.22,
          0.02,
          0.98,
          0.89,
          0.61,
          0.81,
          0.03,
          0.04,
          0.42,
          0.9,
          0.27,
          0.13,
          0.31,
          0.39,
          0.08,
          0.14,
          0.99,
          0.04,
          0.59,
          0.81,
          0.03,
          0.12,
          0,
          0.2,
          0.93,
          0.91,
          0.06,
          0.23,
          0.1,
          0.84,
          0.01,
          0.88,
          0.06,
          0.47,
          0.38,
          0.58,
          0.46,
          0.69,
          0.06,
          0.25,
          0.58,
          0.56,
          0.47,
          0.23,
          0.3,
          0.02,
          0.73,
          0.19,
          0.98,
          0.33,
          0.01,
          0.73,
          0.06,
          0.32,
          0.1,
          0.14,
          0.36,
          0.77,
          0.96,
          0.03,
          0.02,
          0.5,
          0.05,
          0.99,
          0.71,
          0.07,
          0.13,
          0.07,
          0.47,
          0.22,
          0.05,
          0.03,
          0.15,
          0.45,
          0.79,
          0.16,
          0.95,
          0.8,
          0.02,
          0.04,
          0.26,
          0.04,
          0.34,
          0.33,
          0.02,
          0.67,
          0.03,
          0.65,
          0.31,
          0.08,
          0.86,
          0.08,
          0.06,
          0.99,
          0.51,
          0.16
         ],
         "xaxis": "x",
         "y": [
          49,
          11,
          41,
          11,
          10,
          71,
          5,
          5,
          5,
          100,
          44,
          28,
          98,
          7,
          6,
          78,
          16,
          5,
          3,
          12,
          55,
          14,
          38,
          8,
          18,
          73,
          5,
          8,
          13,
          13,
          14,
          92,
          6,
          79,
          62,
          17,
          10,
          39,
          4,
          11,
          17,
          14,
          35,
          23,
          5,
          6,
          64,
          191,
          8,
          10,
          83,
          12,
          14,
          83,
          23,
          19,
          21,
          38,
          15,
          18,
          30,
          28,
          34,
          9,
          16,
          6,
          13,
          22,
          61,
          24,
          8,
          14,
          9,
          13,
          8,
          20,
          44,
          5,
          13,
          104,
          11,
          16,
          15,
          15,
          87,
          5,
          11,
          12,
          153,
          20,
          10,
          89,
          9,
          10,
          36,
          5,
          32,
          8,
          5,
          17,
          38,
          7,
          9,
          5,
          42,
          7,
          28,
          9,
          23,
          5,
          28,
          5,
          52,
          5,
          31,
          6,
          29,
          10,
          8,
          15,
          13,
          86,
          9,
          6,
          57,
          12,
          11,
          9,
          8,
          30,
          30,
          8,
          5,
          5,
          10,
          114,
          198,
          19,
          344,
          66,
          35,
          8,
          6,
          44,
          16,
          16,
          7,
          9,
          8,
          25,
          10,
          285,
          39,
          9,
          14,
          10,
          24,
          35,
          10,
          6,
          10,
          5,
          190,
          56,
          5,
          25,
          11,
          24,
          6,
          62,
          6,
          12,
          42,
          99,
          21,
          14,
          228,
          12,
          38,
          11,
          5,
          21,
          63,
          12,
          11,
          30,
          22,
          18,
          104,
          61,
          6,
          13,
          10,
          5,
          139,
          4,
          19,
          22,
          6,
          214,
          173,
          7,
          6,
          8,
          4,
          137,
          12,
          6,
          177,
          12,
          32,
          22,
          5,
          79,
          5,
          79,
          5,
          5,
          24,
          59,
          26,
          8,
          8,
          28,
          47,
          6,
          10,
          7,
          22,
          8,
          10,
          29,
          86,
          5,
          24,
          14,
          43,
          5,
          4,
          3,
          11,
          12,
          30,
          5,
          21,
          9,
          10,
          3,
          33,
          6,
          36,
          24,
          23,
          10,
          63,
          36,
          31,
          7,
          17,
          16,
          5,
          117,
          94,
          36,
          127,
          6,
          8,
          24,
          110,
          17,
          13,
          16,
          35,
          11,
          20,
          143,
          8,
          39,
          143,
          6,
          14,
          2,
          16,
          110,
          73,
          10,
          28,
          13,
          39,
          5,
          204,
          9,
          24,
          28,
          27,
          36,
          59,
          13,
          28,
          63,
          23,
          43,
          28,
          30,
          5,
          84,
          23,
          162,
          26,
          3,
          54,
          11,
          16,
          13,
          15,
          27,
          46,
          104,
          7,
          5,
          50,
          10,
          125,
          62,
          10,
          17,
          10,
          24,
          22,
          8,
          9,
          24,
          43,
          77,
          29,
          124,
          68,
          5,
          7,
          18,
          8,
          64,
          30,
          5,
          57,
          6,
          74,
          38,
          11,
          103,
          11,
          11,
          231,
          35,
          11
         ],
         "yaxis": "y"
        },
        {
         "hovertemplate": "attitude=중립<br>예측=%{x}<br>length=%{y}<extra></extra>",
         "legendgroup": "중립",
         "marker": {
          "color": "#EF553B",
          "symbol": "circle"
         },
         "mode": "markers",
         "name": "중립",
         "orientation": "v",
         "showlegend": true,
         "type": "scatter",
         "x": [
          0.48,
          0.19,
          0.81,
          0.73,
          0.49,
          0.3,
          0.75,
          0.02,
          0.01,
          0.07,
          0.97,
          0.97,
          0.95,
          1,
          0.88,
          0.81,
          0.17,
          0.86,
          0.02,
          0.88,
          0.94,
          0.05,
          0.99,
          0.98,
          0.7,
          0.03,
          0.97,
          0.4,
          0.98,
          0.02,
          0.19,
          0.96,
          0.63,
          0.8,
          0.94,
          0.54,
          0.39,
          0.7,
          0.36,
          0.02,
          0.26,
          0.63,
          0.32,
          0.98,
          0.88,
          0.87,
          0.95,
          0.8,
          0.93,
          0.97,
          0.6,
          0.55,
          0.24,
          0.47,
          0.33,
          0.67,
          0.95,
          0.03,
          0.73,
          0.92,
          0.71,
          0.79,
          0.49,
          0.99,
          0.34,
          0.32,
          0.79,
          0.97,
          0.58,
          0.11,
          0.31,
          0.32,
          0.89,
          0.94,
          0.94,
          0.92,
          0.97,
          0.02,
          0.61,
          0.58,
          0.41,
          0.55,
          0.8,
          1,
          0.25,
          0.32,
          0.99,
          0.98,
          0.01,
          0.64,
          0.98,
          0.95,
          0.41,
          0.89,
          0.02,
          0.02,
          0.88,
          0.98,
          0.99,
          0.04,
          0.95
         ],
         "xaxis": "x",
         "y": [
          37,
          18,
          56,
          48,
          23,
          20,
          104,
          5,
          3,
          7,
          166,
          70,
          105,
          252,
          70,
          53,
          16,
          171,
          5,
          142,
          71,
          7,
          156,
          106,
          37,
          6,
          123,
          27,
          157,
          5,
          23,
          68,
          35,
          114,
          102,
          43,
          18,
          33,
          14,
          5,
          25,
          34,
          19,
          153,
          88,
          66,
          137,
          50,
          103,
          120,
          31,
          25,
          14,
          30,
          23,
          92,
          136,
          6,
          66,
          77,
          71,
          41,
          37,
          155,
          25,
          22,
          41,
          93,
          34,
          12,
          20,
          21,
          64,
          99,
          74,
          137,
          293,
          5,
          51,
          38,
          47,
          20,
          38,
          112,
          37,
          24,
          206,
          202,
          3,
          29,
          157,
          143,
          18,
          49,
          5,
          5,
          97,
          174,
          196,
          8,
          113
         ],
         "yaxis": "y"
        },
        {
         "hovertemplate": "attitude=부정<br>예측=%{x}<br>length=%{y}<extra></extra>",
         "legendgroup": "부정",
         "marker": {
          "color": "#00cc96",
          "symbol": "circle"
         },
         "mode": "markers",
         "name": "부정",
         "orientation": "v",
         "showlegend": true,
         "type": "scatter",
         "x": [
          0.99,
          0.85,
          0.92,
          0.91,
          0.99,
          0.93,
          0.9,
          0.98,
          0.79,
          0.41,
          0.96,
          0.98,
          0.86,
          0.96,
          0.99,
          0.89,
          0.93,
          0.82,
          0.92,
          0.64,
          0.47,
          0.91,
          0.82,
          0.73,
          0.85,
          0.18
         ],
         "xaxis": "x",
         "y": [
          226,
          125,
          125,
          177,
          197,
          103,
          71,
          150,
          77,
          48,
          181,
          144,
          103,
          116,
          205,
          193,
          114,
          85,
          117,
          35,
          20,
          84,
          162,
          46,
          86,
          11
         ],
         "yaxis": "y"
        }
       ],
       "layout": {
        "legend": {
         "title": {
          "text": "attitude"
         },
         "tracegroupgap": 0
        },
        "margin": {
         "t": 60
        },
        "template": {
         "data": {
          "bar": [
           {
            "error_x": {
             "color": "#2a3f5f"
            },
            "error_y": {
             "color": "#2a3f5f"
            },
            "marker": {
             "line": {
              "color": "#E5ECF6",
              "width": 0.5
             }
            },
            "type": "bar"
           }
          ],
          "barpolar": [
           {
            "marker": {
             "line": {
              "color": "#E5ECF6",
              "width": 0.5
             }
            },
            "type": "barpolar"
           }
          ],
          "carpet": [
           {
            "aaxis": {
             "endlinecolor": "#2a3f5f",
             "gridcolor": "white",
             "linecolor": "white",
             "minorgridcolor": "white",
             "startlinecolor": "#2a3f5f"
            },
            "baxis": {
             "endlinecolor": "#2a3f5f",
             "gridcolor": "white",
             "linecolor": "white",
             "minorgridcolor": "white",
             "startlinecolor": "#2a3f5f"
            },
            "type": "carpet"
           }
          ],
          "choropleth": [
           {
            "colorbar": {
             "outlinewidth": 0,
             "ticks": ""
            },
            "type": "choropleth"
           }
          ],
          "contour": [
           {
            "colorbar": {
             "outlinewidth": 0,
             "ticks": ""
            },
            "colorscale": [
             [
              0,
              "#0d0887"
             ],
             [
              0.1111111111111111,
              "#46039f"
             ],
             [
              0.2222222222222222,
              "#7201a8"
             ],
             [
              0.3333333333333333,
              "#9c179e"
             ],
             [
              0.4444444444444444,
              "#bd3786"
             ],
             [
              0.5555555555555556,
              "#d8576b"
             ],
             [
              0.6666666666666666,
              "#ed7953"
             ],
             [
              0.7777777777777778,
              "#fb9f3a"
             ],
             [
              0.8888888888888888,
              "#fdca26"
             ],
             [
              1,
              "#f0f921"
             ]
            ],
            "type": "contour"
           }
          ],
          "contourcarpet": [
           {
            "colorbar": {
             "outlinewidth": 0,
             "ticks": ""
            },
            "type": "contourcarpet"
           }
          ],
          "heatmap": [
           {
            "colorbar": {
             "outlinewidth": 0,
             "ticks": ""
            },
            "colorscale": [
             [
              0,
              "#0d0887"
             ],
             [
              0.1111111111111111,
              "#46039f"
             ],
             [
              0.2222222222222222,
              "#7201a8"
             ],
             [
              0.3333333333333333,
              "#9c179e"
             ],
             [
              0.4444444444444444,
              "#bd3786"
             ],
             [
              0.5555555555555556,
              "#d8576b"
             ],
             [
              0.6666666666666666,
              "#ed7953"
             ],
             [
              0.7777777777777778,
              "#fb9f3a"
             ],
             [
              0.8888888888888888,
              "#fdca26"
             ],
             [
              1,
              "#f0f921"
             ]
            ],
            "type": "heatmap"
           }
          ],
          "heatmapgl": [
           {
            "colorbar": {
             "outlinewidth": 0,
             "ticks": ""
            },
            "colorscale": [
             [
              0,
              "#0d0887"
             ],
             [
              0.1111111111111111,
              "#46039f"
             ],
             [
              0.2222222222222222,
              "#7201a8"
             ],
             [
              0.3333333333333333,
              "#9c179e"
             ],
             [
              0.4444444444444444,
              "#bd3786"
             ],
             [
              0.5555555555555556,
              "#d8576b"
             ],
             [
              0.6666666666666666,
              "#ed7953"
             ],
             [
              0.7777777777777778,
              "#fb9f3a"
             ],
             [
              0.8888888888888888,
              "#fdca26"
             ],
             [
              1,
              "#f0f921"
             ]
            ],
            "type": "heatmapgl"
           }
          ],
          "histogram": [
           {
            "marker": {
             "colorbar": {
              "outlinewidth": 0,
              "ticks": ""
             }
            },
            "type": "histogram"
           }
          ],
          "histogram2d": [
           {
            "colorbar": {
             "outlinewidth": 0,
             "ticks": ""
            },
            "colorscale": [
             [
              0,
              "#0d0887"
             ],
             [
              0.1111111111111111,
              "#46039f"
             ],
             [
              0.2222222222222222,
              "#7201a8"
             ],
             [
              0.3333333333333333,
              "#9c179e"
             ],
             [
              0.4444444444444444,
              "#bd3786"
             ],
             [
              0.5555555555555556,
              "#d8576b"
             ],
             [
              0.6666666666666666,
              "#ed7953"
             ],
             [
              0.7777777777777778,
              "#fb9f3a"
             ],
             [
              0.8888888888888888,
              "#fdca26"
             ],
             [
              1,
              "#f0f921"
             ]
            ],
            "type": "histogram2d"
           }
          ],
          "histogram2dcontour": [
           {
            "colorbar": {
             "outlinewidth": 0,
             "ticks": ""
            },
            "colorscale": [
             [
              0,
              "#0d0887"
             ],
             [
              0.1111111111111111,
              "#46039f"
             ],
             [
              0.2222222222222222,
              "#7201a8"
             ],
             [
              0.3333333333333333,
              "#9c179e"
             ],
             [
              0.4444444444444444,
              "#bd3786"
             ],
             [
              0.5555555555555556,
              "#d8576b"
             ],
             [
              0.6666666666666666,
              "#ed7953"
             ],
             [
              0.7777777777777778,
              "#fb9f3a"
             ],
             [
              0.8888888888888888,
              "#fdca26"
             ],
             [
              1,
              "#f0f921"
             ]
            ],
            "type": "histogram2dcontour"
           }
          ],
          "mesh3d": [
           {
            "colorbar": {
             "outlinewidth": 0,
             "ticks": ""
            },
            "type": "mesh3d"
           }
          ],
          "parcoords": [
           {
            "line": {
             "colorbar": {
              "outlinewidth": 0,
              "ticks": ""
             }
            },
            "type": "parcoords"
           }
          ],
          "pie": [
           {
            "automargin": true,
            "type": "pie"
           }
          ],
          "scatter": [
           {
            "marker": {
             "colorbar": {
              "outlinewidth": 0,
              "ticks": ""
             }
            },
            "type": "scatter"
           }
          ],
          "scatter3d": [
           {
            "line": {
             "colorbar": {
              "outlinewidth": 0,
              "ticks": ""
             }
            },
            "marker": {
             "colorbar": {
              "outlinewidth": 0,
              "ticks": ""
             }
            },
            "type": "scatter3d"
           }
          ],
          "scattercarpet": [
           {
            "marker": {
             "colorbar": {
              "outlinewidth": 0,
              "ticks": ""
             }
            },
            "type": "scattercarpet"
           }
          ],
          "scattergeo": [
           {
            "marker": {
             "colorbar": {
              "outlinewidth": 0,
              "ticks": ""
             }
            },
            "type": "scattergeo"
           }
          ],
          "scattergl": [
           {
            "marker": {
             "colorbar": {
              "outlinewidth": 0,
              "ticks": ""
             }
            },
            "type": "scattergl"
           }
          ],
          "scattermapbox": [
           {
            "marker": {
             "colorbar": {
              "outlinewidth": 0,
              "ticks": ""
             }
            },
            "type": "scattermapbox"
           }
          ],
          "scatterpolar": [
           {
            "marker": {
             "colorbar": {
              "outlinewidth": 0,
              "ticks": ""
             }
            },
            "type": "scatterpolar"
           }
          ],
          "scatterpolargl": [
           {
            "marker": {
             "colorbar": {
              "outlinewidth": 0,
              "ticks": ""
             }
            },
            "type": "scatterpolargl"
           }
          ],
          "scatterternary": [
           {
            "marker": {
             "colorbar": {
              "outlinewidth": 0,
              "ticks": ""
             }
            },
            "type": "scatterternary"
           }
          ],
          "surface": [
           {
            "colorbar": {
             "outlinewidth": 0,
             "ticks": ""
            },
            "colorscale": [
             [
              0,
              "#0d0887"
             ],
             [
              0.1111111111111111,
              "#46039f"
             ],
             [
              0.2222222222222222,
              "#7201a8"
             ],
             [
              0.3333333333333333,
              "#9c179e"
             ],
             [
              0.4444444444444444,
              "#bd3786"
             ],
             [
              0.5555555555555556,
              "#d8576b"
             ],
             [
              0.6666666666666666,
              "#ed7953"
             ],
             [
              0.7777777777777778,
              "#fb9f3a"
             ],
             [
              0.8888888888888888,
              "#fdca26"
             ],
             [
              1,
              "#f0f921"
             ]
            ],
            "type": "surface"
           }
          ],
          "table": [
           {
            "cells": {
             "fill": {
              "color": "#EBF0F8"
             },
             "line": {
              "color": "white"
             }
            },
            "header": {
             "fill": {
              "color": "#C8D4E3"
             },
             "line": {
              "color": "white"
             }
            },
            "type": "table"
           }
          ]
         },
         "layout": {
          "annotationdefaults": {
           "arrowcolor": "#2a3f5f",
           "arrowhead": 0,
           "arrowwidth": 1
          },
          "coloraxis": {
           "colorbar": {
            "outlinewidth": 0,
            "ticks": ""
           }
          },
          "colorscale": {
           "diverging": [
            [
             0,
             "#8e0152"
            ],
            [
             0.1,
             "#c51b7d"
            ],
            [
             0.2,
             "#de77ae"
            ],
            [
             0.3,
             "#f1b6da"
            ],
            [
             0.4,
             "#fde0ef"
            ],
            [
             0.5,
             "#f7f7f7"
            ],
            [
             0.6,
             "#e6f5d0"
            ],
            [
             0.7,
             "#b8e186"
            ],
            [
             0.8,
             "#7fbc41"
            ],
            [
             0.9,
             "#4d9221"
            ],
            [
             1,
             "#276419"
            ]
           ],
           "sequential": [
            [
             0,
             "#0d0887"
            ],
            [
             0.1111111111111111,
             "#46039f"
            ],
            [
             0.2222222222222222,
             "#7201a8"
            ],
            [
             0.3333333333333333,
             "#9c179e"
            ],
            [
             0.4444444444444444,
             "#bd3786"
            ],
            [
             0.5555555555555556,
             "#d8576b"
            ],
            [
             0.6666666666666666,
             "#ed7953"
            ],
            [
             0.7777777777777778,
             "#fb9f3a"
            ],
            [
             0.8888888888888888,
             "#fdca26"
            ],
            [
             1,
             "#f0f921"
            ]
           ],
           "sequentialminus": [
            [
             0,
             "#0d0887"
            ],
            [
             0.1111111111111111,
             "#46039f"
            ],
            [
             0.2222222222222222,
             "#7201a8"
            ],
            [
             0.3333333333333333,
             "#9c179e"
            ],
            [
             0.4444444444444444,
             "#bd3786"
            ],
            [
             0.5555555555555556,
             "#d8576b"
            ],
            [
             0.6666666666666666,
             "#ed7953"
            ],
            [
             0.7777777777777778,
             "#fb9f3a"
            ],
            [
             0.8888888888888888,
             "#fdca26"
            ],
            [
             1,
             "#f0f921"
            ]
           ]
          },
          "colorway": [
           "#636efa",
           "#EF553B",
           "#00cc96",
           "#ab63fa",
           "#FFA15A",
           "#19d3f3",
           "#FF6692",
           "#B6E880",
           "#FF97FF",
           "#FECB52"
          ],
          "font": {
           "color": "#2a3f5f"
          },
          "geo": {
           "bgcolor": "white",
           "lakecolor": "white",
           "landcolor": "#E5ECF6",
           "showlakes": true,
           "showland": true,
           "subunitcolor": "white"
          },
          "hoverlabel": {
           "align": "left"
          },
          "hovermode": "closest",
          "mapbox": {
           "style": "light"
          },
          "paper_bgcolor": "white",
          "plot_bgcolor": "#E5ECF6",
          "polar": {
           "angularaxis": {
            "gridcolor": "white",
            "linecolor": "white",
            "ticks": ""
           },
           "bgcolor": "#E5ECF6",
           "radialaxis": {
            "gridcolor": "white",
            "linecolor": "white",
            "ticks": ""
           }
          },
          "scene": {
           "xaxis": {
            "backgroundcolor": "#E5ECF6",
            "gridcolor": "white",
            "gridwidth": 2,
            "linecolor": "white",
            "showbackground": true,
            "ticks": "",
            "zerolinecolor": "white"
           },
           "yaxis": {
            "backgroundcolor": "#E5ECF6",
            "gridcolor": "white",
            "gridwidth": 2,
            "linecolor": "white",
            "showbackground": true,
            "ticks": "",
            "zerolinecolor": "white"
           },
           "zaxis": {
            "backgroundcolor": "#E5ECF6",
            "gridcolor": "white",
            "gridwidth": 2,
            "linecolor": "white",
            "showbackground": true,
            "ticks": "",
            "zerolinecolor": "white"
           }
          },
          "shapedefaults": {
           "line": {
            "color": "#2a3f5f"
           }
          },
          "ternary": {
           "aaxis": {
            "gridcolor": "white",
            "linecolor": "white",
            "ticks": ""
           },
           "baxis": {
            "gridcolor": "white",
            "linecolor": "white",
            "ticks": ""
           },
           "bgcolor": "#E5ECF6",
           "caxis": {
            "gridcolor": "white",
            "linecolor": "white",
            "ticks": ""
           }
          },
          "title": {
           "x": 0.05
          },
          "xaxis": {
           "automargin": true,
           "gridcolor": "white",
           "linecolor": "white",
           "ticks": "",
           "title": {
            "standoff": 15
           },
           "zerolinecolor": "white",
           "zerolinewidth": 2
          },
          "yaxis": {
           "automargin": true,
           "gridcolor": "white",
           "linecolor": "white",
           "ticks": "",
           "title": {
            "standoff": 15
           },
           "zerolinecolor": "white",
           "zerolinewidth": 2
          }
         }
        },
        "xaxis": {
         "anchor": "y",
         "domain": [
          0,
          1
         ],
         "title": {
          "text": "예측"
         }
        },
        "yaxis": {
         "anchor": "x",
         "domain": [
          0,
          1
         ],
         "title": {
          "text": "length"
         }
        }
       }
      },
      "text/html": [
       "<div>                            <div id=\"99dfb171-33a0-46d9-976f-39acca5e431b\" class=\"plotly-graph-div\" style=\"height:525px; width:100%;\"></div>            <script type=\"text/javascript\">                require([\"plotly\"], function(Plotly) {                    window.PLOTLYENV=window.PLOTLYENV || {};                                    if (document.getElementById(\"99dfb171-33a0-46d9-976f-39acca5e431b\")) {                    Plotly.newPlot(                        \"99dfb171-33a0-46d9-976f-39acca5e431b\",                        [{\"hovertemplate\": \"attitude=\\uae0d\\uc815<br>\\uc608\\uce21=%{x}<br>length=%{y}<extra></extra>\", \"legendgroup\": \"\\uae0d\\uc815\", \"marker\": {\"color\": \"#636efa\", \"symbol\": \"circle\"}, \"mode\": \"markers\", \"name\": \"\\uae0d\\uc815\", \"orientation\": \"v\", \"showlegend\": true, \"type\": \"scatter\", \"x\": [0.77, 0.09, 0.56, 0.06, 0.06, 0.84, 0.02, 0.02, 0.01, 0.4, 0.62, 0.59, 0.92, 0.04, 0.03, 0.77, 0.15, 0.02, 0.01, 0.13, 0.65, 0.11, 0.72, 0.07, 0.31, 0.76, 0.02, 0.03, 0.08, 0.08, 0.13, 0.89, 0.02, 0.83, 0.9, 0.17, 0.07, 0.61, 0.01, 0.06, 0.23, 0.11, 0.29, 0.18, 0.01, 0.02, 0.43, 0.84, 0.04, 0.06, 0.89, 0.2, 0.11, 0.8, 0.14, 0.33, 0.32, 0.73, 0.15, 0.31, 0.5, 0.28, 0.51, 0.06, 0.17, 0.03, 0.17, 0.27, 0.51, 0.4, 0.04, 0.13, 0.06, 0.09, 0.05, 0.26, 0.57, 0.02, 0.17, 0.96, 0.16, 0.13, 0.11, 0.11, 0.7, 0.0, 0.08, 0.09, 0.89, 0.27, 0.07, 0.96, 0.06, 0.07, 0.62, 0.02, 0.47, 0.08, 0.02, 0.18, 0.6, 0.04, 0.06, 0.02, 0.64, 0.03, 0.51, 0.04, 0.3, 0.02, 0.67, 0.02, 0.67, 0.02, 0.44, 0.03, 0.23, 0.06, 0.05, 0.14, 0.09, 0.97, 0.04, 0.03, 0.43, 0.06, 0.04, 0.06, 0.05, 0.61, 0.55, 0.05, 0.02, 0.02, 0.04, 0.81, 0.96, 0.29, 0.93, 0.79, 0.53, 0.04, 0.03, 0.7, 0.2, 0.15, 0.03, 0.05, 0.04, 0.36, 0.1, 0.88, 0.56, 0.04, 0.11, 0.05, 0.4, 0.59, 0.05, 0.03, 0.05, 0.01, 0.97, 0.85, 0.01, 0.39, 0.09, 0.33, 0.03, 0.48, 0.03, 0.08, 0.88, 0.83, 0.37, 0.14, 0.97, 0.09, 0.69, 0.06, 0.02, 0.19, 0.79, 0.08, 0.07, 0.53, 0.29, 0.17, 0.48, 0.59, 0.02, 0.13, 0.07, 0.02, 0.3, 0.01, 0.16, 0.37, 0.03, 0.69, 0.99, 0.03, 0.03, 0.03, 0.01, 0.78, 0.1, 0.03, 0.99, 0.07, 0.28, 0.3, 0.02, 0.8, 0.02, 0.95, 0.02, 0.02, 0.22, 0.68, 0.4, 0.05, 0.05, 0.48, 0.79, 0.07, 0.07, 0.04, 0.38, 0.03, 0.09, 0.37, 0.85, 0.02, 0.36, 0.23, 0.43, 0.02, 0.01, 0.01, 0.08, 0.08, 0.41, 0.02, 0.3, 0.04, 0.07, 0.01, 0.32, 0.03, 0.41, 0.5, 0.49, 0.06, 0.71, 0.72, 0.5, 0.04, 0.13, 0.22, 0.02, 0.98, 0.89, 0.61, 0.81, 0.03, 0.04, 0.42, 0.9, 0.27, 0.13, 0.31, 0.39, 0.08, 0.14, 0.99, 0.04, 0.59, 0.81, 0.03, 0.12, 0.0, 0.2, 0.93, 0.91, 0.06, 0.23, 0.1, 0.84, 0.01, 0.88, 0.06, 0.47, 0.38, 0.58, 0.46, 0.69, 0.06, 0.25, 0.58, 0.56, 0.47, 0.23, 0.3, 0.02, 0.73, 0.19, 0.98, 0.33, 0.01, 0.73, 0.06, 0.32, 0.1, 0.14, 0.36, 0.77, 0.96, 0.03, 0.02, 0.5, 0.05, 0.99, 0.71, 0.07, 0.13, 0.07, 0.47, 0.22, 0.05, 0.03, 0.15, 0.45, 0.79, 0.16, 0.95, 0.8, 0.02, 0.04, 0.26, 0.04, 0.34, 0.33, 0.02, 0.67, 0.03, 0.65, 0.31, 0.08, 0.86, 0.08, 0.06, 0.99, 0.51, 0.16], \"xaxis\": \"x\", \"y\": [49, 11, 41, 11, 10, 71, 5, 5, 5, 100, 44, 28, 98, 7, 6, 78, 16, 5, 3, 12, 55, 14, 38, 8, 18, 73, 5, 8, 13, 13, 14, 92, 6, 79, 62, 17, 10, 39, 4, 11, 17, 14, 35, 23, 5, 6, 64, 191, 8, 10, 83, 12, 14, 83, 23, 19, 21, 38, 15, 18, 30, 28, 34, 9, 16, 6, 13, 22, 61, 24, 8, 14, 9, 13, 8, 20, 44, 5, 13, 104, 11, 16, 15, 15, 87, 5, 11, 12, 153, 20, 10, 89, 9, 10, 36, 5, 32, 8, 5, 17, 38, 7, 9, 5, 42, 7, 28, 9, 23, 5, 28, 5, 52, 5, 31, 6, 29, 10, 8, 15, 13, 86, 9, 6, 57, 12, 11, 9, 8, 30, 30, 8, 5, 5, 10, 114, 198, 19, 344, 66, 35, 8, 6, 44, 16, 16, 7, 9, 8, 25, 10, 285, 39, 9, 14, 10, 24, 35, 10, 6, 10, 5, 190, 56, 5, 25, 11, 24, 6, 62, 6, 12, 42, 99, 21, 14, 228, 12, 38, 11, 5, 21, 63, 12, 11, 30, 22, 18, 104, 61, 6, 13, 10, 5, 139, 4, 19, 22, 6, 214, 173, 7, 6, 8, 4, 137, 12, 6, 177, 12, 32, 22, 5, 79, 5, 79, 5, 5, 24, 59, 26, 8, 8, 28, 47, 6, 10, 7, 22, 8, 10, 29, 86, 5, 24, 14, 43, 5, 4, 3, 11, 12, 30, 5, 21, 9, 10, 3, 33, 6, 36, 24, 23, 10, 63, 36, 31, 7, 17, 16, 5, 117, 94, 36, 127, 6, 8, 24, 110, 17, 13, 16, 35, 11, 20, 143, 8, 39, 143, 6, 14, 2, 16, 110, 73, 10, 28, 13, 39, 5, 204, 9, 24, 28, 27, 36, 59, 13, 28, 63, 23, 43, 28, 30, 5, 84, 23, 162, 26, 3, 54, 11, 16, 13, 15, 27, 46, 104, 7, 5, 50, 10, 125, 62, 10, 17, 10, 24, 22, 8, 9, 24, 43, 77, 29, 124, 68, 5, 7, 18, 8, 64, 30, 5, 57, 6, 74, 38, 11, 103, 11, 11, 231, 35, 11], \"yaxis\": \"y\"}, {\"hovertemplate\": \"attitude=\\uc911\\ub9bd<br>\\uc608\\uce21=%{x}<br>length=%{y}<extra></extra>\", \"legendgroup\": \"\\uc911\\ub9bd\", \"marker\": {\"color\": \"#EF553B\", \"symbol\": \"circle\"}, \"mode\": \"markers\", \"name\": \"\\uc911\\ub9bd\", \"orientation\": \"v\", \"showlegend\": true, \"type\": \"scatter\", \"x\": [0.48, 0.19, 0.81, 0.73, 0.49, 0.3, 0.75, 0.02, 0.01, 0.07, 0.97, 0.97, 0.95, 1.0, 0.88, 0.81, 0.17, 0.86, 0.02, 0.88, 0.94, 0.05, 0.99, 0.98, 0.7, 0.03, 0.97, 0.4, 0.98, 0.02, 0.19, 0.96, 0.63, 0.8, 0.94, 0.54, 0.39, 0.7, 0.36, 0.02, 0.26, 0.63, 0.32, 0.98, 0.88, 0.87, 0.95, 0.8, 0.93, 0.97, 0.6, 0.55, 0.24, 0.47, 0.33, 0.67, 0.95, 0.03, 0.73, 0.92, 0.71, 0.79, 0.49, 0.99, 0.34, 0.32, 0.79, 0.97, 0.58, 0.11, 0.31, 0.32, 0.89, 0.94, 0.94, 0.92, 0.97, 0.02, 0.61, 0.58, 0.41, 0.55, 0.8, 1.0, 0.25, 0.32, 0.99, 0.98, 0.01, 0.64, 0.98, 0.95, 0.41, 0.89, 0.02, 0.02, 0.88, 0.98, 0.99, 0.04, 0.95], \"xaxis\": \"x\", \"y\": [37, 18, 56, 48, 23, 20, 104, 5, 3, 7, 166, 70, 105, 252, 70, 53, 16, 171, 5, 142, 71, 7, 156, 106, 37, 6, 123, 27, 157, 5, 23, 68, 35, 114, 102, 43, 18, 33, 14, 5, 25, 34, 19, 153, 88, 66, 137, 50, 103, 120, 31, 25, 14, 30, 23, 92, 136, 6, 66, 77, 71, 41, 37, 155, 25, 22, 41, 93, 34, 12, 20, 21, 64, 99, 74, 137, 293, 5, 51, 38, 47, 20, 38, 112, 37, 24, 206, 202, 3, 29, 157, 143, 18, 49, 5, 5, 97, 174, 196, 8, 113], \"yaxis\": \"y\"}, {\"hovertemplate\": \"attitude=\\ubd80\\uc815<br>\\uc608\\uce21=%{x}<br>length=%{y}<extra></extra>\", \"legendgroup\": \"\\ubd80\\uc815\", \"marker\": {\"color\": \"#00cc96\", \"symbol\": \"circle\"}, \"mode\": \"markers\", \"name\": \"\\ubd80\\uc815\", \"orientation\": \"v\", \"showlegend\": true, \"type\": \"scatter\", \"x\": [0.99, 0.85, 0.92, 0.91, 0.99, 0.93, 0.9, 0.98, 0.79, 0.41, 0.96, 0.98, 0.86, 0.96, 0.99, 0.89, 0.93, 0.82, 0.92, 0.64, 0.47, 0.91, 0.82, 0.73, 0.85, 0.18], \"xaxis\": \"x\", \"y\": [226, 125, 125, 177, 197, 103, 71, 150, 77, 48, 181, 144, 103, 116, 205, 193, 114, 85, 117, 35, 20, 84, 162, 46, 86, 11], \"yaxis\": \"y\"}],                        {\"legend\": {\"title\": {\"text\": \"attitude\"}, \"tracegroupgap\": 0}, \"margin\": {\"t\": 60}, \"template\": {\"data\": {\"bar\": [{\"error_x\": {\"color\": \"#2a3f5f\"}, \"error_y\": {\"color\": \"#2a3f5f\"}, \"marker\": {\"line\": {\"color\": \"#E5ECF6\", \"width\": 0.5}}, \"type\": \"bar\"}], \"barpolar\": [{\"marker\": {\"line\": {\"color\": \"#E5ECF6\", \"width\": 0.5}}, \"type\": \"barpolar\"}], \"carpet\": [{\"aaxis\": {\"endlinecolor\": \"#2a3f5f\", \"gridcolor\": \"white\", \"linecolor\": \"white\", \"minorgridcolor\": \"white\", \"startlinecolor\": \"#2a3f5f\"}, \"baxis\": {\"endlinecolor\": \"#2a3f5f\", \"gridcolor\": \"white\", \"linecolor\": \"white\", \"minorgridcolor\": \"white\", \"startlinecolor\": \"#2a3f5f\"}, \"type\": \"carpet\"}], \"choropleth\": [{\"colorbar\": {\"outlinewidth\": 0, \"ticks\": \"\"}, \"type\": \"choropleth\"}], \"contour\": [{\"colorbar\": {\"outlinewidth\": 0, \"ticks\": \"\"}, \"colorscale\": [[0.0, \"#0d0887\"], [0.1111111111111111, \"#46039f\"], [0.2222222222222222, \"#7201a8\"], [0.3333333333333333, \"#9c179e\"], [0.4444444444444444, \"#bd3786\"], [0.5555555555555556, \"#d8576b\"], [0.6666666666666666, \"#ed7953\"], [0.7777777777777778, \"#fb9f3a\"], [0.8888888888888888, \"#fdca26\"], [1.0, \"#f0f921\"]], \"type\": \"contour\"}], \"contourcarpet\": [{\"colorbar\": {\"outlinewidth\": 0, \"ticks\": \"\"}, \"type\": \"contourcarpet\"}], \"heatmap\": [{\"colorbar\": {\"outlinewidth\": 0, \"ticks\": \"\"}, \"colorscale\": [[0.0, \"#0d0887\"], [0.1111111111111111, \"#46039f\"], [0.2222222222222222, \"#7201a8\"], [0.3333333333333333, \"#9c179e\"], [0.4444444444444444, \"#bd3786\"], [0.5555555555555556, \"#d8576b\"], [0.6666666666666666, \"#ed7953\"], [0.7777777777777778, \"#fb9f3a\"], [0.8888888888888888, \"#fdca26\"], [1.0, \"#f0f921\"]], \"type\": \"heatmap\"}], \"heatmapgl\": [{\"colorbar\": {\"outlinewidth\": 0, \"ticks\": \"\"}, \"colorscale\": [[0.0, \"#0d0887\"], [0.1111111111111111, \"#46039f\"], [0.2222222222222222, \"#7201a8\"], [0.3333333333333333, \"#9c179e\"], [0.4444444444444444, \"#bd3786\"], [0.5555555555555556, \"#d8576b\"], [0.6666666666666666, \"#ed7953\"], [0.7777777777777778, \"#fb9f3a\"], [0.8888888888888888, \"#fdca26\"], [1.0, \"#f0f921\"]], \"type\": \"heatmapgl\"}], \"histogram\": [{\"marker\": {\"colorbar\": {\"outlinewidth\": 0, \"ticks\": \"\"}}, \"type\": \"histogram\"}], \"histogram2d\": [{\"colorbar\": {\"outlinewidth\": 0, \"ticks\": \"\"}, \"colorscale\": [[0.0, \"#0d0887\"], [0.1111111111111111, \"#46039f\"], [0.2222222222222222, \"#7201a8\"], [0.3333333333333333, \"#9c179e\"], [0.4444444444444444, \"#bd3786\"], [0.5555555555555556, \"#d8576b\"], [0.6666666666666666, \"#ed7953\"], [0.7777777777777778, \"#fb9f3a\"], [0.8888888888888888, \"#fdca26\"], [1.0, \"#f0f921\"]], \"type\": \"histogram2d\"}], \"histogram2dcontour\": [{\"colorbar\": {\"outlinewidth\": 0, \"ticks\": \"\"}, \"colorscale\": [[0.0, \"#0d0887\"], [0.1111111111111111, \"#46039f\"], [0.2222222222222222, \"#7201a8\"], [0.3333333333333333, \"#9c179e\"], [0.4444444444444444, \"#bd3786\"], [0.5555555555555556, \"#d8576b\"], [0.6666666666666666, \"#ed7953\"], [0.7777777777777778, \"#fb9f3a\"], [0.8888888888888888, \"#fdca26\"], [1.0, \"#f0f921\"]], \"type\": \"histogram2dcontour\"}], \"mesh3d\": [{\"colorbar\": {\"outlinewidth\": 0, \"ticks\": \"\"}, \"type\": \"mesh3d\"}], \"parcoords\": [{\"line\": {\"colorbar\": {\"outlinewidth\": 0, \"ticks\": \"\"}}, \"type\": \"parcoords\"}], \"pie\": [{\"automargin\": true, \"type\": \"pie\"}], \"scatter\": [{\"marker\": {\"colorbar\": {\"outlinewidth\": 0, \"ticks\": \"\"}}, \"type\": \"scatter\"}], \"scatter3d\": [{\"line\": {\"colorbar\": {\"outlinewidth\": 0, \"ticks\": \"\"}}, \"marker\": {\"colorbar\": {\"outlinewidth\": 0, \"ticks\": \"\"}}, \"type\": \"scatter3d\"}], \"scattercarpet\": [{\"marker\": {\"colorbar\": {\"outlinewidth\": 0, \"ticks\": \"\"}}, \"type\": \"scattercarpet\"}], \"scattergeo\": [{\"marker\": {\"colorbar\": {\"outlinewidth\": 0, \"ticks\": \"\"}}, \"type\": \"scattergeo\"}], \"scattergl\": [{\"marker\": {\"colorbar\": {\"outlinewidth\": 0, \"ticks\": \"\"}}, \"type\": \"scattergl\"}], \"scattermapbox\": [{\"marker\": {\"colorbar\": {\"outlinewidth\": 0, \"ticks\": \"\"}}, \"type\": \"scattermapbox\"}], \"scatterpolar\": [{\"marker\": {\"colorbar\": {\"outlinewidth\": 0, \"ticks\": \"\"}}, \"type\": \"scatterpolar\"}], \"scatterpolargl\": [{\"marker\": {\"colorbar\": {\"outlinewidth\": 0, \"ticks\": \"\"}}, \"type\": \"scatterpolargl\"}], \"scatterternary\": [{\"marker\": {\"colorbar\": {\"outlinewidth\": 0, \"ticks\": \"\"}}, \"type\": \"scatterternary\"}], \"surface\": [{\"colorbar\": {\"outlinewidth\": 0, \"ticks\": \"\"}, \"colorscale\": [[0.0, \"#0d0887\"], [0.1111111111111111, \"#46039f\"], [0.2222222222222222, \"#7201a8\"], [0.3333333333333333, \"#9c179e\"], [0.4444444444444444, \"#bd3786\"], [0.5555555555555556, \"#d8576b\"], [0.6666666666666666, \"#ed7953\"], [0.7777777777777778, \"#fb9f3a\"], [0.8888888888888888, \"#fdca26\"], [1.0, \"#f0f921\"]], \"type\": \"surface\"}], \"table\": [{\"cells\": {\"fill\": {\"color\": \"#EBF0F8\"}, \"line\": {\"color\": \"white\"}}, \"header\": {\"fill\": {\"color\": \"#C8D4E3\"}, \"line\": {\"color\": \"white\"}}, \"type\": \"table\"}]}, \"layout\": {\"annotationdefaults\": {\"arrowcolor\": \"#2a3f5f\", \"arrowhead\": 0, \"arrowwidth\": 1}, \"coloraxis\": {\"colorbar\": {\"outlinewidth\": 0, \"ticks\": \"\"}}, \"colorscale\": {\"diverging\": [[0, \"#8e0152\"], [0.1, \"#c51b7d\"], [0.2, \"#de77ae\"], [0.3, \"#f1b6da\"], [0.4, \"#fde0ef\"], [0.5, \"#f7f7f7\"], [0.6, \"#e6f5d0\"], [0.7, \"#b8e186\"], [0.8, \"#7fbc41\"], [0.9, \"#4d9221\"], [1, \"#276419\"]], \"sequential\": [[0.0, \"#0d0887\"], [0.1111111111111111, \"#46039f\"], [0.2222222222222222, \"#7201a8\"], [0.3333333333333333, \"#9c179e\"], [0.4444444444444444, \"#bd3786\"], [0.5555555555555556, \"#d8576b\"], [0.6666666666666666, \"#ed7953\"], [0.7777777777777778, \"#fb9f3a\"], [0.8888888888888888, \"#fdca26\"], [1.0, \"#f0f921\"]], \"sequentialminus\": [[0.0, \"#0d0887\"], [0.1111111111111111, \"#46039f\"], [0.2222222222222222, \"#7201a8\"], [0.3333333333333333, \"#9c179e\"], [0.4444444444444444, \"#bd3786\"], [0.5555555555555556, \"#d8576b\"], [0.6666666666666666, \"#ed7953\"], [0.7777777777777778, \"#fb9f3a\"], [0.8888888888888888, \"#fdca26\"], [1.0, \"#f0f921\"]]}, \"colorway\": [\"#636efa\", \"#EF553B\", \"#00cc96\", \"#ab63fa\", \"#FFA15A\", \"#19d3f3\", \"#FF6692\", \"#B6E880\", \"#FF97FF\", \"#FECB52\"], \"font\": {\"color\": \"#2a3f5f\"}, \"geo\": {\"bgcolor\": \"white\", \"lakecolor\": \"white\", \"landcolor\": \"#E5ECF6\", \"showlakes\": true, \"showland\": true, \"subunitcolor\": \"white\"}, \"hoverlabel\": {\"align\": \"left\"}, \"hovermode\": \"closest\", \"mapbox\": {\"style\": \"light\"}, \"paper_bgcolor\": \"white\", \"plot_bgcolor\": \"#E5ECF6\", \"polar\": {\"angularaxis\": {\"gridcolor\": \"white\", \"linecolor\": \"white\", \"ticks\": \"\"}, \"bgcolor\": \"#E5ECF6\", \"radialaxis\": {\"gridcolor\": \"white\", \"linecolor\": \"white\", \"ticks\": \"\"}}, \"scene\": {\"xaxis\": {\"backgroundcolor\": \"#E5ECF6\", \"gridcolor\": \"white\", \"gridwidth\": 2, \"linecolor\": \"white\", \"showbackground\": true, \"ticks\": \"\", \"zerolinecolor\": \"white\"}, \"yaxis\": {\"backgroundcolor\": \"#E5ECF6\", \"gridcolor\": \"white\", \"gridwidth\": 2, \"linecolor\": \"white\", \"showbackground\": true, \"ticks\": \"\", \"zerolinecolor\": \"white\"}, \"zaxis\": {\"backgroundcolor\": \"#E5ECF6\", \"gridcolor\": \"white\", \"gridwidth\": 2, \"linecolor\": \"white\", \"showbackground\": true, \"ticks\": \"\", \"zerolinecolor\": \"white\"}}, \"shapedefaults\": {\"line\": {\"color\": \"#2a3f5f\"}}, \"ternary\": {\"aaxis\": {\"gridcolor\": \"white\", \"linecolor\": \"white\", \"ticks\": \"\"}, \"baxis\": {\"gridcolor\": \"white\", \"linecolor\": \"white\", \"ticks\": \"\"}, \"bgcolor\": \"#E5ECF6\", \"caxis\": {\"gridcolor\": \"white\", \"linecolor\": \"white\", \"ticks\": \"\"}}, \"title\": {\"x\": 0.05}, \"xaxis\": {\"automargin\": true, \"gridcolor\": \"white\", \"linecolor\": \"white\", \"ticks\": \"\", \"title\": {\"standoff\": 15}, \"zerolinecolor\": \"white\", \"zerolinewidth\": 2}, \"yaxis\": {\"automargin\": true, \"gridcolor\": \"white\", \"linecolor\": \"white\", \"ticks\": \"\", \"title\": {\"standoff\": 15}, \"zerolinecolor\": \"white\", \"zerolinewidth\": 2}}}, \"xaxis\": {\"anchor\": \"y\", \"domain\": [0.0, 1.0], \"title\": {\"text\": \"\\uc608\\uce21\"}}, \"yaxis\": {\"anchor\": \"x\", \"domain\": [0.0, 1.0], \"title\": {\"text\": \"length\"}}},                        {\"responsive\": true}                    ).then(function(){\n",
       "                            \n",
       "var gd = document.getElementById('99dfb171-33a0-46d9-976f-39acca5e431b');\n",
       "var x = new MutationObserver(function (mutations, observer) {{\n",
       "        var display = window.getComputedStyle(gd).display;\n",
       "        if (!display || display === 'none') {{\n",
       "            console.log([gd, 'removed!']);\n",
       "            Plotly.purge(gd);\n",
       "            observer.disconnect();\n",
       "        }}\n",
       "}});\n",
       "\n",
       "// Listen for the removal of the full notebook cells\n",
       "var notebookContainer = gd.closest('#notebook-container');\n",
       "if (notebookContainer) {{\n",
       "    x.observe(notebookContainer, {childList: true});\n",
       "}}\n",
       "\n",
       "// Listen for the clearing of the current output cell\n",
       "var outputEl = gd.closest('.output');\n",
       "if (outputEl) {{\n",
       "    x.observe(outputEl, {childList: true});\n",
       "}}\n",
       "\n",
       "                        })                };                });            </script>        </div>"
      ]
     },
     "metadata": {},
     "output_type": "display_data"
    }
   ],
   "source": [
    "fig = px.scatter(scat, x = '예측', y = 'length',color = 'attitude')\n",
    "fig.show()\n"
   ]
  },
  {
   "cell_type": "code",
   "execution_count": 46,
   "metadata": {},
   "outputs": [
    {
     "data": {
      "application/vnd.plotly.v1+json": {
       "config": {
        "plotlyServerURL": "https://plot.ly"
       },
       "data": [
        {
         "hovertemplate": "예측: %{x}% <br>리뷰길이: %{y} <br>%{color}",
         "legendgroup": "도움O",
         "marker": {
          "color": "#636efa",
          "symbol": "circle"
         },
         "mode": "markers",
         "name": "도움O",
         "orientation": "v",
         "showlegend": true,
         "type": "scatter",
         "x": [
          0.77,
          0.84,
          0.4,
          0.59,
          0.92,
          0.77,
          0.65,
          0.72,
          0.31,
          0.76,
          0.83,
          0.9,
          0.43,
          0.84,
          0.89,
          0.8,
          0.33,
          0.32,
          0.73,
          0.31,
          0.5,
          0.17,
          0.96,
          0.7,
          0.89,
          0.96,
          0.47,
          0.64,
          0.51,
          0.67,
          0.67,
          0.44,
          0.97,
          0.61,
          0.55,
          0.81,
          0.96,
          0.29,
          0.93,
          0.79,
          0.53,
          0.7,
          0.88,
          0.56,
          0.97,
          0.85,
          0.48,
          0.88,
          0.83,
          0.37,
          0.97,
          0.79,
          0.29,
          0.59,
          0.37,
          0.69,
          0.99,
          0.78,
          0.99,
          0.3,
          0.95,
          0.68,
          0.4,
          0.79,
          0.38,
          0.85,
          0.41,
          0.41,
          0.5,
          0.49,
          0.72,
          0.98,
          0.89,
          0.61,
          0.81,
          0.9,
          0.27,
          0.99,
          0.81,
          0.93,
          0.91,
          0.1,
          0.84,
          0.88,
          0.47,
          0.38,
          0.58,
          0.46,
          0.69,
          0.25,
          0.56,
          0.73,
          0.98,
          0.73,
          0.77,
          0.96,
          0.5,
          0.99,
          0.71,
          0.79,
          0.95,
          0.8,
          0.34,
          0.65,
          0.86,
          0.99
         ],
         "xaxis": "x3",
         "y": [
          49,
          71,
          100,
          28,
          98,
          78,
          55,
          38,
          18,
          73,
          79,
          62,
          64,
          191,
          83,
          83,
          19,
          21,
          38,
          18,
          30,
          13,
          104,
          87,
          153,
          89,
          32,
          42,
          28,
          28,
          52,
          31,
          86,
          30,
          30,
          114,
          198,
          19,
          344,
          66,
          35,
          44,
          285,
          39,
          190,
          56,
          62,
          42,
          99,
          21,
          228,
          63,
          22,
          61,
          22,
          214,
          173,
          137,
          177,
          22,
          79,
          59,
          26,
          47,
          22,
          86,
          30,
          36,
          24,
          23,
          36,
          117,
          94,
          36,
          127,
          110,
          17,
          143,
          143,
          110,
          73,
          13,
          39,
          204,
          24,
          28,
          27,
          36,
          59,
          28,
          23,
          84,
          162,
          54,
          46,
          104,
          50,
          125,
          62,
          77,
          124,
          68,
          64,
          74,
          103,
          231
         ],
         "yaxis": "y3"
        },
        {
         "hovertemplate": "예측: %{x}% <br>리뷰길이: %{y} <br>%{color}",
         "legendgroup": "도움O",
         "marker": {
          "color": "#636efa",
          "symbol": "circle"
         },
         "mode": "markers",
         "name": "도움O",
         "orientation": "v",
         "showlegend": false,
         "type": "scatter",
         "x": [
          0.48,
          0.81,
          0.73,
          0.49,
          0.3,
          0.97,
          0.97,
          0.95,
          1,
          0.88,
          0.81,
          0.86,
          0.88,
          0.94,
          0.99,
          0.98,
          0.7,
          0.4,
          0.98,
          0.19,
          0.96,
          0.63,
          0.8,
          0.94,
          0.39,
          0.7,
          0.63,
          0.32,
          0.98,
          0.88,
          0.87,
          0.95,
          0.8,
          0.93,
          0.97,
          0.6,
          0.47,
          0.67,
          0.95,
          0.92,
          0.71,
          0.49,
          0.99,
          0.79,
          0.97,
          0.58,
          0.31,
          0.89,
          0.94,
          0.94,
          0.92,
          0.97,
          0.61,
          0.58,
          0.55,
          1,
          0.25,
          0.32,
          0.99,
          0.98,
          0.64,
          0.98,
          0.95,
          0.41,
          0.89,
          0.98,
          0.99,
          0.95
         ],
         "xaxis": "x2",
         "y": [
          37,
          56,
          48,
          23,
          20,
          166,
          70,
          105,
          252,
          70,
          53,
          171,
          142,
          71,
          156,
          106,
          37,
          27,
          157,
          23,
          68,
          35,
          114,
          102,
          18,
          33,
          34,
          19,
          153,
          88,
          66,
          137,
          50,
          103,
          120,
          31,
          30,
          92,
          136,
          77,
          71,
          37,
          155,
          41,
          93,
          34,
          20,
          64,
          99,
          74,
          137,
          293,
          51,
          38,
          20,
          112,
          37,
          24,
          206,
          202,
          29,
          157,
          143,
          18,
          49,
          174,
          196,
          113
         ],
         "yaxis": "y2"
        },
        {
         "hovertemplate": "예측: %{x}% <br>리뷰길이: %{y} <br>%{color}",
         "legendgroup": "도움O",
         "marker": {
          "color": "#636efa",
          "symbol": "circle"
         },
         "mode": "markers",
         "name": "도움O",
         "orientation": "v",
         "showlegend": false,
         "type": "scatter",
         "x": [
          0.99,
          0.85,
          0.92,
          0.91,
          0.99,
          0.93,
          0.9,
          0.98,
          0.79,
          0.96,
          0.98,
          0.86,
          0.96,
          0.99,
          0.89,
          0.93,
          0.82,
          0.92,
          0.64,
          0.47,
          0.91,
          0.73,
          0.85
         ],
         "xaxis": "x",
         "y": [
          226,
          125,
          125,
          177,
          197,
          103,
          71,
          150,
          77,
          181,
          144,
          103,
          116,
          205,
          193,
          114,
          85,
          117,
          35,
          20,
          84,
          46,
          86
         ],
         "yaxis": "y"
        },
        {
         "hovertemplate": "예측: %{x}% <br>리뷰길이: %{y} <br>%{color}",
         "legendgroup": "도움X",
         "marker": {
          "color": "#EF553B",
          "symbol": "circle"
         },
         "mode": "markers",
         "name": "도움X",
         "orientation": "v",
         "showlegend": true,
         "type": "scatter",
         "x": [
          0.09,
          0.56,
          0.06,
          0.06,
          0.02,
          0.02,
          0.01,
          0.62,
          0.04,
          0.03,
          0.15,
          0.02,
          0.01,
          0.13,
          0.11,
          0.07,
          0.02,
          0.03,
          0.08,
          0.08,
          0.13,
          0.89,
          0.02,
          0.17,
          0.07,
          0.61,
          0.01,
          0.06,
          0.23,
          0.11,
          0.29,
          0.18,
          0.01,
          0.02,
          0.04,
          0.06,
          0.2,
          0.11,
          0.14,
          0.15,
          0.28,
          0.51,
          0.06,
          0.17,
          0.03,
          0.17,
          0.27,
          0.51,
          0.4,
          0.04,
          0.13,
          0.06,
          0.09,
          0.05,
          0.26,
          0.57,
          0.02,
          0.16,
          0.13,
          0.11,
          0.11,
          0,
          0.08,
          0.09,
          0.27,
          0.07,
          0.06,
          0.07,
          0.62,
          0.02,
          0.08,
          0.02,
          0.18,
          0.6,
          0.04,
          0.06,
          0.02,
          0.03,
          0.04,
          0.3,
          0.02,
          0.02,
          0.02,
          0.03,
          0.23,
          0.06,
          0.05,
          0.14,
          0.09,
          0.04,
          0.03,
          0.43,
          0.06,
          0.04,
          0.06,
          0.05,
          0.05,
          0.02,
          0.02,
          0.04,
          0.04,
          0.03,
          0.2,
          0.15,
          0.03,
          0.05,
          0.04,
          0.36,
          0.1,
          0.04,
          0.11,
          0.05,
          0.4,
          0.59,
          0.05,
          0.03,
          0.05,
          0.01,
          0.01,
          0.39,
          0.09,
          0.33,
          0.03,
          0.03,
          0.08,
          0.14,
          0.09,
          0.69,
          0.06,
          0.02,
          0.19,
          0.08,
          0.07,
          0.53,
          0.17,
          0.48,
          0.02,
          0.13,
          0.07,
          0.02,
          0.3,
          0.01,
          0.16,
          0.03,
          0.03,
          0.03,
          0.03,
          0.01,
          0.1,
          0.03,
          0.07,
          0.28,
          0.02,
          0.8,
          0.02,
          0.02,
          0.02,
          0.22,
          0.05,
          0.05,
          0.48,
          0.07,
          0.07,
          0.04,
          0.03,
          0.09,
          0.37,
          0.02,
          0.36,
          0.23,
          0.43,
          0.02,
          0.01,
          0.01,
          0.08,
          0.08,
          0.02,
          0.3,
          0.04,
          0.07,
          0.01,
          0.32,
          0.03,
          0.06,
          0.71,
          0.5,
          0.04,
          0.13,
          0.22,
          0.02,
          0.03,
          0.04,
          0.42,
          0.13,
          0.31,
          0.39,
          0.08,
          0.14,
          0.04,
          0.59,
          0.03,
          0.12,
          0,
          0.2,
          0.06,
          0.23,
          0.01,
          0.06,
          0.06,
          0.58,
          0.47,
          0.23,
          0.3,
          0.02,
          0.19,
          0.33,
          0.01,
          0.06,
          0.32,
          0.1,
          0.14,
          0.36,
          0.03,
          0.02,
          0.05,
          0.07,
          0.13,
          0.07,
          0.47,
          0.22,
          0.05,
          0.03,
          0.15,
          0.45,
          0.16,
          0.02,
          0.04,
          0.26,
          0.04,
          0.33,
          0.02,
          0.67,
          0.03,
          0.31,
          0.08,
          0.08,
          0.06,
          0.51,
          0.16
         ],
         "xaxis": "x3",
         "y": [
          11,
          41,
          11,
          10,
          5,
          5,
          5,
          44,
          7,
          6,
          16,
          5,
          3,
          12,
          14,
          8,
          5,
          8,
          13,
          13,
          14,
          92,
          6,
          17,
          10,
          39,
          4,
          11,
          17,
          14,
          35,
          23,
          5,
          6,
          8,
          10,
          12,
          14,
          23,
          15,
          28,
          34,
          9,
          16,
          6,
          13,
          22,
          61,
          24,
          8,
          14,
          9,
          13,
          8,
          20,
          44,
          5,
          11,
          16,
          15,
          15,
          5,
          11,
          12,
          20,
          10,
          9,
          10,
          36,
          5,
          8,
          5,
          17,
          38,
          7,
          9,
          5,
          7,
          9,
          23,
          5,
          5,
          5,
          6,
          29,
          10,
          8,
          15,
          13,
          9,
          6,
          57,
          12,
          11,
          9,
          8,
          8,
          5,
          5,
          10,
          8,
          6,
          16,
          16,
          7,
          9,
          8,
          25,
          10,
          9,
          14,
          10,
          24,
          35,
          10,
          6,
          10,
          5,
          5,
          25,
          11,
          24,
          6,
          6,
          12,
          14,
          12,
          38,
          11,
          5,
          21,
          12,
          11,
          30,
          18,
          104,
          6,
          13,
          10,
          5,
          139,
          4,
          19,
          6,
          7,
          6,
          8,
          4,
          12,
          6,
          12,
          32,
          5,
          79,
          5,
          5,
          5,
          24,
          8,
          8,
          28,
          6,
          10,
          7,
          8,
          10,
          29,
          5,
          24,
          14,
          43,
          5,
          4,
          3,
          11,
          12,
          5,
          21,
          9,
          10,
          3,
          33,
          6,
          10,
          63,
          31,
          7,
          17,
          16,
          5,
          6,
          8,
          24,
          13,
          16,
          35,
          11,
          20,
          8,
          39,
          6,
          14,
          2,
          16,
          10,
          28,
          5,
          9,
          13,
          63,
          43,
          28,
          30,
          5,
          23,
          26,
          3,
          11,
          16,
          13,
          15,
          27,
          7,
          5,
          10,
          10,
          17,
          10,
          24,
          22,
          8,
          9,
          24,
          43,
          29,
          5,
          7,
          18,
          8,
          30,
          5,
          57,
          6,
          38,
          11,
          11,
          11,
          35,
          11
         ],
         "yaxis": "y3"
        },
        {
         "hovertemplate": "예측: %{x}% <br>리뷰길이: %{y} <br>%{color}",
         "legendgroup": "도움X",
         "marker": {
          "color": "#EF553B",
          "symbol": "circle"
         },
         "mode": "markers",
         "name": "도움X",
         "orientation": "v",
         "showlegend": false,
         "type": "scatter",
         "x": [
          0.19,
          0.75,
          0.02,
          0.01,
          0.07,
          0.17,
          0.02,
          0.05,
          0.03,
          0.97,
          0.02,
          0.54,
          0.36,
          0.02,
          0.26,
          0.55,
          0.24,
          0.33,
          0.03,
          0.73,
          0.79,
          0.34,
          0.32,
          0.11,
          0.32,
          0.02,
          0.41,
          0.8,
          0.01,
          0.02,
          0.02,
          0.88,
          0.04
         ],
         "xaxis": "x2",
         "y": [
          18,
          104,
          5,
          3,
          7,
          16,
          5,
          7,
          6,
          123,
          5,
          43,
          14,
          5,
          25,
          25,
          14,
          23,
          6,
          66,
          41,
          25,
          22,
          12,
          21,
          5,
          47,
          38,
          3,
          5,
          5,
          97,
          8
         ],
         "yaxis": "y2"
        },
        {
         "hovertemplate": "예측: %{x}% <br>리뷰길이: %{y} <br>%{color}",
         "legendgroup": "도움X",
         "marker": {
          "color": "#EF553B",
          "symbol": "circle"
         },
         "mode": "markers",
         "name": "도움X",
         "orientation": "v",
         "showlegend": false,
         "type": "scatter",
         "x": [
          0.41,
          0.82,
          0.18
         ],
         "xaxis": "x",
         "y": [
          48,
          162,
          11
         ],
         "yaxis": "y"
        }
       ],
       "layout": {
        "annotations": [
         {
          "font": {},
          "showarrow": false,
          "text": "attitude=부정",
          "textangle": 90,
          "x": 0.98,
          "xanchor": "left",
          "xref": "paper",
          "y": 0.15666666666666665,
          "yanchor": "middle",
          "yref": "paper"
         },
         {
          "font": {},
          "showarrow": false,
          "text": "attitude=중립",
          "textangle": 90,
          "x": 0.98,
          "xanchor": "left",
          "xref": "paper",
          "y": 0.4999999999999999,
          "yanchor": "middle",
          "yref": "paper"
         },
         {
          "font": {},
          "showarrow": false,
          "text": "attitude=긍정",
          "textangle": 90,
          "x": 0.98,
          "xanchor": "left",
          "xref": "paper",
          "y": 0.8433333333333332,
          "yanchor": "middle",
          "yref": "paper"
         }
        ],
        "legend": {
         "title": {
          "text": "실제"
         },
         "tracegroupgap": 0
        },
        "margin": {
         "t": 60
        },
        "template": {
         "data": {
          "bar": [
           {
            "error_x": {
             "color": "#2a3f5f"
            },
            "error_y": {
             "color": "#2a3f5f"
            },
            "marker": {
             "line": {
              "color": "#E5ECF6",
              "width": 0.5
             }
            },
            "type": "bar"
           }
          ],
          "barpolar": [
           {
            "marker": {
             "line": {
              "color": "#E5ECF6",
              "width": 0.5
             }
            },
            "type": "barpolar"
           }
          ],
          "carpet": [
           {
            "aaxis": {
             "endlinecolor": "#2a3f5f",
             "gridcolor": "white",
             "linecolor": "white",
             "minorgridcolor": "white",
             "startlinecolor": "#2a3f5f"
            },
            "baxis": {
             "endlinecolor": "#2a3f5f",
             "gridcolor": "white",
             "linecolor": "white",
             "minorgridcolor": "white",
             "startlinecolor": "#2a3f5f"
            },
            "type": "carpet"
           }
          ],
          "choropleth": [
           {
            "colorbar": {
             "outlinewidth": 0,
             "ticks": ""
            },
            "type": "choropleth"
           }
          ],
          "contour": [
           {
            "colorbar": {
             "outlinewidth": 0,
             "ticks": ""
            },
            "colorscale": [
             [
              0,
              "#0d0887"
             ],
             [
              0.1111111111111111,
              "#46039f"
             ],
             [
              0.2222222222222222,
              "#7201a8"
             ],
             [
              0.3333333333333333,
              "#9c179e"
             ],
             [
              0.4444444444444444,
              "#bd3786"
             ],
             [
              0.5555555555555556,
              "#d8576b"
             ],
             [
              0.6666666666666666,
              "#ed7953"
             ],
             [
              0.7777777777777778,
              "#fb9f3a"
             ],
             [
              0.8888888888888888,
              "#fdca26"
             ],
             [
              1,
              "#f0f921"
             ]
            ],
            "type": "contour"
           }
          ],
          "contourcarpet": [
           {
            "colorbar": {
             "outlinewidth": 0,
             "ticks": ""
            },
            "type": "contourcarpet"
           }
          ],
          "heatmap": [
           {
            "colorbar": {
             "outlinewidth": 0,
             "ticks": ""
            },
            "colorscale": [
             [
              0,
              "#0d0887"
             ],
             [
              0.1111111111111111,
              "#46039f"
             ],
             [
              0.2222222222222222,
              "#7201a8"
             ],
             [
              0.3333333333333333,
              "#9c179e"
             ],
             [
              0.4444444444444444,
              "#bd3786"
             ],
             [
              0.5555555555555556,
              "#d8576b"
             ],
             [
              0.6666666666666666,
              "#ed7953"
             ],
             [
              0.7777777777777778,
              "#fb9f3a"
             ],
             [
              0.8888888888888888,
              "#fdca26"
             ],
             [
              1,
              "#f0f921"
             ]
            ],
            "type": "heatmap"
           }
          ],
          "heatmapgl": [
           {
            "colorbar": {
             "outlinewidth": 0,
             "ticks": ""
            },
            "colorscale": [
             [
              0,
              "#0d0887"
             ],
             [
              0.1111111111111111,
              "#46039f"
             ],
             [
              0.2222222222222222,
              "#7201a8"
             ],
             [
              0.3333333333333333,
              "#9c179e"
             ],
             [
              0.4444444444444444,
              "#bd3786"
             ],
             [
              0.5555555555555556,
              "#d8576b"
             ],
             [
              0.6666666666666666,
              "#ed7953"
             ],
             [
              0.7777777777777778,
              "#fb9f3a"
             ],
             [
              0.8888888888888888,
              "#fdca26"
             ],
             [
              1,
              "#f0f921"
             ]
            ],
            "type": "heatmapgl"
           }
          ],
          "histogram": [
           {
            "marker": {
             "colorbar": {
              "outlinewidth": 0,
              "ticks": ""
             }
            },
            "type": "histogram"
           }
          ],
          "histogram2d": [
           {
            "colorbar": {
             "outlinewidth": 0,
             "ticks": ""
            },
            "colorscale": [
             [
              0,
              "#0d0887"
             ],
             [
              0.1111111111111111,
              "#46039f"
             ],
             [
              0.2222222222222222,
              "#7201a8"
             ],
             [
              0.3333333333333333,
              "#9c179e"
             ],
             [
              0.4444444444444444,
              "#bd3786"
             ],
             [
              0.5555555555555556,
              "#d8576b"
             ],
             [
              0.6666666666666666,
              "#ed7953"
             ],
             [
              0.7777777777777778,
              "#fb9f3a"
             ],
             [
              0.8888888888888888,
              "#fdca26"
             ],
             [
              1,
              "#f0f921"
             ]
            ],
            "type": "histogram2d"
           }
          ],
          "histogram2dcontour": [
           {
            "colorbar": {
             "outlinewidth": 0,
             "ticks": ""
            },
            "colorscale": [
             [
              0,
              "#0d0887"
             ],
             [
              0.1111111111111111,
              "#46039f"
             ],
             [
              0.2222222222222222,
              "#7201a8"
             ],
             [
              0.3333333333333333,
              "#9c179e"
             ],
             [
              0.4444444444444444,
              "#bd3786"
             ],
             [
              0.5555555555555556,
              "#d8576b"
             ],
             [
              0.6666666666666666,
              "#ed7953"
             ],
             [
              0.7777777777777778,
              "#fb9f3a"
             ],
             [
              0.8888888888888888,
              "#fdca26"
             ],
             [
              1,
              "#f0f921"
             ]
            ],
            "type": "histogram2dcontour"
           }
          ],
          "mesh3d": [
           {
            "colorbar": {
             "outlinewidth": 0,
             "ticks": ""
            },
            "type": "mesh3d"
           }
          ],
          "parcoords": [
           {
            "line": {
             "colorbar": {
              "outlinewidth": 0,
              "ticks": ""
             }
            },
            "type": "parcoords"
           }
          ],
          "pie": [
           {
            "automargin": true,
            "type": "pie"
           }
          ],
          "scatter": [
           {
            "marker": {
             "colorbar": {
              "outlinewidth": 0,
              "ticks": ""
             }
            },
            "type": "scatter"
           }
          ],
          "scatter3d": [
           {
            "line": {
             "colorbar": {
              "outlinewidth": 0,
              "ticks": ""
             }
            },
            "marker": {
             "colorbar": {
              "outlinewidth": 0,
              "ticks": ""
             }
            },
            "type": "scatter3d"
           }
          ],
          "scattercarpet": [
           {
            "marker": {
             "colorbar": {
              "outlinewidth": 0,
              "ticks": ""
             }
            },
            "type": "scattercarpet"
           }
          ],
          "scattergeo": [
           {
            "marker": {
             "colorbar": {
              "outlinewidth": 0,
              "ticks": ""
             }
            },
            "type": "scattergeo"
           }
          ],
          "scattergl": [
           {
            "marker": {
             "colorbar": {
              "outlinewidth": 0,
              "ticks": ""
             }
            },
            "type": "scattergl"
           }
          ],
          "scattermapbox": [
           {
            "marker": {
             "colorbar": {
              "outlinewidth": 0,
              "ticks": ""
             }
            },
            "type": "scattermapbox"
           }
          ],
          "scatterpolar": [
           {
            "marker": {
             "colorbar": {
              "outlinewidth": 0,
              "ticks": ""
             }
            },
            "type": "scatterpolar"
           }
          ],
          "scatterpolargl": [
           {
            "marker": {
             "colorbar": {
              "outlinewidth": 0,
              "ticks": ""
             }
            },
            "type": "scatterpolargl"
           }
          ],
          "scatterternary": [
           {
            "marker": {
             "colorbar": {
              "outlinewidth": 0,
              "ticks": ""
             }
            },
            "type": "scatterternary"
           }
          ],
          "surface": [
           {
            "colorbar": {
             "outlinewidth": 0,
             "ticks": ""
            },
            "colorscale": [
             [
              0,
              "#0d0887"
             ],
             [
              0.1111111111111111,
              "#46039f"
             ],
             [
              0.2222222222222222,
              "#7201a8"
             ],
             [
              0.3333333333333333,
              "#9c179e"
             ],
             [
              0.4444444444444444,
              "#bd3786"
             ],
             [
              0.5555555555555556,
              "#d8576b"
             ],
             [
              0.6666666666666666,
              "#ed7953"
             ],
             [
              0.7777777777777778,
              "#fb9f3a"
             ],
             [
              0.8888888888888888,
              "#fdca26"
             ],
             [
              1,
              "#f0f921"
             ]
            ],
            "type": "surface"
           }
          ],
          "table": [
           {
            "cells": {
             "fill": {
              "color": "#EBF0F8"
             },
             "line": {
              "color": "white"
             }
            },
            "header": {
             "fill": {
              "color": "#C8D4E3"
             },
             "line": {
              "color": "white"
             }
            },
            "type": "table"
           }
          ]
         },
         "layout": {
          "annotationdefaults": {
           "arrowcolor": "#2a3f5f",
           "arrowhead": 0,
           "arrowwidth": 1
          },
          "coloraxis": {
           "colorbar": {
            "outlinewidth": 0,
            "ticks": ""
           }
          },
          "colorscale": {
           "diverging": [
            [
             0,
             "#8e0152"
            ],
            [
             0.1,
             "#c51b7d"
            ],
            [
             0.2,
             "#de77ae"
            ],
            [
             0.3,
             "#f1b6da"
            ],
            [
             0.4,
             "#fde0ef"
            ],
            [
             0.5,
             "#f7f7f7"
            ],
            [
             0.6,
             "#e6f5d0"
            ],
            [
             0.7,
             "#b8e186"
            ],
            [
             0.8,
             "#7fbc41"
            ],
            [
             0.9,
             "#4d9221"
            ],
            [
             1,
             "#276419"
            ]
           ],
           "sequential": [
            [
             0,
             "#0d0887"
            ],
            [
             0.1111111111111111,
             "#46039f"
            ],
            [
             0.2222222222222222,
             "#7201a8"
            ],
            [
             0.3333333333333333,
             "#9c179e"
            ],
            [
             0.4444444444444444,
             "#bd3786"
            ],
            [
             0.5555555555555556,
             "#d8576b"
            ],
            [
             0.6666666666666666,
             "#ed7953"
            ],
            [
             0.7777777777777778,
             "#fb9f3a"
            ],
            [
             0.8888888888888888,
             "#fdca26"
            ],
            [
             1,
             "#f0f921"
            ]
           ],
           "sequentialminus": [
            [
             0,
             "#0d0887"
            ],
            [
             0.1111111111111111,
             "#46039f"
            ],
            [
             0.2222222222222222,
             "#7201a8"
            ],
            [
             0.3333333333333333,
             "#9c179e"
            ],
            [
             0.4444444444444444,
             "#bd3786"
            ],
            [
             0.5555555555555556,
             "#d8576b"
            ],
            [
             0.6666666666666666,
             "#ed7953"
            ],
            [
             0.7777777777777778,
             "#fb9f3a"
            ],
            [
             0.8888888888888888,
             "#fdca26"
            ],
            [
             1,
             "#f0f921"
            ]
           ]
          },
          "colorway": [
           "#636efa",
           "#EF553B",
           "#00cc96",
           "#ab63fa",
           "#FFA15A",
           "#19d3f3",
           "#FF6692",
           "#B6E880",
           "#FF97FF",
           "#FECB52"
          ],
          "font": {
           "color": "#2a3f5f"
          },
          "geo": {
           "bgcolor": "white",
           "lakecolor": "white",
           "landcolor": "#E5ECF6",
           "showlakes": true,
           "showland": true,
           "subunitcolor": "white"
          },
          "hoverlabel": {
           "align": "left"
          },
          "hovermode": "closest",
          "mapbox": {
           "style": "light"
          },
          "paper_bgcolor": "white",
          "plot_bgcolor": "#E5ECF6",
          "polar": {
           "angularaxis": {
            "gridcolor": "white",
            "linecolor": "white",
            "ticks": ""
           },
           "bgcolor": "#E5ECF6",
           "radialaxis": {
            "gridcolor": "white",
            "linecolor": "white",
            "ticks": ""
           }
          },
          "scene": {
           "xaxis": {
            "backgroundcolor": "#E5ECF6",
            "gridcolor": "white",
            "gridwidth": 2,
            "linecolor": "white",
            "showbackground": true,
            "ticks": "",
            "zerolinecolor": "white"
           },
           "yaxis": {
            "backgroundcolor": "#E5ECF6",
            "gridcolor": "white",
            "gridwidth": 2,
            "linecolor": "white",
            "showbackground": true,
            "ticks": "",
            "zerolinecolor": "white"
           },
           "zaxis": {
            "backgroundcolor": "#E5ECF6",
            "gridcolor": "white",
            "gridwidth": 2,
            "linecolor": "white",
            "showbackground": true,
            "ticks": "",
            "zerolinecolor": "white"
           }
          },
          "shapedefaults": {
           "line": {
            "color": "#2a3f5f"
           }
          },
          "ternary": {
           "aaxis": {
            "gridcolor": "white",
            "linecolor": "white",
            "ticks": ""
           },
           "baxis": {
            "gridcolor": "white",
            "linecolor": "white",
            "ticks": ""
           },
           "bgcolor": "#E5ECF6",
           "caxis": {
            "gridcolor": "white",
            "linecolor": "white",
            "ticks": ""
           }
          },
          "title": {
           "x": 0.05
          },
          "xaxis": {
           "automargin": true,
           "gridcolor": "white",
           "linecolor": "white",
           "ticks": "",
           "title": {
            "standoff": 15
           },
           "zerolinecolor": "white",
           "zerolinewidth": 2
          },
          "yaxis": {
           "automargin": true,
           "gridcolor": "white",
           "linecolor": "white",
           "ticks": "",
           "title": {
            "standoff": 15
           },
           "zerolinecolor": "white",
           "zerolinewidth": 2
          }
         }
        },
        "xaxis": {
         "anchor": "y",
         "domain": [
          0,
          0.98
         ],
         "title": {
          "text": "예측"
         }
        },
        "xaxis2": {
         "anchor": "y2",
         "domain": [
          0,
          0.98
         ],
         "matches": "x",
         "showticklabels": false
        },
        "xaxis3": {
         "anchor": "y3",
         "domain": [
          0,
          0.98
         ],
         "matches": "x",
         "showticklabels": false
        },
        "yaxis": {
         "anchor": "x",
         "domain": [
          0,
          0.3133333333333333
         ],
         "title": {
          "text": "length"
         }
        },
        "yaxis2": {
         "anchor": "x2",
         "domain": [
          0.34333333333333327,
          0.6566666666666665
         ],
         "matches": "y",
         "title": {
          "text": "length"
         }
        },
        "yaxis3": {
         "anchor": "x3",
         "domain": [
          0.6866666666666665,
          0.9999999999999998
         ],
         "matches": "y",
         "title": {
          "text": "length"
         }
        }
       }
      },
      "text/html": [
       "<div>                            <div id=\"aad6ad9d-a86f-4443-925b-91c32c913e7f\" class=\"plotly-graph-div\" style=\"height:525px; width:100%;\"></div>            <script type=\"text/javascript\">                require([\"plotly\"], function(Plotly) {                    window.PLOTLYENV=window.PLOTLYENV || {};                                    if (document.getElementById(\"aad6ad9d-a86f-4443-925b-91c32c913e7f\")) {                    Plotly.newPlot(                        \"aad6ad9d-a86f-4443-925b-91c32c913e7f\",                        [{\"hovertemplate\": \"\\uc608\\uce21: %{x}% <br>\\ub9ac\\ubdf0\\uae38\\uc774: %{y} <br>%{color}\", \"legendgroup\": \"\\ub3c4\\uc6c0O\", \"marker\": {\"color\": \"#636efa\", \"symbol\": \"circle\"}, \"mode\": \"markers\", \"name\": \"\\ub3c4\\uc6c0O\", \"orientation\": \"v\", \"showlegend\": true, \"type\": \"scatter\", \"x\": [0.77, 0.84, 0.4, 0.59, 0.92, 0.77, 0.65, 0.72, 0.31, 0.76, 0.83, 0.9, 0.43, 0.84, 0.89, 0.8, 0.33, 0.32, 0.73, 0.31, 0.5, 0.17, 0.96, 0.7, 0.89, 0.96, 0.47, 0.64, 0.51, 0.67, 0.67, 0.44, 0.97, 0.61, 0.55, 0.81, 0.96, 0.29, 0.93, 0.79, 0.53, 0.7, 0.88, 0.56, 0.97, 0.85, 0.48, 0.88, 0.83, 0.37, 0.97, 0.79, 0.29, 0.59, 0.37, 0.69, 0.99, 0.78, 0.99, 0.3, 0.95, 0.68, 0.4, 0.79, 0.38, 0.85, 0.41, 0.41, 0.5, 0.49, 0.72, 0.98, 0.89, 0.61, 0.81, 0.9, 0.27, 0.99, 0.81, 0.93, 0.91, 0.1, 0.84, 0.88, 0.47, 0.38, 0.58, 0.46, 0.69, 0.25, 0.56, 0.73, 0.98, 0.73, 0.77, 0.96, 0.5, 0.99, 0.71, 0.79, 0.95, 0.8, 0.34, 0.65, 0.86, 0.99], \"xaxis\": \"x3\", \"y\": [49, 71, 100, 28, 98, 78, 55, 38, 18, 73, 79, 62, 64, 191, 83, 83, 19, 21, 38, 18, 30, 13, 104, 87, 153, 89, 32, 42, 28, 28, 52, 31, 86, 30, 30, 114, 198, 19, 344, 66, 35, 44, 285, 39, 190, 56, 62, 42, 99, 21, 228, 63, 22, 61, 22, 214, 173, 137, 177, 22, 79, 59, 26, 47, 22, 86, 30, 36, 24, 23, 36, 117, 94, 36, 127, 110, 17, 143, 143, 110, 73, 13, 39, 204, 24, 28, 27, 36, 59, 28, 23, 84, 162, 54, 46, 104, 50, 125, 62, 77, 124, 68, 64, 74, 103, 231], \"yaxis\": \"y3\"}, {\"hovertemplate\": \"\\uc608\\uce21: %{x}% <br>\\ub9ac\\ubdf0\\uae38\\uc774: %{y} <br>%{color}\", \"legendgroup\": \"\\ub3c4\\uc6c0O\", \"marker\": {\"color\": \"#636efa\", \"symbol\": \"circle\"}, \"mode\": \"markers\", \"name\": \"\\ub3c4\\uc6c0O\", \"orientation\": \"v\", \"showlegend\": false, \"type\": \"scatter\", \"x\": [0.48, 0.81, 0.73, 0.49, 0.3, 0.97, 0.97, 0.95, 1.0, 0.88, 0.81, 0.86, 0.88, 0.94, 0.99, 0.98, 0.7, 0.4, 0.98, 0.19, 0.96, 0.63, 0.8, 0.94, 0.39, 0.7, 0.63, 0.32, 0.98, 0.88, 0.87, 0.95, 0.8, 0.93, 0.97, 0.6, 0.47, 0.67, 0.95, 0.92, 0.71, 0.49, 0.99, 0.79, 0.97, 0.58, 0.31, 0.89, 0.94, 0.94, 0.92, 0.97, 0.61, 0.58, 0.55, 1.0, 0.25, 0.32, 0.99, 0.98, 0.64, 0.98, 0.95, 0.41, 0.89, 0.98, 0.99, 0.95], \"xaxis\": \"x2\", \"y\": [37, 56, 48, 23, 20, 166, 70, 105, 252, 70, 53, 171, 142, 71, 156, 106, 37, 27, 157, 23, 68, 35, 114, 102, 18, 33, 34, 19, 153, 88, 66, 137, 50, 103, 120, 31, 30, 92, 136, 77, 71, 37, 155, 41, 93, 34, 20, 64, 99, 74, 137, 293, 51, 38, 20, 112, 37, 24, 206, 202, 29, 157, 143, 18, 49, 174, 196, 113], \"yaxis\": \"y2\"}, {\"hovertemplate\": \"\\uc608\\uce21: %{x}% <br>\\ub9ac\\ubdf0\\uae38\\uc774: %{y} <br>%{color}\", \"legendgroup\": \"\\ub3c4\\uc6c0O\", \"marker\": {\"color\": \"#636efa\", \"symbol\": \"circle\"}, \"mode\": \"markers\", \"name\": \"\\ub3c4\\uc6c0O\", \"orientation\": \"v\", \"showlegend\": false, \"type\": \"scatter\", \"x\": [0.99, 0.85, 0.92, 0.91, 0.99, 0.93, 0.9, 0.98, 0.79, 0.96, 0.98, 0.86, 0.96, 0.99, 0.89, 0.93, 0.82, 0.92, 0.64, 0.47, 0.91, 0.73, 0.85], \"xaxis\": \"x\", \"y\": [226, 125, 125, 177, 197, 103, 71, 150, 77, 181, 144, 103, 116, 205, 193, 114, 85, 117, 35, 20, 84, 46, 86], \"yaxis\": \"y\"}, {\"hovertemplate\": \"\\uc608\\uce21: %{x}% <br>\\ub9ac\\ubdf0\\uae38\\uc774: %{y} <br>%{color}\", \"legendgroup\": \"\\ub3c4\\uc6c0X\", \"marker\": {\"color\": \"#EF553B\", \"symbol\": \"circle\"}, \"mode\": \"markers\", \"name\": \"\\ub3c4\\uc6c0X\", \"orientation\": \"v\", \"showlegend\": true, \"type\": \"scatter\", \"x\": [0.09, 0.56, 0.06, 0.06, 0.02, 0.02, 0.01, 0.62, 0.04, 0.03, 0.15, 0.02, 0.01, 0.13, 0.11, 0.07, 0.02, 0.03, 0.08, 0.08, 0.13, 0.89, 0.02, 0.17, 0.07, 0.61, 0.01, 0.06, 0.23, 0.11, 0.29, 0.18, 0.01, 0.02, 0.04, 0.06, 0.2, 0.11, 0.14, 0.15, 0.28, 0.51, 0.06, 0.17, 0.03, 0.17, 0.27, 0.51, 0.4, 0.04, 0.13, 0.06, 0.09, 0.05, 0.26, 0.57, 0.02, 0.16, 0.13, 0.11, 0.11, 0.0, 0.08, 0.09, 0.27, 0.07, 0.06, 0.07, 0.62, 0.02, 0.08, 0.02, 0.18, 0.6, 0.04, 0.06, 0.02, 0.03, 0.04, 0.3, 0.02, 0.02, 0.02, 0.03, 0.23, 0.06, 0.05, 0.14, 0.09, 0.04, 0.03, 0.43, 0.06, 0.04, 0.06, 0.05, 0.05, 0.02, 0.02, 0.04, 0.04, 0.03, 0.2, 0.15, 0.03, 0.05, 0.04, 0.36, 0.1, 0.04, 0.11, 0.05, 0.4, 0.59, 0.05, 0.03, 0.05, 0.01, 0.01, 0.39, 0.09, 0.33, 0.03, 0.03, 0.08, 0.14, 0.09, 0.69, 0.06, 0.02, 0.19, 0.08, 0.07, 0.53, 0.17, 0.48, 0.02, 0.13, 0.07, 0.02, 0.3, 0.01, 0.16, 0.03, 0.03, 0.03, 0.03, 0.01, 0.1, 0.03, 0.07, 0.28, 0.02, 0.8, 0.02, 0.02, 0.02, 0.22, 0.05, 0.05, 0.48, 0.07, 0.07, 0.04, 0.03, 0.09, 0.37, 0.02, 0.36, 0.23, 0.43, 0.02, 0.01, 0.01, 0.08, 0.08, 0.02, 0.3, 0.04, 0.07, 0.01, 0.32, 0.03, 0.06, 0.71, 0.5, 0.04, 0.13, 0.22, 0.02, 0.03, 0.04, 0.42, 0.13, 0.31, 0.39, 0.08, 0.14, 0.04, 0.59, 0.03, 0.12, 0.0, 0.2, 0.06, 0.23, 0.01, 0.06, 0.06, 0.58, 0.47, 0.23, 0.3, 0.02, 0.19, 0.33, 0.01, 0.06, 0.32, 0.1, 0.14, 0.36, 0.03, 0.02, 0.05, 0.07, 0.13, 0.07, 0.47, 0.22, 0.05, 0.03, 0.15, 0.45, 0.16, 0.02, 0.04, 0.26, 0.04, 0.33, 0.02, 0.67, 0.03, 0.31, 0.08, 0.08, 0.06, 0.51, 0.16], \"xaxis\": \"x3\", \"y\": [11, 41, 11, 10, 5, 5, 5, 44, 7, 6, 16, 5, 3, 12, 14, 8, 5, 8, 13, 13, 14, 92, 6, 17, 10, 39, 4, 11, 17, 14, 35, 23, 5, 6, 8, 10, 12, 14, 23, 15, 28, 34, 9, 16, 6, 13, 22, 61, 24, 8, 14, 9, 13, 8, 20, 44, 5, 11, 16, 15, 15, 5, 11, 12, 20, 10, 9, 10, 36, 5, 8, 5, 17, 38, 7, 9, 5, 7, 9, 23, 5, 5, 5, 6, 29, 10, 8, 15, 13, 9, 6, 57, 12, 11, 9, 8, 8, 5, 5, 10, 8, 6, 16, 16, 7, 9, 8, 25, 10, 9, 14, 10, 24, 35, 10, 6, 10, 5, 5, 25, 11, 24, 6, 6, 12, 14, 12, 38, 11, 5, 21, 12, 11, 30, 18, 104, 6, 13, 10, 5, 139, 4, 19, 6, 7, 6, 8, 4, 12, 6, 12, 32, 5, 79, 5, 5, 5, 24, 8, 8, 28, 6, 10, 7, 8, 10, 29, 5, 24, 14, 43, 5, 4, 3, 11, 12, 5, 21, 9, 10, 3, 33, 6, 10, 63, 31, 7, 17, 16, 5, 6, 8, 24, 13, 16, 35, 11, 20, 8, 39, 6, 14, 2, 16, 10, 28, 5, 9, 13, 63, 43, 28, 30, 5, 23, 26, 3, 11, 16, 13, 15, 27, 7, 5, 10, 10, 17, 10, 24, 22, 8, 9, 24, 43, 29, 5, 7, 18, 8, 30, 5, 57, 6, 38, 11, 11, 11, 35, 11], \"yaxis\": \"y3\"}, {\"hovertemplate\": \"\\uc608\\uce21: %{x}% <br>\\ub9ac\\ubdf0\\uae38\\uc774: %{y} <br>%{color}\", \"legendgroup\": \"\\ub3c4\\uc6c0X\", \"marker\": {\"color\": \"#EF553B\", \"symbol\": \"circle\"}, \"mode\": \"markers\", \"name\": \"\\ub3c4\\uc6c0X\", \"orientation\": \"v\", \"showlegend\": false, \"type\": \"scatter\", \"x\": [0.19, 0.75, 0.02, 0.01, 0.07, 0.17, 0.02, 0.05, 0.03, 0.97, 0.02, 0.54, 0.36, 0.02, 0.26, 0.55, 0.24, 0.33, 0.03, 0.73, 0.79, 0.34, 0.32, 0.11, 0.32, 0.02, 0.41, 0.8, 0.01, 0.02, 0.02, 0.88, 0.04], \"xaxis\": \"x2\", \"y\": [18, 104, 5, 3, 7, 16, 5, 7, 6, 123, 5, 43, 14, 5, 25, 25, 14, 23, 6, 66, 41, 25, 22, 12, 21, 5, 47, 38, 3, 5, 5, 97, 8], \"yaxis\": \"y2\"}, {\"hovertemplate\": \"\\uc608\\uce21: %{x}% <br>\\ub9ac\\ubdf0\\uae38\\uc774: %{y} <br>%{color}\", \"legendgroup\": \"\\ub3c4\\uc6c0X\", \"marker\": {\"color\": \"#EF553B\", \"symbol\": \"circle\"}, \"mode\": \"markers\", \"name\": \"\\ub3c4\\uc6c0X\", \"orientation\": \"v\", \"showlegend\": false, \"type\": \"scatter\", \"x\": [0.41, 0.82, 0.18], \"xaxis\": \"x\", \"y\": [48, 162, 11], \"yaxis\": \"y\"}],                        {\"annotations\": [{\"font\": {}, \"showarrow\": false, \"text\": \"attitude=\\ubd80\\uc815\", \"textangle\": 90, \"x\": 0.98, \"xanchor\": \"left\", \"xref\": \"paper\", \"y\": 0.15666666666666665, \"yanchor\": \"middle\", \"yref\": \"paper\"}, {\"font\": {}, \"showarrow\": false, \"text\": \"attitude=\\uc911\\ub9bd\", \"textangle\": 90, \"x\": 0.98, \"xanchor\": \"left\", \"xref\": \"paper\", \"y\": 0.4999999999999999, \"yanchor\": \"middle\", \"yref\": \"paper\"}, {\"font\": {}, \"showarrow\": false, \"text\": \"attitude=\\uae0d\\uc815\", \"textangle\": 90, \"x\": 0.98, \"xanchor\": \"left\", \"xref\": \"paper\", \"y\": 0.8433333333333332, \"yanchor\": \"middle\", \"yref\": \"paper\"}], \"legend\": {\"title\": {\"text\": \"\\uc2e4\\uc81c\"}, \"tracegroupgap\": 0}, \"margin\": {\"t\": 60}, \"template\": {\"data\": {\"bar\": [{\"error_x\": {\"color\": \"#2a3f5f\"}, \"error_y\": {\"color\": \"#2a3f5f\"}, \"marker\": {\"line\": {\"color\": \"#E5ECF6\", \"width\": 0.5}}, \"type\": \"bar\"}], \"barpolar\": [{\"marker\": {\"line\": {\"color\": \"#E5ECF6\", \"width\": 0.5}}, \"type\": \"barpolar\"}], \"carpet\": [{\"aaxis\": {\"endlinecolor\": \"#2a3f5f\", \"gridcolor\": \"white\", \"linecolor\": \"white\", \"minorgridcolor\": \"white\", \"startlinecolor\": \"#2a3f5f\"}, \"baxis\": {\"endlinecolor\": \"#2a3f5f\", \"gridcolor\": \"white\", \"linecolor\": \"white\", \"minorgridcolor\": \"white\", \"startlinecolor\": \"#2a3f5f\"}, \"type\": \"carpet\"}], \"choropleth\": [{\"colorbar\": {\"outlinewidth\": 0, \"ticks\": \"\"}, \"type\": \"choropleth\"}], \"contour\": [{\"colorbar\": {\"outlinewidth\": 0, \"ticks\": \"\"}, \"colorscale\": [[0.0, \"#0d0887\"], [0.1111111111111111, \"#46039f\"], [0.2222222222222222, \"#7201a8\"], [0.3333333333333333, \"#9c179e\"], [0.4444444444444444, \"#bd3786\"], [0.5555555555555556, \"#d8576b\"], [0.6666666666666666, \"#ed7953\"], [0.7777777777777778, \"#fb9f3a\"], [0.8888888888888888, \"#fdca26\"], [1.0, \"#f0f921\"]], \"type\": \"contour\"}], \"contourcarpet\": [{\"colorbar\": {\"outlinewidth\": 0, \"ticks\": \"\"}, \"type\": \"contourcarpet\"}], \"heatmap\": [{\"colorbar\": {\"outlinewidth\": 0, \"ticks\": \"\"}, \"colorscale\": [[0.0, \"#0d0887\"], [0.1111111111111111, \"#46039f\"], [0.2222222222222222, \"#7201a8\"], [0.3333333333333333, \"#9c179e\"], [0.4444444444444444, \"#bd3786\"], [0.5555555555555556, \"#d8576b\"], [0.6666666666666666, \"#ed7953\"], [0.7777777777777778, \"#fb9f3a\"], [0.8888888888888888, \"#fdca26\"], [1.0, \"#f0f921\"]], \"type\": \"heatmap\"}], \"heatmapgl\": [{\"colorbar\": {\"outlinewidth\": 0, \"ticks\": \"\"}, \"colorscale\": [[0.0, \"#0d0887\"], [0.1111111111111111, \"#46039f\"], [0.2222222222222222, \"#7201a8\"], [0.3333333333333333, \"#9c179e\"], [0.4444444444444444, \"#bd3786\"], [0.5555555555555556, \"#d8576b\"], [0.6666666666666666, \"#ed7953\"], [0.7777777777777778, \"#fb9f3a\"], [0.8888888888888888, \"#fdca26\"], [1.0, \"#f0f921\"]], \"type\": \"heatmapgl\"}], \"histogram\": [{\"marker\": {\"colorbar\": {\"outlinewidth\": 0, \"ticks\": \"\"}}, \"type\": \"histogram\"}], \"histogram2d\": [{\"colorbar\": {\"outlinewidth\": 0, \"ticks\": \"\"}, \"colorscale\": [[0.0, \"#0d0887\"], [0.1111111111111111, \"#46039f\"], [0.2222222222222222, \"#7201a8\"], [0.3333333333333333, \"#9c179e\"], [0.4444444444444444, \"#bd3786\"], [0.5555555555555556, \"#d8576b\"], [0.6666666666666666, \"#ed7953\"], [0.7777777777777778, \"#fb9f3a\"], [0.8888888888888888, \"#fdca26\"], [1.0, \"#f0f921\"]], \"type\": \"histogram2d\"}], \"histogram2dcontour\": [{\"colorbar\": {\"outlinewidth\": 0, \"ticks\": \"\"}, \"colorscale\": [[0.0, \"#0d0887\"], [0.1111111111111111, \"#46039f\"], [0.2222222222222222, \"#7201a8\"], [0.3333333333333333, \"#9c179e\"], [0.4444444444444444, \"#bd3786\"], [0.5555555555555556, \"#d8576b\"], [0.6666666666666666, \"#ed7953\"], [0.7777777777777778, \"#fb9f3a\"], [0.8888888888888888, \"#fdca26\"], [1.0, \"#f0f921\"]], \"type\": \"histogram2dcontour\"}], \"mesh3d\": [{\"colorbar\": {\"outlinewidth\": 0, \"ticks\": \"\"}, \"type\": \"mesh3d\"}], \"parcoords\": [{\"line\": {\"colorbar\": {\"outlinewidth\": 0, \"ticks\": \"\"}}, \"type\": \"parcoords\"}], \"pie\": [{\"automargin\": true, \"type\": \"pie\"}], \"scatter\": [{\"marker\": {\"colorbar\": {\"outlinewidth\": 0, \"ticks\": \"\"}}, \"type\": \"scatter\"}], \"scatter3d\": [{\"line\": {\"colorbar\": {\"outlinewidth\": 0, \"ticks\": \"\"}}, \"marker\": {\"colorbar\": {\"outlinewidth\": 0, \"ticks\": \"\"}}, \"type\": \"scatter3d\"}], \"scattercarpet\": [{\"marker\": {\"colorbar\": {\"outlinewidth\": 0, \"ticks\": \"\"}}, \"type\": \"scattercarpet\"}], \"scattergeo\": [{\"marker\": {\"colorbar\": {\"outlinewidth\": 0, \"ticks\": \"\"}}, \"type\": \"scattergeo\"}], \"scattergl\": [{\"marker\": {\"colorbar\": {\"outlinewidth\": 0, \"ticks\": \"\"}}, \"type\": \"scattergl\"}], \"scattermapbox\": [{\"marker\": {\"colorbar\": {\"outlinewidth\": 0, \"ticks\": \"\"}}, \"type\": \"scattermapbox\"}], \"scatterpolar\": [{\"marker\": {\"colorbar\": {\"outlinewidth\": 0, \"ticks\": \"\"}}, \"type\": \"scatterpolar\"}], \"scatterpolargl\": [{\"marker\": {\"colorbar\": {\"outlinewidth\": 0, \"ticks\": \"\"}}, \"type\": \"scatterpolargl\"}], \"scatterternary\": [{\"marker\": {\"colorbar\": {\"outlinewidth\": 0, \"ticks\": \"\"}}, \"type\": \"scatterternary\"}], \"surface\": [{\"colorbar\": {\"outlinewidth\": 0, \"ticks\": \"\"}, \"colorscale\": [[0.0, \"#0d0887\"], [0.1111111111111111, \"#46039f\"], [0.2222222222222222, \"#7201a8\"], [0.3333333333333333, \"#9c179e\"], [0.4444444444444444, \"#bd3786\"], [0.5555555555555556, \"#d8576b\"], [0.6666666666666666, \"#ed7953\"], [0.7777777777777778, \"#fb9f3a\"], [0.8888888888888888, \"#fdca26\"], [1.0, \"#f0f921\"]], \"type\": \"surface\"}], \"table\": [{\"cells\": {\"fill\": {\"color\": \"#EBF0F8\"}, \"line\": {\"color\": \"white\"}}, \"header\": {\"fill\": {\"color\": \"#C8D4E3\"}, \"line\": {\"color\": \"white\"}}, \"type\": \"table\"}]}, \"layout\": {\"annotationdefaults\": {\"arrowcolor\": \"#2a3f5f\", \"arrowhead\": 0, \"arrowwidth\": 1}, \"coloraxis\": {\"colorbar\": {\"outlinewidth\": 0, \"ticks\": \"\"}}, \"colorscale\": {\"diverging\": [[0, \"#8e0152\"], [0.1, \"#c51b7d\"], [0.2, \"#de77ae\"], [0.3, \"#f1b6da\"], [0.4, \"#fde0ef\"], [0.5, \"#f7f7f7\"], [0.6, \"#e6f5d0\"], [0.7, \"#b8e186\"], [0.8, \"#7fbc41\"], [0.9, \"#4d9221\"], [1, \"#276419\"]], \"sequential\": [[0.0, \"#0d0887\"], [0.1111111111111111, \"#46039f\"], [0.2222222222222222, \"#7201a8\"], [0.3333333333333333, \"#9c179e\"], [0.4444444444444444, \"#bd3786\"], [0.5555555555555556, \"#d8576b\"], [0.6666666666666666, \"#ed7953\"], [0.7777777777777778, \"#fb9f3a\"], [0.8888888888888888, \"#fdca26\"], [1.0, \"#f0f921\"]], \"sequentialminus\": [[0.0, \"#0d0887\"], [0.1111111111111111, \"#46039f\"], [0.2222222222222222, \"#7201a8\"], [0.3333333333333333, \"#9c179e\"], [0.4444444444444444, \"#bd3786\"], [0.5555555555555556, \"#d8576b\"], [0.6666666666666666, \"#ed7953\"], [0.7777777777777778, \"#fb9f3a\"], [0.8888888888888888, \"#fdca26\"], [1.0, \"#f0f921\"]]}, \"colorway\": [\"#636efa\", \"#EF553B\", \"#00cc96\", \"#ab63fa\", \"#FFA15A\", \"#19d3f3\", \"#FF6692\", \"#B6E880\", \"#FF97FF\", \"#FECB52\"], \"font\": {\"color\": \"#2a3f5f\"}, \"geo\": {\"bgcolor\": \"white\", \"lakecolor\": \"white\", \"landcolor\": \"#E5ECF6\", \"showlakes\": true, \"showland\": true, \"subunitcolor\": \"white\"}, \"hoverlabel\": {\"align\": \"left\"}, \"hovermode\": \"closest\", \"mapbox\": {\"style\": \"light\"}, \"paper_bgcolor\": \"white\", \"plot_bgcolor\": \"#E5ECF6\", \"polar\": {\"angularaxis\": {\"gridcolor\": \"white\", \"linecolor\": \"white\", \"ticks\": \"\"}, \"bgcolor\": \"#E5ECF6\", \"radialaxis\": {\"gridcolor\": \"white\", \"linecolor\": \"white\", \"ticks\": \"\"}}, \"scene\": {\"xaxis\": {\"backgroundcolor\": \"#E5ECF6\", \"gridcolor\": \"white\", \"gridwidth\": 2, \"linecolor\": \"white\", \"showbackground\": true, \"ticks\": \"\", \"zerolinecolor\": \"white\"}, \"yaxis\": {\"backgroundcolor\": \"#E5ECF6\", \"gridcolor\": \"white\", \"gridwidth\": 2, \"linecolor\": \"white\", \"showbackground\": true, \"ticks\": \"\", \"zerolinecolor\": \"white\"}, \"zaxis\": {\"backgroundcolor\": \"#E5ECF6\", \"gridcolor\": \"white\", \"gridwidth\": 2, \"linecolor\": \"white\", \"showbackground\": true, \"ticks\": \"\", \"zerolinecolor\": \"white\"}}, \"shapedefaults\": {\"line\": {\"color\": \"#2a3f5f\"}}, \"ternary\": {\"aaxis\": {\"gridcolor\": \"white\", \"linecolor\": \"white\", \"ticks\": \"\"}, \"baxis\": {\"gridcolor\": \"white\", \"linecolor\": \"white\", \"ticks\": \"\"}, \"bgcolor\": \"#E5ECF6\", \"caxis\": {\"gridcolor\": \"white\", \"linecolor\": \"white\", \"ticks\": \"\"}}, \"title\": {\"x\": 0.05}, \"xaxis\": {\"automargin\": true, \"gridcolor\": \"white\", \"linecolor\": \"white\", \"ticks\": \"\", \"title\": {\"standoff\": 15}, \"zerolinecolor\": \"white\", \"zerolinewidth\": 2}, \"yaxis\": {\"automargin\": true, \"gridcolor\": \"white\", \"linecolor\": \"white\", \"ticks\": \"\", \"title\": {\"standoff\": 15}, \"zerolinecolor\": \"white\", \"zerolinewidth\": 2}}}, \"xaxis\": {\"anchor\": \"y\", \"domain\": [0.0, 0.98], \"title\": {\"text\": \"\\uc608\\uce21\"}}, \"xaxis2\": {\"anchor\": \"y2\", \"domain\": [0.0, 0.98], \"matches\": \"x\", \"showticklabels\": false}, \"xaxis3\": {\"anchor\": \"y3\", \"domain\": [0.0, 0.98], \"matches\": \"x\", \"showticklabels\": false}, \"yaxis\": {\"anchor\": \"x\", \"domain\": [0.0, 0.3133333333333333], \"title\": {\"text\": \"length\"}}, \"yaxis2\": {\"anchor\": \"x2\", \"domain\": [0.34333333333333327, 0.6566666666666665], \"matches\": \"y\", \"title\": {\"text\": \"length\"}}, \"yaxis3\": {\"anchor\": \"x3\", \"domain\": [0.6866666666666665, 0.9999999999999998], \"matches\": \"y\", \"title\": {\"text\": \"length\"}}},                        {\"responsive\": true}                    ).then(function(){\n",
       "                            \n",
       "var gd = document.getElementById('aad6ad9d-a86f-4443-925b-91c32c913e7f');\n",
       "var x = new MutationObserver(function (mutations, observer) {{\n",
       "        var display = window.getComputedStyle(gd).display;\n",
       "        if (!display || display === 'none') {{\n",
       "            console.log([gd, 'removed!']);\n",
       "            Plotly.purge(gd);\n",
       "            observer.disconnect();\n",
       "        }}\n",
       "}});\n",
       "\n",
       "// Listen for the removal of the full notebook cells\n",
       "var notebookContainer = gd.closest('#notebook-container');\n",
       "if (notebookContainer) {{\n",
       "    x.observe(notebookContainer, {childList: true});\n",
       "}}\n",
       "\n",
       "// Listen for the clearing of the current output cell\n",
       "var outputEl = gd.closest('.output');\n",
       "if (outputEl) {{\n",
       "    x.observe(outputEl, {childList: true});\n",
       "}}\n",
       "\n",
       "                        })                };                });            </script>        </div>"
      ]
     },
     "metadata": {},
     "output_type": "display_data"
    }
   ],
   "source": [
    "fig = px.scatter(scat, x= '예측', y = 'length', color = \"실제\",\n",
    "                  facet_row = 'attitude')\n",
    "fig.update_traces(hovertemplate = '예측: %{x}% <br>리뷰길이: %{y} <br>%{color}')\n",
    "fig.show()\n",
    "#facet_row 는 속성값에 따라 분리해서 scatter plot을 그림"
   ]
  },
  {
   "cell_type": "code",
   "execution_count": 47,
   "metadata": {},
   "outputs": [
    {
     "data": {
      "application/vnd.plotly.v1+json": {
       "config": {
        "plotlyServerURL": "https://plot.ly"
       },
       "data": [
        {
         "customdata": [
          [
           "도움O"
          ],
          [
           "도움X"
          ],
          [
           "도움X"
          ],
          [
           "도움X"
          ],
          [
           "도움X"
          ],
          [
           "도움O"
          ],
          [
           "도움X"
          ],
          [
           "도움X"
          ],
          [
           "도움X"
          ],
          [
           "도움O"
          ],
          [
           "도움X"
          ],
          [
           "도움O"
          ],
          [
           "도움O"
          ],
          [
           "도움X"
          ],
          [
           "도움X"
          ],
          [
           "도움O"
          ],
          [
           "도움X"
          ],
          [
           "도움X"
          ],
          [
           "도움X"
          ],
          [
           "도움X"
          ],
          [
           "도움O"
          ],
          [
           "도움X"
          ],
          [
           "도움O"
          ],
          [
           "도움X"
          ],
          [
           "도움O"
          ],
          [
           "도움O"
          ],
          [
           "도움X"
          ],
          [
           "도움X"
          ],
          [
           "도움X"
          ],
          [
           "도움X"
          ],
          [
           "도움X"
          ],
          [
           "도움X"
          ],
          [
           "도움X"
          ],
          [
           "도움O"
          ],
          [
           "도움O"
          ],
          [
           "도움X"
          ],
          [
           "도움X"
          ],
          [
           "도움X"
          ],
          [
           "도움X"
          ],
          [
           "도움X"
          ],
          [
           "도움X"
          ],
          [
           "도움X"
          ],
          [
           "도움X"
          ],
          [
           "도움X"
          ],
          [
           "도움X"
          ],
          [
           "도움X"
          ],
          [
           "도움O"
          ],
          [
           "도움O"
          ],
          [
           "도움X"
          ],
          [
           "도움X"
          ],
          [
           "도움O"
          ],
          [
           "도움X"
          ],
          [
           "도움X"
          ],
          [
           "도움O"
          ],
          [
           "도움X"
          ],
          [
           "도움O"
          ],
          [
           "도움O"
          ],
          [
           "도움O"
          ],
          [
           "도움X"
          ],
          [
           "도움O"
          ],
          [
           "도움O"
          ],
          [
           "도움X"
          ],
          [
           "도움X"
          ],
          [
           "도움X"
          ],
          [
           "도움X"
          ],
          [
           "도움X"
          ],
          [
           "도움X"
          ],
          [
           "도움X"
          ],
          [
           "도움X"
          ],
          [
           "도움X"
          ],
          [
           "도움X"
          ],
          [
           "도움X"
          ],
          [
           "도움X"
          ],
          [
           "도움X"
          ],
          [
           "도움X"
          ],
          [
           "도움X"
          ],
          [
           "도움X"
          ],
          [
           "도움X"
          ],
          [
           "도움O"
          ],
          [
           "도움O"
          ],
          [
           "도움X"
          ],
          [
           "도움X"
          ],
          [
           "도움X"
          ],
          [
           "도움X"
          ],
          [
           "도움O"
          ],
          [
           "도움X"
          ],
          [
           "도움X"
          ],
          [
           "도움X"
          ],
          [
           "도움O"
          ],
          [
           "도움X"
          ],
          [
           "도움X"
          ],
          [
           "도움O"
          ],
          [
           "도움X"
          ],
          [
           "도움X"
          ],
          [
           "도움X"
          ],
          [
           "도움X"
          ],
          [
           "도움O"
          ],
          [
           "도움X"
          ],
          [
           "도움X"
          ],
          [
           "도움X"
          ],
          [
           "도움X"
          ],
          [
           "도움X"
          ],
          [
           "도움X"
          ],
          [
           "도움X"
          ],
          [
           "도움O"
          ],
          [
           "도움X"
          ],
          [
           "도움O"
          ],
          [
           "도움X"
          ],
          [
           "도움X"
          ],
          [
           "도움X"
          ],
          [
           "도움O"
          ],
          [
           "도움X"
          ],
          [
           "도움O"
          ],
          [
           "도움X"
          ],
          [
           "도움O"
          ],
          [
           "도움X"
          ],
          [
           "도움X"
          ],
          [
           "도움X"
          ],
          [
           "도움X"
          ],
          [
           "도움X"
          ],
          [
           "도움X"
          ],
          [
           "도움O"
          ],
          [
           "도움X"
          ],
          [
           "도움X"
          ],
          [
           "도움X"
          ],
          [
           "도움X"
          ],
          [
           "도움X"
          ],
          [
           "도움X"
          ],
          [
           "도움X"
          ],
          [
           "도움O"
          ],
          [
           "도움O"
          ],
          [
           "도움X"
          ],
          [
           "도움X"
          ],
          [
           "도움X"
          ],
          [
           "도움X"
          ],
          [
           "도움O"
          ],
          [
           "도움O"
          ],
          [
           "도움O"
          ],
          [
           "도움O"
          ],
          [
           "도움O"
          ],
          [
           "도움O"
          ],
          [
           "도움X"
          ],
          [
           "도움X"
          ],
          [
           "도움O"
          ],
          [
           "도움X"
          ],
          [
           "도움X"
          ],
          [
           "도움X"
          ],
          [
           "도움X"
          ],
          [
           "도움X"
          ],
          [
           "도움X"
          ],
          [
           "도움X"
          ],
          [
           "도움O"
          ],
          [
           "도움O"
          ],
          [
           "도움X"
          ],
          [
           "도움X"
          ],
          [
           "도움X"
          ],
          [
           "도움X"
          ],
          [
           "도움X"
          ],
          [
           "도움X"
          ],
          [
           "도움X"
          ],
          [
           "도움X"
          ],
          [
           "도움X"
          ],
          [
           "도움O"
          ],
          [
           "도움O"
          ],
          [
           "도움X"
          ],
          [
           "도움X"
          ],
          [
           "도움X"
          ],
          [
           "도움X"
          ],
          [
           "도움X"
          ],
          [
           "도움O"
          ],
          [
           "도움X"
          ],
          [
           "도움X"
          ],
          [
           "도움O"
          ],
          [
           "도움O"
          ],
          [
           "도움O"
          ],
          [
           "도움X"
          ],
          [
           "도움O"
          ],
          [
           "도움X"
          ],
          [
           "도움X"
          ],
          [
           "도움X"
          ],
          [
           "도움X"
          ],
          [
           "도움X"
          ],
          [
           "도움O"
          ],
          [
           "도움X"
          ],
          [
           "도움X"
          ],
          [
           "도움X"
          ],
          [
           "도움O"
          ],
          [
           "도움X"
          ],
          [
           "도움X"
          ],
          [
           "도움O"
          ],
          [
           "도움X"
          ],
          [
           "도움X"
          ],
          [
           "도움X"
          ],
          [
           "도움X"
          ],
          [
           "도움X"
          ],
          [
           "도움X"
          ],
          [
           "도움X"
          ],
          [
           "도움O"
          ],
          [
           "도움X"
          ],
          [
           "도움O"
          ],
          [
           "도움O"
          ],
          [
           "도움X"
          ],
          [
           "도움X"
          ],
          [
           "도움X"
          ],
          [
           "도움X"
          ],
          [
           "도움O"
          ],
          [
           "도움X"
          ],
          [
           "도움X"
          ],
          [
           "도움O"
          ],
          [
           "도움X"
          ],
          [
           "도움X"
          ],
          [
           "도움O"
          ],
          [
           "도움X"
          ],
          [
           "도움X"
          ],
          [
           "도움X"
          ],
          [
           "도움O"
          ],
          [
           "도움X"
          ],
          [
           "도움X"
          ],
          [
           "도움X"
          ],
          [
           "도움O"
          ],
          [
           "도움O"
          ],
          [
           "도움X"
          ],
          [
           "도움X"
          ],
          [
           "도움X"
          ],
          [
           "도움O"
          ],
          [
           "도움X"
          ],
          [
           "도움X"
          ],
          [
           "도움X"
          ],
          [
           "도움O"
          ],
          [
           "도움X"
          ],
          [
           "도움X"
          ],
          [
           "도움X"
          ],
          [
           "도움O"
          ],
          [
           "도움X"
          ],
          [
           "도움X"
          ],
          [
           "도움X"
          ],
          [
           "도움X"
          ],
          [
           "도움X"
          ],
          [
           "도움X"
          ],
          [
           "도움X"
          ],
          [
           "도움X"
          ],
          [
           "도움X"
          ],
          [
           "도움O"
          ],
          [
           "도움X"
          ],
          [
           "도움X"
          ],
          [
           "도움X"
          ],
          [
           "도움X"
          ],
          [
           "도움X"
          ],
          [
           "도움X"
          ],
          [
           "도움X"
          ],
          [
           "도움O"
          ],
          [
           "도움O"
          ],
          [
           "도움O"
          ],
          [
           "도움X"
          ],
          [
           "도움X"
          ],
          [
           "도움O"
          ],
          [
           "도움X"
          ],
          [
           "도움X"
          ],
          [
           "도움X"
          ],
          [
           "도움X"
          ],
          [
           "도움X"
          ],
          [
           "도움O"
          ],
          [
           "도움O"
          ],
          [
           "도움O"
          ],
          [
           "도움O"
          ],
          [
           "도움X"
          ],
          [
           "도움X"
          ],
          [
           "도움X"
          ],
          [
           "도움O"
          ],
          [
           "도움O"
          ],
          [
           "도움X"
          ],
          [
           "도움X"
          ],
          [
           "도움X"
          ],
          [
           "도움X"
          ],
          [
           "도움X"
          ],
          [
           "도움O"
          ],
          [
           "도움X"
          ],
          [
           "도움X"
          ],
          [
           "도움O"
          ],
          [
           "도움X"
          ],
          [
           "도움X"
          ],
          [
           "도움X"
          ],
          [
           "도움X"
          ],
          [
           "도움O"
          ],
          [
           "도움O"
          ],
          [
           "도움X"
          ],
          [
           "도움X"
          ],
          [
           "도움O"
          ],
          [
           "도움O"
          ],
          [
           "도움X"
          ],
          [
           "도움O"
          ],
          [
           "도움X"
          ],
          [
           "도움O"
          ],
          [
           "도움O"
          ],
          [
           "도움O"
          ],
          [
           "도움O"
          ],
          [
           "도움O"
          ],
          [
           "도움X"
          ],
          [
           "도움O"
          ],
          [
           "도움X"
          ],
          [
           "도움O"
          ],
          [
           "도움X"
          ],
          [
           "도움X"
          ],
          [
           "도움X"
          ],
          [
           "도움X"
          ],
          [
           "도움O"
          ],
          [
           "도움X"
          ],
          [
           "도움O"
          ],
          [
           "도움X"
          ],
          [
           "도움X"
          ],
          [
           "도움O"
          ],
          [
           "도움X"
          ],
          [
           "도움X"
          ],
          [
           "도움X"
          ],
          [
           "도움X"
          ],
          [
           "도움X"
          ],
          [
           "도움O"
          ],
          [
           "도움O"
          ],
          [
           "도움X"
          ],
          [
           "도움X"
          ],
          [
           "도움O"
          ],
          [
           "도움X"
          ],
          [
           "도움O"
          ],
          [
           "도움O"
          ],
          [
           "도움X"
          ],
          [
           "도움X"
          ],
          [
           "도움X"
          ],
          [
           "도움X"
          ],
          [
           "도움X"
          ],
          [
           "도움X"
          ],
          [
           "도움X"
          ],
          [
           "도움X"
          ],
          [
           "도움X"
          ],
          [
           "도움O"
          ],
          [
           "도움X"
          ],
          [
           "도움O"
          ],
          [
           "도움O"
          ],
          [
           "도움X"
          ],
          [
           "도움X"
          ],
          [
           "도움X"
          ],
          [
           "도움X"
          ],
          [
           "도움O"
          ],
          [
           "도움X"
          ],
          [
           "도움X"
          ],
          [
           "도움X"
          ],
          [
           "도움X"
          ],
          [
           "도움O"
          ],
          [
           "도움X"
          ],
          [
           "도움X"
          ],
          [
           "도움O"
          ],
          [
           "도움X"
          ],
          [
           "도움X"
          ],
          [
           "도움O"
          ],
          [
           "도움X"
          ],
          [
           "도움X"
          ]
         ],
         "hovertemplate": "attitude=긍정<br>예측=%{x}<br>length=%{y}<br>실제=%{customdata[0]}<extra></extra>",
         "legendgroup": "긍정",
         "marker": {
          "color": "#636efa",
          "symbol": "circle"
         },
         "mode": "markers",
         "name": "긍정",
         "orientation": "v",
         "showlegend": true,
         "type": "scatter",
         "x": [
          0.77,
          0.09,
          0.56,
          0.06,
          0.06,
          0.84,
          0.02,
          0.02,
          0.01,
          0.4,
          0.62,
          0.59,
          0.92,
          0.04,
          0.03,
          0.77,
          0.15,
          0.02,
          0.01,
          0.13,
          0.65,
          0.11,
          0.72,
          0.07,
          0.31,
          0.76,
          0.02,
          0.03,
          0.08,
          0.08,
          0.13,
          0.89,
          0.02,
          0.83,
          0.9,
          0.17,
          0.07,
          0.61,
          0.01,
          0.06,
          0.23,
          0.11,
          0.29,
          0.18,
          0.01,
          0.02,
          0.43,
          0.84,
          0.04,
          0.06,
          0.89,
          0.2,
          0.11,
          0.8,
          0.14,
          0.33,
          0.32,
          0.73,
          0.15,
          0.31,
          0.5,
          0.28,
          0.51,
          0.06,
          0.17,
          0.03,
          0.17,
          0.27,
          0.51,
          0.4,
          0.04,
          0.13,
          0.06,
          0.09,
          0.05,
          0.26,
          0.57,
          0.02,
          0.17,
          0.96,
          0.16,
          0.13,
          0.11,
          0.11,
          0.7,
          0,
          0.08,
          0.09,
          0.89,
          0.27,
          0.07,
          0.96,
          0.06,
          0.07,
          0.62,
          0.02,
          0.47,
          0.08,
          0.02,
          0.18,
          0.6,
          0.04,
          0.06,
          0.02,
          0.64,
          0.03,
          0.51,
          0.04,
          0.3,
          0.02,
          0.67,
          0.02,
          0.67,
          0.02,
          0.44,
          0.03,
          0.23,
          0.06,
          0.05,
          0.14,
          0.09,
          0.97,
          0.04,
          0.03,
          0.43,
          0.06,
          0.04,
          0.06,
          0.05,
          0.61,
          0.55,
          0.05,
          0.02,
          0.02,
          0.04,
          0.81,
          0.96,
          0.29,
          0.93,
          0.79,
          0.53,
          0.04,
          0.03,
          0.7,
          0.2,
          0.15,
          0.03,
          0.05,
          0.04,
          0.36,
          0.1,
          0.88,
          0.56,
          0.04,
          0.11,
          0.05,
          0.4,
          0.59,
          0.05,
          0.03,
          0.05,
          0.01,
          0.97,
          0.85,
          0.01,
          0.39,
          0.09,
          0.33,
          0.03,
          0.48,
          0.03,
          0.08,
          0.88,
          0.83,
          0.37,
          0.14,
          0.97,
          0.09,
          0.69,
          0.06,
          0.02,
          0.19,
          0.79,
          0.08,
          0.07,
          0.53,
          0.29,
          0.17,
          0.48,
          0.59,
          0.02,
          0.13,
          0.07,
          0.02,
          0.3,
          0.01,
          0.16,
          0.37,
          0.03,
          0.69,
          0.99,
          0.03,
          0.03,
          0.03,
          0.01,
          0.78,
          0.1,
          0.03,
          0.99,
          0.07,
          0.28,
          0.3,
          0.02,
          0.8,
          0.02,
          0.95,
          0.02,
          0.02,
          0.22,
          0.68,
          0.4,
          0.05,
          0.05,
          0.48,
          0.79,
          0.07,
          0.07,
          0.04,
          0.38,
          0.03,
          0.09,
          0.37,
          0.85,
          0.02,
          0.36,
          0.23,
          0.43,
          0.02,
          0.01,
          0.01,
          0.08,
          0.08,
          0.41,
          0.02,
          0.3,
          0.04,
          0.07,
          0.01,
          0.32,
          0.03,
          0.41,
          0.5,
          0.49,
          0.06,
          0.71,
          0.72,
          0.5,
          0.04,
          0.13,
          0.22,
          0.02,
          0.98,
          0.89,
          0.61,
          0.81,
          0.03,
          0.04,
          0.42,
          0.9,
          0.27,
          0.13,
          0.31,
          0.39,
          0.08,
          0.14,
          0.99,
          0.04,
          0.59,
          0.81,
          0.03,
          0.12,
          0,
          0.2,
          0.93,
          0.91,
          0.06,
          0.23,
          0.1,
          0.84,
          0.01,
          0.88,
          0.06,
          0.47,
          0.38,
          0.58,
          0.46,
          0.69,
          0.06,
          0.25,
          0.58,
          0.56,
          0.47,
          0.23,
          0.3,
          0.02,
          0.73,
          0.19,
          0.98,
          0.33,
          0.01,
          0.73,
          0.06,
          0.32,
          0.1,
          0.14,
          0.36,
          0.77,
          0.96,
          0.03,
          0.02,
          0.5,
          0.05,
          0.99,
          0.71,
          0.07,
          0.13,
          0.07,
          0.47,
          0.22,
          0.05,
          0.03,
          0.15,
          0.45,
          0.79,
          0.16,
          0.95,
          0.8,
          0.02,
          0.04,
          0.26,
          0.04,
          0.34,
          0.33,
          0.02,
          0.67,
          0.03,
          0.65,
          0.31,
          0.08,
          0.86,
          0.08,
          0.06,
          0.99,
          0.51,
          0.16
         ],
         "xaxis": "x3",
         "y": [
          49,
          11,
          41,
          11,
          10,
          71,
          5,
          5,
          5,
          100,
          44,
          28,
          98,
          7,
          6,
          78,
          16,
          5,
          3,
          12,
          55,
          14,
          38,
          8,
          18,
          73,
          5,
          8,
          13,
          13,
          14,
          92,
          6,
          79,
          62,
          17,
          10,
          39,
          4,
          11,
          17,
          14,
          35,
          23,
          5,
          6,
          64,
          191,
          8,
          10,
          83,
          12,
          14,
          83,
          23,
          19,
          21,
          38,
          15,
          18,
          30,
          28,
          34,
          9,
          16,
          6,
          13,
          22,
          61,
          24,
          8,
          14,
          9,
          13,
          8,
          20,
          44,
          5,
          13,
          104,
          11,
          16,
          15,
          15,
          87,
          5,
          11,
          12,
          153,
          20,
          10,
          89,
          9,
          10,
          36,
          5,
          32,
          8,
          5,
          17,
          38,
          7,
          9,
          5,
          42,
          7,
          28,
          9,
          23,
          5,
          28,
          5,
          52,
          5,
          31,
          6,
          29,
          10,
          8,
          15,
          13,
          86,
          9,
          6,
          57,
          12,
          11,
          9,
          8,
          30,
          30,
          8,
          5,
          5,
          10,
          114,
          198,
          19,
          344,
          66,
          35,
          8,
          6,
          44,
          16,
          16,
          7,
          9,
          8,
          25,
          10,
          285,
          39,
          9,
          14,
          10,
          24,
          35,
          10,
          6,
          10,
          5,
          190,
          56,
          5,
          25,
          11,
          24,
          6,
          62,
          6,
          12,
          42,
          99,
          21,
          14,
          228,
          12,
          38,
          11,
          5,
          21,
          63,
          12,
          11,
          30,
          22,
          18,
          104,
          61,
          6,
          13,
          10,
          5,
          139,
          4,
          19,
          22,
          6,
          214,
          173,
          7,
          6,
          8,
          4,
          137,
          12,
          6,
          177,
          12,
          32,
          22,
          5,
          79,
          5,
          79,
          5,
          5,
          24,
          59,
          26,
          8,
          8,
          28,
          47,
          6,
          10,
          7,
          22,
          8,
          10,
          29,
          86,
          5,
          24,
          14,
          43,
          5,
          4,
          3,
          11,
          12,
          30,
          5,
          21,
          9,
          10,
          3,
          33,
          6,
          36,
          24,
          23,
          10,
          63,
          36,
          31,
          7,
          17,
          16,
          5,
          117,
          94,
          36,
          127,
          6,
          8,
          24,
          110,
          17,
          13,
          16,
          35,
          11,
          20,
          143,
          8,
          39,
          143,
          6,
          14,
          2,
          16,
          110,
          73,
          10,
          28,
          13,
          39,
          5,
          204,
          9,
          24,
          28,
          27,
          36,
          59,
          13,
          28,
          63,
          23,
          43,
          28,
          30,
          5,
          84,
          23,
          162,
          26,
          3,
          54,
          11,
          16,
          13,
          15,
          27,
          46,
          104,
          7,
          5,
          50,
          10,
          125,
          62,
          10,
          17,
          10,
          24,
          22,
          8,
          9,
          24,
          43,
          77,
          29,
          124,
          68,
          5,
          7,
          18,
          8,
          64,
          30,
          5,
          57,
          6,
          74,
          38,
          11,
          103,
          11,
          11,
          231,
          35,
          11
         ],
         "yaxis": "y3"
        },
        {
         "customdata": [
          [
           "도움O"
          ],
          [
           "도움X"
          ],
          [
           "도움O"
          ],
          [
           "도움O"
          ],
          [
           "도움O"
          ],
          [
           "도움O"
          ],
          [
           "도움X"
          ],
          [
           "도움X"
          ],
          [
           "도움X"
          ],
          [
           "도움X"
          ],
          [
           "도움O"
          ],
          [
           "도움O"
          ],
          [
           "도움O"
          ],
          [
           "도움O"
          ],
          [
           "도움O"
          ],
          [
           "도움O"
          ],
          [
           "도움X"
          ],
          [
           "도움O"
          ],
          [
           "도움X"
          ],
          [
           "도움O"
          ],
          [
           "도움O"
          ],
          [
           "도움X"
          ],
          [
           "도움O"
          ],
          [
           "도움O"
          ],
          [
           "도움O"
          ],
          [
           "도움X"
          ],
          [
           "도움X"
          ],
          [
           "도움O"
          ],
          [
           "도움O"
          ],
          [
           "도움X"
          ],
          [
           "도움O"
          ],
          [
           "도움O"
          ],
          [
           "도움O"
          ],
          [
           "도움O"
          ],
          [
           "도움O"
          ],
          [
           "도움X"
          ],
          [
           "도움O"
          ],
          [
           "도움O"
          ],
          [
           "도움X"
          ],
          [
           "도움X"
          ],
          [
           "도움X"
          ],
          [
           "도움O"
          ],
          [
           "도움O"
          ],
          [
           "도움O"
          ],
          [
           "도움O"
          ],
          [
           "도움O"
          ],
          [
           "도움O"
          ],
          [
           "도움O"
          ],
          [
           "도움O"
          ],
          [
           "도움O"
          ],
          [
           "도움O"
          ],
          [
           "도움X"
          ],
          [
           "도움X"
          ],
          [
           "도움O"
          ],
          [
           "도움X"
          ],
          [
           "도움O"
          ],
          [
           "도움O"
          ],
          [
           "도움X"
          ],
          [
           "도움X"
          ],
          [
           "도움O"
          ],
          [
           "도움O"
          ],
          [
           "도움X"
          ],
          [
           "도움O"
          ],
          [
           "도움O"
          ],
          [
           "도움X"
          ],
          [
           "도움X"
          ],
          [
           "도움O"
          ],
          [
           "도움O"
          ],
          [
           "도움O"
          ],
          [
           "도움X"
          ],
          [
           "도움O"
          ],
          [
           "도움X"
          ],
          [
           "도움O"
          ],
          [
           "도움O"
          ],
          [
           "도움O"
          ],
          [
           "도움O"
          ],
          [
           "도움O"
          ],
          [
           "도움X"
          ],
          [
           "도움O"
          ],
          [
           "도움O"
          ],
          [
           "도움X"
          ],
          [
           "도움O"
          ],
          [
           "도움X"
          ],
          [
           "도움O"
          ],
          [
           "도움O"
          ],
          [
           "도움O"
          ],
          [
           "도움O"
          ],
          [
           "도움O"
          ],
          [
           "도움X"
          ],
          [
           "도움O"
          ],
          [
           "도움O"
          ],
          [
           "도움O"
          ],
          [
           "도움O"
          ],
          [
           "도움O"
          ],
          [
           "도움X"
          ],
          [
           "도움X"
          ],
          [
           "도움X"
          ],
          [
           "도움O"
          ],
          [
           "도움O"
          ],
          [
           "도움X"
          ],
          [
           "도움O"
          ]
         ],
         "hovertemplate": "attitude=중립<br>예측=%{x}<br>length=%{y}<br>실제=%{customdata[0]}<extra></extra>",
         "legendgroup": "중립",
         "marker": {
          "color": "#EF553B",
          "symbol": "circle"
         },
         "mode": "markers",
         "name": "중립",
         "orientation": "v",
         "showlegend": true,
         "type": "scatter",
         "x": [
          0.48,
          0.19,
          0.81,
          0.73,
          0.49,
          0.3,
          0.75,
          0.02,
          0.01,
          0.07,
          0.97,
          0.97,
          0.95,
          1,
          0.88,
          0.81,
          0.17,
          0.86,
          0.02,
          0.88,
          0.94,
          0.05,
          0.99,
          0.98,
          0.7,
          0.03,
          0.97,
          0.4,
          0.98,
          0.02,
          0.19,
          0.96,
          0.63,
          0.8,
          0.94,
          0.54,
          0.39,
          0.7,
          0.36,
          0.02,
          0.26,
          0.63,
          0.32,
          0.98,
          0.88,
          0.87,
          0.95,
          0.8,
          0.93,
          0.97,
          0.6,
          0.55,
          0.24,
          0.47,
          0.33,
          0.67,
          0.95,
          0.03,
          0.73,
          0.92,
          0.71,
          0.79,
          0.49,
          0.99,
          0.34,
          0.32,
          0.79,
          0.97,
          0.58,
          0.11,
          0.31,
          0.32,
          0.89,
          0.94,
          0.94,
          0.92,
          0.97,
          0.02,
          0.61,
          0.58,
          0.41,
          0.55,
          0.8,
          1,
          0.25,
          0.32,
          0.99,
          0.98,
          0.01,
          0.64,
          0.98,
          0.95,
          0.41,
          0.89,
          0.02,
          0.02,
          0.88,
          0.98,
          0.99,
          0.04,
          0.95
         ],
         "xaxis": "x2",
         "y": [
          37,
          18,
          56,
          48,
          23,
          20,
          104,
          5,
          3,
          7,
          166,
          70,
          105,
          252,
          70,
          53,
          16,
          171,
          5,
          142,
          71,
          7,
          156,
          106,
          37,
          6,
          123,
          27,
          157,
          5,
          23,
          68,
          35,
          114,
          102,
          43,
          18,
          33,
          14,
          5,
          25,
          34,
          19,
          153,
          88,
          66,
          137,
          50,
          103,
          120,
          31,
          25,
          14,
          30,
          23,
          92,
          136,
          6,
          66,
          77,
          71,
          41,
          37,
          155,
          25,
          22,
          41,
          93,
          34,
          12,
          20,
          21,
          64,
          99,
          74,
          137,
          293,
          5,
          51,
          38,
          47,
          20,
          38,
          112,
          37,
          24,
          206,
          202,
          3,
          29,
          157,
          143,
          18,
          49,
          5,
          5,
          97,
          174,
          196,
          8,
          113
         ],
         "yaxis": "y2"
        },
        {
         "customdata": [
          [
           "도움O"
          ],
          [
           "도움O"
          ],
          [
           "도움O"
          ],
          [
           "도움O"
          ],
          [
           "도움O"
          ],
          [
           "도움O"
          ],
          [
           "도움O"
          ],
          [
           "도움O"
          ],
          [
           "도움O"
          ],
          [
           "도움X"
          ],
          [
           "도움O"
          ],
          [
           "도움O"
          ],
          [
           "도움O"
          ],
          [
           "도움O"
          ],
          [
           "도움O"
          ],
          [
           "도움O"
          ],
          [
           "도움O"
          ],
          [
           "도움O"
          ],
          [
           "도움O"
          ],
          [
           "도움O"
          ],
          [
           "도움O"
          ],
          [
           "도움O"
          ],
          [
           "도움X"
          ],
          [
           "도움O"
          ],
          [
           "도움O"
          ],
          [
           "도움X"
          ]
         ],
         "hovertemplate": "attitude=부정<br>예측=%{x}<br>length=%{y}<br>실제=%{customdata[0]}<extra></extra>",
         "legendgroup": "부정",
         "marker": {
          "color": "#00cc96",
          "symbol": "circle"
         },
         "mode": "markers",
         "name": "부정",
         "orientation": "v",
         "showlegend": true,
         "type": "scatter",
         "x": [
          0.99,
          0.85,
          0.92,
          0.91,
          0.99,
          0.93,
          0.9,
          0.98,
          0.79,
          0.41,
          0.96,
          0.98,
          0.86,
          0.96,
          0.99,
          0.89,
          0.93,
          0.82,
          0.92,
          0.64,
          0.47,
          0.91,
          0.82,
          0.73,
          0.85,
          0.18
         ],
         "xaxis": "x",
         "y": [
          226,
          125,
          125,
          177,
          197,
          103,
          71,
          150,
          77,
          48,
          181,
          144,
          103,
          116,
          205,
          193,
          114,
          85,
          117,
          35,
          20,
          84,
          162,
          46,
          86,
          11
         ],
         "yaxis": "y"
        }
       ],
       "layout": {
        "annotations": [
         {
          "font": {},
          "showarrow": false,
          "text": "attitude=부정",
          "textangle": 90,
          "x": 0.98,
          "xanchor": "left",
          "xref": "paper",
          "y": 0.15666666666666665,
          "yanchor": "middle",
          "yref": "paper"
         },
         {
          "font": {},
          "showarrow": false,
          "text": "attitude=중립",
          "textangle": 90,
          "x": 0.98,
          "xanchor": "left",
          "xref": "paper",
          "y": 0.4999999999999999,
          "yanchor": "middle",
          "yref": "paper"
         },
         {
          "font": {},
          "showarrow": false,
          "text": "attitude=긍정",
          "textangle": 90,
          "x": 0.98,
          "xanchor": "left",
          "xref": "paper",
          "y": 0.8433333333333332,
          "yanchor": "middle",
          "yref": "paper"
         }
        ],
        "legend": {
         "title": {
          "text": "attitude"
         },
         "tracegroupgap": 0
        },
        "margin": {
         "t": 60
        },
        "template": {
         "data": {
          "bar": [
           {
            "error_x": {
             "color": "#2a3f5f"
            },
            "error_y": {
             "color": "#2a3f5f"
            },
            "marker": {
             "line": {
              "color": "#E5ECF6",
              "width": 0.5
             }
            },
            "type": "bar"
           }
          ],
          "barpolar": [
           {
            "marker": {
             "line": {
              "color": "#E5ECF6",
              "width": 0.5
             }
            },
            "type": "barpolar"
           }
          ],
          "carpet": [
           {
            "aaxis": {
             "endlinecolor": "#2a3f5f",
             "gridcolor": "white",
             "linecolor": "white",
             "minorgridcolor": "white",
             "startlinecolor": "#2a3f5f"
            },
            "baxis": {
             "endlinecolor": "#2a3f5f",
             "gridcolor": "white",
             "linecolor": "white",
             "minorgridcolor": "white",
             "startlinecolor": "#2a3f5f"
            },
            "type": "carpet"
           }
          ],
          "choropleth": [
           {
            "colorbar": {
             "outlinewidth": 0,
             "ticks": ""
            },
            "type": "choropleth"
           }
          ],
          "contour": [
           {
            "colorbar": {
             "outlinewidth": 0,
             "ticks": ""
            },
            "colorscale": [
             [
              0,
              "#0d0887"
             ],
             [
              0.1111111111111111,
              "#46039f"
             ],
             [
              0.2222222222222222,
              "#7201a8"
             ],
             [
              0.3333333333333333,
              "#9c179e"
             ],
             [
              0.4444444444444444,
              "#bd3786"
             ],
             [
              0.5555555555555556,
              "#d8576b"
             ],
             [
              0.6666666666666666,
              "#ed7953"
             ],
             [
              0.7777777777777778,
              "#fb9f3a"
             ],
             [
              0.8888888888888888,
              "#fdca26"
             ],
             [
              1,
              "#f0f921"
             ]
            ],
            "type": "contour"
           }
          ],
          "contourcarpet": [
           {
            "colorbar": {
             "outlinewidth": 0,
             "ticks": ""
            },
            "type": "contourcarpet"
           }
          ],
          "heatmap": [
           {
            "colorbar": {
             "outlinewidth": 0,
             "ticks": ""
            },
            "colorscale": [
             [
              0,
              "#0d0887"
             ],
             [
              0.1111111111111111,
              "#46039f"
             ],
             [
              0.2222222222222222,
              "#7201a8"
             ],
             [
              0.3333333333333333,
              "#9c179e"
             ],
             [
              0.4444444444444444,
              "#bd3786"
             ],
             [
              0.5555555555555556,
              "#d8576b"
             ],
             [
              0.6666666666666666,
              "#ed7953"
             ],
             [
              0.7777777777777778,
              "#fb9f3a"
             ],
             [
              0.8888888888888888,
              "#fdca26"
             ],
             [
              1,
              "#f0f921"
             ]
            ],
            "type": "heatmap"
           }
          ],
          "heatmapgl": [
           {
            "colorbar": {
             "outlinewidth": 0,
             "ticks": ""
            },
            "colorscale": [
             [
              0,
              "#0d0887"
             ],
             [
              0.1111111111111111,
              "#46039f"
             ],
             [
              0.2222222222222222,
              "#7201a8"
             ],
             [
              0.3333333333333333,
              "#9c179e"
             ],
             [
              0.4444444444444444,
              "#bd3786"
             ],
             [
              0.5555555555555556,
              "#d8576b"
             ],
             [
              0.6666666666666666,
              "#ed7953"
             ],
             [
              0.7777777777777778,
              "#fb9f3a"
             ],
             [
              0.8888888888888888,
              "#fdca26"
             ],
             [
              1,
              "#f0f921"
             ]
            ],
            "type": "heatmapgl"
           }
          ],
          "histogram": [
           {
            "marker": {
             "colorbar": {
              "outlinewidth": 0,
              "ticks": ""
             }
            },
            "type": "histogram"
           }
          ],
          "histogram2d": [
           {
            "colorbar": {
             "outlinewidth": 0,
             "ticks": ""
            },
            "colorscale": [
             [
              0,
              "#0d0887"
             ],
             [
              0.1111111111111111,
              "#46039f"
             ],
             [
              0.2222222222222222,
              "#7201a8"
             ],
             [
              0.3333333333333333,
              "#9c179e"
             ],
             [
              0.4444444444444444,
              "#bd3786"
             ],
             [
              0.5555555555555556,
              "#d8576b"
             ],
             [
              0.6666666666666666,
              "#ed7953"
             ],
             [
              0.7777777777777778,
              "#fb9f3a"
             ],
             [
              0.8888888888888888,
              "#fdca26"
             ],
             [
              1,
              "#f0f921"
             ]
            ],
            "type": "histogram2d"
           }
          ],
          "histogram2dcontour": [
           {
            "colorbar": {
             "outlinewidth": 0,
             "ticks": ""
            },
            "colorscale": [
             [
              0,
              "#0d0887"
             ],
             [
              0.1111111111111111,
              "#46039f"
             ],
             [
              0.2222222222222222,
              "#7201a8"
             ],
             [
              0.3333333333333333,
              "#9c179e"
             ],
             [
              0.4444444444444444,
              "#bd3786"
             ],
             [
              0.5555555555555556,
              "#d8576b"
             ],
             [
              0.6666666666666666,
              "#ed7953"
             ],
             [
              0.7777777777777778,
              "#fb9f3a"
             ],
             [
              0.8888888888888888,
              "#fdca26"
             ],
             [
              1,
              "#f0f921"
             ]
            ],
            "type": "histogram2dcontour"
           }
          ],
          "mesh3d": [
           {
            "colorbar": {
             "outlinewidth": 0,
             "ticks": ""
            },
            "type": "mesh3d"
           }
          ],
          "parcoords": [
           {
            "line": {
             "colorbar": {
              "outlinewidth": 0,
              "ticks": ""
             }
            },
            "type": "parcoords"
           }
          ],
          "pie": [
           {
            "automargin": true,
            "type": "pie"
           }
          ],
          "scatter": [
           {
            "marker": {
             "colorbar": {
              "outlinewidth": 0,
              "ticks": ""
             }
            },
            "type": "scatter"
           }
          ],
          "scatter3d": [
           {
            "line": {
             "colorbar": {
              "outlinewidth": 0,
              "ticks": ""
             }
            },
            "marker": {
             "colorbar": {
              "outlinewidth": 0,
              "ticks": ""
             }
            },
            "type": "scatter3d"
           }
          ],
          "scattercarpet": [
           {
            "marker": {
             "colorbar": {
              "outlinewidth": 0,
              "ticks": ""
             }
            },
            "type": "scattercarpet"
           }
          ],
          "scattergeo": [
           {
            "marker": {
             "colorbar": {
              "outlinewidth": 0,
              "ticks": ""
             }
            },
            "type": "scattergeo"
           }
          ],
          "scattergl": [
           {
            "marker": {
             "colorbar": {
              "outlinewidth": 0,
              "ticks": ""
             }
            },
            "type": "scattergl"
           }
          ],
          "scattermapbox": [
           {
            "marker": {
             "colorbar": {
              "outlinewidth": 0,
              "ticks": ""
             }
            },
            "type": "scattermapbox"
           }
          ],
          "scatterpolar": [
           {
            "marker": {
             "colorbar": {
              "outlinewidth": 0,
              "ticks": ""
             }
            },
            "type": "scatterpolar"
           }
          ],
          "scatterpolargl": [
           {
            "marker": {
             "colorbar": {
              "outlinewidth": 0,
              "ticks": ""
             }
            },
            "type": "scatterpolargl"
           }
          ],
          "scatterternary": [
           {
            "marker": {
             "colorbar": {
              "outlinewidth": 0,
              "ticks": ""
             }
            },
            "type": "scatterternary"
           }
          ],
          "surface": [
           {
            "colorbar": {
             "outlinewidth": 0,
             "ticks": ""
            },
            "colorscale": [
             [
              0,
              "#0d0887"
             ],
             [
              0.1111111111111111,
              "#46039f"
             ],
             [
              0.2222222222222222,
              "#7201a8"
             ],
             [
              0.3333333333333333,
              "#9c179e"
             ],
             [
              0.4444444444444444,
              "#bd3786"
             ],
             [
              0.5555555555555556,
              "#d8576b"
             ],
             [
              0.6666666666666666,
              "#ed7953"
             ],
             [
              0.7777777777777778,
              "#fb9f3a"
             ],
             [
              0.8888888888888888,
              "#fdca26"
             ],
             [
              1,
              "#f0f921"
             ]
            ],
            "type": "surface"
           }
          ],
          "table": [
           {
            "cells": {
             "fill": {
              "color": "#EBF0F8"
             },
             "line": {
              "color": "white"
             }
            },
            "header": {
             "fill": {
              "color": "#C8D4E3"
             },
             "line": {
              "color": "white"
             }
            },
            "type": "table"
           }
          ]
         },
         "layout": {
          "annotationdefaults": {
           "arrowcolor": "#2a3f5f",
           "arrowhead": 0,
           "arrowwidth": 1
          },
          "coloraxis": {
           "colorbar": {
            "outlinewidth": 0,
            "ticks": ""
           }
          },
          "colorscale": {
           "diverging": [
            [
             0,
             "#8e0152"
            ],
            [
             0.1,
             "#c51b7d"
            ],
            [
             0.2,
             "#de77ae"
            ],
            [
             0.3,
             "#f1b6da"
            ],
            [
             0.4,
             "#fde0ef"
            ],
            [
             0.5,
             "#f7f7f7"
            ],
            [
             0.6,
             "#e6f5d0"
            ],
            [
             0.7,
             "#b8e186"
            ],
            [
             0.8,
             "#7fbc41"
            ],
            [
             0.9,
             "#4d9221"
            ],
            [
             1,
             "#276419"
            ]
           ],
           "sequential": [
            [
             0,
             "#0d0887"
            ],
            [
             0.1111111111111111,
             "#46039f"
            ],
            [
             0.2222222222222222,
             "#7201a8"
            ],
            [
             0.3333333333333333,
             "#9c179e"
            ],
            [
             0.4444444444444444,
             "#bd3786"
            ],
            [
             0.5555555555555556,
             "#d8576b"
            ],
            [
             0.6666666666666666,
             "#ed7953"
            ],
            [
             0.7777777777777778,
             "#fb9f3a"
            ],
            [
             0.8888888888888888,
             "#fdca26"
            ],
            [
             1,
             "#f0f921"
            ]
           ],
           "sequentialminus": [
            [
             0,
             "#0d0887"
            ],
            [
             0.1111111111111111,
             "#46039f"
            ],
            [
             0.2222222222222222,
             "#7201a8"
            ],
            [
             0.3333333333333333,
             "#9c179e"
            ],
            [
             0.4444444444444444,
             "#bd3786"
            ],
            [
             0.5555555555555556,
             "#d8576b"
            ],
            [
             0.6666666666666666,
             "#ed7953"
            ],
            [
             0.7777777777777778,
             "#fb9f3a"
            ],
            [
             0.8888888888888888,
             "#fdca26"
            ],
            [
             1,
             "#f0f921"
            ]
           ]
          },
          "colorway": [
           "#636efa",
           "#EF553B",
           "#00cc96",
           "#ab63fa",
           "#FFA15A",
           "#19d3f3",
           "#FF6692",
           "#B6E880",
           "#FF97FF",
           "#FECB52"
          ],
          "font": {
           "color": "#2a3f5f"
          },
          "geo": {
           "bgcolor": "white",
           "lakecolor": "white",
           "landcolor": "#E5ECF6",
           "showlakes": true,
           "showland": true,
           "subunitcolor": "white"
          },
          "hoverlabel": {
           "align": "left"
          },
          "hovermode": "closest",
          "mapbox": {
           "style": "light"
          },
          "paper_bgcolor": "white",
          "plot_bgcolor": "#E5ECF6",
          "polar": {
           "angularaxis": {
            "gridcolor": "white",
            "linecolor": "white",
            "ticks": ""
           },
           "bgcolor": "#E5ECF6",
           "radialaxis": {
            "gridcolor": "white",
            "linecolor": "white",
            "ticks": ""
           }
          },
          "scene": {
           "xaxis": {
            "backgroundcolor": "#E5ECF6",
            "gridcolor": "white",
            "gridwidth": 2,
            "linecolor": "white",
            "showbackground": true,
            "ticks": "",
            "zerolinecolor": "white"
           },
           "yaxis": {
            "backgroundcolor": "#E5ECF6",
            "gridcolor": "white",
            "gridwidth": 2,
            "linecolor": "white",
            "showbackground": true,
            "ticks": "",
            "zerolinecolor": "white"
           },
           "zaxis": {
            "backgroundcolor": "#E5ECF6",
            "gridcolor": "white",
            "gridwidth": 2,
            "linecolor": "white",
            "showbackground": true,
            "ticks": "",
            "zerolinecolor": "white"
           }
          },
          "shapedefaults": {
           "line": {
            "color": "#2a3f5f"
           }
          },
          "ternary": {
           "aaxis": {
            "gridcolor": "white",
            "linecolor": "white",
            "ticks": ""
           },
           "baxis": {
            "gridcolor": "white",
            "linecolor": "white",
            "ticks": ""
           },
           "bgcolor": "#E5ECF6",
           "caxis": {
            "gridcolor": "white",
            "linecolor": "white",
            "ticks": ""
           }
          },
          "title": {
           "x": 0.05
          },
          "xaxis": {
           "automargin": true,
           "gridcolor": "white",
           "linecolor": "white",
           "ticks": "",
           "title": {
            "standoff": 15
           },
           "zerolinecolor": "white",
           "zerolinewidth": 2
          },
          "yaxis": {
           "automargin": true,
           "gridcolor": "white",
           "linecolor": "white",
           "ticks": "",
           "title": {
            "standoff": 15
           },
           "zerolinecolor": "white",
           "zerolinewidth": 2
          }
         }
        },
        "xaxis": {
         "anchor": "y",
         "domain": [
          0,
          0.98
         ],
         "title": {
          "text": "예측"
         }
        },
        "xaxis2": {
         "anchor": "y2",
         "domain": [
          0,
          0.98
         ],
         "matches": "x",
         "showticklabels": false
        },
        "xaxis3": {
         "anchor": "y3",
         "domain": [
          0,
          0.98
         ],
         "matches": "x",
         "showticklabels": false
        },
        "yaxis": {
         "anchor": "x",
         "domain": [
          0,
          0.3133333333333333
         ],
         "title": {
          "text": "length"
         }
        },
        "yaxis2": {
         "anchor": "x2",
         "domain": [
          0.34333333333333327,
          0.6566666666666665
         ],
         "matches": "y",
         "title": {
          "text": "length"
         }
        },
        "yaxis3": {
         "anchor": "x3",
         "domain": [
          0.6866666666666665,
          0.9999999999999998
         ],
         "matches": "y",
         "title": {
          "text": "length"
         }
        }
       }
      },
      "text/html": [
       "<div>                            <div id=\"a7622e47-e959-4c56-ae32-90ab2fe92bda\" class=\"plotly-graph-div\" style=\"height:525px; width:100%;\"></div>            <script type=\"text/javascript\">                require([\"plotly\"], function(Plotly) {                    window.PLOTLYENV=window.PLOTLYENV || {};                                    if (document.getElementById(\"a7622e47-e959-4c56-ae32-90ab2fe92bda\")) {                    Plotly.newPlot(                        \"a7622e47-e959-4c56-ae32-90ab2fe92bda\",                        [{\"customdata\": [[\"\\ub3c4\\uc6c0O\"], [\"\\ub3c4\\uc6c0X\"], [\"\\ub3c4\\uc6c0X\"], [\"\\ub3c4\\uc6c0X\"], [\"\\ub3c4\\uc6c0X\"], [\"\\ub3c4\\uc6c0O\"], [\"\\ub3c4\\uc6c0X\"], [\"\\ub3c4\\uc6c0X\"], [\"\\ub3c4\\uc6c0X\"], [\"\\ub3c4\\uc6c0O\"], [\"\\ub3c4\\uc6c0X\"], [\"\\ub3c4\\uc6c0O\"], [\"\\ub3c4\\uc6c0O\"], [\"\\ub3c4\\uc6c0X\"], [\"\\ub3c4\\uc6c0X\"], [\"\\ub3c4\\uc6c0O\"], [\"\\ub3c4\\uc6c0X\"], [\"\\ub3c4\\uc6c0X\"], [\"\\ub3c4\\uc6c0X\"], [\"\\ub3c4\\uc6c0X\"], [\"\\ub3c4\\uc6c0O\"], [\"\\ub3c4\\uc6c0X\"], [\"\\ub3c4\\uc6c0O\"], [\"\\ub3c4\\uc6c0X\"], [\"\\ub3c4\\uc6c0O\"], [\"\\ub3c4\\uc6c0O\"], [\"\\ub3c4\\uc6c0X\"], [\"\\ub3c4\\uc6c0X\"], [\"\\ub3c4\\uc6c0X\"], [\"\\ub3c4\\uc6c0X\"], [\"\\ub3c4\\uc6c0X\"], [\"\\ub3c4\\uc6c0X\"], [\"\\ub3c4\\uc6c0X\"], [\"\\ub3c4\\uc6c0O\"], [\"\\ub3c4\\uc6c0O\"], [\"\\ub3c4\\uc6c0X\"], [\"\\ub3c4\\uc6c0X\"], [\"\\ub3c4\\uc6c0X\"], [\"\\ub3c4\\uc6c0X\"], [\"\\ub3c4\\uc6c0X\"], [\"\\ub3c4\\uc6c0X\"], [\"\\ub3c4\\uc6c0X\"], [\"\\ub3c4\\uc6c0X\"], [\"\\ub3c4\\uc6c0X\"], [\"\\ub3c4\\uc6c0X\"], [\"\\ub3c4\\uc6c0X\"], [\"\\ub3c4\\uc6c0O\"], [\"\\ub3c4\\uc6c0O\"], [\"\\ub3c4\\uc6c0X\"], [\"\\ub3c4\\uc6c0X\"], [\"\\ub3c4\\uc6c0O\"], [\"\\ub3c4\\uc6c0X\"], [\"\\ub3c4\\uc6c0X\"], [\"\\ub3c4\\uc6c0O\"], [\"\\ub3c4\\uc6c0X\"], [\"\\ub3c4\\uc6c0O\"], [\"\\ub3c4\\uc6c0O\"], [\"\\ub3c4\\uc6c0O\"], [\"\\ub3c4\\uc6c0X\"], [\"\\ub3c4\\uc6c0O\"], [\"\\ub3c4\\uc6c0O\"], [\"\\ub3c4\\uc6c0X\"], [\"\\ub3c4\\uc6c0X\"], [\"\\ub3c4\\uc6c0X\"], [\"\\ub3c4\\uc6c0X\"], [\"\\ub3c4\\uc6c0X\"], [\"\\ub3c4\\uc6c0X\"], [\"\\ub3c4\\uc6c0X\"], [\"\\ub3c4\\uc6c0X\"], [\"\\ub3c4\\uc6c0X\"], [\"\\ub3c4\\uc6c0X\"], [\"\\ub3c4\\uc6c0X\"], [\"\\ub3c4\\uc6c0X\"], [\"\\ub3c4\\uc6c0X\"], [\"\\ub3c4\\uc6c0X\"], [\"\\ub3c4\\uc6c0X\"], [\"\\ub3c4\\uc6c0X\"], [\"\\ub3c4\\uc6c0X\"], [\"\\ub3c4\\uc6c0O\"], [\"\\ub3c4\\uc6c0O\"], [\"\\ub3c4\\uc6c0X\"], [\"\\ub3c4\\uc6c0X\"], [\"\\ub3c4\\uc6c0X\"], [\"\\ub3c4\\uc6c0X\"], [\"\\ub3c4\\uc6c0O\"], [\"\\ub3c4\\uc6c0X\"], [\"\\ub3c4\\uc6c0X\"], [\"\\ub3c4\\uc6c0X\"], [\"\\ub3c4\\uc6c0O\"], [\"\\ub3c4\\uc6c0X\"], [\"\\ub3c4\\uc6c0X\"], [\"\\ub3c4\\uc6c0O\"], [\"\\ub3c4\\uc6c0X\"], [\"\\ub3c4\\uc6c0X\"], [\"\\ub3c4\\uc6c0X\"], [\"\\ub3c4\\uc6c0X\"], [\"\\ub3c4\\uc6c0O\"], [\"\\ub3c4\\uc6c0X\"], [\"\\ub3c4\\uc6c0X\"], [\"\\ub3c4\\uc6c0X\"], [\"\\ub3c4\\uc6c0X\"], [\"\\ub3c4\\uc6c0X\"], [\"\\ub3c4\\uc6c0X\"], [\"\\ub3c4\\uc6c0X\"], [\"\\ub3c4\\uc6c0O\"], [\"\\ub3c4\\uc6c0X\"], [\"\\ub3c4\\uc6c0O\"], [\"\\ub3c4\\uc6c0X\"], [\"\\ub3c4\\uc6c0X\"], [\"\\ub3c4\\uc6c0X\"], [\"\\ub3c4\\uc6c0O\"], [\"\\ub3c4\\uc6c0X\"], [\"\\ub3c4\\uc6c0O\"], [\"\\ub3c4\\uc6c0X\"], [\"\\ub3c4\\uc6c0O\"], [\"\\ub3c4\\uc6c0X\"], [\"\\ub3c4\\uc6c0X\"], [\"\\ub3c4\\uc6c0X\"], [\"\\ub3c4\\uc6c0X\"], [\"\\ub3c4\\uc6c0X\"], [\"\\ub3c4\\uc6c0X\"], [\"\\ub3c4\\uc6c0O\"], [\"\\ub3c4\\uc6c0X\"], [\"\\ub3c4\\uc6c0X\"], [\"\\ub3c4\\uc6c0X\"], [\"\\ub3c4\\uc6c0X\"], [\"\\ub3c4\\uc6c0X\"], [\"\\ub3c4\\uc6c0X\"], [\"\\ub3c4\\uc6c0X\"], [\"\\ub3c4\\uc6c0O\"], [\"\\ub3c4\\uc6c0O\"], [\"\\ub3c4\\uc6c0X\"], [\"\\ub3c4\\uc6c0X\"], [\"\\ub3c4\\uc6c0X\"], [\"\\ub3c4\\uc6c0X\"], [\"\\ub3c4\\uc6c0O\"], [\"\\ub3c4\\uc6c0O\"], [\"\\ub3c4\\uc6c0O\"], [\"\\ub3c4\\uc6c0O\"], [\"\\ub3c4\\uc6c0O\"], [\"\\ub3c4\\uc6c0O\"], [\"\\ub3c4\\uc6c0X\"], [\"\\ub3c4\\uc6c0X\"], [\"\\ub3c4\\uc6c0O\"], [\"\\ub3c4\\uc6c0X\"], [\"\\ub3c4\\uc6c0X\"], [\"\\ub3c4\\uc6c0X\"], [\"\\ub3c4\\uc6c0X\"], [\"\\ub3c4\\uc6c0X\"], [\"\\ub3c4\\uc6c0X\"], [\"\\ub3c4\\uc6c0X\"], [\"\\ub3c4\\uc6c0O\"], [\"\\ub3c4\\uc6c0O\"], [\"\\ub3c4\\uc6c0X\"], [\"\\ub3c4\\uc6c0X\"], [\"\\ub3c4\\uc6c0X\"], [\"\\ub3c4\\uc6c0X\"], [\"\\ub3c4\\uc6c0X\"], [\"\\ub3c4\\uc6c0X\"], [\"\\ub3c4\\uc6c0X\"], [\"\\ub3c4\\uc6c0X\"], [\"\\ub3c4\\uc6c0X\"], [\"\\ub3c4\\uc6c0O\"], [\"\\ub3c4\\uc6c0O\"], [\"\\ub3c4\\uc6c0X\"], [\"\\ub3c4\\uc6c0X\"], [\"\\ub3c4\\uc6c0X\"], [\"\\ub3c4\\uc6c0X\"], [\"\\ub3c4\\uc6c0X\"], [\"\\ub3c4\\uc6c0O\"], [\"\\ub3c4\\uc6c0X\"], [\"\\ub3c4\\uc6c0X\"], [\"\\ub3c4\\uc6c0O\"], [\"\\ub3c4\\uc6c0O\"], [\"\\ub3c4\\uc6c0O\"], [\"\\ub3c4\\uc6c0X\"], [\"\\ub3c4\\uc6c0O\"], [\"\\ub3c4\\uc6c0X\"], [\"\\ub3c4\\uc6c0X\"], [\"\\ub3c4\\uc6c0X\"], [\"\\ub3c4\\uc6c0X\"], [\"\\ub3c4\\uc6c0X\"], [\"\\ub3c4\\uc6c0O\"], [\"\\ub3c4\\uc6c0X\"], [\"\\ub3c4\\uc6c0X\"], [\"\\ub3c4\\uc6c0X\"], [\"\\ub3c4\\uc6c0O\"], [\"\\ub3c4\\uc6c0X\"], [\"\\ub3c4\\uc6c0X\"], [\"\\ub3c4\\uc6c0O\"], [\"\\ub3c4\\uc6c0X\"], [\"\\ub3c4\\uc6c0X\"], [\"\\ub3c4\\uc6c0X\"], [\"\\ub3c4\\uc6c0X\"], [\"\\ub3c4\\uc6c0X\"], [\"\\ub3c4\\uc6c0X\"], [\"\\ub3c4\\uc6c0X\"], [\"\\ub3c4\\uc6c0O\"], [\"\\ub3c4\\uc6c0X\"], [\"\\ub3c4\\uc6c0O\"], [\"\\ub3c4\\uc6c0O\"], [\"\\ub3c4\\uc6c0X\"], [\"\\ub3c4\\uc6c0X\"], [\"\\ub3c4\\uc6c0X\"], [\"\\ub3c4\\uc6c0X\"], [\"\\ub3c4\\uc6c0O\"], [\"\\ub3c4\\uc6c0X\"], [\"\\ub3c4\\uc6c0X\"], [\"\\ub3c4\\uc6c0O\"], [\"\\ub3c4\\uc6c0X\"], [\"\\ub3c4\\uc6c0X\"], [\"\\ub3c4\\uc6c0O\"], [\"\\ub3c4\\uc6c0X\"], [\"\\ub3c4\\uc6c0X\"], [\"\\ub3c4\\uc6c0X\"], [\"\\ub3c4\\uc6c0O\"], [\"\\ub3c4\\uc6c0X\"], [\"\\ub3c4\\uc6c0X\"], [\"\\ub3c4\\uc6c0X\"], [\"\\ub3c4\\uc6c0O\"], [\"\\ub3c4\\uc6c0O\"], [\"\\ub3c4\\uc6c0X\"], [\"\\ub3c4\\uc6c0X\"], [\"\\ub3c4\\uc6c0X\"], [\"\\ub3c4\\uc6c0O\"], [\"\\ub3c4\\uc6c0X\"], [\"\\ub3c4\\uc6c0X\"], [\"\\ub3c4\\uc6c0X\"], [\"\\ub3c4\\uc6c0O\"], [\"\\ub3c4\\uc6c0X\"], [\"\\ub3c4\\uc6c0X\"], [\"\\ub3c4\\uc6c0X\"], [\"\\ub3c4\\uc6c0O\"], [\"\\ub3c4\\uc6c0X\"], [\"\\ub3c4\\uc6c0X\"], [\"\\ub3c4\\uc6c0X\"], [\"\\ub3c4\\uc6c0X\"], [\"\\ub3c4\\uc6c0X\"], [\"\\ub3c4\\uc6c0X\"], [\"\\ub3c4\\uc6c0X\"], [\"\\ub3c4\\uc6c0X\"], [\"\\ub3c4\\uc6c0X\"], [\"\\ub3c4\\uc6c0O\"], [\"\\ub3c4\\uc6c0X\"], [\"\\ub3c4\\uc6c0X\"], [\"\\ub3c4\\uc6c0X\"], [\"\\ub3c4\\uc6c0X\"], [\"\\ub3c4\\uc6c0X\"], [\"\\ub3c4\\uc6c0X\"], [\"\\ub3c4\\uc6c0X\"], [\"\\ub3c4\\uc6c0O\"], [\"\\ub3c4\\uc6c0O\"], [\"\\ub3c4\\uc6c0O\"], [\"\\ub3c4\\uc6c0X\"], [\"\\ub3c4\\uc6c0X\"], [\"\\ub3c4\\uc6c0O\"], [\"\\ub3c4\\uc6c0X\"], [\"\\ub3c4\\uc6c0X\"], [\"\\ub3c4\\uc6c0X\"], [\"\\ub3c4\\uc6c0X\"], [\"\\ub3c4\\uc6c0X\"], [\"\\ub3c4\\uc6c0O\"], [\"\\ub3c4\\uc6c0O\"], [\"\\ub3c4\\uc6c0O\"], [\"\\ub3c4\\uc6c0O\"], [\"\\ub3c4\\uc6c0X\"], [\"\\ub3c4\\uc6c0X\"], [\"\\ub3c4\\uc6c0X\"], [\"\\ub3c4\\uc6c0O\"], [\"\\ub3c4\\uc6c0O\"], [\"\\ub3c4\\uc6c0X\"], [\"\\ub3c4\\uc6c0X\"], [\"\\ub3c4\\uc6c0X\"], [\"\\ub3c4\\uc6c0X\"], [\"\\ub3c4\\uc6c0X\"], [\"\\ub3c4\\uc6c0O\"], [\"\\ub3c4\\uc6c0X\"], [\"\\ub3c4\\uc6c0X\"], [\"\\ub3c4\\uc6c0O\"], [\"\\ub3c4\\uc6c0X\"], [\"\\ub3c4\\uc6c0X\"], [\"\\ub3c4\\uc6c0X\"], [\"\\ub3c4\\uc6c0X\"], [\"\\ub3c4\\uc6c0O\"], [\"\\ub3c4\\uc6c0O\"], [\"\\ub3c4\\uc6c0X\"], [\"\\ub3c4\\uc6c0X\"], [\"\\ub3c4\\uc6c0O\"], [\"\\ub3c4\\uc6c0O\"], [\"\\ub3c4\\uc6c0X\"], [\"\\ub3c4\\uc6c0O\"], [\"\\ub3c4\\uc6c0X\"], [\"\\ub3c4\\uc6c0O\"], [\"\\ub3c4\\uc6c0O\"], [\"\\ub3c4\\uc6c0O\"], [\"\\ub3c4\\uc6c0O\"], [\"\\ub3c4\\uc6c0O\"], [\"\\ub3c4\\uc6c0X\"], [\"\\ub3c4\\uc6c0O\"], [\"\\ub3c4\\uc6c0X\"], [\"\\ub3c4\\uc6c0O\"], [\"\\ub3c4\\uc6c0X\"], [\"\\ub3c4\\uc6c0X\"], [\"\\ub3c4\\uc6c0X\"], [\"\\ub3c4\\uc6c0X\"], [\"\\ub3c4\\uc6c0O\"], [\"\\ub3c4\\uc6c0X\"], [\"\\ub3c4\\uc6c0O\"], [\"\\ub3c4\\uc6c0X\"], [\"\\ub3c4\\uc6c0X\"], [\"\\ub3c4\\uc6c0O\"], [\"\\ub3c4\\uc6c0X\"], [\"\\ub3c4\\uc6c0X\"], [\"\\ub3c4\\uc6c0X\"], [\"\\ub3c4\\uc6c0X\"], [\"\\ub3c4\\uc6c0X\"], [\"\\ub3c4\\uc6c0O\"], [\"\\ub3c4\\uc6c0O\"], [\"\\ub3c4\\uc6c0X\"], [\"\\ub3c4\\uc6c0X\"], [\"\\ub3c4\\uc6c0O\"], [\"\\ub3c4\\uc6c0X\"], [\"\\ub3c4\\uc6c0O\"], [\"\\ub3c4\\uc6c0O\"], [\"\\ub3c4\\uc6c0X\"], [\"\\ub3c4\\uc6c0X\"], [\"\\ub3c4\\uc6c0X\"], [\"\\ub3c4\\uc6c0X\"], [\"\\ub3c4\\uc6c0X\"], [\"\\ub3c4\\uc6c0X\"], [\"\\ub3c4\\uc6c0X\"], [\"\\ub3c4\\uc6c0X\"], [\"\\ub3c4\\uc6c0X\"], [\"\\ub3c4\\uc6c0O\"], [\"\\ub3c4\\uc6c0X\"], [\"\\ub3c4\\uc6c0O\"], [\"\\ub3c4\\uc6c0O\"], [\"\\ub3c4\\uc6c0X\"], [\"\\ub3c4\\uc6c0X\"], [\"\\ub3c4\\uc6c0X\"], [\"\\ub3c4\\uc6c0X\"], [\"\\ub3c4\\uc6c0O\"], [\"\\ub3c4\\uc6c0X\"], [\"\\ub3c4\\uc6c0X\"], [\"\\ub3c4\\uc6c0X\"], [\"\\ub3c4\\uc6c0X\"], [\"\\ub3c4\\uc6c0O\"], [\"\\ub3c4\\uc6c0X\"], [\"\\ub3c4\\uc6c0X\"], [\"\\ub3c4\\uc6c0O\"], [\"\\ub3c4\\uc6c0X\"], [\"\\ub3c4\\uc6c0X\"], [\"\\ub3c4\\uc6c0O\"], [\"\\ub3c4\\uc6c0X\"], [\"\\ub3c4\\uc6c0X\"]], \"hovertemplate\": \"attitude=\\uae0d\\uc815<br>\\uc608\\uce21=%{x}<br>length=%{y}<br>\\uc2e4\\uc81c=%{customdata[0]}<extra></extra>\", \"legendgroup\": \"\\uae0d\\uc815\", \"marker\": {\"color\": \"#636efa\", \"symbol\": \"circle\"}, \"mode\": \"markers\", \"name\": \"\\uae0d\\uc815\", \"orientation\": \"v\", \"showlegend\": true, \"type\": \"scatter\", \"x\": [0.77, 0.09, 0.56, 0.06, 0.06, 0.84, 0.02, 0.02, 0.01, 0.4, 0.62, 0.59, 0.92, 0.04, 0.03, 0.77, 0.15, 0.02, 0.01, 0.13, 0.65, 0.11, 0.72, 0.07, 0.31, 0.76, 0.02, 0.03, 0.08, 0.08, 0.13, 0.89, 0.02, 0.83, 0.9, 0.17, 0.07, 0.61, 0.01, 0.06, 0.23, 0.11, 0.29, 0.18, 0.01, 0.02, 0.43, 0.84, 0.04, 0.06, 0.89, 0.2, 0.11, 0.8, 0.14, 0.33, 0.32, 0.73, 0.15, 0.31, 0.5, 0.28, 0.51, 0.06, 0.17, 0.03, 0.17, 0.27, 0.51, 0.4, 0.04, 0.13, 0.06, 0.09, 0.05, 0.26, 0.57, 0.02, 0.17, 0.96, 0.16, 0.13, 0.11, 0.11, 0.7, 0.0, 0.08, 0.09, 0.89, 0.27, 0.07, 0.96, 0.06, 0.07, 0.62, 0.02, 0.47, 0.08, 0.02, 0.18, 0.6, 0.04, 0.06, 0.02, 0.64, 0.03, 0.51, 0.04, 0.3, 0.02, 0.67, 0.02, 0.67, 0.02, 0.44, 0.03, 0.23, 0.06, 0.05, 0.14, 0.09, 0.97, 0.04, 0.03, 0.43, 0.06, 0.04, 0.06, 0.05, 0.61, 0.55, 0.05, 0.02, 0.02, 0.04, 0.81, 0.96, 0.29, 0.93, 0.79, 0.53, 0.04, 0.03, 0.7, 0.2, 0.15, 0.03, 0.05, 0.04, 0.36, 0.1, 0.88, 0.56, 0.04, 0.11, 0.05, 0.4, 0.59, 0.05, 0.03, 0.05, 0.01, 0.97, 0.85, 0.01, 0.39, 0.09, 0.33, 0.03, 0.48, 0.03, 0.08, 0.88, 0.83, 0.37, 0.14, 0.97, 0.09, 0.69, 0.06, 0.02, 0.19, 0.79, 0.08, 0.07, 0.53, 0.29, 0.17, 0.48, 0.59, 0.02, 0.13, 0.07, 0.02, 0.3, 0.01, 0.16, 0.37, 0.03, 0.69, 0.99, 0.03, 0.03, 0.03, 0.01, 0.78, 0.1, 0.03, 0.99, 0.07, 0.28, 0.3, 0.02, 0.8, 0.02, 0.95, 0.02, 0.02, 0.22, 0.68, 0.4, 0.05, 0.05, 0.48, 0.79, 0.07, 0.07, 0.04, 0.38, 0.03, 0.09, 0.37, 0.85, 0.02, 0.36, 0.23, 0.43, 0.02, 0.01, 0.01, 0.08, 0.08, 0.41, 0.02, 0.3, 0.04, 0.07, 0.01, 0.32, 0.03, 0.41, 0.5, 0.49, 0.06, 0.71, 0.72, 0.5, 0.04, 0.13, 0.22, 0.02, 0.98, 0.89, 0.61, 0.81, 0.03, 0.04, 0.42, 0.9, 0.27, 0.13, 0.31, 0.39, 0.08, 0.14, 0.99, 0.04, 0.59, 0.81, 0.03, 0.12, 0.0, 0.2, 0.93, 0.91, 0.06, 0.23, 0.1, 0.84, 0.01, 0.88, 0.06, 0.47, 0.38, 0.58, 0.46, 0.69, 0.06, 0.25, 0.58, 0.56, 0.47, 0.23, 0.3, 0.02, 0.73, 0.19, 0.98, 0.33, 0.01, 0.73, 0.06, 0.32, 0.1, 0.14, 0.36, 0.77, 0.96, 0.03, 0.02, 0.5, 0.05, 0.99, 0.71, 0.07, 0.13, 0.07, 0.47, 0.22, 0.05, 0.03, 0.15, 0.45, 0.79, 0.16, 0.95, 0.8, 0.02, 0.04, 0.26, 0.04, 0.34, 0.33, 0.02, 0.67, 0.03, 0.65, 0.31, 0.08, 0.86, 0.08, 0.06, 0.99, 0.51, 0.16], \"xaxis\": \"x3\", \"y\": [49, 11, 41, 11, 10, 71, 5, 5, 5, 100, 44, 28, 98, 7, 6, 78, 16, 5, 3, 12, 55, 14, 38, 8, 18, 73, 5, 8, 13, 13, 14, 92, 6, 79, 62, 17, 10, 39, 4, 11, 17, 14, 35, 23, 5, 6, 64, 191, 8, 10, 83, 12, 14, 83, 23, 19, 21, 38, 15, 18, 30, 28, 34, 9, 16, 6, 13, 22, 61, 24, 8, 14, 9, 13, 8, 20, 44, 5, 13, 104, 11, 16, 15, 15, 87, 5, 11, 12, 153, 20, 10, 89, 9, 10, 36, 5, 32, 8, 5, 17, 38, 7, 9, 5, 42, 7, 28, 9, 23, 5, 28, 5, 52, 5, 31, 6, 29, 10, 8, 15, 13, 86, 9, 6, 57, 12, 11, 9, 8, 30, 30, 8, 5, 5, 10, 114, 198, 19, 344, 66, 35, 8, 6, 44, 16, 16, 7, 9, 8, 25, 10, 285, 39, 9, 14, 10, 24, 35, 10, 6, 10, 5, 190, 56, 5, 25, 11, 24, 6, 62, 6, 12, 42, 99, 21, 14, 228, 12, 38, 11, 5, 21, 63, 12, 11, 30, 22, 18, 104, 61, 6, 13, 10, 5, 139, 4, 19, 22, 6, 214, 173, 7, 6, 8, 4, 137, 12, 6, 177, 12, 32, 22, 5, 79, 5, 79, 5, 5, 24, 59, 26, 8, 8, 28, 47, 6, 10, 7, 22, 8, 10, 29, 86, 5, 24, 14, 43, 5, 4, 3, 11, 12, 30, 5, 21, 9, 10, 3, 33, 6, 36, 24, 23, 10, 63, 36, 31, 7, 17, 16, 5, 117, 94, 36, 127, 6, 8, 24, 110, 17, 13, 16, 35, 11, 20, 143, 8, 39, 143, 6, 14, 2, 16, 110, 73, 10, 28, 13, 39, 5, 204, 9, 24, 28, 27, 36, 59, 13, 28, 63, 23, 43, 28, 30, 5, 84, 23, 162, 26, 3, 54, 11, 16, 13, 15, 27, 46, 104, 7, 5, 50, 10, 125, 62, 10, 17, 10, 24, 22, 8, 9, 24, 43, 77, 29, 124, 68, 5, 7, 18, 8, 64, 30, 5, 57, 6, 74, 38, 11, 103, 11, 11, 231, 35, 11], \"yaxis\": \"y3\"}, {\"customdata\": [[\"\\ub3c4\\uc6c0O\"], [\"\\ub3c4\\uc6c0X\"], [\"\\ub3c4\\uc6c0O\"], [\"\\ub3c4\\uc6c0O\"], [\"\\ub3c4\\uc6c0O\"], [\"\\ub3c4\\uc6c0O\"], [\"\\ub3c4\\uc6c0X\"], [\"\\ub3c4\\uc6c0X\"], [\"\\ub3c4\\uc6c0X\"], [\"\\ub3c4\\uc6c0X\"], [\"\\ub3c4\\uc6c0O\"], [\"\\ub3c4\\uc6c0O\"], [\"\\ub3c4\\uc6c0O\"], [\"\\ub3c4\\uc6c0O\"], [\"\\ub3c4\\uc6c0O\"], [\"\\ub3c4\\uc6c0O\"], [\"\\ub3c4\\uc6c0X\"], [\"\\ub3c4\\uc6c0O\"], [\"\\ub3c4\\uc6c0X\"], [\"\\ub3c4\\uc6c0O\"], [\"\\ub3c4\\uc6c0O\"], [\"\\ub3c4\\uc6c0X\"], [\"\\ub3c4\\uc6c0O\"], [\"\\ub3c4\\uc6c0O\"], [\"\\ub3c4\\uc6c0O\"], [\"\\ub3c4\\uc6c0X\"], [\"\\ub3c4\\uc6c0X\"], [\"\\ub3c4\\uc6c0O\"], [\"\\ub3c4\\uc6c0O\"], [\"\\ub3c4\\uc6c0X\"], [\"\\ub3c4\\uc6c0O\"], [\"\\ub3c4\\uc6c0O\"], [\"\\ub3c4\\uc6c0O\"], [\"\\ub3c4\\uc6c0O\"], [\"\\ub3c4\\uc6c0O\"], [\"\\ub3c4\\uc6c0X\"], [\"\\ub3c4\\uc6c0O\"], [\"\\ub3c4\\uc6c0O\"], [\"\\ub3c4\\uc6c0X\"], [\"\\ub3c4\\uc6c0X\"], [\"\\ub3c4\\uc6c0X\"], [\"\\ub3c4\\uc6c0O\"], [\"\\ub3c4\\uc6c0O\"], [\"\\ub3c4\\uc6c0O\"], [\"\\ub3c4\\uc6c0O\"], [\"\\ub3c4\\uc6c0O\"], [\"\\ub3c4\\uc6c0O\"], [\"\\ub3c4\\uc6c0O\"], [\"\\ub3c4\\uc6c0O\"], [\"\\ub3c4\\uc6c0O\"], [\"\\ub3c4\\uc6c0O\"], [\"\\ub3c4\\uc6c0X\"], [\"\\ub3c4\\uc6c0X\"], [\"\\ub3c4\\uc6c0O\"], [\"\\ub3c4\\uc6c0X\"], [\"\\ub3c4\\uc6c0O\"], [\"\\ub3c4\\uc6c0O\"], [\"\\ub3c4\\uc6c0X\"], [\"\\ub3c4\\uc6c0X\"], [\"\\ub3c4\\uc6c0O\"], [\"\\ub3c4\\uc6c0O\"], [\"\\ub3c4\\uc6c0X\"], [\"\\ub3c4\\uc6c0O\"], [\"\\ub3c4\\uc6c0O\"], [\"\\ub3c4\\uc6c0X\"], [\"\\ub3c4\\uc6c0X\"], [\"\\ub3c4\\uc6c0O\"], [\"\\ub3c4\\uc6c0O\"], [\"\\ub3c4\\uc6c0O\"], [\"\\ub3c4\\uc6c0X\"], [\"\\ub3c4\\uc6c0O\"], [\"\\ub3c4\\uc6c0X\"], [\"\\ub3c4\\uc6c0O\"], [\"\\ub3c4\\uc6c0O\"], [\"\\ub3c4\\uc6c0O\"], [\"\\ub3c4\\uc6c0O\"], [\"\\ub3c4\\uc6c0O\"], [\"\\ub3c4\\uc6c0X\"], [\"\\ub3c4\\uc6c0O\"], [\"\\ub3c4\\uc6c0O\"], [\"\\ub3c4\\uc6c0X\"], [\"\\ub3c4\\uc6c0O\"], [\"\\ub3c4\\uc6c0X\"], [\"\\ub3c4\\uc6c0O\"], [\"\\ub3c4\\uc6c0O\"], [\"\\ub3c4\\uc6c0O\"], [\"\\ub3c4\\uc6c0O\"], [\"\\ub3c4\\uc6c0O\"], [\"\\ub3c4\\uc6c0X\"], [\"\\ub3c4\\uc6c0O\"], [\"\\ub3c4\\uc6c0O\"], [\"\\ub3c4\\uc6c0O\"], [\"\\ub3c4\\uc6c0O\"], [\"\\ub3c4\\uc6c0O\"], [\"\\ub3c4\\uc6c0X\"], [\"\\ub3c4\\uc6c0X\"], [\"\\ub3c4\\uc6c0X\"], [\"\\ub3c4\\uc6c0O\"], [\"\\ub3c4\\uc6c0O\"], [\"\\ub3c4\\uc6c0X\"], [\"\\ub3c4\\uc6c0O\"]], \"hovertemplate\": \"attitude=\\uc911\\ub9bd<br>\\uc608\\uce21=%{x}<br>length=%{y}<br>\\uc2e4\\uc81c=%{customdata[0]}<extra></extra>\", \"legendgroup\": \"\\uc911\\ub9bd\", \"marker\": {\"color\": \"#EF553B\", \"symbol\": \"circle\"}, \"mode\": \"markers\", \"name\": \"\\uc911\\ub9bd\", \"orientation\": \"v\", \"showlegend\": true, \"type\": \"scatter\", \"x\": [0.48, 0.19, 0.81, 0.73, 0.49, 0.3, 0.75, 0.02, 0.01, 0.07, 0.97, 0.97, 0.95, 1.0, 0.88, 0.81, 0.17, 0.86, 0.02, 0.88, 0.94, 0.05, 0.99, 0.98, 0.7, 0.03, 0.97, 0.4, 0.98, 0.02, 0.19, 0.96, 0.63, 0.8, 0.94, 0.54, 0.39, 0.7, 0.36, 0.02, 0.26, 0.63, 0.32, 0.98, 0.88, 0.87, 0.95, 0.8, 0.93, 0.97, 0.6, 0.55, 0.24, 0.47, 0.33, 0.67, 0.95, 0.03, 0.73, 0.92, 0.71, 0.79, 0.49, 0.99, 0.34, 0.32, 0.79, 0.97, 0.58, 0.11, 0.31, 0.32, 0.89, 0.94, 0.94, 0.92, 0.97, 0.02, 0.61, 0.58, 0.41, 0.55, 0.8, 1.0, 0.25, 0.32, 0.99, 0.98, 0.01, 0.64, 0.98, 0.95, 0.41, 0.89, 0.02, 0.02, 0.88, 0.98, 0.99, 0.04, 0.95], \"xaxis\": \"x2\", \"y\": [37, 18, 56, 48, 23, 20, 104, 5, 3, 7, 166, 70, 105, 252, 70, 53, 16, 171, 5, 142, 71, 7, 156, 106, 37, 6, 123, 27, 157, 5, 23, 68, 35, 114, 102, 43, 18, 33, 14, 5, 25, 34, 19, 153, 88, 66, 137, 50, 103, 120, 31, 25, 14, 30, 23, 92, 136, 6, 66, 77, 71, 41, 37, 155, 25, 22, 41, 93, 34, 12, 20, 21, 64, 99, 74, 137, 293, 5, 51, 38, 47, 20, 38, 112, 37, 24, 206, 202, 3, 29, 157, 143, 18, 49, 5, 5, 97, 174, 196, 8, 113], \"yaxis\": \"y2\"}, {\"customdata\": [[\"\\ub3c4\\uc6c0O\"], [\"\\ub3c4\\uc6c0O\"], [\"\\ub3c4\\uc6c0O\"], [\"\\ub3c4\\uc6c0O\"], [\"\\ub3c4\\uc6c0O\"], [\"\\ub3c4\\uc6c0O\"], [\"\\ub3c4\\uc6c0O\"], [\"\\ub3c4\\uc6c0O\"], [\"\\ub3c4\\uc6c0O\"], [\"\\ub3c4\\uc6c0X\"], [\"\\ub3c4\\uc6c0O\"], [\"\\ub3c4\\uc6c0O\"], [\"\\ub3c4\\uc6c0O\"], [\"\\ub3c4\\uc6c0O\"], [\"\\ub3c4\\uc6c0O\"], [\"\\ub3c4\\uc6c0O\"], [\"\\ub3c4\\uc6c0O\"], [\"\\ub3c4\\uc6c0O\"], [\"\\ub3c4\\uc6c0O\"], [\"\\ub3c4\\uc6c0O\"], [\"\\ub3c4\\uc6c0O\"], [\"\\ub3c4\\uc6c0O\"], [\"\\ub3c4\\uc6c0X\"], [\"\\ub3c4\\uc6c0O\"], [\"\\ub3c4\\uc6c0O\"], [\"\\ub3c4\\uc6c0X\"]], \"hovertemplate\": \"attitude=\\ubd80\\uc815<br>\\uc608\\uce21=%{x}<br>length=%{y}<br>\\uc2e4\\uc81c=%{customdata[0]}<extra></extra>\", \"legendgroup\": \"\\ubd80\\uc815\", \"marker\": {\"color\": \"#00cc96\", \"symbol\": \"circle\"}, \"mode\": \"markers\", \"name\": \"\\ubd80\\uc815\", \"orientation\": \"v\", \"showlegend\": true, \"type\": \"scatter\", \"x\": [0.99, 0.85, 0.92, 0.91, 0.99, 0.93, 0.9, 0.98, 0.79, 0.41, 0.96, 0.98, 0.86, 0.96, 0.99, 0.89, 0.93, 0.82, 0.92, 0.64, 0.47, 0.91, 0.82, 0.73, 0.85, 0.18], \"xaxis\": \"x\", \"y\": [226, 125, 125, 177, 197, 103, 71, 150, 77, 48, 181, 144, 103, 116, 205, 193, 114, 85, 117, 35, 20, 84, 162, 46, 86, 11], \"yaxis\": \"y\"}],                        {\"annotations\": [{\"font\": {}, \"showarrow\": false, \"text\": \"attitude=\\ubd80\\uc815\", \"textangle\": 90, \"x\": 0.98, \"xanchor\": \"left\", \"xref\": \"paper\", \"y\": 0.15666666666666665, \"yanchor\": \"middle\", \"yref\": \"paper\"}, {\"font\": {}, \"showarrow\": false, \"text\": \"attitude=\\uc911\\ub9bd\", \"textangle\": 90, \"x\": 0.98, \"xanchor\": \"left\", \"xref\": \"paper\", \"y\": 0.4999999999999999, \"yanchor\": \"middle\", \"yref\": \"paper\"}, {\"font\": {}, \"showarrow\": false, \"text\": \"attitude=\\uae0d\\uc815\", \"textangle\": 90, \"x\": 0.98, \"xanchor\": \"left\", \"xref\": \"paper\", \"y\": 0.8433333333333332, \"yanchor\": \"middle\", \"yref\": \"paper\"}], \"legend\": {\"title\": {\"text\": \"attitude\"}, \"tracegroupgap\": 0}, \"margin\": {\"t\": 60}, \"template\": {\"data\": {\"bar\": [{\"error_x\": {\"color\": \"#2a3f5f\"}, \"error_y\": {\"color\": \"#2a3f5f\"}, \"marker\": {\"line\": {\"color\": \"#E5ECF6\", \"width\": 0.5}}, \"type\": \"bar\"}], \"barpolar\": [{\"marker\": {\"line\": {\"color\": \"#E5ECF6\", \"width\": 0.5}}, \"type\": \"barpolar\"}], \"carpet\": [{\"aaxis\": {\"endlinecolor\": \"#2a3f5f\", \"gridcolor\": \"white\", \"linecolor\": \"white\", \"minorgridcolor\": \"white\", \"startlinecolor\": \"#2a3f5f\"}, \"baxis\": {\"endlinecolor\": \"#2a3f5f\", \"gridcolor\": \"white\", \"linecolor\": \"white\", \"minorgridcolor\": \"white\", \"startlinecolor\": \"#2a3f5f\"}, \"type\": \"carpet\"}], \"choropleth\": [{\"colorbar\": {\"outlinewidth\": 0, \"ticks\": \"\"}, \"type\": \"choropleth\"}], \"contour\": [{\"colorbar\": {\"outlinewidth\": 0, \"ticks\": \"\"}, \"colorscale\": [[0.0, \"#0d0887\"], [0.1111111111111111, \"#46039f\"], [0.2222222222222222, \"#7201a8\"], [0.3333333333333333, \"#9c179e\"], [0.4444444444444444, \"#bd3786\"], [0.5555555555555556, \"#d8576b\"], [0.6666666666666666, \"#ed7953\"], [0.7777777777777778, \"#fb9f3a\"], [0.8888888888888888, \"#fdca26\"], [1.0, \"#f0f921\"]], \"type\": \"contour\"}], \"contourcarpet\": [{\"colorbar\": {\"outlinewidth\": 0, \"ticks\": \"\"}, \"type\": \"contourcarpet\"}], \"heatmap\": [{\"colorbar\": {\"outlinewidth\": 0, \"ticks\": \"\"}, \"colorscale\": [[0.0, \"#0d0887\"], [0.1111111111111111, \"#46039f\"], [0.2222222222222222, \"#7201a8\"], [0.3333333333333333, \"#9c179e\"], [0.4444444444444444, \"#bd3786\"], [0.5555555555555556, \"#d8576b\"], [0.6666666666666666, \"#ed7953\"], [0.7777777777777778, \"#fb9f3a\"], [0.8888888888888888, \"#fdca26\"], [1.0, \"#f0f921\"]], \"type\": \"heatmap\"}], \"heatmapgl\": [{\"colorbar\": {\"outlinewidth\": 0, \"ticks\": \"\"}, \"colorscale\": [[0.0, \"#0d0887\"], [0.1111111111111111, \"#46039f\"], [0.2222222222222222, \"#7201a8\"], [0.3333333333333333, \"#9c179e\"], [0.4444444444444444, \"#bd3786\"], [0.5555555555555556, \"#d8576b\"], [0.6666666666666666, \"#ed7953\"], [0.7777777777777778, \"#fb9f3a\"], [0.8888888888888888, \"#fdca26\"], [1.0, \"#f0f921\"]], \"type\": \"heatmapgl\"}], \"histogram\": [{\"marker\": {\"colorbar\": {\"outlinewidth\": 0, \"ticks\": \"\"}}, \"type\": \"histogram\"}], \"histogram2d\": [{\"colorbar\": {\"outlinewidth\": 0, \"ticks\": \"\"}, \"colorscale\": [[0.0, \"#0d0887\"], [0.1111111111111111, \"#46039f\"], [0.2222222222222222, \"#7201a8\"], [0.3333333333333333, \"#9c179e\"], [0.4444444444444444, \"#bd3786\"], [0.5555555555555556, \"#d8576b\"], [0.6666666666666666, \"#ed7953\"], [0.7777777777777778, \"#fb9f3a\"], [0.8888888888888888, \"#fdca26\"], [1.0, \"#f0f921\"]], \"type\": \"histogram2d\"}], \"histogram2dcontour\": [{\"colorbar\": {\"outlinewidth\": 0, \"ticks\": \"\"}, \"colorscale\": [[0.0, \"#0d0887\"], [0.1111111111111111, \"#46039f\"], [0.2222222222222222, \"#7201a8\"], [0.3333333333333333, \"#9c179e\"], [0.4444444444444444, \"#bd3786\"], [0.5555555555555556, \"#d8576b\"], [0.6666666666666666, \"#ed7953\"], [0.7777777777777778, \"#fb9f3a\"], [0.8888888888888888, \"#fdca26\"], [1.0, \"#f0f921\"]], \"type\": \"histogram2dcontour\"}], \"mesh3d\": [{\"colorbar\": {\"outlinewidth\": 0, \"ticks\": \"\"}, \"type\": \"mesh3d\"}], \"parcoords\": [{\"line\": {\"colorbar\": {\"outlinewidth\": 0, \"ticks\": \"\"}}, \"type\": \"parcoords\"}], \"pie\": [{\"automargin\": true, \"type\": \"pie\"}], \"scatter\": [{\"marker\": {\"colorbar\": {\"outlinewidth\": 0, \"ticks\": \"\"}}, \"type\": \"scatter\"}], \"scatter3d\": [{\"line\": {\"colorbar\": {\"outlinewidth\": 0, \"ticks\": \"\"}}, \"marker\": {\"colorbar\": {\"outlinewidth\": 0, \"ticks\": \"\"}}, \"type\": \"scatter3d\"}], \"scattercarpet\": [{\"marker\": {\"colorbar\": {\"outlinewidth\": 0, \"ticks\": \"\"}}, \"type\": \"scattercarpet\"}], \"scattergeo\": [{\"marker\": {\"colorbar\": {\"outlinewidth\": 0, \"ticks\": \"\"}}, \"type\": \"scattergeo\"}], \"scattergl\": [{\"marker\": {\"colorbar\": {\"outlinewidth\": 0, \"ticks\": \"\"}}, \"type\": \"scattergl\"}], \"scattermapbox\": [{\"marker\": {\"colorbar\": {\"outlinewidth\": 0, \"ticks\": \"\"}}, \"type\": \"scattermapbox\"}], \"scatterpolar\": [{\"marker\": {\"colorbar\": {\"outlinewidth\": 0, \"ticks\": \"\"}}, \"type\": \"scatterpolar\"}], \"scatterpolargl\": [{\"marker\": {\"colorbar\": {\"outlinewidth\": 0, \"ticks\": \"\"}}, \"type\": \"scatterpolargl\"}], \"scatterternary\": [{\"marker\": {\"colorbar\": {\"outlinewidth\": 0, \"ticks\": \"\"}}, \"type\": \"scatterternary\"}], \"surface\": [{\"colorbar\": {\"outlinewidth\": 0, \"ticks\": \"\"}, \"colorscale\": [[0.0, \"#0d0887\"], [0.1111111111111111, \"#46039f\"], [0.2222222222222222, \"#7201a8\"], [0.3333333333333333, \"#9c179e\"], [0.4444444444444444, \"#bd3786\"], [0.5555555555555556, \"#d8576b\"], [0.6666666666666666, \"#ed7953\"], [0.7777777777777778, \"#fb9f3a\"], [0.8888888888888888, \"#fdca26\"], [1.0, \"#f0f921\"]], \"type\": \"surface\"}], \"table\": [{\"cells\": {\"fill\": {\"color\": \"#EBF0F8\"}, \"line\": {\"color\": \"white\"}}, \"header\": {\"fill\": {\"color\": \"#C8D4E3\"}, \"line\": {\"color\": \"white\"}}, \"type\": \"table\"}]}, \"layout\": {\"annotationdefaults\": {\"arrowcolor\": \"#2a3f5f\", \"arrowhead\": 0, \"arrowwidth\": 1}, \"coloraxis\": {\"colorbar\": {\"outlinewidth\": 0, \"ticks\": \"\"}}, \"colorscale\": {\"diverging\": [[0, \"#8e0152\"], [0.1, \"#c51b7d\"], [0.2, \"#de77ae\"], [0.3, \"#f1b6da\"], [0.4, \"#fde0ef\"], [0.5, \"#f7f7f7\"], [0.6, \"#e6f5d0\"], [0.7, \"#b8e186\"], [0.8, \"#7fbc41\"], [0.9, \"#4d9221\"], [1, \"#276419\"]], \"sequential\": [[0.0, \"#0d0887\"], [0.1111111111111111, \"#46039f\"], [0.2222222222222222, \"#7201a8\"], [0.3333333333333333, \"#9c179e\"], [0.4444444444444444, \"#bd3786\"], [0.5555555555555556, \"#d8576b\"], [0.6666666666666666, \"#ed7953\"], [0.7777777777777778, \"#fb9f3a\"], [0.8888888888888888, \"#fdca26\"], [1.0, \"#f0f921\"]], \"sequentialminus\": [[0.0, \"#0d0887\"], [0.1111111111111111, \"#46039f\"], [0.2222222222222222, \"#7201a8\"], [0.3333333333333333, \"#9c179e\"], [0.4444444444444444, \"#bd3786\"], [0.5555555555555556, \"#d8576b\"], [0.6666666666666666, \"#ed7953\"], [0.7777777777777778, \"#fb9f3a\"], [0.8888888888888888, \"#fdca26\"], [1.0, \"#f0f921\"]]}, \"colorway\": [\"#636efa\", \"#EF553B\", \"#00cc96\", \"#ab63fa\", \"#FFA15A\", \"#19d3f3\", \"#FF6692\", \"#B6E880\", \"#FF97FF\", \"#FECB52\"], \"font\": {\"color\": \"#2a3f5f\"}, \"geo\": {\"bgcolor\": \"white\", \"lakecolor\": \"white\", \"landcolor\": \"#E5ECF6\", \"showlakes\": true, \"showland\": true, \"subunitcolor\": \"white\"}, \"hoverlabel\": {\"align\": \"left\"}, \"hovermode\": \"closest\", \"mapbox\": {\"style\": \"light\"}, \"paper_bgcolor\": \"white\", \"plot_bgcolor\": \"#E5ECF6\", \"polar\": {\"angularaxis\": {\"gridcolor\": \"white\", \"linecolor\": \"white\", \"ticks\": \"\"}, \"bgcolor\": \"#E5ECF6\", \"radialaxis\": {\"gridcolor\": \"white\", \"linecolor\": \"white\", \"ticks\": \"\"}}, \"scene\": {\"xaxis\": {\"backgroundcolor\": \"#E5ECF6\", \"gridcolor\": \"white\", \"gridwidth\": 2, \"linecolor\": \"white\", \"showbackground\": true, \"ticks\": \"\", \"zerolinecolor\": \"white\"}, \"yaxis\": {\"backgroundcolor\": \"#E5ECF6\", \"gridcolor\": \"white\", \"gridwidth\": 2, \"linecolor\": \"white\", \"showbackground\": true, \"ticks\": \"\", \"zerolinecolor\": \"white\"}, \"zaxis\": {\"backgroundcolor\": \"#E5ECF6\", \"gridcolor\": \"white\", \"gridwidth\": 2, \"linecolor\": \"white\", \"showbackground\": true, \"ticks\": \"\", \"zerolinecolor\": \"white\"}}, \"shapedefaults\": {\"line\": {\"color\": \"#2a3f5f\"}}, \"ternary\": {\"aaxis\": {\"gridcolor\": \"white\", \"linecolor\": \"white\", \"ticks\": \"\"}, \"baxis\": {\"gridcolor\": \"white\", \"linecolor\": \"white\", \"ticks\": \"\"}, \"bgcolor\": \"#E5ECF6\", \"caxis\": {\"gridcolor\": \"white\", \"linecolor\": \"white\", \"ticks\": \"\"}}, \"title\": {\"x\": 0.05}, \"xaxis\": {\"automargin\": true, \"gridcolor\": \"white\", \"linecolor\": \"white\", \"ticks\": \"\", \"title\": {\"standoff\": 15}, \"zerolinecolor\": \"white\", \"zerolinewidth\": 2}, \"yaxis\": {\"automargin\": true, \"gridcolor\": \"white\", \"linecolor\": \"white\", \"ticks\": \"\", \"title\": {\"standoff\": 15}, \"zerolinecolor\": \"white\", \"zerolinewidth\": 2}}}, \"xaxis\": {\"anchor\": \"y\", \"domain\": [0.0, 0.98], \"title\": {\"text\": \"\\uc608\\uce21\"}}, \"xaxis2\": {\"anchor\": \"y2\", \"domain\": [0.0, 0.98], \"matches\": \"x\", \"showticklabels\": false}, \"xaxis3\": {\"anchor\": \"y3\", \"domain\": [0.0, 0.98], \"matches\": \"x\", \"showticklabels\": false}, \"yaxis\": {\"anchor\": \"x\", \"domain\": [0.0, 0.3133333333333333], \"title\": {\"text\": \"length\"}}, \"yaxis2\": {\"anchor\": \"x2\", \"domain\": [0.34333333333333327, 0.6566666666666665], \"matches\": \"y\", \"title\": {\"text\": \"length\"}}, \"yaxis3\": {\"anchor\": \"x3\", \"domain\": [0.6866666666666665, 0.9999999999999998], \"matches\": \"y\", \"title\": {\"text\": \"length\"}}},                        {\"responsive\": true}                    ).then(function(){\n",
       "                            \n",
       "var gd = document.getElementById('a7622e47-e959-4c56-ae32-90ab2fe92bda');\n",
       "var x = new MutationObserver(function (mutations, observer) {{\n",
       "        var display = window.getComputedStyle(gd).display;\n",
       "        if (!display || display === 'none') {{\n",
       "            console.log([gd, 'removed!']);\n",
       "            Plotly.purge(gd);\n",
       "            observer.disconnect();\n",
       "        }}\n",
       "}});\n",
       "\n",
       "// Listen for the removal of the full notebook cells\n",
       "var notebookContainer = gd.closest('#notebook-container');\n",
       "if (notebookContainer) {{\n",
       "    x.observe(notebookContainer, {childList: true});\n",
       "}}\n",
       "\n",
       "// Listen for the clearing of the current output cell\n",
       "var outputEl = gd.closest('.output');\n",
       "if (outputEl) {{\n",
       "    x.observe(outputEl, {childList: true});\n",
       "}}\n",
       "\n",
       "                        })                };                });            </script>        </div>"
      ]
     },
     "metadata": {},
     "output_type": "display_data"
    }
   ],
   "source": [
    "fig = px.scatter(scat, x= '예측', y = 'length', color = \"attitude\",\n",
    "                  facet_row = 'attitude', hover_data = [\"실제\"])\n",
    "#fig.update_traces(hovertemplate = '예측: %{x}% <br>리뷰길이: %{y}')\n",
    "fig.show()\n",
    "#facet_row 는 속성값에 따라 분리해서 scatter plot을 그림"
   ]
  },
  {
   "cell_type": "markdown",
   "metadata": {},
   "source": [
    "# 원형차트"
   ]
  },
  {
   "cell_type": "markdown",
   "metadata": {},
   "source": [
    "## attitude 별 주요 키워드 언급 수"
   ]
  },
  {
   "cell_type": "code",
   "execution_count": 53,
   "metadata": {},
   "outputs": [],
   "source": [
    "df['total'] = df[['위치', '시설', '인테리어',\n",
    "       '청결', '친절', '방음']].sum(axis=1)"
   ]
  },
  {
   "cell_type": "code",
   "execution_count": 54,
   "metadata": {},
   "outputs": [
    {
     "data": {
      "text/html": [
       "<div>\n",
       "<style scoped>\n",
       "    .dataframe tbody tr th:only-of-type {\n",
       "        vertical-align: middle;\n",
       "    }\n",
       "\n",
       "    .dataframe tbody tr th {\n",
       "        vertical-align: top;\n",
       "    }\n",
       "\n",
       "    .dataframe thead th {\n",
       "        text-align: right;\n",
       "    }\n",
       "</style>\n",
       "<table border=\"1\" class=\"dataframe\">\n",
       "  <thead>\n",
       "    <tr style=\"text-align: right;\">\n",
       "      <th></th>\n",
       "      <th>attitude</th>\n",
       "      <th>Category_count</th>\n",
       "      <th>review</th>\n",
       "    </tr>\n",
       "  </thead>\n",
       "  <tbody>\n",
       "    <tr>\n",
       "      <th>1</th>\n",
       "      <td>0</td>\n",
       "      <td>1</td>\n",
       "      <td>87</td>\n",
       "    </tr>\n",
       "    <tr>\n",
       "      <th>2</th>\n",
       "      <td>0</td>\n",
       "      <td>2</td>\n",
       "      <td>31</td>\n",
       "    </tr>\n",
       "    <tr>\n",
       "      <th>3</th>\n",
       "      <td>0</td>\n",
       "      <td>3</td>\n",
       "      <td>5</td>\n",
       "    </tr>\n",
       "    <tr>\n",
       "      <th>4</th>\n",
       "      <td>0</td>\n",
       "      <td>4</td>\n",
       "      <td>1</td>\n",
       "    </tr>\n",
       "    <tr>\n",
       "      <th>17</th>\n",
       "      <td>0</td>\n",
       "      <td>5</td>\n",
       "      <td>0</td>\n",
       "    </tr>\n",
       "    <tr>\n",
       "      <th>18</th>\n",
       "      <td>0</td>\n",
       "      <td>6</td>\n",
       "      <td>0</td>\n",
       "    </tr>\n",
       "    <tr>\n",
       "      <th>6</th>\n",
       "      <td>1</td>\n",
       "      <td>1</td>\n",
       "      <td>151</td>\n",
       "    </tr>\n",
       "    <tr>\n",
       "      <th>7</th>\n",
       "      <td>1</td>\n",
       "      <td>2</td>\n",
       "      <td>122</td>\n",
       "    </tr>\n",
       "    <tr>\n",
       "      <th>8</th>\n",
       "      <td>1</td>\n",
       "      <td>3</td>\n",
       "      <td>64</td>\n",
       "    </tr>\n",
       "    <tr>\n",
       "      <th>9</th>\n",
       "      <td>1</td>\n",
       "      <td>4</td>\n",
       "      <td>20</td>\n",
       "    </tr>\n",
       "    <tr>\n",
       "      <th>10</th>\n",
       "      <td>1</td>\n",
       "      <td>5</td>\n",
       "      <td>4</td>\n",
       "    </tr>\n",
       "    <tr>\n",
       "      <th>19</th>\n",
       "      <td>1</td>\n",
       "      <td>6</td>\n",
       "      <td>0</td>\n",
       "    </tr>\n",
       "    <tr>\n",
       "      <th>12</th>\n",
       "      <td>2</td>\n",
       "      <td>1</td>\n",
       "      <td>483</td>\n",
       "    </tr>\n",
       "    <tr>\n",
       "      <th>13</th>\n",
       "      <td>2</td>\n",
       "      <td>2</td>\n",
       "      <td>332</td>\n",
       "    </tr>\n",
       "    <tr>\n",
       "      <th>14</th>\n",
       "      <td>2</td>\n",
       "      <td>3</td>\n",
       "      <td>101</td>\n",
       "    </tr>\n",
       "    <tr>\n",
       "      <th>15</th>\n",
       "      <td>2</td>\n",
       "      <td>4</td>\n",
       "      <td>26</td>\n",
       "    </tr>\n",
       "    <tr>\n",
       "      <th>16</th>\n",
       "      <td>2</td>\n",
       "      <td>5</td>\n",
       "      <td>3</td>\n",
       "    </tr>\n",
       "    <tr>\n",
       "      <th>20</th>\n",
       "      <td>2</td>\n",
       "      <td>6</td>\n",
       "      <td>0</td>\n",
       "    </tr>\n",
       "  </tbody>\n",
       "</table>\n",
       "</div>"
      ],
      "text/plain": [
       "    attitude Category_count  review\n",
       "1          0              1      87\n",
       "2          0              2      31\n",
       "3          0              3       5\n",
       "4          0              4       1\n",
       "17         0              5       0\n",
       "18         0              6       0\n",
       "6          1              1     151\n",
       "7          1              2     122\n",
       "8          1              3      64\n",
       "9          1              4      20\n",
       "10         1              5       4\n",
       "19         1              6       0\n",
       "12         2              1     483\n",
       "13         2              2     332\n",
       "14         2              3     101\n",
       "15         2              4      26\n",
       "16         2              5       3\n",
       "20         2              6       0"
      ]
     },
     "execution_count": 54,
     "metadata": {},
     "output_type": "execute_result"
    }
   ],
   "source": [
    "pie = df.groupby(['attitude','total']).count().review\n",
    "pie = pie.reset_index()\n",
    "pie.columns = ['attitude','Category_count','review']\n",
    "add = [(0,5,0), (0,6,0),(1,6,0), (2, 6, 0)]\n",
    "add = pd.DataFrame(add, columns = pie.columns)\n",
    "pie = pie.append(add, ignore_index = True)\n",
    "pie = pie.sort_values([\"attitude\", \"Category_count\"])\n",
    "pie = pie[pie[\"Category_count\"]!=0]\n",
    "pie['Category_count'] = pie['Category_count'].map(lambda x : str(x))\n",
    "\n",
    "\n",
    "pie"
   ]
  },
  {
   "cell_type": "markdown",
   "metadata": {},
   "source": [
    "### 부정"
   ]
  },
  {
   "cell_type": "code",
   "execution_count": 55,
   "metadata": {},
   "outputs": [
    {
     "data": {
      "application/vnd.plotly.v1+json": {
       "config": {
        "plotlyServerURL": "https://plot.ly"
       },
       "data": [
        {
         "customdata": [
          [
           "1"
          ],
          [
           "2"
          ],
          [
           "3"
          ],
          [
           "4"
          ],
          [
           "5"
          ],
          [
           "6"
          ]
         ],
         "domain": {
          "x": [
           0,
           1
          ],
          "y": [
           0,
           1
          ]
         },
         "hovertemplate": "포함된 카테고리 수=%{customdata[0]}<br>review=%{value}<extra></extra>",
         "labels": [
          "1",
          "2",
          "3",
          "4",
          "5",
          "6"
         ],
         "legendgroup": "",
         "marker": {
          "line": {
           "color": "black",
           "width": 1
          }
         },
         "name": "",
         "showlegend": true,
         "textfont": {
          "size": 14
         },
         "textinfo": "percent+label",
         "textposition": "inside",
         "type": "pie",
         "values": [
          87,
          31,
          5,
          1,
          0,
          0
         ]
        }
       ],
       "layout": {
        "legend": {
         "tracegroupgap": 0
        },
        "margin": {
         "t": 60
        },
        "piecolorway": [
         "rgb(230, 240, 240)",
         "rgb(191, 221, 229)",
         "rgb(156, 201, 226)",
         "rgb(129, 180, 227)",
         "rgb(115, 154, 228)",
         "rgb(117, 127, 221)",
         "rgb(120, 100, 202)",
         "rgb(119, 74, 175)",
         "rgb(113, 50, 141)",
         "rgb(100, 31, 104)",
         "rgb(80, 20, 66)",
         "rgb(54, 14, 36)"
        ],
        "template": {
         "data": {
          "bar": [
           {
            "error_x": {
             "color": "#2a3f5f"
            },
            "error_y": {
             "color": "#2a3f5f"
            },
            "marker": {
             "line": {
              "color": "#E5ECF6",
              "width": 0.5
             }
            },
            "type": "bar"
           }
          ],
          "barpolar": [
           {
            "marker": {
             "line": {
              "color": "#E5ECF6",
              "width": 0.5
             }
            },
            "type": "barpolar"
           }
          ],
          "carpet": [
           {
            "aaxis": {
             "endlinecolor": "#2a3f5f",
             "gridcolor": "white",
             "linecolor": "white",
             "minorgridcolor": "white",
             "startlinecolor": "#2a3f5f"
            },
            "baxis": {
             "endlinecolor": "#2a3f5f",
             "gridcolor": "white",
             "linecolor": "white",
             "minorgridcolor": "white",
             "startlinecolor": "#2a3f5f"
            },
            "type": "carpet"
           }
          ],
          "choropleth": [
           {
            "colorbar": {
             "outlinewidth": 0,
             "ticks": ""
            },
            "type": "choropleth"
           }
          ],
          "contour": [
           {
            "colorbar": {
             "outlinewidth": 0,
             "ticks": ""
            },
            "colorscale": [
             [
              0,
              "#0d0887"
             ],
             [
              0.1111111111111111,
              "#46039f"
             ],
             [
              0.2222222222222222,
              "#7201a8"
             ],
             [
              0.3333333333333333,
              "#9c179e"
             ],
             [
              0.4444444444444444,
              "#bd3786"
             ],
             [
              0.5555555555555556,
              "#d8576b"
             ],
             [
              0.6666666666666666,
              "#ed7953"
             ],
             [
              0.7777777777777778,
              "#fb9f3a"
             ],
             [
              0.8888888888888888,
              "#fdca26"
             ],
             [
              1,
              "#f0f921"
             ]
            ],
            "type": "contour"
           }
          ],
          "contourcarpet": [
           {
            "colorbar": {
             "outlinewidth": 0,
             "ticks": ""
            },
            "type": "contourcarpet"
           }
          ],
          "heatmap": [
           {
            "colorbar": {
             "outlinewidth": 0,
             "ticks": ""
            },
            "colorscale": [
             [
              0,
              "#0d0887"
             ],
             [
              0.1111111111111111,
              "#46039f"
             ],
             [
              0.2222222222222222,
              "#7201a8"
             ],
             [
              0.3333333333333333,
              "#9c179e"
             ],
             [
              0.4444444444444444,
              "#bd3786"
             ],
             [
              0.5555555555555556,
              "#d8576b"
             ],
             [
              0.6666666666666666,
              "#ed7953"
             ],
             [
              0.7777777777777778,
              "#fb9f3a"
             ],
             [
              0.8888888888888888,
              "#fdca26"
             ],
             [
              1,
              "#f0f921"
             ]
            ],
            "type": "heatmap"
           }
          ],
          "heatmapgl": [
           {
            "colorbar": {
             "outlinewidth": 0,
             "ticks": ""
            },
            "colorscale": [
             [
              0,
              "#0d0887"
             ],
             [
              0.1111111111111111,
              "#46039f"
             ],
             [
              0.2222222222222222,
              "#7201a8"
             ],
             [
              0.3333333333333333,
              "#9c179e"
             ],
             [
              0.4444444444444444,
              "#bd3786"
             ],
             [
              0.5555555555555556,
              "#d8576b"
             ],
             [
              0.6666666666666666,
              "#ed7953"
             ],
             [
              0.7777777777777778,
              "#fb9f3a"
             ],
             [
              0.8888888888888888,
              "#fdca26"
             ],
             [
              1,
              "#f0f921"
             ]
            ],
            "type": "heatmapgl"
           }
          ],
          "histogram": [
           {
            "marker": {
             "colorbar": {
              "outlinewidth": 0,
              "ticks": ""
             }
            },
            "type": "histogram"
           }
          ],
          "histogram2d": [
           {
            "colorbar": {
             "outlinewidth": 0,
             "ticks": ""
            },
            "colorscale": [
             [
              0,
              "#0d0887"
             ],
             [
              0.1111111111111111,
              "#46039f"
             ],
             [
              0.2222222222222222,
              "#7201a8"
             ],
             [
              0.3333333333333333,
              "#9c179e"
             ],
             [
              0.4444444444444444,
              "#bd3786"
             ],
             [
              0.5555555555555556,
              "#d8576b"
             ],
             [
              0.6666666666666666,
              "#ed7953"
             ],
             [
              0.7777777777777778,
              "#fb9f3a"
             ],
             [
              0.8888888888888888,
              "#fdca26"
             ],
             [
              1,
              "#f0f921"
             ]
            ],
            "type": "histogram2d"
           }
          ],
          "histogram2dcontour": [
           {
            "colorbar": {
             "outlinewidth": 0,
             "ticks": ""
            },
            "colorscale": [
             [
              0,
              "#0d0887"
             ],
             [
              0.1111111111111111,
              "#46039f"
             ],
             [
              0.2222222222222222,
              "#7201a8"
             ],
             [
              0.3333333333333333,
              "#9c179e"
             ],
             [
              0.4444444444444444,
              "#bd3786"
             ],
             [
              0.5555555555555556,
              "#d8576b"
             ],
             [
              0.6666666666666666,
              "#ed7953"
             ],
             [
              0.7777777777777778,
              "#fb9f3a"
             ],
             [
              0.8888888888888888,
              "#fdca26"
             ],
             [
              1,
              "#f0f921"
             ]
            ],
            "type": "histogram2dcontour"
           }
          ],
          "mesh3d": [
           {
            "colorbar": {
             "outlinewidth": 0,
             "ticks": ""
            },
            "type": "mesh3d"
           }
          ],
          "parcoords": [
           {
            "line": {
             "colorbar": {
              "outlinewidth": 0,
              "ticks": ""
             }
            },
            "type": "parcoords"
           }
          ],
          "pie": [
           {
            "automargin": true,
            "type": "pie"
           }
          ],
          "scatter": [
           {
            "marker": {
             "colorbar": {
              "outlinewidth": 0,
              "ticks": ""
             }
            },
            "type": "scatter"
           }
          ],
          "scatter3d": [
           {
            "line": {
             "colorbar": {
              "outlinewidth": 0,
              "ticks": ""
             }
            },
            "marker": {
             "colorbar": {
              "outlinewidth": 0,
              "ticks": ""
             }
            },
            "type": "scatter3d"
           }
          ],
          "scattercarpet": [
           {
            "marker": {
             "colorbar": {
              "outlinewidth": 0,
              "ticks": ""
             }
            },
            "type": "scattercarpet"
           }
          ],
          "scattergeo": [
           {
            "marker": {
             "colorbar": {
              "outlinewidth": 0,
              "ticks": ""
             }
            },
            "type": "scattergeo"
           }
          ],
          "scattergl": [
           {
            "marker": {
             "colorbar": {
              "outlinewidth": 0,
              "ticks": ""
             }
            },
            "type": "scattergl"
           }
          ],
          "scattermapbox": [
           {
            "marker": {
             "colorbar": {
              "outlinewidth": 0,
              "ticks": ""
             }
            },
            "type": "scattermapbox"
           }
          ],
          "scatterpolar": [
           {
            "marker": {
             "colorbar": {
              "outlinewidth": 0,
              "ticks": ""
             }
            },
            "type": "scatterpolar"
           }
          ],
          "scatterpolargl": [
           {
            "marker": {
             "colorbar": {
              "outlinewidth": 0,
              "ticks": ""
             }
            },
            "type": "scatterpolargl"
           }
          ],
          "scatterternary": [
           {
            "marker": {
             "colorbar": {
              "outlinewidth": 0,
              "ticks": ""
             }
            },
            "type": "scatterternary"
           }
          ],
          "surface": [
           {
            "colorbar": {
             "outlinewidth": 0,
             "ticks": ""
            },
            "colorscale": [
             [
              0,
              "#0d0887"
             ],
             [
              0.1111111111111111,
              "#46039f"
             ],
             [
              0.2222222222222222,
              "#7201a8"
             ],
             [
              0.3333333333333333,
              "#9c179e"
             ],
             [
              0.4444444444444444,
              "#bd3786"
             ],
             [
              0.5555555555555556,
              "#d8576b"
             ],
             [
              0.6666666666666666,
              "#ed7953"
             ],
             [
              0.7777777777777778,
              "#fb9f3a"
             ],
             [
              0.8888888888888888,
              "#fdca26"
             ],
             [
              1,
              "#f0f921"
             ]
            ],
            "type": "surface"
           }
          ],
          "table": [
           {
            "cells": {
             "fill": {
              "color": "#EBF0F8"
             },
             "line": {
              "color": "white"
             }
            },
            "header": {
             "fill": {
              "color": "#C8D4E3"
             },
             "line": {
              "color": "white"
             }
            },
            "type": "table"
           }
          ]
         },
         "layout": {
          "annotationdefaults": {
           "arrowcolor": "#2a3f5f",
           "arrowhead": 0,
           "arrowwidth": 1
          },
          "coloraxis": {
           "colorbar": {
            "outlinewidth": 0,
            "ticks": ""
           }
          },
          "colorscale": {
           "diverging": [
            [
             0,
             "#8e0152"
            ],
            [
             0.1,
             "#c51b7d"
            ],
            [
             0.2,
             "#de77ae"
            ],
            [
             0.3,
             "#f1b6da"
            ],
            [
             0.4,
             "#fde0ef"
            ],
            [
             0.5,
             "#f7f7f7"
            ],
            [
             0.6,
             "#e6f5d0"
            ],
            [
             0.7,
             "#b8e186"
            ],
            [
             0.8,
             "#7fbc41"
            ],
            [
             0.9,
             "#4d9221"
            ],
            [
             1,
             "#276419"
            ]
           ],
           "sequential": [
            [
             0,
             "#0d0887"
            ],
            [
             0.1111111111111111,
             "#46039f"
            ],
            [
             0.2222222222222222,
             "#7201a8"
            ],
            [
             0.3333333333333333,
             "#9c179e"
            ],
            [
             0.4444444444444444,
             "#bd3786"
            ],
            [
             0.5555555555555556,
             "#d8576b"
            ],
            [
             0.6666666666666666,
             "#ed7953"
            ],
            [
             0.7777777777777778,
             "#fb9f3a"
            ],
            [
             0.8888888888888888,
             "#fdca26"
            ],
            [
             1,
             "#f0f921"
            ]
           ],
           "sequentialminus": [
            [
             0,
             "#0d0887"
            ],
            [
             0.1111111111111111,
             "#46039f"
            ],
            [
             0.2222222222222222,
             "#7201a8"
            ],
            [
             0.3333333333333333,
             "#9c179e"
            ],
            [
             0.4444444444444444,
             "#bd3786"
            ],
            [
             0.5555555555555556,
             "#d8576b"
            ],
            [
             0.6666666666666666,
             "#ed7953"
            ],
            [
             0.7777777777777778,
             "#fb9f3a"
            ],
            [
             0.8888888888888888,
             "#fdca26"
            ],
            [
             1,
             "#f0f921"
            ]
           ]
          },
          "colorway": [
           "#636efa",
           "#EF553B",
           "#00cc96",
           "#ab63fa",
           "#FFA15A",
           "#19d3f3",
           "#FF6692",
           "#B6E880",
           "#FF97FF",
           "#FECB52"
          ],
          "font": {
           "color": "#2a3f5f"
          },
          "geo": {
           "bgcolor": "white",
           "lakecolor": "white",
           "landcolor": "#E5ECF6",
           "showlakes": true,
           "showland": true,
           "subunitcolor": "white"
          },
          "hoverlabel": {
           "align": "left"
          },
          "hovermode": "closest",
          "mapbox": {
           "style": "light"
          },
          "paper_bgcolor": "white",
          "plot_bgcolor": "#E5ECF6",
          "polar": {
           "angularaxis": {
            "gridcolor": "white",
            "linecolor": "white",
            "ticks": ""
           },
           "bgcolor": "#E5ECF6",
           "radialaxis": {
            "gridcolor": "white",
            "linecolor": "white",
            "ticks": ""
           }
          },
          "scene": {
           "xaxis": {
            "backgroundcolor": "#E5ECF6",
            "gridcolor": "white",
            "gridwidth": 2,
            "linecolor": "white",
            "showbackground": true,
            "ticks": "",
            "zerolinecolor": "white"
           },
           "yaxis": {
            "backgroundcolor": "#E5ECF6",
            "gridcolor": "white",
            "gridwidth": 2,
            "linecolor": "white",
            "showbackground": true,
            "ticks": "",
            "zerolinecolor": "white"
           },
           "zaxis": {
            "backgroundcolor": "#E5ECF6",
            "gridcolor": "white",
            "gridwidth": 2,
            "linecolor": "white",
            "showbackground": true,
            "ticks": "",
            "zerolinecolor": "white"
           }
          },
          "shapedefaults": {
           "line": {
            "color": "#2a3f5f"
           }
          },
          "ternary": {
           "aaxis": {
            "gridcolor": "white",
            "linecolor": "white",
            "ticks": ""
           },
           "baxis": {
            "gridcolor": "white",
            "linecolor": "white",
            "ticks": ""
           },
           "bgcolor": "#E5ECF6",
           "caxis": {
            "gridcolor": "white",
            "linecolor": "white",
            "ticks": ""
           }
          },
          "title": {
           "x": 0.05
          },
          "xaxis": {
           "automargin": true,
           "gridcolor": "white",
           "linecolor": "white",
           "ticks": "",
           "title": {
            "standoff": 15
           },
           "zerolinecolor": "white",
           "zerolinewidth": 2
          },
          "yaxis": {
           "automargin": true,
           "gridcolor": "white",
           "linecolor": "white",
           "ticks": "",
           "title": {
            "standoff": 15
           },
           "zerolinecolor": "white",
           "zerolinewidth": 2
          }
         }
        },
        "title": {
         "text": "부정"
        }
       }
      },
      "text/html": [
       "<div>                            <div id=\"f5282726-3fb3-4d99-ad43-c028e6a1d975\" class=\"plotly-graph-div\" style=\"height:525px; width:100%;\"></div>            <script type=\"text/javascript\">                require([\"plotly\"], function(Plotly) {                    window.PLOTLYENV=window.PLOTLYENV || {};                                    if (document.getElementById(\"f5282726-3fb3-4d99-ad43-c028e6a1d975\")) {                    Plotly.newPlot(                        \"f5282726-3fb3-4d99-ad43-c028e6a1d975\",                        [{\"customdata\": [[\"1\"], [\"2\"], [\"3\"], [\"4\"], [\"5\"], [\"6\"]], \"domain\": {\"x\": [0.0, 1.0], \"y\": [0.0, 1.0]}, \"hovertemplate\": \"\\ud3ec\\ud568\\ub41c \\uce74\\ud14c\\uace0\\ub9ac \\uc218=%{customdata[0]}<br>review=%{value}<extra></extra>\", \"labels\": [\"1\", \"2\", \"3\", \"4\", \"5\", \"6\"], \"legendgroup\": \"\", \"marker\": {\"line\": {\"color\": \"black\", \"width\": 1}}, \"name\": \"\", \"showlegend\": true, \"textfont\": {\"size\": 14}, \"textinfo\": \"percent+label\", \"textposition\": \"inside\", \"type\": \"pie\", \"values\": [87, 31, 5, 1, 0, 0]}],                        {\"legend\": {\"tracegroupgap\": 0}, \"margin\": {\"t\": 60}, \"piecolorway\": [\"rgb(230, 240, 240)\", \"rgb(191, 221, 229)\", \"rgb(156, 201, 226)\", \"rgb(129, 180, 227)\", \"rgb(115, 154, 228)\", \"rgb(117, 127, 221)\", \"rgb(120, 100, 202)\", \"rgb(119, 74, 175)\", \"rgb(113, 50, 141)\", \"rgb(100, 31, 104)\", \"rgb(80, 20, 66)\", \"rgb(54, 14, 36)\"], \"template\": {\"data\": {\"bar\": [{\"error_x\": {\"color\": \"#2a3f5f\"}, \"error_y\": {\"color\": \"#2a3f5f\"}, \"marker\": {\"line\": {\"color\": \"#E5ECF6\", \"width\": 0.5}}, \"type\": \"bar\"}], \"barpolar\": [{\"marker\": {\"line\": {\"color\": \"#E5ECF6\", \"width\": 0.5}}, \"type\": \"barpolar\"}], \"carpet\": [{\"aaxis\": {\"endlinecolor\": \"#2a3f5f\", \"gridcolor\": \"white\", \"linecolor\": \"white\", \"minorgridcolor\": \"white\", \"startlinecolor\": \"#2a3f5f\"}, \"baxis\": {\"endlinecolor\": \"#2a3f5f\", \"gridcolor\": \"white\", \"linecolor\": \"white\", \"minorgridcolor\": \"white\", \"startlinecolor\": \"#2a3f5f\"}, \"type\": \"carpet\"}], \"choropleth\": [{\"colorbar\": {\"outlinewidth\": 0, \"ticks\": \"\"}, \"type\": \"choropleth\"}], \"contour\": [{\"colorbar\": {\"outlinewidth\": 0, \"ticks\": \"\"}, \"colorscale\": [[0.0, \"#0d0887\"], [0.1111111111111111, \"#46039f\"], [0.2222222222222222, \"#7201a8\"], [0.3333333333333333, \"#9c179e\"], [0.4444444444444444, \"#bd3786\"], [0.5555555555555556, \"#d8576b\"], [0.6666666666666666, \"#ed7953\"], [0.7777777777777778, \"#fb9f3a\"], [0.8888888888888888, \"#fdca26\"], [1.0, \"#f0f921\"]], \"type\": \"contour\"}], \"contourcarpet\": [{\"colorbar\": {\"outlinewidth\": 0, \"ticks\": \"\"}, \"type\": \"contourcarpet\"}], \"heatmap\": [{\"colorbar\": {\"outlinewidth\": 0, \"ticks\": \"\"}, \"colorscale\": [[0.0, \"#0d0887\"], [0.1111111111111111, \"#46039f\"], [0.2222222222222222, \"#7201a8\"], [0.3333333333333333, \"#9c179e\"], [0.4444444444444444, \"#bd3786\"], [0.5555555555555556, \"#d8576b\"], [0.6666666666666666, \"#ed7953\"], [0.7777777777777778, \"#fb9f3a\"], [0.8888888888888888, \"#fdca26\"], [1.0, \"#f0f921\"]], \"type\": \"heatmap\"}], \"heatmapgl\": [{\"colorbar\": {\"outlinewidth\": 0, \"ticks\": \"\"}, \"colorscale\": [[0.0, \"#0d0887\"], [0.1111111111111111, \"#46039f\"], [0.2222222222222222, \"#7201a8\"], [0.3333333333333333, \"#9c179e\"], [0.4444444444444444, \"#bd3786\"], [0.5555555555555556, \"#d8576b\"], [0.6666666666666666, \"#ed7953\"], [0.7777777777777778, \"#fb9f3a\"], [0.8888888888888888, \"#fdca26\"], [1.0, \"#f0f921\"]], \"type\": \"heatmapgl\"}], \"histogram\": [{\"marker\": {\"colorbar\": {\"outlinewidth\": 0, \"ticks\": \"\"}}, \"type\": \"histogram\"}], \"histogram2d\": [{\"colorbar\": {\"outlinewidth\": 0, \"ticks\": \"\"}, \"colorscale\": [[0.0, \"#0d0887\"], [0.1111111111111111, \"#46039f\"], [0.2222222222222222, \"#7201a8\"], [0.3333333333333333, \"#9c179e\"], [0.4444444444444444, \"#bd3786\"], [0.5555555555555556, \"#d8576b\"], [0.6666666666666666, \"#ed7953\"], [0.7777777777777778, \"#fb9f3a\"], [0.8888888888888888, \"#fdca26\"], [1.0, \"#f0f921\"]], \"type\": \"histogram2d\"}], \"histogram2dcontour\": [{\"colorbar\": {\"outlinewidth\": 0, \"ticks\": \"\"}, \"colorscale\": [[0.0, \"#0d0887\"], [0.1111111111111111, \"#46039f\"], [0.2222222222222222, \"#7201a8\"], [0.3333333333333333, \"#9c179e\"], [0.4444444444444444, \"#bd3786\"], [0.5555555555555556, \"#d8576b\"], [0.6666666666666666, \"#ed7953\"], [0.7777777777777778, \"#fb9f3a\"], [0.8888888888888888, \"#fdca26\"], [1.0, \"#f0f921\"]], \"type\": \"histogram2dcontour\"}], \"mesh3d\": [{\"colorbar\": {\"outlinewidth\": 0, \"ticks\": \"\"}, \"type\": \"mesh3d\"}], \"parcoords\": [{\"line\": {\"colorbar\": {\"outlinewidth\": 0, \"ticks\": \"\"}}, \"type\": \"parcoords\"}], \"pie\": [{\"automargin\": true, \"type\": \"pie\"}], \"scatter\": [{\"marker\": {\"colorbar\": {\"outlinewidth\": 0, \"ticks\": \"\"}}, \"type\": \"scatter\"}], \"scatter3d\": [{\"line\": {\"colorbar\": {\"outlinewidth\": 0, \"ticks\": \"\"}}, \"marker\": {\"colorbar\": {\"outlinewidth\": 0, \"ticks\": \"\"}}, \"type\": \"scatter3d\"}], \"scattercarpet\": [{\"marker\": {\"colorbar\": {\"outlinewidth\": 0, \"ticks\": \"\"}}, \"type\": \"scattercarpet\"}], \"scattergeo\": [{\"marker\": {\"colorbar\": {\"outlinewidth\": 0, \"ticks\": \"\"}}, \"type\": \"scattergeo\"}], \"scattergl\": [{\"marker\": {\"colorbar\": {\"outlinewidth\": 0, \"ticks\": \"\"}}, \"type\": \"scattergl\"}], \"scattermapbox\": [{\"marker\": {\"colorbar\": {\"outlinewidth\": 0, \"ticks\": \"\"}}, \"type\": \"scattermapbox\"}], \"scatterpolar\": [{\"marker\": {\"colorbar\": {\"outlinewidth\": 0, \"ticks\": \"\"}}, \"type\": \"scatterpolar\"}], \"scatterpolargl\": [{\"marker\": {\"colorbar\": {\"outlinewidth\": 0, \"ticks\": \"\"}}, \"type\": \"scatterpolargl\"}], \"scatterternary\": [{\"marker\": {\"colorbar\": {\"outlinewidth\": 0, \"ticks\": \"\"}}, \"type\": \"scatterternary\"}], \"surface\": [{\"colorbar\": {\"outlinewidth\": 0, \"ticks\": \"\"}, \"colorscale\": [[0.0, \"#0d0887\"], [0.1111111111111111, \"#46039f\"], [0.2222222222222222, \"#7201a8\"], [0.3333333333333333, \"#9c179e\"], [0.4444444444444444, \"#bd3786\"], [0.5555555555555556, \"#d8576b\"], [0.6666666666666666, \"#ed7953\"], [0.7777777777777778, \"#fb9f3a\"], [0.8888888888888888, \"#fdca26\"], [1.0, \"#f0f921\"]], \"type\": \"surface\"}], \"table\": [{\"cells\": {\"fill\": {\"color\": \"#EBF0F8\"}, \"line\": {\"color\": \"white\"}}, \"header\": {\"fill\": {\"color\": \"#C8D4E3\"}, \"line\": {\"color\": \"white\"}}, \"type\": \"table\"}]}, \"layout\": {\"annotationdefaults\": {\"arrowcolor\": \"#2a3f5f\", \"arrowhead\": 0, \"arrowwidth\": 1}, \"coloraxis\": {\"colorbar\": {\"outlinewidth\": 0, \"ticks\": \"\"}}, \"colorscale\": {\"diverging\": [[0, \"#8e0152\"], [0.1, \"#c51b7d\"], [0.2, \"#de77ae\"], [0.3, \"#f1b6da\"], [0.4, \"#fde0ef\"], [0.5, \"#f7f7f7\"], [0.6, \"#e6f5d0\"], [0.7, \"#b8e186\"], [0.8, \"#7fbc41\"], [0.9, \"#4d9221\"], [1, \"#276419\"]], \"sequential\": [[0.0, \"#0d0887\"], [0.1111111111111111, \"#46039f\"], [0.2222222222222222, \"#7201a8\"], [0.3333333333333333, \"#9c179e\"], [0.4444444444444444, \"#bd3786\"], [0.5555555555555556, \"#d8576b\"], [0.6666666666666666, \"#ed7953\"], [0.7777777777777778, \"#fb9f3a\"], [0.8888888888888888, \"#fdca26\"], [1.0, \"#f0f921\"]], \"sequentialminus\": [[0.0, \"#0d0887\"], [0.1111111111111111, \"#46039f\"], [0.2222222222222222, \"#7201a8\"], [0.3333333333333333, \"#9c179e\"], [0.4444444444444444, \"#bd3786\"], [0.5555555555555556, \"#d8576b\"], [0.6666666666666666, \"#ed7953\"], [0.7777777777777778, \"#fb9f3a\"], [0.8888888888888888, \"#fdca26\"], [1.0, \"#f0f921\"]]}, \"colorway\": [\"#636efa\", \"#EF553B\", \"#00cc96\", \"#ab63fa\", \"#FFA15A\", \"#19d3f3\", \"#FF6692\", \"#B6E880\", \"#FF97FF\", \"#FECB52\"], \"font\": {\"color\": \"#2a3f5f\"}, \"geo\": {\"bgcolor\": \"white\", \"lakecolor\": \"white\", \"landcolor\": \"#E5ECF6\", \"showlakes\": true, \"showland\": true, \"subunitcolor\": \"white\"}, \"hoverlabel\": {\"align\": \"left\"}, \"hovermode\": \"closest\", \"mapbox\": {\"style\": \"light\"}, \"paper_bgcolor\": \"white\", \"plot_bgcolor\": \"#E5ECF6\", \"polar\": {\"angularaxis\": {\"gridcolor\": \"white\", \"linecolor\": \"white\", \"ticks\": \"\"}, \"bgcolor\": \"#E5ECF6\", \"radialaxis\": {\"gridcolor\": \"white\", \"linecolor\": \"white\", \"ticks\": \"\"}}, \"scene\": {\"xaxis\": {\"backgroundcolor\": \"#E5ECF6\", \"gridcolor\": \"white\", \"gridwidth\": 2, \"linecolor\": \"white\", \"showbackground\": true, \"ticks\": \"\", \"zerolinecolor\": \"white\"}, \"yaxis\": {\"backgroundcolor\": \"#E5ECF6\", \"gridcolor\": \"white\", \"gridwidth\": 2, \"linecolor\": \"white\", \"showbackground\": true, \"ticks\": \"\", \"zerolinecolor\": \"white\"}, \"zaxis\": {\"backgroundcolor\": \"#E5ECF6\", \"gridcolor\": \"white\", \"gridwidth\": 2, \"linecolor\": \"white\", \"showbackground\": true, \"ticks\": \"\", \"zerolinecolor\": \"white\"}}, \"shapedefaults\": {\"line\": {\"color\": \"#2a3f5f\"}}, \"ternary\": {\"aaxis\": {\"gridcolor\": \"white\", \"linecolor\": \"white\", \"ticks\": \"\"}, \"baxis\": {\"gridcolor\": \"white\", \"linecolor\": \"white\", \"ticks\": \"\"}, \"bgcolor\": \"#E5ECF6\", \"caxis\": {\"gridcolor\": \"white\", \"linecolor\": \"white\", \"ticks\": \"\"}}, \"title\": {\"x\": 0.05}, \"xaxis\": {\"automargin\": true, \"gridcolor\": \"white\", \"linecolor\": \"white\", \"ticks\": \"\", \"title\": {\"standoff\": 15}, \"zerolinecolor\": \"white\", \"zerolinewidth\": 2}, \"yaxis\": {\"automargin\": true, \"gridcolor\": \"white\", \"linecolor\": \"white\", \"ticks\": \"\", \"title\": {\"standoff\": 15}, \"zerolinecolor\": \"white\", \"zerolinewidth\": 2}}}, \"title\": {\"text\": \"\\ubd80\\uc815\"}},                        {\"responsive\": true}                    ).then(function(){\n",
       "                            \n",
       "var gd = document.getElementById('f5282726-3fb3-4d99-ad43-c028e6a1d975');\n",
       "var x = new MutationObserver(function (mutations, observer) {{\n",
       "        var display = window.getComputedStyle(gd).display;\n",
       "        if (!display || display === 'none') {{\n",
       "            console.log([gd, 'removed!']);\n",
       "            Plotly.purge(gd);\n",
       "            observer.disconnect();\n",
       "        }}\n",
       "}});\n",
       "\n",
       "// Listen for the removal of the full notebook cells\n",
       "var notebookContainer = gd.closest('#notebook-container');\n",
       "if (notebookContainer) {{\n",
       "    x.observe(notebookContainer, {childList: true});\n",
       "}}\n",
       "\n",
       "// Listen for the clearing of the current output cell\n",
       "var outputEl = gd.closest('.output');\n",
       "if (outputEl) {{\n",
       "    x.observe(outputEl, {childList: true});\n",
       "}}\n",
       "\n",
       "                        })                };                });            </script>        </div>"
      ]
     },
     "metadata": {},
     "output_type": "display_data"
    }
   ],
   "source": [
    "neg = pie[pie.attitude == 0]\n",
    "fig = px.pie(neg, values = 'review', hover_data = ['Category_count'],\n",
    "            color_discrete_sequence = px.colors.sequential.dense, names = 'Category_count',labels = {'Category_count' : '포함된 카테고리 수'})  \n",
    "fig.update_traces(textposition = 'inside', textinfo = 'percent + label', textfont_size = 14) #위에 거슬리는 숫자들을 안으로!\n",
    "fig.update_traces(textposition = 'inside', textinfo = 'percent + label', textfont_size = 14,\n",
    "                  marker = dict(line = dict(color = 'black', width = 1)))\n",
    "\n",
    "fig.update_layout(title = \"부정\")\n",
    "\n",
    "fig.show()"
   ]
  },
  {
   "cell_type": "markdown",
   "metadata": {},
   "source": [
    "### 긍정"
   ]
  },
  {
   "cell_type": "code",
   "execution_count": 58,
   "metadata": {},
   "outputs": [
    {
     "data": {
      "application/vnd.plotly.v1+json": {
       "config": {
        "plotlyServerURL": "https://plot.ly"
       },
       "data": [
        {
         "customdata": [
          [
           "1"
          ],
          [
           "2"
          ],
          [
           "3"
          ],
          [
           "4"
          ],
          [
           "5"
          ],
          [
           "6"
          ]
         ],
         "domain": {
          "x": [
           0,
           1
          ],
          "y": [
           0,
           1
          ]
         },
         "hovertemplate": "포함된 카테고리 수=%{customdata[0]}<br>review=%{value}<extra></extra>",
         "labels": [
          "1",
          "2",
          "3",
          "4",
          "5",
          "6"
         ],
         "legendgroup": "",
         "marker": {
          "line": {
           "color": "black",
           "width": 1
          }
         },
         "name": "",
         "showlegend": true,
         "textfont": {
          "size": 14
         },
         "textinfo": "percent+label",
         "textposition": "inside",
         "type": "pie",
         "values": [
          87,
          31,
          5,
          1,
          0,
          0
         ]
        }
       ],
       "layout": {
        "legend": {
         "tracegroupgap": 0
        },
        "margin": {
         "t": 60
        },
        "piecolorway": [
         "rgb(230, 240, 240)",
         "rgb(191, 221, 229)",
         "rgb(156, 201, 226)",
         "rgb(129, 180, 227)",
         "rgb(115, 154, 228)",
         "rgb(117, 127, 221)",
         "rgb(120, 100, 202)",
         "rgb(119, 74, 175)",
         "rgb(113, 50, 141)",
         "rgb(100, 31, 104)",
         "rgb(80, 20, 66)",
         "rgb(54, 14, 36)"
        ],
        "template": {
         "data": {
          "bar": [
           {
            "error_x": {
             "color": "#2a3f5f"
            },
            "error_y": {
             "color": "#2a3f5f"
            },
            "marker": {
             "line": {
              "color": "#E5ECF6",
              "width": 0.5
             }
            },
            "type": "bar"
           }
          ],
          "barpolar": [
           {
            "marker": {
             "line": {
              "color": "#E5ECF6",
              "width": 0.5
             }
            },
            "type": "barpolar"
           }
          ],
          "carpet": [
           {
            "aaxis": {
             "endlinecolor": "#2a3f5f",
             "gridcolor": "white",
             "linecolor": "white",
             "minorgridcolor": "white",
             "startlinecolor": "#2a3f5f"
            },
            "baxis": {
             "endlinecolor": "#2a3f5f",
             "gridcolor": "white",
             "linecolor": "white",
             "minorgridcolor": "white",
             "startlinecolor": "#2a3f5f"
            },
            "type": "carpet"
           }
          ],
          "choropleth": [
           {
            "colorbar": {
             "outlinewidth": 0,
             "ticks": ""
            },
            "type": "choropleth"
           }
          ],
          "contour": [
           {
            "colorbar": {
             "outlinewidth": 0,
             "ticks": ""
            },
            "colorscale": [
             [
              0,
              "#0d0887"
             ],
             [
              0.1111111111111111,
              "#46039f"
             ],
             [
              0.2222222222222222,
              "#7201a8"
             ],
             [
              0.3333333333333333,
              "#9c179e"
             ],
             [
              0.4444444444444444,
              "#bd3786"
             ],
             [
              0.5555555555555556,
              "#d8576b"
             ],
             [
              0.6666666666666666,
              "#ed7953"
             ],
             [
              0.7777777777777778,
              "#fb9f3a"
             ],
             [
              0.8888888888888888,
              "#fdca26"
             ],
             [
              1,
              "#f0f921"
             ]
            ],
            "type": "contour"
           }
          ],
          "contourcarpet": [
           {
            "colorbar": {
             "outlinewidth": 0,
             "ticks": ""
            },
            "type": "contourcarpet"
           }
          ],
          "heatmap": [
           {
            "colorbar": {
             "outlinewidth": 0,
             "ticks": ""
            },
            "colorscale": [
             [
              0,
              "#0d0887"
             ],
             [
              0.1111111111111111,
              "#46039f"
             ],
             [
              0.2222222222222222,
              "#7201a8"
             ],
             [
              0.3333333333333333,
              "#9c179e"
             ],
             [
              0.4444444444444444,
              "#bd3786"
             ],
             [
              0.5555555555555556,
              "#d8576b"
             ],
             [
              0.6666666666666666,
              "#ed7953"
             ],
             [
              0.7777777777777778,
              "#fb9f3a"
             ],
             [
              0.8888888888888888,
              "#fdca26"
             ],
             [
              1,
              "#f0f921"
             ]
            ],
            "type": "heatmap"
           }
          ],
          "heatmapgl": [
           {
            "colorbar": {
             "outlinewidth": 0,
             "ticks": ""
            },
            "colorscale": [
             [
              0,
              "#0d0887"
             ],
             [
              0.1111111111111111,
              "#46039f"
             ],
             [
              0.2222222222222222,
              "#7201a8"
             ],
             [
              0.3333333333333333,
              "#9c179e"
             ],
             [
              0.4444444444444444,
              "#bd3786"
             ],
             [
              0.5555555555555556,
              "#d8576b"
             ],
             [
              0.6666666666666666,
              "#ed7953"
             ],
             [
              0.7777777777777778,
              "#fb9f3a"
             ],
             [
              0.8888888888888888,
              "#fdca26"
             ],
             [
              1,
              "#f0f921"
             ]
            ],
            "type": "heatmapgl"
           }
          ],
          "histogram": [
           {
            "marker": {
             "colorbar": {
              "outlinewidth": 0,
              "ticks": ""
             }
            },
            "type": "histogram"
           }
          ],
          "histogram2d": [
           {
            "colorbar": {
             "outlinewidth": 0,
             "ticks": ""
            },
            "colorscale": [
             [
              0,
              "#0d0887"
             ],
             [
              0.1111111111111111,
              "#46039f"
             ],
             [
              0.2222222222222222,
              "#7201a8"
             ],
             [
              0.3333333333333333,
              "#9c179e"
             ],
             [
              0.4444444444444444,
              "#bd3786"
             ],
             [
              0.5555555555555556,
              "#d8576b"
             ],
             [
              0.6666666666666666,
              "#ed7953"
             ],
             [
              0.7777777777777778,
              "#fb9f3a"
             ],
             [
              0.8888888888888888,
              "#fdca26"
             ],
             [
              1,
              "#f0f921"
             ]
            ],
            "type": "histogram2d"
           }
          ],
          "histogram2dcontour": [
           {
            "colorbar": {
             "outlinewidth": 0,
             "ticks": ""
            },
            "colorscale": [
             [
              0,
              "#0d0887"
             ],
             [
              0.1111111111111111,
              "#46039f"
             ],
             [
              0.2222222222222222,
              "#7201a8"
             ],
             [
              0.3333333333333333,
              "#9c179e"
             ],
             [
              0.4444444444444444,
              "#bd3786"
             ],
             [
              0.5555555555555556,
              "#d8576b"
             ],
             [
              0.6666666666666666,
              "#ed7953"
             ],
             [
              0.7777777777777778,
              "#fb9f3a"
             ],
             [
              0.8888888888888888,
              "#fdca26"
             ],
             [
              1,
              "#f0f921"
             ]
            ],
            "type": "histogram2dcontour"
           }
          ],
          "mesh3d": [
           {
            "colorbar": {
             "outlinewidth": 0,
             "ticks": ""
            },
            "type": "mesh3d"
           }
          ],
          "parcoords": [
           {
            "line": {
             "colorbar": {
              "outlinewidth": 0,
              "ticks": ""
             }
            },
            "type": "parcoords"
           }
          ],
          "pie": [
           {
            "automargin": true,
            "type": "pie"
           }
          ],
          "scatter": [
           {
            "marker": {
             "colorbar": {
              "outlinewidth": 0,
              "ticks": ""
             }
            },
            "type": "scatter"
           }
          ],
          "scatter3d": [
           {
            "line": {
             "colorbar": {
              "outlinewidth": 0,
              "ticks": ""
             }
            },
            "marker": {
             "colorbar": {
              "outlinewidth": 0,
              "ticks": ""
             }
            },
            "type": "scatter3d"
           }
          ],
          "scattercarpet": [
           {
            "marker": {
             "colorbar": {
              "outlinewidth": 0,
              "ticks": ""
             }
            },
            "type": "scattercarpet"
           }
          ],
          "scattergeo": [
           {
            "marker": {
             "colorbar": {
              "outlinewidth": 0,
              "ticks": ""
             }
            },
            "type": "scattergeo"
           }
          ],
          "scattergl": [
           {
            "marker": {
             "colorbar": {
              "outlinewidth": 0,
              "ticks": ""
             }
            },
            "type": "scattergl"
           }
          ],
          "scattermapbox": [
           {
            "marker": {
             "colorbar": {
              "outlinewidth": 0,
              "ticks": ""
             }
            },
            "type": "scattermapbox"
           }
          ],
          "scatterpolar": [
           {
            "marker": {
             "colorbar": {
              "outlinewidth": 0,
              "ticks": ""
             }
            },
            "type": "scatterpolar"
           }
          ],
          "scatterpolargl": [
           {
            "marker": {
             "colorbar": {
              "outlinewidth": 0,
              "ticks": ""
             }
            },
            "type": "scatterpolargl"
           }
          ],
          "scatterternary": [
           {
            "marker": {
             "colorbar": {
              "outlinewidth": 0,
              "ticks": ""
             }
            },
            "type": "scatterternary"
           }
          ],
          "surface": [
           {
            "colorbar": {
             "outlinewidth": 0,
             "ticks": ""
            },
            "colorscale": [
             [
              0,
              "#0d0887"
             ],
             [
              0.1111111111111111,
              "#46039f"
             ],
             [
              0.2222222222222222,
              "#7201a8"
             ],
             [
              0.3333333333333333,
              "#9c179e"
             ],
             [
              0.4444444444444444,
              "#bd3786"
             ],
             [
              0.5555555555555556,
              "#d8576b"
             ],
             [
              0.6666666666666666,
              "#ed7953"
             ],
             [
              0.7777777777777778,
              "#fb9f3a"
             ],
             [
              0.8888888888888888,
              "#fdca26"
             ],
             [
              1,
              "#f0f921"
             ]
            ],
            "type": "surface"
           }
          ],
          "table": [
           {
            "cells": {
             "fill": {
              "color": "#EBF0F8"
             },
             "line": {
              "color": "white"
             }
            },
            "header": {
             "fill": {
              "color": "#C8D4E3"
             },
             "line": {
              "color": "white"
             }
            },
            "type": "table"
           }
          ]
         },
         "layout": {
          "annotationdefaults": {
           "arrowcolor": "#2a3f5f",
           "arrowhead": 0,
           "arrowwidth": 1
          },
          "coloraxis": {
           "colorbar": {
            "outlinewidth": 0,
            "ticks": ""
           }
          },
          "colorscale": {
           "diverging": [
            [
             0,
             "#8e0152"
            ],
            [
             0.1,
             "#c51b7d"
            ],
            [
             0.2,
             "#de77ae"
            ],
            [
             0.3,
             "#f1b6da"
            ],
            [
             0.4,
             "#fde0ef"
            ],
            [
             0.5,
             "#f7f7f7"
            ],
            [
             0.6,
             "#e6f5d0"
            ],
            [
             0.7,
             "#b8e186"
            ],
            [
             0.8,
             "#7fbc41"
            ],
            [
             0.9,
             "#4d9221"
            ],
            [
             1,
             "#276419"
            ]
           ],
           "sequential": [
            [
             0,
             "#0d0887"
            ],
            [
             0.1111111111111111,
             "#46039f"
            ],
            [
             0.2222222222222222,
             "#7201a8"
            ],
            [
             0.3333333333333333,
             "#9c179e"
            ],
            [
             0.4444444444444444,
             "#bd3786"
            ],
            [
             0.5555555555555556,
             "#d8576b"
            ],
            [
             0.6666666666666666,
             "#ed7953"
            ],
            [
             0.7777777777777778,
             "#fb9f3a"
            ],
            [
             0.8888888888888888,
             "#fdca26"
            ],
            [
             1,
             "#f0f921"
            ]
           ],
           "sequentialminus": [
            [
             0,
             "#0d0887"
            ],
            [
             0.1111111111111111,
             "#46039f"
            ],
            [
             0.2222222222222222,
             "#7201a8"
            ],
            [
             0.3333333333333333,
             "#9c179e"
            ],
            [
             0.4444444444444444,
             "#bd3786"
            ],
            [
             0.5555555555555556,
             "#d8576b"
            ],
            [
             0.6666666666666666,
             "#ed7953"
            ],
            [
             0.7777777777777778,
             "#fb9f3a"
            ],
            [
             0.8888888888888888,
             "#fdca26"
            ],
            [
             1,
             "#f0f921"
            ]
           ]
          },
          "colorway": [
           "#636efa",
           "#EF553B",
           "#00cc96",
           "#ab63fa",
           "#FFA15A",
           "#19d3f3",
           "#FF6692",
           "#B6E880",
           "#FF97FF",
           "#FECB52"
          ],
          "font": {
           "color": "#2a3f5f"
          },
          "geo": {
           "bgcolor": "white",
           "lakecolor": "white",
           "landcolor": "#E5ECF6",
           "showlakes": true,
           "showland": true,
           "subunitcolor": "white"
          },
          "hoverlabel": {
           "align": "left"
          },
          "hovermode": "closest",
          "mapbox": {
           "style": "light"
          },
          "paper_bgcolor": "white",
          "plot_bgcolor": "#E5ECF6",
          "polar": {
           "angularaxis": {
            "gridcolor": "white",
            "linecolor": "white",
            "ticks": ""
           },
           "bgcolor": "#E5ECF6",
           "radialaxis": {
            "gridcolor": "white",
            "linecolor": "white",
            "ticks": ""
           }
          },
          "scene": {
           "xaxis": {
            "backgroundcolor": "#E5ECF6",
            "gridcolor": "white",
            "gridwidth": 2,
            "linecolor": "white",
            "showbackground": true,
            "ticks": "",
            "zerolinecolor": "white"
           },
           "yaxis": {
            "backgroundcolor": "#E5ECF6",
            "gridcolor": "white",
            "gridwidth": 2,
            "linecolor": "white",
            "showbackground": true,
            "ticks": "",
            "zerolinecolor": "white"
           },
           "zaxis": {
            "backgroundcolor": "#E5ECF6",
            "gridcolor": "white",
            "gridwidth": 2,
            "linecolor": "white",
            "showbackground": true,
            "ticks": "",
            "zerolinecolor": "white"
           }
          },
          "shapedefaults": {
           "line": {
            "color": "#2a3f5f"
           }
          },
          "ternary": {
           "aaxis": {
            "gridcolor": "white",
            "linecolor": "white",
            "ticks": ""
           },
           "baxis": {
            "gridcolor": "white",
            "linecolor": "white",
            "ticks": ""
           },
           "bgcolor": "#E5ECF6",
           "caxis": {
            "gridcolor": "white",
            "linecolor": "white",
            "ticks": ""
           }
          },
          "title": {
           "x": 0.05
          },
          "xaxis": {
           "automargin": true,
           "gridcolor": "white",
           "linecolor": "white",
           "ticks": "",
           "title": {
            "standoff": 15
           },
           "zerolinecolor": "white",
           "zerolinewidth": 2
          },
          "yaxis": {
           "automargin": true,
           "gridcolor": "white",
           "linecolor": "white",
           "ticks": "",
           "title": {
            "standoff": 15
           },
           "zerolinecolor": "white",
           "zerolinewidth": 2
          }
         }
        },
        "title": {
         "text": "긍정"
        }
       }
      },
      "text/html": [
       "<div>                            <div id=\"00710644-66b1-48dc-9f2f-5544d96ed55b\" class=\"plotly-graph-div\" style=\"height:525px; width:100%;\"></div>            <script type=\"text/javascript\">                require([\"plotly\"], function(Plotly) {                    window.PLOTLYENV=window.PLOTLYENV || {};                                    if (document.getElementById(\"00710644-66b1-48dc-9f2f-5544d96ed55b\")) {                    Plotly.newPlot(                        \"00710644-66b1-48dc-9f2f-5544d96ed55b\",                        [{\"customdata\": [[\"1\"], [\"2\"], [\"3\"], [\"4\"], [\"5\"], [\"6\"]], \"domain\": {\"x\": [0.0, 1.0], \"y\": [0.0, 1.0]}, \"hovertemplate\": \"\\ud3ec\\ud568\\ub41c \\uce74\\ud14c\\uace0\\ub9ac \\uc218=%{customdata[0]}<br>review=%{value}<extra></extra>\", \"labels\": [\"1\", \"2\", \"3\", \"4\", \"5\", \"6\"], \"legendgroup\": \"\", \"marker\": {\"line\": {\"color\": \"black\", \"width\": 1}}, \"name\": \"\", \"showlegend\": true, \"textfont\": {\"size\": 14}, \"textinfo\": \"percent+label\", \"textposition\": \"inside\", \"type\": \"pie\", \"values\": [87, 31, 5, 1, 0, 0]}],                        {\"legend\": {\"tracegroupgap\": 0}, \"margin\": {\"t\": 60}, \"piecolorway\": [\"rgb(230, 240, 240)\", \"rgb(191, 221, 229)\", \"rgb(156, 201, 226)\", \"rgb(129, 180, 227)\", \"rgb(115, 154, 228)\", \"rgb(117, 127, 221)\", \"rgb(120, 100, 202)\", \"rgb(119, 74, 175)\", \"rgb(113, 50, 141)\", \"rgb(100, 31, 104)\", \"rgb(80, 20, 66)\", \"rgb(54, 14, 36)\"], \"template\": {\"data\": {\"bar\": [{\"error_x\": {\"color\": \"#2a3f5f\"}, \"error_y\": {\"color\": \"#2a3f5f\"}, \"marker\": {\"line\": {\"color\": \"#E5ECF6\", \"width\": 0.5}}, \"type\": \"bar\"}], \"barpolar\": [{\"marker\": {\"line\": {\"color\": \"#E5ECF6\", \"width\": 0.5}}, \"type\": \"barpolar\"}], \"carpet\": [{\"aaxis\": {\"endlinecolor\": \"#2a3f5f\", \"gridcolor\": \"white\", \"linecolor\": \"white\", \"minorgridcolor\": \"white\", \"startlinecolor\": \"#2a3f5f\"}, \"baxis\": {\"endlinecolor\": \"#2a3f5f\", \"gridcolor\": \"white\", \"linecolor\": \"white\", \"minorgridcolor\": \"white\", \"startlinecolor\": \"#2a3f5f\"}, \"type\": \"carpet\"}], \"choropleth\": [{\"colorbar\": {\"outlinewidth\": 0, \"ticks\": \"\"}, \"type\": \"choropleth\"}], \"contour\": [{\"colorbar\": {\"outlinewidth\": 0, \"ticks\": \"\"}, \"colorscale\": [[0.0, \"#0d0887\"], [0.1111111111111111, \"#46039f\"], [0.2222222222222222, \"#7201a8\"], [0.3333333333333333, \"#9c179e\"], [0.4444444444444444, \"#bd3786\"], [0.5555555555555556, \"#d8576b\"], [0.6666666666666666, \"#ed7953\"], [0.7777777777777778, \"#fb9f3a\"], [0.8888888888888888, \"#fdca26\"], [1.0, \"#f0f921\"]], \"type\": \"contour\"}], \"contourcarpet\": [{\"colorbar\": {\"outlinewidth\": 0, \"ticks\": \"\"}, \"type\": \"contourcarpet\"}], \"heatmap\": [{\"colorbar\": {\"outlinewidth\": 0, \"ticks\": \"\"}, \"colorscale\": [[0.0, \"#0d0887\"], [0.1111111111111111, \"#46039f\"], [0.2222222222222222, \"#7201a8\"], [0.3333333333333333, \"#9c179e\"], [0.4444444444444444, \"#bd3786\"], [0.5555555555555556, \"#d8576b\"], [0.6666666666666666, \"#ed7953\"], [0.7777777777777778, \"#fb9f3a\"], [0.8888888888888888, \"#fdca26\"], [1.0, \"#f0f921\"]], \"type\": \"heatmap\"}], \"heatmapgl\": [{\"colorbar\": {\"outlinewidth\": 0, \"ticks\": \"\"}, \"colorscale\": [[0.0, \"#0d0887\"], [0.1111111111111111, \"#46039f\"], [0.2222222222222222, \"#7201a8\"], [0.3333333333333333, \"#9c179e\"], [0.4444444444444444, \"#bd3786\"], [0.5555555555555556, \"#d8576b\"], [0.6666666666666666, \"#ed7953\"], [0.7777777777777778, \"#fb9f3a\"], [0.8888888888888888, \"#fdca26\"], [1.0, \"#f0f921\"]], \"type\": \"heatmapgl\"}], \"histogram\": [{\"marker\": {\"colorbar\": {\"outlinewidth\": 0, \"ticks\": \"\"}}, \"type\": \"histogram\"}], \"histogram2d\": [{\"colorbar\": {\"outlinewidth\": 0, \"ticks\": \"\"}, \"colorscale\": [[0.0, \"#0d0887\"], [0.1111111111111111, \"#46039f\"], [0.2222222222222222, \"#7201a8\"], [0.3333333333333333, \"#9c179e\"], [0.4444444444444444, \"#bd3786\"], [0.5555555555555556, \"#d8576b\"], [0.6666666666666666, \"#ed7953\"], [0.7777777777777778, \"#fb9f3a\"], [0.8888888888888888, \"#fdca26\"], [1.0, \"#f0f921\"]], \"type\": \"histogram2d\"}], \"histogram2dcontour\": [{\"colorbar\": {\"outlinewidth\": 0, \"ticks\": \"\"}, \"colorscale\": [[0.0, \"#0d0887\"], [0.1111111111111111, \"#46039f\"], [0.2222222222222222, \"#7201a8\"], [0.3333333333333333, \"#9c179e\"], [0.4444444444444444, \"#bd3786\"], [0.5555555555555556, \"#d8576b\"], [0.6666666666666666, \"#ed7953\"], [0.7777777777777778, \"#fb9f3a\"], [0.8888888888888888, \"#fdca26\"], [1.0, \"#f0f921\"]], \"type\": \"histogram2dcontour\"}], \"mesh3d\": [{\"colorbar\": {\"outlinewidth\": 0, \"ticks\": \"\"}, \"type\": \"mesh3d\"}], \"parcoords\": [{\"line\": {\"colorbar\": {\"outlinewidth\": 0, \"ticks\": \"\"}}, \"type\": \"parcoords\"}], \"pie\": [{\"automargin\": true, \"type\": \"pie\"}], \"scatter\": [{\"marker\": {\"colorbar\": {\"outlinewidth\": 0, \"ticks\": \"\"}}, \"type\": \"scatter\"}], \"scatter3d\": [{\"line\": {\"colorbar\": {\"outlinewidth\": 0, \"ticks\": \"\"}}, \"marker\": {\"colorbar\": {\"outlinewidth\": 0, \"ticks\": \"\"}}, \"type\": \"scatter3d\"}], \"scattercarpet\": [{\"marker\": {\"colorbar\": {\"outlinewidth\": 0, \"ticks\": \"\"}}, \"type\": \"scattercarpet\"}], \"scattergeo\": [{\"marker\": {\"colorbar\": {\"outlinewidth\": 0, \"ticks\": \"\"}}, \"type\": \"scattergeo\"}], \"scattergl\": [{\"marker\": {\"colorbar\": {\"outlinewidth\": 0, \"ticks\": \"\"}}, \"type\": \"scattergl\"}], \"scattermapbox\": [{\"marker\": {\"colorbar\": {\"outlinewidth\": 0, \"ticks\": \"\"}}, \"type\": \"scattermapbox\"}], \"scatterpolar\": [{\"marker\": {\"colorbar\": {\"outlinewidth\": 0, \"ticks\": \"\"}}, \"type\": \"scatterpolar\"}], \"scatterpolargl\": [{\"marker\": {\"colorbar\": {\"outlinewidth\": 0, \"ticks\": \"\"}}, \"type\": \"scatterpolargl\"}], \"scatterternary\": [{\"marker\": {\"colorbar\": {\"outlinewidth\": 0, \"ticks\": \"\"}}, \"type\": \"scatterternary\"}], \"surface\": [{\"colorbar\": {\"outlinewidth\": 0, \"ticks\": \"\"}, \"colorscale\": [[0.0, \"#0d0887\"], [0.1111111111111111, \"#46039f\"], [0.2222222222222222, \"#7201a8\"], [0.3333333333333333, \"#9c179e\"], [0.4444444444444444, \"#bd3786\"], [0.5555555555555556, \"#d8576b\"], [0.6666666666666666, \"#ed7953\"], [0.7777777777777778, \"#fb9f3a\"], [0.8888888888888888, \"#fdca26\"], [1.0, \"#f0f921\"]], \"type\": \"surface\"}], \"table\": [{\"cells\": {\"fill\": {\"color\": \"#EBF0F8\"}, \"line\": {\"color\": \"white\"}}, \"header\": {\"fill\": {\"color\": \"#C8D4E3\"}, \"line\": {\"color\": \"white\"}}, \"type\": \"table\"}]}, \"layout\": {\"annotationdefaults\": {\"arrowcolor\": \"#2a3f5f\", \"arrowhead\": 0, \"arrowwidth\": 1}, \"coloraxis\": {\"colorbar\": {\"outlinewidth\": 0, \"ticks\": \"\"}}, \"colorscale\": {\"diverging\": [[0, \"#8e0152\"], [0.1, \"#c51b7d\"], [0.2, \"#de77ae\"], [0.3, \"#f1b6da\"], [0.4, \"#fde0ef\"], [0.5, \"#f7f7f7\"], [0.6, \"#e6f5d0\"], [0.7, \"#b8e186\"], [0.8, \"#7fbc41\"], [0.9, \"#4d9221\"], [1, \"#276419\"]], \"sequential\": [[0.0, \"#0d0887\"], [0.1111111111111111, \"#46039f\"], [0.2222222222222222, \"#7201a8\"], [0.3333333333333333, \"#9c179e\"], [0.4444444444444444, \"#bd3786\"], [0.5555555555555556, \"#d8576b\"], [0.6666666666666666, \"#ed7953\"], [0.7777777777777778, \"#fb9f3a\"], [0.8888888888888888, \"#fdca26\"], [1.0, \"#f0f921\"]], \"sequentialminus\": [[0.0, \"#0d0887\"], [0.1111111111111111, \"#46039f\"], [0.2222222222222222, \"#7201a8\"], [0.3333333333333333, \"#9c179e\"], [0.4444444444444444, \"#bd3786\"], [0.5555555555555556, \"#d8576b\"], [0.6666666666666666, \"#ed7953\"], [0.7777777777777778, \"#fb9f3a\"], [0.8888888888888888, \"#fdca26\"], [1.0, \"#f0f921\"]]}, \"colorway\": [\"#636efa\", \"#EF553B\", \"#00cc96\", \"#ab63fa\", \"#FFA15A\", \"#19d3f3\", \"#FF6692\", \"#B6E880\", \"#FF97FF\", \"#FECB52\"], \"font\": {\"color\": \"#2a3f5f\"}, \"geo\": {\"bgcolor\": \"white\", \"lakecolor\": \"white\", \"landcolor\": \"#E5ECF6\", \"showlakes\": true, \"showland\": true, \"subunitcolor\": \"white\"}, \"hoverlabel\": {\"align\": \"left\"}, \"hovermode\": \"closest\", \"mapbox\": {\"style\": \"light\"}, \"paper_bgcolor\": \"white\", \"plot_bgcolor\": \"#E5ECF6\", \"polar\": {\"angularaxis\": {\"gridcolor\": \"white\", \"linecolor\": \"white\", \"ticks\": \"\"}, \"bgcolor\": \"#E5ECF6\", \"radialaxis\": {\"gridcolor\": \"white\", \"linecolor\": \"white\", \"ticks\": \"\"}}, \"scene\": {\"xaxis\": {\"backgroundcolor\": \"#E5ECF6\", \"gridcolor\": \"white\", \"gridwidth\": 2, \"linecolor\": \"white\", \"showbackground\": true, \"ticks\": \"\", \"zerolinecolor\": \"white\"}, \"yaxis\": {\"backgroundcolor\": \"#E5ECF6\", \"gridcolor\": \"white\", \"gridwidth\": 2, \"linecolor\": \"white\", \"showbackground\": true, \"ticks\": \"\", \"zerolinecolor\": \"white\"}, \"zaxis\": {\"backgroundcolor\": \"#E5ECF6\", \"gridcolor\": \"white\", \"gridwidth\": 2, \"linecolor\": \"white\", \"showbackground\": true, \"ticks\": \"\", \"zerolinecolor\": \"white\"}}, \"shapedefaults\": {\"line\": {\"color\": \"#2a3f5f\"}}, \"ternary\": {\"aaxis\": {\"gridcolor\": \"white\", \"linecolor\": \"white\", \"ticks\": \"\"}, \"baxis\": {\"gridcolor\": \"white\", \"linecolor\": \"white\", \"ticks\": \"\"}, \"bgcolor\": \"#E5ECF6\", \"caxis\": {\"gridcolor\": \"white\", \"linecolor\": \"white\", \"ticks\": \"\"}}, \"title\": {\"x\": 0.05}, \"xaxis\": {\"automargin\": true, \"gridcolor\": \"white\", \"linecolor\": \"white\", \"ticks\": \"\", \"title\": {\"standoff\": 15}, \"zerolinecolor\": \"white\", \"zerolinewidth\": 2}, \"yaxis\": {\"automargin\": true, \"gridcolor\": \"white\", \"linecolor\": \"white\", \"ticks\": \"\", \"title\": {\"standoff\": 15}, \"zerolinecolor\": \"white\", \"zerolinewidth\": 2}}}, \"title\": {\"text\": \"\\uae0d\\uc815\"}},                        {\"responsive\": true}                    ).then(function(){\n",
       "                            \n",
       "var gd = document.getElementById('00710644-66b1-48dc-9f2f-5544d96ed55b');\n",
       "var x = new MutationObserver(function (mutations, observer) {{\n",
       "        var display = window.getComputedStyle(gd).display;\n",
       "        if (!display || display === 'none') {{\n",
       "            console.log([gd, 'removed!']);\n",
       "            Plotly.purge(gd);\n",
       "            observer.disconnect();\n",
       "        }}\n",
       "}});\n",
       "\n",
       "// Listen for the removal of the full notebook cells\n",
       "var notebookContainer = gd.closest('#notebook-container');\n",
       "if (notebookContainer) {{\n",
       "    x.observe(notebookContainer, {childList: true});\n",
       "}}\n",
       "\n",
       "// Listen for the clearing of the current output cell\n",
       "var outputEl = gd.closest('.output');\n",
       "if (outputEl) {{\n",
       "    x.observe(outputEl, {childList: true});\n",
       "}}\n",
       "\n",
       "                        })                };                });            </script>        </div>"
      ]
     },
     "metadata": {},
     "output_type": "display_data"
    }
   ],
   "source": [
    "pos = pie[pie.attitude == 0]\n",
    "fig = px.pie(neg, values = 'review', hover_data = ['Category_count'],\n",
    "            color_discrete_sequence = px.colors.sequential.dense, names = 'Category_count',labels = {'Category_count' : '포함된 카테고리 수'})  \n",
    "fig.update_traces(textposition = 'inside', textinfo = 'percent + label', textfont_size = 14) #위에 거슬리는 숫자들을 안으로!\n",
    "fig.update_traces(textposition = 'inside', textinfo = 'percent + label', textfont_size = 14,\n",
    "                  marker = dict(line = dict(color = 'black', width = 1)))\n",
    "fig.update_layout(title = \"긍정\")\n",
    "\n",
    "fig.show()"
   ]
  },
  {
   "cell_type": "markdown",
   "metadata": {},
   "source": [
    "### 중립"
   ]
  },
  {
   "cell_type": "code",
   "execution_count": 59,
   "metadata": {},
   "outputs": [
    {
     "data": {
      "application/vnd.plotly.v1+json": {
       "config": {
        "plotlyServerURL": "https://plot.ly"
       },
       "data": [
        {
         "customdata": [
          [
           "1"
          ],
          [
           "2"
          ],
          [
           "3"
          ],
          [
           "4"
          ],
          [
           "5"
          ],
          [
           "6"
          ]
         ],
         "domain": {
          "x": [
           0,
           1
          ],
          "y": [
           0,
           1
          ]
         },
         "hovertemplate": "포함된 카테고리 수=%{customdata[0]}<br>review=%{value}<extra></extra>",
         "labels": [
          "1",
          "2",
          "3",
          "4",
          "5",
          "6"
         ],
         "legendgroup": "",
         "marker": {
          "line": {
           "color": "black",
           "width": 1
          }
         },
         "name": "",
         "showlegend": true,
         "textfont": {
          "size": 14
         },
         "textinfo": "percent+label",
         "textposition": "inside",
         "type": "pie",
         "values": [
          87,
          31,
          5,
          1,
          0,
          0
         ]
        }
       ],
       "layout": {
        "legend": {
         "tracegroupgap": 0
        },
        "margin": {
         "t": 60
        },
        "piecolorway": [
         "rgb(230, 240, 240)",
         "rgb(191, 221, 229)",
         "rgb(156, 201, 226)",
         "rgb(129, 180, 227)",
         "rgb(115, 154, 228)",
         "rgb(117, 127, 221)",
         "rgb(120, 100, 202)",
         "rgb(119, 74, 175)",
         "rgb(113, 50, 141)",
         "rgb(100, 31, 104)",
         "rgb(80, 20, 66)",
         "rgb(54, 14, 36)"
        ],
        "template": {
         "data": {
          "bar": [
           {
            "error_x": {
             "color": "#2a3f5f"
            },
            "error_y": {
             "color": "#2a3f5f"
            },
            "marker": {
             "line": {
              "color": "#E5ECF6",
              "width": 0.5
             }
            },
            "type": "bar"
           }
          ],
          "barpolar": [
           {
            "marker": {
             "line": {
              "color": "#E5ECF6",
              "width": 0.5
             }
            },
            "type": "barpolar"
           }
          ],
          "carpet": [
           {
            "aaxis": {
             "endlinecolor": "#2a3f5f",
             "gridcolor": "white",
             "linecolor": "white",
             "minorgridcolor": "white",
             "startlinecolor": "#2a3f5f"
            },
            "baxis": {
             "endlinecolor": "#2a3f5f",
             "gridcolor": "white",
             "linecolor": "white",
             "minorgridcolor": "white",
             "startlinecolor": "#2a3f5f"
            },
            "type": "carpet"
           }
          ],
          "choropleth": [
           {
            "colorbar": {
             "outlinewidth": 0,
             "ticks": ""
            },
            "type": "choropleth"
           }
          ],
          "contour": [
           {
            "colorbar": {
             "outlinewidth": 0,
             "ticks": ""
            },
            "colorscale": [
             [
              0,
              "#0d0887"
             ],
             [
              0.1111111111111111,
              "#46039f"
             ],
             [
              0.2222222222222222,
              "#7201a8"
             ],
             [
              0.3333333333333333,
              "#9c179e"
             ],
             [
              0.4444444444444444,
              "#bd3786"
             ],
             [
              0.5555555555555556,
              "#d8576b"
             ],
             [
              0.6666666666666666,
              "#ed7953"
             ],
             [
              0.7777777777777778,
              "#fb9f3a"
             ],
             [
              0.8888888888888888,
              "#fdca26"
             ],
             [
              1,
              "#f0f921"
             ]
            ],
            "type": "contour"
           }
          ],
          "contourcarpet": [
           {
            "colorbar": {
             "outlinewidth": 0,
             "ticks": ""
            },
            "type": "contourcarpet"
           }
          ],
          "heatmap": [
           {
            "colorbar": {
             "outlinewidth": 0,
             "ticks": ""
            },
            "colorscale": [
             [
              0,
              "#0d0887"
             ],
             [
              0.1111111111111111,
              "#46039f"
             ],
             [
              0.2222222222222222,
              "#7201a8"
             ],
             [
              0.3333333333333333,
              "#9c179e"
             ],
             [
              0.4444444444444444,
              "#bd3786"
             ],
             [
              0.5555555555555556,
              "#d8576b"
             ],
             [
              0.6666666666666666,
              "#ed7953"
             ],
             [
              0.7777777777777778,
              "#fb9f3a"
             ],
             [
              0.8888888888888888,
              "#fdca26"
             ],
             [
              1,
              "#f0f921"
             ]
            ],
            "type": "heatmap"
           }
          ],
          "heatmapgl": [
           {
            "colorbar": {
             "outlinewidth": 0,
             "ticks": ""
            },
            "colorscale": [
             [
              0,
              "#0d0887"
             ],
             [
              0.1111111111111111,
              "#46039f"
             ],
             [
              0.2222222222222222,
              "#7201a8"
             ],
             [
              0.3333333333333333,
              "#9c179e"
             ],
             [
              0.4444444444444444,
              "#bd3786"
             ],
             [
              0.5555555555555556,
              "#d8576b"
             ],
             [
              0.6666666666666666,
              "#ed7953"
             ],
             [
              0.7777777777777778,
              "#fb9f3a"
             ],
             [
              0.8888888888888888,
              "#fdca26"
             ],
             [
              1,
              "#f0f921"
             ]
            ],
            "type": "heatmapgl"
           }
          ],
          "histogram": [
           {
            "marker": {
             "colorbar": {
              "outlinewidth": 0,
              "ticks": ""
             }
            },
            "type": "histogram"
           }
          ],
          "histogram2d": [
           {
            "colorbar": {
             "outlinewidth": 0,
             "ticks": ""
            },
            "colorscale": [
             [
              0,
              "#0d0887"
             ],
             [
              0.1111111111111111,
              "#46039f"
             ],
             [
              0.2222222222222222,
              "#7201a8"
             ],
             [
              0.3333333333333333,
              "#9c179e"
             ],
             [
              0.4444444444444444,
              "#bd3786"
             ],
             [
              0.5555555555555556,
              "#d8576b"
             ],
             [
              0.6666666666666666,
              "#ed7953"
             ],
             [
              0.7777777777777778,
              "#fb9f3a"
             ],
             [
              0.8888888888888888,
              "#fdca26"
             ],
             [
              1,
              "#f0f921"
             ]
            ],
            "type": "histogram2d"
           }
          ],
          "histogram2dcontour": [
           {
            "colorbar": {
             "outlinewidth": 0,
             "ticks": ""
            },
            "colorscale": [
             [
              0,
              "#0d0887"
             ],
             [
              0.1111111111111111,
              "#46039f"
             ],
             [
              0.2222222222222222,
              "#7201a8"
             ],
             [
              0.3333333333333333,
              "#9c179e"
             ],
             [
              0.4444444444444444,
              "#bd3786"
             ],
             [
              0.5555555555555556,
              "#d8576b"
             ],
             [
              0.6666666666666666,
              "#ed7953"
             ],
             [
              0.7777777777777778,
              "#fb9f3a"
             ],
             [
              0.8888888888888888,
              "#fdca26"
             ],
             [
              1,
              "#f0f921"
             ]
            ],
            "type": "histogram2dcontour"
           }
          ],
          "mesh3d": [
           {
            "colorbar": {
             "outlinewidth": 0,
             "ticks": ""
            },
            "type": "mesh3d"
           }
          ],
          "parcoords": [
           {
            "line": {
             "colorbar": {
              "outlinewidth": 0,
              "ticks": ""
             }
            },
            "type": "parcoords"
           }
          ],
          "pie": [
           {
            "automargin": true,
            "type": "pie"
           }
          ],
          "scatter": [
           {
            "marker": {
             "colorbar": {
              "outlinewidth": 0,
              "ticks": ""
             }
            },
            "type": "scatter"
           }
          ],
          "scatter3d": [
           {
            "line": {
             "colorbar": {
              "outlinewidth": 0,
              "ticks": ""
             }
            },
            "marker": {
             "colorbar": {
              "outlinewidth": 0,
              "ticks": ""
             }
            },
            "type": "scatter3d"
           }
          ],
          "scattercarpet": [
           {
            "marker": {
             "colorbar": {
              "outlinewidth": 0,
              "ticks": ""
             }
            },
            "type": "scattercarpet"
           }
          ],
          "scattergeo": [
           {
            "marker": {
             "colorbar": {
              "outlinewidth": 0,
              "ticks": ""
             }
            },
            "type": "scattergeo"
           }
          ],
          "scattergl": [
           {
            "marker": {
             "colorbar": {
              "outlinewidth": 0,
              "ticks": ""
             }
            },
            "type": "scattergl"
           }
          ],
          "scattermapbox": [
           {
            "marker": {
             "colorbar": {
              "outlinewidth": 0,
              "ticks": ""
             }
            },
            "type": "scattermapbox"
           }
          ],
          "scatterpolar": [
           {
            "marker": {
             "colorbar": {
              "outlinewidth": 0,
              "ticks": ""
             }
            },
            "type": "scatterpolar"
           }
          ],
          "scatterpolargl": [
           {
            "marker": {
             "colorbar": {
              "outlinewidth": 0,
              "ticks": ""
             }
            },
            "type": "scatterpolargl"
           }
          ],
          "scatterternary": [
           {
            "marker": {
             "colorbar": {
              "outlinewidth": 0,
              "ticks": ""
             }
            },
            "type": "scatterternary"
           }
          ],
          "surface": [
           {
            "colorbar": {
             "outlinewidth": 0,
             "ticks": ""
            },
            "colorscale": [
             [
              0,
              "#0d0887"
             ],
             [
              0.1111111111111111,
              "#46039f"
             ],
             [
              0.2222222222222222,
              "#7201a8"
             ],
             [
              0.3333333333333333,
              "#9c179e"
             ],
             [
              0.4444444444444444,
              "#bd3786"
             ],
             [
              0.5555555555555556,
              "#d8576b"
             ],
             [
              0.6666666666666666,
              "#ed7953"
             ],
             [
              0.7777777777777778,
              "#fb9f3a"
             ],
             [
              0.8888888888888888,
              "#fdca26"
             ],
             [
              1,
              "#f0f921"
             ]
            ],
            "type": "surface"
           }
          ],
          "table": [
           {
            "cells": {
             "fill": {
              "color": "#EBF0F8"
             },
             "line": {
              "color": "white"
             }
            },
            "header": {
             "fill": {
              "color": "#C8D4E3"
             },
             "line": {
              "color": "white"
             }
            },
            "type": "table"
           }
          ]
         },
         "layout": {
          "annotationdefaults": {
           "arrowcolor": "#2a3f5f",
           "arrowhead": 0,
           "arrowwidth": 1
          },
          "coloraxis": {
           "colorbar": {
            "outlinewidth": 0,
            "ticks": ""
           }
          },
          "colorscale": {
           "diverging": [
            [
             0,
             "#8e0152"
            ],
            [
             0.1,
             "#c51b7d"
            ],
            [
             0.2,
             "#de77ae"
            ],
            [
             0.3,
             "#f1b6da"
            ],
            [
             0.4,
             "#fde0ef"
            ],
            [
             0.5,
             "#f7f7f7"
            ],
            [
             0.6,
             "#e6f5d0"
            ],
            [
             0.7,
             "#b8e186"
            ],
            [
             0.8,
             "#7fbc41"
            ],
            [
             0.9,
             "#4d9221"
            ],
            [
             1,
             "#276419"
            ]
           ],
           "sequential": [
            [
             0,
             "#0d0887"
            ],
            [
             0.1111111111111111,
             "#46039f"
            ],
            [
             0.2222222222222222,
             "#7201a8"
            ],
            [
             0.3333333333333333,
             "#9c179e"
            ],
            [
             0.4444444444444444,
             "#bd3786"
            ],
            [
             0.5555555555555556,
             "#d8576b"
            ],
            [
             0.6666666666666666,
             "#ed7953"
            ],
            [
             0.7777777777777778,
             "#fb9f3a"
            ],
            [
             0.8888888888888888,
             "#fdca26"
            ],
            [
             1,
             "#f0f921"
            ]
           ],
           "sequentialminus": [
            [
             0,
             "#0d0887"
            ],
            [
             0.1111111111111111,
             "#46039f"
            ],
            [
             0.2222222222222222,
             "#7201a8"
            ],
            [
             0.3333333333333333,
             "#9c179e"
            ],
            [
             0.4444444444444444,
             "#bd3786"
            ],
            [
             0.5555555555555556,
             "#d8576b"
            ],
            [
             0.6666666666666666,
             "#ed7953"
            ],
            [
             0.7777777777777778,
             "#fb9f3a"
            ],
            [
             0.8888888888888888,
             "#fdca26"
            ],
            [
             1,
             "#f0f921"
            ]
           ]
          },
          "colorway": [
           "#636efa",
           "#EF553B",
           "#00cc96",
           "#ab63fa",
           "#FFA15A",
           "#19d3f3",
           "#FF6692",
           "#B6E880",
           "#FF97FF",
           "#FECB52"
          ],
          "font": {
           "color": "#2a3f5f"
          },
          "geo": {
           "bgcolor": "white",
           "lakecolor": "white",
           "landcolor": "#E5ECF6",
           "showlakes": true,
           "showland": true,
           "subunitcolor": "white"
          },
          "hoverlabel": {
           "align": "left"
          },
          "hovermode": "closest",
          "mapbox": {
           "style": "light"
          },
          "paper_bgcolor": "white",
          "plot_bgcolor": "#E5ECF6",
          "polar": {
           "angularaxis": {
            "gridcolor": "white",
            "linecolor": "white",
            "ticks": ""
           },
           "bgcolor": "#E5ECF6",
           "radialaxis": {
            "gridcolor": "white",
            "linecolor": "white",
            "ticks": ""
           }
          },
          "scene": {
           "xaxis": {
            "backgroundcolor": "#E5ECF6",
            "gridcolor": "white",
            "gridwidth": 2,
            "linecolor": "white",
            "showbackground": true,
            "ticks": "",
            "zerolinecolor": "white"
           },
           "yaxis": {
            "backgroundcolor": "#E5ECF6",
            "gridcolor": "white",
            "gridwidth": 2,
            "linecolor": "white",
            "showbackground": true,
            "ticks": "",
            "zerolinecolor": "white"
           },
           "zaxis": {
            "backgroundcolor": "#E5ECF6",
            "gridcolor": "white",
            "gridwidth": 2,
            "linecolor": "white",
            "showbackground": true,
            "ticks": "",
            "zerolinecolor": "white"
           }
          },
          "shapedefaults": {
           "line": {
            "color": "#2a3f5f"
           }
          },
          "ternary": {
           "aaxis": {
            "gridcolor": "white",
            "linecolor": "white",
            "ticks": ""
           },
           "baxis": {
            "gridcolor": "white",
            "linecolor": "white",
            "ticks": ""
           },
           "bgcolor": "#E5ECF6",
           "caxis": {
            "gridcolor": "white",
            "linecolor": "white",
            "ticks": ""
           }
          },
          "title": {
           "x": 0.05
          },
          "xaxis": {
           "automargin": true,
           "gridcolor": "white",
           "linecolor": "white",
           "ticks": "",
           "title": {
            "standoff": 15
           },
           "zerolinecolor": "white",
           "zerolinewidth": 2
          },
          "yaxis": {
           "automargin": true,
           "gridcolor": "white",
           "linecolor": "white",
           "ticks": "",
           "title": {
            "standoff": 15
           },
           "zerolinecolor": "white",
           "zerolinewidth": 2
          }
         }
        },
        "title": {
         "text": "중립"
        }
       }
      },
      "text/html": [
       "<div>                            <div id=\"180a0743-d524-401d-acf2-09dc9655525d\" class=\"plotly-graph-div\" style=\"height:525px; width:100%;\"></div>            <script type=\"text/javascript\">                require([\"plotly\"], function(Plotly) {                    window.PLOTLYENV=window.PLOTLYENV || {};                                    if (document.getElementById(\"180a0743-d524-401d-acf2-09dc9655525d\")) {                    Plotly.newPlot(                        \"180a0743-d524-401d-acf2-09dc9655525d\",                        [{\"customdata\": [[\"1\"], [\"2\"], [\"3\"], [\"4\"], [\"5\"], [\"6\"]], \"domain\": {\"x\": [0.0, 1.0], \"y\": [0.0, 1.0]}, \"hovertemplate\": \"\\ud3ec\\ud568\\ub41c \\uce74\\ud14c\\uace0\\ub9ac \\uc218=%{customdata[0]}<br>review=%{value}<extra></extra>\", \"labels\": [\"1\", \"2\", \"3\", \"4\", \"5\", \"6\"], \"legendgroup\": \"\", \"marker\": {\"line\": {\"color\": \"black\", \"width\": 1}}, \"name\": \"\", \"showlegend\": true, \"textfont\": {\"size\": 14}, \"textinfo\": \"percent+label\", \"textposition\": \"inside\", \"type\": \"pie\", \"values\": [87, 31, 5, 1, 0, 0]}],                        {\"legend\": {\"tracegroupgap\": 0}, \"margin\": {\"t\": 60}, \"piecolorway\": [\"rgb(230, 240, 240)\", \"rgb(191, 221, 229)\", \"rgb(156, 201, 226)\", \"rgb(129, 180, 227)\", \"rgb(115, 154, 228)\", \"rgb(117, 127, 221)\", \"rgb(120, 100, 202)\", \"rgb(119, 74, 175)\", \"rgb(113, 50, 141)\", \"rgb(100, 31, 104)\", \"rgb(80, 20, 66)\", \"rgb(54, 14, 36)\"], \"template\": {\"data\": {\"bar\": [{\"error_x\": {\"color\": \"#2a3f5f\"}, \"error_y\": {\"color\": \"#2a3f5f\"}, \"marker\": {\"line\": {\"color\": \"#E5ECF6\", \"width\": 0.5}}, \"type\": \"bar\"}], \"barpolar\": [{\"marker\": {\"line\": {\"color\": \"#E5ECF6\", \"width\": 0.5}}, \"type\": \"barpolar\"}], \"carpet\": [{\"aaxis\": {\"endlinecolor\": \"#2a3f5f\", \"gridcolor\": \"white\", \"linecolor\": \"white\", \"minorgridcolor\": \"white\", \"startlinecolor\": \"#2a3f5f\"}, \"baxis\": {\"endlinecolor\": \"#2a3f5f\", \"gridcolor\": \"white\", \"linecolor\": \"white\", \"minorgridcolor\": \"white\", \"startlinecolor\": \"#2a3f5f\"}, \"type\": \"carpet\"}], \"choropleth\": [{\"colorbar\": {\"outlinewidth\": 0, \"ticks\": \"\"}, \"type\": \"choropleth\"}], \"contour\": [{\"colorbar\": {\"outlinewidth\": 0, \"ticks\": \"\"}, \"colorscale\": [[0.0, \"#0d0887\"], [0.1111111111111111, \"#46039f\"], [0.2222222222222222, \"#7201a8\"], [0.3333333333333333, \"#9c179e\"], [0.4444444444444444, \"#bd3786\"], [0.5555555555555556, \"#d8576b\"], [0.6666666666666666, \"#ed7953\"], [0.7777777777777778, \"#fb9f3a\"], [0.8888888888888888, \"#fdca26\"], [1.0, \"#f0f921\"]], \"type\": \"contour\"}], \"contourcarpet\": [{\"colorbar\": {\"outlinewidth\": 0, \"ticks\": \"\"}, \"type\": \"contourcarpet\"}], \"heatmap\": [{\"colorbar\": {\"outlinewidth\": 0, \"ticks\": \"\"}, \"colorscale\": [[0.0, \"#0d0887\"], [0.1111111111111111, \"#46039f\"], [0.2222222222222222, \"#7201a8\"], [0.3333333333333333, \"#9c179e\"], [0.4444444444444444, \"#bd3786\"], [0.5555555555555556, \"#d8576b\"], [0.6666666666666666, \"#ed7953\"], [0.7777777777777778, \"#fb9f3a\"], [0.8888888888888888, \"#fdca26\"], [1.0, \"#f0f921\"]], \"type\": \"heatmap\"}], \"heatmapgl\": [{\"colorbar\": {\"outlinewidth\": 0, \"ticks\": \"\"}, \"colorscale\": [[0.0, \"#0d0887\"], [0.1111111111111111, \"#46039f\"], [0.2222222222222222, \"#7201a8\"], [0.3333333333333333, \"#9c179e\"], [0.4444444444444444, \"#bd3786\"], [0.5555555555555556, \"#d8576b\"], [0.6666666666666666, \"#ed7953\"], [0.7777777777777778, \"#fb9f3a\"], [0.8888888888888888, \"#fdca26\"], [1.0, \"#f0f921\"]], \"type\": \"heatmapgl\"}], \"histogram\": [{\"marker\": {\"colorbar\": {\"outlinewidth\": 0, \"ticks\": \"\"}}, \"type\": \"histogram\"}], \"histogram2d\": [{\"colorbar\": {\"outlinewidth\": 0, \"ticks\": \"\"}, \"colorscale\": [[0.0, \"#0d0887\"], [0.1111111111111111, \"#46039f\"], [0.2222222222222222, \"#7201a8\"], [0.3333333333333333, \"#9c179e\"], [0.4444444444444444, \"#bd3786\"], [0.5555555555555556, \"#d8576b\"], [0.6666666666666666, \"#ed7953\"], [0.7777777777777778, \"#fb9f3a\"], [0.8888888888888888, \"#fdca26\"], [1.0, \"#f0f921\"]], \"type\": \"histogram2d\"}], \"histogram2dcontour\": [{\"colorbar\": {\"outlinewidth\": 0, \"ticks\": \"\"}, \"colorscale\": [[0.0, \"#0d0887\"], [0.1111111111111111, \"#46039f\"], [0.2222222222222222, \"#7201a8\"], [0.3333333333333333, \"#9c179e\"], [0.4444444444444444, \"#bd3786\"], [0.5555555555555556, \"#d8576b\"], [0.6666666666666666, \"#ed7953\"], [0.7777777777777778, \"#fb9f3a\"], [0.8888888888888888, \"#fdca26\"], [1.0, \"#f0f921\"]], \"type\": \"histogram2dcontour\"}], \"mesh3d\": [{\"colorbar\": {\"outlinewidth\": 0, \"ticks\": \"\"}, \"type\": \"mesh3d\"}], \"parcoords\": [{\"line\": {\"colorbar\": {\"outlinewidth\": 0, \"ticks\": \"\"}}, \"type\": \"parcoords\"}], \"pie\": [{\"automargin\": true, \"type\": \"pie\"}], \"scatter\": [{\"marker\": {\"colorbar\": {\"outlinewidth\": 0, \"ticks\": \"\"}}, \"type\": \"scatter\"}], \"scatter3d\": [{\"line\": {\"colorbar\": {\"outlinewidth\": 0, \"ticks\": \"\"}}, \"marker\": {\"colorbar\": {\"outlinewidth\": 0, \"ticks\": \"\"}}, \"type\": \"scatter3d\"}], \"scattercarpet\": [{\"marker\": {\"colorbar\": {\"outlinewidth\": 0, \"ticks\": \"\"}}, \"type\": \"scattercarpet\"}], \"scattergeo\": [{\"marker\": {\"colorbar\": {\"outlinewidth\": 0, \"ticks\": \"\"}}, \"type\": \"scattergeo\"}], \"scattergl\": [{\"marker\": {\"colorbar\": {\"outlinewidth\": 0, \"ticks\": \"\"}}, \"type\": \"scattergl\"}], \"scattermapbox\": [{\"marker\": {\"colorbar\": {\"outlinewidth\": 0, \"ticks\": \"\"}}, \"type\": \"scattermapbox\"}], \"scatterpolar\": [{\"marker\": {\"colorbar\": {\"outlinewidth\": 0, \"ticks\": \"\"}}, \"type\": \"scatterpolar\"}], \"scatterpolargl\": [{\"marker\": {\"colorbar\": {\"outlinewidth\": 0, \"ticks\": \"\"}}, \"type\": \"scatterpolargl\"}], \"scatterternary\": [{\"marker\": {\"colorbar\": {\"outlinewidth\": 0, \"ticks\": \"\"}}, \"type\": \"scatterternary\"}], \"surface\": [{\"colorbar\": {\"outlinewidth\": 0, \"ticks\": \"\"}, \"colorscale\": [[0.0, \"#0d0887\"], [0.1111111111111111, \"#46039f\"], [0.2222222222222222, \"#7201a8\"], [0.3333333333333333, \"#9c179e\"], [0.4444444444444444, \"#bd3786\"], [0.5555555555555556, \"#d8576b\"], [0.6666666666666666, \"#ed7953\"], [0.7777777777777778, \"#fb9f3a\"], [0.8888888888888888, \"#fdca26\"], [1.0, \"#f0f921\"]], \"type\": \"surface\"}], \"table\": [{\"cells\": {\"fill\": {\"color\": \"#EBF0F8\"}, \"line\": {\"color\": \"white\"}}, \"header\": {\"fill\": {\"color\": \"#C8D4E3\"}, \"line\": {\"color\": \"white\"}}, \"type\": \"table\"}]}, \"layout\": {\"annotationdefaults\": {\"arrowcolor\": \"#2a3f5f\", \"arrowhead\": 0, \"arrowwidth\": 1}, \"coloraxis\": {\"colorbar\": {\"outlinewidth\": 0, \"ticks\": \"\"}}, \"colorscale\": {\"diverging\": [[0, \"#8e0152\"], [0.1, \"#c51b7d\"], [0.2, \"#de77ae\"], [0.3, \"#f1b6da\"], [0.4, \"#fde0ef\"], [0.5, \"#f7f7f7\"], [0.6, \"#e6f5d0\"], [0.7, \"#b8e186\"], [0.8, \"#7fbc41\"], [0.9, \"#4d9221\"], [1, \"#276419\"]], \"sequential\": [[0.0, \"#0d0887\"], [0.1111111111111111, \"#46039f\"], [0.2222222222222222, \"#7201a8\"], [0.3333333333333333, \"#9c179e\"], [0.4444444444444444, \"#bd3786\"], [0.5555555555555556, \"#d8576b\"], [0.6666666666666666, \"#ed7953\"], [0.7777777777777778, \"#fb9f3a\"], [0.8888888888888888, \"#fdca26\"], [1.0, \"#f0f921\"]], \"sequentialminus\": [[0.0, \"#0d0887\"], [0.1111111111111111, \"#46039f\"], [0.2222222222222222, \"#7201a8\"], [0.3333333333333333, \"#9c179e\"], [0.4444444444444444, \"#bd3786\"], [0.5555555555555556, \"#d8576b\"], [0.6666666666666666, \"#ed7953\"], [0.7777777777777778, \"#fb9f3a\"], [0.8888888888888888, \"#fdca26\"], [1.0, \"#f0f921\"]]}, \"colorway\": [\"#636efa\", \"#EF553B\", \"#00cc96\", \"#ab63fa\", \"#FFA15A\", \"#19d3f3\", \"#FF6692\", \"#B6E880\", \"#FF97FF\", \"#FECB52\"], \"font\": {\"color\": \"#2a3f5f\"}, \"geo\": {\"bgcolor\": \"white\", \"lakecolor\": \"white\", \"landcolor\": \"#E5ECF6\", \"showlakes\": true, \"showland\": true, \"subunitcolor\": \"white\"}, \"hoverlabel\": {\"align\": \"left\"}, \"hovermode\": \"closest\", \"mapbox\": {\"style\": \"light\"}, \"paper_bgcolor\": \"white\", \"plot_bgcolor\": \"#E5ECF6\", \"polar\": {\"angularaxis\": {\"gridcolor\": \"white\", \"linecolor\": \"white\", \"ticks\": \"\"}, \"bgcolor\": \"#E5ECF6\", \"radialaxis\": {\"gridcolor\": \"white\", \"linecolor\": \"white\", \"ticks\": \"\"}}, \"scene\": {\"xaxis\": {\"backgroundcolor\": \"#E5ECF6\", \"gridcolor\": \"white\", \"gridwidth\": 2, \"linecolor\": \"white\", \"showbackground\": true, \"ticks\": \"\", \"zerolinecolor\": \"white\"}, \"yaxis\": {\"backgroundcolor\": \"#E5ECF6\", \"gridcolor\": \"white\", \"gridwidth\": 2, \"linecolor\": \"white\", \"showbackground\": true, \"ticks\": \"\", \"zerolinecolor\": \"white\"}, \"zaxis\": {\"backgroundcolor\": \"#E5ECF6\", \"gridcolor\": \"white\", \"gridwidth\": 2, \"linecolor\": \"white\", \"showbackground\": true, \"ticks\": \"\", \"zerolinecolor\": \"white\"}}, \"shapedefaults\": {\"line\": {\"color\": \"#2a3f5f\"}}, \"ternary\": {\"aaxis\": {\"gridcolor\": \"white\", \"linecolor\": \"white\", \"ticks\": \"\"}, \"baxis\": {\"gridcolor\": \"white\", \"linecolor\": \"white\", \"ticks\": \"\"}, \"bgcolor\": \"#E5ECF6\", \"caxis\": {\"gridcolor\": \"white\", \"linecolor\": \"white\", \"ticks\": \"\"}}, \"title\": {\"x\": 0.05}, \"xaxis\": {\"automargin\": true, \"gridcolor\": \"white\", \"linecolor\": \"white\", \"ticks\": \"\", \"title\": {\"standoff\": 15}, \"zerolinecolor\": \"white\", \"zerolinewidth\": 2}, \"yaxis\": {\"automargin\": true, \"gridcolor\": \"white\", \"linecolor\": \"white\", \"ticks\": \"\", \"title\": {\"standoff\": 15}, \"zerolinecolor\": \"white\", \"zerolinewidth\": 2}}}, \"title\": {\"text\": \"\\uc911\\ub9bd\"}},                        {\"responsive\": true}                    ).then(function(){\n",
       "                            \n",
       "var gd = document.getElementById('180a0743-d524-401d-acf2-09dc9655525d');\n",
       "var x = new MutationObserver(function (mutations, observer) {{\n",
       "        var display = window.getComputedStyle(gd).display;\n",
       "        if (!display || display === 'none') {{\n",
       "            console.log([gd, 'removed!']);\n",
       "            Plotly.purge(gd);\n",
       "            observer.disconnect();\n",
       "        }}\n",
       "}});\n",
       "\n",
       "// Listen for the removal of the full notebook cells\n",
       "var notebookContainer = gd.closest('#notebook-container');\n",
       "if (notebookContainer) {{\n",
       "    x.observe(notebookContainer, {childList: true});\n",
       "}}\n",
       "\n",
       "// Listen for the clearing of the current output cell\n",
       "var outputEl = gd.closest('.output');\n",
       "if (outputEl) {{\n",
       "    x.observe(outputEl, {childList: true});\n",
       "}}\n",
       "\n",
       "                        })                };                });            </script>        </div>"
      ]
     },
     "metadata": {},
     "output_type": "display_data"
    }
   ],
   "source": [
    "neu = pie[pie.attitude == 0]\n",
    "fig = px.pie(neg, values = 'review', hover_data = ['Category_count'],\n",
    "            color_discrete_sequence = px.colors.sequential.dense, names = 'Category_count',labels = {'Category_count' : '포함된 카테고리 수'})  \n",
    "fig.update_traces(textposition = 'inside', textinfo = 'percent + label', textfont_size = 14) #위에 거슬리는 숫자들을 안으로!\n",
    "fig.update_traces(textposition = 'inside', textinfo = 'percent + label', textfont_size = 14,\n",
    "                  marker = dict(line = dict(color = 'black', width = 1)))\n",
    "fig.update_layout(title = \"중립\")\n",
    "\n",
    "fig.show()"
   ]
  },
  {
   "cell_type": "code",
   "execution_count": null,
   "metadata": {},
   "outputs": [],
   "source": []
  },
  {
   "cell_type": "code",
   "execution_count": null,
   "metadata": {},
   "outputs": [],
   "source": []
  }
 ],
 "metadata": {
  "kernelspec": {
   "display_name": "Python 3",
   "language": "python",
   "name": "python3"
  },
  "language_info": {
   "codemirror_mode": {
    "name": "ipython",
    "version": 3
   },
   "file_extension": ".py",
   "mimetype": "text/x-python",
   "name": "python",
   "nbconvert_exporter": "python",
   "pygments_lexer": "ipython3",
   "version": "3.7.3"
  },
  "toc": {
   "base_numbering": 1,
   "nav_menu": {},
   "number_sections": true,
   "sideBar": true,
   "skip_h1_title": false,
   "title_cell": "Table of Contents",
   "title_sidebar": "Contents",
   "toc_cell": false,
   "toc_position": {},
   "toc_section_display": true,
   "toc_window_display": false
  }
 },
 "nbformat": 4,
 "nbformat_minor": 4
}
