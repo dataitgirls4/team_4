{
 "cells": [
  {
   "cell_type": "markdown",
   "metadata": {},
   "source": [
    "## 전처리 개요\n",
    "\n",
    "- 대상 파일: 전처리전_아고다.csv, 전처리전_야놀자.xlsx\n",
    "- 전처리 항목\n",
    "    - 특수문자 제거\n",
    "    - 의미없는 자음, 모음 제거\n",
    "    - 이모티콘 제거\n",
    "    - 맞춤법 고치기 (띄어쓰기, 맞춤법등 변경해주는 네이버 맞춤법 검사 api 활용)"
   ]
  },
  {
   "cell_type": "markdown",
   "metadata": {},
   "source": [
    "## 파일 import "
   ]
  },
  {
   "cell_type": "code",
   "execution_count": 2,
   "metadata": {},
   "outputs": [],
   "source": [
    "import pandas as pd"
   ]
  },
  {
   "cell_type": "code",
   "execution_count": 6,
   "metadata": {},
   "outputs": [],
   "source": [
    "df1 = pd.read_csv('../data/전처리전_아고다.csv')\n",
    "df2 = pd.read_excel('../data/전처리전_야놀자.xlsx')"
   ]
  },
  {
   "cell_type": "code",
   "execution_count": 7,
   "metadata": {},
   "outputs": [
    {
     "data": {
      "text/html": [
       "<div>\n",
       "<style scoped>\n",
       "    .dataframe tbody tr th:only-of-type {\n",
       "        vertical-align: middle;\n",
       "    }\n",
       "\n",
       "    .dataframe tbody tr th {\n",
       "        vertical-align: top;\n",
       "    }\n",
       "\n",
       "    .dataframe thead th {\n",
       "        text-align: right;\n",
       "    }\n",
       "</style>\n",
       "<table border=\"1\" class=\"dataframe\">\n",
       "  <thead>\n",
       "    <tr style=\"text-align: right;\">\n",
       "      <th></th>\n",
       "      <th>score</th>\n",
       "      <th>text</th>\n",
       "      <th>title</th>\n",
       "    </tr>\n",
       "  </thead>\n",
       "  <tbody>\n",
       "    <tr>\n",
       "      <th>0</th>\n",
       "      <td>8.0</td>\n",
       "      <td>ㅇ</td>\n",
       "      <td>글래드라이브 호텔</td>\n",
       "    </tr>\n",
       "  </tbody>\n",
       "</table>\n",
       "</div>"
      ],
      "text/plain": [
       "   score text      title\n",
       "0    8.0    ㅇ  글래드라이브 호텔"
      ]
     },
     "execution_count": 7,
     "metadata": {},
     "output_type": "execute_result"
    }
   ],
   "source": [
    "df1.head(1)"
   ]
  },
  {
   "cell_type": "code",
   "execution_count": 8,
   "metadata": {},
   "outputs": [
    {
     "data": {
      "text/html": [
       "<div>\n",
       "<style scoped>\n",
       "    .dataframe tbody tr th:only-of-type {\n",
       "        vertical-align: middle;\n",
       "    }\n",
       "\n",
       "    .dataframe tbody tr th {\n",
       "        vertical-align: top;\n",
       "    }\n",
       "\n",
       "    .dataframe thead th {\n",
       "        text-align: right;\n",
       "    }\n",
       "</style>\n",
       "<table border=\"1\" class=\"dataframe\">\n",
       "  <thead>\n",
       "    <tr style=\"text-align: right;\">\n",
       "      <th></th>\n",
       "      <th>Unnamed: 0</th>\n",
       "      <th>hotel</th>\n",
       "      <th>star</th>\n",
       "      <th>review</th>\n",
       "      <th>date</th>\n",
       "      <th>length</th>\n",
       "    </tr>\n",
       "  </thead>\n",
       "  <tbody>\n",
       "    <tr>\n",
       "      <th>0</th>\n",
       "      <td>0</td>\n",
       "      <td>노보텔 앰배서더 서울 용산</td>\n",
       "      <td>5</td>\n",
       "      <td>역시 시설도 깨끗하고 좋았어요친절했구요</td>\n",
       "      <td>2020. 12. 02</td>\n",
       "      <td>21</td>\n",
       "    </tr>\n",
       "    <tr>\n",
       "      <th>1</th>\n",
       "      <td>1</td>\n",
       "      <td>노보텔 앰배서더 서울 용산</td>\n",
       "      <td>4</td>\n",
       "      <td>되게좋앗어요</td>\n",
       "      <td>2020. 12. 01</td>\n",
       "      <td>6</td>\n",
       "    </tr>\n",
       "  </tbody>\n",
       "</table>\n",
       "</div>"
      ],
      "text/plain": [
       "   Unnamed: 0           hotel  star                 review          date  \\\n",
       "0           0  노보텔 앰배서더 서울 용산     5  역시 시설도 깨끗하고 좋았어요친절했구요  2020. 12. 02   \n",
       "1           1  노보텔 앰배서더 서울 용산     4                 되게좋앗어요  2020. 12. 01   \n",
       "\n",
       "   length  \n",
       "0      21  \n",
       "1       6  "
      ]
     },
     "execution_count": 8,
     "metadata": {},
     "output_type": "execute_result"
    }
   ],
   "source": [
    "df2.head(2)"
   ]
  },
  {
   "cell_type": "code",
   "execution_count": 10,
   "metadata": {},
   "outputs": [],
   "source": [
    "df2 = df2.iloc[: ,1:]"
   ]
  },
  {
   "cell_type": "code",
   "execution_count": 12,
   "metadata": {},
   "outputs": [
    {
     "data": {
      "text/html": [
       "<div>\n",
       "<style scoped>\n",
       "    .dataframe tbody tr th:only-of-type {\n",
       "        vertical-align: middle;\n",
       "    }\n",
       "\n",
       "    .dataframe tbody tr th {\n",
       "        vertical-align: top;\n",
       "    }\n",
       "\n",
       "    .dataframe thead th {\n",
       "        text-align: right;\n",
       "    }\n",
       "</style>\n",
       "<table border=\"1\" class=\"dataframe\">\n",
       "  <thead>\n",
       "    <tr style=\"text-align: right;\">\n",
       "      <th></th>\n",
       "      <th>hotel</th>\n",
       "      <th>star</th>\n",
       "      <th>review</th>\n",
       "      <th>date</th>\n",
       "      <th>length</th>\n",
       "    </tr>\n",
       "  </thead>\n",
       "  <tbody>\n",
       "    <tr>\n",
       "      <th>0</th>\n",
       "      <td>노보텔 앰배서더 서울 용산</td>\n",
       "      <td>5</td>\n",
       "      <td>역시 시설도 깨끗하고 좋았어요친절했구요</td>\n",
       "      <td>2020. 12. 02</td>\n",
       "      <td>21</td>\n",
       "    </tr>\n",
       "  </tbody>\n",
       "</table>\n",
       "</div>"
      ],
      "text/plain": [
       "            hotel  star                 review          date  length\n",
       "0  노보텔 앰배서더 서울 용산     5  역시 시설도 깨끗하고 좋았어요친절했구요  2020. 12. 02      21"
      ]
     },
     "execution_count": 12,
     "metadata": {},
     "output_type": "execute_result"
    }
   ],
   "source": [
    "df2.head(1)"
   ]
  },
  {
   "cell_type": "markdown",
   "metadata": {},
   "source": [
    "## 파일 통일\n",
    "\n",
    "- df1, df2의 column명을 통일하고, concat으로 붙여주는 작업진행"
   ]
  },
  {
   "cell_type": "code",
   "execution_count": 13,
   "metadata": {},
   "outputs": [],
   "source": [
    "df1.columns = ['score','review','site']"
   ]
  },
  {
   "cell_type": "code",
   "execution_count": 15,
   "metadata": {},
   "outputs": [],
   "source": [
    "df2 = df2[['star','review','hotel']]\n",
    "df2.columns = ['score','review','site']"
   ]
  },
  {
   "cell_type": "code",
   "execution_count": 17,
   "metadata": {},
   "outputs": [],
   "source": [
    "df=pd.concat([df1,df2])"
   ]
  },
  {
   "cell_type": "markdown",
   "metadata": {},
   "source": [
    "## 특수문자 제거"
   ]
  },
  {
   "cell_type": "code",
   "execution_count": 18,
   "metadata": {},
   "outputs": [],
   "source": [
    "# 각 전처리 후, 18글자 이하의 리뷰 갯수 비율 확인하는 함수 \n",
    "def del_percent():\n",
    "    under_18 = df.loc[df['length'] <= 18,'review'].count()\n",
    "    all_count = df['review'].count()\n",
    "    print('18글자 이하 리뷰갯수:', under_18)\n",
    "    print(under_18 / all_count * 100)"
   ]
  },
  {
   "cell_type": "code",
   "execution_count": 26,
   "metadata": {},
   "outputs": [],
   "source": [
    "# 리뷰의 length 측정해서 컬럼으로 넣어줌\n",
    "df['length'] = df['review'].apply(lambda x: len(str(x)))\n",
    "df['review']=df['review'].astype('str')"
   ]
  },
  {
   "cell_type": "markdown",
   "metadata": {},
   "source": [
    "### \\n (개행문자) 제거"
   ]
  },
  {
   "cell_type": "code",
   "execution_count": 27,
   "metadata": {},
   "outputs": [
    {
     "name": "stdout",
     "output_type": "stream",
     "text": [
      "18글자 이하 리뷰갯수: 1296\n",
      "54.729729729729726\n"
     ]
    }
   ],
   "source": [
    "#1.'\\n' -> ''\n",
    "df['review'] = df['review'].apply(lambda x: x.replace('\\n',''))\n",
    "df['length'] = df['review'].apply(lambda x: len(x))\n",
    "del_percent()"
   ]
  },
  {
   "cell_type": "markdown",
   "metadata": {},
   "source": [
    "### 텍스트에 포함되어 있는 특수 문자 제거"
   ]
  },
  {
   "cell_type": "code",
   "execution_count": 28,
   "metadata": {},
   "outputs": [
    {
     "name": "stdout",
     "output_type": "stream",
     "text": [
      "18글자 이하 리뷰갯수: 1297\n",
      "54.77195945945946\n"
     ]
    }
   ],
   "source": [
    "import re\n",
    "# 2. ~, !, ., >\n",
    "def cleanText(readData):\n",
    " \n",
    "    \n",
    "    text = re.sub('[-=+,#/\\?:;^$.@*\\\"※~&%ㆍ!』\\\\‘|\\(\\)\\[\\]\\<\\>`\\'…》❤]', '', readData)\n",
    "    return text\n",
    "\n",
    "df['review'] = df['review'].apply(cleanText)\n",
    "df['length'] = df['review'].apply(lambda x: len(x))\n",
    "del_percent()"
   ]
  },
  {
   "cell_type": "markdown",
   "metadata": {},
   "source": [
    "### 의미없는 자음, 모음만 쓴 것 처리"
   ]
  },
  {
   "cell_type": "code",
   "execution_count": 29,
   "metadata": {},
   "outputs": [
    {
     "name": "stdout",
     "output_type": "stream",
     "text": [
      "18글자 이하 리뷰갯수: 1297\n",
      "54.77195945945946\n"
     ]
    }
   ],
   "source": [
    "def cleanText2(readData):\n",
    " \n",
    "    text = re.sub('[ㄱㄴㄷㄹㅁㅂㅅㅇㅈㅊㅋㅌㅍㅎㅃㅉㄸㄲㅆㅛㅕㅑㅐㅔㅗㅓㅏㅣㅜㅠㅡ]', '', readData)\n",
    "    return text\n",
    "df['review'] = df['review'].apply(cleanText2)\n",
    "df['length'] = df['review'].apply(lambda x: len(x))\n",
    "del_percent()"
   ]
  },
  {
   "cell_type": "markdown",
   "metadata": {},
   "source": [
    "### 이모티콘 제거"
   ]
  },
  {
   "cell_type": "code",
   "execution_count": 30,
   "metadata": {},
   "outputs": [
    {
     "name": "stdout",
     "output_type": "stream",
     "text": [
      "18글자 이하 리뷰갯수: 1297\n",
      "54.77195945945946\n"
     ]
    }
   ],
   "source": [
    "def cleanText3(readData):\n",
    "    \n",
    "    emoji_pattern = re.compile(\"[\"\n",
    "        u\"\\U0001F600-\\U0001F64F\"  # emoticons\n",
    "        u\"\\U0001F300-\\U0001F5FF\"  # symbols & pictographs\n",
    "        u\"\\U0001F680-\\U0001F6FF\"  # transport & map symbols\n",
    "        u\"\\U0001F1E0-\\U0001F1FF\"  # flags (iOS)\n",
    "                           \"]+\", flags=re.UNICODE)\n",
    "\n",
    "    text = emoji_pattern.sub(r'', readData)\n",
    "    return text\n",
    "\n",
    "df['review'] = df['review'].apply(cleanText3)\n",
    "df['length'] = df['review'].apply(lambda x: len(x))\n",
    "del_percent()"
   ]
  },
  {
   "cell_type": "markdown",
   "metadata": {},
   "source": [
    "## 글자수 cut\n",
    "- 500자 이상 제거 - 16개\n",
    "- 500자 이상 data 2개 있으며, outlier 이다. \n",
    "- 네이버 맞춤법 검사 라이브러리 돌리려면 500자 이하여야 한다."
   ]
  },
  {
   "cell_type": "code",
   "execution_count": 31,
   "metadata": {},
   "outputs": [
    {
     "data": {
      "text/plain": [
       "(2, 4)"
      ]
     },
     "execution_count": 31,
     "metadata": {},
     "output_type": "execute_result"
    }
   ],
   "source": [
    "df[df['length'] > 500].shape"
   ]
  },
  {
   "cell_type": "code",
   "execution_count": 32,
   "metadata": {},
   "outputs": [
    {
     "data": {
      "text/plain": [
       "(2366, 4)"
      ]
     },
     "execution_count": 32,
     "metadata": {},
     "output_type": "execute_result"
    }
   ],
   "source": [
    "df = df[df['length'] <= 500]\n",
    "df.shape"
   ]
  },
  {
   "cell_type": "markdown",
   "metadata": {},
   "source": [
    "## 맞춤법 검사 돌리기\n",
    "\n",
    "<a href='https://github.com/ssut/py-hanspell'> 라이브러리 다운로드 받기</a>"
   ]
  },
  {
   "cell_type": "code",
   "execution_count": 33,
   "metadata": {},
   "outputs": [],
   "source": [
    "#맞춤법검사기 \n",
    "from hanspell import spell_checker"
   ]
  },
  {
   "cell_type": "code",
   "execution_count": 17,
   "metadata": {},
   "outputs": [],
   "source": [
    "def spell_check(review):\n",
    "    result = spell_checker.check(review)\n",
    "    return result.checked"
   ]
  },
  {
   "cell_type": "code",
   "execution_count": 18,
   "metadata": {},
   "outputs": [],
   "source": [
    "df['review']=df['review'].astype('str')"
   ]
  },
  {
   "cell_type": "code",
   "execution_count": 19,
   "metadata": {},
   "outputs": [],
   "source": [
    "df['review_spell_check'] = df['review'].apply(spell_check)"
   ]
  },
  {
   "cell_type": "code",
   "execution_count": 24,
   "metadata": {},
   "outputs": [
    {
     "data": {
      "text/html": [
       "<div>\n",
       "<style scoped>\n",
       "    .dataframe tbody tr th:only-of-type {\n",
       "        vertical-align: middle;\n",
       "    }\n",
       "\n",
       "    .dataframe tbody tr th {\n",
       "        vertical-align: top;\n",
       "    }\n",
       "\n",
       "    .dataframe thead th {\n",
       "        text-align: right;\n",
       "    }\n",
       "</style>\n",
       "<table border=\"1\" class=\"dataframe\">\n",
       "  <thead>\n",
       "    <tr style=\"text-align: right;\">\n",
       "      <th></th>\n",
       "      <th>score</th>\n",
       "      <th>review</th>\n",
       "      <th>site</th>\n",
       "      <th>length</th>\n",
       "      <th>review_spell_check</th>\n",
       "    </tr>\n",
       "  </thead>\n",
       "  <tbody>\n",
       "    <tr>\n",
       "      <th>0</th>\n",
       "      <td>8.0</td>\n",
       "      <td></td>\n",
       "      <td>글래드라이브 호텔</td>\n",
       "      <td>0</td>\n",
       "      <td></td>\n",
       "    </tr>\n",
       "    <tr>\n",
       "      <th>1</th>\n",
       "      <td>8.8</td>\n",
       "      <td>글래드 계열 호텔 침구은 언제나 편안하고 룸 청결 상태는 항상 좋습니다</td>\n",
       "      <td>글래드라이브 호텔</td>\n",
       "      <td>39</td>\n",
       "      <td>글래드 계열 호텔 침구는 언제나 편안하고 룸 청결 상태는 항상 좋습니다</td>\n",
       "    </tr>\n",
       "    <tr>\n",
       "      <th>2</th>\n",
       "      <td>10.0</td>\n",
       "      <td>오랜전부터 출장 때문에 자주 투숙하고 있습니다 침대도 편안하고 모든게 좋은데 가격은...</td>\n",
       "      <td>글래드라이브 호텔</td>\n",
       "      <td>96</td>\n",
       "      <td>오랜 전부터 출장 때문에 자주 투숙하고 있습니다 침대도 편안하고 모든 게 좋은데 가...</td>\n",
       "    </tr>\n",
       "    <tr>\n",
       "      <th>3</th>\n",
       "      <td>6.4</td>\n",
       "      <td>지하철 역이랑 가까워서 좋아요</td>\n",
       "      <td>글래드라이브 호텔</td>\n",
       "      <td>16</td>\n",
       "      <td>지하철역이랑 가까워서 좋아요</td>\n",
       "    </tr>\n",
       "    <tr>\n",
       "      <th>4</th>\n",
       "      <td>9.2</td>\n",
       "      <td>넓은 침대와 긴 쇼파 2개로 5명까지 우리는 편하게 잤다</td>\n",
       "      <td>글래드라이브 호텔</td>\n",
       "      <td>31</td>\n",
       "      <td>넓은 침대와 긴 소파 2개로 5명까지 우리는 편하게 잤다</td>\n",
       "    </tr>\n",
       "  </tbody>\n",
       "</table>\n",
       "</div>"
      ],
      "text/plain": [
       "   score                                             review       site  \\\n",
       "0    8.0                                                     글래드라이브 호텔   \n",
       "1    8.8            글래드 계열 호텔 침구은 언제나 편안하고 룸 청결 상태는 항상 좋습니다  글래드라이브 호텔   \n",
       "2   10.0  오랜전부터 출장 때문에 자주 투숙하고 있습니다 침대도 편안하고 모든게 좋은데 가격은...  글래드라이브 호텔   \n",
       "3    6.4                                   지하철 역이랑 가까워서 좋아요  글래드라이브 호텔   \n",
       "4    9.2                    넓은 침대와 긴 쇼파 2개로 5명까지 우리는 편하게 잤다  글래드라이브 호텔   \n",
       "\n",
       "   length                                 review_spell_check  \n",
       "0       0                                                     \n",
       "1      39            글래드 계열 호텔 침구는 언제나 편안하고 룸 청결 상태는 항상 좋습니다  \n",
       "2      96  오랜 전부터 출장 때문에 자주 투숙하고 있습니다 침대도 편안하고 모든 게 좋은데 가...  \n",
       "3      16                                    지하철역이랑 가까워서 좋아요  \n",
       "4      31                    넓은 침대와 긴 소파 2개로 5명까지 우리는 편하게 잤다  "
      ]
     },
     "execution_count": 24,
     "metadata": {},
     "output_type": "execute_result"
    }
   ],
   "source": [
    "df.head()"
   ]
  },
  {
   "cell_type": "markdown",
   "metadata": {},
   "source": [
    "## 파일 내보내기"
   ]
  },
  {
   "cell_type": "code",
   "execution_count": 83,
   "metadata": {},
   "outputs": [],
   "source": [
    "df.to_excel('data/all.xlsx')"
   ]
  },
  {
   "cell_type": "code",
   "execution_count": null,
   "metadata": {},
   "outputs": [],
   "source": []
  }
 ],
 "metadata": {
  "kernelspec": {
   "display_name": "Python 3",
   "language": "python",
   "name": "python3"
  },
  "language_info": {
   "codemirror_mode": {
    "name": "ipython",
    "version": 3
   },
   "file_extension": ".py",
   "mimetype": "text/x-python",
   "name": "python",
   "nbconvert_exporter": "python",
   "pygments_lexer": "ipython3",
   "version": "3.8.3"
  },
  "toc": {
   "base_numbering": 1,
   "nav_menu": {},
   "number_sections": true,
   "sideBar": true,
   "skip_h1_title": false,
   "title_cell": "Table of Contents",
   "title_sidebar": "Contents",
   "toc_cell": false,
   "toc_position": {},
   "toc_section_display": true,
   "toc_window_display": false
  }
 },
 "nbformat": 4,
 "nbformat_minor": 4
}
