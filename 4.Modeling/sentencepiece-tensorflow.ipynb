{
 "cells": [
  {
   "cell_type": "code",
   "execution_count": 1,
   "metadata": {},
   "outputs": [],
   "source": [
    "import pandas as pd"
   ]
  },
  {
   "cell_type": "code",
   "execution_count": 2,
   "metadata": {},
   "outputs": [],
   "source": [
    "review = pd.read_excel('data/data_all.xlsx')"
   ]
  },
  {
   "cell_type": "code",
   "execution_count": 3,
   "metadata": {},
   "outputs": [
    {
     "data": {
      "text/html": [
       "<div>\n",
       "<style scoped>\n",
       "    .dataframe tbody tr th:only-of-type {\n",
       "        vertical-align: middle;\n",
       "    }\n",
       "\n",
       "    .dataframe tbody tr th {\n",
       "        vertical-align: top;\n",
       "    }\n",
       "\n",
       "    .dataframe thead th {\n",
       "        text-align: right;\n",
       "    }\n",
       "</style>\n",
       "<table border=\"1\" class=\"dataframe\">\n",
       "  <thead>\n",
       "    <tr style=\"text-align: right;\">\n",
       "      <th></th>\n",
       "      <th>site</th>\n",
       "      <th>hotel</th>\n",
       "      <th>score</th>\n",
       "      <th>review</th>\n",
       "      <th>date</th>\n",
       "      <th>star</th>\n",
       "      <th>length</th>\n",
       "      <th>review_spell_check</th>\n",
       "      <th>helpful</th>\n",
       "      <th>attitude</th>\n",
       "    </tr>\n",
       "  </thead>\n",
       "  <tbody>\n",
       "    <tr>\n",
       "      <th>0</th>\n",
       "      <td>야놀자</td>\n",
       "      <td>신라스테이 광화문</td>\n",
       "      <td>10.0</td>\n",
       "      <td>깔끔합니다</td>\n",
       "      <td>2019. 03. 30</td>\n",
       "      <td>5.0</td>\n",
       "      <td>5</td>\n",
       "      <td>깔끔합니다</td>\n",
       "      <td>0</td>\n",
       "      <td>2</td>\n",
       "    </tr>\n",
       "    <tr>\n",
       "      <th>1</th>\n",
       "      <td>야놀자</td>\n",
       "      <td>신라스테이 광화문</td>\n",
       "      <td>6.0</td>\n",
       "      <td>다니기는 참 좋은데 청소를 아예 안 하시네요</td>\n",
       "      <td>2020. 09. 13</td>\n",
       "      <td>3.0</td>\n",
       "      <td>24</td>\n",
       "      <td>다니기는 참 좋은데 청소를 아예 안 하시네요</td>\n",
       "      <td>1</td>\n",
       "      <td>0</td>\n",
       "    </tr>\n",
       "    <tr>\n",
       "      <th>2</th>\n",
       "      <td>야놀자</td>\n",
       "      <td>나인트리 프리미어 명동2</td>\n",
       "      <td>10.0</td>\n",
       "      <td>깔끔한 내부가 좋았습니다</td>\n",
       "      <td>2019. 11. 25</td>\n",
       "      <td>5.0</td>\n",
       "      <td>13</td>\n",
       "      <td>깔끔한 내부가 좋았습니다</td>\n",
       "      <td>0</td>\n",
       "      <td>2</td>\n",
       "    </tr>\n",
       "    <tr>\n",
       "      <th>3</th>\n",
       "      <td>아고다</td>\n",
       "      <td>나인트리 프리미어 호텔 명동 2</td>\n",
       "      <td>10.0</td>\n",
       "      <td>가격이 저렴해서 어딘가 아쉬운점은 한두개씩 있겠거니 하고 큰 기대없이 갔는데 생각외...</td>\n",
       "      <td>NaN</td>\n",
       "      <td>NaN</td>\n",
       "      <td>285</td>\n",
       "      <td>가격이 저렴해서 어딘가 아쉬운 점은 한두 개씩 있겠거니 하고 큰 기대 없이 갔는데 ...</td>\n",
       "      <td>1</td>\n",
       "      <td>2</td>\n",
       "    </tr>\n",
       "    <tr>\n",
       "      <th>4</th>\n",
       "      <td>아고다</td>\n",
       "      <td>나인트리 프리미어 호텔 명동 2</td>\n",
       "      <td>7.6</td>\n",
       "      <td>우선 뷰가 공사현장  보이고 주유소 보여서 그랬구요 새벽 6시쯤 넘어서는 공사장 소...</td>\n",
       "      <td>NaN</td>\n",
       "      <td>NaN</td>\n",
       "      <td>93</td>\n",
       "      <td>우선 뷰가 공사현장  보이고 주유소 보여서 그랬고요 새벽 6시쯤 넘어서는 공사장 소...</td>\n",
       "      <td>1</td>\n",
       "      <td>0</td>\n",
       "    </tr>\n",
       "  </tbody>\n",
       "</table>\n",
       "</div>"
      ],
      "text/plain": [
       "  site              hotel  score  \\\n",
       "0  야놀자          신라스테이 광화문   10.0   \n",
       "1  야놀자          신라스테이 광화문    6.0   \n",
       "2  야놀자      나인트리 프리미어 명동2   10.0   \n",
       "3  아고다  나인트리 프리미어 호텔 명동 2   10.0   \n",
       "4  아고다  나인트리 프리미어 호텔 명동 2    7.6   \n",
       "\n",
       "                                              review          date  star  \\\n",
       "0                                              깔끔합니다  2019. 03. 30   5.0   \n",
       "1                           다니기는 참 좋은데 청소를 아예 안 하시네요  2020. 09. 13   3.0   \n",
       "2                                      깔끔한 내부가 좋았습니다  2019. 11. 25   5.0   \n",
       "3  가격이 저렴해서 어딘가 아쉬운점은 한두개씩 있겠거니 하고 큰 기대없이 갔는데 생각외...           NaN   NaN   \n",
       "4  우선 뷰가 공사현장  보이고 주유소 보여서 그랬구요 새벽 6시쯤 넘어서는 공사장 소...           NaN   NaN   \n",
       "\n",
       "   length                                 review_spell_check  helpful  \\\n",
       "0       5                                              깔끔합니다        0   \n",
       "1      24                           다니기는 참 좋은데 청소를 아예 안 하시네요        1   \n",
       "2      13                                      깔끔한 내부가 좋았습니다        0   \n",
       "3     285  가격이 저렴해서 어딘가 아쉬운 점은 한두 개씩 있겠거니 하고 큰 기대 없이 갔는데 ...        1   \n",
       "4      93  우선 뷰가 공사현장  보이고 주유소 보여서 그랬고요 새벽 6시쯤 넘어서는 공사장 소...        1   \n",
       "\n",
       "   attitude  \n",
       "0         2  \n",
       "1         0  \n",
       "2         2  \n",
       "3         2  \n",
       "4         0  "
      ]
     },
     "execution_count": 3,
     "metadata": {},
     "output_type": "execute_result"
    }
   ],
   "source": [
    "review.head()"
   ]
  },
  {
   "cell_type": "markdown",
   "metadata": {},
   "source": [
    "# Sentencepiece 적용"
   ]
  },
  {
   "cell_type": "code",
   "execution_count": 4,
   "metadata": {},
   "outputs": [],
   "source": [
    "with open('review.txt', 'w', encoding='utf-8') as f:\n",
    "    f.write('\\n'.join(review['review_spell_check']))"
   ]
  },
  {
   "cell_type": "code",
   "execution_count": 5,
   "metadata": {},
   "outputs": [],
   "source": [
    "from sentencepiece import SentencePieceTrainer\n",
    "sp = SentencePieceTrainer.Train('--input=review.txt --model_prefix=review --vocab_size=3000')"
   ]
  },
  {
   "cell_type": "code",
   "execution_count": 6,
   "metadata": {},
   "outputs": [
    {
     "data": {
      "text/plain": [
       "True"
      ]
     },
     "execution_count": 6,
     "metadata": {},
     "output_type": "execute_result"
    }
   ],
   "source": [
    "from sentencepiece import SentencePieceProcessor\n",
    "sp = SentencePieceProcessor()\n",
    "sp.Load(\"review.model\")"
   ]
  },
  {
   "cell_type": "code",
   "execution_count": 7,
   "metadata": {},
   "outputs": [
    {
     "data": {
      "text/plain": [
       "['▁여러',\n",
       " '지',\n",
       " '점',\n",
       " '▁가',\n",
       " '봤',\n",
       " '는데',\n",
       " '▁느낌',\n",
       " '은',\n",
       " '▁다',\n",
       " '▁비슷',\n",
       " '하고',\n",
       " '▁광화문점',\n",
       " '이',\n",
       " '▁서울',\n",
       " '여행',\n",
       " '하기',\n",
       " '에',\n",
       " '▁위치',\n",
       " '는',\n",
       " '▁좋은',\n",
       " '것',\n",
       " '같',\n",
       " '아요',\n",
       " '▁대신',\n",
       " '▁다',\n",
       " '른',\n",
       " '지',\n",
       " '점',\n",
       " '들',\n",
       " '보다',\n",
       " '▁조금',\n",
       " '은',\n",
       " '▁비싼',\n",
       " '▁',\n",
       " '감이',\n",
       " '▁있',\n",
       " '네',\n",
       " '요']"
      ]
     },
     "execution_count": 7,
     "metadata": {},
     "output_type": "execute_result"
    }
   ],
   "source": [
    "sp.encode_as_pieces(review.loc[123, 'review'])"
   ]
  },
  {
   "cell_type": "code",
   "execution_count": 8,
   "metadata": {},
   "outputs": [],
   "source": [
    "from sklearn.feature_extraction.text import CountVectorizer"
   ]
  },
  {
   "cell_type": "code",
   "execution_count": 9,
   "metadata": {},
   "outputs": [],
   "source": [
    "cv = CountVectorizer(lowercase=False, tokenizer=sp.encode_as_pieces) #tokenizer를 안해주면, 띄어쓰기 단위로 잘라줌"
   ]
  },
  {
   "cell_type": "code",
   "execution_count": 10,
   "metadata": {},
   "outputs": [],
   "source": [
    "tdm = cv.fit_transform(review['review_spell_check'])"
   ]
  },
  {
   "cell_type": "markdown",
   "metadata": {},
   "source": [
    "# 훈련, 테스트 데이터 나누기 "
   ]
  },
  {
   "cell_type": "code",
   "execution_count": 11,
   "metadata": {},
   "outputs": [],
   "source": [
    "from sklearn.model_selection import train_test_split"
   ]
  },
  {
   "cell_type": "code",
   "execution_count": 12,
   "metadata": {},
   "outputs": [],
   "source": [
    "x = tdm\n",
    "y = review['helpful']"
   ]
  },
  {
   "cell_type": "code",
   "execution_count": 13,
   "metadata": {},
   "outputs": [],
   "source": [
    "x_train, x_test, y_train, y_test = train_test_split(x, y, test_size=0.2, random_state=42)"
   ]
  },
  {
   "cell_type": "code",
   "execution_count": 14,
   "metadata": {},
   "outputs": [],
   "source": [
    "import joblib"
   ]
  },
  {
   "cell_type": "code",
   "execution_count": 15,
   "metadata": {},
   "outputs": [],
   "source": [
    "cv.tokenizer = None # joblib로 저장하기 위해 필요"
   ]
  },
  {
   "cell_type": "code",
   "execution_count": 16,
   "metadata": {},
   "outputs": [
    {
     "data": {
      "text/plain": [
       "['hotel_subword.pkl']"
      ]
     },
     "execution_count": 16,
     "metadata": {},
     "output_type": "execute_result"
    }
   ],
   "source": [
    "joblib.dump((cv, x_train, x_test, y_train, y_test), 'hotel_subword.pkl')"
   ]
  },
  {
   "cell_type": "code",
   "execution_count": 17,
   "metadata": {},
   "outputs": [],
   "source": [
    "cv, x_train, x_test, y_train, y_test = joblib.load('hotel_subword.pkl')"
   ]
  },
  {
   "cell_type": "code",
   "execution_count": 18,
   "metadata": {},
   "outputs": [
    {
     "data": {
      "text/plain": [
       "(1974, 2996)"
      ]
     },
     "execution_count": 18,
     "metadata": {},
     "output_type": "execute_result"
    }
   ],
   "source": [
    "x_train.shape"
   ]
  },
  {
   "cell_type": "markdown",
   "metadata": {},
   "source": [
    "# 모형"
   ]
  },
  {
   "cell_type": "code",
   "execution_count": 19,
   "metadata": {},
   "outputs": [],
   "source": [
    "import tensorflow as tf"
   ]
  },
  {
   "cell_type": "code",
   "execution_count": 20,
   "metadata": {},
   "outputs": [],
   "source": [
    "model = tf.keras.models.Sequential()"
   ]
  },
  {
   "cell_type": "code",
   "execution_count": 21,
   "metadata": {},
   "outputs": [],
   "source": [
    "model.add(tf.keras.layers.Dense(\n",
    "    1,  #1,0 중 하나가 나온다! y자체는 열이 하나 ->Dense(1, )\n",
    "    input_shape = (2996, ), #input data는 3018개 : 튶플로 넣어주기\n",
    "    activation = 'sigmoid',\n",
    "    kernel_regularizer = tf.keras.regularizers.l1_l2(0, 0.001) #ㅣ1은 0만, l2는 0.001만\n",
    "))"
   ]
  },
  {
   "cell_type": "code",
   "execution_count": 22,
   "metadata": {},
   "outputs": [
    {
     "name": "stdout",
     "output_type": "stream",
     "text": [
      "Model: \"sequential\"\n",
      "_________________________________________________________________\n",
      "Layer (type)                 Output Shape              Param #   \n",
      "=================================================================\n",
      "dense (Dense)                (None, 1)                 2997      \n",
      "=================================================================\n",
      "Total params: 2,997\n",
      "Trainable params: 2,997\n",
      "Non-trainable params: 0\n",
      "_________________________________________________________________\n"
     ]
    }
   ],
   "source": [
    "model.summary()"
   ]
  },
  {
   "cell_type": "code",
   "execution_count": 31,
   "metadata": {},
   "outputs": [],
   "source": [
    "model.compile(optimizer = 'adam', loss='binary_crossentropy', metrics = ['accuracy'])\n"
   ]
  },
  {
   "cell_type": "code",
   "execution_count": 32,
   "metadata": {},
   "outputs": [
    {
     "name": "stdout",
     "output_type": "stream",
     "text": [
      "Epoch 1/100\n",
      "56/56 [==============================] - 2s 13ms/step - loss: 0.6719 - accuracy: 0.5976 - val_loss: 0.6259 - val_accuracy: 0.6919\n",
      "Epoch 2/100\n",
      "56/56 [==============================] - 0s 7ms/step - loss: 0.6040 - accuracy: 0.7105 - val_loss: 0.6012 - val_accuracy: 0.7273\n",
      "Epoch 3/100\n",
      "56/56 [==============================] - 0s 4ms/step - loss: 0.5805 - accuracy: 0.8178 - val_loss: 0.5837 - val_accuracy: 0.7879\n",
      "Epoch 4/100\n",
      "56/56 [==============================] - 0s 3ms/step - loss: 0.5654 - accuracy: 0.8499 - val_loss: 0.5709 - val_accuracy: 0.8131\n",
      "Epoch 5/100\n",
      "56/56 [==============================] - 0s 3ms/step - loss: 0.5350 - accuracy: 0.8580 - val_loss: 0.5592 - val_accuracy: 0.8232\n",
      "Epoch 6/100\n",
      "56/56 [==============================] - 0s 4ms/step - loss: 0.5144 - accuracy: 0.8745 - val_loss: 0.5496 - val_accuracy: 0.8232\n",
      "Epoch 7/100\n",
      "56/56 [==============================] - 0s 4ms/step - loss: 0.4930 - accuracy: 0.8873 - val_loss: 0.5415 - val_accuracy: 0.8283\n",
      "Epoch 8/100\n",
      "56/56 [==============================] - 0s 4ms/step - loss: 0.4804 - accuracy: 0.8946 - val_loss: 0.5345 - val_accuracy: 0.8131\n",
      "Epoch 9/100\n",
      "56/56 [==============================] - 0s 4ms/step - loss: 0.4673 - accuracy: 0.8821 - val_loss: 0.5283 - val_accuracy: 0.8283\n",
      "Epoch 10/100\n",
      "56/56 [==============================] - 0s 3ms/step - loss: 0.4711 - accuracy: 0.8850 - val_loss: 0.5226 - val_accuracy: 0.8232\n",
      "Epoch 11/100\n",
      "56/56 [==============================] - 0s 4ms/step - loss: 0.4448 - accuracy: 0.8943 - val_loss: 0.5181 - val_accuracy: 0.8182\n",
      "Epoch 12/100\n",
      "56/56 [==============================] - 0s 4ms/step - loss: 0.4425 - accuracy: 0.8806 - val_loss: 0.5141 - val_accuracy: 0.8283\n",
      "Epoch 13/100\n",
      "56/56 [==============================] - 0s 4ms/step - loss: 0.4353 - accuracy: 0.8842 - val_loss: 0.5096 - val_accuracy: 0.8283\n",
      "Epoch 14/100\n",
      "56/56 [==============================] - 0s 4ms/step - loss: 0.4235 - accuracy: 0.8859 - val_loss: 0.5073 - val_accuracy: 0.8333\n",
      "Epoch 15/100\n",
      "56/56 [==============================] - 0s 4ms/step - loss: 0.4072 - accuracy: 0.8934 - val_loss: 0.5039 - val_accuracy: 0.8333\n",
      "Epoch 16/100\n",
      "56/56 [==============================] - 0s 4ms/step - loss: 0.4106 - accuracy: 0.8962 - val_loss: 0.5014 - val_accuracy: 0.8283\n",
      "Epoch 17/100\n",
      "56/56 [==============================] - 0s 3ms/step - loss: 0.3998 - accuracy: 0.9025 - val_loss: 0.4988 - val_accuracy: 0.8283\n",
      "Epoch 18/100\n",
      "56/56 [==============================] - 0s 4ms/step - loss: 0.4008 - accuracy: 0.8995 - val_loss: 0.4971 - val_accuracy: 0.8283\n",
      "Epoch 19/100\n",
      "56/56 [==============================] - 0s 4ms/step - loss: 0.3836 - accuracy: 0.8987 - val_loss: 0.4957 - val_accuracy: 0.8232\n",
      "Epoch 20/100\n",
      "56/56 [==============================] - 0s 3ms/step - loss: 0.3869 - accuracy: 0.9041 - val_loss: 0.4943 - val_accuracy: 0.8182\n",
      "Epoch 21/100\n",
      "56/56 [==============================] - 0s 7ms/step - loss: 0.3801 - accuracy: 0.9082 - val_loss: 0.4929 - val_accuracy: 0.8232\n",
      "Epoch 22/100\n",
      "56/56 [==============================] - 0s 5ms/step - loss: 0.3793 - accuracy: 0.9113 - val_loss: 0.4916 - val_accuracy: 0.8182\n",
      "Epoch 23/100\n",
      "56/56 [==============================] - 0s 3ms/step - loss: 0.3823 - accuracy: 0.8915 - val_loss: 0.4908 - val_accuracy: 0.8182\n",
      "Epoch 24/100\n",
      "56/56 [==============================] - 0s 4ms/step - loss: 0.3744 - accuracy: 0.9134 - val_loss: 0.4895 - val_accuracy: 0.8131\n",
      "Epoch 25/100\n",
      "56/56 [==============================] - 0s 3ms/step - loss: 0.3625 - accuracy: 0.9146 - val_loss: 0.4889 - val_accuracy: 0.8131\n",
      "Epoch 26/100\n",
      "56/56 [==============================] - 0s 3ms/step - loss: 0.3693 - accuracy: 0.8981 - val_loss: 0.4874 - val_accuracy: 0.8182\n",
      "Epoch 27/100\n",
      "56/56 [==============================] - 0s 3ms/step - loss: 0.3575 - accuracy: 0.9222 - val_loss: 0.4868 - val_accuracy: 0.8182\n",
      "Epoch 28/100\n",
      "56/56 [==============================] - 0s 7ms/step - loss: 0.3583 - accuracy: 0.9063 - val_loss: 0.4863 - val_accuracy: 0.8232\n",
      "Epoch 29/100\n",
      "56/56 [==============================] - 0s 6ms/step - loss: 0.3696 - accuracy: 0.9027 - val_loss: 0.4853 - val_accuracy: 0.8232\n",
      "Epoch 30/100\n",
      "56/56 [==============================] - 0s 5ms/step - loss: 0.3601 - accuracy: 0.9044 - val_loss: 0.4852 - val_accuracy: 0.8232\n",
      "Epoch 31/100\n",
      "56/56 [==============================] - 0s 5ms/step - loss: 0.3545 - accuracy: 0.9117 - val_loss: 0.4852 - val_accuracy: 0.8182\n",
      "Epoch 32/100\n",
      "56/56 [==============================] - 0s 4ms/step - loss: 0.3641 - accuracy: 0.8983 - val_loss: 0.4848 - val_accuracy: 0.8131\n",
      "Epoch 33/100\n",
      "56/56 [==============================] - 0s 4ms/step - loss: 0.3624 - accuracy: 0.9114 - val_loss: 0.4841 - val_accuracy: 0.8131\n",
      "Epoch 34/100\n",
      "56/56 [==============================] - 0s 4ms/step - loss: 0.3561 - accuracy: 0.9129 - val_loss: 0.4842 - val_accuracy: 0.8131\n"
     ]
    },
    {
     "data": {
      "text/plain": [
       "<tensorflow.python.keras.callbacks.History at 0x244feef0860>"
      ]
     },
     "execution_count": 32,
     "metadata": {},
     "output_type": "execute_result"
    }
   ],
   "source": [
    "model.fit(x_train.toarray(), y_train.values, epochs=100, validation_split=0.1,\n",
    "          callbacks=[tf.keras.callbacks.EarlyStopping()])"
   ]
  },
  {
   "cell_type": "code",
   "execution_count": 33,
   "metadata": {},
   "outputs": [
    {
     "data": {
      "text/plain": [
       "[0.5522161722183228, 0.8036437034606934]"
      ]
     },
     "execution_count": 33,
     "metadata": {},
     "output_type": "execute_result"
    }
   ],
   "source": [
    "model.evaluate(x_test.toarray(), y_test.values, verbose=0) #손실, accuracy"
   ]
  },
  {
   "cell_type": "markdown",
   "metadata": {},
   "source": [
    "# 계수 확인"
   ]
  },
  {
   "cell_type": "code",
   "execution_count": 37,
   "metadata": {},
   "outputs": [],
   "source": [
    "weights, _ = model.trainable_weights"
   ]
  },
  {
   "cell_type": "code",
   "execution_count": 38,
   "metadata": {},
   "outputs": [],
   "source": [
    "token_weight = pd.DataFrame({'토큰': cv.get_feature_names(), '가중치': weights.numpy().flat})"
   ]
  },
  {
   "cell_type": "code",
   "execution_count": 39,
   "metadata": {},
   "outputs": [
    {
     "data": {
      "text/html": [
       "<div>\n",
       "<style scoped>\n",
       "    .dataframe tbody tr th:only-of-type {\n",
       "        vertical-align: middle;\n",
       "    }\n",
       "\n",
       "    .dataframe tbody tr th {\n",
       "        vertical-align: top;\n",
       "    }\n",
       "\n",
       "    .dataframe thead th {\n",
       "        text-align: right;\n",
       "    }\n",
       "</style>\n",
       "<table border=\"1\" class=\"dataframe\">\n",
       "  <thead>\n",
       "    <tr style=\"text-align: right;\">\n",
       "      <th></th>\n",
       "      <th>토큰</th>\n",
       "      <th>가중치</th>\n",
       "    </tr>\n",
       "  </thead>\n",
       "  <tbody>\n",
       "    <tr>\n",
       "      <th>1434</th>\n",
       "      <td>▁좋아요</td>\n",
       "      <td>-0.741736</td>\n",
       "    </tr>\n",
       "    <tr>\n",
       "      <th>337</th>\n",
       "      <td>▁깔끔</td>\n",
       "      <td>-0.447911</td>\n",
       "    </tr>\n",
       "    <tr>\n",
       "      <th>295</th>\n",
       "      <td>▁굿</td>\n",
       "      <td>-0.410221</td>\n",
       "    </tr>\n",
       "    <tr>\n",
       "      <th>1605</th>\n",
       "      <td>▁친절합니다</td>\n",
       "      <td>-0.371433</td>\n",
       "    </tr>\n",
       "    <tr>\n",
       "      <th>274</th>\n",
       "      <td>▁괜찮아</td>\n",
       "      <td>-0.368910</td>\n",
       "    </tr>\n",
       "  </tbody>\n",
       "</table>\n",
       "</div>"
      ],
      "text/plain": [
       "          토큰       가중치\n",
       "1434    ▁좋아요 -0.741736\n",
       "337      ▁깔끔 -0.447911\n",
       "295       ▁굿 -0.410221\n",
       "1605  ▁친절합니다 -0.371433\n",
       "274     ▁괜찮아 -0.368910"
      ]
     },
     "execution_count": 39,
     "metadata": {},
     "output_type": "execute_result"
    }
   ],
   "source": [
    "token_weight.sort_values('가중치').head()"
   ]
  },
  {
   "cell_type": "code",
   "execution_count": 40,
   "metadata": {},
   "outputs": [
    {
     "data": {
      "text/html": [
       "<div>\n",
       "<style scoped>\n",
       "    .dataframe tbody tr th:only-of-type {\n",
       "        vertical-align: middle;\n",
       "    }\n",
       "\n",
       "    .dataframe tbody tr th {\n",
       "        vertical-align: top;\n",
       "    }\n",
       "\n",
       "    .dataframe thead th {\n",
       "        text-align: right;\n",
       "    }\n",
       "</style>\n",
       "<table border=\"1\" class=\"dataframe\">\n",
       "  <thead>\n",
       "    <tr style=\"text-align: right;\">\n",
       "      <th></th>\n",
       "      <th>토큰</th>\n",
       "      <th>가중치</th>\n",
       "    </tr>\n",
       "  </thead>\n",
       "  <tbody>\n",
       "    <tr>\n",
       "      <th>1689</th>\n",
       "      <td>▁편의점</td>\n",
       "      <td>0.457330</td>\n",
       "    </tr>\n",
       "    <tr>\n",
       "      <th>738</th>\n",
       "      <td>▁방음</td>\n",
       "      <td>0.504998</td>\n",
       "    </tr>\n",
       "    <tr>\n",
       "      <th>193</th>\n",
       "      <td>▁객실</td>\n",
       "      <td>0.540762</td>\n",
       "    </tr>\n",
       "    <tr>\n",
       "      <th>398</th>\n",
       "      <td>▁넓</td>\n",
       "      <td>0.561374</td>\n",
       "    </tr>\n",
       "    <tr>\n",
       "      <th>851</th>\n",
       "      <td>▁빼고</td>\n",
       "      <td>0.578300</td>\n",
       "    </tr>\n",
       "  </tbody>\n",
       "</table>\n",
       "</div>"
      ],
      "text/plain": [
       "        토큰       가중치\n",
       "1689  ▁편의점  0.457330\n",
       "738    ▁방음  0.504998\n",
       "193    ▁객실  0.540762\n",
       "398     ▁넓  0.561374\n",
       "851    ▁빼고  0.578300"
      ]
     },
     "execution_count": 40,
     "metadata": {},
     "output_type": "execute_result"
    }
   ],
   "source": [
    "token_weight.sort_values('가중치').tail()"
   ]
  },
  {
   "cell_type": "code",
   "execution_count": null,
   "metadata": {},
   "outputs": [],
   "source": []
  }
 ],
 "metadata": {
  "kernelspec": {
   "display_name": "Python 3",
   "language": "python",
   "name": "python3"
  },
  "language_info": {
   "codemirror_mode": {
    "name": "ipython",
    "version": 3
   },
   "file_extension": ".py",
   "mimetype": "text/x-python",
   "name": "python",
   "nbconvert_exporter": "python",
   "pygments_lexer": "ipython3",
   "version": "3.8.3"
  },
  "toc": {
   "base_numbering": 1,
   "nav_menu": {},
   "number_sections": true,
   "sideBar": true,
   "skip_h1_title": false,
   "title_cell": "Table of Contents",
   "title_sidebar": "Contents",
   "toc_cell": false,
   "toc_position": {},
   "toc_section_display": true,
   "toc_window_display": false
  }
 },
 "nbformat": 4,
 "nbformat_minor": 4
}
