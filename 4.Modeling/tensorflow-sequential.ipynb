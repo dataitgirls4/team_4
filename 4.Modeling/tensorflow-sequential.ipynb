{
 "cells": [
  {
   "cell_type": "code",
   "execution_count": 4,
   "metadata": {},
   "outputs": [],
   "source": [
    "import MeCab"
   ]
  },
  {
   "cell_type": "code",
   "execution_count": 5,
   "metadata": {},
   "outputs": [
    {
     "name": "stdout",
     "output_type": "stream",
     "text": [
      "아버지\tNNG,*,F,아버지,*,*,*,*\n",
      "가\tJKS,*,F,가,*,*,*,*\n",
      "방\tNNG,장소,T,방,*,*,*,*\n",
      "에\tJKB,*,F,에,*,*,*,*\n",
      "들어가\tVV,*,F,들어가,*,*,*,*\n",
      "신다\tEP+EC,*,F,신다,Inflect,EP,EC,시/EP/*+ㄴ다/EC/*\n",
      "EOS\n",
      "\n"
     ]
    }
   ],
   "source": [
    "#MeCab확인\n",
    "text = '아버지가방에들어가신다'\n",
    "tokenizer = MeCab.Tagger()\n",
    "print(tokenizer.parse(text))"
   ]
  },
  {
   "cell_type": "markdown",
   "metadata": {},
   "source": [
    "## Lemmatazation : 단어 원형 변환"
   ]
  },
  {
   "cell_type": "code",
   "execution_count": 240,
   "metadata": {},
   "outputs": [],
   "source": [
    "stop_words = ['나','여기','무엇','그것','가','긋','가본','제','저','저희','그거','브','우리','그','큐티','쏘','슈','어디','뭐','자기','놀자','이곳','임','요방','너','그곳','거기','니티','노','이쪽','저기','호텔','곳','점','앞','시','원분','스로','도','대','플','기','그제','넥','딩','놀']\n",
    "#stop_words = ['호텔','신라','스테이']\n",
    "len(stop_words)\n",
    "def getNVM_lemma(text):\n",
    "    tokenizer = MeCab.Tagger()\n",
    "    parsed = tokenizer.parse(text)\n",
    "    #print(parsed)\n",
    "    word_tag = [w for w in parsed.split(\"\\n\")] \n",
    "    pos = []\n",
    "    tags = [\"NNG\", \"NNP\",\"VV\",\"VA\",\"VCP\",'VCN','XR']\n",
    "   \n",
    "    for word_ in word_tag[:-2]:\n",
    "        word = word_.split('\\t') #['아버지', 'NNG,*,F,아버지,*,*,*,*']\n",
    "        tag = word[1].split(\",\")  #['EC', '*', 'F', '는다', '*', '*', '*', '*']\n",
    "        if('+' in tag[0]): #단어가 여러 형태소로 구성된 경우\n",
    "            if ('VV' in tag[0] or 'VA' in tag[0] or 'VX' in tag[0]):\n",
    "                t = tag[-1].split('/')[0]\n",
    "                if t not in stop_words:\n",
    "                    pos.append(t)\n",
    "        elif ((tag[0] in tags) and (word[0] not in stop_words)):\n",
    "            pos.append(word[0])\n",
    "    return pos"
   ]
  },
  {
   "cell_type": "code",
   "execution_count": 9,
   "metadata": {},
   "outputs": [
    {
     "name": "stderr",
     "output_type": "stream",
     "text": [
      "C:\\Users\\82104\\Anaconda3\\lib\\site-packages\\requests\\__init__.py:80: RequestsDependencyWarning: urllib3 (1.25.11) or chardet (3.0.4) doesn't match a supported version!\n",
      "  RequestsDependencyWarning)\n"
     ]
    }
   ],
   "source": [
    "import konlpy\n",
    "from konlpy.tag import Komoran"
   ]
  },
  {
   "cell_type": "code",
   "execution_count": 10,
   "metadata": {},
   "outputs": [
    {
     "name": "stdout",
     "output_type": "stream",
     "text": [
      "['가깝', '없', '가깝', '느끼']\n"
     ]
    }
   ],
   "source": [
    "s = \"우리는 가까워질 수 없기 때문에 가깝게 느껴지지 않는다\"\n",
    "print(getNVM_lemma(s))"
   ]
  },
  {
   "cell_type": "code",
   "execution_count": 11,
   "metadata": {
    "scrolled": true
   },
   "outputs": [
    {
     "name": "stdout",
     "output_type": "stream",
     "text": [
      "['가깝', '사이', '이제', '가깝']\n"
     ]
    }
   ],
   "source": [
    "s =\"너랑 나는 가까운 사이였지만 이제는 가깝지 않아\"\n",
    "print(getNVM_lemma(s))"
   ]
  },
  {
   "cell_type": "markdown",
   "metadata": {},
   "source": [
    "# Countvector TDM"
   ]
  },
  {
   "cell_type": "code",
   "execution_count": 12,
   "metadata": {},
   "outputs": [],
   "source": [
    "import pandas as pd"
   ]
  },
  {
   "cell_type": "code",
   "execution_count": 241,
   "metadata": {},
   "outputs": [
    {
     "data": {
      "text/html": [
       "<div>\n",
       "<style scoped>\n",
       "    .dataframe tbody tr th:only-of-type {\n",
       "        vertical-align: middle;\n",
       "    }\n",
       "\n",
       "    .dataframe tbody tr th {\n",
       "        vertical-align: top;\n",
       "    }\n",
       "\n",
       "    .dataframe thead th {\n",
       "        text-align: right;\n",
       "    }\n",
       "</style>\n",
       "<table border=\"1\" class=\"dataframe\">\n",
       "  <thead>\n",
       "    <tr style=\"text-align: right;\">\n",
       "      <th></th>\n",
       "      <th>site</th>\n",
       "      <th>hotel</th>\n",
       "      <th>score</th>\n",
       "      <th>review</th>\n",
       "      <th>date</th>\n",
       "      <th>star</th>\n",
       "      <th>length</th>\n",
       "      <th>review_spell_check</th>\n",
       "      <th>helpful</th>\n",
       "      <th>attitude</th>\n",
       "      <th>담당자</th>\n",
       "      <th>위치</th>\n",
       "      <th>시설</th>\n",
       "      <th>인테리어</th>\n",
       "      <th>청결</th>\n",
       "      <th>친절</th>\n",
       "      <th>방음</th>\n",
       "    </tr>\n",
       "  </thead>\n",
       "  <tbody>\n",
       "    <tr>\n",
       "      <th>0</th>\n",
       "      <td>0</td>\n",
       "      <td>나인트리 프리미어 명동2</td>\n",
       "      <td>10.0</td>\n",
       "      <td>뷰 좋고 위치 좋고 깨끗하고 최고 입니다</td>\n",
       "      <td>NaN</td>\n",
       "      <td>NaN</td>\n",
       "      <td>22</td>\n",
       "      <td>뷰 좋고 위치 좋고 깨끗하고 최고입니다</td>\n",
       "      <td>1</td>\n",
       "      <td>2</td>\n",
       "      <td>주현</td>\n",
       "      <td>1</td>\n",
       "      <td>0</td>\n",
       "      <td>0</td>\n",
       "      <td>0</td>\n",
       "      <td>0</td>\n",
       "      <td>0</td>\n",
       "    </tr>\n",
       "    <tr>\n",
       "      <th>1</th>\n",
       "      <td>0</td>\n",
       "      <td>신라스테이 광화문</td>\n",
       "      <td>10.0</td>\n",
       "      <td>위치 시설 모두 좋아요</td>\n",
       "      <td>NaN</td>\n",
       "      <td>NaN</td>\n",
       "      <td>12</td>\n",
       "      <td>위치 시설 모두 좋아요</td>\n",
       "      <td>0</td>\n",
       "      <td>2</td>\n",
       "      <td>주현</td>\n",
       "      <td>1</td>\n",
       "      <td>1</td>\n",
       "      <td>0</td>\n",
       "      <td>0</td>\n",
       "      <td>0</td>\n",
       "      <td>0</td>\n",
       "    </tr>\n",
       "    <tr>\n",
       "      <th>2</th>\n",
       "      <td>0</td>\n",
       "      <td>신라스테이 광화문</td>\n",
       "      <td>2.0</td>\n",
       "      <td>침대에 빨래 먼지로 보이는 먼지가 이불침대 시트 모두에 한가득이었습니다  청소 상태...</td>\n",
       "      <td>NaN</td>\n",
       "      <td>NaN</td>\n",
       "      <td>69</td>\n",
       "      <td>침대에 빨래 먼지로 보이는 먼지가 이불 침대 시트 모두에 한가득이었습니다  청소 상...</td>\n",
       "      <td>1</td>\n",
       "      <td>0</td>\n",
       "      <td>주현</td>\n",
       "      <td>0</td>\n",
       "      <td>0</td>\n",
       "      <td>0</td>\n",
       "      <td>1</td>\n",
       "      <td>0</td>\n",
       "      <td>0</td>\n",
       "    </tr>\n",
       "    <tr>\n",
       "      <th>3</th>\n",
       "      <td>0</td>\n",
       "      <td>신라스테이 광화문</td>\n",
       "      <td>8.8</td>\n",
       "      <td>위치 시설 서비스 모두 다 만족합니다</td>\n",
       "      <td>NaN</td>\n",
       "      <td>NaN</td>\n",
       "      <td>20</td>\n",
       "      <td>위치 시설 서비스 모두 다 만족합니다</td>\n",
       "      <td>0</td>\n",
       "      <td>2</td>\n",
       "      <td>주현</td>\n",
       "      <td>1</td>\n",
       "      <td>1</td>\n",
       "      <td>0</td>\n",
       "      <td>0</td>\n",
       "      <td>0</td>\n",
       "      <td>0</td>\n",
       "    </tr>\n",
       "    <tr>\n",
       "      <th>4</th>\n",
       "      <td>0</td>\n",
       "      <td>신라스테이 광화문</td>\n",
       "      <td>8.0</td>\n",
       "      <td>주변에 식사장소도 많고 볼 곳도 많아서 좋습니다다만 주말에는 집회가 근처에서 많아 ...</td>\n",
       "      <td>NaN</td>\n",
       "      <td>NaN</td>\n",
       "      <td>57</td>\n",
       "      <td>주변에 식사 장소도 많고 볼 곳도 많아서 좋습니다 다만 주말에는 집회가 근처에서 많...</td>\n",
       "      <td>1</td>\n",
       "      <td>1</td>\n",
       "      <td>주현</td>\n",
       "      <td>1</td>\n",
       "      <td>0</td>\n",
       "      <td>0</td>\n",
       "      <td>0</td>\n",
       "      <td>0</td>\n",
       "      <td>1</td>\n",
       "    </tr>\n",
       "  </tbody>\n",
       "</table>\n",
       "</div>"
      ],
      "text/plain": [
       "   site          hotel  score  \\\n",
       "0     0  나인트리 프리미어 명동2   10.0   \n",
       "1     0      신라스테이 광화문   10.0   \n",
       "2     0      신라스테이 광화문    2.0   \n",
       "3     0      신라스테이 광화문    8.8   \n",
       "4     0      신라스테이 광화문    8.0   \n",
       "\n",
       "                                              review date  star  length  \\\n",
       "0                             뷰 좋고 위치 좋고 깨끗하고 최고 입니다  NaN   NaN      22   \n",
       "1                                       위치 시설 모두 좋아요  NaN   NaN      12   \n",
       "2  침대에 빨래 먼지로 보이는 먼지가 이불침대 시트 모두에 한가득이었습니다  청소 상태...  NaN   NaN      69   \n",
       "3                               위치 시설 서비스 모두 다 만족합니다  NaN   NaN      20   \n",
       "4  주변에 식사장소도 많고 볼 곳도 많아서 좋습니다다만 주말에는 집회가 근처에서 많아 ...  NaN   NaN      57   \n",
       "\n",
       "                                  review_spell_check  helpful  attitude 담당자  \\\n",
       "0                              뷰 좋고 위치 좋고 깨끗하고 최고입니다        1         2  주현   \n",
       "1                                       위치 시설 모두 좋아요        0         2  주현   \n",
       "2  침대에 빨래 먼지로 보이는 먼지가 이불 침대 시트 모두에 한가득이었습니다  청소 상...        1         0  주현   \n",
       "3                               위치 시설 서비스 모두 다 만족합니다        0         2  주현   \n",
       "4  주변에 식사 장소도 많고 볼 곳도 많아서 좋습니다 다만 주말에는 집회가 근처에서 많...        1         1  주현   \n",
       "\n",
       "   위치  시설  인테리어  청결  친절  방음  \n",
       "0   1   0     0   0   0   0  \n",
       "1   1   1     0   0   0   0  \n",
       "2   0   0     0   1   0   0  \n",
       "3   1   1     0   0   0   0  \n",
       "4   1   0     0   0   0   1  "
      ]
     },
     "execution_count": 241,
     "metadata": {},
     "output_type": "execute_result"
    }
   ],
   "source": [
    "review = pd.read_excel('df_all_1130_4.xlsx')\n",
    "dict_site = {'아고다': 0,\"야놀자\":1}\n",
    "review['site'] = review['site'].map(dict_site)\n",
    "review.head()"
   ]
  },
  {
   "cell_type": "code",
   "execution_count": 14,
   "metadata": {},
   "outputs": [
    {
     "name": "stdout",
     "output_type": "stream",
     "text": [
      "INFO:tensorflow:Using local port 19423\n",
      "INFO:tensorflow:Using local port 19635\n",
      "INFO:tensorflow:Using local port 17104\n",
      "INFO:tensorflow:Using local port 15947\n",
      "INFO:tensorflow:Using local port 24128\n",
      "INFO:tensorflow:Using local port 18637\n",
      "INFO:tensorflow:Using local port 23346\n",
      "INFO:tensorflow:Using local port 24555\n",
      "INFO:tensorflow:Using local port 18032\n",
      "INFO:tensorflow:Using local port 23674\n"
     ]
    },
    {
     "name": "stderr",
     "output_type": "stream",
     "text": [
      "Using TensorFlow backend.\n"
     ]
    }
   ],
   "source": [
    "from sklearn.feature_extraction.text import CountVectorizer, TfidfVectorizer\n",
    "from keras.layers import Dense, Activation"
   ]
  },
  {
   "cell_type": "code",
   "execution_count": 269,
   "metadata": {},
   "outputs": [],
   "source": [
    "cv = CountVectorizer(min_df = 0, tokenizer = getNVM_lemma , stop_words = stop_words, preprocessor = None, lowercase = False,ngram_range = (1,2))"
   ]
  },
  {
   "cell_type": "code",
   "execution_count": 270,
   "metadata": {},
   "outputs": [],
   "source": [
    "dtm = cv.fit_transform(review['review_spell_check'])"
   ]
  },
  {
   "cell_type": "markdown",
   "metadata": {},
   "source": [
    "# Input Data"
   ]
  },
  {
   "cell_type": "code",
   "execution_count": 18,
   "metadata": {},
   "outputs": [],
   "source": [
    "import joblib\n",
    "import numpy as np"
   ]
  },
  {
   "cell_type": "code",
   "execution_count": 19,
   "metadata": {},
   "outputs": [],
   "source": [
    "from sklearn.model_selection import train_test_split"
   ]
  },
  {
   "cell_type": "code",
   "execution_count": 271,
   "metadata": {},
   "outputs": [],
   "source": [
    "x  = dtm.toarray()\n",
    "y = review['helpful']"
   ]
  },
  {
   "cell_type": "code",
   "execution_count": 272,
   "metadata": {},
   "outputs": [],
   "source": [
    "#length추가\n",
    "review_len = np.array(review.length).reshape(-1,1)\n",
    "x = np.hstack((x, review_len))"
   ]
  },
  {
   "cell_type": "code",
   "execution_count": 274,
   "metadata": {},
   "outputs": [],
   "source": [
    "#site이름 추가\n",
    "\n",
    "site_name = np.array(review.site).reshape(-1,1)\n",
    "x = np.hstack((x, site_name))"
   ]
  },
  {
   "cell_type": "code",
   "execution_count": 275,
   "metadata": {},
   "outputs": [
    {
     "data": {
      "text/plain": [
       "array([[ 0,  0,  0, ..., 22, 22,  0],\n",
       "       [ 0,  0,  0, ..., 12, 12,  0],\n",
       "       [ 0,  0,  0, ..., 69, 69,  0],\n",
       "       ...,\n",
       "       [ 0,  0,  0, ..., 33, 33,  1],\n",
       "       [ 0,  0,  0, ..., 59, 59,  1],\n",
       "       [ 0,  0,  0, ..., 10, 10,  1]], dtype=int64)"
      ]
     },
     "execution_count": 275,
     "metadata": {},
     "output_type": "execute_result"
    }
   ],
   "source": [
    "x"
   ]
  },
  {
   "cell_type": "markdown",
   "metadata": {},
   "source": [
    "## 훈련 데이터, 테스트 데이터 나누기"
   ]
  },
  {
   "cell_type": "code",
   "execution_count": 276,
   "metadata": {},
   "outputs": [],
   "source": [
    "x_train, x_test, y_train, y_test = train_test_split(x, y, test_size=0.2, random_state=42)"
   ]
  },
  {
   "cell_type": "code",
   "execution_count": 277,
   "metadata": {},
   "outputs": [],
   "source": [
    "cv.tokenizer = None"
   ]
  },
  {
   "cell_type": "code",
   "execution_count": 278,
   "metadata": {},
   "outputs": [
    {
     "data": {
      "text/plain": [
       "['hotel_lemma_cv_ver4.pkl']"
      ]
     },
     "execution_count": 278,
     "metadata": {},
     "output_type": "execute_result"
    }
   ],
   "source": [
    "joblib.dump((cv, x_train, x_test, y_train, y_test), 'hotel_lemma_cv_ver4.pkl')"
   ]
  },
  {
   "cell_type": "code",
   "execution_count": 279,
   "metadata": {},
   "outputs": [],
   "source": [
    "cv, x_train, x_test, y_train, y_test = joblib.load('hotel_lemma_cv_ver4.pkl')"
   ]
  },
  {
   "cell_type": "code",
   "execution_count": 280,
   "metadata": {},
   "outputs": [
    {
     "data": {
      "text/plain": [
       "(1927, 15231)"
      ]
     },
     "execution_count": 280,
     "metadata": {},
     "output_type": "execute_result"
    }
   ],
   "source": [
    "x_train.shape"
   ]
  },
  {
   "cell_type": "code",
   "execution_count": 281,
   "metadata": {},
   "outputs": [
    {
     "data": {
      "text/plain": [
       "(482, 15231)"
      ]
     },
     "execution_count": 281,
     "metadata": {},
     "output_type": "execute_result"
    }
   ],
   "source": [
    "x_test.shape"
   ]
  },
  {
   "cell_type": "markdown",
   "metadata": {},
   "source": [
    "# Sequential모델 "
   ]
  },
  {
   "cell_type": "code",
   "execution_count": 48,
   "metadata": {},
   "outputs": [],
   "source": [
    "import tensorflow as tf"
   ]
  },
  {
   "cell_type": "code",
   "execution_count": 282,
   "metadata": {},
   "outputs": [
    {
     "name": "stdout",
     "output_type": "stream",
     "text": [
      "Model: \"sequential_13\"\n",
      "_________________________________________________________________\n",
      "Layer (type)                 Output Shape              Param #   \n",
      "=================================================================\n",
      "dense_13 (Dense)             (None, 1)                 15232     \n",
      "=================================================================\n",
      "Total params: 15,232\n",
      "Trainable params: 15,232\n",
      "Non-trainable params: 0\n",
      "_________________________________________________________________\n"
     ]
    }
   ],
   "source": [
    "model = tf.keras.models.Sequential()\n",
    "model.add(tf.keras.layers.Dense(1,  #y자체는 열이 하나\n",
    "          input_shape = (15231, ), #input data는 shape 크기에 맞추기\n",
    "          activation = 'sigmoid',\n",
    "          kernel_regularizer = tf.keras.regularizers.l1_l2(0, 0.001) #ㅣ1은 0만, l2는 0.001만 : 이때가 제일 정확도 높음\n",
    "         ))\n",
    "model.summary()"
   ]
  },
  {
   "cell_type": "code",
   "execution_count": 283,
   "metadata": {},
   "outputs": [],
   "source": [
    "model.compile(optimizer = 'adam', loss='binary_crossentropy', metrics = ['accuracy'])\n"
   ]
  },
  {
   "cell_type": "code",
   "execution_count": 284,
   "metadata": {
    "scrolled": true
   },
   "outputs": [
    {
     "name": "stdout",
     "output_type": "stream",
     "text": [
      "Epoch 1/100\n",
      "55/55 [==============================] - 1s 10ms/step - loss: 0.7790 - accuracy: 0.5383 - val_loss: 0.6062 - val_accuracy: 0.6788\n",
      "Epoch 2/100\n",
      "55/55 [==============================] - 0s 7ms/step - loss: 0.5951 - accuracy: 0.7771 - val_loss: 0.5784 - val_accuracy: 0.8135\n",
      "Epoch 3/100\n",
      "55/55 [==============================] - 0s 6ms/step - loss: 0.5536 - accuracy: 0.8442 - val_loss: 0.5585 - val_accuracy: 0.8394\n",
      "Epoch 4/100\n",
      "55/55 [==============================] - 0s 6ms/step - loss: 0.5200 - accuracy: 0.8997 - val_loss: 0.5343 - val_accuracy: 0.8342\n",
      "Epoch 5/100\n",
      "55/55 [==============================] - 0s 6ms/step - loss: 0.4970 - accuracy: 0.8904 - val_loss: 0.5203 - val_accuracy: 0.8549\n",
      "Epoch 6/100\n",
      "55/55 [==============================] - 0s 6ms/step - loss: 0.4718 - accuracy: 0.9056 - val_loss: 0.5056 - val_accuracy: 0.8549\n",
      "Epoch 7/100\n",
      "55/55 [==============================] - 0s 6ms/step - loss: 0.4556 - accuracy: 0.9032 - val_loss: 0.4931 - val_accuracy: 0.8549\n",
      "Epoch 8/100\n",
      "55/55 [==============================] - 0s 6ms/step - loss: 0.4301 - accuracy: 0.9074 - val_loss: 0.4831 - val_accuracy: 0.8497\n",
      "Epoch 9/100\n",
      "55/55 [==============================] - 0s 6ms/step - loss: 0.4196 - accuracy: 0.9136 - val_loss: 0.4747 - val_accuracy: 0.8497\n",
      "Epoch 10/100\n",
      "55/55 [==============================] - 0s 6ms/step - loss: 0.4034 - accuracy: 0.9195 - val_loss: 0.4697 - val_accuracy: 0.8394\n",
      "Epoch 11/100\n",
      "55/55 [==============================] - 0s 6ms/step - loss: 0.3986 - accuracy: 0.9086 - val_loss: 0.4604 - val_accuracy: 0.8549\n",
      "Epoch 12/100\n",
      "55/55 [==============================] - 0s 6ms/step - loss: 0.3875 - accuracy: 0.9169 - val_loss: 0.4549 - val_accuracy: 0.8549\n",
      "Epoch 13/100\n",
      "55/55 [==============================] - 0s 6ms/step - loss: 0.3798 - accuracy: 0.9175 - val_loss: 0.4499 - val_accuracy: 0.8497\n",
      "Epoch 14/100\n",
      "55/55 [==============================] - 0s 6ms/step - loss: 0.3731 - accuracy: 0.9200 - val_loss: 0.4458 - val_accuracy: 0.8497\n",
      "Epoch 15/100\n",
      "55/55 [==============================] - 0s 7ms/step - loss: 0.3659 - accuracy: 0.9196 - val_loss: 0.4424 - val_accuracy: 0.8549\n",
      "Epoch 16/100\n",
      "55/55 [==============================] - 0s 6ms/step - loss: 0.3593 - accuracy: 0.9211 - val_loss: 0.4441 - val_accuracy: 0.8290\n"
     ]
    },
    {
     "data": {
      "text/plain": [
       "<tensorflow.python.keras.callbacks.History at 0x2b49a577278>"
      ]
     },
     "execution_count": 284,
     "metadata": {},
     "output_type": "execute_result"
    }
   ],
   "source": [
    "model.fit(x_train, y_train.values, epochs=100, validation_split=0.1,\n",
    "         callbacks=[tf.keras.callbacks.EarlyStopping()])"
   ]
  },
  {
   "cell_type": "code",
   "execution_count": 286,
   "metadata": {},
   "outputs": [
    {
     "data": {
      "text/plain": [
       "[0.433194637298584, 0.8340249061584473]"
      ]
     },
     "execution_count": 286,
     "metadata": {},
     "output_type": "execute_result"
    }
   ],
   "source": [
    "model.evaluate(x_test, y_test.values, verbose=0) #손실, accuracy"
   ]
  },
  {
   "cell_type": "markdown",
   "metadata": {},
   "source": [
    "# confusion matrix\n",
    "\n",
    "[예측,실제]\n",
    "\n",
    "- TN (True Negative) [False, False] (정답)\n",
    "- FN (False Negative) [False, True] (오답)\n",
    "- FP (False Positive) [True, False] (오답)\n",
    "- TP (True Posivie) [True, True] (정답)"
   ]
  },
  {
   "cell_type": "code",
   "execution_count": 287,
   "metadata": {},
   "outputs": [],
   "source": [
    "prob=model.predict(\n",
    "    x_test,\n",
    "    batch_size=None,\n",
    "    verbose=0,\n",
    "    steps=None,\n",
    "    callbacks=None,\n",
    "    max_queue_size=10,\n",
    "    workers=1,\n",
    "    use_multiprocessing=False,\n",
    ")"
   ]
  },
  {
   "cell_type": "code",
   "execution_count": 1,
   "metadata": {},
   "outputs": [],
   "source": [
    "from sklearn.metrics import accuracy_score, confusion_matrix\n",
    "from sklearn.metrics import precision_score"
   ]
  },
  {
   "cell_type": "markdown",
   "metadata": {},
   "source": [
    "## 문턱값 : 0.5"
   ]
  },
  {
   "cell_type": "code",
   "execution_count": 288,
   "metadata": {},
   "outputs": [],
   "source": [
    "predictional = np.where(prob >= 0.5, 1, 0)"
   ]
  },
  {
   "cell_type": "code",
   "execution_count": 289,
   "metadata": {},
   "outputs": [
    {
     "data": {
      "text/plain": [
       "array([[265,  20],\n",
       "       [ 60, 137]], dtype=int64)"
      ]
     },
     "execution_count": 289,
     "metadata": {},
     "output_type": "execute_result"
    }
   ],
   "source": [
    "confusion_matrix(y_test,predictional)"
   ]
  },
  {
   "cell_type": "code",
   "execution_count": 290,
   "metadata": {},
   "outputs": [
    {
     "name": "stdout",
     "output_type": "stream",
     "text": [
      "265 20 60 137\n"
     ]
    }
   ],
   "source": [
    "TN,FP,FN,TP=confusion_matrix(y_test,predictional).ravel()\n",
    "print(TN,FP,FN,TP)"
   ]
  },
  {
   "cell_type": "code",
   "execution_count": 293,
   "metadata": {},
   "outputs": [
    {
     "name": "stdout",
     "output_type": "stream",
     "text": [
      "정확도:  0.8340248962655602\n",
      "정밀도:  0.8726114649681529\n"
     ]
    }
   ],
   "source": [
    "print('정확도: ',accuracy_score(y_test,predictional))\n",
    "print('정밀도: ',precision_score(y_test,predictional))"
   ]
  },
  {
   "cell_type": "markdown",
   "metadata": {},
   "source": [
    "## 문턱값 : 0.7"
   ]
  },
  {
   "cell_type": "code",
   "execution_count": 294,
   "metadata": {},
   "outputs": [],
   "source": [
    "prediction1 = np.where(prob >= 0.7,1,0)"
   ]
  },
  {
   "cell_type": "code",
   "execution_count": 295,
   "metadata": {},
   "outputs": [
    {
     "name": "stdout",
     "output_type": "stream",
     "text": [
      "281 4 104 93\n"
     ]
    }
   ],
   "source": [
    "confusion_matrix(y_test,prediction1)\n",
    "TN,FP,FN,TP=confusion_matrix(y_test,prediction1).ravel()\n",
    "print(TN,FP,FN,TP)"
   ]
  },
  {
   "cell_type": "code",
   "execution_count": 296,
   "metadata": {},
   "outputs": [
    {
     "name": "stdout",
     "output_type": "stream",
     "text": [
      "정확도:  0.7759336099585062\n",
      "정밀도:  0.9587628865979382\n"
     ]
    }
   ],
   "source": [
    "print('정확도: ',accuracy_score(y_test,prediction1))\n",
    "print('정밀도: ',precision_score(y_test,prediction1))"
   ]
  }
 ],
 "metadata": {
  "kernelspec": {
   "display_name": "Python 3",
   "language": "python",
   "name": "python3"
  },
  "language_info": {
   "codemirror_mode": {
    "name": "ipython",
    "version": 3
   },
   "file_extension": ".py",
   "mimetype": "text/x-python",
   "name": "python",
   "nbconvert_exporter": "python",
   "pygments_lexer": "ipython3",
   "version": "3.7.3"
  },
  "toc": {
   "base_numbering": 1,
   "nav_menu": {},
   "number_sections": true,
   "sideBar": true,
   "skip_h1_title": false,
   "title_cell": "Table of Contents",
   "title_sidebar": "Contents",
   "toc_cell": false,
   "toc_position": {},
   "toc_section_display": true,
   "toc_window_display": false
  }
 },
 "nbformat": 4,
 "nbformat_minor": 4
}
