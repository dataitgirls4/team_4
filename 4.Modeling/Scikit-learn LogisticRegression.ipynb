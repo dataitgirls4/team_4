{
 "cells": [
  {
   "cell_type": "code",
   "execution_count": 1,
   "metadata": {},
   "outputs": [],
   "source": [
    "import pandas as pd\n",
    "import MeCab\n",
    "import numpy as np\n",
    "df = pd.read_excel('data/비교.xlsx')"
   ]
  },
  {
   "cell_type": "code",
   "execution_count": 2,
   "metadata": {},
   "outputs": [
    {
     "data": {
      "text/plain": [
       "(2409, 16)"
      ]
     },
     "execution_count": 2,
     "metadata": {},
     "output_type": "execute_result"
    }
   ],
   "source": [
    "df.shape"
   ]
  },
  {
   "cell_type": "code",
   "execution_count": 3,
   "metadata": {},
   "outputs": [],
   "source": [
    "df['length']=df['review_spell_check'].apply(lambda x:len(str(x)))"
   ]
  },
  {
   "cell_type": "code",
   "execution_count": 4,
   "metadata": {},
   "outputs": [],
   "source": [
    "df['length']=df['length'].astype(int)"
   ]
  },
  {
   "cell_type": "code",
   "execution_count": 5,
   "metadata": {},
   "outputs": [],
   "source": [
    "df.loc[df['site'] == '아고다','agoda'] = 1\n",
    "df.loc[df['site'] != '아고다','agoda'] = 0\n",
    "df.loc[df['site'] == '야놀자','yanolja'] = 1\n",
    "df.loc[df['site'] != '야놀자','yanolja'] = 0"
   ]
  },
  {
   "cell_type": "code",
   "execution_count": 6,
   "metadata": {},
   "outputs": [
    {
     "data": {
      "text/html": [
       "<div>\n",
       "<style scoped>\n",
       "    .dataframe tbody tr th:only-of-type {\n",
       "        vertical-align: middle;\n",
       "    }\n",
       "\n",
       "    .dataframe tbody tr th {\n",
       "        vertical-align: top;\n",
       "    }\n",
       "\n",
       "    .dataframe thead th {\n",
       "        text-align: right;\n",
       "    }\n",
       "</style>\n",
       "<table border=\"1\" class=\"dataframe\">\n",
       "  <thead>\n",
       "    <tr style=\"text-align: right;\">\n",
       "      <th></th>\n",
       "      <th>site</th>\n",
       "      <th>hotel</th>\n",
       "      <th>score</th>\n",
       "      <th>review</th>\n",
       "      <th>date</th>\n",
       "      <th>star</th>\n",
       "      <th>length</th>\n",
       "      <th>review_spell_check</th>\n",
       "      <th>helpful</th>\n",
       "      <th>attitude</th>\n",
       "      <th>위치</th>\n",
       "      <th>시설</th>\n",
       "      <th>인테리어</th>\n",
       "      <th>청결</th>\n",
       "      <th>친절</th>\n",
       "      <th>방음</th>\n",
       "      <th>agoda</th>\n",
       "      <th>yanolja</th>\n",
       "    </tr>\n",
       "  </thead>\n",
       "  <tbody>\n",
       "    <tr>\n",
       "      <th>0</th>\n",
       "      <td>아고다</td>\n",
       "      <td>나인트리 프리미어 명동2</td>\n",
       "      <td>10.0</td>\n",
       "      <td>뷰 좋고 위치 좋고 깨끗하고 최고 입니다</td>\n",
       "      <td>NaN</td>\n",
       "      <td>NaN</td>\n",
       "      <td>21</td>\n",
       "      <td>뷰 좋고 위치 좋고 깨끗하고 최고입니다</td>\n",
       "      <td>1</td>\n",
       "      <td>2</td>\n",
       "      <td>1</td>\n",
       "      <td>0</td>\n",
       "      <td>0</td>\n",
       "      <td>0</td>\n",
       "      <td>0</td>\n",
       "      <td>0</td>\n",
       "      <td>1.0</td>\n",
       "      <td>0.0</td>\n",
       "    </tr>\n",
       "    <tr>\n",
       "      <th>1</th>\n",
       "      <td>아고다</td>\n",
       "      <td>신라스테이 광화문</td>\n",
       "      <td>10.0</td>\n",
       "      <td>위치 시설 모두 좋아요</td>\n",
       "      <td>NaN</td>\n",
       "      <td>NaN</td>\n",
       "      <td>12</td>\n",
       "      <td>위치 시설 모두 좋아요</td>\n",
       "      <td>0</td>\n",
       "      <td>2</td>\n",
       "      <td>1</td>\n",
       "      <td>1</td>\n",
       "      <td>0</td>\n",
       "      <td>0</td>\n",
       "      <td>0</td>\n",
       "      <td>0</td>\n",
       "      <td>1.0</td>\n",
       "      <td>0.0</td>\n",
       "    </tr>\n",
       "    <tr>\n",
       "      <th>2</th>\n",
       "      <td>아고다</td>\n",
       "      <td>신라스테이 광화문</td>\n",
       "      <td>2.0</td>\n",
       "      <td>침대에 빨래 먼지로 보이는 먼지가 이불침대 시트 모두에 한가득이었습니다  청소 상태...</td>\n",
       "      <td>NaN</td>\n",
       "      <td>NaN</td>\n",
       "      <td>68</td>\n",
       "      <td>침대에 빨래 먼지로 보이는 먼지가 이불 침대 시트 모두에 한가득이었습니다  청소 상...</td>\n",
       "      <td>1</td>\n",
       "      <td>0</td>\n",
       "      <td>0</td>\n",
       "      <td>0</td>\n",
       "      <td>0</td>\n",
       "      <td>1</td>\n",
       "      <td>0</td>\n",
       "      <td>0</td>\n",
       "      <td>1.0</td>\n",
       "      <td>0.0</td>\n",
       "    </tr>\n",
       "    <tr>\n",
       "      <th>3</th>\n",
       "      <td>아고다</td>\n",
       "      <td>신라스테이 광화문</td>\n",
       "      <td>8.8</td>\n",
       "      <td>위치 시설 서비스 모두 다 만족합니다</td>\n",
       "      <td>NaN</td>\n",
       "      <td>NaN</td>\n",
       "      <td>20</td>\n",
       "      <td>위치 시설 서비스 모두 다 만족합니다</td>\n",
       "      <td>0</td>\n",
       "      <td>2</td>\n",
       "      <td>1</td>\n",
       "      <td>1</td>\n",
       "      <td>0</td>\n",
       "      <td>0</td>\n",
       "      <td>0</td>\n",
       "      <td>0</td>\n",
       "      <td>1.0</td>\n",
       "      <td>0.0</td>\n",
       "    </tr>\n",
       "    <tr>\n",
       "      <th>4</th>\n",
       "      <td>아고다</td>\n",
       "      <td>신라스테이 광화문</td>\n",
       "      <td>8.0</td>\n",
       "      <td>주변에 식사장소도 많고 볼 곳도 많아서 좋습니다다만 주말에는 집회가 근처에서 많아 ...</td>\n",
       "      <td>NaN</td>\n",
       "      <td>NaN</td>\n",
       "      <td>60</td>\n",
       "      <td>주변에 식사 장소도 많고 볼 곳도 많아서 좋습니다 다만 주말에는 집회가 근처에서 많...</td>\n",
       "      <td>1</td>\n",
       "      <td>1</td>\n",
       "      <td>1</td>\n",
       "      <td>0</td>\n",
       "      <td>0</td>\n",
       "      <td>0</td>\n",
       "      <td>0</td>\n",
       "      <td>1</td>\n",
       "      <td>1.0</td>\n",
       "      <td>0.0</td>\n",
       "    </tr>\n",
       "  </tbody>\n",
       "</table>\n",
       "</div>"
      ],
      "text/plain": [
       "  site          hotel  score  \\\n",
       "0  아고다  나인트리 프리미어 명동2   10.0   \n",
       "1  아고다      신라스테이 광화문   10.0   \n",
       "2  아고다      신라스테이 광화문    2.0   \n",
       "3  아고다      신라스테이 광화문    8.8   \n",
       "4  아고다      신라스테이 광화문    8.0   \n",
       "\n",
       "                                              review date  star  length  \\\n",
       "0                             뷰 좋고 위치 좋고 깨끗하고 최고 입니다  NaN   NaN      21   \n",
       "1                                       위치 시설 모두 좋아요  NaN   NaN      12   \n",
       "2  침대에 빨래 먼지로 보이는 먼지가 이불침대 시트 모두에 한가득이었습니다  청소 상태...  NaN   NaN      68   \n",
       "3                               위치 시설 서비스 모두 다 만족합니다  NaN   NaN      20   \n",
       "4  주변에 식사장소도 많고 볼 곳도 많아서 좋습니다다만 주말에는 집회가 근처에서 많아 ...  NaN   NaN      60   \n",
       "\n",
       "                                  review_spell_check  helpful  attitude  위치  \\\n",
       "0                              뷰 좋고 위치 좋고 깨끗하고 최고입니다        1         2   1   \n",
       "1                                       위치 시설 모두 좋아요        0         2   1   \n",
       "2  침대에 빨래 먼지로 보이는 먼지가 이불 침대 시트 모두에 한가득이었습니다  청소 상...        1         0   0   \n",
       "3                               위치 시설 서비스 모두 다 만족합니다        0         2   1   \n",
       "4  주변에 식사 장소도 많고 볼 곳도 많아서 좋습니다 다만 주말에는 집회가 근처에서 많...        1         1   1   \n",
       "\n",
       "   시설  인테리어  청결  친절  방음  agoda  yanolja  \n",
       "0   0     0   0   0   0    1.0      0.0  \n",
       "1   1     0   0   0   0    1.0      0.0  \n",
       "2   0     0   1   0   0    1.0      0.0  \n",
       "3   1     0   0   0   0    1.0      0.0  \n",
       "4   0     0   0   0   1    1.0      0.0  "
      ]
     },
     "execution_count": 6,
     "metadata": {},
     "output_type": "execute_result"
    }
   ],
   "source": [
    "df.head(5)"
   ]
  },
  {
   "cell_type": "markdown",
   "metadata": {},
   "source": [
    "## mecab 단어 원형 추출"
   ]
  },
  {
   "cell_type": "code",
   "execution_count": 7,
   "metadata": {},
   "outputs": [
    {
     "data": {
      "text/plain": [
       "46"
      ]
     },
     "execution_count": 7,
     "metadata": {},
     "output_type": "execute_result"
    }
   ],
   "source": [
    "stop_words = ['나','여기','무엇','그것','가','긋','가본','제','저','저희','그거','브','우리','그','큐티','쏘','슈','어디','뭐','자기','놀자','이곳','임','요방','너','그곳','거기','니티','노','이쪽','저기','호텔','곳','점','앞','시','원분','스로','도','대','플','기','그제','넥','딩','놀']\n",
    "#stop_words = []\n",
    "len(stop_words)"
   ]
  },
  {
   "cell_type": "code",
   "execution_count": 8,
   "metadata": {},
   "outputs": [],
   "source": [
    "def getNVM_lemma(text):\n",
    "    tokenizer = MeCab.Tagger()\n",
    "    parsed = tokenizer.parse(text)\n",
    "    #print(parsed)\n",
    "    word_tag = [w for w in parsed.split(\"\\n\")] \n",
    "    pos = []\n",
    "    tags = [\"NNG\", \"NNP\",\"VV\",\"VA\",\"VCP\",'VCN','XR']\n",
    "   \n",
    "    for word_ in word_tag[:-2]:\n",
    "        word = word_.split('\\t') #['아버지', 'NNG,*,F,아버지,*,*,*,*']\n",
    "        tag = word[1].split(\",\")  #['EC', '*', 'F', '는다', '*', '*', '*', '*']\n",
    "        if('+' in tag[0]): #단어가 여러 형태소로 구성된 경우\n",
    "            if ('VV' in tag[0] or 'VA' in tag[0] or 'VX' in tag[0]):\n",
    "                t = tag[-1].split('/')[0]\n",
    "                if t not in stop_words:\n",
    "                    pos.append(t)\n",
    "        elif ((tag[0] in tags) and (word[0] not in stop_words)):\n",
    "            pos.append(word[0])\n",
    "    return pos"
   ]
  },
  {
   "cell_type": "markdown",
   "metadata": {},
   "source": [
    "## tfidf, count Vecotr"
   ]
  },
  {
   "cell_type": "code",
   "execution_count": 116,
   "metadata": {},
   "outputs": [],
   "source": [
    "from sklearn.feature_extraction.text import TfidfVectorizer, CountVectorizer"
   ]
  },
  {
   "cell_type": "code",
   "execution_count": 214,
   "metadata": {},
   "outputs": [],
   "source": [
    "tfidf = TfidfVectorizer(ngram_range=(1,2),tokenizer = getNVM_lemma, preprocessor = None, lowercase = False)\n",
    "cv = CountVectorizer(ngram_range=(1,2),tokenizer = getNVM_lemma, preprocessor = None, lowercase = False)\n",
    "tdm_tfidf = tfidf.fit_transform(df['review_spell_check'].values.astype('U'))\n",
    "tdm_cv= cv.fit_transform(df['review_spell_check'].values.astype('U'))\n",
    "#LSA"
   ]
  },
  {
   "cell_type": "markdown",
   "metadata": {},
   "source": [
    "## 훈련, 테스트 데이터 나누기"
   ]
  },
  {
   "cell_type": "code",
   "execution_count": 215,
   "metadata": {},
   "outputs": [],
   "source": [
    "from sklearn.model_selection import train_test_split"
   ]
  },
  {
   "cell_type": "markdown",
   "metadata": {},
   "source": [
    "### X (feature)"
   ]
  },
  {
   "cell_type": "code",
   "execution_count": 189,
   "metadata": {},
   "outputs": [],
   "source": [
    "x_tf = tdm_tfidf.toarray()\n",
    "x_tf_len = []\n",
    "for i in range(len(x_tf)):\n",
    "    a = x_tf[i]\n",
    "    #print(a,len(a))\n",
    "    a = np.append(a,np.log(df['length'][i]+1)) # 길이 컬럼 추가\n",
    "    a = np.append(a,df['agoda'][i]) # 아고다 컬럼 추가\n",
    "    a = np.append(a,df['yanolja'][i]) # 야놀자 컬럼 추가\n",
    "    #a = np.append(a,np.log(df['length'][i]+1))\n",
    "    #a = np.append(a, df['위치'][i])\n",
    "    #a = np.append(a, df['시설'][i])\n",
    "    #a = np.append(a, df['인테리어'][i])\n",
    "    #a = np.append(a, df['청결'][i])\n",
    "    #a = np.append(a, df['친절'][i])\n",
    "    #a = np.append(a, df['방음'][i])\n",
    "    #a = np.append(a, df['attitude'][i])\n",
    "    #print(a,len(a))\n",
    "    x_tf_len.append(a)"
   ]
  },
  {
   "cell_type": "code",
   "execution_count": 216,
   "metadata": {},
   "outputs": [],
   "source": [
    "x_cv = tdm_cv.toarray() # TDM (countvector) 추가\n",
    "x_cv_len = []\n",
    "for i in range(len(x_cv)):\n",
    "    a = x_cv[i]\n",
    "    #print(a,len(a))\n",
    "    a = np.append(a,np.log(df['length'][i]+1)) # 길이 컬럼 추가\n",
    "    a = np.append(a,df['agoda'][i]) # 아고다 컬럼 추가\n",
    "    a = np.append(a,df['yanolja'][i]) # 야놀자 컬럼 추가\n",
    "    a = np.append(a, df['위치'][i])\n",
    "    a = np.append(a, df['시설'][i])\n",
    "    a = np.append(a, df['인테리어'][i])\n",
    "    a = np.append(a, df['청결'][i])\n",
    "    a = np.append(a, df['친절'][i])\n",
    "    a = np.append(a, df['방음'][i])\n",
    "\n",
    "    #print(a,len(a))\n",
    "    x_cv_len.append(a)"
   ]
  },
  {
   "cell_type": "code",
   "execution_count": 31,
   "metadata": {},
   "outputs": [
    {
     "data": {
      "text/plain": [
       "2553"
      ]
     },
     "execution_count": 31,
     "metadata": {},
     "output_type": "execute_result"
    }
   ],
   "source": [
    "len(x_cv_len[0])"
   ]
  },
  {
   "cell_type": "markdown",
   "metadata": {},
   "source": [
    "### y (target)"
   ]
  },
  {
   "cell_type": "code",
   "execution_count": 217,
   "metadata": {},
   "outputs": [],
   "source": [
    "y = df['helpful']"
   ]
  },
  {
   "cell_type": "markdown",
   "metadata": {},
   "source": [
    "### train, test split"
   ]
  },
  {
   "cell_type": "code",
   "execution_count": 218,
   "metadata": {},
   "outputs": [],
   "source": [
    "# len 추가\n",
    "#x1_train, x1_test, y1_train, y1_test = train_test_split(x_tfidf_len, y, test_size=0.2, random_state=42)\n",
    "x_train, x_test, y_train, y_test = train_test_split(x_cv_len, y, test_size=0.2, random_state=42)\n",
    "x2_train, x2_test, y2_train, y2_test = train_test_split(x_tf_len, y, test_size=0.2, random_state=42)"
   ]
  },
  {
   "cell_type": "markdown",
   "metadata": {},
   "source": [
    "### 정규화"
   ]
  },
  {
   "cell_type": "code",
   "execution_count": 706,
   "metadata": {},
   "outputs": [],
   "source": [
    "# 정규화 한게 정확도 더 낮음 -> 그래서 안씀\n",
    "from sklearn.preprocessing import StandardScaler\n",
    "\n",
    "sc = StandardScaler()\n",
    "x2_train_std = sc.fit_transform(x2_train)\n",
    "x2_test_std = sc.fit_transform(x2_test)"
   ]
  },
  {
   "cell_type": "markdown",
   "metadata": {},
   "source": [
    "## LogisticRegression"
   ]
  },
  {
   "cell_type": "code",
   "execution_count": 36,
   "metadata": {},
   "outputs": [],
   "source": [
    "from sklearn.linear_model import LogisticRegression\n",
    "from sklearn.metrics import accuracy_score, confusion_matrix\n",
    "from sklearn.metrics import precision_score\n",
    "from sklearn.model_selection import cross_val_score\n",
    "from sklearn.model_selection import KFold"
   ]
  },
  {
   "cell_type": "code",
   "execution_count": 193,
   "metadata": {},
   "outputs": [
    {
     "data": {
      "text/plain": [
       "0.8402489626556017"
      ]
     },
     "execution_count": 193,
     "metadata": {},
     "output_type": "execute_result"
    }
   ],
   "source": [
    "# cv가 더 높음\n",
    "clf2 = LogisticRegression(random_state = 42 \n",
    "                          , C=0.1\n",
    "                          , max_iter = 100\n",
    "                         ).fit(x2_train,y2_train)\n",
    "pred2 = clf2.predict(x_test)\n",
    "accuracy_score(y2_test, pred2)"
   ]
  },
  {
   "cell_type": "code",
   "execution_count": 219,
   "metadata": {},
   "outputs": [
    {
     "data": {
      "text/plain": [
       "0.8568464730290456"
      ]
     },
     "execution_count": 219,
     "metadata": {},
     "output_type": "execute_result"
    }
   ],
   "source": [
    "# cv가 더 높음\n",
    "clf = LogisticRegression(random_state = 42 \n",
    "                          , C=0.1\n",
    "                          , max_iter = 100\n",
    "                         ).fit(x_train,y_train)\n",
    "pred = clf.predict(x_test)\n",
    "accuracy_score(y_test, pred)"
   ]
  },
  {
   "cell_type": "markdown",
   "metadata": {},
   "source": [
    "파라미터 조정\n",
    "\n",
    "1. 파라미터 없을때 -> 0.81\n",
    "2. C(cost function) 추가: 크면, 훈련 복잡 & 작으면 훈련 덜 복잡 -> 과대 적합 혹은 과소적합 문제 해결 \n",
    " - 100: 0.78 (떨어져버림)\n",
    " - 0.2: 0.82\n",
    " - 0.1: 0.84 \n",
    " - 0.01: 0.83\n",
    " - 0.001: 0.83\n",
    " - 0.0001: 0.68\n",
    " "
   ]
  },
  {
   "cell_type": "markdown",
   "metadata": {},
   "source": [
    "## 확률로 뽑기"
   ]
  },
  {
   "cell_type": "code",
   "execution_count": 220,
   "metadata": {},
   "outputs": [
    {
     "name": "stdout",
     "output_type": "stream",
     "text": [
      "482\n",
      "2\n"
     ]
    }
   ],
   "source": [
    "proba = clf.predict_proba(x_test)\n",
    "print(len(proba))\n",
    "print(len(proba[0]))"
   ]
  },
  {
   "cell_type": "markdown",
   "metadata": {},
   "source": [
    "### 실제 값과 예측 확률 비교"
   ]
  },
  {
   "cell_type": "code",
   "execution_count": 55,
   "metadata": {},
   "outputs": [
    {
     "data": {
      "text/html": [
       "<div>\n",
       "<style scoped>\n",
       "    .dataframe tbody tr th:only-of-type {\n",
       "        vertical-align: middle;\n",
       "    }\n",
       "\n",
       "    .dataframe tbody tr th {\n",
       "        vertical-align: top;\n",
       "    }\n",
       "\n",
       "    .dataframe thead th {\n",
       "        text-align: right;\n",
       "    }\n",
       "</style>\n",
       "<table border=\"1\" class=\"dataframe\">\n",
       "  <thead>\n",
       "    <tr style=\"text-align: right;\">\n",
       "      <th></th>\n",
       "      <th>예측</th>\n",
       "      <th>실제</th>\n",
       "    </tr>\n",
       "  </thead>\n",
       "  <tbody>\n",
       "    <tr>\n",
       "      <th>2009</th>\n",
       "      <td>0.69</td>\n",
       "      <td>1</td>\n",
       "    </tr>\n",
       "    <tr>\n",
       "      <th>2082</th>\n",
       "      <td>0.17</td>\n",
       "      <td>0</td>\n",
       "    </tr>\n",
       "    <tr>\n",
       "      <th>1684</th>\n",
       "      <td>0.30</td>\n",
       "      <td>1</td>\n",
       "    </tr>\n",
       "    <tr>\n",
       "      <th>2301</th>\n",
       "      <td>0.63</td>\n",
       "      <td>0</td>\n",
       "    </tr>\n",
       "    <tr>\n",
       "      <th>792</th>\n",
       "      <td>1.00</td>\n",
       "      <td>1</td>\n",
       "    </tr>\n",
       "  </tbody>\n",
       "</table>\n",
       "</div>"
      ],
      "text/plain": [
       "        예측  실제\n",
       "2009  0.69   1\n",
       "2082  0.17   0\n",
       "1684  0.30   1\n",
       "2301  0.63   0\n",
       "792   1.00   1"
      ]
     },
     "execution_count": 55,
     "metadata": {},
     "output_type": "execute_result"
    }
   ],
   "source": [
    "p_list = []\n",
    "for p in proba:\n",
    "    p_list.append(p[1])\n",
    "p_list=np.round(p_list,2)\n",
    "data=pd.DataFrame({\n",
    "    '예측':p_list,\n",
    "    '실제':y_test})\n",
    "data.head()"
   ]
  },
  {
   "cell_type": "code",
   "execution_count": 971,
   "metadata": {},
   "outputs": [],
   "source": [
    "# 예측이랑 전체 데이터랑 merge\n",
    "#data.merge(df, left_index=True, right_index=True, how='left').to_excel('data/scatterplot.xlsx',index = False)"
   ]
  },
  {
   "cell_type": "code",
   "execution_count": 57,
   "metadata": {},
   "outputs": [
    {
     "data": {
      "text/html": [
       "<div>\n",
       "<style scoped>\n",
       "    .dataframe tbody tr th:only-of-type {\n",
       "        vertical-align: middle;\n",
       "    }\n",
       "\n",
       "    .dataframe tbody tr th {\n",
       "        vertical-align: top;\n",
       "    }\n",
       "\n",
       "    .dataframe thead th {\n",
       "        text-align: right;\n",
       "    }\n",
       "</style>\n",
       "<table border=\"1\" class=\"dataframe\">\n",
       "  <thead>\n",
       "    <tr style=\"text-align: right;\">\n",
       "      <th></th>\n",
       "      <th>예측</th>\n",
       "      <th>실제</th>\n",
       "      <th>site</th>\n",
       "      <th>hotel</th>\n",
       "      <th>score</th>\n",
       "      <th>review</th>\n",
       "      <th>date</th>\n",
       "      <th>star</th>\n",
       "      <th>length</th>\n",
       "      <th>review_spell_check</th>\n",
       "      <th>helpful</th>\n",
       "      <th>attitude</th>\n",
       "      <th>위치</th>\n",
       "      <th>시설</th>\n",
       "      <th>인테리어</th>\n",
       "      <th>청결</th>\n",
       "      <th>친절</th>\n",
       "      <th>방음</th>\n",
       "      <th>agoda</th>\n",
       "      <th>yanolja</th>\n",
       "    </tr>\n",
       "  </thead>\n",
       "  <tbody>\n",
       "    <tr>\n",
       "      <th>2009</th>\n",
       "      <td>0.69</td>\n",
       "      <td>1</td>\n",
       "      <td>야놀자</td>\n",
       "      <td>신라스테이 광화문</td>\n",
       "      <td>10.0</td>\n",
       "      <td>위치적으로 접근하기 좋았고 청결도와 직원 서비스가 깔끔해서 다시 가도 좋겠다 생각했습니다</td>\n",
       "      <td>2020. 04. 01</td>\n",
       "      <td>5.0</td>\n",
       "      <td>50</td>\n",
       "      <td>위치적으로 접근하기 좋았고 청결 도와 직원 서비스가 깔끔해서 다시 가도 좋겠다 생각...</td>\n",
       "      <td>1</td>\n",
       "      <td>2</td>\n",
       "      <td>1</td>\n",
       "      <td>0</td>\n",
       "      <td>0</td>\n",
       "      <td>1</td>\n",
       "      <td>1</td>\n",
       "      <td>0</td>\n",
       "      <td>0.0</td>\n",
       "      <td>1.0</td>\n",
       "    </tr>\n",
       "    <tr>\n",
       "      <th>2082</th>\n",
       "      <td>0.17</td>\n",
       "      <td>0</td>\n",
       "      <td>야놀자</td>\n",
       "      <td>신라스테이 광화문</td>\n",
       "      <td>10.0</td>\n",
       "      <td>좋습니다 역시 호텔임</td>\n",
       "      <td>2020. 10. 05</td>\n",
       "      <td>5.0</td>\n",
       "      <td>11</td>\n",
       "      <td>좋습니다 역시 호텔임</td>\n",
       "      <td>0</td>\n",
       "      <td>2</td>\n",
       "      <td>0</td>\n",
       "      <td>0</td>\n",
       "      <td>0</td>\n",
       "      <td>0</td>\n",
       "      <td>0</td>\n",
       "      <td>0</td>\n",
       "      <td>0.0</td>\n",
       "      <td>1.0</td>\n",
       "    </tr>\n",
       "    <tr>\n",
       "      <th>1684</th>\n",
       "      <td>0.30</td>\n",
       "      <td>1</td>\n",
       "      <td>야놀자</td>\n",
       "      <td>롯데 호텔 서울</td>\n",
       "      <td>8.0</td>\n",
       "      <td>정말 좋았습니다 다만 지금 공사기간입니다 나머지는 더할나위 없었네요</td>\n",
       "      <td>2018. 08. 04</td>\n",
       "      <td>4.0</td>\n",
       "      <td>38</td>\n",
       "      <td>정말 좋았습니다 다만 지금 공사기간입니다 나머지는 더할 나위 없었네요</td>\n",
       "      <td>1</td>\n",
       "      <td>1</td>\n",
       "      <td>0</td>\n",
       "      <td>0</td>\n",
       "      <td>0</td>\n",
       "      <td>0</td>\n",
       "      <td>0</td>\n",
       "      <td>0</td>\n",
       "      <td>0.0</td>\n",
       "      <td>1.0</td>\n",
       "    </tr>\n",
       "    <tr>\n",
       "      <th>2301</th>\n",
       "      <td>0.63</td>\n",
       "      <td>0</td>\n",
       "      <td>야놀자</td>\n",
       "      <td>신라스테이 광화문</td>\n",
       "      <td>8.0</td>\n",
       "      <td>깨끗하고 편의시설도 주변에 많고 친절하고 좋았어요 다음이 또 이용하겠습니다</td>\n",
       "      <td>2018-08-24 00:00:00</td>\n",
       "      <td>4.0</td>\n",
       "      <td>41</td>\n",
       "      <td>깨끗하고 편의시설도 주변에 많고 친절하고 좋았어요 다음이 또 이용하겠습니다</td>\n",
       "      <td>0</td>\n",
       "      <td>2</td>\n",
       "      <td>0</td>\n",
       "      <td>1</td>\n",
       "      <td>0</td>\n",
       "      <td>1</td>\n",
       "      <td>1</td>\n",
       "      <td>0</td>\n",
       "      <td>0.0</td>\n",
       "      <td>1.0</td>\n",
       "    </tr>\n",
       "    <tr>\n",
       "      <th>792</th>\n",
       "      <td>1.00</td>\n",
       "      <td>1</td>\n",
       "      <td>야놀자</td>\n",
       "      <td>그랜드 워커힐 서울</td>\n",
       "      <td>8.0</td>\n",
       "      <td>말로만 듣던 5성급 모든시설과 서비스 등 최고 청결도나 방음 좋다 뷰는 리버뷰이긴 ...</td>\n",
       "      <td>2019. 09. 23</td>\n",
       "      <td>4.0</td>\n",
       "      <td>237</td>\n",
       "      <td>말로만 듣던 5성급 모든 시설과 서비스 등 최고 청결도 나 방음 좋다 뷰는 리버뷰이...</td>\n",
       "      <td>1</td>\n",
       "      <td>0</td>\n",
       "      <td>0</td>\n",
       "      <td>1</td>\n",
       "      <td>0</td>\n",
       "      <td>1</td>\n",
       "      <td>0</td>\n",
       "      <td>1</td>\n",
       "      <td>0.0</td>\n",
       "      <td>1.0</td>\n",
       "    </tr>\n",
       "  </tbody>\n",
       "</table>\n",
       "</div>"
      ],
      "text/plain": [
       "        예측  실제 site       hotel  score  \\\n",
       "2009  0.69   1  야놀자   신라스테이 광화문   10.0   \n",
       "2082  0.17   0  야놀자   신라스테이 광화문   10.0   \n",
       "1684  0.30   1  야놀자    롯데 호텔 서울    8.0   \n",
       "2301  0.63   0  야놀자   신라스테이 광화문    8.0   \n",
       "792   1.00   1  야놀자  그랜드 워커힐 서울    8.0   \n",
       "\n",
       "                                                 review                 date  \\\n",
       "2009  위치적으로 접근하기 좋았고 청결도와 직원 서비스가 깔끔해서 다시 가도 좋겠다 생각했습니다         2020. 04. 01   \n",
       "2082                                        좋습니다 역시 호텔임         2020. 10. 05   \n",
       "1684              정말 좋았습니다 다만 지금 공사기간입니다 나머지는 더할나위 없었네요         2018. 08. 04   \n",
       "2301          깨끗하고 편의시설도 주변에 많고 친절하고 좋았어요 다음이 또 이용하겠습니다  2018-08-24 00:00:00   \n",
       "792   말로만 듣던 5성급 모든시설과 서비스 등 최고 청결도나 방음 좋다 뷰는 리버뷰이긴 ...         2019. 09. 23   \n",
       "\n",
       "      star  length                                 review_spell_check  \\\n",
       "2009   5.0      50  위치적으로 접근하기 좋았고 청결 도와 직원 서비스가 깔끔해서 다시 가도 좋겠다 생각...   \n",
       "2082   5.0      11                                        좋습니다 역시 호텔임   \n",
       "1684   4.0      38             정말 좋았습니다 다만 지금 공사기간입니다 나머지는 더할 나위 없었네요   \n",
       "2301   4.0      41          깨끗하고 편의시설도 주변에 많고 친절하고 좋았어요 다음이 또 이용하겠습니다   \n",
       "792    4.0     237  말로만 듣던 5성급 모든 시설과 서비스 등 최고 청결도 나 방음 좋다 뷰는 리버뷰이...   \n",
       "\n",
       "      helpful  attitude  위치  시설  인테리어  청결  친절  방음  agoda  yanolja  \n",
       "2009        1         2   1   0     0   1   1   0    0.0      1.0  \n",
       "2082        0         2   0   0     0   0   0   0    0.0      1.0  \n",
       "1684        1         1   0   0     0   0   0   0    0.0      1.0  \n",
       "2301        0         2   0   1     0   1   1   0    0.0      1.0  \n",
       "792         1         0   0   1     0   1   0   1    0.0      1.0  "
      ]
     },
     "execution_count": 57,
     "metadata": {},
     "output_type": "execute_result"
    }
   ],
   "source": [
    "# 전체 데이터랑 붙여주기 \n",
    "result = data.merge(df, left_index=True, right_index=True, how='left')\n",
    "result.head()"
   ]
  },
  {
   "cell_type": "markdown",
   "metadata": {},
   "source": [
    "### helpful 상위 50개 중 카테고리 빈도수 "
   ]
  },
  {
   "cell_type": "code",
   "execution_count": 58,
   "metadata": {},
   "outputs": [],
   "source": [
    "top50=result.sort_values(['예측'],ascending=False).head(50)"
   ]
  },
  {
   "cell_type": "code",
   "execution_count": 59,
   "metadata": {},
   "outputs": [
    {
     "data": {
      "text/html": [
       "<div>\n",
       "<style scoped>\n",
       "    .dataframe tbody tr th:only-of-type {\n",
       "        vertical-align: middle;\n",
       "    }\n",
       "\n",
       "    .dataframe tbody tr th {\n",
       "        vertical-align: top;\n",
       "    }\n",
       "\n",
       "    .dataframe thead th {\n",
       "        text-align: right;\n",
       "    }\n",
       "</style>\n",
       "<table border=\"1\" class=\"dataframe\">\n",
       "  <thead>\n",
       "    <tr style=\"text-align: right;\">\n",
       "      <th></th>\n",
       "      <th>위치</th>\n",
       "      <th>시설</th>\n",
       "      <th>인테리어</th>\n",
       "      <th>청결</th>\n",
       "      <th>친절</th>\n",
       "      <th>방음</th>\n",
       "    </tr>\n",
       "  </thead>\n",
       "  <tbody>\n",
       "    <tr>\n",
       "      <th>sum</th>\n",
       "      <td>121</td>\n",
       "      <td>87</td>\n",
       "      <td>35</td>\n",
       "      <td>172</td>\n",
       "      <td>91</td>\n",
       "      <td>18</td>\n",
       "    </tr>\n",
       "    <tr>\n",
       "      <th>count</th>\n",
       "      <td>482</td>\n",
       "      <td>482</td>\n",
       "      <td>482</td>\n",
       "      <td>482</td>\n",
       "      <td>482</td>\n",
       "      <td>482</td>\n",
       "    </tr>\n",
       "  </tbody>\n",
       "</table>\n",
       "</div>"
      ],
      "text/plain": [
       "        위치   시설  인테리어   청결   친절   방음\n",
       "sum    121   87    35  172   91   18\n",
       "count  482  482   482  482  482  482"
      ]
     },
     "execution_count": 59,
     "metadata": {},
     "output_type": "execute_result"
    }
   ],
   "source": [
    "result[['위치','시설','인테리어','청결','친절','방음']].agg(['sum','count'])"
   ]
  },
  {
   "cell_type": "code",
   "execution_count": 1001,
   "metadata": {},
   "outputs": [
    {
     "data": {
      "text/plain": [
       "0.1037344398340249"
      ]
     },
     "execution_count": 1001,
     "metadata": {},
     "output_type": "execute_result"
    }
   ],
   "source": [
    "50/482"
   ]
  },
  {
   "cell_type": "markdown",
   "metadata": {},
   "source": [
    "## Confusion Matrix (성능 측정)\n",
    "\n",
    "[예측,실제]\n",
    "\n",
    "- TN (True Negative) [False, False] (정답)\n",
    "- FN (False Negative) [False, True] (오답)\n",
    "- FP (False Positive) [True, False] (오답)\n",
    "- TP (True Posivie) [True, True] (정답)"
   ]
  },
  {
   "cell_type": "code",
   "execution_count": 221,
   "metadata": {},
   "outputs": [
    {
     "data": {
      "text/plain": [
       "array([[258,  27],\n",
       "       [ 42, 155]])"
      ]
     },
     "execution_count": 221,
     "metadata": {},
     "output_type": "execute_result"
    }
   ],
   "source": [
    "# confusion matrix\n",
    "confusion_matrix(y_test,pred)"
   ]
  },
  {
   "cell_type": "code",
   "execution_count": 222,
   "metadata": {},
   "outputs": [
    {
     "name": "stdout",
     "output_type": "stream",
     "text": [
      "258 27 42 155\n"
     ]
    }
   ],
   "source": [
    "TN,FP,FN,TP=confusion_matrix(y_test,pred).ravel()\n",
    "print(TN,FP,FN,TP)"
   ]
  },
  {
   "cell_type": "markdown",
   "metadata": {},
   "source": [
    "### 정확도"
   ]
  },
  {
   "cell_type": "code",
   "execution_count": 223,
   "metadata": {},
   "outputs": [
    {
     "name": "stdout",
     "output_type": "stream",
     "text": [
      "정확도:  0.8568464730290456\n",
      "정밀도:  0.8516483516483516\n"
     ]
    }
   ],
   "source": [
    "print('정확도: ',accuracy_score(y_test,pred))\n",
    "print('정밀도: ',precision_score(y_test,pred))"
   ]
  },
  {
   "cell_type": "code",
   "execution_count": 143,
   "metadata": {},
   "outputs": [
    {
     "name": "stdout",
     "output_type": "stream",
     "text": [
      "0.8526970954356846\n",
      "0.8526970954356846\n"
     ]
    }
   ],
   "source": [
    "# 직접 계산\n",
    "print((TN + TP) / (TN +FN +FP +TP))\n",
    "# 함수 계산\n",
    "print(accuracy_score(y_test,pred))"
   ]
  },
  {
   "cell_type": "markdown",
   "metadata": {},
   "source": [
    "### 정밀도"
   ]
  },
  {
   "cell_type": "code",
   "execution_count": 144,
   "metadata": {},
   "outputs": [
    {
     "name": "stdout",
     "output_type": "stream",
     "text": [
      "0.85\n",
      "0.85\n"
     ]
    }
   ],
   "source": [
    "# 직접 계산\n",
    "print(TP /(TP+FP))\n",
    "# 함수 계산\n",
    "print(precision_score(y_test,pred))"
   ]
  },
  {
   "cell_type": "markdown",
   "metadata": {},
   "source": [
    "### 정밀도 높이기!!!\n",
    "\n",
    "우리는 상위 리뷰에 unhelpful 리뷰가 포함되지 않는게 중요하기 때문에,  \n",
    "정확도가 떨어지더라도 정밀도를 높이는 것이 중요하다 (FP 값 줄이기)\n",
    "\n",
    "문턱값을 0.5에서 높여서 정밀도를 향상시킨다"
   ]
  },
  {
   "cell_type": "code",
   "execution_count": 224,
   "metadata": {},
   "outputs": [],
   "source": [
    "prediction1 = np.where(proba >= 0.7,1,0)\n",
    "pred1_7 = []\n",
    "for i in prediction1:\n",
    "    pred1_7.append(i[1])"
   ]
  },
  {
   "cell_type": "code",
   "execution_count": 225,
   "metadata": {},
   "outputs": [
    {
     "data": {
      "text/plain": [
       "array([[275,  10],\n",
       "       [ 70, 127]])"
      ]
     },
     "execution_count": 225,
     "metadata": {},
     "output_type": "execute_result"
    }
   ],
   "source": [
    "# confusion matrix\n",
    "confusion_matrix(y_test,pred1_7)"
   ]
  },
  {
   "cell_type": "code",
   "execution_count": 226,
   "metadata": {},
   "outputs": [
    {
     "name": "stdout",
     "output_type": "stream",
     "text": [
      "275 10 70 127\n"
     ]
    }
   ],
   "source": [
    "TN,FP,FN,TP=confusion_matrix(y_test,pred1_7).ravel()\n",
    "print(TN,FP,FN,TP)"
   ]
  },
  {
   "cell_type": "markdown",
   "metadata": {},
   "source": [
    "FP - 27개에서 6개로 감소 (helpful 리뷰가 아닌데, helpful 리뷰라고 잘못 예측)  \n",
    "FN - 41개에서 104개로 증가 (helpful 리뷰인데, helpful 리뷰 아니라고 잘못 예측)"
   ]
  },
  {
   "cell_type": "markdown",
   "metadata": {},
   "source": [
    "### 정확도, 정밀도"
   ]
  },
  {
   "cell_type": "code",
   "execution_count": 227,
   "metadata": {},
   "outputs": [
    {
     "name": "stdout",
     "output_type": "stream",
     "text": [
      "정확도:  0.8340248962655602\n",
      "정밀도:  0.927007299270073\n"
     ]
    }
   ],
   "source": [
    "print('정확도: ',accuracy_score(y_test,pred1_7))\n",
    "print('정밀도: ',precision_score(y_test,pred1_7))"
   ]
  },
  {
   "cell_type": "markdown",
   "metadata": {},
   "source": [
    "정확도가 85 에서 77으로 감소했지만, 정밀도 올리는 것이 목표이므로 문턱값을 0.7로 조정해준다."
   ]
  },
  {
   "cell_type": "markdown",
   "metadata": {},
   "source": [
    "## 교차검증해보기"
   ]
  },
  {
   "cell_type": "code",
   "execution_count": 72,
   "metadata": {},
   "outputs": [
    {
     "name": "stdout",
     "output_type": "stream",
     "text": [
      "[0.87564767 0.8134715  0.88601036 0.84455959 0.84974093 0.84455959\n",
      " 0.80829016 0.89583333 0.86979167 0.84895833]\n",
      "0.8536863126079448\n"
     ]
    }
   ],
   "source": [
    "kfold = KFold(n_splits=10, shuffle=True)\n",
    "model =  LogisticRegression(random_state=42, C=0.1)\n",
    "scores = cross_val_score(model,x_train,y_train, cv=kfold)\n",
    "print(scores)\n",
    "print(scores.mean())"
   ]
  },
  {
   "cell_type": "code",
   "execution_count": 108,
   "metadata": {},
   "outputs": [],
   "source": [
    "from sklearn.metrics import f1_score"
   ]
  },
  {
   "cell_type": "code",
   "execution_count": 109,
   "metadata": {},
   "outputs": [
    {
     "data": {
      "text/plain": [
       "0.8191489361702128"
      ]
     },
     "execution_count": 109,
     "metadata": {},
     "output_type": "execute_result"
    }
   ],
   "source": [
    "f1_score(y_test, pred)"
   ]
  },
  {
   "cell_type": "code",
   "execution_count": 110,
   "metadata": {},
   "outputs": [
    {
     "data": {
      "text/plain": [
       "0.6283783783783785"
      ]
     },
     "execution_count": 110,
     "metadata": {},
     "output_type": "execute_result"
    }
   ],
   "source": [
    "f1_score(y_test, pred1_7)"
   ]
  },
  {
   "cell_type": "code",
   "execution_count": null,
   "metadata": {},
   "outputs": [],
   "source": []
  }
 ],
 "metadata": {
  "kernelspec": {
   "display_name": "Python 3",
   "language": "python",
   "name": "python3"
  },
  "language_info": {
   "codemirror_mode": {
    "name": "ipython",
    "version": 3
   },
   "file_extension": ".py",
   "mimetype": "text/x-python",
   "name": "python",
   "nbconvert_exporter": "python",
   "pygments_lexer": "ipython3",
   "version": "3.8.3"
  },
  "toc": {
   "base_numbering": 1,
   "nav_menu": {},
   "number_sections": true,
   "sideBar": true,
   "skip_h1_title": false,
   "title_cell": "Table of Contents",
   "title_sidebar": "Contents",
   "toc_cell": false,
   "toc_position": {},
   "toc_section_display": true,
   "toc_window_display": false
  }
 },
 "nbformat": 4,
 "nbformat_minor": 4
}
